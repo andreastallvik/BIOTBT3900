{
 "cells": [
  {
   "cell_type": "markdown",
   "metadata": {},
   "source": [
    "Notebook used to retrieve some simple network analysis metrics."
   ]
  },
  {
   "cell_type": "code",
   "execution_count": 1,
   "metadata": {},
   "outputs": [],
   "source": [
    "import matplotlib.pyplot as plt\n",
    "import pandas as pd\n",
    "import networkx as nx\n",
    "import itertools as it\n",
    "from collections import Counter\n",
    "from pyvis.network import Network\n",
    "\n",
    "def organism_co_occurance(data: pd.DataFrame, filename: str, genus_level: bool = True):\n",
    "    \"\"\"Creates co-occurance graph for organisms, either at species of genus (default) level.\"\"\"\n",
    "\n",
    "    df = data.copy()\n",
    "\n",
    "    #read data from file and crate datastructures in lists\n",
    "    nodes = []\n",
    "    edges = []\n",
    "\n",
    "    #iterate over the rows of the dataframe\n",
    "    for index, row in df.iterrows():\n",
    "\n",
    "        #get lists of organisms\n",
    "        organisms = row[\"Organisms\"].split(\", \")\n",
    "\n",
    "        if genus_level:\n",
    "            #taking the first word to get the genus instead of the organisms\n",
    "            genuses = [organism.split(' ')[0] for organism in organisms]\n",
    "            organisms = genuses\n",
    "\n",
    "        #get a list of each edge\n",
    "        co_occurrences = list(it.combinations(organisms, 2))\n",
    "\n",
    "        #add all the organisms the the node list\n",
    "        nodes.extend(organisms)\n",
    "\n",
    "        #add all the egdes to the global edge list\n",
    "        edges.extend(co_occurrences)\n",
    "\n",
    "        #add a self-loop if there is only a single organism listed\n",
    "        if len(organisms) == 1:\n",
    "            edges.append((organisms[0], organisms[0]))\n",
    "\n",
    "    #build network\n",
    "    coOccurrenceNetwork = nx.Graph()\n",
    "\n",
    "    #add nodes w/ size\n",
    "    for node in nodes:\n",
    "        s = 5 + nodes.count(node)\n",
    "        coOccurrenceNetwork.add_node(node, size = s)\n",
    "\n",
    "    #add edges w/weights\n",
    "    edge_counts = Counter(edges)\n",
    "    for e in edge_counts:\n",
    "        u = e[0]\n",
    "        v = e[1]\n",
    "        c = edge_counts[e]\n",
    "        coOccurrenceNetwork.add_edge(u, v, weight = c)\n",
    "\n",
    "    return coOccurrenceNetwork"
   ]
  },
  {
   "cell_type": "code",
   "execution_count": 2,
   "metadata": {},
   "outputs": [],
   "source": [
    "data = pd.read_csv(\"defined_articles.csv\")\n",
    "\n",
    "graph = organism_co_occurance(data, \"co-occurrence\")"
   ]
  },
  {
   "cell_type": "code",
   "execution_count": 3,
   "metadata": {},
   "outputs": [
    {
     "name": "stdout",
     "output_type": "stream",
     "text": [
      "The number of nodes is 64\n",
      "The number of edges are 76\n"
     ]
    }
   ],
   "source": [
    "print(\"The number of nodes is \" + str(len(graph.nodes)))\n",
    "print(\"The number of edges are \" + str(len(graph.edges)))"
   ]
  },
  {
   "cell_type": "code",
   "execution_count": 4,
   "metadata": {},
   "outputs": [
    {
     "name": "stdout",
     "output_type": "stream",
     "text": [
      "1: Escherichia and Escherichia have 15 interactions.\n",
      "2: Clostridium and Clostridium have 9 interactions.\n",
      "3: Escherichia and Trichoderma have 2 interactions.\n"
     ]
    }
   ],
   "source": [
    "discardableNetwork = graph.copy()\n",
    "\n",
    "for i in range(3):\n",
    "    maxEdge = max(dict(discardableNetwork.edges).items(), key=lambda x: x[1][\"weight\"])\n",
    "    message = str(i+1) + \": \" + str(maxEdge[0][0]) + \" and \" + str(maxEdge[0][1]) + \" have \" + str(maxEdge[1].get(('weight'))) + \" interactions.\"\n",
    "    print(message)\n",
    "    discardableNetwork.remove_edge(maxEdge[0][0], maxEdge[0][1])\n",
    "    i+=1"
   ]
  },
  {
   "cell_type": "code",
   "execution_count": 9,
   "metadata": {},
   "outputs": [
    {
     "name": "stdout",
     "output_type": "stream",
     "text": [
      "The six nodes with the largest betweenness centrality are: ['Escherichia', 'Clostridium', 'Pseudomonas', 'Bacillus', 'Trichoderma', 'Saccharomyces']\n",
      "The six nodes with the largest closeness centrality are: ['Escherichia', 'Trichoderma', 'Clostridium', 'Saccharomyces', 'Eubacterium', 'Megasphaera']\n",
      "The six nodes with the largest degree are: ['Clostridium', 'Escherichia', 'Trichoderma', 'Saccharomyces', 'Bacillus', 'Aspergillus']\n",
      "The six nodes with the largest clustering are: ['Massilibacterium', 'Cercospora', 'Penicillium', 'Veillonella', 'Anaeromyces', 'Neocallimastix']\n"
     ]
    }
   ],
   "source": [
    "#dictionaries with nodes as keys and the parameters as values\n",
    "BC = nx.betweenness_centrality(graph)\n",
    "CC = nx.closeness_centrality(graph)\n",
    "degrees = {node:val for (node, val) in graph.degree()}\n",
    "clustering = nx.clustering(graph)\n",
    "\n",
    "def find_5_max(dict, title):\n",
    "    fiveMax = sorted(dict, key=dict.get, reverse=True)[:6]\n",
    "    print(\"The six nodes with the largest \" + title + \" are: \" + str(fiveMax))\n",
    "\n",
    "find_5_max(BC, \"betweenness centrality\")\n",
    "find_5_max(CC, \"closeness centrality\")\n",
    "find_5_max(degrees, \"degree\")\n",
    "find_5_max(clustering, \"clustering\")"
   ]
  },
  {
   "cell_type": "markdown",
   "metadata": {},
   "source": [
    "Degree is the most relevant metric here, since the other 3 are concerned with the overall network architechure - which is not very relevant in this case than the sheer number of connections."
   ]
  },
  {
   "cell_type": "code",
   "execution_count": 7,
   "metadata": {},
   "outputs": [
    {
     "name": "stdout",
     "output_type": "stream",
     "text": [
      "Clostridium has a degree of 17\n",
      "Escherichia has a degree of 10\n",
      "Trichoderma has a degree of 7\n",
      "Saccharomyces has a degree of 6\n",
      "Bacillus has a degree of 6\n",
      "Aspergillus has a degree of 5\n",
      "Megasphaera has a degree of 4\n",
      "Lysinibacillus has a degree of 4\n"
     ]
    }
   ],
   "source": [
    "bac = ['Clostridium', 'Escherichia', 'Trichoderma', 'Saccharomyces', 'Bacillus', 'Aspergillus']\n",
    "for b in bac:\n",
    "    print(b + \" has a degree of \" + str(degrees[b]))"
   ]
  },
  {
   "cell_type": "code",
   "execution_count": null,
   "metadata": {},
   "outputs": [],
   "source": []
  }
 ],
 "metadata": {
  "kernelspec": {
   "display_name": "venv",
   "language": "python",
   "name": "python3"
  },
  "language_info": {
   "codemirror_mode": {
    "name": "ipython",
    "version": 3
   },
   "file_extension": ".py",
   "mimetype": "text/x-python",
   "name": "python",
   "nbconvert_exporter": "python",
   "pygments_lexer": "ipython3",
   "version": "3.10.7"
  }
 },
 "nbformat": 4,
 "nbformat_minor": 2
}
