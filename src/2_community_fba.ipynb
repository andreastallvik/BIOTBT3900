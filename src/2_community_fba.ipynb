{
 "cells": [
  {
   "attachments": {},
   "cell_type": "markdown",
   "id": "4ef35842",
   "metadata": {},
   "source": [
    "# Introduction to Community Modeling\n",
    "\n",
    "Author: Daniel Machado, NTNU\n",
    "\n",
    "License: [CC BY-SA 4.0](http://creativecommons.org/licenses/by-sa/4.0/)\n",
    "\n",
    "-------\n",
    "\n",
    "In this tutorial:\n",
    "\n",
    "- You will learn how to perform flux balance analysis of microbial communities\n",
    "using a model of the [central carbon metabolism of *E. coli*](https://journals.asm.org/doi/10.1128/ecosalplus.10.2.1).\n",
    "\n",
    "- You will use the [ReFramed](https://github.com/cdanielmachado/reframed) python library for metabolic modeling. "
   ]
  },
  {
   "attachments": {},
   "cell_type": "markdown",
   "id": "edff9572",
   "metadata": {},
   "source": [
    "## Step 1: Setting up a community\n",
    "\n",
    "We will create a synthetic microbial consortium with two *E. coli* mutants growing in minimal medium. In one of the mutants we will knockout the glucose transporter and in the other we will knockout the ammonium transporter.\n",
    "\n",
    "![synthetic community](../files/synthetic_community.png)"
   ]
  },
  {
   "attachments": {},
   "cell_type": "markdown",
   "id": "b5e4fe7b",
   "metadata": {},
   "source": [
    "As usual, we start by loading the model for the wild-type:"
   ]
  },
  {
   "cell_type": "code",
   "execution_count": 1,
   "id": "4fd366fe",
   "metadata": {},
   "outputs": [],
   "source": [
    "from reframed import load_cbmodel\n",
    "wildtype = load_cbmodel('GEMs/e_coli_core.xml')"
   ]
  },
  {
   "attachments": {},
   "cell_type": "markdown",
   "id": "d4c64668",
   "metadata": {},
   "source": [
    "Now we create our two mutants (`glc_ko` and `nh4_ko`):"
   ]
  },
  {
   "cell_type": "code",
   "execution_count": 2,
   "id": "196680b4",
   "metadata": {},
   "outputs": [],
   "source": [
    "glc_ko = wildtype.copy()\n",
    "glc_ko.id = 'glc_ko'\n",
    "glc_ko.set_flux_bounds('R_GLCpts', 0, 0)\n",
    "\n",
    "nh4_ko = wildtype.copy()\n",
    "nh4_ko.id = 'nh4_ko'\n",
    "nh4_ko.set_flux_bounds('R_NH4t', 0, 0)"
   ]
  },
  {
   "attachments": {},
   "cell_type": "markdown",
   "id": "949323a8",
   "metadata": {},
   "source": [
    "**ReFramed** has some basic functionality for working with microbial communities, one is the `Community` class to create microbial communities from a list of models of individual species: "
   ]
  },
  {
   "cell_type": "code",
   "execution_count": 3,
   "id": "91e413e9",
   "metadata": {},
   "outputs": [],
   "source": [
    "from reframed import Community\n",
    "community = Community('ecoli_pair', [glc_ko, nh4_ko])"
   ]
  },
  {
   "attachments": {},
   "cell_type": "markdown",
   "id": "a9cef7fa",
   "metadata": {},
   "source": [
    "This community model ignores the environmental conditions that were specified in the original models (since these could be very different). \n",
    "\n",
    "To make our life easier, we will extract the nutrient composition specified in the wild-type model to use later."
   ]
  },
  {
   "cell_type": "code",
   "execution_count": 4,
   "id": "ce86dddd",
   "metadata": {},
   "outputs": [
    {
     "name": "stdout",
     "output_type": "stream",
     "text": [
      "Environment compounds: co2, glc__D, h, h2o, nh4, o2, pi\n"
     ]
    }
   ],
   "source": [
    "from reframed import Environment\n",
    "\n",
    "M9 = Environment.from_model(wildtype)\n",
    "\n",
    "print(f\"Environment compounds: {', '.join(M9.get_compounds())}\")"
   ]
  },
  {
   "attachments": {},
   "cell_type": "markdown",
   "id": "a4829b00",
   "metadata": {},
   "source": [
    "## Step 2: Simulation using (conventional) FBA\n",
    "\n",
    "A very simple way to simulate a microbial community is to merge the individual models into a single model that mimics a \"super organism\", where each microbe lives inside its own compartment, and run a (conventional) FBA simulation for this *super organism*."
   ]
  },
  {
   "cell_type": "code",
   "execution_count": 5,
   "id": "d6bf03b6",
   "metadata": {},
   "outputs": [
    {
     "name": "stdout",
     "output_type": "stream",
     "text": [
      "Objective: 0.831195550185812\n",
      "Status: Optimal\n",
      "\n",
      "R_EX_glc__D_e -10\n",
      "R_EX_h2o_e    30.6828\n",
      "R_EX_h_e      16.6738\n",
      "R_EX_nh4_e   -4.53234\n",
      "R_EX_o2_e    -23.6671\n",
      "R_EX_pi_e    -3.05772\n",
      "R_EX_co2_e    24.6281\n"
     ]
    }
   ],
   "source": [
    "from reframed import FBA\n",
    "\n",
    "super_oganism = community.merged_model\n",
    "solution = FBA(super_oganism, constraints=M9)\n",
    "\n",
    "print(solution)\n",
    "solution.show_values(pattern='R_EX')"
   ]
  },
  {
   "attachments": {},
   "cell_type": "markdown",
   "id": "704355a9",
   "metadata": {},
   "source": [
    "We can see that the model predicts a growth rate (total biomass per hour) similar to the wild-type, with an efficient consumption of glucose and ammonia that results in respiratory metabolism.\n",
    "\n",
    "But what is each organism doing, and are both organisms actually growing at the same rate?\n",
    "\n",
    "Let's print the (non-zero) fluxes for each organism:"
   ]
  },
  {
   "cell_type": "code",
   "execution_count": 6,
   "id": "2d758d23",
   "metadata": {},
   "outputs": [
    {
     "name": "stdout",
     "output_type": "stream",
     "text": [
      "R_ALCD2x_glc_ko -12.1508\n",
      "R_ETOHt2r_glc_ko -12.1508\n",
      "R_CO2t_glc_ko -9.06469\n",
      "R_GLUDy_glc_ko -4.53234\n",
      "R_GLUt2r_glc_ko -4.53234\n",
      "R_SUCOAS_glc_ko -4.53234\n",
      "R_PTAr_glc_ko -1.44622\n",
      "R_ACKr_glc_ko  1.44622\n",
      "R_ACt2r_glc_ko  1.44622\n",
      "R_O2t_glc_ko  2.26617\n",
      "R_ACALD_glc_ko  3.08613\n",
      "R_H2Ot_glc_ko  3.08613\n",
      "R_ACONTa_glc_ko  4.53234\n",
      "R_ACONTb_glc_ko  4.53234\n",
      "R_AKGDH_glc_ko  4.53234\n",
      "R_AKGt2r_glc_ko  4.53234\n",
      "R_CS_glc_ko   4.53234\n",
      "R_CYTBD_glc_ko  4.53234\n",
      "R_FUM_glc_ko  4.53234\n",
      "R_ICDHyr_glc_ko  4.53234\n",
      "R_MDH_glc_ko  4.53234\n",
      "R_NH4t_glc_ko  4.53234\n",
      "R_SUCDi_glc_ko  4.53234\n",
      "R_ATPS4r_glc_ko  5.30387\n",
      "R_ATPM_glc_ko  8.39\n",
      "R_ACALDt_glc_ko  15.2369\n"
     ]
    }
   ],
   "source": [
    "solution.show_values(pattern='_glc_ko', sort=True)"
   ]
  },
  {
   "cell_type": "code",
   "execution_count": 7,
   "id": "c131b0f4",
   "metadata": {},
   "outputs": [
    {
     "name": "stdout",
     "output_type": "stream",
     "text": [
      "R_H2Ot_nh4_ko -33.7689\n",
      "R_PGK_nh4_ko -16.4135\n",
      "R_CO2t_nh4_ko -15.5634\n",
      "R_ACALDt_nh4_ko -15.2369\n",
      "R_PGM_nh4_ko -15.17\n",
      "R_AKGt2r_nh4_ko -4.53234\n",
      "R_ACALD_nh4_ko -3.08613\n",
      "R_RPI_nh4_ko -1.9744\n",
      "R_SUCOAS_nh4_ko -1.45779\n",
      "R_ACKr_nh4_ko -1.44622\n",
      "R_ACt2r_nh4_ko -1.44622\n",
      "R_GLNS_nh4_ko  0.212537\n",
      "R_GLUDy_nh4_ko  0.212537\n",
      "R_BIOMASS_Ecoli_core_w_GAM_nh4_ko  0.831196\n",
      "R_TKT2_nh4_ko  0.928175\n",
      "R_TALA_nh4_ko  1.22824\n",
      "R_TKT1_nh4_ko  1.22824\n",
      "R_PTAr_nh4_ko  1.44622\n",
      "R_AKGDH_nh4_ko  1.45779\n",
      "R_FUM_nh4_ko  1.45779\n",
      "R_MDH_nh4_ko  1.45779\n",
      "R_SUCDi_nh4_ko  1.45779\n",
      "R_RPE_nh4_ko  2.15641\n",
      "R_ACONTa_nh4_ko  2.35457\n",
      "R_ACONTb_nh4_ko  2.35457\n",
      "R_CS_nh4_ko   2.35457\n",
      "R_ICDHyr_nh4_ko  2.35457\n",
      "R_PYK_nh4_ko  2.35668\n",
      "R_PPC_nh4_ko  2.38187\n",
      "R_PIt2r_nh4_ko  3.05772\n",
      "R_G6PDH2r_nh4_ko  4.13081\n",
      "R_GND_nh4_ko  4.13081\n",
      "R_PGL_nh4_ko  4.13081\n",
      "R_GLUt2r_nh4_ko  4.53234\n",
      "R_PGI_nh4_ko  5.69879\n",
      "R_FBA_nh4_ko  7.79627\n",
      "R_PFK_nh4_ko  7.79627\n",
      "R_TPI_nh4_ko  7.79627\n",
      "R_ATPM_nh4_ko  8.39\n",
      "R_GLCpts_nh4_ko  10\n",
      "R_PDH_nh4_ko  10.0021\n",
      "R_ALCD2x_nh4_ko  12.1508\n",
      "R_ETOHt2r_nh4_ko  12.1508\n",
      "R_ENO_nh4_ko  15.17\n",
      "R_GAPD_nh4_ko  16.4135\n",
      "R_O2t_nh4_ko  21.4009\n",
      "R_NADH16_nh4_ko  41.3441\n",
      "R_CYTBD_nh4_ko  42.8019\n",
      "R_ATPS4r_nh4_ko  44.4384\n"
     ]
    }
   ],
   "source": [
    "solution.show_values(pattern='_nh4_ko', sort=True)"
   ]
  },
  {
   "attachments": {},
   "cell_type": "markdown",
   "id": "3110d63f",
   "metadata": {},
   "source": [
    "Actually it seems that only one of the organisms is growing while the other has an active metabolism (it exchanges metabolites with the environment and with the other organism) performing the role of a bioconverter, but none of the flux is used for growth. \n",
    "\n",
    "> Do you think this would be a stable consortium ?"
   ]
  },
  {
   "attachments": {},
   "cell_type": "markdown",
   "id": "aa01712c",
   "metadata": {},
   "source": [
    "# Step 2.5: production envelope"
   ]
  },
  {
   "cell_type": "code",
   "execution_count": 8,
   "id": "e5d9962d",
   "metadata": {},
   "outputs": [
    {
     "name": "stderr",
     "output_type": "stream",
     "text": [
      "/Users/andreastallvik/Projects/BIOTBT3900/venv/lib/python3.10/site-packages/numpy/core/function_base.py:151: RuntimeWarning: invalid value encountered in multiply\n",
      "  y *= step\n"
     ]
    },
    {
     "ename": "CplexSolverError",
     "evalue": "CPLEX Error  1225: Numeric entry is not a double precision number (NaN).",
     "output_type": "error",
     "traceback": [
      "\u001b[0;31m---------------------------------------------------------------------------\u001b[0m",
      "\u001b[0;31mCplexSolverError\u001b[0m                          Traceback (most recent call last)",
      "\u001b[1;32m/Users/andreastallvik/Projects/BIOTBT3900/src/2_community_fba.ipynb Cell 18\u001b[0m in \u001b[0;36m5\n\u001b[1;32m      <a href='vscode-notebook-cell:/Users/andreastallvik/Projects/BIOTBT3900/src/2_community_fba.ipynb#X44sZmlsZQ%3D%3D?line=0'>1</a>\u001b[0m \u001b[39mfrom\u001b[39;00m \u001b[39mreframed\u001b[39;00m \u001b[39mimport\u001b[39;00m plot_flux_envelope\n\u001b[1;32m      <a href='vscode-notebook-cell:/Users/andreastallvik/Projects/BIOTBT3900/src/2_community_fba.ipynb#X44sZmlsZQ%3D%3D?line=2'>3</a>\u001b[0m super_oganism\u001b[39m.\u001b[39mreactions\u001b[39m.\u001b[39mR_EX_o2_e\u001b[39m.\u001b[39mlb \u001b[39m=\u001b[39m \u001b[39m0\u001b[39m\n\u001b[0;32m----> <a href='vscode-notebook-cell:/Users/andreastallvik/Projects/BIOTBT3900/src/2_community_fba.ipynb#X44sZmlsZQ%3D%3D?line=4'>5</a>\u001b[0m plot_flux_envelope(super_oganism, super_oganism\u001b[39m.\u001b[39;49mbiomass_reaction, \u001b[39m'\u001b[39;49m\u001b[39mR_EX_succ_e\u001b[39;49m\u001b[39m'\u001b[39;49m)\n",
      "File \u001b[0;32m~/Projects/BIOTBT3900/venv/lib/python3.10/site-packages/reframed/cobra/plotting.py:79\u001b[0m, in \u001b[0;36mplot_flux_envelope\u001b[0;34m(model, r_x, r_y, steps, substrate, constraints, label_x, label_y, flip_x, flip_y, plot_kwargs, fill_kwargs, ax)\u001b[0m\n\u001b[1;32m     76\u001b[0m \u001b[39mif\u001b[39;00m \u001b[39mnot\u001b[39;00m fill_kwargs:\n\u001b[1;32m     77\u001b[0m     fill_kwargs \u001b[39m=\u001b[39m {\u001b[39m'\u001b[39m\u001b[39mcolor\u001b[39m\u001b[39m'\u001b[39m: \u001b[39m'\u001b[39m\u001b[39mk\u001b[39m\u001b[39m'\u001b[39m, \u001b[39m'\u001b[39m\u001b[39malpha\u001b[39m\u001b[39m'\u001b[39m: \u001b[39m0.1\u001b[39m}\n\u001b[0;32m---> 79\u001b[0m xvals, ymins, ymaxs \u001b[39m=\u001b[39m flux_envelope(model, r_x, r_y, steps, constraints)\n\u001b[1;32m     81\u001b[0m \u001b[39mif\u001b[39;00m flip_x:\n\u001b[1;32m     82\u001b[0m     xvals, ymins, ymaxs \u001b[39m=\u001b[39m \u001b[39m-\u001b[39mxvals, ymins[::\u001b[39m-\u001b[39m\u001b[39m1\u001b[39m], ymaxs[::\u001b[39m-\u001b[39m\u001b[39m1\u001b[39m]\n",
      "File \u001b[0;32m~/Projects/BIOTBT3900/venv/lib/python3.10/site-packages/reframed/cobra/plotting.py:33\u001b[0m, in \u001b[0;36mflux_envelope\u001b[0;34m(model, r_x, r_y, steps, constraints)\u001b[0m\n\u001b[1;32m     31\u001b[0m \u001b[39mfor\u001b[39;00m i, xval \u001b[39min\u001b[39;00m \u001b[39menumerate\u001b[39m(xvals):\n\u001b[1;32m     32\u001b[0m     _constraints[r_x] \u001b[39m=\u001b[39m xval\n\u001b[0;32m---> 33\u001b[0m     y_range \u001b[39m=\u001b[39m FVA(model, reactions\u001b[39m=\u001b[39;49m[r_y], constraints\u001b[39m=\u001b[39;49m_constraints)\n\u001b[1;32m     34\u001b[0m     ymins[i], ymaxs[i] \u001b[39m=\u001b[39m y_range[r_y]\n\u001b[1;32m     36\u001b[0m \u001b[39mreturn\u001b[39;00m xvals, ymins, ymaxs\n",
      "File \u001b[0;32m~/Projects/BIOTBT3900/venv/lib/python3.10/site-packages/reframed/cobra/variability.py:47\u001b[0m, in \u001b[0;36mFVA\u001b[0;34m(model, obj_frac, reactions, constraints, loopless, internal, solver)\u001b[0m\n\u001b[1;32m     44\u001b[0m     solution \u001b[39m=\u001b[39m llFBA(model, r_id, \u001b[39mTrue\u001b[39;00m, constraints\u001b[39m=\u001b[39m_constraints, internal\u001b[39m=\u001b[39minternal,\n\u001b[1;32m     45\u001b[0m                      solver\u001b[39m=\u001b[39msolver, get_values\u001b[39m=\u001b[39m\u001b[39mFalse\u001b[39;00m)\n\u001b[1;32m     46\u001b[0m \u001b[39melse\u001b[39;00m:\n\u001b[0;32m---> 47\u001b[0m     solution \u001b[39m=\u001b[39m FBA(model, r_id, \u001b[39mTrue\u001b[39;49;00m, constraints\u001b[39m=\u001b[39;49m_constraints, solver\u001b[39m=\u001b[39;49msolver, get_values\u001b[39m=\u001b[39;49m\u001b[39mFalse\u001b[39;49;00m)\n\u001b[1;32m     49\u001b[0m \u001b[39mif\u001b[39;00m solution\u001b[39m.\u001b[39mstatus \u001b[39m==\u001b[39m Status\u001b[39m.\u001b[39mOPTIMAL:\n\u001b[1;32m     50\u001b[0m     variability[r_id][\u001b[39m0\u001b[39m] \u001b[39m=\u001b[39m solution\u001b[39m.\u001b[39mfobj\n",
      "File \u001b[0;32m~/Projects/BIOTBT3900/venv/lib/python3.10/site-packages/reframed/cobra/simulation.py:36\u001b[0m, in \u001b[0;36mFBA\u001b[0;34m(model, objective, minimize, constraints, solver, get_values, shadow_prices, reduced_costs)\u001b[0m\n\u001b[1;32m     33\u001b[0m \u001b[39mif\u001b[39;00m \u001b[39mnot\u001b[39;00m solver:\n\u001b[1;32m     34\u001b[0m     solver \u001b[39m=\u001b[39m solver_instance(model)\n\u001b[0;32m---> 36\u001b[0m solution \u001b[39m=\u001b[39m solver\u001b[39m.\u001b[39;49msolve(objective, minimize\u001b[39m=\u001b[39;49mminimize, constraints\u001b[39m=\u001b[39;49mconstraints, get_values\u001b[39m=\u001b[39;49mget_values,\n\u001b[1;32m     37\u001b[0m                         shadow_prices\u001b[39m=\u001b[39;49mshadow_prices, reduced_costs\u001b[39m=\u001b[39;49mreduced_costs)\n\u001b[1;32m     38\u001b[0m \u001b[39mreturn\u001b[39;00m solution\n",
      "File \u001b[0;32m~/Projects/BIOTBT3900/venv/lib/python3.10/site-packages/reframed/solvers/cplex_solver.py:321\u001b[0m, in \u001b[0;36mCplexSolver.solve\u001b[0;34m(self, linear, quadratic, minimize, model, constraints, get_values, shadow_prices, reduced_costs, pool_size, pool_gap, emphasis, timelimit)\u001b[0m\n\u001b[1;32m    318\u001b[0m problem \u001b[39m=\u001b[39m \u001b[39mself\u001b[39m\u001b[39m.\u001b[39mproblem\n\u001b[1;32m    320\u001b[0m \u001b[39mif\u001b[39;00m constraints:\n\u001b[0;32m--> 321\u001b[0m     changed_lb, changed_ub \u001b[39m=\u001b[39m \u001b[39mself\u001b[39;49m\u001b[39m.\u001b[39;49mtemporary_bounds(constraints)\n\u001b[1;32m    323\u001b[0m \u001b[39mself\u001b[39m\u001b[39m.\u001b[39mset_objective(linear, quadratic, minimize)\n\u001b[1;32m    325\u001b[0m \u001b[39m# run the optimization\u001b[39;00m\n",
      "File \u001b[0;32m~/Projects/BIOTBT3900/venv/lib/python3.10/site-packages/reframed/solvers/cplex_solver.py:414\u001b[0m, in \u001b[0;36mCplexSolver.temporary_bounds\u001b[0;34m(self, constraints)\u001b[0m\n\u001b[1;32m    412\u001b[0m     lb_new \u001b[39m=\u001b[39m _dict_diff(lower_bounds, \u001b[39mself\u001b[39m\u001b[39m.\u001b[39m_cached_lower_bounds)\n\u001b[1;32m    413\u001b[0m     \u001b[39mif\u001b[39;00m \u001b[39mlen\u001b[39m(lb_new) \u001b[39m>\u001b[39m \u001b[39m0\u001b[39m:\n\u001b[0;32m--> 414\u001b[0m         \u001b[39mself\u001b[39;49m\u001b[39m.\u001b[39;49mproblem\u001b[39m.\u001b[39;49mvariables\u001b[39m.\u001b[39;49mset_lower_bounds(lb_new)\n\u001b[1;32m    416\u001b[0m \u001b[39mif\u001b[39;00m upper_bounds \u001b[39m!=\u001b[39m \u001b[39mself\u001b[39m\u001b[39m.\u001b[39m_cached_upper_bounds:\n\u001b[1;32m    417\u001b[0m     ub_new \u001b[39m=\u001b[39m _dict_diff(upper_bounds, \u001b[39mself\u001b[39m\u001b[39m.\u001b[39m_cached_upper_bounds)\n",
      "File \u001b[0;32m~/Projects/BIOTBT3900/venv/lib/python3.10/site-packages/cplex/_internal/_subinterfaces.py:542\u001b[0m, in \u001b[0;36mVariablesInterface.set_lower_bounds\u001b[0;34m(self, *args)\u001b[0m\n\u001b[1;32m    540\u001b[0m \u001b[39mdef\u001b[39;00m \u001b[39msetlb\u001b[39m(a, b):\n\u001b[1;32m    541\u001b[0m     CPX_PROC\u001b[39m.\u001b[39mchgbds(\u001b[39mself\u001b[39m\u001b[39m.\u001b[39m_env\u001b[39m.\u001b[39m_e, \u001b[39mself\u001b[39m\u001b[39m.\u001b[39m_cplex\u001b[39m.\u001b[39m_lp, a, \u001b[39m\"\u001b[39m\u001b[39mL\u001b[39m\u001b[39m\"\u001b[39m \u001b[39m*\u001b[39m \u001b[39mlen\u001b[39m(a), b)\n\u001b[0;32m--> 542\u001b[0m apply_pairs(setlb, \u001b[39mself\u001b[39;49m\u001b[39m.\u001b[39;49m_conv, \u001b[39m*\u001b[39;49margs)\n",
      "File \u001b[0;32m~/Projects/BIOTBT3900/venv/lib/python3.10/site-packages/cplex/_internal/_aux_functions.py:192\u001b[0m, in \u001b[0;36mapply_pairs\u001b[0;34m(fn, conv, *args)\u001b[0m\n\u001b[1;32m    190\u001b[0m     \u001b[39m# NB: If pair is empty, then we do nothing.\u001b[39;00m\n\u001b[1;32m    191\u001b[0m     \u001b[39mif\u001b[39;00m pair:\n\u001b[0;32m--> 192\u001b[0m         fn(conv(pair[\u001b[39m0\u001b[39;49m]), \u001b[39mlist\u001b[39;49m(pair[\u001b[39m1\u001b[39;49m]))\n\u001b[1;32m    193\u001b[0m     \u001b[39mreturn\u001b[39;00m\n\u001b[1;32m    194\u001b[0m \u001b[39mraise\u001b[39;00m WrongNumberOfArgumentsError(nargs)\n",
      "File \u001b[0;32m~/Projects/BIOTBT3900/venv/lib/python3.10/site-packages/cplex/_internal/_subinterfaces.py:541\u001b[0m, in \u001b[0;36mVariablesInterface.set_lower_bounds.<locals>.setlb\u001b[0;34m(a, b)\u001b[0m\n\u001b[1;32m    540\u001b[0m \u001b[39mdef\u001b[39;00m \u001b[39msetlb\u001b[39m(a, b):\n\u001b[0;32m--> 541\u001b[0m     CPX_PROC\u001b[39m.\u001b[39;49mchgbds(\u001b[39mself\u001b[39;49m\u001b[39m.\u001b[39;49m_env\u001b[39m.\u001b[39;49m_e, \u001b[39mself\u001b[39;49m\u001b[39m.\u001b[39;49m_cplex\u001b[39m.\u001b[39;49m_lp, a, \u001b[39m\"\u001b[39;49m\u001b[39mL\u001b[39;49m\u001b[39m\"\u001b[39;49m \u001b[39m*\u001b[39;49m \u001b[39mlen\u001b[39;49m(a), b)\n",
      "File \u001b[0;32m~/Projects/BIOTBT3900/venv/lib/python3.10/site-packages/cplex/_internal/_procedural.py:1071\u001b[0m, in \u001b[0;36mchgbds\u001b[0;34m(env, lp, indices, lu, bd)\u001b[0m\n\u001b[1;32m   1067\u001b[0m \u001b[39mwith\u001b[39;00m LAU\u001b[39m.\u001b[39mint_c_array(indices) \u001b[39mas\u001b[39;00m c_ind, \\\n\u001b[1;32m   1068\u001b[0m         LAU\u001b[39m.\u001b[39mdouble_c_array(bd) \u001b[39mas\u001b[39;00m c_bd:\n\u001b[1;32m   1069\u001b[0m     status \u001b[39m=\u001b[39m CR\u001b[39m.\u001b[39mCPXXchgbds(env, lp, \u001b[39mlen\u001b[39m(indices),\n\u001b[1;32m   1070\u001b[0m                            c_ind, lu, c_bd)\n\u001b[0;32m-> 1071\u001b[0m check_status(env, status)\n",
      "File \u001b[0;32m~/Projects/BIOTBT3900/venv/lib/python3.10/site-packages/cplex/_internal/_procedural.py:249\u001b[0m, in \u001b[0;36mStatusChecker.__call__\u001b[0;34m(self, env, status, from_cb)\u001b[0m\n\u001b[1;32m    247\u001b[0m     \u001b[39melse\u001b[39;00m:\n\u001b[1;32m    248\u001b[0m         error_string \u001b[39m=\u001b[39m geterrorstring(env, status)\n\u001b[0;32m--> 249\u001b[0m \u001b[39mraise\u001b[39;00m CplexSolverError(error_string, env, status)\n",
      "\u001b[0;31mCplexSolverError\u001b[0m: CPLEX Error  1225: Numeric entry is not a double precision number (NaN)."
     ]
    },
    {
     "data": {
      "image/png": "[encoded data removed]",
      "text/plain": [
       "<Figure size 640x480 with 1 Axes>"
      ]
     },
     "metadata": {},
     "output_type": "display_data"
    }
   ],
   "source": [
    "from reframed import plot_flux_envelope\n",
    "\n",
    "super_oganism.reactions.R_EX_o2_e.lb = 0\n",
    "\n",
    "plot_flux_envelope(super_oganism, super_oganism.biomass_reaction, 'R_EX_succ_e')"
   ]
  },
  {
   "attachments": {},
   "cell_type": "markdown",
   "id": "f6aebbfb",
   "metadata": {},
   "source": [
    "## Step 3: Community Simulation with SteadyCom"
   ]
  },
  {
   "attachments": {},
   "cell_type": "markdown",
   "id": "7b47083e",
   "metadata": {},
   "source": [
    "**SteadyCom** by [Chan, et al (2017)](https://journals.plos.org/ploscompbiol/article?id=10.1371/journal.pcbi.1005539) is a recent community simulation method that takes into account the fact that to reach a stable composition the organisms need to grow at the same *specific growth rate* (1/h), which means that the *absolute growth rate* (gDW/h) of each organism is proportional to its *abundance* at steady-state (gDW).\n",
    "\n",
    "Let's simulate the same community using SteadyCom:"
   ]
  },
  {
   "cell_type": "code",
   "execution_count": 6,
   "id": "2214667c",
   "metadata": {},
   "outputs": [],
   "source": [
    "from reframed import SteadyCom\n",
    "solution = SteadyCom(community, constraints=M9)"
   ]
  },
  {
   "attachments": {},
   "cell_type": "markdown",
   "id": "6e02ca07",
   "metadata": {},
   "source": [
    "In this case the solution object shows the overall community growth rate and the relative abundance of each species:"
   ]
  },
  {
   "cell_type": "code",
   "execution_count": 7,
   "id": "9353ec4a",
   "metadata": {},
   "outputs": [
    {
     "name": "stdout",
     "output_type": "stream",
     "text": [
      "Community growth: 0.873046875\n",
      "glc_ko\t0.024884385078817017\n",
      "nh4_ko\t0.9751156149211829\n"
     ]
    }
   ],
   "source": [
    "print(solution)"
   ]
  },
  {
   "attachments": {},
   "cell_type": "markdown",
   "id": "86f91b4a",
   "metadata": {},
   "source": [
    "The `solution` object for community simulations implements a few additional features, such as enumerating all the cross-feeding interactions:"
   ]
  },
  {
   "cell_type": "code",
   "execution_count": null,
   "id": "e5b8887e",
   "metadata": {},
   "outputs": [],
   "source": [
    "solution.cross_feeding(as_df=True).dropna().sort_values('rate', ascending=False)"
   ]
  },
  {
   "attachments": {},
   "cell_type": "markdown",
   "id": "c61d9f30",
   "metadata": {},
   "source": [
    "We can plot the fluxes of each mutant in a map to help with interpretation of the results:"
   ]
  },
  {
   "cell_type": "code",
   "execution_count": null,
   "id": "26e96715",
   "metadata": {
    "scrolled": true
   },
   "outputs": [],
   "source": [
    "from reframed import fluxes2escher\n",
    "fluxes2escher(solution.internal['glc_ko'])"
   ]
  },
  {
   "cell_type": "code",
   "execution_count": null,
   "id": "433e35b3",
   "metadata": {},
   "outputs": [],
   "source": [
    "fluxes2escher(solution.internal['nh4_ko'])"
   ]
  },
  {
   "attachments": {},
   "cell_type": "markdown",
   "id": "676db548",
   "metadata": {},
   "source": [
    "**Exercise:** Look more closely at the compounds that are exchanged between the two mutants and also at their relative abundance. Is this what you expected? Do you think there could be different solutions?"
   ]
  },
  {
   "attachments": {},
   "cell_type": "markdown",
   "id": "9de7dc40",
   "metadata": {},
   "source": [
    "## Step 4: Explore alternative solutions\n",
    "\n",
    "Unfortunately, one limitation of **SteadyCom**, which is exemplified by [Chan, et al (2017)](https://journals.plos.org/ploscompbiol/article?id=10.1371/journal.pcbi.1005539) in Figure 3 (reproduced below), is the variability in the solution space when the community is not growing at the maximum (theoretical) growth rate.\n",
    "\n",
    "![variability](../files/steadycom_variability.png)\n",
    "\n",
    "> Would you expect a synthetic community to grow at its maximum growth rate?\n",
    "\n",
    "**ReFramed** implements a variability analysis function for the SteadyCom solution space, let's see what happens if the community is growing at 90% of the theoretical maximum:"
   ]
  },
  {
   "cell_type": "code",
   "execution_count": 1,
   "id": "215c90de",
   "metadata": {},
   "outputs": [
    {
     "ename": "NameError",
     "evalue": "name 'community' is not defined",
     "output_type": "error",
     "traceback": [
      "\u001b[0;31m---------------------------------------------------------------------------\u001b[0m",
      "\u001b[0;31mNameError\u001b[0m                                 Traceback (most recent call last)",
      "\u001b[1;32m/Users/andreastallvik/Projects/BIOTBT3900/src/2_community_fba.ipynb Cell 29\u001b[0m in \u001b[0;36m2\n\u001b[1;32m      <a href='vscode-notebook-cell:/Users/andreastallvik/Projects/BIOTBT3900/src/2_community_fba.ipynb#X40sZmlsZQ%3D%3D?line=0'>1</a>\u001b[0m \u001b[39mfrom\u001b[39;00m \u001b[39mreframed\u001b[39;00m \u001b[39mimport\u001b[39;00m SteadyComVA\n\u001b[0;32m----> <a href='vscode-notebook-cell:/Users/andreastallvik/Projects/BIOTBT3900/src/2_community_fba.ipynb#X40sZmlsZQ%3D%3D?line=1'>2</a>\u001b[0m variability \u001b[39m=\u001b[39m SteadyComVA(community, obj_frac\u001b[39m=\u001b[39m\u001b[39m0.9\u001b[39m, constraints\u001b[39m=\u001b[39mM9)\n\u001b[1;32m      <a href='vscode-notebook-cell:/Users/andreastallvik/Projects/BIOTBT3900/src/2_community_fba.ipynb#X40sZmlsZQ%3D%3D?line=3'>4</a>\u001b[0m \u001b[39mprint\u001b[39m(\u001b[39m'\u001b[39m\u001b[39mStrain\u001b[39m\u001b[39m\\t\u001b[39;00m\u001b[39mMin\u001b[39m\u001b[39m\\t\u001b[39;00m\u001b[39mMax\u001b[39m\u001b[39m'\u001b[39m)\n\u001b[1;32m      <a href='vscode-notebook-cell:/Users/andreastallvik/Projects/BIOTBT3900/src/2_community_fba.ipynb#X40sZmlsZQ%3D%3D?line=4'>5</a>\u001b[0m \u001b[39mfor\u001b[39;00m strain, (lower, upper) \u001b[39min\u001b[39;00m variability\u001b[39m.\u001b[39mitems():\n",
      "\u001b[0;31mNameError\u001b[0m: name 'community' is not defined"
     ]
    }
   ],
   "source": [
    "from reframed import SteadyComVA\n",
    "variability = SteadyComVA(community, obj_frac=0.9, constraints=M9)\n",
    "\n",
    "print('Strain\\tMin\\tMax')\n",
    "for strain, (lower, upper) in variability.items():\n",
    "    print(f'{strain}\\t{lower:.1%}\\t{upper:.1%}')"
   ]
  },
  {
   "attachments": {},
   "cell_type": "markdown",
   "id": "e2c8b384",
   "metadata": {},
   "source": [
    "As you can see, there is a really large variability in this solution space. This means that we know in theory the two mutants **can** cooperate and survive in minimal media, but there is still a lot of uncertainty with regard to **how** they will achieve a stable consortium.\n",
    "\n",
    "> How do you think we can reduce this uncertainty?"
   ]
  },
  {
   "cell_type": "code",
   "execution_count": null,
   "id": "34220805",
   "metadata": {},
   "outputs": [],
   "source": [
    "# Feel free to play around with these examples.\n",
    "# Type your own code here..."
   ]
  }
 ],
 "metadata": {
  "kernelspec": {
   "display_name": "Python 3 (ipykernel)",
   "language": "python",
   "name": "python3"
  },
  "language_info": {
   "codemirror_mode": {
    "name": "ipython",
    "version": 3
   },
   "file_extension": ".py",
   "mimetype": "text/x-python",
   "name": "python",
   "nbconvert_exporter": "python",
   "pygments_lexer": "ipython3",
   "version": "3.10.7"
  }
 },
 "nbformat": 4,
 "nbformat_minor": 5
}
