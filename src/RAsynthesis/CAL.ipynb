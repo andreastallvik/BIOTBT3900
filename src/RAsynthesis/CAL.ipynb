{
 "cells": [
  {
   "cell_type": "code",
   "execution_count": 33,
   "metadata": {},
   "outputs": [],
   "source": [
    "from cobra import Model, Reaction, Metabolite\n",
    "from cobra.io import read_sbml_model\n",
    "from energy_cycle import energy_generating_cycle_test\n",
    "\n",
    "# read model for E. coli K12\n",
    "k12 = read_sbml_model('../GEMs/iML1515.xml')"
   ]
  },
  {
   "attachments": {},
   "cell_type": "markdown",
   "metadata": {},
   "source": [
    "# CAL2 module"
   ]
  },
  {
   "cell_type": "code",
   "execution_count": 16,
   "metadata": {},
   "outputs": [],
   "source": [
    "CAL2 = k12.copy()"
   ]
  },
  {
   "attachments": {},
   "cell_type": "markdown",
   "metadata": {},
   "source": [
    "## Model assembly\n",
    "### Knock-outs"
   ]
  },
  {
   "cell_type": "code",
   "execution_count": 17,
   "metadata": {},
   "outputs": [
    {
     "data": {
      "text/plain": [
       "[<Reaction PPNDH at 0x12a6115a0>]"
      ]
     },
     "execution_count": 17,
     "metadata": {},
     "output_type": "execute_result"
    }
   ],
   "source": [
    "from cobra.manipulation import knock_out_model_genes\n",
    "\n",
    "# pheA | gene b2599\n",
    "knock_out_model_genes(CAL2, [\"b2599\"])"
   ]
  },
  {
   "attachments": {},
   "cell_type": "markdown",
   "metadata": {},
   "source": [
    "### Metabolites"
   ]
  },
  {
   "cell_type": "code",
   "execution_count": 18,
   "metadata": {},
   "outputs": [],
   "source": [
    "#L-arogenate\n",
    "Largn_c = Metabolite(\n",
    "    'Largn_c',\n",
    "    formula='C10H13NO5',\n",
    "    name='L-Arogenate',\n",
    "    compartment='c')\n",
    "\n",
    "#p-Coumaric acid\n",
    "coura_c = Metabolite(\n",
    "    'coura_c',\n",
    "    formula='C9H8O3',\n",
    "    name='p-Coumaric acid',\n",
    "    compartment='c')\n",
    "\n",
    "#caffeic acid\n",
    "caffa_c = Metabolite(\n",
    "    'caffa_c',\n",
    "    formula='C9H8O4',\n",
    "    name='Caffeic acid',\n",
    "    compartment='c')\n",
    "\n",
    "#external caffeic acid\n",
    "caffa_e = Metabolite(\n",
    "    'caffa_e',\n",
    "    formula='C9H8O4',\n",
    "    name='Caffeic acid',\n",
    "    compartment='e')\n",
    "\n",
    "#ammonia\n",
    "nh4_c = k12.metabolites.get_by_id(\"nh4_c\")\n",
    "\n",
    "#tyrosine \n",
    "tyr__L_c = k12.metabolites.get_by_id(\"tyr__L_c\")\n",
    "\n",
    "#Oxaloacetate\n",
    "oaa_c = k12.metabolites.get_by_id(\"oaa_c\")\n",
    "\n",
    "#Aspartate\n",
    "asp = k12.metabolites.get_by_id(\"asp__L_c\")\n",
    "\n",
    "#prephenate\n",
    "pphn_c = k12.metabolites.get_by_id(\"pphn_c\")\n",
    "\n",
    "#NADH\n",
    "nadh_c = k12.metabolites.get_by_id(\"nadh_c\")\n",
    "\n",
    "#NAD+\n",
    "nad_c = k12.metabolites.get_by_id(\"nad_c\")\n",
    "\n",
    "#H+\n",
    "h_c = k12.metabolites.get_by_id(\"h_c\")\n",
    "\n",
    "#ATP\n",
    "atp_c = k12.metabolites.get_by_id(\"atp_c\")\n",
    "\n",
    "#AMP\n",
    "adp_c = k12.metabolites.get_by_id(\"adp_c\")\n",
    "\n",
    "#Diphosphate\n",
    "pi_c = k12.metabolites.get_by_id(\"pi_c\")"
   ]
  },
  {
   "attachments": {},
   "cell_type": "markdown",
   "metadata": {},
   "source": [
    "### Reactions"
   ]
  },
  {
   "cell_type": "code",
   "execution_count": 20,
   "metadata": {},
   "outputs": [],
   "source": [
    "#prep -> l-arogenate\n",
    "PPNARO = Reaction('PPNARO')\n",
    "PPNARO.name = 'L-arogenate:2-oxoglutarate aminotransferase'\n",
    "PPNARO.subsystem = 'Phenylalanine, tyrosine and tryptophan biosynthesis'\n",
    "PPNARO.lower_bound = -1000  # This is the default\n",
    "PPNARO.upper_bound = 1000  # This is the default\n",
    "#Oxaloacetate + L-Arogenate <=> L-Aspartate + Prephenate\n",
    "PPNARO.add_metabolites({\n",
    "    oaa_c: -1.0,\n",
    "    Largn_c: -1.0,\n",
    "    asp: 1.0,\n",
    "    pphn_c: 1.0\n",
    "})\n",
    "PPNARO.gene_reaction_rule = 'b4054' #tyrB\n",
    "\n",
    "CAL2.add_reactions([PPNARO])"
   ]
  },
  {
   "cell_type": "code",
   "execution_count": 21,
   "metadata": {},
   "outputs": [],
   "source": [
    "#tyr -> p-coumaric acid\n",
    "TAL = Reaction('TAL')\n",
    "TAL.name = 'L-tyrosine ammonia-lyase'\n",
    "TAL.subsystem = 'CA module'\n",
    "TAL.lower_bound = -1000  # This is the default\n",
    "TAL.upper_bound = 1000  # This is the default\n",
    "#L-Tyrosine <=> 4-Coumarate + Ammonia\n",
    "TAL.add_metabolites({\n",
    "    tyr__L_c: -1.0,\n",
    "    coura_c: 1.0,\n",
    "    nh4_c: 1.0\n",
    "})\n",
    "#TAL.gene_reaction_rule = 'tal' #synthetic rgTAL gene\n",
    "\n",
    "CAL2.add_reactions([TAL])"
   ]
  },
  {
   "cell_type": "code",
   "execution_count": 22,
   "metadata": {},
   "outputs": [],
   "source": [
    "#p-coumaric acid -> caffeic acid\n",
    "COURCA = Reaction('COURCA')\n",
    "COURCA.name = '4-hydroxyphenylacetate 3-hydroxylase'\n",
    "COURCA.subsystem = 'CA module'\n",
    "COURCA.lower_bound = -1000  # This is the default\n",
    "COURCA.upper_bound = 1000  # This is the default\n",
    "#4-Coumarate <=> Caffeate\n",
    "COURCA.add_metabolites({\n",
    "    coura_c: -1.0,\n",
    "    nadh_c: -1.0,\n",
    "    caffa_c: 1.0,\n",
    "    nad_c: 1.0,\n",
    "    h_c: 1.0\n",
    "})\n",
    "#COURCA.gene_reaction_rule = '(hpaB and hpaC)' #synthetic hpaC gene\n",
    "\n",
    "CAL2.add_reactions([COURCA])"
   ]
  },
  {
   "cell_type": "code",
   "execution_count": 23,
   "metadata": {},
   "outputs": [],
   "source": [
    "#caffeic acid transport reaction\n",
    "CAFFAt = Reaction('CAFFAt')\n",
    "CAFFAt.name = 'caffa transport'\n",
    "CAFFAt.subsystem = 'CA module'\n",
    "CAFFAt.lower_bound = -1000  # This is the default\n",
    "CAFFAt.upper_bound = 1000  # This is the default\n",
    "CAFFAt.add_metabolites({\n",
    "    caffa_c: -1.0,\n",
    "    atp_c: -1.0,\n",
    "    caffa_e: 1.0,\n",
    "    adp_c: 1.0,\n",
    "    pi_c: 1.0\n",
    "})\n",
    "\n",
    "CAL2.add_reactions([CAFFAt])"
   ]
  },
  {
   "cell_type": "code",
   "execution_count": 24,
   "metadata": {},
   "outputs": [
    {
     "data": {
      "text/html": [
       "\n",
       "        <table>\n",
       "            <tr>\n",
       "                <td><strong>Reaction identifier</strong></td><td>EX_caffa_e</td>\n",
       "            </tr><tr>\n",
       "                <td><strong>Name</strong></td><td>Caffeic acid exchange</td>\n",
       "            </tr><tr>\n",
       "                <td><strong>Memory address</strong></td>\n",
       "                <td>0x129dbb5b0</td>\n",
       "            </tr><tr>\n",
       "                <td><strong>Stoichiometry</strong></td>\n",
       "                <td>\n",
       "                    <p style='text-align:right'>caffa_e <=></p>\n",
       "                    <p style='text-align:right'>Caffeic acid <=></p>\n",
       "                </td>\n",
       "            </tr><tr>\n",
       "                <td><strong>GPR</strong></td><td></td>\n",
       "            </tr><tr>\n",
       "                <td><strong>Lower bound</strong></td><td>-1000.0</td>\n",
       "            </tr><tr>\n",
       "                <td><strong>Upper bound</strong></td><td>1000.0</td>\n",
       "            </tr>\n",
       "        </table>\n",
       "        "
      ],
      "text/plain": [
       "<Reaction EX_caffa_e at 0x129dbb5b0>"
      ]
     },
     "execution_count": 24,
     "metadata": {},
     "output_type": "execute_result"
    }
   ],
   "source": [
    "#add exhange reaction\n",
    "CAL2.add_boundary(CAL2.metabolites.get_by_id(\"caffa_e\"), type=\"exchange\")"
   ]
  },
  {
   "attachments": {},
   "cell_type": "markdown",
   "metadata": {},
   "source": [
    "## Testing model"
   ]
  },
  {
   "cell_type": "code",
   "execution_count": 25,
   "metadata": {},
   "outputs": [
    {
     "name": "stdout",
     "output_type": "stream",
     "text": [
      "ATPM flux: 0.0\n"
     ]
    },
    {
     "data": {
      "text/html": [
       "<strong><em>Optimal</em> solution with objective value 0.000</strong><br><div>\n",
       "<style scoped>\n",
       "    .dataframe tbody tr th:only-of-type {\n",
       "        vertical-align: middle;\n",
       "    }\n",
       "\n",
       "    .dataframe tbody tr th {\n",
       "        vertical-align: top;\n",
       "    }\n",
       "\n",
       "    .dataframe thead th {\n",
       "        text-align: right;\n",
       "    }\n",
       "</style>\n",
       "<table border=\"1\" class=\"dataframe\">\n",
       "  <thead>\n",
       "    <tr style=\"text-align: right;\">\n",
       "      <th></th>\n",
       "      <th>fluxes</th>\n",
       "      <th>reduced_costs</th>\n",
       "    </tr>\n",
       "  </thead>\n",
       "  <tbody>\n",
       "    <tr>\n",
       "      <th>CYTDK2</th>\n",
       "      <td>0.0</td>\n",
       "      <td>2.220446e-16</td>\n",
       "    </tr>\n",
       "    <tr>\n",
       "      <th>XPPT</th>\n",
       "      <td>0.0</td>\n",
       "      <td>9.871169e+00</td>\n",
       "    </tr>\n",
       "    <tr>\n",
       "      <th>HXPRT</th>\n",
       "      <td>0.0</td>\n",
       "      <td>9.871169e+00</td>\n",
       "    </tr>\n",
       "    <tr>\n",
       "      <th>NDPK5</th>\n",
       "      <td>0.0</td>\n",
       "      <td>-2.000000e+00</td>\n",
       "    </tr>\n",
       "    <tr>\n",
       "      <th>SHK3Dr</th>\n",
       "      <td>0.0</td>\n",
       "      <td>2.000000e+00</td>\n",
       "    </tr>\n",
       "    <tr>\n",
       "      <th>...</th>\n",
       "      <td>...</td>\n",
       "      <td>...</td>\n",
       "    </tr>\n",
       "    <tr>\n",
       "      <th>PPNARO</th>\n",
       "      <td>0.0</td>\n",
       "      <td>-2.000000e+00</td>\n",
       "    </tr>\n",
       "    <tr>\n",
       "      <th>TAL</th>\n",
       "      <td>0.0</td>\n",
       "      <td>-2.000000e+00</td>\n",
       "    </tr>\n",
       "    <tr>\n",
       "      <th>COURCA</th>\n",
       "      <td>0.0</td>\n",
       "      <td>-9.823077e-01</td>\n",
       "    </tr>\n",
       "    <tr>\n",
       "      <th>CAFFAt</th>\n",
       "      <td>0.0</td>\n",
       "      <td>2.000000e+00</td>\n",
       "    </tr>\n",
       "    <tr>\n",
       "      <th>EX_caffa_e</th>\n",
       "      <td>0.0</td>\n",
       "      <td>-2.000000e+00</td>\n",
       "    </tr>\n",
       "  </tbody>\n",
       "</table>\n",
       "<p>2717 rows × 2 columns</p>\n",
       "</div>"
      ],
      "text/plain": [
       "<Solution 0.000 at 0x12babf430>"
      ]
     },
     "execution_count": 25,
     "metadata": {},
     "output_type": "execute_result"
    }
   ],
   "source": [
    "#test for energy-generating cycles\n",
    "energy_generating_cycle_test(CAL2)"
   ]
  },
  {
   "cell_type": "code",
   "execution_count": 26,
   "metadata": {},
   "outputs": [],
   "source": [
    "#adding Phe to the medium\n",
    "phe_medium = CAL2.medium\n",
    "phe_medium[\"EX_phe__L_e\"] = 1000.0\n",
    "CAL2.medium = phe_medium\n",
    "\n",
    "#stopping caffeic acid uptake so that the model does not use this as substrate\n",
    "CAL2.reactions.EX_caffa_e.lower_bound = 0"
   ]
  },
  {
   "cell_type": "code",
   "execution_count": 27,
   "metadata": {},
   "outputs": [
    {
     "data": {
      "text/html": [
       "<h3>caffa_c</h3><p>C9H8O4</p><h4>Producing Reactions</h4><table border=\"1\" class=\"dataframe\">\n",
       "  <thead>\n",
       "    <tr style=\"text-align: right;\">\n",
       "      <th>Percent</th>\n",
       "      <th>Flux</th>\n",
       "      <th>Range</th>\n",
       "      <th>Reaction</th>\n",
       "      <th>Definition</th>\n",
       "    </tr>\n",
       "  </thead>\n",
       "  <tbody>\n",
       "    <tr>\n",
       "      <td></td>\n",
       "      <td>0</td>\n",
       "      <td>[0;  0.2649]</td>\n",
       "      <td>COURCA</td>\n",
       "      <td>coura_c + nadh_c &lt;=&gt; caffa_c + h_c + nad_c</td>\n",
       "    </tr>\n",
       "  </tbody>\n",
       "</table><h4>Consuming Reactions</h4><table border=\"1\" class=\"dataframe\">\n",
       "  <thead>\n",
       "    <tr style=\"text-align: right;\">\n",
       "      <th>Percent</th>\n",
       "      <th>Flux</th>\n",
       "      <th>Range</th>\n",
       "      <th>Reaction</th>\n",
       "      <th>Definition</th>\n",
       "    </tr>\n",
       "  </thead>\n",
       "  <tbody>\n",
       "    <tr>\n",
       "      <td></td>\n",
       "      <td>0</td>\n",
       "      <td>[-0.2649;  0]</td>\n",
       "      <td>CAFFAt</td>\n",
       "      <td>atp_c + caffa_c &lt;=&gt; adp_c + caffa_e + pi_c</td>\n",
       "    </tr>\n",
       "  </tbody>\n",
       "</table>"
      ],
      "text/plain": [
       "<cobra.summary.metabolite_summary.MetaboliteSummary at 0x12a0de9b0>"
      ]
     },
     "execution_count": 27,
     "metadata": {},
     "output_type": "execute_result"
    }
   ],
   "source": [
    "from cobra.flux_analysis import flux_variability_analysis\n",
    "\n",
    "CAL2.metabolites.caffa_c.summary(fva=0.95)"
   ]
  },
  {
   "cell_type": "code",
   "execution_count": 28,
   "metadata": {},
   "outputs": [
    {
     "data": {
      "text/html": [
       "<h3>caffa_e</h3><p>C9H8O4</p><h4>Producing Reactions</h4><table border=\"1\" class=\"dataframe\">\n",
       "  <thead>\n",
       "    <tr style=\"text-align: right;\">\n",
       "      <th>Percent</th>\n",
       "      <th>Flux</th>\n",
       "      <th>Range</th>\n",
       "      <th>Reaction</th>\n",
       "      <th>Definition</th>\n",
       "    </tr>\n",
       "  </thead>\n",
       "  <tbody>\n",
       "    <tr>\n",
       "      <td></td>\n",
       "      <td>0</td>\n",
       "      <td>[0;  0.2649]</td>\n",
       "      <td>CAFFAt</td>\n",
       "      <td>atp_c + caffa_c &lt;=&gt; adp_c + caffa_e + pi_c</td>\n",
       "    </tr>\n",
       "  </tbody>\n",
       "</table><h4>Consuming Reactions</h4><table border=\"1\" class=\"dataframe\">\n",
       "  <thead>\n",
       "    <tr style=\"text-align: right;\">\n",
       "      <th>Percent</th>\n",
       "      <th>Flux</th>\n",
       "      <th>Range</th>\n",
       "      <th>Reaction</th>\n",
       "      <th>Definition</th>\n",
       "    </tr>\n",
       "  </thead>\n",
       "  <tbody>\n",
       "    <tr>\n",
       "      <td></td>\n",
       "      <td>0</td>\n",
       "      <td>[-0.2649;  0]</td>\n",
       "      <td>EX_caffa_e</td>\n",
       "      <td>caffa_e --&gt;</td>\n",
       "    </tr>\n",
       "  </tbody>\n",
       "</table>"
      ],
      "text/plain": [
       "<cobra.summary.metabolite_summary.MetaboliteSummary at 0x12af49840>"
      ]
     },
     "execution_count": 28,
     "metadata": {},
     "output_type": "execute_result"
    }
   ],
   "source": [
    "CAL2.metabolites.caffa_e.summary(fva=0.95)"
   ]
  },
  {
   "attachments": {},
   "cell_type": "markdown",
   "metadata": {},
   "source": [
    "## Export model to SBML"
   ]
  },
  {
   "cell_type": "code",
   "execution_count": null,
   "metadata": {},
   "outputs": [],
   "source": [
    "from cobra.io import write_sbml_model\n",
    "\n",
    "write_sbml_model(CAL2, \"../GEMs/CAL2.xml\")"
   ]
  }
 ],
 "metadata": {
  "kernelspec": {
   "display_name": "venv",
   "language": "python",
   "name": "python3"
  },
  "language_info": {
   "codemirror_mode": {
    "name": "ipython",
    "version": 3
   },
   "file_extension": ".py",
   "mimetype": "text/x-python",
   "name": "python",
   "nbconvert_exporter": "python",
   "pygments_lexer": "ipython3",
   "version": "3.10.7"
  },
  "orig_nbformat": 4
 },
 "nbformat": 4,
 "nbformat_minor": 2
}
