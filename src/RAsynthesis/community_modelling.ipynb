{
 "cells": [
  {
   "cell_type": "code",
   "execution_count": 1,
   "metadata": {},
   "outputs": [],
   "source": [
    "from reframed import Community, Environment\n",
    "from reframed import load_cbmodel, FBA, plot_flux_envelope"
   ]
  },
  {
   "attachments": {},
   "cell_type": "markdown",
   "metadata": {},
   "source": [
    "Load individual models"
   ]
  },
  {
   "cell_type": "code",
   "execution_count": 30,
   "metadata": {},
   "outputs": [],
   "source": [
    "CAL2 = load_cbmodel('../GEMs/CAL2.xml')\n",
    "SAL9 = load_cbmodel('../GEMs/SAL9.xml')\n",
    "MAM2 = load_cbmodel('../GEMs/MAM2.xml')"
   ]
  },
  {
   "attachments": {},
   "cell_type": "markdown",
   "metadata": {},
   "source": [
    "create community model by merging individual models"
   ]
  },
  {
   "cell_type": "code",
   "execution_count": 68,
   "metadata": {},
   "outputs": [],
   "source": [
    "community = Community('RA_community', [CAL2, SAL9, MAM2]).merge_models()"
   ]
  },
  {
   "attachments": {},
   "cell_type": "markdown",
   "metadata": {},
   "source": [
    "retrieve the medium composition from the CAL2 model, to use as constraints"
   ]
  },
  {
   "cell_type": "code",
   "execution_count": 65,
   "metadata": {},
   "outputs": [
    {
     "name": "stdout",
     "output_type": "stream",
     "text": [
      "Environment compounds: pi, co2, fe3, h, mn2, fe2, glc__D, zn2, mg2, ca2, ni2, cu2, sel, cobalt2, h2o, mobd, so4, phe__L, nh4, k, na1, cl, o2, tungs, slnt\n"
     ]
    }
   ],
   "source": [
    "cal_medium = Environment.from_model(CAL2)\n",
    "print(f\"Environment compounds: {', '.join(cal_medium.get_compounds())}\")"
   ]
  },
  {
   "attachments": {},
   "cell_type": "markdown",
   "metadata": {},
   "source": [
    "bound the RA transport reaction in RA module so that the community cannot grow on RA"
   ]
  },
  {
   "cell_type": "code",
   "execution_count": 70,
   "metadata": {},
   "outputs": [],
   "source": [
    "community.set_flux_bounds('R_RAt_MAM2', 0, 1000)"
   ]
  },
  {
   "attachments": {},
   "cell_type": "markdown",
   "metadata": {},
   "source": [
    "standard FBA"
   ]
  },
  {
   "cell_type": "code",
   "execution_count": 71,
   "metadata": {},
   "outputs": [
    {
     "name": "stdout",
     "output_type": "stream",
     "text": [
      "Objective: 0.0\n",
      "Status: Optimal\n",
      "\n",
      "R_EX_pyr_e    7.20409\n",
      "R_EX_h_e      36.0204\n",
      "R_EX_glc__D_e -10\n",
      "R_EX_hxa_e    7.20409\n",
      "R_EX_h2o_e    7.20409\n",
      "R_EX_for_e    21.6123\n",
      "R_EX_arab__D_e -5.28982\n"
     ]
    }
   ],
   "source": [
    "solution = FBA(community, constraints=cal_medium)\n",
    "\n",
    "print(solution)\n",
    "solution.show_values(pattern='R_EX')"
   ]
  },
  {
   "cell_type": "code",
   "execution_count": 17,
   "metadata": {},
   "outputs": [
    {
     "name": "stdout",
     "output_type": "stream",
     "text": [
      "R_Htex_MAM2  -14.4593\n",
      "R_PGK_MAM2   -14.4593\n",
      "R_ALCD2x_MAM2 -14.4593\n",
      "R_ETOHtex_MAM2 -14.4593\n",
      "R_PGM_MAM2   -14.4593\n",
      "R_ETOHtrpp_MAM2 -14.4593\n",
      "R_H2Otex_MAM2 -10.4242\n",
      "R_H2Otpp_MAM2 -10.4242\n",
      "R_PYRt2rpp_MAM2 -7.35952\n",
      "R_PYRtex_MAM2 -7.35952\n",
      "R_TRPAS2_MAM2 -7.09983\n",
      "R_TRPt2rpp_MAM2 -7.09983\n",
      "R_TRPtex_MAM2 -7.09983\n",
      "R_ATPS4rpp_MAM2 -4.27496\n",
      "R_PYNP2r_MAM2 -3.32439\n",
      "R_PPM_MAM2   -3.32439\n",
      "R_URIt2pp_copy2_MAM2 -3.32439\n",
      "R_URItex_MAM2 -3.32439\n",
      "R_RPE_MAM2   -2.21626\n",
      "R_RPI_MAM2   -2.21626\n",
      "R_TALA_MAM2  -1.10813\n",
      "R_TKT1_MAM2  -1.10813\n",
      "R_TKT2_MAM2  -1.10813\n",
      "R_URAtex_MAM2  3.32439\n",
      "R_URAt2pp_MAM2  3.32439\n",
      "R_ATPM_MAM2   6.86\n",
      "R_INDOLEtex_MAM2  7.09983\n",
      "R_NH4tpp_MAM2  7.09983\n",
      "R_NH4tex_MAM2  7.09983\n",
      "R_INDOLEt2rpp_MAM2  7.09983\n",
      "R_FBA_MAM2    7.78374\n",
      "R_PFK_MAM2    7.78374\n",
      "R_TPI_MAM2    7.78374\n",
      "R_PGI_MAM2    10\n",
      "R_HEX1_MAM2   10\n",
      "R_GLCt2pp_MAM2  10\n",
      "R_GLCtex_copy2_MAM2  10\n",
      "R_PYK_MAM2    14.4593\n",
      "R_ENO_MAM2    14.4593\n",
      "R_GAPD_MAM2   14.4593\n",
      "R_ACALDtex_MAM2  14.4593\n",
      "R_ACALDtpp_MAM2  14.4593\n"
     ]
    }
   ],
   "source": [
    "solution.show_values(pattern='MAM2', sort=True)"
   ]
  },
  {
   "cell_type": "code",
   "execution_count": 14,
   "metadata": {},
   "outputs": [
    {
     "name": "stdout",
     "output_type": "stream",
     "text": [
      "R_Htex_SAL9  -9.15645\n",
      "R_PGK_SAL9   -9.15645\n",
      "R_ALCD2x_SAL9 -9.15645\n",
      "R_TRPAS2_SAL9 -9.15645\n",
      "R_NDPK4_SAL9 -9.15645\n",
      "R_TRPt2rpp_SAL9 -9.15645\n",
      "R_TRPtex_SAL9 -9.15645\n",
      "R_ETOHtex_SAL9 -9.15645\n",
      "R_PGM_SAL9   -9.15645\n",
      "R_ETOHtrpp_SAL9 -9.15645\n",
      "R_H2Otex_SAL9 -9.15645\n",
      "R_H2Otpp_SAL9 -9.15645\n",
      "R_ATPS4rpp_SAL9 -3.70482\n",
      "R_RPI_SAL9   -1.88761\n",
      "R_DHAtpp_SAL9 -0.281624\n",
      "R_DHAtex_SAL9 -0.281624\n",
      "R_ALKP_SAL9   0.281624\n",
      "R_TALA_SAL9   1.88761\n",
      "R_TKT1_SAL9   1.88761\n",
      "R_TKT2_SAL9   1.88761\n",
      "R_TPI_SAL9    3.4936\n",
      "R_FBA_SAL9    3.77523\n",
      "R_RPE_SAL9    3.77523\n",
      "R_PFK_SAL9    3.77523\n",
      "R_ATPM_SAL9   5.17\n",
      "R_ARABDI_SAL9  5.66284\n",
      "R_RBK_D1_SAL9  5.66284\n",
      "R_DARBt2rpp_SAL9  5.66284\n",
      "R_DARBtex_SAL9  5.66284\n",
      "R_ENO_SAL9    9.15645\n",
      "R_GAPD_SAL9   9.15645\n",
      "R_ACALDtex_SAL9  9.15645\n",
      "R_ACALDtpp_SAL9  9.15645\n",
      "R_INDOLEtex_SAL9  9.15645\n",
      "R_NH4tex_SAL9  9.15645\n",
      "R_NH4tpp_SAL9  9.15645\n",
      "R_INDOLEt2rpp_SAL9  9.15645\n",
      "R_PYK6_SAL9   9.15645\n"
     ]
    }
   ],
   "source": [
    "solution.show_values(pattern='SAL9', sort=True)"
   ]
  },
  {
   "cell_type": "code",
   "execution_count": 18,
   "metadata": {},
   "outputs": [
    {
     "name": "stdout",
     "output_type": "stream",
     "text": [
      "R_ACALDtex_CAL2 -23.6158\n",
      "R_ACALDtpp_CAL2 -23.6158\n",
      "R_FORtex_CAL2 -22.0786\n",
      "R_INDOLEtex_CAL2 -16.2563\n",
      "R_NH4tpp_CAL2 -16.2563\n",
      "R_NH4tex_CAL2 -16.2563\n",
      "R_Htex_CAL2  -13.1818\n",
      "R_HXAtex_CAL2 -7.35952\n",
      "R_HEXt2rpp_CAL2 -7.35952\n",
      "R_ACOAD2f_CAL2 -7.35952\n",
      "R_PGK_CAL2   -5.82228\n",
      "R_PGM_CAL2   -5.82228\n",
      "R_URAtex_CAL2 -3.32439\n",
      "R_ATPS4rpp_CAL2 -2.28667\n",
      "R_DHAtpp_CAL2  0.281624\n",
      "R_DHAtex_CAL2  0.281624\n",
      "R_TALA_CAL2   1.10813\n",
      "R_TKT1_CAL2   1.10813\n",
      "R_TKT2_CAL2   1.10813\n",
      "R_RPE_CAL2    2.21626\n",
      "R_F6PA_CAL2   2.21626\n",
      "R_RPI_CAL2    2.21626\n",
      "R_DHAPT_CAL2  2.49788\n",
      "R_TPI_CAL2    2.49788\n",
      "R_PYNP2r_CAL2  3.32439\n",
      "R_PPM_CAL2    3.32439\n",
      "R_URIt2pp_copy2_CAL2  3.32439\n",
      "R_URItex_CAL2  3.32439\n",
      "R_URAtpp_CAL2  3.32439\n",
      "R_PYK_CAL2    3.32439\n",
      "R_ENO_CAL2    5.82228\n",
      "R_GAPD_CAL2   5.82228\n",
      "R_ATPM_CAL2   6.86\n",
      "R_ECOAH1_CAL2  7.35952\n",
      "R_ECOAH2_CAL2  7.35952\n",
      "R_ACACT2r_CAL2  7.35952\n",
      "R_HACD1_CAL2  7.35952\n",
      "R_HACD2_CAL2  7.35952\n",
      "R_ACACT1r_CAL2  7.35952\n",
      "R_FACOAE60_CAL2  7.35952\n",
      "R_ACOAD1fr_CAL2  7.35952\n",
      "R_H2Otex_CAL2  12.2212\n",
      "R_H2Otpp_CAL2  12.2212\n",
      "R_FADRx_CAL2  14.719\n",
      "R_TRPAS2_CAL2  16.2563\n",
      "R_TRPt2rpp_CAL2  16.2563\n",
      "R_TRPtex_CAL2  16.2563\n",
      "R_INDOLEt2pp_CAL2  16.2563\n",
      "R_PFL_CAL2    22.0786\n",
      "R_FORtppi_CAL2  22.0786\n",
      "R_ALCD2x_CAL2  23.6158\n",
      "R_ETOHtex_CAL2  23.6158\n",
      "R_ETOHtrpp_CAL2  23.6158\n"
     ]
    }
   ],
   "source": [
    "solution.show_values(pattern='CAL2', sort=True)"
   ]
  },
  {
   "attachments": {},
   "cell_type": "markdown",
   "metadata": {},
   "source": [
    "### Production envelope (biomass to rosmarinic acid)"
   ]
  },
  {
   "cell_type": "code",
   "execution_count": 72,
   "metadata": {},
   "outputs": [
    {
     "name": "stderr",
     "output_type": "stream",
     "text": [
      "/Users/andreastallvik/Projects/BIOTBT3900/venv/lib/python3.10/site-packages/numpy/core/function_base.py:151: RuntimeWarning: invalid value encountered in multiply\n",
      "  y *= step\n"
     ]
    },
    {
     "ename": "CplexSolverError",
     "evalue": "CPLEX Error  1225: Numeric entry is not a double precision number (NaN).",
     "output_type": "error",
     "traceback": [
      "\u001b[0;31m---------------------------------------------------------------------------\u001b[0m",
      "\u001b[0;31mCplexSolverError\u001b[0m                          Traceback (most recent call last)",
      "\u001b[1;32m/Users/andreastallvik/Projects/BIOTBT3900/src/RAsynthesis/community_modelling.ipynb Cell 16\u001b[0m in \u001b[0;36m1\n\u001b[0;32m----> <a href='vscode-notebook-cell:/Users/andreastallvik/Projects/BIOTBT3900/src/RAsynthesis/community_modelling.ipynb#X25sZmlsZQ%3D%3D?line=0'>1</a>\u001b[0m plot_flux_envelope(community, community\u001b[39m.\u001b[39;49mbiomass_reaction, \u001b[39m'\u001b[39;49m\u001b[39mR_EX_rosma_e\u001b[39;49m\u001b[39m'\u001b[39;49m)\n",
      "File \u001b[0;32m~/Projects/BIOTBT3900/venv/lib/python3.10/site-packages/reframed/cobra/plotting.py:79\u001b[0m, in \u001b[0;36mplot_flux_envelope\u001b[0;34m(model, r_x, r_y, steps, substrate, constraints, label_x, label_y, flip_x, flip_y, plot_kwargs, fill_kwargs, ax)\u001b[0m\n\u001b[1;32m     76\u001b[0m \u001b[39mif\u001b[39;00m \u001b[39mnot\u001b[39;00m fill_kwargs:\n\u001b[1;32m     77\u001b[0m     fill_kwargs \u001b[39m=\u001b[39m {\u001b[39m'\u001b[39m\u001b[39mcolor\u001b[39m\u001b[39m'\u001b[39m: \u001b[39m'\u001b[39m\u001b[39mk\u001b[39m\u001b[39m'\u001b[39m, \u001b[39m'\u001b[39m\u001b[39malpha\u001b[39m\u001b[39m'\u001b[39m: \u001b[39m0.1\u001b[39m}\n\u001b[0;32m---> 79\u001b[0m xvals, ymins, ymaxs \u001b[39m=\u001b[39m flux_envelope(model, r_x, r_y, steps, constraints)\n\u001b[1;32m     81\u001b[0m \u001b[39mif\u001b[39;00m flip_x:\n\u001b[1;32m     82\u001b[0m     xvals, ymins, ymaxs \u001b[39m=\u001b[39m \u001b[39m-\u001b[39mxvals, ymins[::\u001b[39m-\u001b[39m\u001b[39m1\u001b[39m], ymaxs[::\u001b[39m-\u001b[39m\u001b[39m1\u001b[39m]\n",
      "File \u001b[0;32m~/Projects/BIOTBT3900/venv/lib/python3.10/site-packages/reframed/cobra/plotting.py:33\u001b[0m, in \u001b[0;36mflux_envelope\u001b[0;34m(model, r_x, r_y, steps, constraints)\u001b[0m\n\u001b[1;32m     31\u001b[0m \u001b[39mfor\u001b[39;00m i, xval \u001b[39min\u001b[39;00m \u001b[39menumerate\u001b[39m(xvals):\n\u001b[1;32m     32\u001b[0m     _constraints[r_x] \u001b[39m=\u001b[39m xval\n\u001b[0;32m---> 33\u001b[0m     y_range \u001b[39m=\u001b[39m FVA(model, reactions\u001b[39m=\u001b[39;49m[r_y], constraints\u001b[39m=\u001b[39;49m_constraints)\n\u001b[1;32m     34\u001b[0m     ymins[i], ymaxs[i] \u001b[39m=\u001b[39m y_range[r_y]\n\u001b[1;32m     36\u001b[0m \u001b[39mreturn\u001b[39;00m xvals, ymins, ymaxs\n",
      "File \u001b[0;32m~/Projects/BIOTBT3900/venv/lib/python3.10/site-packages/reframed/cobra/variability.py:47\u001b[0m, in \u001b[0;36mFVA\u001b[0;34m(model, obj_frac, reactions, constraints, loopless, internal, solver)\u001b[0m\n\u001b[1;32m     44\u001b[0m     solution \u001b[39m=\u001b[39m llFBA(model, r_id, \u001b[39mTrue\u001b[39;00m, constraints\u001b[39m=\u001b[39m_constraints, internal\u001b[39m=\u001b[39minternal,\n\u001b[1;32m     45\u001b[0m                      solver\u001b[39m=\u001b[39msolver, get_values\u001b[39m=\u001b[39m\u001b[39mFalse\u001b[39;00m)\n\u001b[1;32m     46\u001b[0m \u001b[39melse\u001b[39;00m:\n\u001b[0;32m---> 47\u001b[0m     solution \u001b[39m=\u001b[39m FBA(model, r_id, \u001b[39mTrue\u001b[39;49;00m, constraints\u001b[39m=\u001b[39;49m_constraints, solver\u001b[39m=\u001b[39;49msolver, get_values\u001b[39m=\u001b[39;49m\u001b[39mFalse\u001b[39;49;00m)\n\u001b[1;32m     49\u001b[0m \u001b[39mif\u001b[39;00m solution\u001b[39m.\u001b[39mstatus \u001b[39m==\u001b[39m Status\u001b[39m.\u001b[39mOPTIMAL:\n\u001b[1;32m     50\u001b[0m     variability[r_id][\u001b[39m0\u001b[39m] \u001b[39m=\u001b[39m solution\u001b[39m.\u001b[39mfobj\n",
      "File \u001b[0;32m~/Projects/BIOTBT3900/venv/lib/python3.10/site-packages/reframed/cobra/simulation.py:36\u001b[0m, in \u001b[0;36mFBA\u001b[0;34m(model, objective, minimize, constraints, solver, get_values, shadow_prices, reduced_costs)\u001b[0m\n\u001b[1;32m     33\u001b[0m \u001b[39mif\u001b[39;00m \u001b[39mnot\u001b[39;00m solver:\n\u001b[1;32m     34\u001b[0m     solver \u001b[39m=\u001b[39m solver_instance(model)\n\u001b[0;32m---> 36\u001b[0m solution \u001b[39m=\u001b[39m solver\u001b[39m.\u001b[39;49msolve(objective, minimize\u001b[39m=\u001b[39;49mminimize, constraints\u001b[39m=\u001b[39;49mconstraints, get_values\u001b[39m=\u001b[39;49mget_values,\n\u001b[1;32m     37\u001b[0m                         shadow_prices\u001b[39m=\u001b[39;49mshadow_prices, reduced_costs\u001b[39m=\u001b[39;49mreduced_costs)\n\u001b[1;32m     38\u001b[0m \u001b[39mreturn\u001b[39;00m solution\n",
      "File \u001b[0;32m~/Projects/BIOTBT3900/venv/lib/python3.10/site-packages/reframed/solvers/cplex_solver.py:321\u001b[0m, in \u001b[0;36mCplexSolver.solve\u001b[0;34m(self, linear, quadratic, minimize, model, constraints, get_values, shadow_prices, reduced_costs, pool_size, pool_gap, emphasis, timelimit)\u001b[0m\n\u001b[1;32m    318\u001b[0m problem \u001b[39m=\u001b[39m \u001b[39mself\u001b[39m\u001b[39m.\u001b[39mproblem\n\u001b[1;32m    320\u001b[0m \u001b[39mif\u001b[39;00m constraints:\n\u001b[0;32m--> 321\u001b[0m     changed_lb, changed_ub \u001b[39m=\u001b[39m \u001b[39mself\u001b[39;49m\u001b[39m.\u001b[39;49mtemporary_bounds(constraints)\n\u001b[1;32m    323\u001b[0m \u001b[39mself\u001b[39m\u001b[39m.\u001b[39mset_objective(linear, quadratic, minimize)\n\u001b[1;32m    325\u001b[0m \u001b[39m# run the optimization\u001b[39;00m\n",
      "File \u001b[0;32m~/Projects/BIOTBT3900/venv/lib/python3.10/site-packages/reframed/solvers/cplex_solver.py:414\u001b[0m, in \u001b[0;36mCplexSolver.temporary_bounds\u001b[0;34m(self, constraints)\u001b[0m\n\u001b[1;32m    412\u001b[0m     lb_new \u001b[39m=\u001b[39m _dict_diff(lower_bounds, \u001b[39mself\u001b[39m\u001b[39m.\u001b[39m_cached_lower_bounds)\n\u001b[1;32m    413\u001b[0m     \u001b[39mif\u001b[39;00m \u001b[39mlen\u001b[39m(lb_new) \u001b[39m>\u001b[39m \u001b[39m0\u001b[39m:\n\u001b[0;32m--> 414\u001b[0m         \u001b[39mself\u001b[39;49m\u001b[39m.\u001b[39;49mproblem\u001b[39m.\u001b[39;49mvariables\u001b[39m.\u001b[39;49mset_lower_bounds(lb_new)\n\u001b[1;32m    416\u001b[0m \u001b[39mif\u001b[39;00m upper_bounds \u001b[39m!=\u001b[39m \u001b[39mself\u001b[39m\u001b[39m.\u001b[39m_cached_upper_bounds:\n\u001b[1;32m    417\u001b[0m     ub_new \u001b[39m=\u001b[39m _dict_diff(upper_bounds, \u001b[39mself\u001b[39m\u001b[39m.\u001b[39m_cached_upper_bounds)\n",
      "File \u001b[0;32m~/Projects/BIOTBT3900/venv/lib/python3.10/site-packages/cplex/_internal/_subinterfaces.py:542\u001b[0m, in \u001b[0;36mVariablesInterface.set_lower_bounds\u001b[0;34m(self, *args)\u001b[0m\n\u001b[1;32m    540\u001b[0m \u001b[39mdef\u001b[39;00m \u001b[39msetlb\u001b[39m(a, b):\n\u001b[1;32m    541\u001b[0m     CPX_PROC\u001b[39m.\u001b[39mchgbds(\u001b[39mself\u001b[39m\u001b[39m.\u001b[39m_env\u001b[39m.\u001b[39m_e, \u001b[39mself\u001b[39m\u001b[39m.\u001b[39m_cplex\u001b[39m.\u001b[39m_lp, a, \u001b[39m\"\u001b[39m\u001b[39mL\u001b[39m\u001b[39m\"\u001b[39m \u001b[39m*\u001b[39m \u001b[39mlen\u001b[39m(a), b)\n\u001b[0;32m--> 542\u001b[0m apply_pairs(setlb, \u001b[39mself\u001b[39;49m\u001b[39m.\u001b[39;49m_conv, \u001b[39m*\u001b[39;49margs)\n",
      "File \u001b[0;32m~/Projects/BIOTBT3900/venv/lib/python3.10/site-packages/cplex/_internal/_aux_functions.py:192\u001b[0m, in \u001b[0;36mapply_pairs\u001b[0;34m(fn, conv, *args)\u001b[0m\n\u001b[1;32m    190\u001b[0m     \u001b[39m# NB: If pair is empty, then we do nothing.\u001b[39;00m\n\u001b[1;32m    191\u001b[0m     \u001b[39mif\u001b[39;00m pair:\n\u001b[0;32m--> 192\u001b[0m         fn(conv(pair[\u001b[39m0\u001b[39;49m]), \u001b[39mlist\u001b[39;49m(pair[\u001b[39m1\u001b[39;49m]))\n\u001b[1;32m    193\u001b[0m     \u001b[39mreturn\u001b[39;00m\n\u001b[1;32m    194\u001b[0m \u001b[39mraise\u001b[39;00m WrongNumberOfArgumentsError(nargs)\n",
      "File \u001b[0;32m~/Projects/BIOTBT3900/venv/lib/python3.10/site-packages/cplex/_internal/_subinterfaces.py:541\u001b[0m, in \u001b[0;36mVariablesInterface.set_lower_bounds.<locals>.setlb\u001b[0;34m(a, b)\u001b[0m\n\u001b[1;32m    540\u001b[0m \u001b[39mdef\u001b[39;00m \u001b[39msetlb\u001b[39m(a, b):\n\u001b[0;32m--> 541\u001b[0m     CPX_PROC\u001b[39m.\u001b[39;49mchgbds(\u001b[39mself\u001b[39;49m\u001b[39m.\u001b[39;49m_env\u001b[39m.\u001b[39;49m_e, \u001b[39mself\u001b[39;49m\u001b[39m.\u001b[39;49m_cplex\u001b[39m.\u001b[39;49m_lp, a, \u001b[39m\"\u001b[39;49m\u001b[39mL\u001b[39;49m\u001b[39m\"\u001b[39;49m \u001b[39m*\u001b[39;49m \u001b[39mlen\u001b[39;49m(a), b)\n",
      "File \u001b[0;32m~/Projects/BIOTBT3900/venv/lib/python3.10/site-packages/cplex/_internal/_procedural.py:1071\u001b[0m, in \u001b[0;36mchgbds\u001b[0;34m(env, lp, indices, lu, bd)\u001b[0m\n\u001b[1;32m   1067\u001b[0m \u001b[39mwith\u001b[39;00m LAU\u001b[39m.\u001b[39mint_c_array(indices) \u001b[39mas\u001b[39;00m c_ind, \\\n\u001b[1;32m   1068\u001b[0m         LAU\u001b[39m.\u001b[39mdouble_c_array(bd) \u001b[39mas\u001b[39;00m c_bd:\n\u001b[1;32m   1069\u001b[0m     status \u001b[39m=\u001b[39m CR\u001b[39m.\u001b[39mCPXXchgbds(env, lp, \u001b[39mlen\u001b[39m(indices),\n\u001b[1;32m   1070\u001b[0m                            c_ind, lu, c_bd)\n\u001b[0;32m-> 1071\u001b[0m check_status(env, status)\n",
      "File \u001b[0;32m~/Projects/BIOTBT3900/venv/lib/python3.10/site-packages/cplex/_internal/_procedural.py:249\u001b[0m, in \u001b[0;36mStatusChecker.__call__\u001b[0;34m(self, env, status, from_cb)\u001b[0m\n\u001b[1;32m    247\u001b[0m     \u001b[39melse\u001b[39;00m:\n\u001b[1;32m    248\u001b[0m         error_string \u001b[39m=\u001b[39m geterrorstring(env, status)\n\u001b[0;32m--> 249\u001b[0m \u001b[39mraise\u001b[39;00m CplexSolverError(error_string, env, status)\n",
      "\u001b[0;31mCplexSolverError\u001b[0m: CPLEX Error  1225: Numeric entry is not a double precision number (NaN)."
     ]
    },
    {
     "data": {
      "image/png": "[encoded data removed]",
      "text/plain": [
       "<Figure size 640x480 with 1 Axes>"
      ]
     },
     "metadata": {},
     "output_type": "display_data"
    }
   ],
   "source": [
    "plot_flux_envelope(community, community.biomass_reaction, 'R_EX_rosma_e')"
   ]
  },
  {
   "attachments": {},
   "cell_type": "markdown",
   "metadata": {},
   "source": [
    "# Testing simple co-culture\n",
    "\n",
    "-> see if growth on minimal media is possible\n",
    "-> see if mistakes are due to conflict with BL21 strain?"
   ]
  },
  {
   "cell_type": "code",
   "execution_count": 79,
   "metadata": {},
   "outputs": [],
   "source": [
    "wildtype = load_cbmodel('../GEMs/iML1515.xml')\n",
    "phe_ko = wildtype.copy()\n",
    "phe_ko.id = 'phe_ko'"
   ]
  },
  {
   "cell_type": "code",
   "execution_count": 74,
   "metadata": {},
   "outputs": [],
   "source": [
    "#killing all phe reactions...\n",
    "\n",
    "for r in phe_ko.reactions:\n",
    "    if 'PHE' in r:\n",
    "        phe_ko.set_flux_bounds(r, 0, 0)"
   ]
  },
  {
   "cell_type": "code",
   "execution_count": 80,
   "metadata": {},
   "outputs": [],
   "source": [
    "test_com = Community('test_com', [wildtype, phe_ko])"
   ]
  },
  {
   "cell_type": "code",
   "execution_count": 81,
   "metadata": {},
   "outputs": [
    {
     "name": "stdout",
     "output_type": "stream",
     "text": [
      "Environment compounds: co2, glc__D, h, h2o, nh4, o2, pi\n"
     ]
    }
   ],
   "source": [
    "M9 = Environment.from_model(e_coli_core)\n",
    "\n",
    "print(f\"Environment compounds: {', '.join(M9.get_compounds())}\")"
   ]
  },
  {
   "cell_type": "code",
   "execution_count": null,
   "metadata": {},
   "outputs": [],
   "source": [
    "super_oganism = test_com.merged_model"
   ]
  },
  {
   "cell_type": "code",
   "execution_count": 97,
   "metadata": {},
   "outputs": [
    {
     "data": {
      "text/plain": [
       "Objective: None\n",
       "Status: Infeasible"
      ]
     },
     "execution_count": 97,
     "metadata": {},
     "output_type": "execute_result"
    }
   ],
   "source": [
    "FBA(super_oganism, constraints=no_env)"
   ]
  },
  {
   "cell_type": "code",
   "execution_count": 95,
   "metadata": {},
   "outputs": [],
   "source": [
    "no_env = Environment.empty(super_oganism)"
   ]
  },
  {
   "cell_type": "code",
   "execution_count": 101,
   "metadata": {},
   "outputs": [],
   "source": [
    "M9.apply(super_oganism, inplace=True)"
   ]
  },
  {
   "cell_type": "code",
   "execution_count": 124,
   "metadata": {},
   "outputs": [
    {
     "data": {
      "text/plain": [
       "<ReactionType.EXCHANGE: 'exchange'>"
      ]
     },
     "execution_count": 124,
     "metadata": {},
     "output_type": "execute_result"
    }
   ],
   "source": [
    "super_oganism.reactions.R_EX_g1p_e.reaction_type"
   ]
  },
  {
   "cell_type": "code",
   "execution_count": 83,
   "metadata": {},
   "outputs": [
    {
     "data": {
      "text/plain": [
       "Objective: 0.8769972144269771\n",
       "Status: Optimal"
      ]
     },
     "execution_count": 83,
     "metadata": {},
     "output_type": "execute_result"
    }
   ],
   "source": [
    "FBA(wildtype, constraints=M9)"
   ]
  },
  {
   "cell_type": "code",
   "execution_count": null,
   "metadata": {},
   "outputs": [],
   "source": []
  }
 ],
 "metadata": {
  "kernelspec": {
   "display_name": "venv",
   "language": "python",
   "name": "python3"
  },
  "language_info": {
   "codemirror_mode": {
    "name": "ipython",
    "version": 3
   },
   "file_extension": ".py",
   "mimetype": "text/x-python",
   "name": "python",
   "nbconvert_exporter": "python",
   "pygments_lexer": "ipython3",
   "version": "3.10.7"
  },
  "orig_nbformat": 4
 },
 "nbformat": 4,
 "nbformat_minor": 2
}
