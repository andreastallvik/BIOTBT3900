{
 "cells": [
  {
   "cell_type": "code",
   "execution_count": 19,
   "metadata": {},
   "outputs": [],
   "source": [
    "from reframed import load_cbmodel\n",
    "from reframed import Community\n",
    "from reframed import Environment\n",
    "from reframed import FBA\n",
    "from reframed import plot_flux_envelope\n",
    "\n",
    "import matplotlib.pyplot as plt"
   ]
  },
  {
   "cell_type": "code",
   "execution_count": 4,
   "metadata": {},
   "outputs": [],
   "source": [
    "#load models\n",
    "\n",
    "CAL2 = load_cbmodel('../GEMs/CAL2.xml')\n",
    "SAL9 = load_cbmodel('../GEMs/SAL9.xml')\n",
    "MAM2 = load_cbmodel('../GEMs/MAM2.xml')"
   ]
  },
  {
   "cell_type": "code",
   "execution_count": 5,
   "metadata": {},
   "outputs": [],
   "source": [
    "#create community object\n",
    "\n",
    "com = Community('RA_community', [CAL2, SAL9, MAM2])"
   ]
  },
  {
   "cell_type": "code",
   "execution_count": 6,
   "metadata": {},
   "outputs": [
    {
     "name": "stdout",
     "output_type": "stream",
     "text": [
      "Environment compounds: co2, glc__D, h, h2o, nh4, o2, pi\n"
     ]
    }
   ],
   "source": [
    "#get a minimal media composition from the ecoli core model\n",
    "\n",
    "e_coli_core = load_cbmodel('../GEMs/e_coli_core.xml')\n",
    "\n",
    "M9 = Environment.from_model(e_coli_core)\n",
    "\n",
    "print(f\"Environment compounds: {', '.join(M9.get_compounds())}\")"
   ]
  },
  {
   "cell_type": "code",
   "execution_count": 11,
   "metadata": {},
   "outputs": [
    {
     "name": "stdout",
     "output_type": "stream",
     "text": [
      "Environment compounds: pi, co2, fe3, h, mn2, fe2, glc__D, zn2, mg2, ca2, ni2, cu2, sel, cobalt2, h2o, mobd, so4, nh4, k, na1, cl, o2, tungs, slnt\n"
     ]
    }
   ],
   "source": [
    "extended_env = Environment.from_model(CAL2)"
   ]
  },
  {
   "cell_type": "code",
   "execution_count": 13,
   "metadata": {},
   "outputs": [],
   "source": [
    "com_merged = com.merge_models()"
   ]
  },
  {
   "cell_type": "code",
   "execution_count": 18,
   "metadata": {},
   "outputs": [
    {
     "data": {
      "text/plain": [
       "R_EX_pi_e\t-inf\tinf\n",
       "R_EX_co2_e\t-inf\tinf\n",
       "R_EX_met__L_e\t0.0\tinf\n",
       "R_EX_metsox_S__L_e\t0.0\tinf\n",
       "R_EX_acgam_e\t0.0\tinf\n",
       "R_EX_cellb_e\t0.0\tinf\n",
       "R_EX_crn_e\t0.0\tinf\n",
       "R_EX_hxan_e\t0.0\tinf\n",
       "R_EX_ile__L_e\t0.0\tinf\n",
       "R_EX_chol_e\t0.0\tinf\n",
       "R_EX_fe3_e\t-inf\tinf\n",
       "R_EX_lac__L_e\t0.0\tinf\n",
       "R_EX_leu__L_e\t0.0\tinf\n",
       "R_EX_glcn_e\t0.0\tinf\n",
       "R_EX_no3_e\t0.0\tinf\n",
       "R_EX_h_e\t-inf\tinf\n",
       "R_EX_orn_e\t0.0\tinf\n",
       "R_EX_gln__L_e\t0.0\tinf\n",
       "R_EX_pro__L_e\t0.0\tinf\n",
       "R_EX_glyc_e\t0.0\tinf\n",
       "R_EX_man_e\t0.0\tinf\n",
       "R_EX_ade_e\t0.0\tinf\n",
       "R_EX_mn2_e\t-inf\tinf\n",
       "R_EX_4abut_e\t0.0\tinf\n",
       "R_EX_ac_e\t0.0\tinf\n",
       "R_EX_akg_e\t0.0\tinf\n",
       "R_EX_ala__L_e\t0.0\tinf\n",
       "R_EX_arg__L_e\t0.0\tinf\n",
       "R_EX_asp__L_e\t0.0\tinf\n",
       "R_EX_pyr_e\t0.0\tinf\n",
       "R_EX_succ_e\t0.0\tinf\n",
       "R_EX_thymd_e\t0.0\tinf\n",
       "R_EX_rib__D_e\t0.0\tinf\n",
       "R_EX_tyr__L_e\t0.0\tinf\n",
       "R_EX_cytd_e\t0.0\tinf\n",
       "R_EX_dcyt_e\t0.0\tinf\n",
       "R_EX_fum_e\t0.0\tinf\n",
       "R_EX_sbt__D_e\t0.0\tinf\n",
       "R_EX_glu__L_e\t0.0\tinf\n",
       "R_EX_gua_e\t0.0\tinf\n",
       "R_EX_btn_e\t0.0\tinf\n",
       "R_EX_ptrc_e\t0.0\tinf\n",
       "R_EX_spmd_e\t0.0\tinf\n",
       "R_EX_thym_e\t0.0\tinf\n",
       "R_EX_xtsn_e\t0.0\tinf\n",
       "R_EX_fe2_e\t-inf\tinf\n",
       "R_EX_glc__D_e\t-10.0\tinf\n",
       "R_EX_alltn_e\t0.0\tinf\n",
       "R_EX_ura_e\t0.0\tinf\n",
       "R_EX_val__L_e\t0.0\tinf\n",
       "R_EX_xan_e\t0.0\tinf\n",
       "R_EX_dgsn_e\t0.0\tinf\n",
       "R_EX_arab__L_e\t0.0\tinf\n",
       "R_EX_fru_e\t0.0\tinf\n",
       "R_EX_gal_e\t0.0\tinf\n",
       "R_EX_xyl__D_e\t0.0\tinf\n",
       "R_EX_duri_e\t0.0\tinf\n",
       "R_EX_for_e\t0.0\tinf\n",
       "R_EX_gly_e\t0.0\tinf\n",
       "R_EX_h2_e\t0.0\tinf\n",
       "R_EX_lys__L_e\t0.0\tinf\n",
       "R_EX_ser__L_e\t0.0\tinf\n",
       "R_EX_thm_e\t0.0\tinf\n",
       "R_EX_trp__L_e\t0.0\tinf\n",
       "R_EX_din_e\t0.0\tinf\n",
       "R_EX_fmn_e\t0.0\tinf\n",
       "R_EX_gthox_e\t0.0\tinf\n",
       "R_EX_tmao_e\t0.0\tinf\n",
       "R_EX_acald_e\t0.0\tinf\n",
       "R_EX_melib_e\t0.0\tinf\n",
       "R_EX_sucr_e\t0.0\tinf\n",
       "R_EX_tre_e\t0.0\tinf\n",
       "R_EX_zn2_e\t-inf\tinf\n",
       "R_EX_hdcea_e\t0.0\tinf\n",
       "R_EX_lac__D_e\t0.0\tinf\n",
       "R_EX_ttdcea_e\t0.0\tinf\n",
       "R_EX_h2s_e\t0.0\tinf\n",
       "R_EX_gthrd_e\t0.0\tinf\n",
       "R_EX_26dap__M_e\t0.0\tinf\n",
       "R_EX_acnam_e\t0.0\tinf\n",
       "R_EX_amp_e\t0.0\tinf\n",
       "R_EX_dha_e\t0.0\tinf\n",
       "R_EX_fuc__L_e\t0.0\tinf\n",
       "R_EX_met__D_e\t0.0\tinf\n",
       "R_EX_tartr__L_e\t0.0\tinf\n",
       "R_EX_taur_e\t0.0\tinf\n",
       "R_EX_maltpt_e\t0.0\tinf\n",
       "R_EX_glyald_e\t0.0\tinf\n",
       "R_EX_glcur_e\t0.0\tinf\n",
       "R_EX_nmn_e\t0.0\tinf\n",
       "R_EX_urea_e\t0.0\tinf\n",
       "R_EX_f6p_e\t0.0\tinf\n",
       "R_EX_rmn_e\t0.0\tinf\n",
       "R_EX_ttdca_e\t0.0\tinf\n",
       "R_EX_glyclt_e\t0.0\tinf\n",
       "R_EX_g6p_e\t0.0\tinf\n",
       "R_EX_2ddglcn_e\t0.0\tinf\n",
       "R_EX_mmet_e\t0.0\tinf\n",
       "R_EX_galct__D_e\t0.0\tinf\n",
       "R_EX_idon__L_e\t0.0\tinf\n",
       "R_EX_indole_e\t0.0\tinf\n",
       "R_EX_3hcinnm_e\t0.0\tinf\n",
       "R_EX_acac_e\t0.0\tinf\n",
       "R_EX_acmana_e\t0.0\tinf\n",
       "R_EX_galur_e\t0.0\tinf\n",
       "R_DM_amob_c\t0.0\tinf\n",
       "R_EX_adn_e\t0.0\tinf\n",
       "R_EX_ins_e\t0.0\tinf\n",
       "R_EX_mg2_e\t-inf\tinf\n",
       "R_EX_glyc3p_e\t0.0\tinf\n",
       "R_EX_but_e\t0.0\tinf\n",
       "R_EX_lcts_e\t0.0\tinf\n",
       "R_EX_ocdca_e\t0.0\tinf\n",
       "R_EX_cbl1_e\t0.0\tinf\n",
       "R_EX_nac_e\t0.0\tinf\n",
       "R_EX_dad_2_e\t0.0\tinf\n",
       "R_EX_ser__D_e\t0.0\tinf\n",
       "R_EX_gam6p_e\t0.0\tinf\n",
       "R_EX_15dap_e\t0.0\tinf\n",
       "R_EX_ocdcea_e\t0.0\tinf\n",
       "R_EX_cynt_e\t0.0\tinf\n",
       "R_EX_galctn__D_e\t0.0\tinf\n",
       "R_EX_glyb_e\t0.0\tinf\n",
       "R_EX_ca2_e\t-inf\tinf\n",
       "R_EX_so3_e\t0.0\tinf\n",
       "R_EX_ascb__L_e\t0.0\tinf\n",
       "R_EX_ala_B_e\t0.0\tinf\n",
       "R_EX_agm_e\t0.0\tinf\n",
       "R_EX_minohp_e\t0.0\tinf\n",
       "R_EX_ppt_e\t0.0\tinf\n",
       "R_EX_hxa_e\t0.0\tinf\n",
       "R_EX_lyx__L_e\t0.0\tinf\n",
       "R_EX_acmum_e\t0.0\tinf\n",
       "R_EX_dca_e\t0.0\tinf\n",
       "R_EX_all__D_e\t0.0\tinf\n",
       "R_EX_octa_e\t0.0\tinf\n",
       "R_EX_gbbtn_e\t0.0\tinf\n",
       "R_EX_xylu__L_e\t0.0\tinf\n",
       "R_EX_gdp_e\t0.0\tinf\n",
       "R_EX_gtp_e\t0.0\tinf\n",
       "R_EX_tma_e\t0.0\tinf\n",
       "R_EX_fruur_e\t0.0\tinf\n",
       "R_EX_malttr_e\t0.0\tinf\n",
       "R_EX_cbi_e\t0.0\tinf\n",
       "R_EX_arbtn_fe3_e\t0.0\tinf\n",
       "R_EX_cpgn_e\t0.0\tinf\n",
       "R_EX_ch4_e\t0.0\tinf\n",
       "R_EX_adocbl_e\t0.0\tinf\n",
       "R_EX_ppa_e\t0.0\tinf\n",
       "R_EX_ni2_e\t-inf\tinf\n",
       "R_EX_no_e\t0.0\tinf\n",
       "R_EX_fad_e\t0.0\tinf\n",
       "R_EX_meoh_e\t0.0\tinf\n",
       "R_EX_fe3dcit_e\t0.0\tinf\n",
       "R_EX_fe3hox_e\t0.0\tinf\n",
       "R_EX_fecrm_e\t0.0\tinf\n",
       "R_EX_feenter_e\t0.0\tinf\n",
       "R_EX_feoxam_e\t0.0\tinf\n",
       "R_EX_3amp_e\t0.0\tinf\n",
       "R_EX_3gmp_e\t0.0\tinf\n",
       "R_EX_3ump_e\t0.0\tinf\n",
       "R_EX_cu2_e\t-inf\tinf\n",
       "R_EX_glyc__R_e\t0.0\tinf\n",
       "R_EX_eca4colipa_e\t0.0\tinf\n",
       "R_EX_mal__D_e\t0.0\tinf\n",
       "R_EX_sel_e\t-inf\tinf\n",
       "R_EX_hg2_e\t0.0\tinf\n",
       "R_EX_cobalt2_e\t-inf\tinf\n",
       "R_EX_pheme_e\t0.0\tinf\n",
       "R_EX_mso3_e\t0.0\tinf\n",
       "R_EX_23camp_e\t0.0\tinf\n",
       "R_EX_23cgmp_e\t0.0\tinf\n",
       "R_EX_23cump_e\t0.0\tinf\n",
       "R_EX_sulfac_e\t0.0\tinf\n",
       "R_EX_butso3_e\t0.0\tinf\n",
       "R_EX_ethso3_e\t0.0\tinf\n",
       "R_EX_tym_e\t0.0\tinf\n",
       "R_EX_imp_e\t0.0\tinf\n",
       "R_EX_fe3hox_un_e\t0.0\tinf\n",
       "R_EX_23dappa_e\t0.0\tinf\n",
       "R_EX_cd2_e\t0.0\tinf\n",
       "R_EX_enter_e\t0.0\tinf\n",
       "R_EX_fecrm_un_e\t0.0\tinf\n",
       "R_EX_cgly_e\t0.0\tinf\n",
       "R_EX_chtbs_e\t0.0\tinf\n",
       "R_EX_gmp_e\t0.0\tinf\n",
       "R_EX_h2o2_e\t0.0\tinf\n",
       "R_EX_ump_e\t0.0\tinf\n",
       "R_EX_pydam_e\t0.0\tinf\n",
       "R_EX_frulys_e\t0.0\tinf\n",
       "R_EX_enlipa_e\t0.0\tinf\n",
       "R_EX_hacolipa_e\t0.0\tinf\n",
       "R_EX_etha_e\t0.0\tinf\n",
       "R_EX_hdca_e\t0.0\tinf\n",
       "R_EX_glcr_e\t0.0\tinf\n",
       "R_EX_h2o_e\t-inf\tinf\n",
       "R_EX_ala__D_e\t0.0\tinf\n",
       "R_EX_mnl_e\t0.0\tinf\n",
       "R_EX_malt_e\t0.0\tinf\n",
       "R_EX_pnto__R_e\t0.0\tinf\n",
       "R_EX_asn__L_e\t0.0\tinf\n",
       "R_EX_cit_e\t0.0\tinf\n",
       "R_EX_mal__L_e\t0.0\tinf\n",
       "R_EX_no2_e\t0.0\tinf\n",
       "R_EX_gam_e\t0.0\tinf\n",
       "R_EX_inost_e\t0.0\tinf\n",
       "R_EX_mobd_e\t-inf\tinf\n",
       "R_EX_so4_e\t-inf\tinf\n",
       "R_EX_phe__L_e\t0.0\tinf\n",
       "R_EX_thr__L_e\t0.0\tinf\n",
       "R_EX_uri_e\t0.0\tinf\n",
       "R_EX_nh4_e\t-inf\tinf\n",
       "R_EX_ddca_e\t0.0\tinf\n",
       "R_EX_r5p_e\t0.0\tinf\n",
       "R_EX_glyc2p_e\t0.0\tinf\n",
       "R_EX_halipa_e\t0.0\tinf\n",
       "R_EX_cmp_e\t0.0\tinf\n",
       "R_EX_malthx_e\t0.0\tinf\n",
       "R_EX_csn_e\t0.0\tinf\n",
       "R_EX_etoh_e\t0.0\tinf\n",
       "R_EX_g3pe_e\t0.0\tinf\n",
       "R_EX_pacald_e\t0.0\tinf\n",
       "R_EX_his__L_e\t0.0\tinf\n",
       "R_EX_k_e\t-inf\tinf\n",
       "R_EX_na1_e\t-inf\tinf\n",
       "R_EX_dmso_e\t0.0\tinf\n",
       "R_EX_12ppd__S_e\t0.0\tinf\n",
       "R_EX_pppn_e\t0.0\tinf\n",
       "R_EX_acgam1p_e\t0.0\tinf\n",
       "R_EX_galt_e\t0.0\tinf\n",
       "R_EX_glcur1p_e\t0.0\tinf\n",
       "R_EX_thrp_e\t0.0\tinf\n",
       "R_EX_fald_e\t0.0\tinf\n",
       "R_EX_pydxn_e\t0.0\tinf\n",
       "R_EX_acgal_e\t0.0\tinf\n",
       "R_EX_so2_e\t0.0\tinf\n",
       "R_EX_dms_e\t0.0\tinf\n",
       "R_EX_acgal1p_e\t0.0\tinf\n",
       "R_EX_cyan_e\t0.0\tinf\n",
       "R_EX_tyrp_e\t0.0\tinf\n",
       "R_EX_uacgam_e\t0.0\tinf\n",
       "R_EX_udpacgal_e\t0.0\tinf\n",
       "R_EX_udpg_e\t0.0\tinf\n",
       "R_EX_udpgal_e\t0.0\tinf\n",
       "R_EX_udpglcur_e\t0.0\tinf\n",
       "R_EX_14glucan_e\t0.0\tinf\n",
       "R_EX_pser__L_e\t0.0\tinf\n",
       "R_EX_xmp_e\t0.0\tinf\n",
       "R_EX_damp_e\t0.0\tinf\n",
       "R_EX_dimp_e\t0.0\tinf\n",
       "R_EX_isetac_e\t0.0\tinf\n",
       "R_EX_aso3_e\t0.0\tinf\n",
       "R_EX_tcynt_e\t0.0\tinf\n",
       "R_EX_fe3dhbzs_e\t0.0\tinf\n",
       "R_EX_feoxam_un_e\t0.0\tinf\n",
       "R_EX_g3pc_e\t0.0\tinf\n",
       "R_EX_g3pg_e\t0.0\tinf\n",
       "R_EX_g3pi_e\t0.0\tinf\n",
       "R_EX_g3ps_e\t0.0\tinf\n",
       "R_EX_peamn_e\t0.0\tinf\n",
       "R_EX_34dhpac_e\t0.0\tinf\n",
       "R_EX_cys__L_e\t0.0\tinf\n",
       "R_EX_gsn_e\t0.0\tinf\n",
       "R_EX_orot_e\t0.0\tinf\n",
       "R_EX_manglyc_e\t0.0\tinf\n",
       "R_EX_metsox_R__L_e\t0.0\tinf\n",
       "R_EX_cl_e\t-inf\tinf\n",
       "R_EX_dgmp_e\t0.0\tinf\n",
       "R_EX_4hoxpacd_e\t0.0\tinf\n",
       "R_EX_3hpppn_e\t0.0\tinf\n",
       "R_EX_man6p_e\t0.0\tinf\n",
       "R_EX_tsul_e\t0.0\tinf\n",
       "R_EX_n2o_e\t0.0\tinf\n",
       "R_EX_maltttr_e\t0.0\tinf\n",
       "R_EX_alaala_e\t0.0\tinf\n",
       "R_EX_dtmp_e\t0.0\tinf\n",
       "R_DM_5drib_c\t0.0\tinf\n",
       "R_EX_lipoate_e\t0.0\tinf\n",
       "R_EX_pydx_e\t0.0\tinf\n",
       "R_EX_g1p_e\t0.0\tinf\n",
       "R_DM_oxam_c\t0.0\tinf\n",
       "R_EX_o2_e\t-inf\tinf\n",
       "R_EX_progly_e\t0.0\tinf\n",
       "R_EX_gal_bD_e\t0.0\tinf\n",
       "R_EX_dump_e\t0.0\tinf\n",
       "R_EX_12ppd__R_e\t0.0\tinf\n",
       "R_EX_o2s_e\t0.0\tinf\n",
       "R_EX_gal1p_e\t0.0\tinf\n",
       "R_EX_dcmp_e\t0.0\tinf\n",
       "R_EX_23ccmp_e\t0.0\tinf\n",
       "R_EX_3cmp_e\t0.0\tinf\n",
       "R_EX_urate_e\t0.0\tinf\n",
       "R_EX_skm_e\t0.0\tinf\n",
       "R_EX_cpgn_un_e\t0.0\tinf\n",
       "R_EX_ag_e\t0.0\tinf\n",
       "R_EX_cys__D_e\t0.0\tinf\n",
       "R_EX_acser_e\t0.0\tinf\n",
       "R_EX_cu_e\t0.0\tinf\n",
       "R_EX_arbtn_e\t0.0\tinf\n",
       "R_EX_dopa_e\t0.0\tinf\n",
       "R_EX_tartr__D_e\t0.0\tinf\n",
       "R_EX_galctn__L_e\t0.0\tinf\n",
       "R_EX_hom__L_e\t0.0\tinf\n",
       "R_EX_tungs_e\t-inf\tinf\n",
       "R_EX_crn__D_e\t0.0\tinf\n",
       "R_EX_LalaDgluMdapDala_e\t0.0\tinf\n",
       "R_EX_5dglcn_e\t0.0\tinf\n",
       "R_EX_LalaDgluMdap_e\t0.0\tinf\n",
       "R_EX_psclys_e\t0.0\tinf\n",
       "R_EX_anhgm_e\t0.0\tinf\n",
       "R_DM_aacald_c\t0.0\tinf\n",
       "R_EX_ppal_e\t0.0\tinf\n",
       "R_EX_slnt_e\t-inf\tinf\n",
       "R_EX_LalaDglu_e\t0.0\tinf\n",
       "R_EX_5mtr_e\t0.0\tinf\n",
       "R_EX_LalaLglu_e\t0.0\tinf\n",
       "R_EX_ttrcyc_e\t0.0\tinf\n",
       "R_EX_mincyc_e\t0.0\tinf\n",
       "R_DM_4crsol_c\t0.0\tinf\n",
       "R_EX_arbt_e\t0.0\tinf\n",
       "R_EX_dxylnt_e\t0.0\tinf\n",
       "R_EX_mththf_e\t0.0\tinf\n",
       "R_EX_doxrbcn_e\t0.0\tinf\n",
       "R_EX_dhps_e\t0.0\tinf\n",
       "R_EX_cs1_e\t0.0\tinf\n",
       "R_EX_fusa_e\t0.0\tinf\n",
       "R_EX_mepn_e\t0.0\tinf\n",
       "R_EX_cm_e\t0.0\tinf\n",
       "R_EX_novbcn_e\t0.0\tinf\n",
       "R_EX_2dglc_e\t0.0\tinf\n",
       "R_EX_sq_e\t0.0\tinf\n",
       "R_EX_4abzglu_e\t0.0\tinf\n",
       "R_EX_rfamp_e\t0.0\tinf\n",
       "R_EX_metglcur_e\t0.0\tinf\n",
       "R_EX_quin_e\t0.0\tinf\n",
       "R_EX_3hpp_e\t0.0\tinf\n",
       "R_DM_mththf_c\t0.0\tinf\n",
       "R_EX_34dhcinm_e\t-inf\tinf\n",
       "R_EX_saa_e\t-inf\tinf\n",
       "R_EX_rosma_e\t0.0\tinf"
      ]
     },
     "execution_count": 18,
     "metadata": {},
     "output_type": "execute_result"
    }
   ],
   "source": [
    "Environment.from_model(MAM2)"
   ]
  },
  {
   "cell_type": "code",
   "execution_count": 28,
   "metadata": {},
   "outputs": [
    {
     "data": {
      "text/plain": [
       "<ReactionType.EXCHANGE: 'exchange'>"
      ]
     },
     "execution_count": 28,
     "metadata": {},
     "output_type": "execute_result"
    }
   ],
   "source": [
    "MAM2.reactions.R_EX_rosma_e.reaction_type"
   ]
  },
  {
   "cell_type": "code",
   "execution_count": 12,
   "metadata": {},
   "outputs": [
    {
     "name": "stdout",
     "output_type": "stream",
     "text": [
      "Objective: 0.0\n",
      "Status: Optimal\n",
      "\n",
      "R_EX_pyr_e    3.2975\n",
      "R_EX_dha_e    3.04889\n",
      "R_EX_h_e      31.9031\n",
      "R_EX_glc__D_e -3.81111\n",
      "R_EX_hxa_e    3.2975\n",
      "R_EX_h2o_e   -12.1181\n",
      "R_EX_for_e    9.8925\n",
      "R_EX_34dhcinm_e  15.4156\n",
      "R_EX_arab__D_e -5.17\n",
      "R_EX_saa_e    15.4156\n",
      "R_EX_rosma_e -15.4156\n"
     ]
    },
    {
     "name": "stderr",
     "output_type": "stream",
     "text": [
      "/Users/andreastallvik/Projects/BIOTBT3900/venv/lib/python3.10/site-packages/reframed/solvers/cplex_solver.py:409: UserWarning: Constrained variable not previously declared: R_DM_amob_c\n",
      "  warn(f\"Constrained variable not previously declared: {r_id}\")\n",
      "/Users/andreastallvik/Projects/BIOTBT3900/venv/lib/python3.10/site-packages/reframed/solvers/cplex_solver.py:409: UserWarning: Constrained variable not previously declared: R_DM_5drib_c\n",
      "  warn(f\"Constrained variable not previously declared: {r_id}\")\n",
      "/Users/andreastallvik/Projects/BIOTBT3900/venv/lib/python3.10/site-packages/reframed/solvers/cplex_solver.py:409: UserWarning: Constrained variable not previously declared: R_DM_oxam_c\n",
      "  warn(f\"Constrained variable not previously declared: {r_id}\")\n",
      "/Users/andreastallvik/Projects/BIOTBT3900/venv/lib/python3.10/site-packages/reframed/solvers/cplex_solver.py:409: UserWarning: Constrained variable not previously declared: R_DM_aacald_c\n",
      "  warn(f\"Constrained variable not previously declared: {r_id}\")\n",
      "/Users/andreastallvik/Projects/BIOTBT3900/venv/lib/python3.10/site-packages/reframed/solvers/cplex_solver.py:409: UserWarning: Constrained variable not previously declared: R_DM_4crsol_c\n",
      "  warn(f\"Constrained variable not previously declared: {r_id}\")\n",
      "/Users/andreastallvik/Projects/BIOTBT3900/venv/lib/python3.10/site-packages/reframed/solvers/cplex_solver.py:409: UserWarning: Constrained variable not previously declared: R_DM_mththf_c\n",
      "  warn(f\"Constrained variable not previously declared: {r_id}\")\n"
     ]
    }
   ],
   "source": [
    "super_oganism = com.merged_model\n",
    "\n",
    "solution = FBA(super_oganism, constraints=extended_env)\n",
    "\n",
    "print(solution)\n",
    "solution.show_values(pattern='R_EX')"
   ]
  },
  {
   "cell_type": "code",
   "execution_count": 10,
   "metadata": {},
   "outputs": [
    {
     "data": {
      "text/plain": [
       "Objective: 0.8739215069684303\n",
       "Status: Optimal"
      ]
     },
     "execution_count": 10,
     "metadata": {},
     "output_type": "execute_result"
    }
   ],
   "source": [
    "FBA(e_coli_core)"
   ]
  },
  {
   "cell_type": "code",
   "execution_count": 21,
   "metadata": {},
   "outputs": [
    {
     "data": {
      "text/plain": [
       "'community_growth'"
      ]
     },
     "execution_count": 21,
     "metadata": {},
     "output_type": "execute_result"
    }
   ],
   "source": [
    "super_oganism.biomass_reaction"
   ]
  },
  {
   "cell_type": "code",
   "execution_count": 22,
   "metadata": {},
   "outputs": [
    {
     "name": "stderr",
     "output_type": "stream",
     "text": [
      "/Users/andreastallvik/Projects/BIOTBT3900/venv/lib/python3.10/site-packages/numpy/core/function_base.py:151: RuntimeWarning: invalid value encountered in multiply\n",
      "  y *= step\n"
     ]
    },
    {
     "ename": "CplexSolverError",
     "evalue": "CPLEX Error  1225: Numeric entry is not a double precision number (NaN).",
     "output_type": "error",
     "traceback": [
      "\u001b[0;31m---------------------------------------------------------------------------\u001b[0m",
      "\u001b[0;31mCplexSolverError\u001b[0m                          Traceback (most recent call last)",
      "\u001b[1;32m/Users/andreastallvik/Projects/BIOTBT3900/src/RAsynthesis/community_modelling.ipynb Cell 11\u001b[0m in \u001b[0;36m1\n\u001b[0;32m----> <a href='vscode-notebook-cell:/Users/andreastallvik/Projects/BIOTBT3900/src/RAsynthesis/community_modelling.ipynb#X12sZmlsZQ%3D%3D?line=0'>1</a>\u001b[0m plot_flux_envelope(super_oganism, super_oganism\u001b[39m.\u001b[39;49mbiomass_reaction, \u001b[39m'\u001b[39;49m\u001b[39mR_EX_rosma_e\u001b[39;49m\u001b[39m'\u001b[39;49m)\n",
      "File \u001b[0;32m~/Projects/BIOTBT3900/venv/lib/python3.10/site-packages/reframed/cobra/plotting.py:79\u001b[0m, in \u001b[0;36mplot_flux_envelope\u001b[0;34m(model, r_x, r_y, steps, substrate, constraints, label_x, label_y, flip_x, flip_y, plot_kwargs, fill_kwargs, ax)\u001b[0m\n\u001b[1;32m     76\u001b[0m \u001b[39mif\u001b[39;00m \u001b[39mnot\u001b[39;00m fill_kwargs:\n\u001b[1;32m     77\u001b[0m     fill_kwargs \u001b[39m=\u001b[39m {\u001b[39m'\u001b[39m\u001b[39mcolor\u001b[39m\u001b[39m'\u001b[39m: \u001b[39m'\u001b[39m\u001b[39mk\u001b[39m\u001b[39m'\u001b[39m, \u001b[39m'\u001b[39m\u001b[39malpha\u001b[39m\u001b[39m'\u001b[39m: \u001b[39m0.1\u001b[39m}\n\u001b[0;32m---> 79\u001b[0m xvals, ymins, ymaxs \u001b[39m=\u001b[39m flux_envelope(model, r_x, r_y, steps, constraints)\n\u001b[1;32m     81\u001b[0m \u001b[39mif\u001b[39;00m flip_x:\n\u001b[1;32m     82\u001b[0m     xvals, ymins, ymaxs \u001b[39m=\u001b[39m \u001b[39m-\u001b[39mxvals, ymins[::\u001b[39m-\u001b[39m\u001b[39m1\u001b[39m], ymaxs[::\u001b[39m-\u001b[39m\u001b[39m1\u001b[39m]\n",
      "File \u001b[0;32m~/Projects/BIOTBT3900/venv/lib/python3.10/site-packages/reframed/cobra/plotting.py:33\u001b[0m, in \u001b[0;36mflux_envelope\u001b[0;34m(model, r_x, r_y, steps, constraints)\u001b[0m\n\u001b[1;32m     31\u001b[0m \u001b[39mfor\u001b[39;00m i, xval \u001b[39min\u001b[39;00m \u001b[39menumerate\u001b[39m(xvals):\n\u001b[1;32m     32\u001b[0m     _constraints[r_x] \u001b[39m=\u001b[39m xval\n\u001b[0;32m---> 33\u001b[0m     y_range \u001b[39m=\u001b[39m FVA(model, reactions\u001b[39m=\u001b[39;49m[r_y], constraints\u001b[39m=\u001b[39;49m_constraints)\n\u001b[1;32m     34\u001b[0m     ymins[i], ymaxs[i] \u001b[39m=\u001b[39m y_range[r_y]\n\u001b[1;32m     36\u001b[0m \u001b[39mreturn\u001b[39;00m xvals, ymins, ymaxs\n",
      "File \u001b[0;32m~/Projects/BIOTBT3900/venv/lib/python3.10/site-packages/reframed/cobra/variability.py:47\u001b[0m, in \u001b[0;36mFVA\u001b[0;34m(model, obj_frac, reactions, constraints, loopless, internal, solver)\u001b[0m\n\u001b[1;32m     44\u001b[0m     solution \u001b[39m=\u001b[39m llFBA(model, r_id, \u001b[39mTrue\u001b[39;00m, constraints\u001b[39m=\u001b[39m_constraints, internal\u001b[39m=\u001b[39minternal,\n\u001b[1;32m     45\u001b[0m                      solver\u001b[39m=\u001b[39msolver, get_values\u001b[39m=\u001b[39m\u001b[39mFalse\u001b[39;00m)\n\u001b[1;32m     46\u001b[0m \u001b[39melse\u001b[39;00m:\n\u001b[0;32m---> 47\u001b[0m     solution \u001b[39m=\u001b[39m FBA(model, r_id, \u001b[39mTrue\u001b[39;49;00m, constraints\u001b[39m=\u001b[39;49m_constraints, solver\u001b[39m=\u001b[39;49msolver, get_values\u001b[39m=\u001b[39;49m\u001b[39mFalse\u001b[39;49;00m)\n\u001b[1;32m     49\u001b[0m \u001b[39mif\u001b[39;00m solution\u001b[39m.\u001b[39mstatus \u001b[39m==\u001b[39m Status\u001b[39m.\u001b[39mOPTIMAL:\n\u001b[1;32m     50\u001b[0m     variability[r_id][\u001b[39m0\u001b[39m] \u001b[39m=\u001b[39m solution\u001b[39m.\u001b[39mfobj\n",
      "File \u001b[0;32m~/Projects/BIOTBT3900/venv/lib/python3.10/site-packages/reframed/cobra/simulation.py:36\u001b[0m, in \u001b[0;36mFBA\u001b[0;34m(model, objective, minimize, constraints, solver, get_values, shadow_prices, reduced_costs)\u001b[0m\n\u001b[1;32m     33\u001b[0m \u001b[39mif\u001b[39;00m \u001b[39mnot\u001b[39;00m solver:\n\u001b[1;32m     34\u001b[0m     solver \u001b[39m=\u001b[39m solver_instance(model)\n\u001b[0;32m---> 36\u001b[0m solution \u001b[39m=\u001b[39m solver\u001b[39m.\u001b[39;49msolve(objective, minimize\u001b[39m=\u001b[39;49mminimize, constraints\u001b[39m=\u001b[39;49mconstraints, get_values\u001b[39m=\u001b[39;49mget_values,\n\u001b[1;32m     37\u001b[0m                         shadow_prices\u001b[39m=\u001b[39;49mshadow_prices, reduced_costs\u001b[39m=\u001b[39;49mreduced_costs)\n\u001b[1;32m     38\u001b[0m \u001b[39mreturn\u001b[39;00m solution\n",
      "File \u001b[0;32m~/Projects/BIOTBT3900/venv/lib/python3.10/site-packages/reframed/solvers/cplex_solver.py:321\u001b[0m, in \u001b[0;36mCplexSolver.solve\u001b[0;34m(self, linear, quadratic, minimize, model, constraints, get_values, shadow_prices, reduced_costs, pool_size, pool_gap, emphasis, timelimit)\u001b[0m\n\u001b[1;32m    318\u001b[0m problem \u001b[39m=\u001b[39m \u001b[39mself\u001b[39m\u001b[39m.\u001b[39mproblem\n\u001b[1;32m    320\u001b[0m \u001b[39mif\u001b[39;00m constraints:\n\u001b[0;32m--> 321\u001b[0m     changed_lb, changed_ub \u001b[39m=\u001b[39m \u001b[39mself\u001b[39;49m\u001b[39m.\u001b[39;49mtemporary_bounds(constraints)\n\u001b[1;32m    323\u001b[0m \u001b[39mself\u001b[39m\u001b[39m.\u001b[39mset_objective(linear, quadratic, minimize)\n\u001b[1;32m    325\u001b[0m \u001b[39m# run the optimization\u001b[39;00m\n",
      "File \u001b[0;32m~/Projects/BIOTBT3900/venv/lib/python3.10/site-packages/reframed/solvers/cplex_solver.py:414\u001b[0m, in \u001b[0;36mCplexSolver.temporary_bounds\u001b[0;34m(self, constraints)\u001b[0m\n\u001b[1;32m    412\u001b[0m     lb_new \u001b[39m=\u001b[39m _dict_diff(lower_bounds, \u001b[39mself\u001b[39m\u001b[39m.\u001b[39m_cached_lower_bounds)\n\u001b[1;32m    413\u001b[0m     \u001b[39mif\u001b[39;00m \u001b[39mlen\u001b[39m(lb_new) \u001b[39m>\u001b[39m \u001b[39m0\u001b[39m:\n\u001b[0;32m--> 414\u001b[0m         \u001b[39mself\u001b[39;49m\u001b[39m.\u001b[39;49mproblem\u001b[39m.\u001b[39;49mvariables\u001b[39m.\u001b[39;49mset_lower_bounds(lb_new)\n\u001b[1;32m    416\u001b[0m \u001b[39mif\u001b[39;00m upper_bounds \u001b[39m!=\u001b[39m \u001b[39mself\u001b[39m\u001b[39m.\u001b[39m_cached_upper_bounds:\n\u001b[1;32m    417\u001b[0m     ub_new \u001b[39m=\u001b[39m _dict_diff(upper_bounds, \u001b[39mself\u001b[39m\u001b[39m.\u001b[39m_cached_upper_bounds)\n",
      "File \u001b[0;32m~/Projects/BIOTBT3900/venv/lib/python3.10/site-packages/cplex/_internal/_subinterfaces.py:542\u001b[0m, in \u001b[0;36mVariablesInterface.set_lower_bounds\u001b[0;34m(self, *args)\u001b[0m\n\u001b[1;32m    540\u001b[0m \u001b[39mdef\u001b[39;00m \u001b[39msetlb\u001b[39m(a, b):\n\u001b[1;32m    541\u001b[0m     CPX_PROC\u001b[39m.\u001b[39mchgbds(\u001b[39mself\u001b[39m\u001b[39m.\u001b[39m_env\u001b[39m.\u001b[39m_e, \u001b[39mself\u001b[39m\u001b[39m.\u001b[39m_cplex\u001b[39m.\u001b[39m_lp, a, \u001b[39m\"\u001b[39m\u001b[39mL\u001b[39m\u001b[39m\"\u001b[39m \u001b[39m*\u001b[39m \u001b[39mlen\u001b[39m(a), b)\n\u001b[0;32m--> 542\u001b[0m apply_pairs(setlb, \u001b[39mself\u001b[39;49m\u001b[39m.\u001b[39;49m_conv, \u001b[39m*\u001b[39;49margs)\n",
      "File \u001b[0;32m~/Projects/BIOTBT3900/venv/lib/python3.10/site-packages/cplex/_internal/_aux_functions.py:192\u001b[0m, in \u001b[0;36mapply_pairs\u001b[0;34m(fn, conv, *args)\u001b[0m\n\u001b[1;32m    190\u001b[0m     \u001b[39m# NB: If pair is empty, then we do nothing.\u001b[39;00m\n\u001b[1;32m    191\u001b[0m     \u001b[39mif\u001b[39;00m pair:\n\u001b[0;32m--> 192\u001b[0m         fn(conv(pair[\u001b[39m0\u001b[39;49m]), \u001b[39mlist\u001b[39;49m(pair[\u001b[39m1\u001b[39;49m]))\n\u001b[1;32m    193\u001b[0m     \u001b[39mreturn\u001b[39;00m\n\u001b[1;32m    194\u001b[0m \u001b[39mraise\u001b[39;00m WrongNumberOfArgumentsError(nargs)\n",
      "File \u001b[0;32m~/Projects/BIOTBT3900/venv/lib/python3.10/site-packages/cplex/_internal/_subinterfaces.py:541\u001b[0m, in \u001b[0;36mVariablesInterface.set_lower_bounds.<locals>.setlb\u001b[0;34m(a, b)\u001b[0m\n\u001b[1;32m    540\u001b[0m \u001b[39mdef\u001b[39;00m \u001b[39msetlb\u001b[39m(a, b):\n\u001b[0;32m--> 541\u001b[0m     CPX_PROC\u001b[39m.\u001b[39;49mchgbds(\u001b[39mself\u001b[39;49m\u001b[39m.\u001b[39;49m_env\u001b[39m.\u001b[39;49m_e, \u001b[39mself\u001b[39;49m\u001b[39m.\u001b[39;49m_cplex\u001b[39m.\u001b[39;49m_lp, a, \u001b[39m\"\u001b[39;49m\u001b[39mL\u001b[39;49m\u001b[39m\"\u001b[39;49m \u001b[39m*\u001b[39;49m \u001b[39mlen\u001b[39;49m(a), b)\n",
      "File \u001b[0;32m~/Projects/BIOTBT3900/venv/lib/python3.10/site-packages/cplex/_internal/_procedural.py:1071\u001b[0m, in \u001b[0;36mchgbds\u001b[0;34m(env, lp, indices, lu, bd)\u001b[0m\n\u001b[1;32m   1067\u001b[0m \u001b[39mwith\u001b[39;00m LAU\u001b[39m.\u001b[39mint_c_array(indices) \u001b[39mas\u001b[39;00m c_ind, \\\n\u001b[1;32m   1068\u001b[0m         LAU\u001b[39m.\u001b[39mdouble_c_array(bd) \u001b[39mas\u001b[39;00m c_bd:\n\u001b[1;32m   1069\u001b[0m     status \u001b[39m=\u001b[39m CR\u001b[39m.\u001b[39mCPXXchgbds(env, lp, \u001b[39mlen\u001b[39m(indices),\n\u001b[1;32m   1070\u001b[0m                            c_ind, lu, c_bd)\n\u001b[0;32m-> 1071\u001b[0m check_status(env, status)\n",
      "File \u001b[0;32m~/Projects/BIOTBT3900/venv/lib/python3.10/site-packages/cplex/_internal/_procedural.py:249\u001b[0m, in \u001b[0;36mStatusChecker.__call__\u001b[0;34m(self, env, status, from_cb)\u001b[0m\n\u001b[1;32m    247\u001b[0m     \u001b[39melse\u001b[39;00m:\n\u001b[1;32m    248\u001b[0m         error_string \u001b[39m=\u001b[39m geterrorstring(env, status)\n\u001b[0;32m--> 249\u001b[0m \u001b[39mraise\u001b[39;00m CplexSolverError(error_string, env, status)\n",
      "\u001b[0;31mCplexSolverError\u001b[0m: CPLEX Error  1225: Numeric entry is not a double precision number (NaN)."
     ]
    },
    {
     "data": {
      "image/png": "[encoded data removed]",
      "text/plain": [
       "<Figure size 640x480 with 1 Axes>"
      ]
     },
     "metadata": {},
     "output_type": "display_data"
    }
   ],
   "source": [
    "plot_flux_envelope(super_oganism, super_oganism.biomass_reaction, 'R_EX_rosma_e')"
   ]
  },
  {
   "cell_type": "code",
   "execution_count": null,
   "metadata": {},
   "outputs": [],
   "source": []
  }
 ],
 "metadata": {
  "kernelspec": {
   "display_name": "venv",
   "language": "python",
   "name": "python3"
  },
  "language_info": {
   "codemirror_mode": {
    "name": "ipython",
    "version": 3
   },
   "file_extension": ".py",
   "mimetype": "text/x-python",
   "name": "python",
   "nbconvert_exporter": "python",
   "pygments_lexer": "ipython3",
   "version": "3.10.7"
  },
  "orig_nbformat": 4
 },
 "nbformat": 4,
 "nbformat_minor": 2
}
