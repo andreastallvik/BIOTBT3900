{
 "cells": [
  {
   "cell_type": "code",
   "execution_count": 1,
   "metadata": {},
   "outputs": [],
   "source": [
    "from reframed import Community, Environment\n",
    "from reframed import load_cbmodel, FBA, plot_flux_envelope"
   ]
  },
  {
   "attachments": {},
   "cell_type": "markdown",
   "metadata": {},
   "source": [
    "Load individual models"
   ]
  },
  {
   "cell_type": "code",
   "execution_count": 2,
   "metadata": {},
   "outputs": [],
   "source": [
    "CAL2 = load_cbmodel('../GEMs/CAL2.xml')\n",
    "SAL9 = load_cbmodel('../GEMs/SAL9.xml')\n",
    "MAM2 = load_cbmodel('../GEMs/MAM2.xml')"
   ]
  },
  {
   "attachments": {},
   "cell_type": "markdown",
   "metadata": {},
   "source": [
    "create community model by merging individual models"
   ]
  },
  {
   "cell_type": "code",
   "execution_count": 70,
   "metadata": {},
   "outputs": [],
   "source": [
    "community = Community('RA_community', [CAL2, SAL9, MAM2]).merge_models()"
   ]
  },
  {
   "attachments": {},
   "cell_type": "markdown",
   "metadata": {},
   "source": [
    "retrieve the medium composition from the CAL2 model, to use as constraints"
   ]
  },
  {
   "cell_type": "code",
   "execution_count": 71,
   "metadata": {},
   "outputs": [
    {
     "name": "stdout",
     "output_type": "stream",
     "text": [
      "Environment compounds: pi, co2, fe3, h, mn2, fe2, glc__D, zn2, mg2, ca2, ni2, cu2, sel, cobalt2, h2o, mobd, so4, phe__L, nh4, k, na1, cl, o2, tungs, slnt\n"
     ]
    }
   ],
   "source": [
    "cal_medium = Environment.from_model(CAL2)\n",
    "print(f\"Environment compounds: {', '.join(cal_medium.get_compounds())}\")"
   ]
  },
  {
   "cell_type": "code",
   "execution_count": 81,
   "metadata": {},
   "outputs": [],
   "source": [
    "complete_env = Environment.complete(CAL2)"
   ]
  },
  {
   "attachments": {},
   "cell_type": "markdown",
   "metadata": {},
   "source": [
    "add arabinose restriction manually, since external arabinose is not present in the K12 model (and therefore not in CAL2 module) but is in the BL21 model (MAM2)"
   ]
  },
  {
   "cell_type": "code",
   "execution_count": 72,
   "metadata": {},
   "outputs": [],
   "source": [
    "cal_medium.update({\"R_EX_arab__D_e\": (0.0, \"inf\")})"
   ]
  },
  {
   "attachments": {},
   "cell_type": "markdown",
   "metadata": {},
   "source": [
    "bound the RA transport reaction in RA module so that the community cannot grow on RA"
   ]
  },
  {
   "cell_type": "code",
   "execution_count": 73,
   "metadata": {},
   "outputs": [],
   "source": [
    "community.set_flux_bounds('R_RAt_MAM2', 0, 1000)"
   ]
  },
  {
   "attachments": {},
   "cell_type": "markdown",
   "metadata": {},
   "source": [
    "standard FBA"
   ]
  },
  {
   "cell_type": "code",
   "execution_count": 76,
   "metadata": {},
   "outputs": [
    {
     "name": "stdout",
     "output_type": "stream",
     "text": [
      "Objective: 0.0\n",
      "Status: Optimal\n",
      "\n",
      "R_EX_pyr_e    7.00989\n",
      "R_EX_h_e      24.33\n",
      "R_EX_glc__D_e -10\n",
      "R_EX_o2_e    -1.33993\n",
      "R_EX_hxa_e    4.33004\n",
      "R_EX_h2o_e    7.00989\n",
      "R_EX_for_e    12.9901\n"
     ]
    }
   ],
   "source": [
    "solution = FBA(community, constraints=cal_medium, objective=community.biomass_reaction)\n",
    "\n",
    "print(solution)\n",
    "solution.show_values(pattern='R_EX')"
   ]
  },
  {
   "attachments": {},
   "cell_type": "markdown",
   "metadata": {},
   "source": [
    "does there exist an exhange reaction so that if uptake of that metabolite is allowed then growth becomes possible? (estimated worst-case runtime about 3 minutes)"
   ]
  },
  {
   "cell_type": "code",
   "execution_count": 100,
   "metadata": {},
   "outputs": [
    {
     "name": "stderr",
     "output_type": "stream",
     "text": [
      "/Users/andreastallvik/Projects/BIOTBT3900/venv/lib/python3.10/site-packages/reframed/solvers/cplex_solver.py:409: UserWarning: Constrained variable not previously declared: R_DM_amob_c\n",
      "  warn(f\"Constrained variable not previously declared: {r_id}\")\n",
      "/Users/andreastallvik/Projects/BIOTBT3900/venv/lib/python3.10/site-packages/reframed/solvers/cplex_solver.py:409: UserWarning: Constrained variable not previously declared: R_DM_5drib_c\n",
      "  warn(f\"Constrained variable not previously declared: {r_id}\")\n",
      "/Users/andreastallvik/Projects/BIOTBT3900/venv/lib/python3.10/site-packages/reframed/solvers/cplex_solver.py:409: UserWarning: Constrained variable not previously declared: R_DM_oxam_c\n",
      "  warn(f\"Constrained variable not previously declared: {r_id}\")\n",
      "/Users/andreastallvik/Projects/BIOTBT3900/venv/lib/python3.10/site-packages/reframed/solvers/cplex_solver.py:409: UserWarning: Constrained variable not previously declared: R_DM_aacald_c\n",
      "  warn(f\"Constrained variable not previously declared: {r_id}\")\n",
      "/Users/andreastallvik/Projects/BIOTBT3900/venv/lib/python3.10/site-packages/reframed/solvers/cplex_solver.py:409: UserWarning: Constrained variable not previously declared: R_DM_4crsol_c\n",
      "  warn(f\"Constrained variable not previously declared: {r_id}\")\n",
      "/Users/andreastallvik/Projects/BIOTBT3900/venv/lib/python3.10/site-packages/reframed/solvers/cplex_solver.py:409: UserWarning: Constrained variable not previously declared: R_DM_mththf_c\n",
      "  warn(f\"Constrained variable not previously declared: {r_id}\")\n"
     ]
    }
   ],
   "source": [
    "#iterate over all exhange reactions and print the reaction name if objective > 0\n",
    "\n",
    "exhange_reactions = community.get_exchange_reactions()\n",
    "\n",
    "for reaction in exhange_reactions:\n",
    "\n",
    "    medium = Environment.from_model(CAL2) #reset the medium each loop\n",
    "\n",
    "    medium.update({reaction: (-10, \"inf\")}) #\n",
    "\n",
    "    solution = FBA(community, constraints=medium, objective=community.biomass_reaction)\n",
    "\n",
    "    #run the FBA\n",
    "    if solution.values[\"community_growth\"] > 0:\n",
    "        print(reaction)\n",
    "    \n",
    "    "
   ]
  },
  {
   "cell_type": "code",
   "execution_count": 17,
   "metadata": {},
   "outputs": [
    {
     "name": "stdout",
     "output_type": "stream",
     "text": [
      "R_Htex_MAM2  -14.4593\n",
      "R_PGK_MAM2   -14.4593\n",
      "R_ALCD2x_MAM2 -14.4593\n",
      "R_ETOHtex_MAM2 -14.4593\n",
      "R_PGM_MAM2   -14.4593\n",
      "R_ETOHtrpp_MAM2 -14.4593\n",
      "R_H2Otex_MAM2 -10.4242\n",
      "R_H2Otpp_MAM2 -10.4242\n",
      "R_PYRt2rpp_MAM2 -7.35952\n",
      "R_PYRtex_MAM2 -7.35952\n",
      "R_TRPAS2_MAM2 -7.09983\n",
      "R_TRPt2rpp_MAM2 -7.09983\n",
      "R_TRPtex_MAM2 -7.09983\n",
      "R_ATPS4rpp_MAM2 -4.27496\n",
      "R_PYNP2r_MAM2 -3.32439\n",
      "R_PPM_MAM2   -3.32439\n",
      "R_URIt2pp_copy2_MAM2 -3.32439\n",
      "R_URItex_MAM2 -3.32439\n",
      "R_RPE_MAM2   -2.21626\n",
      "R_RPI_MAM2   -2.21626\n",
      "R_TALA_MAM2  -1.10813\n",
      "R_TKT1_MAM2  -1.10813\n",
      "R_TKT2_MAM2  -1.10813\n",
      "R_URAtex_MAM2  3.32439\n",
      "R_URAt2pp_MAM2  3.32439\n",
      "R_ATPM_MAM2   6.86\n",
      "R_INDOLEtex_MAM2  7.09983\n",
      "R_NH4tpp_MAM2  7.09983\n",
      "R_NH4tex_MAM2  7.09983\n",
      "R_INDOLEt2rpp_MAM2  7.09983\n",
      "R_FBA_MAM2    7.78374\n",
      "R_PFK_MAM2    7.78374\n",
      "R_TPI_MAM2    7.78374\n",
      "R_PGI_MAM2    10\n",
      "R_HEX1_MAM2   10\n",
      "R_GLCt2pp_MAM2  10\n",
      "R_GLCtex_copy2_MAM2  10\n",
      "R_PYK_MAM2    14.4593\n",
      "R_ENO_MAM2    14.4593\n",
      "R_GAPD_MAM2   14.4593\n",
      "R_ACALDtex_MAM2  14.4593\n",
      "R_ACALDtpp_MAM2  14.4593\n"
     ]
    }
   ],
   "source": [
    "solution.show_values(pattern='MAM2', sort=True)"
   ]
  },
  {
   "cell_type": "code",
   "execution_count": 14,
   "metadata": {},
   "outputs": [
    {
     "name": "stdout",
     "output_type": "stream",
     "text": [
      "R_Htex_SAL9  -9.15645\n",
      "R_PGK_SAL9   -9.15645\n",
      "R_ALCD2x_SAL9 -9.15645\n",
      "R_TRPAS2_SAL9 -9.15645\n",
      "R_NDPK4_SAL9 -9.15645\n",
      "R_TRPt2rpp_SAL9 -9.15645\n",
      "R_TRPtex_SAL9 -9.15645\n",
      "R_ETOHtex_SAL9 -9.15645\n",
      "R_PGM_SAL9   -9.15645\n",
      "R_ETOHtrpp_SAL9 -9.15645\n",
      "R_H2Otex_SAL9 -9.15645\n",
      "R_H2Otpp_SAL9 -9.15645\n",
      "R_ATPS4rpp_SAL9 -3.70482\n",
      "R_RPI_SAL9   -1.88761\n",
      "R_DHAtpp_SAL9 -0.281624\n",
      "R_DHAtex_SAL9 -0.281624\n",
      "R_ALKP_SAL9   0.281624\n",
      "R_TALA_SAL9   1.88761\n",
      "R_TKT1_SAL9   1.88761\n",
      "R_TKT2_SAL9   1.88761\n",
      "R_TPI_SAL9    3.4936\n",
      "R_FBA_SAL9    3.77523\n",
      "R_RPE_SAL9    3.77523\n",
      "R_PFK_SAL9    3.77523\n",
      "R_ATPM_SAL9   5.17\n",
      "R_ARABDI_SAL9  5.66284\n",
      "R_RBK_D1_SAL9  5.66284\n",
      "R_DARBt2rpp_SAL9  5.66284\n",
      "R_DARBtex_SAL9  5.66284\n",
      "R_ENO_SAL9    9.15645\n",
      "R_GAPD_SAL9   9.15645\n",
      "R_ACALDtex_SAL9  9.15645\n",
      "R_ACALDtpp_SAL9  9.15645\n",
      "R_INDOLEtex_SAL9  9.15645\n",
      "R_NH4tex_SAL9  9.15645\n",
      "R_NH4tpp_SAL9  9.15645\n",
      "R_INDOLEt2rpp_SAL9  9.15645\n",
      "R_PYK6_SAL9   9.15645\n"
     ]
    }
   ],
   "source": [
    "solution.show_values(pattern='SAL9', sort=True)"
   ]
  },
  {
   "cell_type": "code",
   "execution_count": 18,
   "metadata": {},
   "outputs": [
    {
     "name": "stdout",
     "output_type": "stream",
     "text": [
      "R_ACALDtex_CAL2 -23.6158\n",
      "R_ACALDtpp_CAL2 -23.6158\n",
      "R_FORtex_CAL2 -22.0786\n",
      "R_INDOLEtex_CAL2 -16.2563\n",
      "R_NH4tpp_CAL2 -16.2563\n",
      "R_NH4tex_CAL2 -16.2563\n",
      "R_Htex_CAL2  -13.1818\n",
      "R_HXAtex_CAL2 -7.35952\n",
      "R_HEXt2rpp_CAL2 -7.35952\n",
      "R_ACOAD2f_CAL2 -7.35952\n",
      "R_PGK_CAL2   -5.82228\n",
      "R_PGM_CAL2   -5.82228\n",
      "R_URAtex_CAL2 -3.32439\n",
      "R_ATPS4rpp_CAL2 -2.28667\n",
      "R_DHAtpp_CAL2  0.281624\n",
      "R_DHAtex_CAL2  0.281624\n",
      "R_TALA_CAL2   1.10813\n",
      "R_TKT1_CAL2   1.10813\n",
      "R_TKT2_CAL2   1.10813\n",
      "R_RPE_CAL2    2.21626\n",
      "R_F6PA_CAL2   2.21626\n",
      "R_RPI_CAL2    2.21626\n",
      "R_DHAPT_CAL2  2.49788\n",
      "R_TPI_CAL2    2.49788\n",
      "R_PYNP2r_CAL2  3.32439\n",
      "R_PPM_CAL2    3.32439\n",
      "R_URIt2pp_copy2_CAL2  3.32439\n",
      "R_URItex_CAL2  3.32439\n",
      "R_URAtpp_CAL2  3.32439\n",
      "R_PYK_CAL2    3.32439\n",
      "R_ENO_CAL2    5.82228\n",
      "R_GAPD_CAL2   5.82228\n",
      "R_ATPM_CAL2   6.86\n",
      "R_ECOAH1_CAL2  7.35952\n",
      "R_ECOAH2_CAL2  7.35952\n",
      "R_ACACT2r_CAL2  7.35952\n",
      "R_HACD1_CAL2  7.35952\n",
      "R_HACD2_CAL2  7.35952\n",
      "R_ACACT1r_CAL2  7.35952\n",
      "R_FACOAE60_CAL2  7.35952\n",
      "R_ACOAD1fr_CAL2  7.35952\n",
      "R_H2Otex_CAL2  12.2212\n",
      "R_H2Otpp_CAL2  12.2212\n",
      "R_FADRx_CAL2  14.719\n",
      "R_TRPAS2_CAL2  16.2563\n",
      "R_TRPt2rpp_CAL2  16.2563\n",
      "R_TRPtex_CAL2  16.2563\n",
      "R_INDOLEt2pp_CAL2  16.2563\n",
      "R_PFL_CAL2    22.0786\n",
      "R_FORtppi_CAL2  22.0786\n",
      "R_ALCD2x_CAL2  23.6158\n",
      "R_ETOHtex_CAL2  23.6158\n",
      "R_ETOHtrpp_CAL2  23.6158\n"
     ]
    }
   ],
   "source": [
    "solution.show_values(pattern='CAL2', sort=True)"
   ]
  },
  {
   "attachments": {},
   "cell_type": "markdown",
   "metadata": {},
   "source": [
    "### Production envelope (biomass to rosmarinic acid)"
   ]
  },
  {
   "cell_type": "code",
   "execution_count": 36,
   "metadata": {},
   "outputs": [
    {
     "name": "stderr",
     "output_type": "stream",
     "text": [
      "/Users/andreastallvik/Projects/BIOTBT3900/venv/lib/python3.10/site-packages/reframed/solvers/cplex_solver.py:409: UserWarning: Constrained variable not previously declared: R_DM_amob_c\n",
      "  warn(f\"Constrained variable not previously declared: {r_id}\")\n",
      "/Users/andreastallvik/Projects/BIOTBT3900/venv/lib/python3.10/site-packages/reframed/solvers/cplex_solver.py:409: UserWarning: Constrained variable not previously declared: R_DM_5drib_c\n",
      "  warn(f\"Constrained variable not previously declared: {r_id}\")\n",
      "/Users/andreastallvik/Projects/BIOTBT3900/venv/lib/python3.10/site-packages/reframed/solvers/cplex_solver.py:409: UserWarning: Constrained variable not previously declared: R_DM_oxam_c\n",
      "  warn(f\"Constrained variable not previously declared: {r_id}\")\n",
      "/Users/andreastallvik/Projects/BIOTBT3900/venv/lib/python3.10/site-packages/reframed/solvers/cplex_solver.py:409: UserWarning: Constrained variable not previously declared: R_DM_aacald_c\n",
      "  warn(f\"Constrained variable not previously declared: {r_id}\")\n",
      "/Users/andreastallvik/Projects/BIOTBT3900/venv/lib/python3.10/site-packages/reframed/solvers/cplex_solver.py:409: UserWarning: Constrained variable not previously declared: R_DM_4crsol_c\n",
      "  warn(f\"Constrained variable not previously declared: {r_id}\")\n",
      "/Users/andreastallvik/Projects/BIOTBT3900/venv/lib/python3.10/site-packages/reframed/solvers/cplex_solver.py:409: UserWarning: Constrained variable not previously declared: R_DM_mththf_c\n",
      "  warn(f\"Constrained variable not previously declared: {r_id}\")\n",
      "/Users/andreastallvik/Projects/BIOTBT3900/venv/lib/python3.10/site-packages/reframed/cobra/plotting.py:104: UserWarning: Attempting to set identical low and high xlims makes transformation singular; automatically expanding.\n",
      "  ax.set_xlim((xmin - dx, xmax + dx))\n"
     ]
    },
    {
     "data": {
      "text/plain": [
       "<AxesSubplot: xlabel='Community growth rate', ylabel='R_EX_rosma_e'>"
      ]
     },
     "execution_count": 36,
     "metadata": {},
     "output_type": "execute_result"
    },
    {
     "data": {
      "image/png": "[encoded data removed]",
      "text/plain": [
       "<Figure size 640x480 with 1 Axes>"
      ]
     },
     "metadata": {},
     "output_type": "display_data"
    }
   ],
   "source": [
    "plot_flux_envelope(community, community.biomass_reaction, 'R_EX_rosma_e', constraints=cal_medium)"
   ]
  },
  {
   "attachments": {},
   "cell_type": "markdown",
   "metadata": {},
   "source": [
    "## Testing: simpler model"
   ]
  },
  {
   "cell_type": "code",
   "execution_count": 42,
   "metadata": {},
   "outputs": [],
   "source": [
    "k12 = load_cbmodel('../GEMs/iML1515.xml')\n",
    "bl21 = load_cbmodel('../GEMs/iHK1487.xml')"
   ]
  },
  {
   "cell_type": "code",
   "execution_count": 43,
   "metadata": {},
   "outputs": [],
   "source": [
    "simple_com = Community('simple_community', [k12, bl21]).merge_models()"
   ]
  },
  {
   "cell_type": "code",
   "execution_count": 51,
   "metadata": {},
   "outputs": [],
   "source": [
    "medium = Environment.from_model(bl21)\n",
    "medium.update({\"R_EX_arab__D_e\": (0.0, \"inf\")})"
   ]
  },
  {
   "cell_type": "code",
   "execution_count": 49,
   "metadata": {},
   "outputs": [
    {
     "name": "stdout",
     "output_type": "stream",
     "text": [
      "Objective: 0.0\n",
      "Status: Optimal\n",
      "\n",
      "R_EX_co2_e    3.44667\n",
      "R_EX_h_e      5.3781\n",
      "R_EX_lac__D_e  5.3781\n",
      "R_EX_glc__D_e -4.41238\n",
      "R_EX_o2_e    -1.72333\n",
      "R_EX_acald_e  3.44667\n",
      "R_EX_h2o_e    3.44667\n"
     ]
    },
    {
     "name": "stderr",
     "output_type": "stream",
     "text": [
      "/Users/andreastallvik/Projects/BIOTBT3900/venv/lib/python3.10/site-packages/reframed/solvers/cplex_solver.py:409: UserWarning: Constrained variable not previously declared: R_DM_amob_c\n",
      "  warn(f\"Constrained variable not previously declared: {r_id}\")\n",
      "/Users/andreastallvik/Projects/BIOTBT3900/venv/lib/python3.10/site-packages/reframed/solvers/cplex_solver.py:409: UserWarning: Constrained variable not previously declared: R_DM_oxam_c\n",
      "  warn(f\"Constrained variable not previously declared: {r_id}\")\n",
      "/Users/andreastallvik/Projects/BIOTBT3900/venv/lib/python3.10/site-packages/reframed/solvers/cplex_solver.py:409: UserWarning: Constrained variable not previously declared: R_DM_5drib_c\n",
      "  warn(f\"Constrained variable not previously declared: {r_id}\")\n",
      "/Users/andreastallvik/Projects/BIOTBT3900/venv/lib/python3.10/site-packages/reframed/solvers/cplex_solver.py:409: UserWarning: Constrained variable not previously declared: R_DM_aacald_c\n",
      "  warn(f\"Constrained variable not previously declared: {r_id}\")\n",
      "/Users/andreastallvik/Projects/BIOTBT3900/venv/lib/python3.10/site-packages/reframed/solvers/cplex_solver.py:409: UserWarning: Constrained variable not previously declared: R_DM_4crsol_c\n",
      "  warn(f\"Constrained variable not previously declared: {r_id}\")\n",
      "/Users/andreastallvik/Projects/BIOTBT3900/venv/lib/python3.10/site-packages/reframed/solvers/cplex_solver.py:409: UserWarning: Constrained variable not previously declared: R_DM_mththf_c\n",
      "  warn(f\"Constrained variable not previously declared: {r_id}\")\n",
      "/Users/andreastallvik/Projects/BIOTBT3900/venv/lib/python3.10/site-packages/reframed/solvers/cplex_solver.py:409: UserWarning: Constrained variable not previously declared: R_DM_suc6p_c\n",
      "  warn(f\"Constrained variable not previously declared: {r_id}\")\n"
     ]
    }
   ],
   "source": [
    "solution = FBA(simple_com, constraints=medium)\n",
    "\n",
    "print(solution)\n",
    "solution.show_values(pattern='R_EX')"
   ]
  },
  {
   "attachments": {},
   "cell_type": "markdown",
   "metadata": {},
   "source": [
    "# Using merged model created through carveme"
   ]
  },
  {
   "cell_type": "code",
   "execution_count": null,
   "metadata": {
    "vscode": {
     "languageId": "shellscript"
    }
   },
   "outputs": [],
   "source": [
    "merge_community CAL2.xml MAM2.xml SAL9.xml -o merged_ra_com.xml -i M9"
   ]
  },
  {
   "cell_type": "code",
   "execution_count": 3,
   "metadata": {},
   "outputs": [],
   "source": [
    "merged_ra_com = load_cbmodel('../GEMs/merged_ra_com.xml')"
   ]
  },
  {
   "cell_type": "code",
   "execution_count": 5,
   "metadata": {},
   "outputs": [
    {
     "name": "stdout",
     "output_type": "stream",
     "text": [
      "Metabolites:\n",
      "ext 356\n",
      "c_CAL2 1073\n",
      "p_CAL2 465\n",
      "c_MAM2 1075\n",
      "p_MAM2 465\n",
      "c_SAL9 1065\n",
      "p_SAL9 469\n",
      "\n",
      "Reactions:\n",
      "enzymatic 4444\n",
      "transport 2502\n",
      "exchange 375\n",
      "sink 0\n",
      "other 171\n"
     ]
    }
   ],
   "source": [
    "merged_ra_com.summary()"
   ]
  },
  {
   "cell_type": "code",
   "execution_count": 6,
   "metadata": {},
   "outputs": [
    {
     "data": {
      "text/plain": [
       "Objective: 0.4758188969948618\n",
       "Status: Optimal"
      ]
     },
     "execution_count": 6,
     "metadata": {},
     "output_type": "execute_result"
    }
   ],
   "source": [
    "solution = FBA(merged_ra_com)"
   ]
  },
  {
   "cell_type": "code",
   "execution_count": 7,
   "metadata": {},
   "outputs": [
    {
     "name": "stdout",
     "output_type": "stream",
     "text": [
      "Objective: 0.4758188969948618\n",
      "Status: Optimal\n",
      "\n",
      "R_EX_co2_e    7.24256\n",
      "R_EX_ca2_e   -0.0024767\n",
      "R_EX_cu2_e   -0.000337244\n",
      "R_EX_zn2_e   -0.000162224\n",
      "R_EX_cobalt2_e -1.19707e-05\n",
      "R_EX_ac_e     12.8395\n",
      "R_EX_k_e     -0.0928764\n",
      "R_EX_fe2_e   -0.00392756\n",
      "R_EX_mn2_e   -0.000328989\n",
      "R_EX_h_e      24.763\n",
      "R_EX_mg2_e   -0.00412784\n",
      "R_EX_so4_e   -0.119821\n",
      "R_EX_glc__D_e -10\n",
      "R_EX_mobd_e  -3.30227e-06\n",
      "R_EX_nh4_e   -5.13844\n",
      "R_EX_o2_e    -10\n",
      "R_EX_cl_e    -0.0024767\n",
      "R_EX_ni2_e   -0.000153556\n",
      "R_EX_pi_e    -0.45871\n",
      "R_EX_fe3_e   -0.00371505\n",
      "R_EX_meoh_e   9.51638e-07\n",
      "R_EX_h2o_e    19.7215\n",
      "R_EX_for_e    7.54791\n"
     ]
    }
   ],
   "source": [
    "solution = FBA(merged_ra_com)\n",
    "\n",
    "print(solution)\n",
    "solution.show_values(pattern='R_EX')"
   ]
  },
  {
   "cell_type": "code",
   "execution_count": 10,
   "metadata": {},
   "outputs": [
    {
     "data": {
      "text/plain": [
       "<AxesSubplot: xlabel='Community growth rate', ylabel='R_EX_rosma_e'>"
      ]
     },
     "execution_count": 10,
     "metadata": {},
     "output_type": "execute_result"
    },
    {
     "data": {
      "image/png": "[encoded data removed]",
      "text/plain": [
       "<Figure size 640x480 with 1 Axes>"
      ]
     },
     "metadata": {},
     "output_type": "display_data"
    }
   ],
   "source": [
    "plot_flux_envelope(merged_ra_com, merged_ra_com.biomass_reaction, 'R_EX_rosma_e')"
   ]
  },
  {
   "cell_type": "code",
   "execution_count": null,
   "metadata": {},
   "outputs": [],
   "source": []
  }
 ],
 "metadata": {
  "kernelspec": {
   "display_name": "venv",
   "language": "python",
   "name": "python3"
  },
  "language_info": {
   "codemirror_mode": {
    "name": "ipython",
    "version": 3
   },
   "file_extension": ".py",
   "mimetype": "text/x-python",
   "name": "python",
   "nbconvert_exporter": "python",
   "pygments_lexer": "ipython3",
   "version": "3.10.7"
  },
  "orig_nbformat": 4
 },
 "nbformat": 4,
 "nbformat_minor": 2
}
