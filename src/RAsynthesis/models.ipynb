{
 "cells": [
  {
   "cell_type": "code",
   "execution_count": 1,
   "metadata": {},
   "outputs": [],
   "source": [
    "from cobra import Model, Reaction, Metabolite\n",
    "from cobra.io import read_sbml_model"
   ]
  },
  {
   "cell_type": "code",
   "execution_count": 2,
   "metadata": {},
   "outputs": [],
   "source": [
    "# read model for E. coli K12 and BL21\n",
    "bl21 = read_sbml_model('../GEMs/iHK1487.xml')\n",
    "k12 = read_sbml_model('../GEMs/iML1515.xml')"
   ]
  },
  {
   "attachments": {},
   "cell_type": "markdown",
   "metadata": {},
   "source": [
    "CAL2 module:\n",
    "\n",
    "(k12 engineered to carry CAL module)"
   ]
  },
  {
   "cell_type": "code",
   "execution_count": 28,
   "metadata": {},
   "outputs": [],
   "source": [
    "CAL2 = k12.copy()"
   ]
  },
  {
   "cell_type": "code",
   "execution_count": 16,
   "metadata": {},
   "outputs": [
    {
     "data": {
      "text/plain": [
       "[<Reaction PPNDH at 0x12c5139a0>]"
      ]
     },
     "execution_count": 16,
     "metadata": {},
     "output_type": "execute_result"
    }
   ],
   "source": [
    "#knock outs\n",
    "\n",
    "from cobra.manipulation import knock_out_model_genes\n",
    "\n",
    "#pheA | gene b2599\n",
    "knock_out_model_genes(CAL2, [\"b2599\"])"
   ]
  },
  {
   "cell_type": "code",
   "execution_count": null,
   "metadata": {},
   "outputs": [],
   "source": [
    "#insert TAL gene and associated reactions\n",
    "\n",
    "#TODO"
   ]
  },
  {
   "cell_type": "code",
   "execution_count": null,
   "metadata": {},
   "outputs": [],
   "source": [
    "#insert hpaBC gene and associated reactions\n",
    "\n",
    "#TODO"
   ]
  },
  {
   "attachments": {},
   "cell_type": "markdown",
   "metadata": {},
   "source": [
    "CAL11 module:\n",
    "\n",
    "(k12 enigneered to be unable to take up glucose, and to carry the CAL module)"
   ]
  },
  {
   "cell_type": "code",
   "execution_count": 4,
   "metadata": {},
   "outputs": [],
   "source": [
    "CAL11 = k12.copy()"
   ]
  },
  {
   "cell_type": "code",
   "execution_count": 11,
   "metadata": {},
   "outputs": [
    {
     "data": {
      "text/plain": [
       "[<Reaction SBTptspp at 0x123c06020>,\n",
       " <Reaction QUINDH at 0x12400b0a0>,\n",
       " <Reaction ACMUMptspp at 0x123d610c0>,\n",
       " <Reaction FRUpts2pp at 0x123e1b0d0>,\n",
       " <Reaction GLCptspp at 0x123d4b8e0>,\n",
       " <Reaction TREptspp at 0x123bbf190>,\n",
       " <Reaction FRUptspp at 0x123c04a60>,\n",
       " <Reaction MNLptspp at 0x123ccf280>,\n",
       " <Reaction QUINDHyi at 0x124009b40>,\n",
       " <Reaction MALTptspp at 0x123d9db70>,\n",
       " <Reaction GAMptspp at 0x123e3a3b0>,\n",
       " <Reaction ASCBptspp at 0x123be2bc0>,\n",
       " <Reaction CELBpts at 0x123d83460>,\n",
       " <Reaction MANptspp at 0x123d9c460>,\n",
       " <Reaction 2DGLCptspp at 0x123faa470>,\n",
       " <Reaction GALTptspp at 0x123d4b490>,\n",
       " <Reaction ACGAptspp at 0x123bd24d0>,\n",
       " <Reaction MANGLYCptspp at 0x123ccdd50>,\n",
       " <Reaction CHTBSptspp at 0x123fc95d0>,\n",
       " <Reaction ARBTptspp at 0x123faaf20>,\n",
       " <Reaction SUCptspp at 0x123bac730>,\n",
       " <Reaction DHAPT at 0x123b28f40>,\n",
       " <Reaction PPNDH at 0x123b3bfa0>,\n",
       " <Reaction ACMANAptspp at 0x123bd27d0>]"
      ]
     },
     "execution_count": 11,
     "metadata": {},
     "output_type": "execute_result"
    }
   ],
   "source": [
    "#knock outs\n",
    "from cobra.manipulation import knock_out_model_genes\n",
    "\n",
    "# pheA | gene b2599\n",
    "# ptsH | gene b2415\n",
    "# ptsI | gene b2416\n",
    "# crr | gene b2417\n",
    "# ydiB | gene b1692\n",
    "# pheA | gene b2599\n",
    "knock_out_model_genes(CAL11, [\"b2599\", \"b2415\", \"b2416\", \"b2417\", \"b1692\", \"b2599\"])"
   ]
  },
  {
   "cell_type": "code",
   "execution_count": null,
   "metadata": {},
   "outputs": [],
   "source": [
    "#add hpaB and hpaC genes\n",
    "\n",
    "#TODO"
   ]
  },
  {
   "cell_type": "code",
   "execution_count": null,
   "metadata": {},
   "outputs": [],
   "source": [
    "#add TAL gene\n",
    "\n",
    "#TODO"
   ]
  },
  {
   "attachments": {},
   "cell_type": "markdown",
   "metadata": {},
   "source": [
    "MAM2 module:\n",
    "\n",
    "(k12 enginnered to carry RA module)"
   ]
  },
  {
   "cell_type": "code",
   "execution_count": 13,
   "metadata": {},
   "outputs": [],
   "source": [
    "MAM2 = k12.copy()"
   ]
  },
  {
   "cell_type": "code",
   "execution_count": null,
   "metadata": {},
   "outputs": [],
   "source": [
    "#add 4CL gene\n",
    "\n",
    "#TODO"
   ]
  },
  {
   "cell_type": "code",
   "execution_count": null,
   "metadata": {},
   "outputs": [],
   "source": [
    "#add RAS gene\n",
    "\n",
    "#TODO"
   ]
  },
  {
   "attachments": {},
   "cell_type": "markdown",
   "metadata": {},
   "source": [
    "MAM3 module:\n",
    "\n",
    "(k12 engineered to be unable to uptake glucose, and carries the RA module)"
   ]
  },
  {
   "cell_type": "code",
   "execution_count": 14,
   "metadata": {},
   "outputs": [],
   "source": [
    "MAM3 = k12.copy()"
   ]
  },
  {
   "cell_type": "code",
   "execution_count": 16,
   "metadata": {},
   "outputs": [
    {
     "data": {
      "text/plain": [
       "[<Reaction TREptspp at 0x1267c6830>,\n",
       " <Reaction CELBpts at 0x12699f040>,\n",
       " <Reaction 2DGLCptspp at 0x126bc6050>,\n",
       " <Reaction GALTptspp at 0x126967070>,\n",
       " <Reaction FRUptspp at 0x12681d8d0>,\n",
       " <Reaction MANGLYCptspp at 0x1268e9930>,\n",
       " <Reaction CHTBSptspp at 0x126be91b0>,\n",
       " <Reaction SBTptspp at 0x12681ea40>,\n",
       " <Reaction ACGAptspp at 0x1267e52a0>,\n",
       " <Reaction ARBTptspp at 0x126bc6b00>,\n",
       " <Reaction SUCptspp at 0x1267a5450>,\n",
       " <Reaction GLCptspp at 0x126967c70>,\n",
       " <Reaction QUINDH at 0x126c2ac80>,\n",
       " <Reaction ACMUMptspp at 0x126984ca0>,\n",
       " <Reaction FRUpts2pp at 0x126a3ecb0>,\n",
       " <Reaction DHAPT at 0x1266fdf90>,\n",
       " <Reaction ACMANAptspp at 0x1267e4e50>,\n",
       " <Reaction MNLptspp at 0x1268eae60>,\n",
       " <Reaction ASCBptspp at 0x1267fcee0>,\n",
       " <Reaction QUINDHyi at 0x126c29720>,\n",
       " <Reaction MANptspp at 0x12699f730>,\n",
       " <Reaction MALTptspp at 0x1269b9750>,\n",
       " <Reaction GAMptspp at 0x126a59f90>,\n",
       " <Reaction SHK3Dr at 0x1266557b0>]"
      ]
     },
     "execution_count": 16,
     "metadata": {},
     "output_type": "execute_result"
    }
   ],
   "source": [
    "#knock outs\n",
    "from cobra.manipulation import knock_out_model_genes\n",
    "\n",
    "# ptsH | gene b2415\n",
    "# ptsI | gene b2416\n",
    "# crr | gene b2417\n",
    "# aroE | gene b3281\n",
    "# ydiB | gene b1692\n",
    "# pheA | gene b2599\n",
    "knock_out_model_genes(MAM3, [\"b2415\", \"b2416\", \"b2417\", \"b3281\", \"b1692\", \"b2599\"])"
   ]
  },
  {
   "cell_type": "code",
   "execution_count": null,
   "metadata": {},
   "outputs": [],
   "source": [
    "#add 4CL gene\n",
    "\n",
    "#TODO"
   ]
  },
  {
   "cell_type": "code",
   "execution_count": null,
   "metadata": {},
   "outputs": [],
   "source": [
    "#add RAS gene\n",
    "\n",
    "#TODO"
   ]
  },
  {
   "attachments": {},
   "cell_type": "markdown",
   "metadata": {},
   "source": [
    "SAL9 module:\n",
    "\n",
    "(BL21 enginnered to carry the SAA module)"
   ]
  },
  {
   "cell_type": "code",
   "execution_count": 17,
   "metadata": {},
   "outputs": [],
   "source": [
    "SAL9 = bl21.copy()"
   ]
  },
  {
   "cell_type": "code",
   "execution_count": null,
   "metadata": {},
   "outputs": [],
   "source": [
    "#add hpaB and hpaC\n",
    "\n",
    "#TODO"
   ]
  },
  {
   "cell_type": "code",
   "execution_count": null,
   "metadata": {},
   "outputs": [],
   "source": [
    "#add ldp-ldh\n",
    "\n",
    "#TODO"
   ]
  },
  {
   "attachments": {},
   "cell_type": "markdown",
   "metadata": {},
   "source": [
    "SAL11 module:\n",
    "\n",
    "(BL21 engineered to not grow on xylose, and carry the SAA module)"
   ]
  },
  {
   "cell_type": "code",
   "execution_count": 26,
   "metadata": {},
   "outputs": [],
   "source": [
    "SAL11 = bl21.copy()"
   ]
  },
  {
   "cell_type": "code",
   "execution_count": 27,
   "metadata": {},
   "outputs": [
    {
     "data": {
      "text/plain": [
       "[<Reaction XYLI1 at 0x12843dff0>, <Reaction XYLI2 at 0x12843d570>]"
      ]
     },
     "execution_count": 27,
     "metadata": {},
     "output_type": "execute_result"
    }
   ],
   "source": [
    "#knock outs\n",
    "from cobra.manipulation import knock_out_model_genes\n",
    "\n",
    "# xylA | gene ECD_03417\n",
    "knock_out_model_genes(SAL11, [\"ECD_03417\"])"
   ]
  },
  {
   "cell_type": "code",
   "execution_count": null,
   "metadata": {},
   "outputs": [],
   "source": [
    "#add hpaB and hpaC\n",
    "\n",
    "#TODO"
   ]
  },
  {
   "cell_type": "code",
   "execution_count": null,
   "metadata": {},
   "outputs": [],
   "source": [
    "#add ldp-ldh\n",
    "\n",
    "#TODO"
   ]
  },
  {
   "cell_type": "code",
   "execution_count": 46,
   "metadata": {},
   "outputs": [
    {
     "name": "stdout",
     "output_type": "stream",
     "text": [
      "b2600\n"
     ]
    }
   ],
   "source": [
    "for gene in SAL11.genes:\n",
    "    if gene.id == \"ECD_02489\":\n",
    "        print(gene.name)"
   ]
  },
  {
   "cell_type": "code",
   "execution_count": 57,
   "metadata": {},
   "outputs": [],
   "source": [
    "for m in k12.metabolites:\n",
    "    if m.name == \"Caffeoyl-CoA\":\n",
    "        print(m)"
   ]
  },
  {
   "cell_type": "code",
   "execution_count": 58,
   "metadata": {},
   "outputs": [
    {
     "name": "stdout",
     "output_type": "stream",
     "text": [
      "LDH_D2: lac__D_c + q8_c --> pyr_c + q8h2_c\n",
      "LDH_D: lac__D_c + nad_c <=> h_c + nadh_c + pyr_c\n"
     ]
    }
   ],
   "source": [
    "for r in k12.reactions:\n",
    "    if r.name == \"D-lactate dehydrogenase\":\n",
    "        print(r)"
   ]
  },
  {
   "cell_type": "code",
   "execution_count": null,
   "metadata": {},
   "outputs": [],
   "source": []
  }
 ],
 "metadata": {
  "kernelspec": {
   "display_name": "venv",
   "language": "python",
   "name": "python3"
  },
  "language_info": {
   "codemirror_mode": {
    "name": "ipython",
    "version": 3
   },
   "file_extension": ".py",
   "mimetype": "text/x-python",
   "name": "python",
   "nbconvert_exporter": "python",
   "pygments_lexer": "ipython3",
   "version": "3.10.7"
  },
  "orig_nbformat": 4
 },
 "nbformat": 4,
 "nbformat_minor": 2
}
