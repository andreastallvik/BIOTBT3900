{
 "cells": [
  {
   "cell_type": "code",
   "execution_count": 1,
   "metadata": {},
   "outputs": [],
   "source": [
    "from cobra import Model, Reaction, Metabolite\n",
    "from cobra.io import read_sbml_model"
   ]
  },
  {
   "cell_type": "code",
   "execution_count": 2,
   "metadata": {},
   "outputs": [],
   "source": [
    "# read model for E. coli K12 and BL21\n",
    "bl21 = read_sbml_model('../GEMs/iHK1487.xml')\n",
    "k12 = read_sbml_model('../GEMs/iML1515.xml')"
   ]
  },
  {
   "attachments": {},
   "cell_type": "markdown",
   "metadata": {},
   "source": [
    "Exploring pathways in models:"
   ]
  },
  {
   "cell_type": "code",
   "execution_count": 61,
   "metadata": {},
   "outputs": [
    {
     "data": {
      "text/html": [
       "\n",
       "        <table>\n",
       "            <tr>\n",
       "                <td><strong>Gene identifier</strong></td><td>b2600</td>\n",
       "            </tr><tr>\n",
       "                <td><strong>Name</strong></td><td>tyrA</td>\n",
       "            </tr><tr>\n",
       "                <td><strong>Memory address</strong></td>\n",
       "                <td>0x1282e57b0</td>\n",
       "            </tr><tr>\n",
       "                <td><strong>Functional</strong></td><td>True</td>\n",
       "            </tr><tr>\n",
       "                <td><strong>In 2 reaction(s)</strong></td><td>\n",
       "                    CHORM, PPND\n",
       "                    </td>\n",
       "            </tr>\n",
       "        </table>"
      ],
      "text/plain": [
       "<Gene b2600 at 0x1282e57b0>"
      ]
     },
     "execution_count": 61,
     "metadata": {},
     "output_type": "execute_result"
    }
   ],
   "source": [
    "k12.genes.get_by_id(\"b2600\")"
   ]
  },
  {
   "attachments": {},
   "cell_type": "markdown",
   "metadata": {},
   "source": [
    "Creating new metabolites:"
   ]
  },
  {
   "cell_type": "code",
   "execution_count": 23,
   "metadata": {},
   "outputs": [],
   "source": [
    "#L-arogenate\n",
    "Largn_c = Metabolite(\n",
    "    'Largn_c',\n",
    "    formula='C10H13NO5',\n",
    "    name='L-Arogenate',\n",
    "    compartment='c')\n",
    "\n",
    "#4-hydroxyphenyllactate\n",
    "hpl34_c = Metabolite(\n",
    "    '34hpl_c',\n",
    "    formula='C9H10O4',\n",
    "    name='3,4-Hydroxyphenyl-lactate',\n",
    "    compartment='c')\n",
    "\n",
    "#3,4-dihydroxyphenylpyruvate\n",
    "dhpp34_c = Metabolite(\n",
    "    '34dhpp_c',\n",
    "    formula='C9H8O5',\n",
    "    name='3,4-Dihydroxyphenylpyruvate',\n",
    "    compartment='c')\n",
    "\n",
    "#3,4-Dihydroxyphenyllactic acid | Salvianic acid A | SAA\n",
    "saa_c = Metabolite(\n",
    "    'saa_c',\n",
    "    formula='C9H10O5',\n",
    "    name='3,4-Dihydroxyphenyllactic acid',\n",
    "    compartment='c')\n",
    "\n",
    "#caffeoyl CoA\n",
    "caffcoa_c = Metabolite(\n",
    "    'caffcoa_c',\n",
    "    formula='C30H38N7O19P3S',\n",
    "    name='Caffeoyl-CoA',\n",
    "    compartment='c')\n",
    "\n",
    "#p-Coumaric acid\n",
    "coura_c = Metabolite(\n",
    "    'coura_c',\n",
    "    formula='C9H8O3',\n",
    "    name='p-Coumaric acid',\n",
    "    compartment='c')\n",
    "\n",
    "#caffeic acid\n",
    "caffa_c = Metabolite(\n",
    "    'caffa_c',\n",
    "    formula='C9H8O4',\n",
    "    name='Caffeic acid',\n",
    "    compartment='c')\n",
    "\n",
    "#rosmarinic acid\n",
    "rosma_c = Metabolite(\n",
    "    'rosma_c',\n",
    "    formula='C18H16O8',\n",
    "    name='Rosmarinic acid',\n",
    "    compartment='c')"
   ]
  },
  {
   "cell_type": "code",
   "execution_count": 79,
   "metadata": {},
   "outputs": [],
   "source": [
    "#loading existing metabolites\n",
    "\n",
    "#prephenate\n",
    "pphn_c = k12.metabolites.get_by_id(\"pphn_c\")\n",
    "\n",
    "#HPP\n",
    "hpp34_c = k12.metabolites.get_by_id(\"34hpp_c\")\n",
    "\n",
    "#tyrosine \n",
    "tyr__L_c = k12.metabolites.get_by_id(\"tyr__L_c\")\n",
    "\n",
    "#Oxaloacetate\n",
    "oaa_c = k12.metabolites.get_by_id(\"oaa_c\")\n",
    "\n",
    "#Aspartate\n",
    "asp = k12.metabolites.get_by_id(\"asp__L_c\")\n",
    "\n",
    "#ammonia\n",
    "nh4_c = k12.metabolites.get_by_id(\"nh4_c\")\n",
    "\n",
    "#ATP\n",
    "atp_c = k12.metabolites.get_by_id(\"atp_c\")\n",
    "\n",
    "#AMP\n",
    "amp_c = k12.metabolites.get_by_id(\"amp_c\")\n",
    "\n",
    "#Diphosphate\n",
    "ppi_c = k12.metabolites.get_by_id(\"ppi_c\")\n",
    "\n",
    "#CoA\n",
    "coa_c = k12.metabolites.get_by_id(\"coa_c\")\n",
    "\n",
    "#NADH\n",
    "nadh_c = k12.metabolites.get_by_id(\"nadh_c\")\n",
    "\n",
    "#NAD+\n",
    "nad_c = k12.metabolites.get_by_id(\"nad_c\")\n",
    "\n",
    "#H+\n",
    "h_c = k12.metabolites.get_by_id(\"h_c\")\n",
    "\n",
    "#NADPH\n",
    "nadph_c = k12.metabolites.get_by_id(\"nadph_c\")\n",
    "\n",
    "#NADP+\n",
    "nadp_c = k12.metabolites.get_by_id(\"nadp_c\")\n",
    "\n",
    "#H20\n",
    "h2o_c = k12.metabolites.get_by_id(\"h2o_c\")\n",
    "\n",
    "#O2\n",
    "o2_c = k12.metabolites.get_by_id(\"o2_c\")"
   ]
  },
  {
   "attachments": {},
   "cell_type": "markdown",
   "metadata": {},
   "source": [
    "Creating new reactions:"
   ]
  },
  {
   "cell_type": "code",
   "execution_count": 29,
   "metadata": {},
   "outputs": [],
   "source": [
    "#prep -> l-arogenate\n",
    "PPNARO = Reaction('PPNARO')\n",
    "PPNARO.name = 'L-arogenate:2-oxoglutarate aminotransferase'\n",
    "PPNARO.subsystem = 'Phenylalanine, tyrosine and tryptophan biosynthesis'\n",
    "PPNARO.lower_bound = -1000  # This is the default\n",
    "PPNARO.upper_bound = 1000  # This is the default\n",
    "#Oxaloacetate + L-Arogenate <=> L-Aspartate + Prephenate\n",
    "PPNARO.add_metabolites({\n",
    "    oaa_c: -1.0,\n",
    "    Largn_c: -1.0,\n",
    "    asp: 1.0,\n",
    "    pphn_c: 1.0\n",
    "})\n",
    "#tyrB\n",
    "PPNARO.gene_reaction_rule = 'b4054'"
   ]
  },
  {
   "cell_type": "code",
   "execution_count": 36,
   "metadata": {},
   "outputs": [],
   "source": [
    "#tyr -> p-coumaric acid\n",
    "TAL = Reaction('TAL')\n",
    "TAL.name = 'L-tyrosine ammonia-lyase'\n",
    "TAL.subsystem = 'CA module'\n",
    "TAL.lower_bound = -1000  # This is the default\n",
    "TAL.upper_bound = 1000  # This is the default\n",
    "#L-Tyrosine <=> 4-Coumarate + Ammonia\n",
    "TAL.add_metabolites({\n",
    "    tyr__L_c: -1.0,\n",
    "    coura_c: 1.0,\n",
    "    nh4_c: 1.0\n",
    "})\n",
    "#synthetic rgTAL gene\n",
    "TAL.gene_reaction_rule = 'tal'"
   ]
  },
  {
   "cell_type": "code",
   "execution_count": 43,
   "metadata": {},
   "outputs": [],
   "source": [
    "#p-coumaric acid -> caffeic acid\n",
    "COURCA = Reaction('COURCA')\n",
    "COURCA.name = '4-hydroxyphenylacetate 3-hydroxylase'\n",
    "COURCA.subsystem = 'CA module'\n",
    "COURCA.lower_bound = -1000  # This is the default\n",
    "COURCA.upper_bound = 1000  # This is the default\n",
    "#4-Coumarate <=> Caffeate\n",
    "COURCA.add_metabolites({\n",
    "    coura_c: -1.0,\n",
    "    caffa_c: 1.0\n",
    "})\n",
    "#synthetic hpaC gene\n",
    "COURCA.gene_reaction_rule = '(hpaB and hpaC)'"
   ]
  },
  {
   "cell_type": "code",
   "execution_count": 56,
   "metadata": {},
   "outputs": [],
   "source": [
    "#caffeic acid -> caffeoyl CoA\n",
    "CAFFCOA = Reaction('CAFFCOA')\n",
    "CAFFCOA.name = '4-coumarate:CoA ligase'\n",
    "CAFFCOA.subsystem = 'RA module'\n",
    "CAFFCOA.lower_bound = -1000  # This is the default\n",
    "CAFFCOA.upper_bound = 1000  # This is the default\n",
    "#ATP + Caffeate + CoA <=> AMP + Diphosphate + Caffeoyl-CoA\n",
    "CAFFCOA.add_metabolites({\n",
    "    atp_c: -1.0,\n",
    "    caffa_c: -1.0,\n",
    "    coa_c: -1.0,\n",
    "    amp_c: 1.0,\n",
    "    caffcoa_c: 1.0,\n",
    "    ppi_c: 1.0\n",
    "})\n",
    "#synthetic 4CL gene\n",
    "CAFFCOA.gene_reaction_rule = '(cl4)'"
   ]
  },
  {
   "cell_type": "code",
   "execution_count": 70,
   "metadata": {},
   "outputs": [],
   "source": [
    "#HPP -> 4-hydroxyphenyllactate\n",
    "DLDH = Reaction('DLDH')\n",
    "DLDH.name = 'D-lactate dehydrogenase'\n",
    "DLDH.subsystem = 'SAA module'\n",
    "DLDH.lower_bound = -1000  # This is the default\n",
    "DLDH.upper_bound = 1000  # This is the default\n",
    "#3,4-Hydroxyphenyllactate + NAD+ <=> 3,4-Hydroxyphenylpyruvate + NADH + H+\n",
    "DLDH.add_metabolites({\n",
    "    hpl34_c: -1.0,\n",
    "    nad_c: -1.0,\n",
    "    hpp34_c: 1.0,\n",
    "    nadh_c: 1.0,\n",
    "    h_c: 1.0\n",
    "})\n",
    "#synthetic ldh gene\n",
    "DLDH.gene_reaction_rule = 'ldh'"
   ]
  },
  {
   "cell_type": "code",
   "execution_count": 80,
   "metadata": {},
   "outputs": [],
   "source": [
    "#HPP -> 3,4-dihydroxyphenylpyruvate\n",
    "HPPHD = Reaction('HPPHD')\n",
    "HPPHD.name = '4-hydroxyphenylacetate 3-hydroxylase'\n",
    "HPPHD.subsystem = 'SAA module'\n",
    "HPPHD.lower_bound = -1000  # This is the default\n",
    "HPPHD.upper_bound = 1000  # This is the default\n",
    "#4-hydroxyphenylpyruvate + Oxygen + NADH + H+ <=> 3,4-dihydroxyphenylpyruvate + NAD+ + H2O\n",
    "HPPHD.add_metabolites({\n",
    "    hpp34_c: -1.0,\n",
    "    o2_c: -1.0,\n",
    "    nadh_c: -1.0,\n",
    "    h_c: -1.0,\n",
    "    dhpp34_c: 1.0,\n",
    "    nad_c: 1.0,\n",
    "    h2o_c: 1.0\n",
    "})\n",
    "#synthetic hpaBC gene\n",
    "HPPHD.gene_reaction_rule = '(hpaB and hpaC)'"
   ]
  },
  {
   "cell_type": "code",
   "execution_count": 72,
   "metadata": {},
   "outputs": [],
   "source": [
    "#3,4-dihydroxyphenylpyruvate -> salvianic acid A\n",
    "DHPPSA = Reaction('DHPPSA')\n",
    "DHPPSA.name = '(R)-3-(4-hydroxyphenyl)lactate:NADP+ oxidoreductase'\n",
    "DHPPSA.subsystem = 'SAA module'\n",
    "DHPPSA.lower_bound = -1000  # This is the default\n",
    "DHPPSA.upper_bound = 1000  # This is the default\n",
    "#3,4-Dihydroxyphenyllactate + NADP+ <=> 3,4-Dihydroxyphenylpyruvate + NADPH + H+\n",
    "DHPPSA.add_metabolites({\n",
    "    saa_c: -1.0,\n",
    "    nadp_c: -1.0,\n",
    "    dhpp34_c: 1.0,\n",
    "    nadph_c: 1.0,\n",
    "    h_c: 1.0\n",
    "})\n",
    "#synthetic ldh gene\n",
    "DHPPSA.gene_reaction_rule = 'ldh'"
   ]
  },
  {
   "cell_type": "code",
   "execution_count": 81,
   "metadata": {},
   "outputs": [],
   "source": [
    "#4-hydroxyphenyllactate -> salvianic acid A\n",
    "HPLSA = Reaction('HPLSA')\n",
    "HPLSA.name = '(R)-3-(4-hydroxyphenyl)lactate:NADP+ oxidoreductase'\n",
    "HPLSA.subsystem = 'SAA module'\n",
    "HPLSA.lower_bound = -1000  # This is the default\n",
    "HPLSA.upper_bound = 1000  # This is the default\n",
    "#4-Hydroxyphenyllactate + Oxygen + NADH + H+ <=> 3,4-Dihydroxyphenylacetic acid + NAD+ + H2O\n",
    "HPLSA.add_metabolites({\n",
    "    hpl34_c: -1.0,\n",
    "    o2_c: -1.0,\n",
    "    nadh_c: -1.0,\n",
    "    h_c: -1.0,\n",
    "    saa_c: 1.0,\n",
    "    nad_c: 1.0,\n",
    "    h2o_c: 1.0\n",
    "})\n",
    "#synthetic ldh gene\n",
    "HPLSA.gene_reaction_rule = '(hpaB and hpaC)'"
   ]
  },
  {
   "cell_type": "code",
   "execution_count": 57,
   "metadata": {},
   "outputs": [],
   "source": [
    "#salvianic acid A + caffeoyl CoA -> Rosmarinic acid\n",
    "RAS = Reaction('RAS')\n",
    "RAS.name = 'rosmarinic acid synthase'\n",
    "RAS.subsystem = 'RA module'\n",
    "RAS.lower_bound = -1000  # This is the default\n",
    "RAS.upper_bound = 1000  # This is the default\n",
    "#Caffeoyl-CoA + 3-(3,4-Dihydroxyphenyl)lactate <=> CoA + Rosmarinate\n",
    "RAS.add_metabolites({\n",
    "    caffcoa_c: -1.0,\n",
    "    saa_c: -1.0,\n",
    "    coa_c: 1.0,\n",
    "    rosma_c: 1.0\n",
    "})\n",
    "#synthetic 4CL gene\n",
    "RAS.gene_reaction_rule = '(ras)'"
   ]
  },
  {
   "attachments": {},
   "cell_type": "markdown",
   "metadata": {},
   "source": [
    "CAL2 module:\n",
    "\n",
    "(k12 engineered to carry CAL module)"
   ]
  },
  {
   "cell_type": "code",
   "execution_count": 89,
   "metadata": {},
   "outputs": [],
   "source": [
    "CAL2 = k12.copy()"
   ]
  },
  {
   "cell_type": "code",
   "execution_count": 90,
   "metadata": {},
   "outputs": [
    {
     "data": {
      "text/plain": [
       "[<Reaction PPNDH at 0x12aac5930>]"
      ]
     },
     "execution_count": 90,
     "metadata": {},
     "output_type": "execute_result"
    }
   ],
   "source": [
    "#knock outs\n",
    "\n",
    "from cobra.manipulation import knock_out_model_genes\n",
    "\n",
    "#pheA | gene b2599\n",
    "knock_out_model_genes(CAL2, [\"b2599\"])"
   ]
  },
  {
   "cell_type": "code",
   "execution_count": 91,
   "metadata": {},
   "outputs": [],
   "source": [
    "#insert TAL gene, HpaBC gene, and associated reactions\n",
    "\n",
    "CAL2.add_reactions([TAL, COURCA])"
   ]
  },
  {
   "cell_type": "code",
   "execution_count": 96,
   "metadata": {},
   "outputs": [
    {
     "data": {
      "text/html": [
       "\n",
       "        <table>\n",
       "            <tr>\n",
       "                <td><strong>Reaction identifier</strong></td><td>SK_caffa_c</td>\n",
       "            </tr><tr>\n",
       "                <td><strong>Name</strong></td><td>Caffeic acid sink</td>\n",
       "            </tr><tr>\n",
       "                <td><strong>Memory address</strong></td>\n",
       "                <td>0x12b7ee5c0</td>\n",
       "            </tr><tr>\n",
       "                <td><strong>Stoichiometry</strong></td>\n",
       "                <td>\n",
       "                    <p style='text-align:right'>caffa_c <=></p>\n",
       "                    <p style='text-align:right'>Caffeic acid <=></p>\n",
       "                </td>\n",
       "            </tr><tr>\n",
       "                <td><strong>GPR</strong></td><td></td>\n",
       "            </tr><tr>\n",
       "                <td><strong>Lower bound</strong></td><td>-1000.0</td>\n",
       "            </tr><tr>\n",
       "                <td><strong>Upper bound</strong></td><td>1000.0</td>\n",
       "            </tr>\n",
       "        </table>\n",
       "        "
      ],
      "text/plain": [
       "<Reaction SK_caffa_c at 0x12b7ee5c0>"
      ]
     },
     "execution_count": 96,
     "metadata": {},
     "output_type": "execute_result"
    }
   ],
   "source": [
    "#add sink reaction for caffeic acid\n",
    "\n",
    "CAL2.add_boundary(CAL2.metabolites.get_by_id(\"caffa_c\"), type=\"sink\")"
   ]
  },
  {
   "attachments": {},
   "cell_type": "markdown",
   "metadata": {},
   "source": [
    "CAL11 module:\n",
    "\n",
    "(k12 enigneered to be unable to take up glucose, and to carry the CAL module)"
   ]
  },
  {
   "cell_type": "code",
   "execution_count": 97,
   "metadata": {},
   "outputs": [],
   "source": [
    "CAL11 = k12.copy()"
   ]
  },
  {
   "cell_type": "code",
   "execution_count": 98,
   "metadata": {},
   "outputs": [
    {
     "data": {
      "text/plain": [
       "[<Reaction GLCptspp at 0x12bd51000>,\n",
       " <Reaction DHAPT at 0x12bb35060>,\n",
       " <Reaction QUINDHyi at 0x12c0148b0>,\n",
       " <Reaction SUCptspp at 0x12bbd50c0>,\n",
       " <Reaction ASCBptspp at 0x12aa4f1c0>,\n",
       " <Reaction 2DGLCptspp at 0x12bfb11e0>,\n",
       " <Reaction SBTptspp at 0x12aafea10>,\n",
       " <Reaction FRUpts2pp at 0x12be31a20>,\n",
       " <Reaction MALTptspp at 0x12bd9a230>,\n",
       " <Reaction ACMUMptspp at 0x12bd52320>,\n",
       " <Reaction CELBpts at 0x12bd86320>,\n",
       " <Reaction CHTBSptspp at 0x12bfd4340>,\n",
       " <Reaction ACMANAptspp at 0x12a7a7370>,\n",
       " <Reaction ACGAptspp at 0x129f44430>,\n",
       " <Reaction ARBTptspp at 0x12bfb1c90>,\n",
       " <Reaction TREptspp at 0x12bbf64a0>,\n",
       " <Reaction MNLptspp at 0x12bcbfcd0>,\n",
       " <Reaction FRUptspp at 0x12aae1cf0>,\n",
       " <Reaction GALTptspp at 0x12bd3bd30>,\n",
       " <Reaction GAMptspp at 0x12be485b0>,\n",
       " <Reaction QUINDH at 0x12c015e10>,\n",
       " <Reaction PPNDH at 0x12bb51e40>,\n",
       " <Reaction MANptspp at 0x12bd87760>,\n",
       " <Reaction MANGLYCptspp at 0x12bcbdff0>]"
      ]
     },
     "execution_count": 98,
     "metadata": {},
     "output_type": "execute_result"
    }
   ],
   "source": [
    "#knock outs\n",
    "from cobra.manipulation import knock_out_model_genes\n",
    "\n",
    "# pheA | gene b2599\n",
    "# ptsH | gene b2415\n",
    "# ptsI | gene b2416\n",
    "# crr | gene b2417\n",
    "# ydiB | gene b1692\n",
    "# pheA | gene b2599\n",
    "knock_out_model_genes(CAL11, [\"b2599\", \"b2415\", \"b2416\", \"b2417\", \"b1692\", \"b2599\"])"
   ]
  },
  {
   "cell_type": "code",
   "execution_count": 99,
   "metadata": {},
   "outputs": [],
   "source": [
    "#insert TAL gene, HpaBC gene, and associated reactions\n",
    "\n",
    "CAL11.add_reactions([TAL, COURCA])"
   ]
  },
  {
   "cell_type": "code",
   "execution_count": 100,
   "metadata": {},
   "outputs": [
    {
     "data": {
      "text/html": [
       "\n",
       "        <table>\n",
       "            <tr>\n",
       "                <td><strong>Reaction identifier</strong></td><td>SK_caffa_c</td>\n",
       "            </tr><tr>\n",
       "                <td><strong>Name</strong></td><td>Caffeic acid sink</td>\n",
       "            </tr><tr>\n",
       "                <td><strong>Memory address</strong></td>\n",
       "                <td>0x12b7ee5f0</td>\n",
       "            </tr><tr>\n",
       "                <td><strong>Stoichiometry</strong></td>\n",
       "                <td>\n",
       "                    <p style='text-align:right'>caffa_c <=></p>\n",
       "                    <p style='text-align:right'>Caffeic acid <=></p>\n",
       "                </td>\n",
       "            </tr><tr>\n",
       "                <td><strong>GPR</strong></td><td></td>\n",
       "            </tr><tr>\n",
       "                <td><strong>Lower bound</strong></td><td>-1000.0</td>\n",
       "            </tr><tr>\n",
       "                <td><strong>Upper bound</strong></td><td>1000.0</td>\n",
       "            </tr>\n",
       "        </table>\n",
       "        "
      ],
      "text/plain": [
       "<Reaction SK_caffa_c at 0x12b7ee5f0>"
      ]
     },
     "execution_count": 100,
     "metadata": {},
     "output_type": "execute_result"
    }
   ],
   "source": [
    "#add sink reaction for caffeic acid\n",
    "\n",
    "CAL11.add_boundary(CAL11.metabolites.get_by_id(\"caffa_c\"), type=\"sink\")"
   ]
  },
  {
   "attachments": {},
   "cell_type": "markdown",
   "metadata": {},
   "source": [
    "MAM2 module:\n",
    "\n",
    "(k12 enginnered to carry RA module)"
   ]
  },
  {
   "cell_type": "code",
   "execution_count": 13,
   "metadata": {},
   "outputs": [],
   "source": [
    "MAM2 = k12.copy()"
   ]
  },
  {
   "cell_type": "code",
   "execution_count": null,
   "metadata": {},
   "outputs": [],
   "source": [
    "#add 4CL gene\n",
    "\n",
    "#TODO"
   ]
  },
  {
   "cell_type": "code",
   "execution_count": null,
   "metadata": {},
   "outputs": [],
   "source": [
    "#add RAS gene\n",
    "\n",
    "#TODO"
   ]
  },
  {
   "attachments": {},
   "cell_type": "markdown",
   "metadata": {},
   "source": [
    "MAM3 module:\n",
    "\n",
    "(k12 engineered to be unable to uptake glucose, and carries the RA module)"
   ]
  },
  {
   "cell_type": "code",
   "execution_count": 14,
   "metadata": {},
   "outputs": [],
   "source": [
    "MAM3 = k12.copy()"
   ]
  },
  {
   "cell_type": "code",
   "execution_count": 16,
   "metadata": {},
   "outputs": [
    {
     "data": {
      "text/plain": [
       "[<Reaction TREptspp at 0x1267c6830>,\n",
       " <Reaction CELBpts at 0x12699f040>,\n",
       " <Reaction 2DGLCptspp at 0x126bc6050>,\n",
       " <Reaction GALTptspp at 0x126967070>,\n",
       " <Reaction FRUptspp at 0x12681d8d0>,\n",
       " <Reaction MANGLYCptspp at 0x1268e9930>,\n",
       " <Reaction CHTBSptspp at 0x126be91b0>,\n",
       " <Reaction SBTptspp at 0x12681ea40>,\n",
       " <Reaction ACGAptspp at 0x1267e52a0>,\n",
       " <Reaction ARBTptspp at 0x126bc6b00>,\n",
       " <Reaction SUCptspp at 0x1267a5450>,\n",
       " <Reaction GLCptspp at 0x126967c70>,\n",
       " <Reaction QUINDH at 0x126c2ac80>,\n",
       " <Reaction ACMUMptspp at 0x126984ca0>,\n",
       " <Reaction FRUpts2pp at 0x126a3ecb0>,\n",
       " <Reaction DHAPT at 0x1266fdf90>,\n",
       " <Reaction ACMANAptspp at 0x1267e4e50>,\n",
       " <Reaction MNLptspp at 0x1268eae60>,\n",
       " <Reaction ASCBptspp at 0x1267fcee0>,\n",
       " <Reaction QUINDHyi at 0x126c29720>,\n",
       " <Reaction MANptspp at 0x12699f730>,\n",
       " <Reaction MALTptspp at 0x1269b9750>,\n",
       " <Reaction GAMptspp at 0x126a59f90>,\n",
       " <Reaction SHK3Dr at 0x1266557b0>]"
      ]
     },
     "execution_count": 16,
     "metadata": {},
     "output_type": "execute_result"
    }
   ],
   "source": [
    "#knock outs\n",
    "from cobra.manipulation import knock_out_model_genes\n",
    "\n",
    "# ptsH | gene b2415\n",
    "# ptsI | gene b2416\n",
    "# crr | gene b2417\n",
    "# aroE | gene b3281\n",
    "# ydiB | gene b1692\n",
    "# pheA | gene b2599\n",
    "knock_out_model_genes(MAM3, [\"b2415\", \"b2416\", \"b2417\", \"b3281\", \"b1692\", \"b2599\"])"
   ]
  },
  {
   "cell_type": "code",
   "execution_count": null,
   "metadata": {},
   "outputs": [],
   "source": [
    "#add 4CL gene\n",
    "\n",
    "#TODO"
   ]
  },
  {
   "cell_type": "code",
   "execution_count": null,
   "metadata": {},
   "outputs": [],
   "source": [
    "#add RAS gene\n",
    "\n",
    "#TODO"
   ]
  },
  {
   "attachments": {},
   "cell_type": "markdown",
   "metadata": {},
   "source": [
    "SAL9 module:\n",
    "\n",
    "(BL21 enginnered to carry the SAA module)"
   ]
  },
  {
   "cell_type": "code",
   "execution_count": 17,
   "metadata": {},
   "outputs": [],
   "source": [
    "SAL9 = bl21.copy()"
   ]
  },
  {
   "cell_type": "code",
   "execution_count": null,
   "metadata": {},
   "outputs": [],
   "source": [
    "#add hpaB and hpaC\n",
    "\n",
    "#TODO"
   ]
  },
  {
   "cell_type": "code",
   "execution_count": null,
   "metadata": {},
   "outputs": [],
   "source": [
    "#add ldp-ldh\n",
    "\n",
    "#TODO"
   ]
  },
  {
   "attachments": {},
   "cell_type": "markdown",
   "metadata": {},
   "source": [
    "SAL11 module:\n",
    "\n",
    "(BL21 engineered to not grow on xylose, and carry the SAA module)"
   ]
  },
  {
   "cell_type": "code",
   "execution_count": 26,
   "metadata": {},
   "outputs": [],
   "source": [
    "SAL11 = bl21.copy()"
   ]
  },
  {
   "cell_type": "code",
   "execution_count": 27,
   "metadata": {},
   "outputs": [
    {
     "data": {
      "text/plain": [
       "[<Reaction XYLI1 at 0x12843dff0>, <Reaction XYLI2 at 0x12843d570>]"
      ]
     },
     "execution_count": 27,
     "metadata": {},
     "output_type": "execute_result"
    }
   ],
   "source": [
    "#knock outs\n",
    "from cobra.manipulation import knock_out_model_genes\n",
    "\n",
    "# xylA | gene ECD_03417\n",
    "knock_out_model_genes(SAL11, [\"ECD_03417\"])"
   ]
  },
  {
   "cell_type": "code",
   "execution_count": null,
   "metadata": {},
   "outputs": [],
   "source": [
    "#add hpaB and hpaC\n",
    "\n",
    "#TODO"
   ]
  },
  {
   "cell_type": "code",
   "execution_count": null,
   "metadata": {},
   "outputs": [],
   "source": [
    "#add ldp-ldh\n",
    "\n",
    "#TODO"
   ]
  },
  {
   "attachments": {},
   "cell_type": "markdown",
   "metadata": {},
   "source": [
    "TESTING MODELS:"
   ]
  },
  {
   "cell_type": "code",
   "execution_count": 105,
   "metadata": {},
   "outputs": [],
   "source": [
    "m = CAL2.medium\n",
    "m[\"EX_phe__L_e\"] = 1000.0\n",
    "CAL2.medium = m"
   ]
  },
  {
   "cell_type": "code",
   "execution_count": 110,
   "metadata": {},
   "outputs": [
    {
     "data": {
      "text/html": [
       "<h3>phe__L_e</h3><p>C9H11NO2</p><h4>Producing Reactions</h4><table border=\"1\" class=\"dataframe\">\n",
       "  <thead>\n",
       "    <tr style=\"text-align: right;\">\n",
       "      <th>Percent</th>\n",
       "      <th>Flux</th>\n",
       "      <th>Reaction</th>\n",
       "      <th>Definition</th>\n",
       "    </tr>\n",
       "  </thead>\n",
       "  <tbody>\n",
       "    <tr>\n",
       "      <td>100.00%</td>\n",
       "      <td>0.2766</td>\n",
       "      <td>EX_phe__L_e</td>\n",
       "      <td>phe__L_e &lt;=&gt;</td>\n",
       "    </tr>\n",
       "  </tbody>\n",
       "</table><h4>Consuming Reactions</h4><table border=\"1\" class=\"dataframe\">\n",
       "  <thead>\n",
       "    <tr style=\"text-align: right;\">\n",
       "      <th>Percent</th>\n",
       "      <th>Flux</th>\n",
       "      <th>Reaction</th>\n",
       "      <th>Definition</th>\n",
       "    </tr>\n",
       "  </thead>\n",
       "  <tbody>\n",
       "    <tr>\n",
       "      <td>100.00%</td>\n",
       "      <td>-0.2766</td>\n",
       "      <td>PHEtex</td>\n",
       "      <td>phe__L_e &lt;=&gt; phe__L_p</td>\n",
       "    </tr>\n",
       "  </tbody>\n",
       "</table>"
      ],
      "text/plain": [
       "<cobra.summary.metabolite_summary.MetaboliteSummary at 0x12f9b1750>"
      ]
     },
     "execution_count": 110,
     "metadata": {},
     "output_type": "execute_result"
    }
   ],
   "source": [
    "CAL2.metabolites.phe__L_e.summary()"
   ]
  },
  {
   "cell_type": "code",
   "execution_count": 111,
   "metadata": {},
   "outputs": [],
   "source": [
    "test_caff = CAL2.metabolites.get_by_id(\"caffa_c\")"
   ]
  },
  {
   "cell_type": "code",
   "execution_count": 114,
   "metadata": {},
   "outputs": [
    {
     "ename": "KeyError",
     "evalue": "'CAFFCOA'",
     "output_type": "error",
     "traceback": [
      "\u001b[0;31m---------------------------------------------------------------------------\u001b[0m",
      "\u001b[0;31mKeyError\u001b[0m                                  Traceback (most recent call last)",
      "File \u001b[0;32m~/Projects/BIOTBT3900/venv/lib/python3.10/site-packages/pandas/core/indexes/base.py:3803\u001b[0m, in \u001b[0;36mIndex.get_loc\u001b[0;34m(self, key, method, tolerance)\u001b[0m\n\u001b[1;32m   3802\u001b[0m \u001b[39mtry\u001b[39;00m:\n\u001b[0;32m-> 3803\u001b[0m     \u001b[39mreturn\u001b[39;00m \u001b[39mself\u001b[39;49m\u001b[39m.\u001b[39;49m_engine\u001b[39m.\u001b[39;49mget_loc(casted_key)\n\u001b[1;32m   3804\u001b[0m \u001b[39mexcept\u001b[39;00m \u001b[39mKeyError\u001b[39;00m \u001b[39mas\u001b[39;00m err:\n",
      "File \u001b[0;32m~/Projects/BIOTBT3900/venv/lib/python3.10/site-packages/pandas/_libs/index.pyx:138\u001b[0m, in \u001b[0;36mpandas._libs.index.IndexEngine.get_loc\u001b[0;34m()\u001b[0m\n",
      "File \u001b[0;32m~/Projects/BIOTBT3900/venv/lib/python3.10/site-packages/pandas/_libs/index.pyx:165\u001b[0m, in \u001b[0;36mpandas._libs.index.IndexEngine.get_loc\u001b[0;34m()\u001b[0m\n",
      "File \u001b[0;32mpandas/_libs/hashtable_class_helper.pxi:5745\u001b[0m, in \u001b[0;36mpandas._libs.hashtable.PyObjectHashTable.get_item\u001b[0;34m()\u001b[0m\n",
      "File \u001b[0;32mpandas/_libs/hashtable_class_helper.pxi:5753\u001b[0m, in \u001b[0;36mpandas._libs.hashtable.PyObjectHashTable.get_item\u001b[0;34m()\u001b[0m\n",
      "\u001b[0;31mKeyError\u001b[0m: 'CAFFCOA'",
      "\nThe above exception was the direct cause of the following exception:\n",
      "\u001b[0;31mKeyError\u001b[0m                                  Traceback (most recent call last)",
      "\u001b[1;32m/Users/andreastallvik/Projects/BIOTBT3900/src/RAsynthesis/models.ipynb Cell 50\u001b[0m in \u001b[0;36m1\n\u001b[0;32m----> <a href='vscode-notebook-cell:/Users/andreastallvik/Projects/BIOTBT3900/src/RAsynthesis/models.ipynb#Y130sZmlsZQ%3D%3D?line=0'>1</a>\u001b[0m CAL2\u001b[39m.\u001b[39;49mmetabolites\u001b[39m.\u001b[39;49mcaffa_c\u001b[39m.\u001b[39;49msummary()\n",
      "File \u001b[0;32m~/Projects/BIOTBT3900/venv/lib/python3.10/site-packages/cobra/core/metabolite.py:310\u001b[0m, in \u001b[0;36mMetabolite.summary\u001b[0;34m(self, solution, fva)\u001b[0m\n\u001b[1;32m    284\u001b[0m \u001b[39m\u001b[39m\u001b[39m\"\"\"Create a summary of the producing and consuming fluxes.\u001b[39;00m\n\u001b[1;32m    285\u001b[0m \n\u001b[1;32m    286\u001b[0m \u001b[39mParameters\u001b[39;00m\n\u001b[0;32m   (...)\u001b[0m\n\u001b[1;32m    306\u001b[0m \n\u001b[1;32m    307\u001b[0m \u001b[39m\"\"\"\u001b[39;00m\n\u001b[1;32m    308\u001b[0m \u001b[39mfrom\u001b[39;00m \u001b[39mcobra\u001b[39;00m\u001b[39m.\u001b[39;00m\u001b[39msummary\u001b[39;00m \u001b[39mimport\u001b[39;00m MetaboliteSummary\n\u001b[0;32m--> 310\u001b[0m \u001b[39mreturn\u001b[39;00m MetaboliteSummary(\n\u001b[1;32m    311\u001b[0m     metabolite\u001b[39m=\u001b[39;49m\u001b[39mself\u001b[39;49m,\n\u001b[1;32m    312\u001b[0m     model\u001b[39m=\u001b[39;49m\u001b[39mself\u001b[39;49m\u001b[39m.\u001b[39;49m_model,\n\u001b[1;32m    313\u001b[0m     solution\u001b[39m=\u001b[39;49msolution,\n\u001b[1;32m    314\u001b[0m     fva\u001b[39m=\u001b[39;49mfva,\n\u001b[1;32m    315\u001b[0m )\n",
      "File \u001b[0;32m~/Projects/BIOTBT3900/venv/lib/python3.10/site-packages/cobra/summary/metabolite_summary.py:88\u001b[0m, in \u001b[0;36mMetaboliteSummary.__init__\u001b[0;34m(self, metabolite, model, solution, fva, **kwargs)\u001b[0m\n\u001b[1;32m     86\u001b[0m \u001b[39mself\u001b[39m\u001b[39m.\u001b[39mproducing_flux: Optional[pd\u001b[39m.\u001b[39mDataFrame] \u001b[39m=\u001b[39m \u001b[39mNone\u001b[39;00m\n\u001b[1;32m     87\u001b[0m \u001b[39mself\u001b[39m\u001b[39m.\u001b[39mconsuming_flux: Optional[pd\u001b[39m.\u001b[39mDataFrame] \u001b[39m=\u001b[39m \u001b[39mNone\u001b[39;00m\n\u001b[0;32m---> 88\u001b[0m \u001b[39mself\u001b[39;49m\u001b[39m.\u001b[39;49m_generate(model, solution, fva)\n",
      "File \u001b[0;32m~/Projects/BIOTBT3900/venv/lib/python3.10/site-packages/cobra/summary/metabolite_summary.py:130\u001b[0m, in \u001b[0;36mMetaboliteSummary._generate\u001b[0;34m(self, model, solution, fva)\u001b[0m\n\u001b[1;32m    122\u001b[0m     fva \u001b[39m=\u001b[39m flux_variability_analysis(\n\u001b[1;32m    123\u001b[0m         model\u001b[39m=\u001b[39mmodel,\n\u001b[1;32m    124\u001b[0m         reaction_list\u001b[39m=\u001b[39m[r\u001b[39m.\u001b[39mid \u001b[39mfor\u001b[39;00m r \u001b[39min\u001b[39;00m \u001b[39mself\u001b[39m\u001b[39m.\u001b[39m_reactions],\n\u001b[1;32m    125\u001b[0m         fraction_of_optimum\u001b[39m=\u001b[39mfva,\n\u001b[1;32m    126\u001b[0m     )\n\u001b[1;32m    128\u001b[0m \u001b[39m# Create the basic flux table.\u001b[39;00m\n\u001b[1;32m    129\u001b[0m flux \u001b[39m=\u001b[39m pd\u001b[39m.\u001b[39mDataFrame(\n\u001b[0;32m--> 130\u001b[0m     data\u001b[39m=\u001b[39m[\n\u001b[1;32m    131\u001b[0m         (\n\u001b[1;32m    132\u001b[0m             r\u001b[39m.\u001b[39mid,\n\u001b[1;32m    133\u001b[0m             solution[r\u001b[39m.\u001b[39mid],\n\u001b[1;32m    134\u001b[0m             r\u001b[39m.\u001b[39mget_coefficient(\u001b[39mself\u001b[39m\u001b[39m.\u001b[39m_metabolite\u001b[39m.\u001b[39mid),\n\u001b[1;32m    135\u001b[0m         )\n\u001b[1;32m    136\u001b[0m         \u001b[39mfor\u001b[39;00m r \u001b[39min\u001b[39;00m \u001b[39mself\u001b[39m\u001b[39m.\u001b[39m_reactions\n\u001b[1;32m    137\u001b[0m     ],\n\u001b[1;32m    138\u001b[0m     columns\u001b[39m=\u001b[39m[\u001b[39m\"\u001b[39m\u001b[39mreaction\u001b[39m\u001b[39m\"\u001b[39m, \u001b[39m\"\u001b[39m\u001b[39mflux\u001b[39m\u001b[39m\"\u001b[39m, \u001b[39m\"\u001b[39m\u001b[39mfactor\u001b[39m\u001b[39m\"\u001b[39m],\n\u001b[1;32m    139\u001b[0m     index\u001b[39m=\u001b[39m[r\u001b[39m.\u001b[39mid \u001b[39mfor\u001b[39;00m r \u001b[39min\u001b[39;00m \u001b[39mself\u001b[39m\u001b[39m.\u001b[39m_reactions],\n\u001b[1;32m    140\u001b[0m )\n\u001b[1;32m    141\u001b[0m \u001b[39m# Scale fluxes by stoichiometric coefficient.\u001b[39;00m\n\u001b[1;32m    142\u001b[0m flux[\u001b[39m\"\u001b[39m\u001b[39mflux\u001b[39m\u001b[39m\"\u001b[39m] \u001b[39m*\u001b[39m\u001b[39m=\u001b[39m flux[\u001b[39m\"\u001b[39m\u001b[39mfactor\u001b[39m\u001b[39m\"\u001b[39m]\n",
      "File \u001b[0;32m~/Projects/BIOTBT3900/venv/lib/python3.10/site-packages/cobra/summary/metabolite_summary.py:133\u001b[0m, in \u001b[0;36m<listcomp>\u001b[0;34m(.0)\u001b[0m\n\u001b[1;32m    122\u001b[0m     fva \u001b[39m=\u001b[39m flux_variability_analysis(\n\u001b[1;32m    123\u001b[0m         model\u001b[39m=\u001b[39mmodel,\n\u001b[1;32m    124\u001b[0m         reaction_list\u001b[39m=\u001b[39m[r\u001b[39m.\u001b[39mid \u001b[39mfor\u001b[39;00m r \u001b[39min\u001b[39;00m \u001b[39mself\u001b[39m\u001b[39m.\u001b[39m_reactions],\n\u001b[1;32m    125\u001b[0m         fraction_of_optimum\u001b[39m=\u001b[39mfva,\n\u001b[1;32m    126\u001b[0m     )\n\u001b[1;32m    128\u001b[0m \u001b[39m# Create the basic flux table.\u001b[39;00m\n\u001b[1;32m    129\u001b[0m flux \u001b[39m=\u001b[39m pd\u001b[39m.\u001b[39mDataFrame(\n\u001b[1;32m    130\u001b[0m     data\u001b[39m=\u001b[39m[\n\u001b[1;32m    131\u001b[0m         (\n\u001b[1;32m    132\u001b[0m             r\u001b[39m.\u001b[39mid,\n\u001b[0;32m--> 133\u001b[0m             solution[r\u001b[39m.\u001b[39;49mid],\n\u001b[1;32m    134\u001b[0m             r\u001b[39m.\u001b[39mget_coefficient(\u001b[39mself\u001b[39m\u001b[39m.\u001b[39m_metabolite\u001b[39m.\u001b[39mid),\n\u001b[1;32m    135\u001b[0m         )\n\u001b[1;32m    136\u001b[0m         \u001b[39mfor\u001b[39;00m r \u001b[39min\u001b[39;00m \u001b[39mself\u001b[39m\u001b[39m.\u001b[39m_reactions\n\u001b[1;32m    137\u001b[0m     ],\n\u001b[1;32m    138\u001b[0m     columns\u001b[39m=\u001b[39m[\u001b[39m\"\u001b[39m\u001b[39mreaction\u001b[39m\u001b[39m\"\u001b[39m, \u001b[39m\"\u001b[39m\u001b[39mflux\u001b[39m\u001b[39m\"\u001b[39m, \u001b[39m\"\u001b[39m\u001b[39mfactor\u001b[39m\u001b[39m\"\u001b[39m],\n\u001b[1;32m    139\u001b[0m     index\u001b[39m=\u001b[39m[r\u001b[39m.\u001b[39mid \u001b[39mfor\u001b[39;00m r \u001b[39min\u001b[39;00m \u001b[39mself\u001b[39m\u001b[39m.\u001b[39m_reactions],\n\u001b[1;32m    140\u001b[0m )\n\u001b[1;32m    141\u001b[0m \u001b[39m# Scale fluxes by stoichiometric coefficient.\u001b[39;00m\n\u001b[1;32m    142\u001b[0m flux[\u001b[39m\"\u001b[39m\u001b[39mflux\u001b[39m\u001b[39m\"\u001b[39m] \u001b[39m*\u001b[39m\u001b[39m=\u001b[39m flux[\u001b[39m\"\u001b[39m\u001b[39mfactor\u001b[39m\u001b[39m\"\u001b[39m]\n",
      "File \u001b[0;32m~/Projects/BIOTBT3900/venv/lib/python3.10/site-packages/cobra/core/solution.py:120\u001b[0m, in \u001b[0;36mSolution.__getitem__\u001b[0;34m(self, reaction_id)\u001b[0m\n\u001b[1;32m    105\u001b[0m \u001b[39mdef\u001b[39;00m \u001b[39m__getitem__\u001b[39m(\u001b[39mself\u001b[39m, reaction_id: \u001b[39mstr\u001b[39m) \u001b[39m-\u001b[39m\u001b[39m>\u001b[39m \u001b[39mfloat\u001b[39m:\n\u001b[1;32m    106\u001b[0m \u001b[39m    \u001b[39m\u001b[39m\"\"\"\u001b[39;00m\n\u001b[1;32m    107\u001b[0m \u001b[39m    Return the flux of a reaction.\u001b[39;00m\n\u001b[1;32m    108\u001b[0m \n\u001b[0;32m   (...)\u001b[0m\n\u001b[1;32m    118\u001b[0m \n\u001b[1;32m    119\u001b[0m \u001b[39m    \"\"\"\u001b[39;00m\n\u001b[0;32m--> 120\u001b[0m     \u001b[39mreturn\u001b[39;00m \u001b[39mself\u001b[39;49m\u001b[39m.\u001b[39;49mfluxes[reaction_id]\n",
      "File \u001b[0;32m~/Projects/BIOTBT3900/venv/lib/python3.10/site-packages/pandas/core/series.py:981\u001b[0m, in \u001b[0;36mSeries.__getitem__\u001b[0;34m(self, key)\u001b[0m\n\u001b[1;32m    978\u001b[0m     \u001b[39mreturn\u001b[39;00m \u001b[39mself\u001b[39m\u001b[39m.\u001b[39m_values[key]\n\u001b[1;32m    980\u001b[0m \u001b[39melif\u001b[39;00m key_is_scalar:\n\u001b[0;32m--> 981\u001b[0m     \u001b[39mreturn\u001b[39;00m \u001b[39mself\u001b[39;49m\u001b[39m.\u001b[39;49m_get_value(key)\n\u001b[1;32m    983\u001b[0m \u001b[39mif\u001b[39;00m is_hashable(key):\n\u001b[1;32m    984\u001b[0m     \u001b[39m# Otherwise index.get_value will raise InvalidIndexError\u001b[39;00m\n\u001b[1;32m    985\u001b[0m     \u001b[39mtry\u001b[39;00m:\n\u001b[1;32m    986\u001b[0m         \u001b[39m# For labels that don't resolve as scalars like tuples and frozensets\u001b[39;00m\n",
      "File \u001b[0;32m~/Projects/BIOTBT3900/venv/lib/python3.10/site-packages/pandas/core/series.py:1089\u001b[0m, in \u001b[0;36mSeries._get_value\u001b[0;34m(self, label, takeable)\u001b[0m\n\u001b[1;32m   1086\u001b[0m     \u001b[39mreturn\u001b[39;00m \u001b[39mself\u001b[39m\u001b[39m.\u001b[39m_values[label]\n\u001b[1;32m   1088\u001b[0m \u001b[39m# Similar to Index.get_value, but we do not fall back to positional\u001b[39;00m\n\u001b[0;32m-> 1089\u001b[0m loc \u001b[39m=\u001b[39m \u001b[39mself\u001b[39;49m\u001b[39m.\u001b[39;49mindex\u001b[39m.\u001b[39;49mget_loc(label)\n\u001b[1;32m   1090\u001b[0m \u001b[39mreturn\u001b[39;00m \u001b[39mself\u001b[39m\u001b[39m.\u001b[39mindex\u001b[39m.\u001b[39m_get_values_for_loc(\u001b[39mself\u001b[39m, loc, label)\n",
      "File \u001b[0;32m~/Projects/BIOTBT3900/venv/lib/python3.10/site-packages/pandas/core/indexes/base.py:3805\u001b[0m, in \u001b[0;36mIndex.get_loc\u001b[0;34m(self, key, method, tolerance)\u001b[0m\n\u001b[1;32m   3803\u001b[0m     \u001b[39mreturn\u001b[39;00m \u001b[39mself\u001b[39m\u001b[39m.\u001b[39m_engine\u001b[39m.\u001b[39mget_loc(casted_key)\n\u001b[1;32m   3804\u001b[0m \u001b[39mexcept\u001b[39;00m \u001b[39mKeyError\u001b[39;00m \u001b[39mas\u001b[39;00m err:\n\u001b[0;32m-> 3805\u001b[0m     \u001b[39mraise\u001b[39;00m \u001b[39mKeyError\u001b[39;00m(key) \u001b[39mfrom\u001b[39;00m \u001b[39merr\u001b[39;00m\n\u001b[1;32m   3806\u001b[0m \u001b[39mexcept\u001b[39;00m \u001b[39mTypeError\u001b[39;00m:\n\u001b[1;32m   3807\u001b[0m     \u001b[39m# If we have a listlike key, _check_indexing_error will raise\u001b[39;00m\n\u001b[1;32m   3808\u001b[0m     \u001b[39m#  InvalidIndexError. Otherwise we fall through and re-raise\u001b[39;00m\n\u001b[1;32m   3809\u001b[0m     \u001b[39m#  the TypeError.\u001b[39;00m\n\u001b[1;32m   3810\u001b[0m     \u001b[39mself\u001b[39m\u001b[39m.\u001b[39m_check_indexing_error(key)\n",
      "\u001b[0;31mKeyError\u001b[0m: 'CAFFCOA'"
     ]
    }
   ],
   "source": [
    "CAL2.metabolites.caffa_c.summary()"
   ]
  },
  {
   "cell_type": "code",
   "execution_count": 46,
   "metadata": {},
   "outputs": [
    {
     "name": "stdout",
     "output_type": "stream",
     "text": [
      "b2600\n"
     ]
    }
   ],
   "source": [
    "for gene in SAL11.genes:\n",
    "    if gene.id == \"ECD_02489\":\n",
    "        print(gene.name)"
   ]
  },
  {
   "cell_type": "code",
   "execution_count": 57,
   "metadata": {},
   "outputs": [],
   "source": [
    "for m in k12.metabolites:\n",
    "    if m.name == \"Caffeoyl-CoA\":\n",
    "        print(m)"
   ]
  },
  {
   "cell_type": "code",
   "execution_count": 58,
   "metadata": {},
   "outputs": [
    {
     "name": "stdout",
     "output_type": "stream",
     "text": [
      "LDH_D2: lac__D_c + q8_c --> pyr_c + q8h2_c\n",
      "LDH_D: lac__D_c + nad_c <=> h_c + nadh_c + pyr_c\n"
     ]
    }
   ],
   "source": [
    "for r in k12.reactions:\n",
    "    if r.name == \"D-lactate dehydrogenase\":\n",
    "        print(r)"
   ]
  },
  {
   "cell_type": "code",
   "execution_count": null,
   "metadata": {},
   "outputs": [],
   "source": []
  }
 ],
 "metadata": {
  "kernelspec": {
   "display_name": "venv",
   "language": "python",
   "name": "python3"
  },
  "language_info": {
   "codemirror_mode": {
    "name": "ipython",
    "version": 3
   },
   "file_extension": ".py",
   "mimetype": "text/x-python",
   "name": "python",
   "nbconvert_exporter": "python",
   "pygments_lexer": "ipython3",
   "version": "3.10.7"
  },
  "orig_nbformat": 4
 },
 "nbformat": 4,
 "nbformat_minor": 2
}
