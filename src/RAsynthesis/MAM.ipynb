{
 "cells": [
  {
   "cell_type": "code",
   "execution_count": 13,
   "metadata": {},
   "outputs": [
    {
     "name": "stderr",
     "output_type": "stream",
     "text": [
      "No objective coefficients in model. Unclear what should be optimized\n"
     ]
    }
   ],
   "source": [
    "from cobra import Model, Reaction, Metabolite\n",
    "from cobra.io import read_sbml_model\n",
    "from energy_cycle import energy_generating_cycle_test\n",
    "\n",
    "# read model for E. coli K12\n",
    "k12 = read_sbml_model('../GEMs/iML1515.xml')\n",
    "\n",
    "#read the universal model\n",
    "uni = read_sbml_model('../GEMs/bigg_universe.xml')"
   ]
  },
  {
   "attachments": {},
   "cell_type": "markdown",
   "metadata": {},
   "source": [
    "# MAM2 module\n",
    "RA mod"
   ]
  },
  {
   "cell_type": "code",
   "execution_count": 14,
   "metadata": {},
   "outputs": [],
   "source": [
    "MAM2 = k12.copy()"
   ]
  },
  {
   "attachments": {},
   "cell_type": "markdown",
   "metadata": {},
   "source": [
    "## Metabolites"
   ]
  },
  {
   "cell_type": "code",
   "execution_count": 15,
   "metadata": {},
   "outputs": [],
   "source": [
    "#caffeic acid\n",
    "caffeic_acid_c = uni.metabolites.get_by_id(\"34dhcinm_c\")\n",
    "\n",
    "#external caffeic acid\n",
    "caffeic_acid_e = uni.metabolites.get_by_id(\"34dhcinm_e\")\n",
    "\n",
    "#caffeoyl CoA\n",
    "caffcoa_c = uni.metabolites.get_by_id(\"caffcoa_c\")\n",
    "\n",
    "#3,4-Dihydroxyphenyllactic acid | Salvianic acid A | SAA\n",
    "saa_c = Metabolite(\n",
    "    'saa_c',\n",
    "    formula='C9H10O5',\n",
    "    name='3,4-Dihydroxyphenyllactic acid',\n",
    "    compartment='c')\n",
    "\n",
    "#external 3,4-Dihydroxyphenyllactic acid | Salvianic acid A | SAA\n",
    "saa_e = Metabolite(\n",
    "    'saa_e',\n",
    "    formula='C9H10O5',\n",
    "    name='3,4-Dihydroxyphenyllactic acid',\n",
    "    compartment='e')\n",
    "\n",
    "#rosmarinic acid\n",
    "rosma_c = Metabolite(\n",
    "    'rosma_c',\n",
    "    formula='C18H16O8',\n",
    "    name='Rosmarinic acid',\n",
    "    compartment='c')\n",
    "\n",
    "#external rosmarinic acid\n",
    "rosma_e = Metabolite(\n",
    "    'rosma_e',\n",
    "    formula='C18H16O8',\n",
    "    name='Rosmarinic acid',\n",
    "    compartment='e')\n",
    "\n",
    "#ATP\n",
    "atp_c = k12.metabolites.get_by_id(\"atp_c\")\n",
    "\n",
    "#AMP\n",
    "amp_c = k12.metabolites.get_by_id(\"amp_c\")\n",
    "\n",
    "#Diphosphate\n",
    "ppi_c = k12.metabolites.get_by_id(\"ppi_c\")\n",
    "\n",
    "#CoA\n",
    "coa_c = k12.metabolites.get_by_id(\"coa_c\")"
   ]
  },
  {
   "attachments": {},
   "cell_type": "markdown",
   "metadata": {},
   "source": [
    "## Reactions"
   ]
  },
  {
   "cell_type": "code",
   "execution_count": 16,
   "metadata": {},
   "outputs": [],
   "source": [
    "#caffeic acid transport reaction\n",
    "CAFFAt = Reaction('CAFFAt')\n",
    "CAFFAt.name = 'caffa transport'\n",
    "CAFFAt.subsystem = 'RA module'\n",
    "CAFFAt.lower_bound = -1000  # This is the default\n",
    "CAFFAt.upper_bound = 1000  # This is the default\n",
    "CAFFAt.add_metabolites({\n",
    "    caffeic_acid_c: -1.0,\n",
    "    caffeic_acid_e: 1.0\n",
    "})\n",
    "\n",
    "MAM2.add_reactions([CAFFAt])"
   ]
  },
  {
   "cell_type": "code",
   "execution_count": 17,
   "metadata": {},
   "outputs": [],
   "source": [
    "CAFFCOA = uni.reactions.get_by_id(\"CAFFCOA\")\n",
    "\n",
    "MAM2.add_reactions([CAFFCOA])"
   ]
  },
  {
   "cell_type": "code",
   "execution_count": 18,
   "metadata": {},
   "outputs": [],
   "source": [
    "#SAA transport reaction\n",
    "SAAt = Reaction('SAAt')\n",
    "SAAt.name = 'caffa transport'\n",
    "SAAt.subsystem = 'RA module'\n",
    "SAAt.lower_bound = -1000  # This is the default\n",
    "SAAt.upper_bound = 1000  # This is the default\n",
    "SAAt.add_metabolites({\n",
    "    saa_c: -1.0,\n",
    "    saa_e: 1.0\n",
    "})\n",
    "\n",
    "MAM2.add_reactions([SAAt])"
   ]
  },
  {
   "cell_type": "code",
   "execution_count": 19,
   "metadata": {},
   "outputs": [],
   "source": [
    "#salvianic acid A + caffeoyl CoA -> Rosmarinic acid\n",
    "RAS = Reaction('RAS')\n",
    "RAS.name = 'rosmarinic acid synthase'\n",
    "RAS.subsystem = 'RA module'\n",
    "RAS.lower_bound = -1000  # This is the default\n",
    "RAS.upper_bound = 1000  # This is the default\n",
    "#Caffeoyl-CoA + 3-(3,4-Dihydroxyphenyl)lactate <=> CoA + Rosmarinate\n",
    "RAS.add_metabolites({\n",
    "    caffcoa_c: -1.0,\n",
    "    saa_c: -1.0,\n",
    "    coa_c: 1.0,\n",
    "    rosma_c: 1.0\n",
    "})\n",
    "#RAS.gene_reaction_rule = '(ras)' #synthetic 4CL gene\n",
    "\n",
    "MAM2.add_reactions([RAS])"
   ]
  },
  {
   "cell_type": "code",
   "execution_count": 20,
   "metadata": {},
   "outputs": [],
   "source": [
    "#RA transport reaction\n",
    "RAt = Reaction('RAt')\n",
    "RAt.name = 'caffa transport'\n",
    "RAt.subsystem = 'RA module'\n",
    "RAt.lower_bound = -1000  # This is the default\n",
    "RAt.upper_bound = 1000  # This is the default\n",
    "RAt.add_metabolites({\n",
    "    rosma_c: -1.0,\n",
    "    rosma_e: 1.0\n",
    "})\n",
    "\n",
    "MAM2.add_reactions([RAt])"
   ]
  },
  {
   "cell_type": "code",
   "execution_count": 21,
   "metadata": {},
   "outputs": [
    {
     "data": {
      "text/html": [
       "\n",
       "        <table>\n",
       "            <tr>\n",
       "                <td><strong>Reaction identifier</strong></td><td>EX_rosma_e</td>\n",
       "            </tr><tr>\n",
       "                <td><strong>Name</strong></td><td>Rosmarinic acid exchange</td>\n",
       "            </tr><tr>\n",
       "                <td><strong>Memory address</strong></td>\n",
       "                <td>0x131a3be20</td>\n",
       "            </tr><tr>\n",
       "                <td><strong>Stoichiometry</strong></td>\n",
       "                <td>\n",
       "                    <p style='text-align:right'>rosma_e <=></p>\n",
       "                    <p style='text-align:right'>Rosmarinic acid <=></p>\n",
       "                </td>\n",
       "            </tr><tr>\n",
       "                <td><strong>GPR</strong></td><td></td>\n",
       "            </tr><tr>\n",
       "                <td><strong>Lower bound</strong></td><td>-1000.0</td>\n",
       "            </tr><tr>\n",
       "                <td><strong>Upper bound</strong></td><td>1000.0</td>\n",
       "            </tr>\n",
       "        </table>\n",
       "        "
      ],
      "text/plain": [
       "<Reaction EX_rosma_e at 0x131a3be20>"
      ]
     },
     "execution_count": 21,
     "metadata": {},
     "output_type": "execute_result"
    }
   ],
   "source": [
    "#exhange reactions for SA, caffa, and RA\n",
    "\n",
    "MAM2.metabolites.get_by_id(\"34dhcinm_e\").compartment = 'e' #set compartment to be 'e' rather than 'C_e'\n",
    "\n",
    "MAM2.add_boundary(MAM2.metabolites.get_by_id(\"34dhcinm_e\"), type=\"exchange\")\n",
    "MAM2.add_boundary(MAM2.metabolites.get_by_id(\"saa_e\"), type=\"exchange\")\n",
    "MAM2.add_boundary(MAM2.metabolites.get_by_id(\"rosma_e\"), type=\"exchange\")"
   ]
  },
  {
   "cell_type": "code",
   "execution_count": 22,
   "metadata": {},
   "outputs": [],
   "source": [
    "#so that cell cannot eat rosmarinic acid\n",
    "MAM2.reactions.EX_rosma_e.lower_bound = 0"
   ]
  },
  {
   "attachments": {},
   "cell_type": "markdown",
   "metadata": {},
   "source": [
    "## Testing"
   ]
  },
  {
   "cell_type": "code",
   "execution_count": 15,
   "metadata": {},
   "outputs": [
    {
     "name": "stdout",
     "output_type": "stream",
     "text": [
      "ATPM flux: 0.0\n"
     ]
    },
    {
     "data": {
      "text/html": [
       "<strong><em>Optimal</em> solution with objective value 0.000</strong><br><div>\n",
       "<style scoped>\n",
       "    .dataframe tbody tr th:only-of-type {\n",
       "        vertical-align: middle;\n",
       "    }\n",
       "\n",
       "    .dataframe tbody tr th {\n",
       "        vertical-align: top;\n",
       "    }\n",
       "\n",
       "    .dataframe thead th {\n",
       "        text-align: right;\n",
       "    }\n",
       "</style>\n",
       "<table border=\"1\" class=\"dataframe\">\n",
       "  <thead>\n",
       "    <tr style=\"text-align: right;\">\n",
       "      <th></th>\n",
       "      <th>fluxes</th>\n",
       "      <th>reduced_costs</th>\n",
       "    </tr>\n",
       "  </thead>\n",
       "  <tbody>\n",
       "    <tr>\n",
       "      <th>CYTDK2</th>\n",
       "      <td>0.0</td>\n",
       "      <td>-0.293564</td>\n",
       "    </tr>\n",
       "    <tr>\n",
       "      <th>XPPT</th>\n",
       "      <td>0.0</td>\n",
       "      <td>10.161276</td>\n",
       "    </tr>\n",
       "    <tr>\n",
       "      <th>HXPRT</th>\n",
       "      <td>0.0</td>\n",
       "      <td>10.161276</td>\n",
       "    </tr>\n",
       "    <tr>\n",
       "      <th>NDPK5</th>\n",
       "      <td>0.0</td>\n",
       "      <td>-1.919362</td>\n",
       "    </tr>\n",
       "    <tr>\n",
       "      <th>SHK3Dr</th>\n",
       "      <td>0.0</td>\n",
       "      <td>2.000000</td>\n",
       "    </tr>\n",
       "    <tr>\n",
       "      <th>...</th>\n",
       "      <td>...</td>\n",
       "      <td>...</td>\n",
       "    </tr>\n",
       "    <tr>\n",
       "      <th>RAS</th>\n",
       "      <td>0.0</td>\n",
       "      <td>-2.000000</td>\n",
       "    </tr>\n",
       "    <tr>\n",
       "      <th>RAt</th>\n",
       "      <td>0.0</td>\n",
       "      <td>2.000000</td>\n",
       "    </tr>\n",
       "    <tr>\n",
       "      <th>EX_34dhcinm_e</th>\n",
       "      <td>0.0</td>\n",
       "      <td>-2.000000</td>\n",
       "    </tr>\n",
       "    <tr>\n",
       "      <th>EX_saa_e</th>\n",
       "      <td>0.0</td>\n",
       "      <td>-2.000000</td>\n",
       "    </tr>\n",
       "    <tr>\n",
       "      <th>EX_rosma_e</th>\n",
       "      <td>0.0</td>\n",
       "      <td>-2.000000</td>\n",
       "    </tr>\n",
       "  </tbody>\n",
       "</table>\n",
       "<p>2720 rows × 2 columns</p>\n",
       "</div>"
      ],
      "text/plain": [
       "<Solution 0.000 at 0x139298dc0>"
      ]
     },
     "execution_count": 15,
     "metadata": {},
     "output_type": "execute_result"
    }
   ],
   "source": [
    "energy_generating_cycle_test(MAM2)"
   ]
  },
  {
   "cell_type": "code",
   "execution_count": 17,
   "metadata": {},
   "outputs": [
    {
     "data": {
      "text/html": [
       "<h3>rosma_c</h3><p>C18H16O8</p><h4>Producing Reactions</h4><table border=\"1\" class=\"dataframe\">\n",
       "  <thead>\n",
       "    <tr style=\"text-align: right;\">\n",
       "      <th>Percent</th>\n",
       "      <th>Flux</th>\n",
       "      <th>Range</th>\n",
       "      <th>Reaction</th>\n",
       "      <th>Definition</th>\n",
       "    </tr>\n",
       "  </thead>\n",
       "  <tbody>\n",
       "    <tr>\n",
       "      <td></td>\n",
       "      <td>0</td>\n",
       "      <td>[0;  6.661]</td>\n",
       "      <td>RAS</td>\n",
       "      <td>caffcoa_c + saa_c &lt;=&gt; coa_c + rosma_c</td>\n",
       "    </tr>\n",
       "  </tbody>\n",
       "</table><h4>Consuming Reactions</h4><table border=\"1\" class=\"dataframe\">\n",
       "  <thead>\n",
       "    <tr style=\"text-align: right;\">\n",
       "      <th>Percent</th>\n",
       "      <th>Flux</th>\n",
       "      <th>Range</th>\n",
       "      <th>Reaction</th>\n",
       "      <th>Definition</th>\n",
       "    </tr>\n",
       "  </thead>\n",
       "  <tbody>\n",
       "    <tr>\n",
       "      <td></td>\n",
       "      <td>0</td>\n",
       "      <td>[-6.661;  0]</td>\n",
       "      <td>RAt</td>\n",
       "      <td>rosma_c &lt;=&gt; rosma_e</td>\n",
       "    </tr>\n",
       "  </tbody>\n",
       "</table>"
      ],
      "text/plain": [
       "<cobra.summary.metabolite_summary.MetaboliteSummary at 0x139633f10>"
      ]
     },
     "execution_count": 17,
     "metadata": {},
     "output_type": "execute_result"
    }
   ],
   "source": [
    "from cobra.flux_analysis import flux_variability_analysis\n",
    "\n",
    "MAM2.metabolites.rosma_c.summary(fva=0.95)"
   ]
  },
  {
   "attachments": {},
   "cell_type": "markdown",
   "metadata": {},
   "source": [
    "## Export model to SBML"
   ]
  },
  {
   "cell_type": "code",
   "execution_count": 24,
   "metadata": {},
   "outputs": [],
   "source": [
    "#updtate the model ID\n",
    "\n",
    "MAM2.id = 'MAM2'"
   ]
  },
  {
   "cell_type": "code",
   "execution_count": 26,
   "metadata": {},
   "outputs": [],
   "source": [
    "from cobra.io import write_sbml_model\n",
    "\n",
    "write_sbml_model(MAM2, \"../GEMs/MAM2.xml\")"
   ]
  },
  {
   "cell_type": "code",
   "execution_count": null,
   "metadata": {},
   "outputs": [],
   "source": []
  }
 ],
 "metadata": {
  "kernelspec": {
   "display_name": "venv",
   "language": "python",
   "name": "python3"
  },
  "language_info": {
   "codemirror_mode": {
    "name": "ipython",
    "version": 3
   },
   "file_extension": ".py",
   "mimetype": "text/x-python",
   "name": "python",
   "nbconvert_exporter": "python",
   "pygments_lexer": "ipython3",
   "version": "3.10.7"
  },
  "orig_nbformat": 4
 },
 "nbformat": 4,
 "nbformat_minor": 2
}
