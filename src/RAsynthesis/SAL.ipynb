{
 "cells": [
  {
   "cell_type": "code",
   "execution_count": 6,
   "metadata": {},
   "outputs": [],
   "source": [
    "from cobra import Model, Reaction, Metabolite\n",
    "from cobra.io import read_sbml_model\n",
    "from energy_cycle import energy_generating_cycle_test\n",
    "\n",
    "# read model for E. coli BL21\n",
    "bl21 = read_sbml_model('../GEMs/iHK1487.xml')"
   ]
  },
  {
   "attachments": {},
   "cell_type": "markdown",
   "metadata": {},
   "source": [
    "# SAL9 module"
   ]
  },
  {
   "cell_type": "code",
   "execution_count": 7,
   "metadata": {},
   "outputs": [],
   "source": [
    "SAL9 = bl21.copy()"
   ]
  },
  {
   "attachments": {},
   "cell_type": "markdown",
   "metadata": {},
   "source": [
    "## Metabolites"
   ]
  },
  {
   "cell_type": "code",
   "execution_count": 8,
   "metadata": {},
   "outputs": [],
   "source": [
    "#L-arogenate\n",
    "Largn_c = Metabolite(\n",
    "    'Largn_c',\n",
    "    formula='C10H13NO5',\n",
    "    name='L-Arogenate',\n",
    "    compartment='c')\n",
    "\n",
    "#4-hydroxyphenyllactate\n",
    "hpl34_c = Metabolite(\n",
    "    '34hpl_c',\n",
    "    formula='C9H10O4',\n",
    "    name='3,4-Hydroxyphenyl-lactate',\n",
    "    compartment='c')\n",
    "\n",
    "#3,4-dihydroxyphenylpyruvate\n",
    "dhpp34_c = Metabolite(\n",
    "    '34dhpp_c',\n",
    "    formula='C9H8O5',\n",
    "    name='3,4-Dihydroxyphenylpyruvate',\n",
    "    compartment='c')\n",
    "\n",
    "#3,4-Dihydroxyphenyllactic acid | Salvianic acid A | SAA\n",
    "saa_c = Metabolite(\n",
    "    'saa_c',\n",
    "    formula='C9H10O5',\n",
    "    name='3,4-Dihydroxyphenyllactic acid',\n",
    "    compartment='c')\n",
    "\n",
    "#external 3,4-Dihydroxyphenyllactic acid | Salvianic acid A | SAA\n",
    "saa_e = Metabolite(\n",
    "    'saa_e',\n",
    "    formula='C9H10O5',\n",
    "    name='3,4-Dihydroxyphenyllactic acid',\n",
    "    compartment='e')\n",
    "\n",
    "#loading existing metabolites for bl21\n",
    "\n",
    "#prephenate\n",
    "pphn_c = bl21.metabolites.get_by_id(\"pphn_c\")\n",
    "\n",
    "#HPP\n",
    "hpp34_c = bl21.metabolites.get_by_id(\"34hpp_c\")\n",
    "\n",
    "#tyrosine \n",
    "tyr__L_c = bl21.metabolites.get_by_id(\"tyr__L_c\")\n",
    "\n",
    "#Oxaloacetate\n",
    "oaa_c = bl21.metabolites.get_by_id(\"oaa_c\")\n",
    "\n",
    "#Aspartate\n",
    "asp = bl21.metabolites.get_by_id(\"asp__L_c\")\n",
    "\n",
    "#NADH\n",
    "nadh_c = bl21.metabolites.get_by_id(\"nadh_c\")\n",
    "\n",
    "#NAD+\n",
    "nad_c = bl21.metabolites.get_by_id(\"nad_c\")\n",
    "\n",
    "#H+\n",
    "h_c = bl21.metabolites.get_by_id(\"h_c\")\n",
    "\n",
    "#NADPH\n",
    "nadph_c = bl21.metabolites.get_by_id(\"nadph_c\")\n",
    "\n",
    "#NADP+\n",
    "nadp_c = bl21.metabolites.get_by_id(\"nadp_c\")\n",
    "\n",
    "#H20\n",
    "h2o_c = bl21.metabolites.get_by_id(\"h2o_c\")\n",
    "\n",
    "#O2\n",
    "o2_c = bl21.metabolites.get_by_id(\"o2_c\")"
   ]
  },
  {
   "attachments": {},
   "cell_type": "markdown",
   "metadata": {},
   "source": [
    "## Reactions"
   ]
  },
  {
   "cell_type": "code",
   "execution_count": 9,
   "metadata": {},
   "outputs": [],
   "source": [
    "#prep -> l-arogenate\n",
    "PPNARO = Reaction('PPNARO')\n",
    "PPNARO.name = 'L-arogenate:2-oxoglutarate aminotransferase'\n",
    "PPNARO.subsystem = 'Phenylalanine, tyrosine and tryptophan biosynthesis'\n",
    "PPNARO.lower_bound = -1000  # This is the default\n",
    "PPNARO.upper_bound = 1000  # This is the default\n",
    "#Oxaloacetate + L-Arogenate <=> L-Aspartate + Prephenate\n",
    "PPNARO.add_metabolites({\n",
    "    oaa_c: -1.0,\n",
    "    Largn_c: -1.0,\n",
    "    asp: 1.0,\n",
    "    pphn_c: 1.0\n",
    "})\n",
    "PPNARO.gene_reaction_rule = 'ECD_03926' #tyrB\n",
    "\n",
    "SAL9.add_reactions([PPNARO])"
   ]
  },
  {
   "cell_type": "code",
   "execution_count": 10,
   "metadata": {},
   "outputs": [],
   "source": [
    "#HPP -> 4-hydroxyphenyllactate\n",
    "DLDH = Reaction('DLDH')\n",
    "DLDH.name = 'D-lactate dehydrogenase'\n",
    "DLDH.subsystem = 'SAA module'\n",
    "DLDH.lower_bound = -1000  # This is the default\n",
    "DLDH.upper_bound = 1000  # This is the default\n",
    "#3,4-Hydroxyphenyllactate + NAD+ <=> 3,4-Hydroxyphenylpyruvate + NADH + H+\n",
    "DLDH.add_metabolites({\n",
    "    hpl34_c: -1.0,\n",
    "    nad_c: -1.0,\n",
    "    hpp34_c: 1.0,\n",
    "    nadh_c: 1.0,\n",
    "    h_c: 1.0\n",
    "})\n",
    "#DLDH.gene_reaction_rule = 'ldh' #synthetic ldh gene\n",
    "\n",
    "SAL9.add_reactions([DLDH])"
   ]
  },
  {
   "cell_type": "code",
   "execution_count": 11,
   "metadata": {},
   "outputs": [],
   "source": [
    "#HPP -> 3,4-dihydroxyphenylpyruvate\n",
    "HPPHD = Reaction('HPPHD')\n",
    "HPPHD.name = '4-hydroxyphenylacetate 3-hydroxylase'\n",
    "HPPHD.subsystem = 'SAA module'\n",
    "HPPHD.lower_bound = -1000  # This is the default\n",
    "HPPHD.upper_bound = 1000  # This is the default\n",
    "#4-hydroxyphenylpyruvate + Oxygen + NADH + H+ <=> 3,4-dihydroxyphenylpyruvate + NAD+ + H2O\n",
    "HPPHD.add_metabolites({\n",
    "    hpp34_c: -1.0,\n",
    "    o2_c: -1.0,\n",
    "    nadh_c: -1.0,\n",
    "    h_c: -1.0,\n",
    "    dhpp34_c: 1.0,\n",
    "    nad_c: 1.0,\n",
    "    h2o_c: 1.0\n",
    "})\n",
    "#HPPHD.gene_reaction_rule = '(hpaB and hpaC)' #synthetic hpaBC gene\n",
    "\n",
    "SAL9.add_reactions([HPPHD])"
   ]
  },
  {
   "cell_type": "code",
   "execution_count": 12,
   "metadata": {},
   "outputs": [],
   "source": [
    "#3,4-dihydroxyphenylpyruvate -> salvianic acid A\n",
    "DHPPSA = Reaction('DHPPSA')\n",
    "DHPPSA.name = '(R)-3-(4-hydroxyphenyl)lactate:NADP+ oxidoreductase'\n",
    "DHPPSA.subsystem = 'SAA module'\n",
    "DHPPSA.lower_bound = -1000  # This is the default\n",
    "DHPPSA.upper_bound = 1000  # This is the default\n",
    "#3,4-Dihydroxyphenyllactate + NADP+ <=> 3,4-Dihydroxyphenylpyruvate + NADPH + H+\n",
    "DHPPSA.add_metabolites({\n",
    "    saa_c: -1.0,\n",
    "    nadp_c: -1.0,\n",
    "    dhpp34_c: 1.0,\n",
    "    nadph_c: 1.0,\n",
    "    h_c: 1.0\n",
    "})\n",
    "#DHPPSA.gene_reaction_rule = 'ldh' #synthetic ldh gene\n",
    "\n",
    "SAL9.add_reactions([DHPPSA])"
   ]
  },
  {
   "cell_type": "code",
   "execution_count": 13,
   "metadata": {},
   "outputs": [],
   "source": [
    "#4-hydroxyphenyllactate -> salvianic acid A\n",
    "HPLSA = Reaction('HPLSA')\n",
    "HPLSA.name = '(R)-3-(4-hydroxyphenyl)lactate:NADP+ oxidoreductase'\n",
    "HPLSA.subsystem = 'SAA module'\n",
    "HPLSA.lower_bound = -1000  # This is the default\n",
    "HPLSA.upper_bound = 1000  # This is the default\n",
    "#4-Hydroxyphenyllactate + Oxygen + NADH + H+ <=> 3,4-Dihydroxyphenylacetic acid + NAD+ + H2O\n",
    "HPLSA.add_metabolites({\n",
    "    hpl34_c: -1.0,\n",
    "    o2_c: -1.0,\n",
    "    nadh_c: -1.0,\n",
    "    h_c: -1.0,\n",
    "    saa_c: 1.0,\n",
    "    nad_c: 1.0,\n",
    "    h2o_c: 1.0\n",
    "})\n",
    "#HPLSA.gene_reaction_rule = '(hpaB and hpaC)' #synthetic ldh gene\n",
    "\n",
    "SAL9.add_reactions([HPLSA])"
   ]
  },
  {
   "cell_type": "code",
   "execution_count": 14,
   "metadata": {},
   "outputs": [],
   "source": [
    "#SAA transport reaction\n",
    "SAAt = Reaction('SAAt')\n",
    "SAAt.name = 'caffa transport'\n",
    "SAAt.subsystem = 'RA module'\n",
    "SAAt.lower_bound = -1000  # This is the default\n",
    "SAAt.upper_bound = 1000  # This is the default\n",
    "SAAt.add_metabolites({\n",
    "    saa_c: -1.0,\n",
    "    saa_e: 1.0\n",
    "})\n",
    "\n",
    "SAL9.add_reactions([SAAt])"
   ]
  },
  {
   "cell_type": "code",
   "execution_count": 17,
   "metadata": {},
   "outputs": [
    {
     "data": {
      "text/html": [
       "\n",
       "        <table>\n",
       "            <tr>\n",
       "                <td><strong>Reaction identifier</strong></td><td>EX_saa_e</td>\n",
       "            </tr><tr>\n",
       "                <td><strong>Name</strong></td><td>3,4-Dihydroxyphenyllactic acid exchange</td>\n",
       "            </tr><tr>\n",
       "                <td><strong>Memory address</strong></td>\n",
       "                <td>0x123e8a5c0</td>\n",
       "            </tr><tr>\n",
       "                <td><strong>Stoichiometry</strong></td>\n",
       "                <td>\n",
       "                    <p style='text-align:right'>saa_e <=></p>\n",
       "                    <p style='text-align:right'>3,4-Dihydroxyphenyllactic acid <=></p>\n",
       "                </td>\n",
       "            </tr><tr>\n",
       "                <td><strong>GPR</strong></td><td></td>\n",
       "            </tr><tr>\n",
       "                <td><strong>Lower bound</strong></td><td>-1000.0</td>\n",
       "            </tr><tr>\n",
       "                <td><strong>Upper bound</strong></td><td>1000.0</td>\n",
       "            </tr>\n",
       "        </table>\n",
       "        "
      ],
      "text/plain": [
       "<Reaction EX_saa_e at 0x123e8a5c0>"
      ]
     },
     "execution_count": 17,
     "metadata": {},
     "output_type": "execute_result"
    }
   ],
   "source": [
    "#exhange reactions for SA\n",
    "SAL9.add_boundary(SAL9.metabolites.get_by_id(\"saa_e\"), type=\"exchange\")"
   ]
  },
  {
   "attachments": {},
   "cell_type": "markdown",
   "metadata": {},
   "source": [
    "# Testing model"
   ]
  },
  {
   "cell_type": "code",
   "execution_count": 20,
   "metadata": {},
   "outputs": [
    {
     "name": "stdout",
     "output_type": "stream",
     "text": [
      "ATPM flux: 0.0\n"
     ]
    },
    {
     "data": {
      "text/html": [
       "<strong><em>Optimal</em> solution with objective value 0.000</strong><br><div>\n",
       "<style scoped>\n",
       "    .dataframe tbody tr th:only-of-type {\n",
       "        vertical-align: middle;\n",
       "    }\n",
       "\n",
       "    .dataframe tbody tr th {\n",
       "        vertical-align: top;\n",
       "    }\n",
       "\n",
       "    .dataframe thead th {\n",
       "        text-align: right;\n",
       "    }\n",
       "</style>\n",
       "<table border=\"1\" class=\"dataframe\">\n",
       "  <thead>\n",
       "    <tr style=\"text-align: right;\">\n",
       "      <th></th>\n",
       "      <th>fluxes</th>\n",
       "      <th>reduced_costs</th>\n",
       "    </tr>\n",
       "  </thead>\n",
       "  <tbody>\n",
       "    <tr>\n",
       "      <th>ALATA_D2</th>\n",
       "      <td>0.0</td>\n",
       "      <td>1.564465e-01</td>\n",
       "    </tr>\n",
       "    <tr>\n",
       "      <th>SHCHD2</th>\n",
       "      <td>0.0</td>\n",
       "      <td>-2.000000e+00</td>\n",
       "    </tr>\n",
       "    <tr>\n",
       "      <th>CPPPGO</th>\n",
       "      <td>0.0</td>\n",
       "      <td>-2.000000e+00</td>\n",
       "    </tr>\n",
       "    <tr>\n",
       "      <th>GTHOr</th>\n",
       "      <td>0.0</td>\n",
       "      <td>1.221245e-15</td>\n",
       "    </tr>\n",
       "    <tr>\n",
       "      <th>DHORD5</th>\n",
       "      <td>0.0</td>\n",
       "      <td>-2.000000e+00</td>\n",
       "    </tr>\n",
       "    <tr>\n",
       "      <th>...</th>\n",
       "      <td>...</td>\n",
       "      <td>...</td>\n",
       "    </tr>\n",
       "    <tr>\n",
       "      <th>HPPHD</th>\n",
       "      <td>0.0</td>\n",
       "      <td>-2.000000e+00</td>\n",
       "    </tr>\n",
       "    <tr>\n",
       "      <th>DHPPSA</th>\n",
       "      <td>0.0</td>\n",
       "      <td>2.000000e+00</td>\n",
       "    </tr>\n",
       "    <tr>\n",
       "      <th>HPLSA</th>\n",
       "      <td>0.0</td>\n",
       "      <td>-2.000000e+00</td>\n",
       "    </tr>\n",
       "    <tr>\n",
       "      <th>SAAt</th>\n",
       "      <td>0.0</td>\n",
       "      <td>2.000000e+00</td>\n",
       "    </tr>\n",
       "    <tr>\n",
       "      <th>EX_saa_e</th>\n",
       "      <td>0.0</td>\n",
       "      <td>1.358962e+01</td>\n",
       "    </tr>\n",
       "  </tbody>\n",
       "</table>\n",
       "<p>2708 rows × 2 columns</p>\n",
       "</div>"
      ],
      "text/plain": [
       "<Solution 0.000 at 0x121de0490>"
      ]
     },
     "execution_count": 20,
     "metadata": {},
     "output_type": "execute_result"
    }
   ],
   "source": [
    "#testig for energy-generating cycles\n",
    "energy_generating_cycle_test(SAL9)"
   ]
  },
  {
   "cell_type": "code",
   "execution_count": 18,
   "metadata": {},
   "outputs": [],
   "source": [
    "SAL9.reactions.EX_saa_e.lower_bound = 0"
   ]
  },
  {
   "cell_type": "code",
   "execution_count": 19,
   "metadata": {},
   "outputs": [
    {
     "data": {
      "text/html": [
       "<h3>saa_c</h3><p>C9H10O5</p><h4>Producing Reactions</h4><table border=\"1\" class=\"dataframe\">\n",
       "  <thead>\n",
       "    <tr style=\"text-align: right;\">\n",
       "      <th>Percent</th>\n",
       "      <th>Flux</th>\n",
       "      <th>Range</th>\n",
       "      <th>Reaction</th>\n",
       "      <th>Definition</th>\n",
       "    </tr>\n",
       "  </thead>\n",
       "  <tbody>\n",
       "    <tr>\n",
       "      <td>100.00%</td>\n",
       "      <td>5.546</td>\n",
       "      <td>[-4.709;  1000]</td>\n",
       "      <td>HPLSA</td>\n",
       "      <td>34hpl_c + h_c + nadh_c + o2_c &lt;=&gt; h2o_c + nad_c + saa_c</td>\n",
       "    </tr>\n",
       "  </tbody>\n",
       "</table><h4>Consuming Reactions</h4><table border=\"1\" class=\"dataframe\">\n",
       "  <thead>\n",
       "    <tr style=\"text-align: right;\">\n",
       "      <th>Percent</th>\n",
       "      <th>Flux</th>\n",
       "      <th>Range</th>\n",
       "      <th>Reaction</th>\n",
       "      <th>Definition</th>\n",
       "    </tr>\n",
       "  </thead>\n",
       "  <tbody>\n",
       "    <tr>\n",
       "      <td>100.00%</td>\n",
       "      <td>-5.546</td>\n",
       "      <td>[-1000;  4.709]</td>\n",
       "      <td>DHPPSA</td>\n",
       "      <td>nadp_c + saa_c &lt;=&gt; 34dhpp_c + h_c + nadph_c</td>\n",
       "    </tr>\n",
       "    <tr>\n",
       "      <td>0.00%</td>\n",
       "      <td>0</td>\n",
       "      <td>[-0.3767;  0]</td>\n",
       "      <td>SAAt</td>\n",
       "      <td>saa_c &lt;=&gt; saa_e</td>\n",
       "    </tr>\n",
       "  </tbody>\n",
       "</table>"
      ],
      "text/plain": [
       "<cobra.summary.metabolite_summary.MetaboliteSummary at 0x122428100>"
      ]
     },
     "execution_count": 19,
     "metadata": {},
     "output_type": "execute_result"
    }
   ],
   "source": [
    "from cobra.flux_analysis import flux_variability_analysis\n",
    "\n",
    "SAL9.metabolites.saa_c.summary(fva=0.95)"
   ]
  },
  {
   "cell_type": "code",
   "execution_count": 34,
   "metadata": {},
   "outputs": [
    {
     "data": {
      "text/html": [
       "<h3>saa_e</h3><p>C9H10O5</p><h4>Producing Reactions</h4><table border=\"1\" class=\"dataframe\">\n",
       "  <thead>\n",
       "    <tr style=\"text-align: right;\">\n",
       "      <th>Percent</th>\n",
       "      <th>Flux</th>\n",
       "      <th>Range</th>\n",
       "      <th>Reaction</th>\n",
       "      <th>Definition</th>\n",
       "    </tr>\n",
       "  </thead>\n",
       "  <tbody>\n",
       "    <tr>\n",
       "      <td></td>\n",
       "      <td>0</td>\n",
       "      <td>[0;  0.3767]</td>\n",
       "      <td>SAAt</td>\n",
       "      <td>saa_c &lt;=&gt; saa_e</td>\n",
       "    </tr>\n",
       "  </tbody>\n",
       "</table><h4>Consuming Reactions</h4><table border=\"1\" class=\"dataframe\">\n",
       "  <thead>\n",
       "    <tr style=\"text-align: right;\">\n",
       "      <th>Percent</th>\n",
       "      <th>Flux</th>\n",
       "      <th>Range</th>\n",
       "      <th>Reaction</th>\n",
       "      <th>Definition</th>\n",
       "    </tr>\n",
       "  </thead>\n",
       "  <tbody>\n",
       "    <tr>\n",
       "      <td></td>\n",
       "      <td>0</td>\n",
       "      <td>[-0.3767;  0]</td>\n",
       "      <td>EX_saa_e</td>\n",
       "      <td>saa_e --&gt;</td>\n",
       "    </tr>\n",
       "  </tbody>\n",
       "</table>"
      ],
      "text/plain": [
       "<cobra.summary.metabolite_summary.MetaboliteSummary at 0x12416cac0>"
      ]
     },
     "execution_count": 34,
     "metadata": {},
     "output_type": "execute_result"
    }
   ],
   "source": [
    "SAL9.metabolites.saa_e.summary(fva=0.95)"
   ]
  },
  {
   "cell_type": "code",
   "execution_count": null,
   "metadata": {},
   "outputs": [],
   "source": []
  }
 ],
 "metadata": {
  "kernelspec": {
   "display_name": "venv",
   "language": "python",
   "name": "python3"
  },
  "language_info": {
   "codemirror_mode": {
    "name": "ipython",
    "version": 3
   },
   "file_extension": ".py",
   "mimetype": "text/x-python",
   "name": "python",
   "nbconvert_exporter": "python",
   "pygments_lexer": "ipython3",
   "version": "3.10.7"
  },
  "orig_nbformat": 4
 },
 "nbformat": 4,
 "nbformat_minor": 2
}
