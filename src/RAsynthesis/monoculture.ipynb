{
 "cells": [
  {
   "cell_type": "code",
   "execution_count": null,
   "metadata": {},
   "outputs": [],
   "source": [
    "import simplesbml\n",
    "\n",
    "mymodel = loadFromFile('mymodel.xml')  # Load the model into a string variable\n",
    "model = simplesbml.loadSBMLStr(mymodel)\n",
    "\n",
    "print ('Num compartmetns = ', model.getNumCompartmentIds())\n",
    "print ('Num parameters =', model.getNumParameters())\n",
    "print ('Num species =', model.getNumSpecies())\n",
    "print ('Num floating species = ', model.getNumFloatingSpecies())\n",
    "print ('Num floating species = ', model.getNumBoundarySpecies())\n",
    "print ('Num reactions = ', model.getNumReactions())\n",
    "print (model.getListOfCompartments())\n",
    "print (model.getListOfAllSpecies())\n",
    "print ('list of floating species = ', model.getListOfFloatingSpecies())\n",
    "print ('list of boundary species = ', model.getListOfBoundarySpecies())\n",
    "print ('List of reactions = ', model.getListOfReactionIds())\n",
    "print ('List of rules = ', model.getListOfRuleIds())"
   ]
  }
 ],
 "metadata": {
  "language_info": {
   "name": "python"
  },
  "orig_nbformat": 4
 },
 "nbformat": 4,
 "nbformat_minor": 2
}
