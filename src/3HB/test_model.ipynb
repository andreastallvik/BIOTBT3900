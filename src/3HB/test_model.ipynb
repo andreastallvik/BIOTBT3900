{
 "cells": [
  {
   "cell_type": "code",
   "execution_count": 1,
   "metadata": {},
   "outputs": [],
   "source": [
    "from cobra import Model, Reaction, Metabolite\n",
    "from cobra.io import read_sbml_model"
   ]
  },
  {
   "cell_type": "code",
   "execution_count": 2,
   "metadata": {},
   "outputs": [],
   "source": [
    "# read model for E. coli BL21, used as starting point for the downstream 3HB-producing module\n",
    "bl21_model = read_sbml_model('iHK1487.xml')"
   ]
  },
  {
   "cell_type": "code",
   "execution_count": 47,
   "metadata": {},
   "outputs": [],
   "source": [
    "#add the hyg5 gene, with associated reactions to the model\n",
    "\n",
    "#create new reaction\n",
    "hyg5_reaction = Reaction('HBA3SYN')\n",
    "hyg5_reaction.name = '3-hydroxybenzoate synthase'\n",
    "hyg5_reaction.subsystem = 'Synthetic production pathway'\n",
    "\n",
    "#create new metabilite for 3-Hydroxybenzoic acid\n",
    "hba3_c = Metabolite(\n",
    "    'hba3_c',\n",
    "    formula='C7H6O3',\n",
    "    name='3-Hydroxybenzoic acid',\n",
    "    compartment='c')\n",
    "\n",
    "#add metabolites to the model\n",
    "hyg5_reaction.add_metabolites({\n",
    "    bl21_model.metabolites.get_by_id('chor_c'): -1.0,\n",
    "    hba3_c: 1.0,\n",
    "    bl21_model.metabolites.get_by_id('pyr_c'): 1.0\n",
    "})\n",
    "\n",
    "#add a GPR for the reaction, creating gene hyg5\n",
    "hyg5_reaction.gene_reaction_rule = 'hyg5'\n",
    "\n",
    "#add the reaction to the model\n",
    "bl21_model.add_reactions([hyg5_reaction])"
   ]
  },
  {
   "cell_type": "code",
   "execution_count": 51,
   "metadata": {},
   "outputs": [
    {
     "data": {
      "text/plain": [
       "[<Reaction PPND at 0x125a73880>, <Reaction CHORM at 0x1255afee0>]"
      ]
     },
     "execution_count": 51,
     "metadata": {},
     "output_type": "execute_result"
    }
   ],
   "source": [
    "# knock outs\n",
    "from cobra.manipulation import knock_out_model_genes\n",
    "\n",
    "# knock-out of XylA gene: ECD_03417\n",
    "knock_out_model_genes(bl21_model, [\"ECD_03417\"])\n",
    "\n",
    "# knock-out of pheA and tyrA genes: ECD_02488 and ECD_02489\n",
    "knock_out_model_genes(bl21_model, [\"ECD_02488\"])\n",
    "knock_out_model_genes(bl21_model, [\"ECD_02489\"])"
   ]
  },
  {
   "cell_type": "code",
   "execution_count": 52,
   "metadata": {},
   "outputs": [],
   "source": [
    "# read model for E. coli K-12, used as starting point for the upstream DHS-producing module\n",
    "k12_model = read_sbml_model('iML1515.xml')"
   ]
  },
  {
   "cell_type": "code",
   "execution_count": 57,
   "metadata": {},
   "outputs": [
    {
     "name": "stdout",
     "output_type": "stream",
     "text": [
      "ICHORS_copy2: chor_c <=> ichor_c\n",
      "ICHORS_copy1: chor_c --> ichor_c\n",
      "ADCS: chor_c + gln__L_c --> 4adcho_c + glu__L_c\n"
     ]
    }
   ],
   "source": [
    "# gene knock outs\n",
    "\n",
    "#pheA\n",
    "knock_out_model_genes(k12_model, [\"b2599\"])\n",
    "\n",
    "#tyrA \n",
    "knock_out_model_genes(k12_model, [\"b2600\"])\n",
    "\n",
    "#aroE\n",
    "knock_out_model_genes(k12_model, [\"b3281\"])\n",
    "\n",
    "#ydiB\n",
    "knock_out_model_genes(k12_model, [\"b1692\"])\n"
   ]
  },
  {
   "cell_type": "code",
   "execution_count": 60,
   "metadata": {},
   "outputs": [
    {
     "data": {
      "text/html": [
       "\n",
       "        <table>\n",
       "            <tr>\n",
       "                <td><strong>Reaction identifier</strong></td><td>ADCS</td>\n",
       "            </tr><tr>\n",
       "                <td><strong>Name</strong></td><td>4-amino-4-deoxychorismate synthase</td>\n",
       "            </tr><tr>\n",
       "                <td><strong>Memory address</strong></td>\n",
       "                <td>0x12a42b8e0</td>\n",
       "            </tr><tr>\n",
       "                <td><strong>Stoichiometry</strong></td>\n",
       "                <td>\n",
       "                    <p style='text-align:right'>chor_c + gln__L_c --> 4adcho_c + glu__L_c</p>\n",
       "                    <p style='text-align:right'>Chorismate + L-Glutamine --> 4-amino-4-deoxychorismate + L-Glutamate</p>\n",
       "                </td>\n",
       "            </tr><tr>\n",
       "                <td><strong>GPR</strong></td><td>b1812 and b3360</td>\n",
       "            </tr><tr>\n",
       "                <td><strong>Lower bound</strong></td><td>0.0</td>\n",
       "            </tr><tr>\n",
       "                <td><strong>Upper bound</strong></td><td>1000.0</td>\n",
       "            </tr>\n",
       "        </table>\n",
       "        "
      ],
      "text/plain": [
       "<Reaction ADCS at 0x12a42b8e0>"
      ]
     },
     "execution_count": 60,
     "metadata": {},
     "output_type": "execute_result"
    }
   ],
   "source": [
    "k12_model.reactions.get_by_id('ADCS')"
   ]
  },
  {
   "cell_type": "code",
   "execution_count": 71,
   "metadata": {},
   "outputs": [
    {
     "name": "stdout",
     "output_type": "stream",
     "text": [
      "b1692\n"
     ]
    }
   ],
   "source": [
    "for gene in k12_model.genes:\n",
    "    if gene.name == 'ydiB':\n",
    "        print(gene)"
   ]
  },
  {
   "cell_type": "code",
   "execution_count": 72,
   "metadata": {},
   "outputs": [
    {
     "data": {
      "text/html": [
       "\n",
       "        <table>\n",
       "            <tr>\n",
       "                <td><strong>Gene identifier</strong></td><td>b1692</td>\n",
       "            </tr><tr>\n",
       "                <td><strong>Name</strong></td><td>ydiB</td>\n",
       "            </tr><tr>\n",
       "                <td><strong>Memory address</strong></td>\n",
       "                <td>0x129f7fdc0</td>\n",
       "            </tr><tr>\n",
       "                <td><strong>Functional</strong></td><td>True</td>\n",
       "            </tr><tr>\n",
       "                <td><strong>In 3 reaction(s)</strong></td><td>\n",
       "                    QUINDHyi, SHK3Dr, QUINDH\n",
       "                    </td>\n",
       "            </tr>\n",
       "        </table>"
      ],
      "text/plain": [
       "<Gene b1692 at 0x129f7fdc0>"
      ]
     },
     "execution_count": 72,
     "metadata": {},
     "output_type": "execute_result"
    }
   ],
   "source": [
    "k12_model.genes.get_by_id('b1692')"
   ]
  },
  {
   "cell_type": "code",
   "execution_count": null,
   "metadata": {},
   "outputs": [],
   "source": []
  }
 ],
 "metadata": {
  "kernelspec": {
   "display_name": "venv",
   "language": "python",
   "name": "python3"
  },
  "language_info": {
   "codemirror_mode": {
    "name": "ipython",
    "version": 3
   },
   "file_extension": ".py",
   "mimetype": "text/x-python",
   "name": "python",
   "nbconvert_exporter": "python",
   "pygments_lexer": "ipython3",
   "version": "3.10.7"
  },
  "orig_nbformat": 4,
  "vscode": {
   "interpreter": {
    "hash": "4f87d8cc7474284f9c8af45145bf3bf74399b799d77169da0898430a19e4b3ea"
   }
  }
 },
 "nbformat": 4,
 "nbformat_minor": 2
}
