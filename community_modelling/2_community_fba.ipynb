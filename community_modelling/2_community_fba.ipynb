{
 "cells": [
  {
   "attachments": {},
   "cell_type": "markdown",
   "id": "4ef35842",
   "metadata": {},
   "source": [
    "# Introduction to Community Modeling\n",
    "\n",
    "Author: Daniel Machado, NTNU\n",
    "\n",
    "License: [CC BY-SA 4.0](http://creativecommons.org/licenses/by-sa/4.0/)\n",
    "\n",
    "-------\n",
    "\n",
    "In this tutorial:\n",
    "\n",
    "- You will learn how to perform flux balance analysis of microbial communities\n",
    "using a model of the [central carbon metabolism of *E. coli*](https://journals.asm.org/doi/10.1128/ecosalplus.10.2.1).\n",
    "\n",
    "- You will use the [ReFramed](https://github.com/cdanielmachado/reframed) python library for metabolic modeling. "
   ]
  },
  {
   "attachments": {},
   "cell_type": "markdown",
   "id": "edff9572",
   "metadata": {},
   "source": [
    "## Step 1: Setting up a community\n",
    "\n",
    "We will create a synthetic microbial consortium with two *E. coli* mutants growing in minimal medium. In one of the mutants we will knockout the glucose transporter and in the other we will knockout the ammonium transporter.\n",
    "\n",
    "![synthetic community](../files/synthetic_community.png)"
   ]
  },
  {
   "attachments": {},
   "cell_type": "markdown",
   "id": "b5e4fe7b",
   "metadata": {},
   "source": [
    "As usual, we start by loading the model for the wild-type:"
   ]
  },
  {
   "cell_type": "code",
   "execution_count": 1,
   "id": "4fd366fe",
   "metadata": {},
   "outputs": [],
   "source": [
    "from reframed import load_cbmodel\n",
    "wildtype = load_cbmodel('GEMs/e_coli_core.xml')"
   ]
  },
  {
   "attachments": {},
   "cell_type": "markdown",
   "id": "d4c64668",
   "metadata": {},
   "source": [
    "Now we create our two mutants (`glc_ko` and `nh4_ko`):"
   ]
  },
  {
   "cell_type": "code",
   "execution_count": 2,
   "id": "196680b4",
   "metadata": {},
   "outputs": [],
   "source": [
    "glc_ko = wildtype.copy()\n",
    "glc_ko.id = 'glc_ko'\n",
    "glc_ko.set_flux_bounds('R_GLCpts', 0, 0)\n",
    "\n",
    "nh4_ko = wildtype.copy()\n",
    "nh4_ko.id = 'nh4_ko'\n",
    "nh4_ko.set_flux_bounds('R_NH4t', 0, 0)"
   ]
  },
  {
   "attachments": {},
   "cell_type": "markdown",
   "id": "949323a8",
   "metadata": {},
   "source": [
    "**ReFramed** has some basic functionality for working with microbial communities, one is the `Community` class to create microbial communities from a list of models of individual species: "
   ]
  },
  {
   "cell_type": "code",
   "execution_count": 3,
   "id": "91e413e9",
   "metadata": {},
   "outputs": [],
   "source": [
    "from reframed import Community\n",
    "community = Community('ecoli_pair', [glc_ko, nh4_ko])"
   ]
  },
  {
   "attachments": {},
   "cell_type": "markdown",
   "id": "a9cef7fa",
   "metadata": {},
   "source": [
    "This community model ignores the environmental conditions that were specified in the original models (since these could be very different). \n",
    "\n",
    "To make our life easier, we will extract the nutrient composition specified in the wild-type model to use later."
   ]
  },
  {
   "cell_type": "code",
   "execution_count": 4,
   "id": "ce86dddd",
   "metadata": {},
   "outputs": [
    {
     "name": "stdout",
     "output_type": "stream",
     "text": [
      "Environment compounds: co2, glc__D, h, h2o, nh4, o2, pi\n"
     ]
    }
   ],
   "source": [
    "from reframed import Environment\n",
    "\n",
    "M9 = Environment.from_model(wildtype)\n",
    "\n",
    "print(f\"Environment compounds: {', '.join(M9.get_compounds())}\")"
   ]
  },
  {
   "attachments": {},
   "cell_type": "markdown",
   "id": "a4829b00",
   "metadata": {},
   "source": [
    "## Step 2: Simulation using (conventional) FBA\n",
    "\n",
    "A very simple way to simulate a microbial community is to merge the individual models into a single model that mimics a \"super organism\", where each microbe lives inside its own compartment, and run a (conventional) FBA simulation for this *super organism*."
   ]
  },
  {
   "cell_type": "code",
   "execution_count": 5,
   "id": "d6bf03b6",
   "metadata": {},
   "outputs": [
    {
     "name": "stdout",
     "output_type": "stream",
     "text": [
      "Objective: 0.831195550185812\n",
      "Status: Optimal\n",
      "\n",
      "R_EX_glc__D_e -10\n",
      "R_EX_h2o_e    30.6828\n",
      "R_EX_h_e      16.6738\n",
      "R_EX_nh4_e   -4.53234\n",
      "R_EX_o2_e    -23.6671\n",
      "R_EX_pi_e    -3.05772\n",
      "R_EX_co2_e    24.6281\n"
     ]
    }
   ],
   "source": [
    "from reframed import FBA\n",
    "\n",
    "super_oganism = community.merged_model\n",
    "solution = FBA(super_oganism, constraints=M9)\n",
    "\n",
    "print(solution)\n",
    "solution.show_values(pattern='R_EX')"
   ]
  },
  {
   "attachments": {},
   "cell_type": "markdown",
   "id": "704355a9",
   "metadata": {},
   "source": [
    "We can see that the model predicts a growth rate (total biomass per hour) similar to the wild-type, with an efficient consumption of glucose and ammonia that results in respiratory metabolism.\n",
    "\n",
    "But what is each organism doing, and are both organisms actually growing at the same rate?\n",
    "\n",
    "Let's print the (non-zero) fluxes for each organism:"
   ]
  },
  {
   "cell_type": "code",
   "execution_count": 6,
   "id": "2d758d23",
   "metadata": {},
   "outputs": [
    {
     "name": "stdout",
     "output_type": "stream",
     "text": [
      "R_ALCD2x_glc_ko -12.1508\n",
      "R_ETOHt2r_glc_ko -12.1508\n",
      "R_CO2t_glc_ko -9.06469\n",
      "R_GLUDy_glc_ko -4.53234\n",
      "R_GLUt2r_glc_ko -4.53234\n",
      "R_SUCOAS_glc_ko -4.53234\n",
      "R_PTAr_glc_ko -1.44622\n",
      "R_ACKr_glc_ko  1.44622\n",
      "R_ACt2r_glc_ko  1.44622\n",
      "R_O2t_glc_ko  2.26617\n",
      "R_ACALD_glc_ko  3.08613\n",
      "R_H2Ot_glc_ko  3.08613\n",
      "R_ACONTa_glc_ko  4.53234\n",
      "R_ACONTb_glc_ko  4.53234\n",
      "R_AKGDH_glc_ko  4.53234\n",
      "R_AKGt2r_glc_ko  4.53234\n",
      "R_CS_glc_ko   4.53234\n",
      "R_CYTBD_glc_ko  4.53234\n",
      "R_FUM_glc_ko  4.53234\n",
      "R_ICDHyr_glc_ko  4.53234\n",
      "R_MDH_glc_ko  4.53234\n",
      "R_NH4t_glc_ko  4.53234\n",
      "R_SUCDi_glc_ko  4.53234\n",
      "R_ATPS4r_glc_ko  5.30387\n",
      "R_ATPM_glc_ko  8.39\n",
      "R_ACALDt_glc_ko  15.2369\n"
     ]
    }
   ],
   "source": [
    "solution.show_values(pattern='_glc_ko', sort=True)"
   ]
  },
  {
   "cell_type": "code",
   "execution_count": 7,
   "id": "c131b0f4",
   "metadata": {},
   "outputs": [
    {
     "name": "stdout",
     "output_type": "stream",
     "text": [
      "R_H2Ot_nh4_ko -33.7689\n",
      "R_PGK_nh4_ko -16.4135\n",
      "R_CO2t_nh4_ko -15.5634\n",
      "R_ACALDt_nh4_ko -15.2369\n",
      "R_PGM_nh4_ko -15.17\n",
      "R_AKGt2r_nh4_ko -4.53234\n",
      "R_ACALD_nh4_ko -3.08613\n",
      "R_RPI_nh4_ko -1.9744\n",
      "R_SUCOAS_nh4_ko -1.45779\n",
      "R_ACKr_nh4_ko -1.44622\n",
      "R_ACt2r_nh4_ko -1.44622\n",
      "R_GLNS_nh4_ko  0.212537\n",
      "R_GLUDy_nh4_ko  0.212537\n",
      "R_BIOMASS_Ecoli_core_w_GAM_nh4_ko  0.831196\n",
      "R_TKT2_nh4_ko  0.928175\n",
      "R_TALA_nh4_ko  1.22824\n",
      "R_TKT1_nh4_ko  1.22824\n",
      "R_PTAr_nh4_ko  1.44622\n",
      "R_AKGDH_nh4_ko  1.45779\n",
      "R_FUM_nh4_ko  1.45779\n",
      "R_MDH_nh4_ko  1.45779\n",
      "R_SUCDi_nh4_ko  1.45779\n",
      "R_RPE_nh4_ko  2.15641\n",
      "R_ACONTa_nh4_ko  2.35457\n",
      "R_ACONTb_nh4_ko  2.35457\n",
      "R_CS_nh4_ko   2.35457\n",
      "R_ICDHyr_nh4_ko  2.35457\n",
      "R_PYK_nh4_ko  2.35668\n",
      "R_PPC_nh4_ko  2.38187\n",
      "R_PIt2r_nh4_ko  3.05772\n",
      "R_G6PDH2r_nh4_ko  4.13081\n",
      "R_GND_nh4_ko  4.13081\n",
      "R_PGL_nh4_ko  4.13081\n",
      "R_GLUt2r_nh4_ko  4.53234\n",
      "R_PGI_nh4_ko  5.69879\n",
      "R_FBA_nh4_ko  7.79627\n",
      "R_PFK_nh4_ko  7.79627\n",
      "R_TPI_nh4_ko  7.79627\n",
      "R_ATPM_nh4_ko  8.39\n",
      "R_GLCpts_nh4_ko  10\n",
      "R_PDH_nh4_ko  10.0021\n",
      "R_ALCD2x_nh4_ko  12.1508\n",
      "R_ETOHt2r_nh4_ko  12.1508\n",
      "R_ENO_nh4_ko  15.17\n",
      "R_GAPD_nh4_ko  16.4135\n",
      "R_O2t_nh4_ko  21.4009\n",
      "R_NADH16_nh4_ko  41.3441\n",
      "R_CYTBD_nh4_ko  42.8019\n",
      "R_ATPS4r_nh4_ko  44.4384\n"
     ]
    }
   ],
   "source": [
    "solution.show_values(pattern='_nh4_ko', sort=True)"
   ]
  },
  {
   "attachments": {},
   "cell_type": "markdown",
   "id": "3110d63f",
   "metadata": {},
   "source": [
    "Actually it seems that only one of the organisms is growing while the other has an active metabolism (it exchanges metabolites with the environment and with the other organism) performing the role of a bioconverter, but none of the flux is used for growth. \n",
    "\n",
    "> Do you think this would be a stable consortium ?"
   ]
  },
  {
   "attachments": {},
   "cell_type": "markdown",
   "id": "aa01712c",
   "metadata": {},
   "source": [
    "# Step 2.5: production envelope"
   ]
  },
  {
   "cell_type": "code",
   "execution_count": 8,
   "id": "e5d9962d",
   "metadata": {},
   "outputs": [
    {
     "data": {
      "text/plain": [
       "<AxesSubplot: xlabel='Community growth rate', ylabel='R_EX_succ_e'>"
      ]
     },
     "execution_count": 8,
     "metadata": {},
     "output_type": "execute_result"
    },
    {
     "data": {
      "image/png": "[encoded data removed]",
      "text/plain": [
       "<Figure size 640x480 with 1 Axes>"
      ]
     },
     "metadata": {},
     "output_type": "display_data"
    }
   ],
   "source": [
    "from reframed import plot_flux_envelope\n",
    "\n",
    "super_oganism.reactions.R_EX_o2_e.lb = 0\n",
    "\n",
    "plot_flux_envelope(super_oganism, super_oganism.biomass_reaction, 'R_EX_succ_e', constraints=M9)"
   ]
  },
  {
   "attachments": {},
   "cell_type": "markdown",
   "id": "f6aebbfb",
   "metadata": {},
   "source": [
    "## Step 3: Community Simulation with SteadyCom"
   ]
  },
  {
   "attachments": {},
   "cell_type": "markdown",
   "id": "7b47083e",
   "metadata": {},
   "source": [
    "**SteadyCom** by [Chan, et al (2017)](https://journals.plos.org/ploscompbiol/article?id=10.1371/journal.pcbi.1005539) is a recent community simulation method that takes into account the fact that to reach a stable composition the organisms need to grow at the same *specific growth rate* (1/h), which means that the *absolute growth rate* (gDW/h) of each organism is proportional to its *abundance* at steady-state (gDW).\n",
    "\n",
    "Let's simulate the same community using SteadyCom:"
   ]
  },
  {
   "cell_type": "code",
   "execution_count": 9,
   "id": "2214667c",
   "metadata": {},
   "outputs": [],
   "source": [
    "from reframed import SteadyCom\n",
    "solution = SteadyCom(community, constraints=M9)"
   ]
  },
  {
   "attachments": {},
   "cell_type": "markdown",
   "id": "6e02ca07",
   "metadata": {},
   "source": [
    "In this case the solution object shows the overall community growth rate and the relative abundance of each species:"
   ]
  },
  {
   "cell_type": "code",
   "execution_count": 10,
   "id": "9353ec4a",
   "metadata": {},
   "outputs": [
    {
     "name": "stdout",
     "output_type": "stream",
     "text": [
      "Community growth: 0.873046875\n",
      "glc_ko\t0.024884385078817017\n",
      "nh4_ko\t0.9751156149211829\n"
     ]
    }
   ],
   "source": [
    "print(solution)"
   ]
  },
  {
   "attachments": {},
   "cell_type": "markdown",
   "id": "86f91b4a",
   "metadata": {},
   "source": [
    "The `solution` object for community simulations implements a few additional features, such as enumerating all the cross-feeding interactions:"
   ]
  },
  {
   "cell_type": "code",
   "execution_count": 11,
   "id": "e5b8887e",
   "metadata": {},
   "outputs": [
    {
     "data": {
      "text/html": [
       "<div>\n",
       "<style scoped>\n",
       "    .dataframe tbody tr th:only-of-type {\n",
       "        vertical-align: middle;\n",
       "    }\n",
       "\n",
       "    .dataframe tbody tr th {\n",
       "        vertical-align: top;\n",
       "    }\n",
       "\n",
       "    .dataframe thead th {\n",
       "        text-align: right;\n",
       "    }\n",
       "</style>\n",
       "<table border=\"1\" class=\"dataframe\">\n",
       "  <thead>\n",
       "    <tr style=\"text-align: right;\">\n",
       "      <th></th>\n",
       "      <th>donor</th>\n",
       "      <th>receiver</th>\n",
       "      <th>compound</th>\n",
       "      <th>rate</th>\n",
       "    </tr>\n",
       "  </thead>\n",
       "  <tbody>\n",
       "    <tr>\n",
       "      <th>12</th>\n",
       "      <td>nh4_ko</td>\n",
       "      <td>glc_ko</td>\n",
       "      <td>M_pyr_e</td>\n",
       "      <td>9.728158</td>\n",
       "    </tr>\n",
       "    <tr>\n",
       "      <th>6</th>\n",
       "      <td>glc_ko</td>\n",
       "      <td>nh4_ko</td>\n",
       "      <td>M_lac__D_e</td>\n",
       "      <td>9.565084</td>\n",
       "    </tr>\n",
       "    <tr>\n",
       "      <th>13</th>\n",
       "      <td>nh4_ko</td>\n",
       "      <td>glc_ko</td>\n",
       "      <td>M_ac_e</td>\n",
       "      <td>5.727365</td>\n",
       "    </tr>\n",
       "    <tr>\n",
       "      <th>4</th>\n",
       "      <td>nh4_ko</td>\n",
       "      <td>glc_ko</td>\n",
       "      <td>M_h_e</td>\n",
       "      <td>5.579142</td>\n",
       "    </tr>\n",
       "    <tr>\n",
       "      <th>15</th>\n",
       "      <td>nh4_ko</td>\n",
       "      <td>glc_ko</td>\n",
       "      <td>M_akg_e</td>\n",
       "      <td>4.704342</td>\n",
       "    </tr>\n",
       "    <tr>\n",
       "      <th>1</th>\n",
       "      <td>glc_ko</td>\n",
       "      <td>nh4_ko</td>\n",
       "      <td>M_glu__L_e</td>\n",
       "      <td>4.642087</td>\n",
       "    </tr>\n",
       "    <tr>\n",
       "      <th>14</th>\n",
       "      <td>glc_ko</td>\n",
       "      <td>nh4_ko</td>\n",
       "      <td>M_acald_e</td>\n",
       "      <td>0.607914</td>\n",
       "    </tr>\n",
       "  </tbody>\n",
       "</table>\n",
       "</div>"
      ],
      "text/plain": [
       "     donor receiver    compound      rate\n",
       "12  nh4_ko   glc_ko     M_pyr_e  9.728158\n",
       "6   glc_ko   nh4_ko  M_lac__D_e  9.565084\n",
       "13  nh4_ko   glc_ko      M_ac_e  5.727365\n",
       "4   nh4_ko   glc_ko       M_h_e  5.579142\n",
       "15  nh4_ko   glc_ko     M_akg_e  4.704342\n",
       "1   glc_ko   nh4_ko  M_glu__L_e  4.642087\n",
       "14  glc_ko   nh4_ko   M_acald_e  0.607914"
      ]
     },
     "execution_count": 11,
     "metadata": {},
     "output_type": "execute_result"
    }
   ],
   "source": [
    "solution.cross_feeding(as_df=True).dropna().sort_values('rate', ascending=False)"
   ]
  },
  {
   "attachments": {},
   "cell_type": "markdown",
   "id": "c61d9f30",
   "metadata": {},
   "source": [
    "We can plot the fluxes of each mutant in a map to help with interpretation of the results:"
   ]
  },
  {
   "cell_type": "code",
   "execution_count": 14,
   "id": "26e96715",
   "metadata": {
    "scrolled": true
   },
   "outputs": [
    {
     "name": "stdout",
     "output_type": "stream",
     "text": [
      "Downloading Map from https://escher.github.io/1-0-0/6/maps/Escherichia%20coli/e_coli_core.Core%20metabolism.json\n"
     ]
    },
    {
     "data": {
      "application/vnd.jupyter.widget-view+json": {
       "model_id": "5516abf14f734b17aa3cce68fd5d3816",
       "version_major": 2,
       "version_minor": 0
      },
      "text/plain": [
       "Builder(reaction_data={'ACALD': -0.6079141221187285, 'ACALDt': -0.6079141221187285, 'ACKr': 5.7273649981957195…"
      ]
     },
     "metadata": {},
     "output_type": "display_data"
    }
   ],
   "source": [
    "from reframed import fluxes2escher\n",
    "fluxes2escher(solution.internal['glc_ko'])"
   ]
  },
  {
   "cell_type": "code",
   "execution_count": 15,
   "id": "433e35b3",
   "metadata": {},
   "outputs": [
    {
     "name": "stdout",
     "output_type": "stream",
     "text": [
      "Downloading Map from https://escher.github.io/1-0-0/6/maps/Escherichia%20coli/e_coli_core.Core%20metabolism.json\n"
     ]
    },
    {
     "data": {
      "application/vnd.jupyter.widget-view+json": {
       "model_id": "6f85118038e44b74b197333cc24f8c7b",
       "version_major": 2,
       "version_minor": 0
      },
      "text/plain": [
       "Builder(reaction_data={'ACALD': 0.6079141221187285, 'ACALDt': 0.6079141221187285, 'ACKr': -5.7273649981957195,…"
      ]
     },
     "metadata": {},
     "output_type": "display_data"
    }
   ],
   "source": [
    "fluxes2escher(solution.internal['nh4_ko'])"
   ]
  },
  {
   "attachments": {},
   "cell_type": "markdown",
   "id": "676db548",
   "metadata": {},
   "source": [
    "**Exercise:** Look more closely at the compounds that are exchanged between the two mutants and also at their relative abundance. Is this what you expected? Do you think there could be different solutions?"
   ]
  },
  {
   "attachments": {},
   "cell_type": "markdown",
   "id": "9de7dc40",
   "metadata": {},
   "source": [
    "## Step 4: Explore alternative solutions\n",
    "\n",
    "Unfortunately, one limitation of **SteadyCom**, which is exemplified by [Chan, et al (2017)](https://journals.plos.org/ploscompbiol/article?id=10.1371/journal.pcbi.1005539) in Figure 3 (reproduced below), is the variability in the solution space when the community is not growing at the maximum (theoretical) growth rate.\n",
    "\n",
    "![variability](../files/steadycom_variability.png)\n",
    "\n",
    "> Would you expect a synthetic community to grow at its maximum growth rate?\n",
    "\n",
    "**ReFramed** implements a variability analysis function for the SteadyCom solution space, let's see what happens if the community is growing at 90% of the theoretical maximum:"
   ]
  },
  {
   "cell_type": "code",
   "execution_count": 16,
   "id": "215c90de",
   "metadata": {},
   "outputs": [
    {
     "name": "stdout",
     "output_type": "stream",
     "text": [
      "Strain\tMin\tMax\n",
      "glc_ko\t0.4%\t98.3%\n",
      "nh4_ko\t1.7%\t99.6%\n"
     ]
    }
   ],
   "source": [
    "from reframed import SteadyComVA\n",
    "variability = SteadyComVA(community, obj_frac=0.9, constraints=M9)\n",
    "\n",
    "print('Strain\\tMin\\tMax')\n",
    "for strain, (lower, upper) in variability.items():\n",
    "    print(f'{strain}\\t{lower:.1%}\\t{upper:.1%}')"
   ]
  },
  {
   "attachments": {},
   "cell_type": "markdown",
   "id": "e2c8b384",
   "metadata": {},
   "source": [
    "As you can see, there is a really large variability in this solution space. This means that we know in theory the two mutants **can** cooperate and survive in minimal media, but there is still a lot of uncertainty with regard to **how** they will achieve a stable consortium.\n",
    "\n",
    "> How do you think we can reduce this uncertainty?"
   ]
  },
  {
   "cell_type": "code",
   "execution_count": null,
   "id": "34220805",
   "metadata": {},
   "outputs": [],
   "source": [
    "# Feel free to play around with these examples.\n",
    "# Type your own code here..."
   ]
  }
 ],
 "metadata": {
  "kernelspec": {
   "display_name": "Python 3 (ipykernel)",
   "language": "python",
   "name": "python3"
  },
  "language_info": {
   "codemirror_mode": {
    "name": "ipython",
    "version": 3
   },
   "file_extension": ".py",
   "mimetype": "text/x-python",
   "name": "python",
   "nbconvert_exporter": "python",
   "pygments_lexer": "ipython3",
   "version": "3.10.7"
  }
 },
 "nbformat": 4,
 "nbformat_minor": 5
}
