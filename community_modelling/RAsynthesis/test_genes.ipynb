{
 "cells": [
  {
   "cell_type": "code",
   "execution_count": 2,
   "metadata": {},
   "outputs": [],
   "source": [
    "import cobra\n",
    "from cobra.io import read_sbml_model"
   ]
  },
  {
   "cell_type": "code",
   "execution_count": 3,
   "metadata": {},
   "outputs": [],
   "source": [
    "k12 = read_sbml_model(\"../GEMs/iML1515.xml\")\n",
    "bl21 = read_sbml_model(\"../GEMs/iHK1487.xml\")"
   ]
  },
  {
   "cell_type": "code",
   "execution_count": 22,
   "metadata": {},
   "outputs": [
    {
     "data": {
      "text/html": [
       "\n",
       "        <table>\n",
       "            <tr>\n",
       "                <td><strong>Gene identifier</strong></td><td>ECD_03417</td>\n",
       "            </tr><tr>\n",
       "                <td><strong>Name</strong></td><td>b3565</td>\n",
       "            </tr><tr>\n",
       "                <td><strong>Memory address</strong></td>\n",
       "                <td>0x12666fe80</td>\n",
       "            </tr><tr>\n",
       "                <td><strong>Functional</strong></td><td>True</td>\n",
       "            </tr><tr>\n",
       "                <td><strong>In 2 reaction(s)</strong></td><td>\n",
       "                    XYLI2, XYLI1\n",
       "                    </td>\n",
       "            </tr>\n",
       "        </table>"
      ],
      "text/plain": [
       "<Gene ECD_03417 at 0x12666fe80>"
      ]
     },
     "execution_count": 22,
     "metadata": {},
     "output_type": "execute_result"
    }
   ],
   "source": [
    "bl21.genes.ECD_03417"
   ]
  },
  {
   "cell_type": "code",
   "execution_count": 21,
   "metadata": {},
   "outputs": [
    {
     "name": "stdout",
     "output_type": "stream",
     "text": [
      "ECD_03417\n"
     ]
    }
   ],
   "source": [
    "for gene in bl21.genes:\n",
    "    if gene.name == \"b3565\":\n",
    "        print(gene.id)"
   ]
  },
  {
   "cell_type": "code",
   "execution_count": 33,
   "metadata": {},
   "outputs": [
    {
     "name": "stdout",
     "output_type": "stream",
     "text": [
      "... k12 model\n",
      "... universal model\n"
     ]
    },
    {
     "name": "stderr",
     "output_type": "stream",
     "text": [
      "No objective coefficients in model. Unclear what should be optimized\n"
     ]
    },
    {
     "name": "stdout",
     "output_type": "stream",
     "text": [
      "adding metabolites\n",
      "adding reactions\n"
     ]
    }
   ],
   "source": [
    "from cobra import Model, Reaction, Metabolite\n",
    "from cobra.io import read_sbml_model, write_sbml_model\n",
    "from cobra.flux_analysis import flux_variability_analysis\n",
    "from cobra.manipulation import knock_out_model_genes\n",
    "from GEM_eval import energy_generating_cycle_test\n",
    "from config import ROOT_DIR\n",
    "\n",
    "\n",
    "print(\"... k12 model\")\n",
    "# read model for E. coli K12\n",
    "k12 = read_sbml_model('../GEMs/iML1515.xml')\n",
    "\n",
    "print(\"... universal model\")\n",
    "#read the universal model\n",
    "uni = read_sbml_model(str(ROOT_DIR / \"community_modelling\" / \"GEMs\" / \"bigg_universe.xml\"))\n",
    "\n",
    "CAL11 = k12.copy()\n",
    "\n",
    "############### Knock-outs ###############\n",
    "\n",
    "# pheA | gene b2599\n",
    "knock_out_model_genes(CAL11, [\"b2599\"])\n",
    "# ptsH | b2415\n",
    "knock_out_model_genes(CAL11, [\"b2415\"])\n",
    "# ptsI | b2416\n",
    "knock_out_model_genes(CAL11, [\"b2416\"])\n",
    "# crr | b2417\n",
    "knock_out_model_genes(CAL11, [\"b2417\"])\n",
    "# ydiB | b1692\n",
    "knock_out_model_genes(CAL11, [\"b1692\"])\n",
    "\n",
    "############### Metabolites ###############\n",
    "\n",
    "print(\"adding metabolites\")\n",
    "\n",
    "#p-Coumaric acid\n",
    "p_coumaric_acid_c = uni.metabolites.get_by_id(\"T4hcinnm_c\")\n",
    "p_coumaric_acid_c.compartment = \"c\"\n",
    "\n",
    "#caffeic acid\n",
    "caffeic_acid_c = uni.metabolites.get_by_id(\"34dhcinm_c\")\n",
    "caffeic_acid_c.compartment = \"c\"\n",
    "\n",
    "#external caffeic acid\n",
    "caffeic_acid_e = uni.metabolites.get_by_id(\"34dhcinm_e\")\n",
    "caffeic_acid_e.compartment = \"e\"\n",
    "\n",
    "#ammonia\n",
    "nh4_c = k12.metabolites.get_by_id(\"nh4_c\")\n",
    "\n",
    "#tyrosine \n",
    "tyr__L_c = k12.metabolites.get_by_id(\"tyr__L_c\")\n",
    "\n",
    "#NADH\n",
    "nadh_c = k12.metabolites.get_by_id(\"nadh_c\")\n",
    "\n",
    "#NAD+\n",
    "nad_c = k12.metabolites.get_by_id(\"nad_c\")\n",
    "\n",
    "#H+\n",
    "h_c = k12.metabolites.get_by_id(\"h_c\")\n",
    "\n",
    "#ATP\n",
    "atp_c = k12.metabolites.get_by_id(\"atp_c\")\n",
    "\n",
    "#AMP\n",
    "adp_c = k12.metabolites.get_by_id(\"adp_c\")\n",
    "\n",
    "#Diphosphate\n",
    "pi_c = k12.metabolites.get_by_id(\"pi_c\")\n",
    "\n",
    "############### Reactions ###############\n",
    "\n",
    "print(\"adding reactions\")\n",
    "\n",
    "#tyr -> p-coumaric acid\n",
    "TAL = Reaction('TAL')\n",
    "TAL.name = 'L-tyrosine ammonia-lyase'\n",
    "TAL.subsystem = 'CA module'\n",
    "TAL.lower_bound = -1000  # This is the default\n",
    "TAL.upper_bound = 1000  # This is the default\n",
    "#L-Tyrosine <=> 4-Coumarate + Ammonia\n",
    "TAL.add_metabolites({\n",
    "    tyr__L_c: -1.0,\n",
    "    p_coumaric_acid_c: 1.0,\n",
    "    nh4_c: 1.0\n",
    "})\n",
    "#TAL.gene_reaction_rule = 'tal' #synthetic rgTAL gene\n",
    "\n",
    "#p-coumaric acid -> caffeic acid\n",
    "COURCA = Reaction('COURCA')\n",
    "COURCA.name = '4-hydroxyphenylacetate 3-hydroxylase'\n",
    "COURCA.subsystem = 'CA module'\n",
    "COURCA.lower_bound = -1000  # This is the default\n",
    "COURCA.upper_bound = 1000  # This is the default\n",
    "#4-Coumarate <=> Caffeate\n",
    "COURCA.add_metabolites({\n",
    "    p_coumaric_acid_c: -1.0,\n",
    "    nadh_c: -1.0,\n",
    "    caffeic_acid_c: 1.0,\n",
    "    nad_c: 1.0,\n",
    "    h_c: 1.0\n",
    "})\n",
    "#COURCA.gene_reaction_rule = '(hpaB and hpaC)' #synthetic hpaC gene\n",
    "\n",
    "#caffeic acid transport reaction\n",
    "CAFFAt = Reaction('34DHCINMt')\n",
    "CAFFAt.name = 'caffeic acid active transport'\n",
    "CAFFAt.subsystem = 'CA module'\n",
    "CAFFAt.lower_bound = -1000  # This is the default\n",
    "CAFFAt.upper_bound = 1000  # This is the default\n",
    "CAFFAt.add_metabolites({\n",
    "    caffeic_acid_c: -1.0,\n",
    "    atp_c: -1.0,\n",
    "    caffeic_acid_e: 1.0,\n",
    "    adp_c: 1.0,\n",
    "    pi_c: 1.0\n",
    "})\n",
    "\n",
    "# add reactions to model\n",
    "CAL11.add_reactions([TAL, COURCA, CAFFAt])\n",
    "\n",
    "#exhange reactions for CA\n",
    "#CAL11.metabolites.get_by_id(\"34dhcinm_e\").compartment = 'e' #set compartment to be 'e' rather than 'C_e'\n",
    "CAL11.add_boundary(CAL11.metabolites.get_by_id(\"34dhcinm_e\"), type=\"exchange\")\n",
    "\n",
    "#stopping caffeic acid uptake so that the model does not use this as substrate\n",
    "CAL11.reactions.EX_34dhcinm_e.lower_bound = 0"
   ]
  },
  {
   "cell_type": "code",
   "execution_count": 88,
   "metadata": {},
   "outputs": [],
   "source": [
    "CAL11.reactions.EX_glc__D_e.lower_bound = 0"
   ]
  },
  {
   "cell_type": "code",
   "execution_count": 89,
   "metadata": {},
   "outputs": [
    {
     "data": {
      "text/html": [
       "<h3>Objective</h3><p>1.0 BIOMASS_Ec_iML1515_core_75p37M = 0.7390145063820218</p><h4>Uptake</h4><table border=\"1\" class=\"dataframe\">\n",
       "  <thead>\n",
       "    <tr style=\"text-align: right;\">\n",
       "      <th>Metabolite</th>\n",
       "      <th>Reaction</th>\n",
       "      <th>Flux</th>\n",
       "      <th>C-Number</th>\n",
       "      <th>C-Flux</th>\n",
       "    </tr>\n",
       "  </thead>\n",
       "  <tbody>\n",
       "    <tr>\n",
       "      <td>ca2_e</td>\n",
       "      <td>EX_ca2_e</td>\n",
       "      <td>0.003847</td>\n",
       "      <td>0</td>\n",
       "      <td>0.00%</td>\n",
       "    </tr>\n",
       "    <tr>\n",
       "      <td>cl_e</td>\n",
       "      <td>EX_cl_e</td>\n",
       "      <td>0.003847</td>\n",
       "      <td>0</td>\n",
       "      <td>0.00%</td>\n",
       "    </tr>\n",
       "    <tr>\n",
       "      <td>cobalt2_e</td>\n",
       "      <td>EX_cobalt2_e</td>\n",
       "      <td>1.848E-05</td>\n",
       "      <td>0</td>\n",
       "      <td>0.00%</td>\n",
       "    </tr>\n",
       "    <tr>\n",
       "      <td>cu2_e</td>\n",
       "      <td>EX_cu2_e</td>\n",
       "      <td>0.000524</td>\n",
       "      <td>0</td>\n",
       "      <td>0.00%</td>\n",
       "    </tr>\n",
       "    <tr>\n",
       "      <td>fe2_e</td>\n",
       "      <td>EX_fe2_e</td>\n",
       "      <td>0.01187</td>\n",
       "      <td>0</td>\n",
       "      <td>0.00%</td>\n",
       "    </tr>\n",
       "    <tr>\n",
       "      <td>k_e</td>\n",
       "      <td>EX_k_e</td>\n",
       "      <td>0.1443</td>\n",
       "      <td>0</td>\n",
       "      <td>0.00%</td>\n",
       "    </tr>\n",
       "    <tr>\n",
       "      <td>mg2_e</td>\n",
       "      <td>EX_mg2_e</td>\n",
       "      <td>0.006411</td>\n",
       "      <td>0</td>\n",
       "      <td>0.00%</td>\n",
       "    </tr>\n",
       "    <tr>\n",
       "      <td>mn2_e</td>\n",
       "      <td>EX_mn2_e</td>\n",
       "      <td>0.0005107</td>\n",
       "      <td>0</td>\n",
       "      <td>0.00%</td>\n",
       "    </tr>\n",
       "    <tr>\n",
       "      <td>mobd_e</td>\n",
       "      <td>EX_mobd_e</td>\n",
       "      <td>5.173E-06</td>\n",
       "      <td>0</td>\n",
       "      <td>0.00%</td>\n",
       "    </tr>\n",
       "    <tr>\n",
       "      <td>nh4_e</td>\n",
       "      <td>EX_nh4_e</td>\n",
       "      <td>7.844</td>\n",
       "      <td>0</td>\n",
       "      <td>0.00%</td>\n",
       "    </tr>\n",
       "    <tr>\n",
       "      <td>ni2_e</td>\n",
       "      <td>EX_ni2_e</td>\n",
       "      <td>0.0002387</td>\n",
       "      <td>0</td>\n",
       "      <td>0.00%</td>\n",
       "    </tr>\n",
       "    <tr>\n",
       "      <td>o2_e</td>\n",
       "      <td>EX_o2_e</td>\n",
       "      <td>19.46</td>\n",
       "      <td>0</td>\n",
       "      <td>0.00%</td>\n",
       "    </tr>\n",
       "    <tr>\n",
       "      <td>phe__L_e</td>\n",
       "      <td>EX_phe__L_e</td>\n",
       "      <td>0.1369</td>\n",
       "      <td>9</td>\n",
       "      <td>2.41%</td>\n",
       "    </tr>\n",
       "    <tr>\n",
       "      <td>pi_e</td>\n",
       "      <td>EX_pi_e</td>\n",
       "      <td>0.7129</td>\n",
       "      <td>0</td>\n",
       "      <td>0.00%</td>\n",
       "    </tr>\n",
       "    <tr>\n",
       "      <td>so4_e</td>\n",
       "      <td>EX_so4_e</td>\n",
       "      <td>0.1861</td>\n",
       "      <td>0</td>\n",
       "      <td>0.00%</td>\n",
       "    </tr>\n",
       "    <tr>\n",
       "      <td>xyl__D_e</td>\n",
       "      <td>EX_xyl__D_e</td>\n",
       "      <td>10</td>\n",
       "      <td>5</td>\n",
       "      <td>97.59%</td>\n",
       "    </tr>\n",
       "    <tr>\n",
       "      <td>zn2_e</td>\n",
       "      <td>EX_zn2_e</td>\n",
       "      <td>0.000252</td>\n",
       "      <td>0</td>\n",
       "      <td>0.00%</td>\n",
       "    </tr>\n",
       "  </tbody>\n",
       "</table><h4>Secretion</h4><table border=\"1\" class=\"dataframe\">\n",
       "  <thead>\n",
       "    <tr style=\"text-align: right;\">\n",
       "      <th>Metabolite</th>\n",
       "      <th>Reaction</th>\n",
       "      <th>Flux</th>\n",
       "      <th>C-Number</th>\n",
       "      <th>C-Flux</th>\n",
       "    </tr>\n",
       "  </thead>\n",
       "  <tbody>\n",
       "    <tr>\n",
       "      <td>4crsol_c</td>\n",
       "      <td>DM_4crsol_c</td>\n",
       "      <td>-0.0001648</td>\n",
       "      <td>7</td>\n",
       "      <td>0.01%</td>\n",
       "    </tr>\n",
       "    <tr>\n",
       "      <td>5drib_c</td>\n",
       "      <td>DM_5drib_c</td>\n",
       "      <td>-0.0001663</td>\n",
       "      <td>5</td>\n",
       "      <td>0.00%</td>\n",
       "    </tr>\n",
       "    <tr>\n",
       "      <td>amob_c</td>\n",
       "      <td>DM_amob_c</td>\n",
       "      <td>-1.478E-06</td>\n",
       "      <td>15</td>\n",
       "      <td>0.00%</td>\n",
       "    </tr>\n",
       "    <tr>\n",
       "      <td>co2_e</td>\n",
       "      <td>EX_co2_e</td>\n",
       "      <td>-20.9</td>\n",
       "      <td>1</td>\n",
       "      <td>99.99%</td>\n",
       "    </tr>\n",
       "    <tr>\n",
       "      <td>h2o_e</td>\n",
       "      <td>EX_h2o_e</td>\n",
       "      <td>-39.73</td>\n",
       "      <td>0</td>\n",
       "      <td>0.00%</td>\n",
       "    </tr>\n",
       "    <tr>\n",
       "      <td>h_e</td>\n",
       "      <td>EX_h_e</td>\n",
       "      <td>-6.653</td>\n",
       "      <td>0</td>\n",
       "      <td>0.00%</td>\n",
       "    </tr>\n",
       "    <tr>\n",
       "      <td>meoh_e</td>\n",
       "      <td>EX_meoh_e</td>\n",
       "      <td>-1.478E-06</td>\n",
       "      <td>1</td>\n",
       "      <td>0.00%</td>\n",
       "    </tr>\n",
       "  </tbody>\n",
       "</table>"
      ],
      "text/plain": [
       "<cobra.summary.model_summary.ModelSummary at 0x12dbbac50>"
      ]
     },
     "execution_count": 89,
     "metadata": {},
     "output_type": "execute_result"
    }
   ],
   "source": [
    "CAL11.summary()"
   ]
  },
  {
   "cell_type": "code",
   "execution_count": 34,
   "metadata": {},
   "outputs": [],
   "source": [
    "CAL11.reactions.EX_xyl__D_e.lower_bound = -10"
   ]
  },
  {
   "cell_type": "code",
   "execution_count": 38,
   "metadata": {},
   "outputs": [
    {
     "data": {
      "text/html": [
       "<h3>Objective</h3><p>1.0 BIOMASS_Ec_iML1515_core_75p37M = 0.0</p><h4>Uptake</h4><table border=\"1\" class=\"dataframe\">\n",
       "  <thead>\n",
       "    <tr style=\"text-align: right;\">\n",
       "      <th>Metabolite</th>\n",
       "      <th>Reaction</th>\n",
       "      <th>Flux</th>\n",
       "      <th>C-Number</th>\n",
       "      <th>C-Flux</th>\n",
       "    </tr>\n",
       "  </thead>\n",
       "  <tbody>\n",
       "    <tr>\n",
       "      <td>glc__D_e</td>\n",
       "      <td>EX_glc__D_e</td>\n",
       "      <td>0.2951</td>\n",
       "      <td>6</td>\n",
       "      <td>100.00%</td>\n",
       "    </tr>\n",
       "    <tr>\n",
       "      <td>o2_e</td>\n",
       "      <td>EX_o2_e</td>\n",
       "      <td>1.77</td>\n",
       "      <td>0</td>\n",
       "      <td>0.00%</td>\n",
       "    </tr>\n",
       "  </tbody>\n",
       "</table><h4>Secretion</h4><table border=\"1\" class=\"dataframe\">\n",
       "  <thead>\n",
       "    <tr style=\"text-align: right;\">\n",
       "      <th>Metabolite</th>\n",
       "      <th>Reaction</th>\n",
       "      <th>Flux</th>\n",
       "      <th>C-Number</th>\n",
       "      <th>C-Flux</th>\n",
       "    </tr>\n",
       "  </thead>\n",
       "  <tbody>\n",
       "    <tr>\n",
       "      <td>co2_e</td>\n",
       "      <td>EX_co2_e</td>\n",
       "      <td>-1.77</td>\n",
       "      <td>1</td>\n",
       "      <td>100.00%</td>\n",
       "    </tr>\n",
       "    <tr>\n",
       "      <td>h2o_e</td>\n",
       "      <td>EX_h2o_e</td>\n",
       "      <td>-1.77</td>\n",
       "      <td>0</td>\n",
       "      <td>0.00%</td>\n",
       "    </tr>\n",
       "  </tbody>\n",
       "</table>"
      ],
      "text/plain": [
       "<cobra.summary.model_summary.ModelSummary at 0x13a684d30>"
      ]
     },
     "execution_count": 38,
     "metadata": {},
     "output_type": "execute_result"
    }
   ],
   "source": [
    "CAL11.summary()"
   ]
  },
  {
   "cell_type": "code",
   "execution_count": 40,
   "metadata": {},
   "outputs": [],
   "source": [
    "k12.reactions.EX_glc__D_e.lower_bound = 0\n",
    "k12.reactions.EX_xyl__D_e.lower_bound = -10"
   ]
  },
  {
   "cell_type": "code",
   "execution_count": 43,
   "metadata": {},
   "outputs": [],
   "source": [
    "uptake = k12.summary().uptake_flux"
   ]
  },
  {
   "cell_type": "code",
   "execution_count": 47,
   "metadata": {},
   "outputs": [],
   "source": [
    "uptake_rx = list(uptake.index)"
   ]
  },
  {
   "cell_type": "code",
   "execution_count": 52,
   "metadata": {},
   "outputs": [],
   "source": [
    "CAL11.reactions.EX_phe__L_e.lower_bound = -10"
   ]
  },
  {
   "cell_type": "code",
   "execution_count": 69,
   "metadata": {},
   "outputs": [
    {
     "data": {
      "text/html": [
       "<h3>glc__D_c</h3><p>C6H12O6</p><h4>Producing Reactions</h4><table border=\"1\" class=\"dataframe\">\n",
       "  <thead>\n",
       "    <tr style=\"text-align: right;\">\n",
       "      <th>Percent</th>\n",
       "      <th>Flux</th>\n",
       "      <th>Reaction</th>\n",
       "      <th>Definition</th>\n",
       "    </tr>\n",
       "  </thead>\n",
       "  <tbody>\n",
       "    <tr>\n",
       "      <td>100.00%</td>\n",
       "      <td>10</td>\n",
       "      <td>GLCt2pp</td>\n",
       "      <td>glc__D_p + h_p --&gt; glc__D_c + h_c</td>\n",
       "    </tr>\n",
       "  </tbody>\n",
       "</table><h4>Consuming Reactions</h4><table border=\"1\" class=\"dataframe\">\n",
       "  <thead>\n",
       "    <tr style=\"text-align: right;\">\n",
       "      <th>Percent</th>\n",
       "      <th>Flux</th>\n",
       "      <th>Reaction</th>\n",
       "      <th>Definition</th>\n",
       "    </tr>\n",
       "  </thead>\n",
       "  <tbody>\n",
       "    <tr>\n",
       "      <td>100.00%</td>\n",
       "      <td>-10</td>\n",
       "      <td>HEX1</td>\n",
       "      <td>atp_c + glc__D_c --&gt; adp_c + g6p_c + h_c</td>\n",
       "    </tr>\n",
       "  </tbody>\n",
       "</table>"
      ],
      "text/plain": [
       "<cobra.summary.metabolite_summary.MetaboliteSummary at 0x139e664a0>"
      ]
     },
     "execution_count": 69,
     "metadata": {},
     "output_type": "execute_result"
    }
   ],
   "source": [
    "CAL11.metabolites.glc__D_c.summary()"
   ]
  },
  {
   "cell_type": "code",
   "execution_count": 59,
   "metadata": {},
   "outputs": [
    {
     "data": {
      "text/html": [
       "\n",
       "        <table>\n",
       "            <tr>\n",
       "                <td><strong>Reaction identifier</strong></td><td>G6PDH2r</td>\n",
       "            </tr><tr>\n",
       "                <td><strong>Name</strong></td><td>Glucose 6-phosphate dehydrogenase</td>\n",
       "            </tr><tr>\n",
       "                <td><strong>Memory address</strong></td>\n",
       "                <td>0x1468c4640</td>\n",
       "            </tr><tr>\n",
       "                <td><strong>Stoichiometry</strong></td>\n",
       "                <td>\n",
       "                    <p style='text-align:right'>g6p_c + nadp_c <=> 6pgl_c + h_c + nadph_c</p>\n",
       "                    <p style='text-align:right'>D-Glucose 6-phosphate + Nicotinamide adenine dinucleotide phosphate <=> 6-phospho-D-glucono-1,5-lactone + H+ + Nicotinamide adenine dinucleotide phosphate - reduced</p>\n",
       "                </td>\n",
       "            </tr><tr>\n",
       "                <td><strong>GPR</strong></td><td>b1852</td>\n",
       "            </tr><tr>\n",
       "                <td><strong>Lower bound</strong></td><td>-1000.0</td>\n",
       "            </tr><tr>\n",
       "                <td><strong>Upper bound</strong></td><td>1000.0</td>\n",
       "            </tr>\n",
       "        </table>\n",
       "        "
      ],
      "text/plain": [
       "<Reaction G6PDH2r at 0x1468c4640>"
      ]
     },
     "execution_count": 59,
     "metadata": {},
     "output_type": "execute_result"
    }
   ],
   "source": [
    "CAL11.reactions.G6PDH2r"
   ]
  },
  {
   "cell_type": "code",
   "execution_count": 66,
   "metadata": {},
   "outputs": [
    {
     "data": {
      "text/plain": [
       "frozenset({<Reaction 2DGLCptspp at 0x1479b1570>,\n",
       "           <Reaction ACGAptspp at 0x1468b48b0>,\n",
       "           <Reaction ACMANAptspp at 0x1468b4460>,\n",
       "           <Reaction ACMUMptspp at 0x13bff0430>,\n",
       "           <Reaction ARBTptspp at 0x1479b2020>,\n",
       "           <Reaction ASCBptspp at 0x1468b7670>,\n",
       "           <Reaction CELBpts at 0x144cd41f0>,\n",
       "           <Reaction CHTBSptspp at 0x1479b86d0>,\n",
       "           <Reaction DHAPT at 0x1468d86d0>,\n",
       "           <Reaction FRUpts2pp at 0x14795d150>,\n",
       "           <Reaction FRUptspp at 0x1468a8ee0>,\n",
       "           <Reaction GALTptspp at 0x13c014820>,\n",
       "           <Reaction GAMptspp at 0x14795fca0>,\n",
       "           <Reaction GLCptspp at 0x13c0502e0>,\n",
       "           <Reaction MALTptspp at 0x144cfb640>,\n",
       "           <Reaction MANGLYCptspp at 0x146884f40>,\n",
       "           <Reaction MANptspp at 0x144cd6a40>,\n",
       "           <Reaction MNLptspp at 0x146886470>,\n",
       "           <Reaction SBTptspp at 0x1468aa050>,\n",
       "           <Reaction SUCptspp at 0x1468bca60>,\n",
       "           <Reaction TREptspp at 0x1468b9e40>})"
      ]
     },
     "execution_count": 66,
     "metadata": {},
     "output_type": "execute_result"
    }
   ],
   "source": [
    "CAL11.genes.b2415.reactions"
   ]
  },
  {
   "cell_type": "code",
   "execution_count": 90,
   "metadata": {},
   "outputs": [
    {
     "data": {
      "text/html": [
       "\n",
       "        <table>\n",
       "            <tr>\n",
       "                <td><strong>Reaction identifier</strong></td><td>EX_glc__D_e</td>\n",
       "            </tr><tr>\n",
       "                <td><strong>Name</strong></td><td>D-Glucose exchange</td>\n",
       "            </tr><tr>\n",
       "                <td><strong>Memory address</strong></td>\n",
       "                <td>0x1468ea6e0</td>\n",
       "            </tr><tr>\n",
       "                <td><strong>Stoichiometry</strong></td>\n",
       "                <td>\n",
       "                    <p style='text-align:right'>glc__D_e --></p>\n",
       "                    <p style='text-align:right'>D-Glucose --></p>\n",
       "                </td>\n",
       "            </tr><tr>\n",
       "                <td><strong>GPR</strong></td><td></td>\n",
       "            </tr><tr>\n",
       "                <td><strong>Lower bound</strong></td><td>0</td>\n",
       "            </tr><tr>\n",
       "                <td><strong>Upper bound</strong></td><td>1000.0</td>\n",
       "            </tr>\n",
       "        </table>\n",
       "        "
      ],
      "text/plain": [
       "<Reaction EX_glc__D_e at 0x1468ea6e0>"
      ]
     },
     "execution_count": 90,
     "metadata": {},
     "output_type": "execute_result"
    }
   ],
   "source": [
    "CAL11.reactions.EX_glc__D_e"
   ]
  },
  {
   "cell_type": "code",
   "execution_count": 80,
   "metadata": {},
   "outputs": [],
   "source": [
    "from cobra import flux_analysis\n",
    "\n",
    "sol = CAL11.optimize()"
   ]
  },
  {
   "cell_type": "code",
   "execution_count": null,
   "metadata": {},
   "outputs": [],
   "source": [
    "# ptsH | b2415\n",
    "knock_out_model_genes(CAL11, [\"b2415\"])\n",
    "# ptsI | b2416\n",
    "knock_out_model_genes(CAL11, [\"b2416\"])\n",
    "# crr | b2417\n",
    "knock_out_model_genes(CAL11, [\"b2417\"])"
   ]
  },
  {
   "cell_type": "code",
   "execution_count": 75,
   "metadata": {},
   "outputs": [
    {
     "name": "stdout",
     "output_type": "stream",
     "text": [
      "Downloading Map from https://escher.github.io/1-0-0/6/maps/Escherichia%20coli/e_coli_core.Core%20metabolism.json\n"
     ]
    }
   ],
   "source": [
    "from escher import Builder\n",
    "\n",
    "builder = Builder(\n",
    "    map_name='e_coli_core.Core metabolism',\n",
    "    model=CAL11,\n",
    ")"
   ]
  },
  {
   "cell_type": "code",
   "execution_count": 86,
   "metadata": {},
   "outputs": [
    {
     "data": {
      "text/plain": [
       "CYTDK2           0.000000\n",
       "XPPT             0.000000\n",
       "HXPRT            0.000000\n",
       "NDPK5            0.000000\n",
       "SHK3Dr           0.325055\n",
       "                   ...   \n",
       "OCTNLL           0.000000\n",
       "TAL              0.000000\n",
       "COURCA           0.000000\n",
       "34DHCINMt        0.000000\n",
       "EX_34dhcinm_e    0.000000\n",
       "Name: fluxes, Length: 2716, dtype: float64"
      ]
     },
     "execution_count": 86,
     "metadata": {},
     "output_type": "execute_result"
    }
   ],
   "source": []
  },
  {
   "cell_type": "code",
   "execution_count": 87,
   "metadata": {},
   "outputs": [],
   "source": [
    "builder.reaction_data = sol.fluxes"
   ]
  },
  {
   "cell_type": "code",
   "execution_count": 76,
   "metadata": {},
   "outputs": [
    {
     "data": {
      "application/vnd.jupyter.widget-view+json": {
       "model_id": "6e7bc0d0b39c400386e269a1be148721",
       "version_major": 2,
       "version_minor": 0
      },
      "text/plain": [
       "Builder()"
      ]
     },
     "metadata": {},
     "output_type": "display_data"
    }
   ],
   "source": [
    "builder"
   ]
  },
  {
   "cell_type": "code",
   "execution_count": 91,
   "metadata": {},
   "outputs": [],
   "source": [
    "SAL11 = read_sbml_model(\"../GEMs/SAL11.xml\")\n",
    "CAL11 = read_sbml_model(\"../GEMs/CAL11.xml\")\n",
    "MAM3 = read_sbml_model(\"../GEMs/MAM3.xml\")"
   ]
  },
  {
   "cell_type": "code",
   "execution_count": 101,
   "metadata": {},
   "outputs": [
    {
     "data": {
      "text/html": [
       "<h3>Objective</h3><p>1.0 BIOMASS_Ec_iML1515_core_75p37M = 0.0</p><h4>Uptake</h4><table border=\"1\" class=\"dataframe\">\n",
       "  <thead>\n",
       "    <tr style=\"text-align: right;\">\n",
       "      <th>Metabolite</th>\n",
       "      <th>Reaction</th>\n",
       "      <th>Flux</th>\n",
       "      <th>C-Number</th>\n",
       "      <th>C-Flux</th>\n",
       "    </tr>\n",
       "  </thead>\n",
       "  <tbody>\n",
       "    <tr>\n",
       "      <td>glc__D_e</td>\n",
       "      <td>EX_glc__D_e</td>\n",
       "      <td>0.2951</td>\n",
       "      <td>6</td>\n",
       "      <td>100.00%</td>\n",
       "    </tr>\n",
       "    <tr>\n",
       "      <td>o2_e</td>\n",
       "      <td>EX_o2_e</td>\n",
       "      <td>1.77</td>\n",
       "      <td>0</td>\n",
       "      <td>0.00%</td>\n",
       "    </tr>\n",
       "  </tbody>\n",
       "</table><h4>Secretion</h4><table border=\"1\" class=\"dataframe\">\n",
       "  <thead>\n",
       "    <tr style=\"text-align: right;\">\n",
       "      <th>Metabolite</th>\n",
       "      <th>Reaction</th>\n",
       "      <th>Flux</th>\n",
       "      <th>C-Number</th>\n",
       "      <th>C-Flux</th>\n",
       "    </tr>\n",
       "  </thead>\n",
       "  <tbody>\n",
       "    <tr>\n",
       "      <td>co2_e</td>\n",
       "      <td>EX_co2_e</td>\n",
       "      <td>-1.77</td>\n",
       "      <td>1</td>\n",
       "      <td>100.00%</td>\n",
       "    </tr>\n",
       "    <tr>\n",
       "      <td>h2o_e</td>\n",
       "      <td>EX_h2o_e</td>\n",
       "      <td>-1.77</td>\n",
       "      <td>0</td>\n",
       "      <td>0.00%</td>\n",
       "    </tr>\n",
       "  </tbody>\n",
       "</table>"
      ],
      "text/plain": [
       "<cobra.summary.model_summary.ModelSummary at 0x1344c5cf0>"
      ]
     },
     "execution_count": 101,
     "metadata": {},
     "output_type": "execute_result"
    }
   ],
   "source": [
    "MAM3.reactions.EX_glc__D_e.lower_bound = -10\n",
    "MAM3.reactions.EX_xyl__D_e.lower_bound = -10\n",
    "MAM3.reactions.EX_phe__L_e.lower_bound = -10\n",
    "MAM3.summary()"
   ]
  },
  {
   "cell_type": "code",
   "execution_count": 99,
   "metadata": {},
   "outputs": [
    {
     "data": {
      "text/plain": [
       "[]"
      ]
     },
     "execution_count": 99,
     "metadata": {},
     "output_type": "execute_result"
    }
   ],
   "source": [
    "from cobra.manipulation import knock_out_model_genes\n",
    "knock_out_model_genes(MAM3, [\"b3281\"])"
   ]
  },
  {
   "cell_type": "code",
   "execution_count": 100,
   "metadata": {},
   "outputs": [
    {
     "data": {
      "text/html": [
       "\n",
       "        <table>\n",
       "            <tr>\n",
       "                <td><strong>Gene identifier</strong></td><td>b3281</td>\n",
       "            </tr><tr>\n",
       "                <td><strong>Name</strong></td><td>aroE</td>\n",
       "            </tr><tr>\n",
       "                <td><strong>Memory address</strong></td>\n",
       "                <td>0x12c7a3880</td>\n",
       "            </tr><tr>\n",
       "                <td><strong>Functional</strong></td><td>False</td>\n",
       "            </tr><tr>\n",
       "                <td><strong>In 1 reaction(s)</strong></td><td>\n",
       "                    SHK3Dr\n",
       "                    </td>\n",
       "            </tr>\n",
       "        </table>"
      ],
      "text/plain": [
       "<Gene b3281 at 0x12c7a3880>"
      ]
     },
     "execution_count": 100,
     "metadata": {},
     "output_type": "execute_result"
    }
   ],
   "source": [
    "MAM3.genes.b3281"
   ]
  },
  {
   "cell_type": "code",
   "execution_count": 103,
   "metadata": {},
   "outputs": [
    {
     "data": {
      "text/plain": [
       "[<Reaction FRUptspp at 0x1383ea020>,\n",
       " <Reaction GLCptspp at 0x13781d870>,\n",
       " <Reaction MANptspp at 0x137f529b0>,\n",
       " <Reaction MNLptspp at 0x1291129b0>,\n",
       " <Reaction ARBTptspp at 0x128dfea10>,\n",
       " <Reaction 2DGLCptspp at 0x128dfd2a0>,\n",
       " <Reaction ACGAptspp at 0x1385baad0>,\n",
       " <Reaction QUINDHyi at 0x137d9f2e0>,\n",
       " <Reaction QUINDH at 0x137e0db10>,\n",
       " <Reaction SBTptspp at 0x1383eb370>,\n",
       " <Reaction DHAPT at 0x12878fb80>,\n",
       " <Reaction SUCptspp at 0x1326153c0>,\n",
       " <Reaction ASCBptspp at 0x138363cd0>,\n",
       " <Reaction TREptspp at 0x13856ddb0>,\n",
       " <Reaction CELBpts at 0x137f53610>,\n",
       " <Reaction ACMUMptspp at 0x13781f640>,\n",
       " <Reaction PPNDH at 0x132859660>,\n",
       " <Reaction MALTptspp at 0x13829beb0>,\n",
       " <Reaction GALTptspp at 0x1377b36d0>,\n",
       " <Reaction CHTBSptspp at 0x1381b2ef0>,\n",
       " <Reaction MANGLYCptspp at 0x12871b760>,\n",
       " <Reaction FRUpts2pp at 0x136b12f80>,\n",
       " <Reaction GAMptspp at 0x136958fa0>,\n",
       " <Reaction ACMANAptspp at 0x1385bb7f0>]"
      ]
     },
     "execution_count": 103,
     "metadata": {},
     "output_type": "execute_result"
    }
   ],
   "source": [
    "from cobra.io import read_sbml_model\n",
    "from cobra.manipulation import knock_out_model_genes\n",
    "import KNOCK_OUTS\n",
    "\n",
    "SAL11 = read_sbml_model(\"../GEMs/SAL11.xml\")\n",
    "CAL11 = read_sbml_model(\"../GEMs/CAL11.xml\")\n",
    "MAM3 = read_sbml_model(\"../GEMs/MAM3.xml\")\n",
    "\n",
    "knock_out_model_genes(SAL11, KNOCK_OUTS.SAL11_KO)\n",
    "knock_out_model_genes(MAM3, KNOCK_OUTS.MAM3_KO)\n",
    "knock_out_model_genes(CAL11, KNOCK_OUTS.CAL11_KO)"
   ]
  },
  {
   "cell_type": "code",
   "execution_count": 112,
   "metadata": {},
   "outputs": [],
   "source": [
    "MAM3 = read_sbml_model(\"../GEMs/MAM3.xml\")"
   ]
  },
  {
   "cell_type": "code",
   "execution_count": null,
   "metadata": {},
   "outputs": [],
   "source": [
    "MAM3_KO = [\"b2599\", \"b2415\", \"b2416\", \"b2417\", \"b1692\", \"b3281\"]"
   ]
  },
  {
   "cell_type": "code",
   "execution_count": 117,
   "metadata": {},
   "outputs": [
    {
     "data": {
      "text/html": [
       "\n",
       "        <table>\n",
       "            <tr>\n",
       "                <td><strong>Gene identifier</strong></td><td>b3281</td>\n",
       "            </tr><tr>\n",
       "                <td><strong>Name</strong></td><td>aroE</td>\n",
       "            </tr><tr>\n",
       "                <td><strong>Memory address</strong></td>\n",
       "                <td>0x1341501f0</td>\n",
       "            </tr><tr>\n",
       "                <td><strong>Functional</strong></td><td>True</td>\n",
       "            </tr><tr>\n",
       "                <td><strong>In 1 reaction(s)</strong></td><td>\n",
       "                    SHK3Dr\n",
       "                    </td>\n",
       "            </tr>\n",
       "        </table>"
      ],
      "text/plain": [
       "<Gene b3281 at 0x1341501f0>"
      ]
     },
     "execution_count": 117,
     "metadata": {},
     "output_type": "execute_result"
    }
   ],
   "source": [
    "MAM3.genes.b3281"
   ]
  },
  {
   "cell_type": "code",
   "execution_count": 118,
   "metadata": {},
   "outputs": [
    {
     "data": {
      "text/html": [
       "\n",
       "        <table>\n",
       "            <tr>\n",
       "                <td><strong>Metabolite identifier</strong></td><td>34dhcinm_e</td>\n",
       "            </tr><tr>\n",
       "                <td><strong>Name</strong></td><td>3,4-Dihydroxy-trans-cinnamate</td>\n",
       "            </tr><tr>\n",
       "                <td><strong>Memory address</strong></td>\n",
       "                <td>0x1340f0130</td>\n",
       "            </tr><tr>\n",
       "                <td><strong>Formula</strong></td><td>C9H7O4</td>\n",
       "            </tr><tr>\n",
       "                <td><strong>Compartment</strong></td><td>e</td>\n",
       "            </tr><tr>\n",
       "                <td><strong>In 2 reaction(s)</strong></td><td>\n",
       "                    EX_34dhcinm_e, CAFFAt\n",
       "                    </td>\n",
       "            </tr>\n",
       "        </table>"
      ],
      "text/plain": [
       "<Metabolite 34dhcinm_e at 0x1340f0130>"
      ]
     },
     "execution_count": 118,
     "metadata": {},
     "output_type": "execute_result"
    }
   ],
   "source": [
    "MAM3.metabolites.get_by_id(\"34dhcinm_e\")"
   ]
  },
  {
   "cell_type": "code",
   "execution_count": 111,
   "metadata": {},
   "outputs": [
    {
     "data": {
      "text/html": [
       "<h3>Objective</h3><p>1.0 BIOMASS_Ec_iML1515_core_75p37M = 0.0</p><h4>Uptake</h4><table border=\"1\" class=\"dataframe\">\n",
       "  <thead>\n",
       "    <tr style=\"text-align: right;\">\n",
       "      <th>Metabolite</th>\n",
       "      <th>Reaction</th>\n",
       "      <th>Flux</th>\n",
       "      <th>C-Number</th>\n",
       "      <th>C-Flux</th>\n",
       "    </tr>\n",
       "  </thead>\n",
       "  <tbody>\n",
       "    <tr>\n",
       "      <td>glc__D_e</td>\n",
       "      <td>EX_glc__D_e</td>\n",
       "      <td>0.2951</td>\n",
       "      <td>6</td>\n",
       "      <td>100.00%</td>\n",
       "    </tr>\n",
       "    <tr>\n",
       "      <td>o2_e</td>\n",
       "      <td>EX_o2_e</td>\n",
       "      <td>1.77</td>\n",
       "      <td>0</td>\n",
       "      <td>0.00%</td>\n",
       "    </tr>\n",
       "  </tbody>\n",
       "</table><h4>Secretion</h4><table border=\"1\" class=\"dataframe\">\n",
       "  <thead>\n",
       "    <tr style=\"text-align: right;\">\n",
       "      <th>Metabolite</th>\n",
       "      <th>Reaction</th>\n",
       "      <th>Flux</th>\n",
       "      <th>C-Number</th>\n",
       "      <th>C-Flux</th>\n",
       "    </tr>\n",
       "  </thead>\n",
       "  <tbody>\n",
       "    <tr>\n",
       "      <td>co2_e</td>\n",
       "      <td>EX_co2_e</td>\n",
       "      <td>-1.77</td>\n",
       "      <td>1</td>\n",
       "      <td>100.00%</td>\n",
       "    </tr>\n",
       "    <tr>\n",
       "      <td>h2o_e</td>\n",
       "      <td>EX_h2o_e</td>\n",
       "      <td>-1.77</td>\n",
       "      <td>0</td>\n",
       "      <td>0.00%</td>\n",
       "    </tr>\n",
       "  </tbody>\n",
       "</table>"
      ],
      "text/plain": [
       "<cobra.summary.model_summary.ModelSummary at 0x12c77bb20>"
      ]
     },
     "execution_count": 111,
     "metadata": {},
     "output_type": "execute_result"
    }
   ],
   "source": [
    "MAM3.reactions.EX_phe__L_e.lower_bound = -10\n",
    "MAM3.reactions.EX_glc__D_e.lower_bound = -10\n",
    "MAM3.reactions.EX_xyl__D_e.lower_bound = -10\n",
    "MAM3.summary()"
   ]
  },
  {
   "cell_type": "code",
   "execution_count": 123,
   "metadata": {},
   "outputs": [
    {
     "name": "stdout",
     "output_type": "stream",
     "text": [
      "loading GEMs...\n",
      "... k12 model\n"
     ]
    },
    {
     "name": "stdout",
     "output_type": "stream",
     "text": [
      "... universal model\n"
     ]
    },
    {
     "name": "stderr",
     "output_type": "stream",
     "text": [
      "No objective coefficients in model. Unclear what should be optimized\n"
     ]
    },
    {
     "name": "stdout",
     "output_type": "stream",
     "text": [
      "adding metabolites\n",
      "adding reactions\n"
     ]
    }
   ],
   "source": [
    "print(\"loading GEMs...\")\n",
    "\n",
    "print(\"... k12 model\")\n",
    "# read model for E. coli K12\n",
    "k12 = read_sbml_model(str(ROOT_DIR / \"community_modelling\" / \"GEMs\" / \"iML1515.xml\"))\n",
    "\n",
    "print(\"... universal model\")\n",
    "#read the universal model\n",
    "uni = read_sbml_model(str(ROOT_DIR / \"community_modelling\" / \"GEMs\" / \"bigg_universe.xml\"))\n",
    "\n",
    "MAM3 = k12.copy()\n",
    "\n",
    "############### Knock-outs ###############\n",
    "\n",
    "# # pheA | gene b2599\n",
    "# knock_out_model_genes(MAM3, [\"b2599\"])\n",
    "# # ptsH | b2415\n",
    "# knock_out_model_genes(MAM3, [\"b2415\"])\n",
    "# # ptsI | b2416\n",
    "# knock_out_model_genes(MAM3, [\"b2416\"])\n",
    "# # crr | b2417\n",
    "# knock_out_model_genes(MAM3, [\"b2417\"])\n",
    "# # ydiB | b1692\n",
    "# knock_out_model_genes(MAM3, [\"b1692\"])\n",
    "# # aroE | b3281\n",
    "# knock_out_model_genes(MAM3, [\"b3281\"])\n",
    "\n",
    "#NOTE: might need to knock out more to fully disable glucose uptake / just set glucose transport to 0 or something\n",
    "\n",
    "############### Metabolites ###############\n",
    "\n",
    "print(\"adding metabolites\")\n",
    "\n",
    "#caffeic acid\n",
    "caffeic_acid_c = uni.metabolites.get_by_id(\"34dhcinm_c\")\n",
    "caffeic_acid_c.compartment = 'c'\n",
    "\n",
    "#external caffeic acid\n",
    "caffeic_acid_e = uni.metabolites.get_by_id(\"34dhcinm_e\")\n",
    "caffeic_acid_e.compartment = 'e'\n",
    "\n",
    "#caffeoyl CoA\n",
    "caffcoa_c = uni.metabolites.get_by_id(\"caffcoa_c\")\n",
    "caffcoa_c.compartment = 'c'\n",
    "\n",
    "#3,4-Dihydroxyphenyllactic acid | Salvianic acid A | SAA\n",
    "saa_c = Metabolite(\n",
    "    'saa_c',\n",
    "    formula='C9H10O5',\n",
    "    name='3,4-Dihydroxyphenyllactic acid',\n",
    "    compartment='c')\n",
    "\n",
    "#external 3,4-Dihydroxyphenyllactic acid | Salvianic acid A | SAA\n",
    "saa_e = Metabolite(\n",
    "    'saa_e',\n",
    "    formula='C9H10O5',\n",
    "    name='3,4-Dihydroxyphenyllactic acid',\n",
    "    compartment='e')\n",
    "\n",
    "#rosmarinic acid\n",
    "rosma_c = Metabolite(\n",
    "    'rosma_c',\n",
    "    formula='C18H16O8',\n",
    "    name='Rosmarinic acid',\n",
    "    compartment='c')\n",
    "\n",
    "#external rosmarinic acid\n",
    "rosma_e = Metabolite(\n",
    "    'rosma_e',\n",
    "    formula='C18H16O8',\n",
    "    name='Rosmarinic acid',\n",
    "    compartment='e')\n",
    "\n",
    "#ATP\n",
    "atp_c = k12.metabolites.get_by_id(\"atp_c\")\n",
    "\n",
    "#AMP\n",
    "amp_c = k12.metabolites.get_by_id(\"amp_c\")\n",
    "\n",
    "#Diphosphate\n",
    "ppi_c = k12.metabolites.get_by_id(\"ppi_c\")\n",
    "\n",
    "#CoA\n",
    "coa_c = k12.metabolites.get_by_id(\"coa_c\")\n",
    "\n",
    "############### Reactions ###############\n",
    "\n",
    "print(\"adding reactions\")\n",
    "\n",
    "#caffeic acid transport reaction\n",
    "CAFFAt = Reaction('CAFFAt')\n",
    "CAFFAt.name = 'caffa transport'\n",
    "CAFFAt.subsystem = 'RA module'\n",
    "CAFFAt.lower_bound = -1000  # This is the default\n",
    "CAFFAt.upper_bound = 1000  # This is the default\n",
    "CAFFAt.add_metabolites({\n",
    "    caffeic_acid_c: -1.0,\n",
    "    caffeic_acid_e: 1.0\n",
    "})\n",
    "\n",
    "CAFFCOA = uni.reactions.get_by_id(\"CAFFCOA\")\n",
    "\n",
    "\n",
    "#SAA transport reaction\n",
    "SAAt = Reaction('SAAt')\n",
    "SAAt.name = 'caffa transport'\n",
    "SAAt.subsystem = 'RA module'\n",
    "SAAt.lower_bound = -1000  # This is the default\n",
    "SAAt.upper_bound = 1000  # This is the default\n",
    "SAAt.add_metabolites({\n",
    "    saa_c: -1.0,\n",
    "    saa_e: 1.0\n",
    "})\n",
    "\n",
    "\n",
    "#salvianic acid A + caffeoyl CoA -> Rosmarinic acid\n",
    "RAS = Reaction('RAS')\n",
    "RAS.name = 'rosmarinic acid synthase'\n",
    "RAS.subsystem = 'RA module'\n",
    "RAS.lower_bound = -1000  # This is the default\n",
    "RAS.upper_bound = 1000  # This is the default\n",
    "#Caffeoyl-CoA + 3-(3,4-Dihydroxyphenyl)lactate <=> CoA + Rosmarinate\n",
    "RAS.add_metabolites({\n",
    "    caffcoa_c: -1.0,\n",
    "    saa_c: -1.0,\n",
    "    coa_c: 1.0,\n",
    "    rosma_c: 1.0\n",
    "})\n",
    "#RAS.gene_reaction_rule = '(ras)' #synthetic 4CL gene\n",
    "\n",
    "\n",
    "#RA transport reaction\n",
    "RAt = Reaction('RAt')\n",
    "RAt.name = 'caffa transport'\n",
    "RAt.subsystem = 'RA module'\n",
    "RAt.lower_bound = -1000  # This is the default\n",
    "RAt.upper_bound = 1000  # This is the default\n",
    "RAt.add_metabolites({\n",
    "    rosma_c: -1.0,\n",
    "    rosma_e: 1.0\n",
    "})\n",
    "\n",
    "# add reactions to model\n",
    "MAM3.add_reactions([CAFFAt, CAFFCOA, SAAt, RAS, RAt])\n",
    "\n",
    "#exhange reactions for SA, caffa, and RA\n",
    "\n",
    "#MAM3.metabolites.get_by_id(\"34dhcinm_e\").compartment = 'e' #set compartment to be 'e' rather than 'C_e'\n",
    "\n",
    "MAM3.add_boundary(MAM3.metabolites.get_by_id(\"34dhcinm_e\"), type=\"exchange\")\n",
    "MAM3.add_boundary(MAM3.metabolites.get_by_id(\"saa_e\"), type=\"exchange\")\n",
    "MAM3.add_boundary(MAM3.metabolites.get_by_id(\"rosma_e\"), type=\"exchange\")\n",
    "\n",
    "#so that cell cannot eat rosmarinic acid\n",
    "MAM3.reactions.EX_rosma_e.lower_bound = 0"
   ]
  },
  {
   "cell_type": "code",
   "execution_count": 135,
   "metadata": {},
   "outputs": [
    {
     "data": {
      "text/plain": [
       "[<Reaction SHK3Dr at 0x16242c580>]"
      ]
     },
     "execution_count": 135,
     "metadata": {},
     "output_type": "execute_result"
    }
   ],
   "source": [
    "# # pheA | gene b2599\n",
    "knock_out_model_genes(MAM3, [\"b2599\"])\n",
    "MAM3.reactions.EX_phe__L_e.lower_bound = -10\n",
    "\n",
    "MAM3.reactions.EX_xyl__D_e.lower_bound = -10\n",
    "# # ptsH | b2415\n",
    "knock_out_model_genes(MAM3, [\"b2415\"])\n",
    "# # ptsI | b2416\n",
    "knock_out_model_genes(MAM3, [\"b2416\"])\n",
    "# # crr | b2417\n",
    "knock_out_model_genes(MAM3, [\"b2417\"])\n",
    "# # ydiB | b1692\n",
    "knock_out_model_genes(MAM3, [\"b1692\"])\n",
    "# # \n",
    "knock_out_model_genes(MAM3, [\"b3281\"])"
   ]
  },
  {
   "cell_type": "code",
   "execution_count": 137,
   "metadata": {},
   "outputs": [
    {
     "data": {
      "text/html": [
       "\n",
       "        <table>\n",
       "            <tr>\n",
       "                <td><strong>Gene identifier</strong></td><td>b1692</td>\n",
       "            </tr><tr>\n",
       "                <td><strong>Name</strong></td><td>ydiB</td>\n",
       "            </tr><tr>\n",
       "                <td><strong>Memory address</strong></td>\n",
       "                <td>0x1634fb730</td>\n",
       "            </tr><tr>\n",
       "                <td><strong>Functional</strong></td><td>False</td>\n",
       "            </tr><tr>\n",
       "                <td><strong>In 3 reaction(s)</strong></td><td>\n",
       "                    SHK3Dr, QUINDH, QUINDHyi\n",
       "                    </td>\n",
       "            </tr>\n",
       "        </table>"
      ],
      "text/plain": [
       "<Gene b1692 at 0x1634fb730>"
      ]
     },
     "execution_count": 137,
     "metadata": {},
     "output_type": "execute_result"
    }
   ],
   "source": [
    "MAM3.genes.b1692"
   ]
  },
  {
   "cell_type": "code",
   "execution_count": 144,
   "metadata": {},
   "outputs": [],
   "source": [
    "MAM3.reactions.EX_tyr__L_e = -10\n",
    "MAM3.reactions.EX_thr__L_e = -10"
   ]
  },
  {
   "cell_type": "code",
   "execution_count": 145,
   "metadata": {},
   "outputs": [
    {
     "data": {
      "text/html": [
       "<h3>Objective</h3><p>1.0 BIOMASS_Ec_iML1515_core_75p37M = 0.0</p><h4>Uptake</h4><table border=\"1\" class=\"dataframe\">\n",
       "  <thead>\n",
       "    <tr style=\"text-align: right;\">\n",
       "      <th>Metabolite</th>\n",
       "      <th>Reaction</th>\n",
       "      <th>Flux</th>\n",
       "      <th>C-Number</th>\n",
       "      <th>C-Flux</th>\n",
       "    </tr>\n",
       "  </thead>\n",
       "  <tbody>\n",
       "    <tr>\n",
       "      <td>glc__D_e</td>\n",
       "      <td>EX_glc__D_e</td>\n",
       "      <td>0.2951</td>\n",
       "      <td>6</td>\n",
       "      <td>100.00%</td>\n",
       "    </tr>\n",
       "    <tr>\n",
       "      <td>o2_e</td>\n",
       "      <td>EX_o2_e</td>\n",
       "      <td>1.77</td>\n",
       "      <td>0</td>\n",
       "      <td>0.00%</td>\n",
       "    </tr>\n",
       "  </tbody>\n",
       "</table><h4>Secretion</h4><table border=\"1\" class=\"dataframe\">\n",
       "  <thead>\n",
       "    <tr style=\"text-align: right;\">\n",
       "      <th>Metabolite</th>\n",
       "      <th>Reaction</th>\n",
       "      <th>Flux</th>\n",
       "      <th>C-Number</th>\n",
       "      <th>C-Flux</th>\n",
       "    </tr>\n",
       "  </thead>\n",
       "  <tbody>\n",
       "    <tr>\n",
       "      <td>co2_e</td>\n",
       "      <td>EX_co2_e</td>\n",
       "      <td>-1.77</td>\n",
       "      <td>1</td>\n",
       "      <td>100.00%</td>\n",
       "    </tr>\n",
       "    <tr>\n",
       "      <td>h2o_e</td>\n",
       "      <td>EX_h2o_e</td>\n",
       "      <td>-1.77</td>\n",
       "      <td>0</td>\n",
       "      <td>0.00%</td>\n",
       "    </tr>\n",
       "  </tbody>\n",
       "</table>"
      ],
      "text/plain": [
       "<cobra.summary.model_summary.ModelSummary at 0x12f1639a0>"
      ]
     },
     "execution_count": 145,
     "metadata": {},
     "output_type": "execute_result"
    }
   ],
   "source": [
    "MAM3.summary()"
   ]
  },
  {
   "cell_type": "code",
   "execution_count": 138,
   "metadata": {},
   "outputs": [
    {
     "data": {
      "text/html": [
       "\n",
       "        <table>\n",
       "            <tr>\n",
       "                <td><strong>Gene identifier</strong></td><td>b3281</td>\n",
       "            </tr><tr>\n",
       "                <td><strong>Name</strong></td><td>aroE</td>\n",
       "            </tr><tr>\n",
       "                <td><strong>Memory address</strong></td>\n",
       "                <td>0x1634fb850</td>\n",
       "            </tr><tr>\n",
       "                <td><strong>Functional</strong></td><td>False</td>\n",
       "            </tr><tr>\n",
       "                <td><strong>In 1 reaction(s)</strong></td><td>\n",
       "                    SHK3Dr\n",
       "                    </td>\n",
       "            </tr>\n",
       "        </table>"
      ],
      "text/plain": [
       "<Gene b3281 at 0x1634fb850>"
      ]
     },
     "execution_count": 138,
     "metadata": {},
     "output_type": "execute_result"
    }
   ],
   "source": [
    "MAM3.genes.b3281"
   ]
  },
  {
   "cell_type": "code",
   "execution_count": 136,
   "metadata": {},
   "outputs": [
    {
     "data": {
      "text/html": [
       "<h3>Objective</h3><p>1.0 BIOMASS_Ec_iML1515_core_75p37M = 0.0</p><h4>Uptake</h4><table border=\"1\" class=\"dataframe\">\n",
       "  <thead>\n",
       "    <tr style=\"text-align: right;\">\n",
       "      <th>Metabolite</th>\n",
       "      <th>Reaction</th>\n",
       "      <th>Flux</th>\n",
       "      <th>C-Number</th>\n",
       "      <th>C-Flux</th>\n",
       "    </tr>\n",
       "  </thead>\n",
       "  <tbody>\n",
       "    <tr>\n",
       "      <td>glc__D_e</td>\n",
       "      <td>EX_glc__D_e</td>\n",
       "      <td>0.2951</td>\n",
       "      <td>6</td>\n",
       "      <td>100.00%</td>\n",
       "    </tr>\n",
       "    <tr>\n",
       "      <td>o2_e</td>\n",
       "      <td>EX_o2_e</td>\n",
       "      <td>1.77</td>\n",
       "      <td>0</td>\n",
       "      <td>0.00%</td>\n",
       "    </tr>\n",
       "  </tbody>\n",
       "</table><h4>Secretion</h4><table border=\"1\" class=\"dataframe\">\n",
       "  <thead>\n",
       "    <tr style=\"text-align: right;\">\n",
       "      <th>Metabolite</th>\n",
       "      <th>Reaction</th>\n",
       "      <th>Flux</th>\n",
       "      <th>C-Number</th>\n",
       "      <th>C-Flux</th>\n",
       "    </tr>\n",
       "  </thead>\n",
       "  <tbody>\n",
       "    <tr>\n",
       "      <td>co2_e</td>\n",
       "      <td>EX_co2_e</td>\n",
       "      <td>-1.77</td>\n",
       "      <td>1</td>\n",
       "      <td>100.00%</td>\n",
       "    </tr>\n",
       "    <tr>\n",
       "      <td>h2o_e</td>\n",
       "      <td>EX_h2o_e</td>\n",
       "      <td>-1.77</td>\n",
       "      <td>0</td>\n",
       "      <td>0.00%</td>\n",
       "    </tr>\n",
       "  </tbody>\n",
       "</table>"
      ],
      "text/plain": [
       "<cobra.summary.model_summary.ModelSummary at 0x12956bcd0>"
      ]
     },
     "execution_count": 136,
     "metadata": {},
     "output_type": "execute_result"
    }
   ],
   "source": [
    "    # ydiB | b1692\n",
    "    knock_out_model_genes(MAM3, [\"b1692\"])\n",
    "    # aroE | b3281\n",
    "    knock_out_model_genes(MAM3, [\"b3281\"])"
   ]
  },
  {
   "cell_type": "code",
   "execution_count": null,
   "metadata": {},
   "outputs": [],
   "source": []
  }
 ],
 "metadata": {
  "kernelspec": {
   "display_name": "venv",
   "language": "python",
   "name": "python3"
  },
  "language_info": {
   "codemirror_mode": {
    "name": "ipython",
    "version": 3
   },
   "file_extension": ".py",
   "mimetype": "text/x-python",
   "name": "python",
   "nbconvert_exporter": "python",
   "pygments_lexer": "ipython3",
   "version": "3.10.7"
  },
  "orig_nbformat": 4
 },
 "nbformat": 4,
 "nbformat_minor": 2
}
