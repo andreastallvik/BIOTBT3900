{
 "cells": [
  {
   "cell_type": "code",
   "execution_count": 1,
   "metadata": {},
   "outputs": [],
   "source": [
    "from reframed import Community, Environment\n",
    "from reframed import load_cbmodel, FBA, plot_flux_envelope"
   ]
  },
  {
   "cell_type": "code",
   "execution_count": 22,
   "metadata": {},
   "outputs": [],
   "source": [
    "# CAL2 = load_cbmodel('../GEMs/CAL2.xml')\n",
    "# SAL9 = load_cbmodel('../GEMs/SAL9.xml')\n",
    "# MAM2 = load_cbmodel('../GEMs/MAM2.xml')\n",
    "\n",
    "CAL2 = load_cbmodel('../GEMs/CAL2.xml', flavor='bigg')\n",
    "SAL9 = load_cbmodel('../GEMs/SAL9.xml', flavor='bigg')\n",
    "MAM2 = load_cbmodel('../GEMs/MAM2.xml', flavor='bigg')\n",
    "\n",
    "community = Community('RA_community', [CAL2, SAL9, MAM2]).merge_models()"
   ]
  },
  {
   "cell_type": "code",
   "execution_count": 23,
   "metadata": {},
   "outputs": [],
   "source": [
    "# get all the reactions in the merged model\n",
    "complete_environment = Environment.empty(community)\n",
    "\n",
    "# get the environment from the CAL2 model (random choice - it is the same for all 3 models)\n",
    "cal_medium = Environment.from_model(CAL2)\n",
    "\n",
    "# update the complete_environment to include env from CAL2 model\n",
    "uptake_reactions = [reaction for reaction in cal_medium if cal_medium[reaction][0] < 0]\n",
    "for reaction in uptake_reactions:\n",
    "    complete_environment.update({reaction: (-10.0, float(\"inf\"))})"
   ]
  },
  {
   "cell_type": "code",
   "execution_count": 14,
   "metadata": {},
   "outputs": [],
   "source": [
    "# or ...\n",
    "# Environment.from_model(CAL2).apply(community, exclusive=True, inplace=True)"
   ]
  },
  {
   "cell_type": "code",
   "execution_count": 24,
   "metadata": {},
   "outputs": [
    {
     "name": "stdout",
     "output_type": "stream",
     "text": [
      "Objective: 0.48163382182234615\n",
      "Status: Optimal\n",
      "\n",
      "R_EX_co2_e    6.94441\n",
      "R_EX_ca2_e   -0.00250697\n",
      "R_EX_cu2_e   -0.000341366\n",
      "R_EX_zn2_e   -0.000164207\n",
      "R_EX_cobalt2_e -1.2117e-05\n",
      "R_EX_ac_e     13.0494\n",
      "R_EX_k_e     -0.0940114\n",
      "R_EX_fe2_e   -0.00397556\n",
      "R_EX_mn2_e   -0.000333009\n",
      "R_EX_h_e      25.3798\n",
      "R_EX_mg2_e   -0.00417828\n",
      "R_EX_so4_e   -0.121286\n",
      "R_EX_glc__D_e -10\n",
      "R_EX_mobd_e  -3.34263e-06\n",
      "R_EX_nh4_e   -5.112\n",
      "R_EX_o2_e    -10\n",
      "R_EX_cl_e    -0.00250697\n",
      "R_EX_ni2_e   -0.000155432\n",
      "R_EX_pi_e    -0.464316\n",
      "R_EX_fe3_e   -0.00376046\n",
      "R_EX_meoh_e   9.63268e-07\n",
      "R_EX_phe__L_e -0.0892299\n",
      "R_EX_h2o_e    19.1297\n",
      "R_EX_for_e    7.9906\n"
     ]
    }
   ],
   "source": [
    "solution = FBA(community, constraints=complete_environment, objective=community.biomass_reaction)\n",
    "\n",
    "print(solution)\n",
    "solution.show_values(pattern='R_EX')"
   ]
  },
  {
   "cell_type": "code",
   "execution_count": 5,
   "metadata": {},
   "outputs": [
    {
     "name": "stdout",
     "output_type": "stream",
     "text": [
      "Objective: 36.35887127800478\n",
      "Status: Optimal\n",
      "\n",
      "R_EX_co2_e    1316.36\n",
      "R_EX_akg_e   -10\n",
      "R_EX_gsn_e   -10\n",
      "R_EX_anhgm_e -10\n",
      "R_EX_dms_e    10\n",
      "R_EX_galctn__L_e -10\n",
      "R_EX_btn_e   -7.27177e-05\n",
      "R_EX_acmum_e -10\n",
      "R_EX_gln__L_e -10\n",
      "R_EX_tre_e   -10\n",
      "R_EX_idon__L_e -10\n",
      "R_EX_all__D_e -10\n",
      "R_EX_ca2_e   -0.189253\n",
      "R_EX_g1p_e   -10\n",
      "R_EX_no2_e   -10\n",
      "R_EX_g6p_e   -10\n",
      "R_EX_thrp_e  -10\n",
      "R_EX_LalaLglu_e -10\n",
      "R_EX_metsox_R__L_e -5.59596\n",
      "R_EX_g3pe_e  -10\n",
      "R_EX_ade_e    52.5703\n",
      "R_EX_rmn_e   -10\n",
      "R_EX_2ddglcn_e -10\n",
      "R_EX_glcr_e  -10\n",
      "R_EX_alltn_e -10\n",
      "R_EX_f6p_e   -10\n",
      "R_EX_cu2_e   -0.0257699\n",
      "R_EX_zn2_e   -0.0123961\n",
      "R_EX_ura_e    167.973\n",
      "R_EX_lys__L_e  7.52305\n",
      "R_EX_gmp_e   -10\n",
      "R_EX_cobalt2_e -0.000914723\n",
      "R_EX_tma_e    10\n",
      "R_EX_lyx__L_e -10\n",
      "R_EX_cellb_e -10\n",
      "R_EX_sbt__D_e -10\n",
      "R_EX_arg__L_e -10\n",
      "R_EX_dgsn_e  -10\n",
      "R_EX_fru_e   -10\n",
      "R_EX_pyr_e   -10\n",
      "R_EX_malttr_e -10\n",
      "R_EX_val__L_e  374.522\n",
      "R_EX_dcmp_e  -10\n",
      "R_EX_dgmp_e  -10\n",
      "R_EX_23ccmp_e -10\n",
      "R_EX_dmso_e  -10\n",
      "R_EX_udpg_e  -10\n",
      "R_EX_acgal_e -10\n",
      "R_EX_thymd_e -10\n",
      "R_EX_ac_e     285.006\n",
      "R_EX_k_e     -7.09699\n",
      "R_EX_etoh_e  -10\n",
      "R_EX_pro__L_e -8.0373\n",
      "R_EX_xmp_e   -10\n",
      "R_EX_gam6p_e -10\n",
      "R_EX_glcur1p_e -10\n",
      "R_EX_gal_e   -10\n",
      "R_EX_dha_e   -10\n",
      "R_EX_gal_bD_e -10\n",
      "R_EX_cit_e   -10\n",
      "R_EX_leu__L_e -10\n",
      "R_EX_ala__D_e  0.505185\n",
      "R_EX_fe2_e    9.416\n",
      "R_EX_galt_e  -10\n",
      "R_EX_5dglcn_e -10\n",
      "R_EX_cynt_e  -10\n",
      "R_EX_4abzglu_e -0.0243604\n",
      "R_EX_gam_e   -10\n",
      "R_EX_acmana_e -10\n",
      "R_EX_ascb__L_e -10\n",
      "R_EX_malt_e  -10\n",
      "R_EX_mn2_e   -0.0251391\n",
      "R_EX_23dappa_e -10\n",
      "R_EX_sq_e    -10\n",
      "R_EX_man_e   -10\n",
      "R_EX_dcyt_e  -10\n",
      "R_EX_nmn_e   -0.0828255\n",
      "R_EX_man6p_e -10\n",
      "R_EX_h_e      1233.18\n",
      "R_EX_asn__L_e -10\n",
      "R_EX_lcts_e  -10\n",
      "R_EX_udpglcur_e -10\n",
      "R_EX_metglcur_e -10\n",
      "R_EX_adn_e   -10\n",
      "R_EX_fe3dcit_e -10\n",
      "R_EX_lac__D_e  839.843\n",
      "R_EX_damp_e  -10\n",
      "R_EX_ser__D_e -10\n",
      "R_EX_amp_e   -10\n",
      "R_EX_arab__L_e -10\n",
      "R_EX_LalaDgluMdap_e -1.01037\n",
      "R_EX_chol_e   10\n",
      "R_EX_gly_e   -10\n",
      "R_EX_tmao_e  -10\n",
      "R_EX_lipa_e  -10\n",
      "R_EX_glyc_e  -10\n",
      "R_EX_dad_2_e -10\n",
      "R_EX_tartr__L_e -10\n",
      "R_EX_thym_e   20\n",
      "R_EX_dtmp_e  -10\n",
      "R_EX_thm_e   -0.00812015\n",
      "R_EX_glyald_e -10\n",
      "R_EX_indole_e  7.93327\n",
      "R_EX_mg2_e   -0.315422\n",
      "R_EX_mththf_e  0.0162403\n",
      "R_EX_g3pg_e  -10\n",
      "R_EX_so4_e   -9.40303\n",
      "R_EX_orn_e   -10\n",
      "R_EX_glu__L_e -10\n",
      "R_EX_manglyc_e -10\n",
      "R_EX_halipa_e  10\n",
      "R_EX_r5p_e   -10\n",
      "R_EX_dxylnt_e -10\n",
      "R_EX_tartr__D_e -10\n",
      "R_EX_ile__L_e -1.10434\n",
      "R_EX_his__L_e -3.44456\n",
      "R_EX_hxan_e   40\n",
      "R_EX_h2s_e    25.8513\n",
      "R_EX_tyr__L_e  34.9863\n",
      "R_EX_acac_e  -10\n",
      "R_EX_glyc3p_e -10\n",
      "R_EX_g3ps_e  -10\n",
      "R_EX_inost_e  10\n",
      "R_EX_cytd_e  -10\n",
      "R_EX_tcynt_e  10\n",
      "R_EX_12ppd__S_e  20\n",
      "R_EX_xan_e    81.1545\n",
      "R_EX_uacgam_e -10\n",
      "R_EX_fruur_e -10\n",
      "R_EX_kdo2lipid4_e -0.707404\n",
      "R_EX_dump_e  -10\n",
      "R_EX_imp_e   -10\n",
      "R_EX_gal1p_e -10\n",
      "R_EX_xyl__D_e -10\n",
      "R_EX_galctn__D_e -10\n",
      "R_EX_glc__D_e -10\n",
      "R_EX_mobd_e  -0.000252337\n",
      "R_EX_g3pi_e  -10\n",
      "R_EX_nh4_e   -10\n",
      "R_EX_g3pc_e  -10\n",
      "R_EX_hdca_e  -10\n",
      "R_EX_o2_e    -10\n",
      "R_EX_succ_e   113.201\n",
      "R_EX_ser__L_e -10\n",
      "R_EX_xtsn_e  -10\n",
      "R_EX_ins_e   -10\n",
      "R_EX_cl_e    -0.189253\n",
      "R_EX_3gmp_e  -10\n",
      "R_EX_acgam_e -10\n",
      "R_EX_no3_e   -10\n",
      "R_EX_pnto__R_e -0.0245132\n",
      "R_EX_glcn_e  -10\n",
      "R_EX_duri_e  -10\n",
      "R_EX_acnam_e -10\n",
      "R_EX_cgly_e  -10\n",
      "R_EX_ump_e   -10\n",
      "R_EX_ni2_e   -0.0117337\n",
      "R_EX_o2s_e   -10\n",
      "R_EX_udpgal_e -10\n",
      "R_EX_glyc2p_e -10\n",
      "R_EX_xylu__L_e -10\n",
      "R_EX_pydx_e  -0.00812015\n",
      "R_EX_gua_e   -10\n",
      "R_EX_glyc__R_e -10\n",
      "R_EX_cyan_e  -10\n",
      "R_EX_fuc__L_e -10\n",
      "R_EX_tsul_e  -10\n",
      "R_EX_3cmp_e  -10\n",
      "R_EX_ptrc_e   9.24532\n",
      "R_EX_hxa_e    279.356\n",
      "R_EX_acgal1p_e -10\n",
      "R_EX_malthx_e -10\n",
      "R_EX_dimp_e  -10\n",
      "R_EX_3ump_e  -10\n",
      "R_EX_psclys_e -10\n",
      "R_EX_quin_e  -0.00812015\n",
      "R_EX_psuri_e -10\n",
      "R_EX_gthrd_e -10\n",
      "R_EX_so3_e    10\n",
      "R_EX_frulys_e -10\n",
      "R_EX_cmp_e   -10\n",
      "R_EX_pi_e     456.446\n",
      "R_EX_3amp_e  -10\n",
      "R_EX_14glucan_e -10\n",
      "R_EX_asp__L_e -10\n",
      "R_EX_thr__L_e -10\n",
      "R_EX_maltpt_e -10\n",
      "R_EX_no_e    -10\n",
      "R_EX_meoh_e   10\n",
      "R_EX_melib_e -10\n",
      "R_EX_etha_e  -10\n",
      "R_EX_maltttr_e -10\n",
      "R_EX_glcur_e -10\n",
      "R_EX_acgam1p_e -10\n",
      "R_EX_LalaDglu_e -10\n",
      "R_EX_mal__L_e -10\n",
      "R_EX_phe__L_e -6.73602\n",
      "R_EX_fum_e   -10\n",
      "R_EX_acald_e -10\n",
      "R_EX_udpacgal_e -10\n",
      "R_EX_23cgmp_e -10\n",
      "R_EX_pser__L_e -10\n",
      "R_EX_h2o_e   -10\n",
      "R_EX_rib__D_e -10\n",
      "R_EX_uri_e   -10\n",
      "R_EX_trp__L_e -10\n",
      "R_EX_din_e   -10\n",
      "R_EX_galct__D_e -10\n",
      "R_EX_galur_e -10\n",
      "R_EX_23camp_e -10\n",
      "R_EX_dhps_e   10\n",
      "R_EX_mnl_e   -10\n",
      "R_EX_for_e    0.0730813\n",
      "R_EX_h2o2_e   5\n",
      "R_EX_23cump_e -10\n",
      "R_EX_34dhcinm_e -10\n",
      "R_EX_arab__D_e -10\n",
      "R_EX_glx_e   -10\n",
      "R_EX_saa_e   -10\n",
      "R_EX_rosma_e -10\n"
     ]
    }
   ],
   "source": [
    "# NOTE: with a complete environment (-10 uptake restraint for every exhange reaction) then there is growth\n",
    "\n",
    "solution = FBA(community, constraints=Environment.complete(community), objective=community.biomass_reaction)\n",
    "\n",
    "print(solution)\n",
    "solution.show_values(pattern='R_EX')"
   ]
  },
  {
   "cell_type": "markdown",
   "metadata": {},
   "source": [
    "FBA of individual models:"
   ]
  },
  {
   "cell_type": "code",
   "execution_count": 8,
   "metadata": {},
   "outputs": [
    {
     "data": {
      "text/plain": [
       "Objective: 0.538239181440669\n",
       "Status: Optimal"
      ]
     },
     "execution_count": 8,
     "metadata": {},
     "output_type": "execute_result"
    }
   ],
   "source": [
    "FBA(CAL2, constraints=complete_environment, objective=CAL2.biomass_reaction)"
   ]
  },
  {
   "cell_type": "code",
   "execution_count": 10,
   "metadata": {},
   "outputs": [
    {
     "data": {
      "text/plain": [
       "Objective: 0.5382391814406666\n",
       "Status: Optimal"
      ]
     },
     "execution_count": 10,
     "metadata": {},
     "output_type": "execute_result"
    }
   ],
   "source": [
    "FBA(MAM2, constraints=complete_environment, objective=MAM2.biomass_reaction)"
   ]
  },
  {
   "cell_type": "code",
   "execution_count": 12,
   "metadata": {},
   "outputs": [
    {
     "data": {
      "text/plain": [
       "Objective: 0.6109239027341618\n",
       "Status: Optimal"
      ]
     },
     "execution_count": 12,
     "metadata": {},
     "output_type": "execute_result"
    }
   ],
   "source": [
    "FBA(SAL9, constraints=complete_environment, objective=SAL9.biomass_reaction)"
   ]
  },
  {
   "cell_type": "markdown",
   "metadata": {},
   "source": [
    "troubleshooting"
   ]
  },
  {
   "cell_type": "code",
   "execution_count": 5,
   "metadata": {},
   "outputs": [
    {
     "name": "stdout",
     "output_type": "stream",
     "text": [
      "Metabolites:\n",
      "c 1073\n",
      "e 342\n",
      "p 465\n",
      "\n",
      "Reactions:\n",
      "enzymatic 1488\n",
      "transport 834\n",
      "exchange 338\n",
      "sink 0\n",
      "other 56\n"
     ]
    }
   ],
   "source": [
    "CAL2.summary()"
   ]
  },
  {
   "cell_type": "code",
   "execution_count": 10,
   "metadata": {},
   "outputs": [
    {
     "name": "stderr",
     "output_type": "stream",
     "text": [
      "/Users/andreastallvik/Projects/BIOTBT3900/venv/lib/python3.10/site-packages/reframed/core/environment.py:75: UserWarning: Exchange reaction not in model: R_DM_amob_c\n",
      "  warn(f'Exchange reaction not in model: {r_id}')\n",
      "/Users/andreastallvik/Projects/BIOTBT3900/venv/lib/python3.10/site-packages/reframed/core/environment.py:75: UserWarning: Exchange reaction not in model: R_DM_5drib_c\n",
      "  warn(f'Exchange reaction not in model: {r_id}')\n",
      "/Users/andreastallvik/Projects/BIOTBT3900/venv/lib/python3.10/site-packages/reframed/core/environment.py:75: UserWarning: Exchange reaction not in model: R_DM_oxam_c\n",
      "  warn(f'Exchange reaction not in model: {r_id}')\n",
      "/Users/andreastallvik/Projects/BIOTBT3900/venv/lib/python3.10/site-packages/reframed/core/environment.py:75: UserWarning: Exchange reaction not in model: R_DM_aacald_c\n",
      "  warn(f'Exchange reaction not in model: {r_id}')\n",
      "/Users/andreastallvik/Projects/BIOTBT3900/venv/lib/python3.10/site-packages/reframed/core/environment.py:75: UserWarning: Exchange reaction not in model: R_DM_4crsol_c\n",
      "  warn(f'Exchange reaction not in model: {r_id}')\n",
      "/Users/andreastallvik/Projects/BIOTBT3900/venv/lib/python3.10/site-packages/reframed/core/environment.py:75: UserWarning: Exchange reaction not in model: R_DM_mththf_c\n",
      "  warn(f'Exchange reaction not in model: {r_id}')\n"
     ]
    }
   ],
   "source": [
    "Environment.from_model(CAL2).apply(community, exclusive=True, inplace=True)\n",
    "sol = FBA(community)"
   ]
  },
  {
   "cell_type": "code",
   "execution_count": 11,
   "metadata": {},
   "outputs": [
    {
     "data": {
      "text/plain": [
       "Objective: 0.0\n",
       "Status: Optimal"
      ]
     },
     "execution_count": 11,
     "metadata": {},
     "output_type": "execute_result"
    }
   ],
   "source": [
    "sol"
   ]
  },
  {
   "cell_type": "code",
   "execution_count": null,
   "metadata": {},
   "outputs": [],
   "source": [
    "# get all the reactions in the merged model\n",
    "complete_environment = Environment.empty(community)\n",
    "\n",
    "# get the environment from the CAL2 model (random choice - it is the same for all 3 models)\n",
    "cal_medium = Environment.from_model(CAL2)\n",
    "\n",
    "# update the complete_environment to include env from CAL2 model\n",
    "uptake_reactions = [reaction for reaction in cal_medium if cal_medium[reaction][0] < 0]\n",
    "for reaction in uptake_reactions:\n",
    "    complete_environment.update({reaction: (-10.0, float(\"inf\"))})"
   ]
  }
 ],
 "metadata": {
  "kernelspec": {
   "display_name": "venv",
   "language": "python",
   "name": "python3"
  },
  "language_info": {
   "codemirror_mode": {
    "name": "ipython",
    "version": 3
   },
   "file_extension": ".py",
   "mimetype": "text/x-python",
   "name": "python",
   "nbconvert_exporter": "python",
   "pygments_lexer": "ipython3",
   "version": "3.10.7"
  },
  "orig_nbformat": 4
 },
 "nbformat": 4,
 "nbformat_minor": 2
}
