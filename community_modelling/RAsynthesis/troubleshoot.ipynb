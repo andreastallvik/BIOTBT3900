{
 "cells": [
  {
   "cell_type": "markdown",
   "metadata": {},
   "source": [
    "to troubleshoot the new attempted objective situation - dig into:\n",
    "- does the new flux constraint make sense?\n",
    "    - I don't think it does - sent message to Daniel to ask for clarification.\n",
    "- does the the objectvie from cobrapy carry over into comets?\n",
    "    - It does not seem like it does - honestly what?? I don't understand how the objective function is picked when the cobrapy model is converted to comets.\n",
    "- is it possible to get RA and biomass at the same time in an environment with lots of SA/CA? (try with static sim.)\n",
    "    - Is possible with static sim!"
   ]
  },
  {
   "cell_type": "code",
   "execution_count": 1,
   "metadata": {},
   "outputs": [
    {
     "name": "stdout",
     "output_type": "stream",
     "text": [
      "CA yield 0.11827464690243904 g CA per g xylose\n",
      "SAA yield 0.04310857623772063 g SAA per g glucose\n",
      "RA yield 0.22317273168831167 g RA per g xylose\n"
     ]
    }
   ],
   "source": [
    "import pandas as pd\n",
    "import functions.data_analysis as data_analysis\n",
    "\n",
    "# read data\n",
    "relative_abundance_df = pd.read_csv(\"exp_data/subpop_data_xyl_glc.csv\")\n",
    "products_df = pd.read_csv(\"exp_data/conc_data_xyl_glc.csv\")\n",
    "od600_df = pd.read_csv(\"exp_data/od600_xyl_glc.csv\")\n",
    "\n",
    "subpop_df, conc_df, OD_df = data_analysis.process_data(relative_abundance_df, products_df, od600_df)\n",
    "\n",
    "growth_curves = data_analysis.get_growth_curves(OD_df, subpop_df, [\"CAL11\", \"SAL11\", \"MAM3\"])\n",
    "\n",
    "CA_yield, SAA_yield, RA_yield = data_analysis.get_yields_glc_xyl(conc_df)"
   ]
  },
  {
   "cell_type": "code",
   "execution_count": 36,
   "metadata": {},
   "outputs": [],
   "source": [
    "## 19. nov - new flux coupling constraints.\n",
    "\n",
    "from cobra.io import read_sbml_model\n",
    "from functions.modify_GEM import add_ratio_constraint_cobra\n",
    "\n",
    "# ----- read cobrapy models -----\n",
    "\n",
    "CAL11_cobra = read_sbml_model(\"GEMs/CAL11.xml\")\n",
    "SAL11_cobra = read_sbml_model(\"GEMs/SAL11.xml\")\n",
    "MAM3_cobra = read_sbml_model(\"GEMs/MAM3.xml\")\n",
    "\n",
    "# flux coupling constraint:  production of RA / uptake of CA (or SA) = measured yield\n",
    "\n",
    "# knock out GLCtex_copy1 in SAL9, just so I have one less thing to worry about...\n",
    "SAL11_cobra.reactions.get_by_id(\"GLCtex_copy1\").bounds = (0.0, 0.0)\n",
    "\n",
    "add_ratio_constraint_cobra(CAL11_cobra, \"34DHCINMt\", \"XYLtex\", CA_yield);\n",
    "add_ratio_constraint_cobra(SAL11_cobra, \"SAAt\", \"GLCtex_copy2\", SAA_yield);\n",
    "#add_ratio_constraint_cobra(MAM3_cobra, \"RAt\", \"SAAt\", RA_yield);\n",
    "\n",
    "# model objective function:  biomass + production of RA\n",
    "# new_objective = MAM3_cobra.problem.Objective(\n",
    "#     MAM3_cobra.reactions.RAt.flux_expression, \n",
    "#     #+ MAM3_cobra.reactions.BIOMASS_Ec_iML1515_core_75p37M.flux_expression,\n",
    "#     direction='max'\n",
    "# )\n",
    "#\n",
    "# MAM3_cobra.objective = new_objective\n",
    "\n",
    "MAM3_cobra.objective = {MAM3_cobra.reactions.RAt: 1.0, MAM3_cobra.reactions.BIOMASS_Ec_iML1515_core_75p37M: 1.0}"
   ]
  },
  {
   "cell_type": "code",
   "execution_count": 41,
   "metadata": {},
   "outputs": [
    {
     "data": {
      "text/latex": [
       "$\\displaystyle 1.0 \\cdot BIOMASS_{Ec iML1515 core 75p37M} - 1.0 \\cdot BIOMASS_{Ec iML1515 core 75p37M reverse 35685} + 1.0 \\cdot RAt - 1.0 \\cdot RAt_{reverse 6b5d8}$"
      ],
      "text/plain": [
       "1.0*BIOMASS_Ec_iML1515_core_75p37M - 1.0*BIOMASS_Ec_iML1515_core_75p37M_reverse_35685 + 1.0*RAt - 1.0*RAt_reverse_6b5d8"
      ]
     },
     "execution_count": 41,
     "metadata": {},
     "output_type": "execute_result"
    }
   ],
   "source": [
    "MAM3_cobra.objective.expression"
   ]
  },
  {
   "cell_type": "code",
   "execution_count": 39,
   "metadata": {},
   "outputs": [],
   "source": [
    "MAM3_cobra.reactions.EX_saa_e.lower_bound = -10\n",
    "MAM3_cobra.reactions.EX_34dhcinm_e = -10"
   ]
  },
  {
   "cell_type": "code",
   "execution_count": 40,
   "metadata": {},
   "outputs": [
    {
     "name": "stdout",
     "output_type": "stream",
     "text": [
      "0.6512966359521546\n",
      "10.0\n"
     ]
    }
   ],
   "source": [
    "solution = MAM3_cobra.optimize()\n",
    "print(solution[\"BIOMASS_Ec_iML1515_core_75p37M\"])\n",
    "print(solution[\"EX_rosma_e\"])"
   ]
  },
  {
   "cell_type": "code",
   "execution_count": 25,
   "metadata": {},
   "outputs": [],
   "source": [
    "import cometspy as c\n",
    "\n",
    "initial_pop_ratio =(2, 1, 1)\n",
    "glc_xyl_mmol = (1.67, 1.33)\n",
    "initial_pop=3.9e-3\n",
    "\n",
    "# in order to equal the playing field between BL21 and K12 derived models:\n",
    "\n",
    "# adjust the biomass reaction\n",
    "SAL11_cobra.reactions.get_by_id(\"BIOMASS_Ec_iHK1487_core\").add_metabolites({\"atp_c\":-75.55223}, combine=False)\n",
    "SAL11_cobra.reactions.get_by_id(\"BIOMASS_Ec_iHK1487_core\").add_metabolites({\"h_c\":75.377230}, combine=False)\n",
    "SAL11_cobra.reactions.get_by_id(\"BIOMASS_Ec_iHK1487_core\").add_metabolites({\"adp_c\":75.377230}, combine=False)\n",
    "SAL11_cobra.reactions.get_by_id(\"BIOMASS_Ec_iHK1487_core\").add_metabolites({\"pi_c\":75.373230}, combine=False)\n",
    "SAL11_cobra.reactions.get_by_id(\"BIOMASS_Ec_iHK1487_core\").add_metabolites({\"h2o_c\":-70.028756}, combine=False)\n",
    "\n",
    "# adjust the ATP maintanance requrenment\n",
    "SAL11_cobra.reactions.ATPM.lower_bound = 6.86 \n",
    "\n",
    "# make comets models\n",
    "cal11_c = c.model(CAL11_cobra)\n",
    "sal11_c = c.model(SAL11_cobra)\n",
    "mam3_c = c.model(MAM3_cobra)\n",
    "\n",
    "cal11_c.initial_pop = [0,0,initial_pop*initial_pop_ratio[0]]\n",
    "sal11_c.initial_pop = [0,0,initial_pop*initial_pop_ratio[1]]\n",
    "mam3_c.initial_pop = [0,0,initial_pop*initial_pop_ratio[2]]\n",
    "\n",
    "# open the exhange reactions\n",
    "cal11_c.open_exchanges()\n",
    "sal11_c.open_exchanges()\n",
    "mam3_c.open_exchanges()"
   ]
  },
  {
   "cell_type": "code",
   "execution_count": 28,
   "metadata": {},
   "outputs": [
    {
     "data": {
      "text/plain": [
       "'BIOMASS_Ec_iML1515_WT_75p37M'"
      ]
     },
     "execution_count": 28,
     "metadata": {},
     "output_type": "execute_result"
    }
   ],
   "source": [
    "mam3_c.get_reaction_names()[mam3_c.objective]"
   ]
  },
  {
   "cell_type": "code",
   "execution_count": null,
   "metadata": {},
   "outputs": [],
   "source": []
  }
 ],
 "metadata": {
  "kernelspec": {
   "display_name": "venv",
   "language": "python",
   "name": "python3"
  },
  "language_info": {
   "codemirror_mode": {
    "name": "ipython",
    "version": 3
   },
   "file_extension": ".py",
   "mimetype": "text/x-python",
   "name": "python",
   "nbconvert_exporter": "python",
   "pygments_lexer": "ipython3",
   "version": "3.10.7"
  }
 },
 "nbformat": 4,
 "nbformat_minor": 2
}
