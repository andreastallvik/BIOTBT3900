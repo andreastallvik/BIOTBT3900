{
 "cells": [
  {
   "cell_type": "markdown",
   "metadata": {},
   "source": [
    "## Steady-state simulation"
   ]
  },
  {
   "cell_type": "code",
   "execution_count": 5,
   "metadata": {},
   "outputs": [
    {
     "name": "stderr",
     "output_type": "stream",
     "text": [
      "/Users/andreastallvik/Projects/BIOTBT3900/venv/lib/python3.10/site-packages/reframed/core/environment.py:75: UserWarning: Exchange reaction not in model: R_EX_34dhcinm_e\n",
      "  warn(f'Exchange reaction not in model: {r_id}')\n"
     ]
    }
   ],
   "source": [
    "from reframed import Community, Environment\n",
    "from reframed import load_cbmodel, FBA, plot_flux_envelope\n",
    "\n",
    "# load model\n",
    "MRA = load_cbmodel(\"../GEMs/MRA.xml\", flavor=\"bigg\")\n",
    "\n",
    "# impose constraints on SALA reactions so that the model cannot go crazy with the loop\n",
    "MRA.reactions.R_HPPHD.set_flux_bounds(0, float(\"inf\"))\n",
    "MRA.reactions.R_DHPPSA.set_flux_bounds(0, float(\"inf\"))\n",
    "MRA.reactions.R_DLDH.set_flux_bounds(float(\"-inf\"), 0)\n",
    "MRA.reactions.R_HPLSA.set_flux_bounds(0, float(\"inf\"))\n",
    "\n",
    "# build \"community\"\n",
    "community = Community('RA_community', [MRA])\n",
    "merged_community = community.merge_models()\n",
    "\n",
    "# get medium\n",
    "CAL2 = load_cbmodel(\"../GEMs/CAL2.xml\", flavor=\"bigg\")\n",
    "medium = Environment.from_model(CAL2).apply(merged_community, exclusive=True, inplace=False)"
   ]
  },
  {
   "cell_type": "code",
   "execution_count": 6,
   "metadata": {},
   "outputs": [
    {
     "name": "stdout",
     "output_type": "stream",
     "text": [
      "RA production rate:  0.0013122903878769188\n"
     ]
    }
   ],
   "source": [
    "import updated_steadycom\n",
    "\n",
    "sc_com_som = updated_steadycom.SteadyCom(community, constraints=medium, objective=\"R_EX_rosma_e\")\n",
    "print(\"RA production rate: \", sc_com_som.values[\"R_EX_rosma_e\"])"
   ]
  },
  {
   "cell_type": "markdown",
   "metadata": {},
   "source": [
    "## Dynamic simulation"
   ]
  },
  {
   "cell_type": "markdown",
   "metadata": {},
   "source": [
    "### compare to monoculture"
   ]
  },
  {
   "cell_type": "code",
   "execution_count": 1,
   "metadata": {},
   "outputs": [
    {
     "name": "stdout",
     "output_type": "stream",
     "text": [
      "Warning: The added metabolite (saa_e) is not able to be taken up by any of the current models\n",
      "Warning: The added metabolite (34dhcinm_e) is not able to be taken up by any of the current models\n",
      "\n",
      "Running COMETS simulation ...\n",
      "Done!\n"
     ]
    }
   ],
   "source": [
    "from dfba_comets import run_dfba_for_monoculture\n",
    "import matplotlib.pyplot as plt\n",
    "import seaborn as sns\n",
    "\n",
    "sim = run_dfba_for_monoculture()"
   ]
  },
  {
   "cell_type": "code",
   "execution_count": 6,
   "metadata": {},
   "outputs": [
    {
     "name": "stdout",
     "output_type": "stream",
     "text": [
      "Total biomass g(DW): 0.23809296349\n",
      "Total RA produced (mmol):  0.00069348987944\n"
     ]
    }
   ],
   "source": [
    "print(\"Total biomass g(DW):\", sum(sim.total_biomass.drop(columns=[\"cycle\"], inplace=False).iloc[-1]))\n",
    "print(\"Total RA produced (mmol): \", sim.get_metabolite_time_series()[\"rosma_e\"].iloc[-1])"
   ]
  },
  {
   "cell_type": "markdown",
   "metadata": {},
   "source": [
    "### different inocculation ratios and gluxose / xylose ratios"
   ]
  },
  {
   "cell_type": "code",
   "execution_count": 41,
   "metadata": {},
   "outputs": [],
   "source": [
    "import pandas as pd\n",
    "import matplotlib.pyplot as plt\n",
    "import seaborn as sns\n",
    "\n",
    "df = pd.read_csv(\"all_exp_results\")"
   ]
  },
  {
   "cell_type": "code",
   "execution_count": 42,
   "metadata": {},
   "outputs": [
    {
     "data": {
      "text/html": [
       "<div>\n",
       "<style scoped>\n",
       "    .dataframe tbody tr th:only-of-type {\n",
       "        vertical-align: middle;\n",
       "    }\n",
       "\n",
       "    .dataframe tbody tr th {\n",
       "        vertical-align: top;\n",
       "    }\n",
       "\n",
       "    .dataframe thead th {\n",
       "        text-align: right;\n",
       "    }\n",
       "</style>\n",
       "<table border=\"1\" class=\"dataframe\">\n",
       "  <thead>\n",
       "    <tr style=\"text-align: right;\">\n",
       "      <th></th>\n",
       "      <th>inoculation_ratio</th>\n",
       "      <th>glc_xyl_ratio</th>\n",
       "      <th>total_biomass</th>\n",
       "      <th>total_RA</th>\n",
       "    </tr>\n",
       "  </thead>\n",
       "  <tbody>\n",
       "    <tr>\n",
       "      <th>0</th>\n",
       "      <td>(2, 1, 1)</td>\n",
       "      <td>(3, 2)</td>\n",
       "      <td>0.234094</td>\n",
       "      <td>0.000010</td>\n",
       "    </tr>\n",
       "    <tr>\n",
       "      <th>1</th>\n",
       "      <td>(2, 1, 1)</td>\n",
       "      <td>(4, 1)</td>\n",
       "      <td>0.237476</td>\n",
       "      <td>0.000011</td>\n",
       "    </tr>\n",
       "    <tr>\n",
       "      <th>2</th>\n",
       "      <td>(3, 1, 1)</td>\n",
       "      <td>(3, 2)</td>\n",
       "      <td>0.235098</td>\n",
       "      <td>0.000008</td>\n",
       "    </tr>\n",
       "    <tr>\n",
       "      <th>3</th>\n",
       "      <td>(3, 1, 1)</td>\n",
       "      <td>(4, 1)</td>\n",
       "      <td>0.238479</td>\n",
       "      <td>0.000010</td>\n",
       "    </tr>\n",
       "    <tr>\n",
       "      <th>4</th>\n",
       "      <td>(3, 2, 1)</td>\n",
       "      <td>(3, 2)</td>\n",
       "      <td>0.236100</td>\n",
       "      <td>0.000010</td>\n",
       "    </tr>\n",
       "    <tr>\n",
       "      <th>5</th>\n",
       "      <td>(3, 2, 1)</td>\n",
       "      <td>(4, 1)</td>\n",
       "      <td>0.239480</td>\n",
       "      <td>0.000010</td>\n",
       "    </tr>\n",
       "  </tbody>\n",
       "</table>\n",
       "</div>"
      ],
      "text/plain": [
       "  inoculation_ratio glc_xyl_ratio  total_biomass  total_RA\n",
       "0         (2, 1, 1)        (3, 2)       0.234094  0.000010\n",
       "1         (2, 1, 1)        (4, 1)       0.237476  0.000011\n",
       "2         (3, 1, 1)        (3, 2)       0.235098  0.000008\n",
       "3         (3, 1, 1)        (4, 1)       0.238479  0.000010\n",
       "4         (3, 2, 1)        (3, 2)       0.236100  0.000010\n",
       "5         (3, 2, 1)        (4, 1)       0.239480  0.000010"
      ]
     },
     "execution_count": 42,
     "metadata": {},
     "output_type": "execute_result"
    }
   ],
   "source": [
    "df"
   ]
  },
  {
   "cell_type": "code",
   "execution_count": 54,
   "metadata": {},
   "outputs": [],
   "source": [
    "fig_A = df[df[\"glc_xyl_ratio\"] == \"(1, 4)\"]\n",
    "fig_B = df[df[\"glc_xyl_ratio\"] == \"(2, 3)\"]\n",
    "fig_C = df[df[\"glc_xyl_ratio\"] == \"(3, 2)\"]\n",
    "fig_D = df[df[\"glc_xyl_ratio\"] == \"(4, 1)\"]"
   ]
  },
  {
   "cell_type": "code",
   "execution_count": 55,
   "metadata": {},
   "outputs": [
    {
     "ename": "ValueError",
     "evalue": "min() arg is an empty sequence",
     "output_type": "error",
     "traceback": [
      "\u001b[0;31m---------------------------------------------------------------------------\u001b[0m",
      "\u001b[0;31mValueError\u001b[0m                                Traceback (most recent call last)",
      "\u001b[1;32m/Users/andreastallvik/Projects/BIOTBT3900/community_modelling/RAsynthesis/setup_from_scratch.ipynb Cell 13\u001b[0m line \u001b[0;36m3\n\u001b[1;32m      <a href='vscode-notebook-cell:/Users/andreastallvik/Projects/BIOTBT3900/community_modelling/RAsynthesis/setup_from_scratch.ipynb#X36sZmlsZQ%3D%3D?line=0'>1</a>\u001b[0m fig, axes \u001b[39m=\u001b[39m plt\u001b[39m.\u001b[39msubplots(\u001b[39m2\u001b[39m, \u001b[39m2\u001b[39m, figsize\u001b[39m=\u001b[39m(\u001b[39m10\u001b[39m, \u001b[39m4\u001b[39m))  \u001b[39m# 1 row, 2 columns\u001b[39;00m\n\u001b[0;32m----> <a href='vscode-notebook-cell:/Users/andreastallvik/Projects/BIOTBT3900/community_modelling/RAsynthesis/setup_from_scratch.ipynb#X36sZmlsZQ%3D%3D?line=2'>3</a>\u001b[0m sns\u001b[39m.\u001b[39;49mbarplot(data\u001b[39m=\u001b[39;49mfig_A, x\u001b[39m=\u001b[39;49m\u001b[39m\"\u001b[39;49m\u001b[39minoculation_ratio\u001b[39;49m\u001b[39m\"\u001b[39;49m, y\u001b[39m=\u001b[39;49m\u001b[39m\"\u001b[39;49m\u001b[39mtotal_RA\u001b[39;49m\u001b[39m\"\u001b[39;49m, ax\u001b[39m=\u001b[39;49maxes[\u001b[39m0\u001b[39;49m, \u001b[39m0\u001b[39;49m])\n\u001b[1;32m      <a href='vscode-notebook-cell:/Users/andreastallvik/Projects/BIOTBT3900/community_modelling/RAsynthesis/setup_from_scratch.ipynb#X36sZmlsZQ%3D%3D?line=3'>4</a>\u001b[0m axes[\u001b[39m0\u001b[39m, \u001b[39m0\u001b[39m]\u001b[39m.\u001b[39mset_title(\u001b[39m'\u001b[39m\u001b[39mxylose:glucose=4:1\u001b[39m\u001b[39m'\u001b[39m)\n\u001b[1;32m      <a href='vscode-notebook-cell:/Users/andreastallvik/Projects/BIOTBT3900/community_modelling/RAsynthesis/setup_from_scratch.ipynb#X36sZmlsZQ%3D%3D?line=5'>6</a>\u001b[0m sns\u001b[39m.\u001b[39mbarplot(data\u001b[39m=\u001b[39mfig_B, x\u001b[39m=\u001b[39m\u001b[39m\"\u001b[39m\u001b[39minoculation_ratio\u001b[39m\u001b[39m\"\u001b[39m, y\u001b[39m=\u001b[39m\u001b[39m\"\u001b[39m\u001b[39mtotal_RA\u001b[39m\u001b[39m\"\u001b[39m, ax\u001b[39m=\u001b[39maxes[\u001b[39m0\u001b[39m, \u001b[39m1\u001b[39m])\n",
      "File \u001b[0;32m~/Projects/BIOTBT3900/venv-comets/lib/python3.10/site-packages/seaborn/categorical.py:2755\u001b[0m, in \u001b[0;36mbarplot\u001b[0;34m(data, x, y, hue, order, hue_order, estimator, errorbar, n_boot, units, seed, orient, color, palette, saturation, width, errcolor, errwidth, capsize, dodge, ci, ax, **kwargs)\u001b[0m\n\u001b[1;32m   2752\u001b[0m \u001b[39mif\u001b[39;00m estimator \u001b[39mis\u001b[39;00m \u001b[39mlen\u001b[39m:\n\u001b[1;32m   2753\u001b[0m     estimator \u001b[39m=\u001b[39m \u001b[39m\"\u001b[39m\u001b[39msize\u001b[39m\u001b[39m\"\u001b[39m\n\u001b[0;32m-> 2755\u001b[0m plotter \u001b[39m=\u001b[39m _BarPlotter(x, y, hue, data, order, hue_order,\n\u001b[1;32m   2756\u001b[0m                       estimator, errorbar, n_boot, units, seed,\n\u001b[1;32m   2757\u001b[0m                       orient, color, palette, saturation,\n\u001b[1;32m   2758\u001b[0m                       width, errcolor, errwidth, capsize, dodge)\n\u001b[1;32m   2760\u001b[0m \u001b[39mif\u001b[39;00m ax \u001b[39mis\u001b[39;00m \u001b[39mNone\u001b[39;00m:\n\u001b[1;32m   2761\u001b[0m     ax \u001b[39m=\u001b[39m plt\u001b[39m.\u001b[39mgca()\n",
      "File \u001b[0;32m~/Projects/BIOTBT3900/venv-comets/lib/python3.10/site-packages/seaborn/categorical.py:1532\u001b[0m, in \u001b[0;36m_BarPlotter.__init__\u001b[0;34m(self, x, y, hue, data, order, hue_order, estimator, errorbar, n_boot, units, seed, orient, color, palette, saturation, width, errcolor, errwidth, capsize, dodge)\u001b[0m\n\u001b[1;32m   1529\u001b[0m \u001b[39m\u001b[39m\u001b[39m\"\"\"Initialize the plotter.\"\"\"\u001b[39;00m\n\u001b[1;32m   1530\u001b[0m \u001b[39mself\u001b[39m\u001b[39m.\u001b[39mestablish_variables(x, y, hue, data, orient,\n\u001b[1;32m   1531\u001b[0m                          order, hue_order, units)\n\u001b[0;32m-> 1532\u001b[0m \u001b[39mself\u001b[39;49m\u001b[39m.\u001b[39;49mestablish_colors(color, palette, saturation)\n\u001b[1;32m   1533\u001b[0m \u001b[39mself\u001b[39m\u001b[39m.\u001b[39mestimate_statistic(estimator, errorbar, n_boot, seed)\n\u001b[1;32m   1535\u001b[0m \u001b[39mself\u001b[39m\u001b[39m.\u001b[39mdodge \u001b[39m=\u001b[39m dodge\n",
      "File \u001b[0;32m~/Projects/BIOTBT3900/venv-comets/lib/python3.10/site-packages/seaborn/categorical.py:707\u001b[0m, in \u001b[0;36m_CategoricalPlotter.establish_colors\u001b[0;34m(self, color, palette, saturation)\u001b[0m\n\u001b[1;32m    705\u001b[0m \u001b[39m# Determine the gray color to use for the lines framing the plot\u001b[39;00m\n\u001b[1;32m    706\u001b[0m light_vals \u001b[39m=\u001b[39m [rgb_to_hls(\u001b[39m*\u001b[39mc)[\u001b[39m1\u001b[39m] \u001b[39mfor\u001b[39;00m c \u001b[39min\u001b[39;00m rgb_colors]\n\u001b[0;32m--> 707\u001b[0m lum \u001b[39m=\u001b[39m \u001b[39mmin\u001b[39;49m(light_vals) \u001b[39m*\u001b[39m \u001b[39m.6\u001b[39m\n\u001b[1;32m    708\u001b[0m gray \u001b[39m=\u001b[39m mpl\u001b[39m.\u001b[39mcolors\u001b[39m.\u001b[39mrgb2hex((lum, lum, lum))\n\u001b[1;32m    710\u001b[0m \u001b[39m# Assign object attributes\u001b[39;00m\n",
      "\u001b[0;31mValueError\u001b[0m: min() arg is an empty sequence"
     ]
    },
    {
     "data": {
      "image/png": "[encoded data removed]",
      "text/plain": [
       "<Figure size 1000x400 with 4 Axes>"
      ]
     },
     "metadata": {},
     "output_type": "display_data"
    }
   ],
   "source": [
    "# run this once I have done all the calculations!!\n",
    "\n",
    "fig, axes = plt.subplots(2, 2, figsize=(10, 4))  # 1 row, 2 columns\n",
    "\n",
    "sns.barplot(data=fig_A, x=\"inoculation_ratio\", y=\"total_RA\", ax=axes[0, 0])\n",
    "axes[0, 0].set_title('xylose:glucose=4:1')\n",
    "\n",
    "sns.barplot(data=fig_B, x=\"inoculation_ratio\", y=\"total_RA\", ax=axes[0, 1])\n",
    "axes[0, 1].set_title('xylose:glucose=3:2')\n",
    "\n",
    "sns.barplot(data=fig_C, x=\"inoculation_ratio\", y=\"total_RA\", ax=axes[1, 0])\n",
    "axes[1, 0].set_title('xylose:glucose=2:3')\n",
    "\n",
    "sns.barplot(data=fig_D, x=\"inoculation_ratio\", y=\"total_RA\", ax=axes[1, 1])\n",
    "axes[1, 1].set_title('xylose:glucose=1:4')\n",
    "\n",
    "# Add spacing between the subplots\n",
    "plt.tight_layout()\n",
    "\n",
    "# Show the plots\n",
    "plt.show()"
   ]
  },
  {
   "cell_type": "code",
   "execution_count": null,
   "metadata": {},
   "outputs": [],
   "source": []
  }
 ],
 "metadata": {
  "kernelspec": {
   "display_name": "venv",
   "language": "python",
   "name": "python3"
  },
  "language_info": {
   "codemirror_mode": {
    "name": "ipython",
    "version": 3
   },
   "file_extension": ".py",
   "mimetype": "text/x-python",
   "name": "python",
   "nbconvert_exporter": "python",
   "pygments_lexer": "ipython3",
   "version": "3.10.7"
  },
  "orig_nbformat": 4
 },
 "nbformat": 4,
 "nbformat_minor": 2
}
