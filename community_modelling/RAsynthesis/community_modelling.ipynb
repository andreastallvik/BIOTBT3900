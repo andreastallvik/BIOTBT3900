{
 "cells": [
  {
   "attachments": {},
   "cell_type": "markdown",
   "metadata": {},
   "source": [
    "# Building community model with Reframed"
   ]
  },
  {
   "cell_type": "code",
   "execution_count": 1,
   "metadata": {},
   "outputs": [],
   "source": [
    "from reframed import Community, Environment\n",
    "from reframed import load_cbmodel, FBA, plot_flux_envelope"
   ]
  },
  {
   "cell_type": "code",
   "execution_count": 11,
   "metadata": {},
   "outputs": [],
   "source": [
    "CAL2 = load_cbmodel(\"../GEMs/CAL2.xml\", flavor=\"bigg\")\n",
    "SAL9 = load_cbmodel(\"../GEMs/SAL9.xml\", flavor=\"bigg\")\n",
    "MAM2 = load_cbmodel(\"../GEMs/MAM2.xml\", flavor=\"bigg\")"
   ]
  },
  {
   "cell_type": "markdown",
   "metadata": {},
   "source": [
    "Add extra constraints to SAL9 model:"
   ]
  },
  {
   "cell_type": "code",
   "execution_count": 17,
   "metadata": {},
   "outputs": [],
   "source": [
    "# impose constraints on SAL9 reactions so that the model cannot go crazy with the loop\n",
    "\n",
    "SAL9.reactions.R_HPPHD.set_flux_bounds(0, float(\"inf\"))\n",
    "SAL9.reactions.R_DHPPSA.set_flux_bounds(0, float(\"inf\"))\n",
    "SAL9.reactions.R_DLDH.set_flux_bounds(float(\"-inf\"), 0)\n",
    "SAL9.reactions.R_HPLSA.set_flux_bounds(0, float(\"inf\"))"
   ]
  },
  {
   "cell_type": "code",
   "execution_count": 18,
   "metadata": {},
   "outputs": [],
   "source": [
    "community = Community('RA_community', [CAL2, SAL9, MAM2])\n",
    "merged_community = community.merge_models()"
   ]
  },
  {
   "cell_type": "markdown",
   "metadata": {},
   "source": [
    "Create the environment using the medium composition from the CAL2 model"
   ]
  },
  {
   "cell_type": "code",
   "execution_count": 19,
   "metadata": {},
   "outputs": [],
   "source": [
    "medium = Environment.from_model(CAL2).apply(merged_community, exclusive=True, inplace=False)"
   ]
  },
  {
   "cell_type": "code",
   "execution_count": 6,
   "metadata": {},
   "outputs": [],
   "source": [
    "# \"archived\" environment\n",
    "\n",
    "# complete_environment = Environment.empty(community)\n",
    "\n",
    "# cal_medium = Environment.from_model(CAL2)\n",
    "\n",
    "# uptake_reactions = [reaction for reaction in cal_medium if cal_medium[reaction][0] < 0]\n",
    "\n",
    "# for reaction in uptake_reactions:\n",
    "#     complete_environment.update({reaction: (-10.0, float(\"inf\"))})"
   ]
  },
  {
   "attachments": {},
   "cell_type": "markdown",
   "metadata": {},
   "source": [
    "## Simulating with FBA"
   ]
  },
  {
   "cell_type": "code",
   "execution_count": 20,
   "metadata": {},
   "outputs": [
    {
     "name": "stdout",
     "output_type": "stream",
     "text": [
      "Objective: 0.8749580567217287\n",
      "Status: Optimal\n",
      "\n",
      "R_BIOMASS_Ec_iHK1487_core_SAL9  0.874958\n"
     ]
    }
   ],
   "source": [
    "solution = FBA(merged_community, constraints=medium, objective=merged_community.biomass_reaction)\n",
    "\n",
    "print(solution)\n",
    "solution.show_values(pattern='BIOMASS', sort=True)"
   ]
  },
  {
   "cell_type": "markdown",
   "metadata": {},
   "source": [
    "### distribution of solution on strains"
   ]
  },
  {
   "cell_type": "code",
   "execution_count": 23,
   "metadata": {},
   "outputs": [
    {
     "name": "stdout",
     "output_type": "stream",
     "text": [
      "R_ACALDtex_MAM2 -167.773\n",
      "R_ACALDtpp_MAM2 -167.773\n",
      "R_H2Otex_MAM2 -109.837\n",
      "R_H2Otpp_MAM2 -109.837\n",
      "R_ACALD_MAM2 -66.9536\n",
      "R_PTAr_MAM2  -66.9536\n",
      "R_PGK_MAM2   -5.94879\n",
      "R_PGM_MAM2   -5.94879\n",
      "R_GLUDy_MAM2 -3.43541\n",
      "R_ASPTA_MAM2 -3.31397\n",
      "R_ADEt2rpp_MAM2 -3.10359\n",
      "R_ADEtex_MAM2 -3.10359\n",
      "R_TRPAS2_MAM2 -3.0667\n",
      "R_TRPt2rpp_MAM2 -3.0667\n",
      "R_TRPtex_MAM2 -3.0667\n",
      "R_ASPtex_MAM2 -3.05517\n",
      "R_ASPtpp_MAM2 -3.05517\n",
      "R_PGI_MAM2   -1.80329\n",
      "R_ARGtex_MAM2 -0.258806\n",
      "R_ARGORNt7pp_MAM2 -0.258806\n",
      "R_TYRt2rpp_MAM2 -0.120849\n",
      "R_TYRtex_MAM2 -0.120849\n",
      "R_TYRTA_MAM2 -0.120849\n",
      "R_4ABZGLUH_MAM2 -0.000586222\n",
      "R_4ABZGLUtr_MAM2 -0.000586222\n",
      "R_4ABZGLUtex_MAM2 -0.000586222\n",
      "R_ADCS_MAM2   0.000586222\n",
      "R_ADCL_MAM2   0.000586222\n",
      "R_AKGt2rpp_MAM2  0.000586222\n",
      "R_AKGtex_MAM2  0.000586222\n",
      "R_ANS_MAM2    0.0497349\n",
      "R_ANPRT_MAM2  0.0497349\n",
      "R_IGPS_MAM2   0.0497349\n",
      "R_TRPS3_MAM2  0.0497349\n",
      "R_PRPPS_MAM2  0.0497349\n",
      "R_PRAIi_MAM2  0.0497349\n",
      "R_GLNS_MAM2   0.0503212\n",
      "R_CHORM_MAM2  0.120849\n",
      "R_PPND_MAM2   0.120849\n",
      "R_SHK3Dr_MAM2  0.17117\n",
      "R_PSCVT_MAM2  0.17117\n",
      "R_CHORS_MAM2  0.17117\n",
      "R_DHQTi_MAM2  0.17117\n",
      "R_DDPA_MAM2   0.17117\n",
      "R_SHKK_MAM2   0.17117\n",
      "R_DHQS_MAM2   0.17117\n",
      "R_ARGSS_MAM2  0.258806\n",
      "R_OCBT_MAM2   0.258806\n",
      "R_CBMKr_MAM2  0.258806\n",
      "R_ARGSL_MAM2  0.258806\n",
      "R_ORNtex_MAM2  0.258806\n",
      "R_PPA_MAM2    0.308541\n",
      "R_ADK1_MAM2   0.308541\n",
      "R_FUMtex_MAM2  0.465088\n",
      "R_FUMt1pp_MAM2  0.465088\n",
      "R_MDH_MAM2    0.723894\n",
      "R_FUM_MAM2    0.723894\n",
      "R_CO2tpp_MAM2  0.875012\n",
      "R_CO2tex_MAM2  0.875012\n",
      "R_F6PA_MAM2   1.37775\n",
      "R_RPI_MAM2    1.37775\n",
      "R_TKT2_MAM2   1.50493\n",
      "R_DHAtpp_MAM2  1.63863\n",
      "R_DHAtex_MAM2  1.63863\n",
      "R_TALA_MAM2   1.6761\n",
      "R_TKT1_MAM2   1.6761\n",
      "R_PGL_MAM2    1.80329\n",
      "R_GND_MAM2    1.80329\n",
      "R_G6PDH2r_MAM2  1.80329\n",
      "R_PPC_MAM2    2.59008\n",
      "R_DHAPT_MAM2  3.01638\n",
      "R_TPI_MAM2    3.01638\n",
      "R_INDOLEtex_MAM2  3.01696\n",
      "R_INDOLEt2rpp_MAM2  3.01696\n",
      "R_PPM_MAM2    3.10359\n",
      "R_PUNP1_MAM2  3.10359\n",
      "R_ADNt2pp_copy2_MAM2  3.10359\n",
      "R_ADNtex_MAM2  3.10359\n",
      "R_RPE_MAM2    3.18104\n",
      "R_ENO_MAM2    5.94879\n",
      "R_GAPD_MAM2   5.94879\n",
      "R_NH4tpp_MAM2  6.81123\n",
      "R_NH4tex_MAM2  6.81123\n",
      "R_ATPM_MAM2   6.86\n",
      "R_O2tpp_MAM2  20.3296\n",
      "R_O2tex_MAM2  20.3296\n",
      "R_CYTBO3_4pp_MAM2  40.6592\n",
      "R_NADH16pp_MAM2  40.6592\n",
      "R_Htex_MAM2   58.0174\n",
      "R_ACKr_MAM2   66.9536\n",
      "R_ACtex_MAM2  66.9536\n",
      "R_ACt2rpp_MAM2  66.9536\n",
      "R_ATPS4rpp_MAM2  68.9622\n",
      "R_ALCD2x_MAM2  100.819\n",
      "R_ETOHtex_MAM2  100.819\n",
      "R_ETOHtrpp_MAM2  100.819\n"
     ]
    }
   ],
   "source": [
    "solution.show_values(pattern='MAM2', sort=True)"
   ]
  },
  {
   "cell_type": "code",
   "execution_count": 24,
   "metadata": {},
   "outputs": [
    {
     "name": "stdout",
     "output_type": "stream",
     "text": [
      "R_ALCD2x_SAL9 -90.2989\n",
      "R_ETOHtex_SAL9 -90.2989\n",
      "R_ETOHtrpp_SAL9 -90.2989\n",
      "R_ACtex_SAL9 -63.3463\n",
      "R_ACt2rpp_SAL9 -63.3463\n",
      "R_ACKr_SAL9  -62.8369\n",
      "R_Htex_SAL9  -62.2871\n",
      "R_CO2tpp_SAL9 -26.4203\n",
      "R_CO2tex_SAL9 -26.4203\n",
      "R_PGK_SAL9   -11.5615\n",
      "R_PGM_SAL9   -10.0588\n",
      "R_GLUtex_SAL9 -6.91304\n",
      "R_GLUt2rpp_SAL9 -6.91304\n",
      "R_DHAtpp_SAL9 -6.81127\n",
      "R_DHAtex_SAL9 -6.81127\n",
      "R_SUCCtex_SAL9 -6.72538\n",
      "R_SUCCt1pp_SAL9 -6.72538\n",
      "R_SUCOAS_SAL9 -6.26556\n",
      "R_GLUDy_SAL9 -3.88398\n",
      "R_INDOLEtex_SAL9 -3.01696\n",
      "R_ASAD_SAL9  -0.935397\n",
      "R_VALTA_SAL9 -0.879339\n",
      "R_KARA1_SAL9 -0.765034\n",
      "R_ADK3_SAL9  -0.691084\n",
      "R_FUMtex_SAL9 -0.652753\n",
      "R_FUMt1pp_SAL9 -0.652753\n",
      "R_HSDy_SAL9  -0.610832\n",
      "R_RPE_SAL9   -0.534324\n",
      "R_VPAMTr_SAL9 -0.50909\n",
      "R_RPI_SAL9   -0.499495\n",
      "R_IMPC_SAL9  -0.474546\n",
      "R_IPPMIb_SAL9 -0.394195\n",
      "R_IPPMIa_SAL9 -0.394195\n",
      "R_AIRC3_SAL9 -0.391655\n",
      "R_SDPTA_SAL9 -0.324566\n",
      "R_ACOAD5f_SAL9 -0.311381\n",
      "R_ACOAD3f_SAL9 -0.311381\n",
      "R_ACOAD2f_SAL9 -0.311381\n",
      "R_ACOAD4f_SAL9 -0.311381\n",
      "R_DHORTS_SAL9 -0.28943\n",
      "R_ORPT_SAL9  -0.28943\n",
      "R_TALA_SAL9  -0.26726\n",
      "R_TKT1_SAL9  -0.26726\n",
      "R_TKT2_SAL9  -0.267064\n",
      "R_AGPR_SAL9  -0.258806\n",
      "R_ACOTA_SAL9 -0.258806\n",
      "R_ORNtex_SAL9 -0.258806\n",
      "R_ILETA_SAL9 -0.254201\n",
      "R_ACOAD6f_SAL9 -0.243287\n",
      "R_CTECOAI7_SAL9 -0.131618\n",
      "R_G3PD2_SAL9 -0.121644\n",
      "R_ACOAD7f_SAL9 -0.111669\n",
      "R_PGAMT_SAL9 -0.0826748\n",
      "R_GLUR_SAL9  -0.024314\n",
      "R_PROt2rpp_SAL9 -0.00455428\n",
      "R_CAt6pp_SAL9 -0.00455428\n",
      "R_PPM_SAL9   -0.000589722\n",
      "R_PUNP1_SAL9 -0.000589722\n",
      "R_4HTHRA_SAL9 -0.000586222\n",
      "R_AI2tex_SAL9 -0.000392565\n",
      "R_OHPBAT_SAL9 -0.000390815\n",
      "R_E4PD_SAL9  -0.000390815\n",
      "R_PERD_SAL9  -0.000390815\n",
      "R_MEOHtrpp_SAL9 -1.74992e-06\n",
      "R_MEOHtex_SAL9 -1.74992e-06\n",
      "R_DM_amob_c_SAL9  1.74992e-06\n",
      "R_DBTS_SAL9   1.74992e-06\n",
      "R_AMAOTr_SAL9  1.74992e-06\n",
      "R_MALCOAMT_SAL9  1.74992e-06\n",
      "R_OGMEACPS_SAL9  1.74992e-06\n",
      "R_OGMEACPR_SAL9  1.74992e-06\n",
      "R_OPMEACPS_SAL9  1.74992e-06\n",
      "R_BTS5_SAL9   1.74992e-06\n",
      "R_I2FE2SR_SAL9  1.74992e-06\n",
      "R_OPMEACPD_SAL9  1.74992e-06\n",
      "R_EPMEACPR_SAL9  1.74992e-06\n",
      "R_AOXSr2_SAL9  1.74992e-06\n",
      "R_OGMEACPD_SAL9  1.74992e-06\n",
      "R_EGMEACPR_SAL9  1.74992e-06\n",
      "R_OPMEACPR_SAL9  1.74992e-06\n",
      "R_PMEACPE_SAL9  1.74992e-06\n",
      "R_MOBDabcpp_SAL9  6.07237e-06\n",
      "R_MOBDtex_SAL9  6.07237e-06\n",
      "R_COBALT2tex_SAL9  2.20123e-05\n",
      "R_COBALT2tpp_SAL9  2.20123e-05\n",
      "R_I2FE2ST_SAL9  2.44988e-05\n",
      "R_UDCPDPS_SAL9  4.84312e-05\n",
      "R_SHCHD2_SAL9  0.000195407\n",
      "R_CPPPGO_SAL9  0.000195407\n",
      "R_SHK3Dr_SAL9  0.000195407\n",
      "R_UPPDC1_SAL9  0.000195407\n",
      "R_TMPPP_SAL9  0.000195407\n",
      "R_PSCVT_SAL9  0.000195407\n",
      "R_CHORS_SAL9  0.000195407\n",
      "R_DHQTi_SAL9  0.000195407\n",
      "R_OPHBDC_SAL9  0.000195407\n",
      "R_OCTDPS_SAL9  0.000195407\n",
      "R_FCLT_SAL9   0.000195407\n",
      "R_HBZOPT_SAL9  0.000195407\n",
      "R_DDPA_SAL9   0.000195407\n",
      "R_TMPK_SAL9   0.000195407\n",
      "R_PDX5PS_SAL9  0.000195407\n",
      "R_CHRPL_SAL9  0.000195407\n",
      "R_PMPK_SAL9   0.000195407\n",
      "R_SHKK_SAL9   0.000195407\n",
      "R_DHQS_SAL9   0.000195407\n",
      "R_SHCHF_SAL9  0.000195407\n",
      "R_UPP3MT_SAL9  0.000195407\n",
      "R_AMPMS2_SAL9  0.000195407\n",
      "R_PPPGO3_SAL9  0.000195407\n",
      "R_PDX5PO2_SAL9  0.000195407\n",
      "R_OPHHX3_SAL9  0.000195407\n",
      "R_DM_4crsol_c_SAL9  0.000195407\n",
      "R_TYRL_SAL9   0.000195407\n",
      "R_THZPSN3_SAL9  0.000195407\n",
      "R_RBFK_SAL9   0.000195407\n",
      "R_FMNAT_SAL9  0.000195407\n",
      "R_5DOAN_SAL9  0.000197157\n",
      "R_DM_5drib_c_SAL9  0.000197157\n",
      "R_I4FE4SR_SAL9  0.000227714\n",
      "R_I2FE2SS2_SAL9  0.000227714\n",
      "R_I4FE4ST_SAL9  0.000227714\n",
      "R_DMATT_SAL9  0.000243838\n",
      "R_GRTT_SAL9   0.000243838\n",
      "R_IPDDI_SAL9  0.000243838\n",
      "R_I2FE2SS_SAL9  0.000250463\n",
      "R_NI2tex_SAL9  0.000282365\n",
      "R_NI2tpp_SAL9  0.000282365\n",
      "R_Zn2tex_SAL9  0.000298305\n",
      "R_ZN2tpp_SAL9  0.000298305\n",
      "R_NADK_SAL9   0.000390815\n",
      "R_UPP3S_SAL9  0.000390815\n",
      "R_HMBS_SAL9   0.000390815\n",
      "R_APRAUR_SAL9  0.000390815\n",
      "R_RBFSb_SAL9  0.000390815\n",
      "R_PMDPHT_SAL9  0.000390815\n",
      "R_GTPCII2_SAL9  0.000390815\n",
      "R_DHPPDA2_SAL9  0.000390815\n",
      "R_RHCCE_SAL9  0.000392565\n",
      "R_AHCYSNS_SAL9  0.000392565\n",
      "R_MTHTHFSs_SAL9  0.000392565\n",
      "R_DHPTDCs2_SAL9  0.000392565\n",
      "R_AI2tpp_SAL9  0.000392565\n",
      "R_DNMPPA_SAL9  0.000586222\n",
      "R_HPPK2_SAL9  0.000586222\n",
      "R_GTPCI_SAL9  0.000586222\n",
      "R_DHFS_SAL9   0.000586222\n",
      "R_DHPS2_SAL9  0.000586222\n",
      "R_DNTPPA_SAL9  0.000586222\n",
      "R_DHNPA2r_SAL9  0.000586222\n",
      "R_4ABZGLUH_SAL9  0.000586222\n",
      "R_4ABZGLUtr_SAL9  0.000586222\n",
      "R_4HTHRK_SAL9  0.000586222\n",
      "R_4ABZGLUtex_SAL9  0.000586222\n",
      "R_ADNK1_SAL9  0.000589722\n",
      "R_PPCDC_SAL9  0.000589897\n",
      "R_PTPATi_SAL9  0.000589897\n",
      "R_PNTK_SAL9   0.000589897\n",
      "R_DPCOAK_SAL9  0.000589897\n",
      "R_ASP1DC_SAL9  0.000589897\n",
      "R_PPNCL2_SAL9  0.000589897\n",
      "R_MOHMT_SAL9  0.000589897\n",
      "R_DPR_SAL9    0.000589897\n",
      "R_PANTS_SAL9  0.000589897\n",
      "R_MNtex_SAL9  0.00060496\n",
      "R_MN2tpp_SAL9  0.00060496\n",
      "R_CU2tex_SAL9  0.000620141\n",
      "R_CU2tpp_SAL9  0.000620141\n",
      "R_DB4PS_SAL9  0.000781629\n",
      "R_RBFSa_SAL9  0.000781629\n",
      "R_METAT_SAL9  0.000786879\n",
      "R_ICYSDS_SAL9  0.00115351\n",
      "R_PPBNGS_SAL9  0.00156326\n",
      "R_NNDPR_SAL9  0.00199315\n",
      "R_NNATr_SAL9  0.00199315\n",
      "R_NADS1_SAL9  0.00199315\n",
      "R_ASPO3_SAL9  0.00199315\n",
      "R_QULNS_SAL9  0.00199315\n",
      "R_DXPRIi_SAL9  0.002096\n",
      "R_CDPMEK_SAL9  0.002096\n",
      "R_MECDPS_SAL9  0.002096\n",
      "R_IPDPS_SAL9  0.002096\n",
      "R_MEPCT_SAL9  0.002096\n",
      "R_MECDPDH5_SAL9  0.002096\n",
      "R_FTHFLi_SAL9  0.00214948\n",
      "R_CLt3_2pp_SAL9  0.00227714\n",
      "R_DXPS_SAL9   0.00248682\n",
      "R_GLUTRS_SAL9  0.00312652\n",
      "R_GLUTRR_SAL9  0.00312652\n",
      "R_G1SAT_SAL9  0.00312652\n",
      "R_SPODM_SAL9  0.00341571\n",
      "R_QMO2_SAL9   0.00341571\n",
      "R_FESD1s_SAL9  0.00341571\n",
      "R_PROt4pp_SAL9  0.00455428\n",
      "R_CLtex_SAL9  0.00455428\n",
      "R_CA2tex_SAL9  0.00455428\n",
      "R_FESR_SAL9   0.00683142\n",
      "R_MG2tex_SAL9  0.00759046\n",
      "R_MG2t3_2pp_SAL9  0.00759046\n",
      "R_MPTG_SAL9   0.012157\n",
      "R_MCTP1App_SAL9  0.012157\n",
      "R_DALAt2pp_SAL9  0.012157\n",
      "R_FE2tex_SAL9  0.0140536\n",
      "R_FE2tpp_SAL9  0.0140536\n",
      "R_MOAT_SAL9   0.0170233\n",
      "R_USHD_SAL9   0.0170233\n",
      "R_LPADSS_SAL9  0.0170233\n",
      "R_TDSK_SAL9   0.0170233\n",
      "R_MOAT2_SAL9  0.0170233\n",
      "R_K2L4Aabcpp_SAL9  0.0170233\n",
      "R_K2L4Aabctex_SAL9  0.0170233\n",
      "R_TMDS_SAL9   0.0228473\n",
      "R_NDPK4_SAL9  0.0228473\n",
      "R_DTMPK_SAL9  0.0228473\n",
      "R_DUTPDP_SAL9  0.0228473\n",
      "R_RNTR1c2_SAL9  0.0228473\n",
      "R_RNTR4c2_SAL9  0.0228473\n",
      "R_DHFR_SAL9   0.0234336\n",
      "R_RNTR2c2_SAL9  0.0236849\n",
      "R_RNTR3c2_SAL9  0.0236849\n",
      "R_UAGCVT_SAL9  0.024314\n",
      "R_UDCPDP_SAL9  0.024314\n",
      "R_UAPGR_SAL9  0.024314\n",
      "R_PAPPT3_SAL9  0.024314\n",
      "R_UAGPT3_SAL9  0.024314\n",
      "R_UAAGDS_SAL9  0.024314\n",
      "R_UAMAS_SAL9  0.024314\n",
      "R_UAMAGS_SAL9  0.024314\n",
      "R_UGMDDS_SAL9  0.024314\n",
      "R_ALAALAr_SAL9  0.024314\n",
      "R_A5PISO_SAL9  0.0340467\n",
      "R_KDOCT2_SAL9  0.0340467\n",
      "R_KDOPS_SAL9  0.0340467\n",
      "R_KDOPP_SAL9  0.0340467\n",
      "R_U23GAAT_SAL9  0.0340467\n",
      "R_UHGADA_SAL9  0.0340467\n",
      "R_UAGAAT_SAL9  0.0340467\n",
      "R_ALAR_SAL9   0.0364711\n",
      "R_GLYCL_SAL9  0.0473324\n",
      "R_DASYN160_SAL9  0.0558346\n",
      "R_PSD160_SAL9  0.0558346\n",
      "R_AGPAT160_SAL9  0.0558346\n",
      "R_PE160abcpp_SAL9  0.0558346\n",
      "R_PSSA160_SAL9  0.0558346\n",
      "R_APG3PAT160_SAL9  0.0558346\n",
      "R_ACPPAT160_SAL9  0.0558346\n",
      "R_DASYN161_SAL9  0.0658091\n",
      "R_PSSA161_SAL9  0.0658091\n",
      "R_PSD161_SAL9  0.0658091\n",
      "R_PE161abcpp_SAL9  0.0658091\n",
      "R_AGPAT161_SAL9  0.0658091\n",
      "R_ACPPAT161_SAL9  0.0658091\n",
      "R_APG3PAT161_SAL9  0.0658091\n",
      "R_AACPS7_SAL9  0.0680933\n",
      "R_FACOAE120_SAL9  0.0680933\n",
      "R_3OAS140_SAL9  0.0680933\n",
      "R_3OAR140_SAL9  0.0680933\n",
      "R_MCOATA_SAL9  0.0680968\n",
      "R_ACCOAC_SAL9  0.0680986\n",
      "R_UAGDP_SAL9  0.0826748\n",
      "R_G1PACT_SAL9  0.0826748\n",
      "R_GF6PTA_SAL9  0.0826748\n",
      "R_ATPPRT_SAL9  0.0828916\n",
      "R_HISTD_SAL9  0.0828916\n",
      "R_IGPDH_SAL9  0.0828916\n",
      "R_PRATPP_SAL9  0.0828916\n",
      "R_PRMICI_SAL9  0.0828916\n",
      "R_PRAMPC_SAL9  0.0828916\n",
      "R_HSTPT_SAL9  0.0828916\n",
      "R_IG3PS_SAL9  0.0828916\n",
      "R_HISTP_SAL9  0.0828916\n",
      "R_POR5_SAL9   0.0951605\n",
      "R_ATPS4rpp_SAL9  0.110726\n",
      "R_AACPS3_SAL9  0.111669\n",
      "R_FACOAE160_SAL9  0.111669\n",
      "R_TYRt2rpp_SAL9  0.120849\n",
      "R_TYRtex_SAL9  0.120849\n",
      "R_AACPS4_SAL9  0.131618\n",
      "R_FACOAE161_SAL9  0.131618\n",
      "R_HSST_SAL9   0.134666\n",
      "R_CYSTL_SAL9  0.134666\n",
      "R_SHSL1_SAL9  0.134666\n",
      "R_METS_SAL9   0.135058\n",
      "R_MTHFR2_SAL9  0.135058\n",
      "R_CTPS2_SAL9  0.140499\n",
      "R_O2tpp_SAL9  0.147615\n",
      "R_O2tex_SAL9  0.147615\n",
      "R_CYTK1_SAL9  0.158376\n",
      "R_NDPK3_SAL9  0.158376\n",
      "R_PHEtex_SAL9  0.162099\n",
      "R_PHEt2rpp_SAL9  0.162099\n",
      "R_Kt2pp_SAL9  0.170785\n",
      "R_Ktex_SAL9   0.170785\n",
      "R_G5SD_SAL9   0.193414\n",
      "R_GLU5K_SAL9  0.193414\n",
      "R_P5CR_SAL9   0.193414\n",
      "R_G5SADs_SAL9  0.193414\n",
      "R_ASNt2rpp_SAL9  0.210913\n",
      "R_ASNtex_SAL9  0.210913\n",
      "R_IMPD_SAL9   0.212862\n",
      "R_GK1_SAL9    0.212862\n",
      "R_GMPS_SAL9   0.212862\n",
      "R_GTHOr_SAL9  0.216538\n",
      "R_SADT2_SAL9  0.216538\n",
      "R_SERAT_SAL9  0.216538\n",
      "R_CYSS_SAL9   0.216538\n",
      "R_BPNT_SAL9   0.216538\n",
      "R_SULR_SAL9   0.216538\n",
      "R_ADSK_SAL9   0.216538\n",
      "R_PAPSR2_SAL9  0.216538\n",
      "R_GRXR_SAL9   0.216538\n",
      "R_SO4tex_SAL9  0.220333\n",
      "R_SO4t2pp_SAL9  0.220333\n",
      "R_ECOAH6_SAL9  0.243287\n",
      "R_HACD6_SAL9  0.243287\n",
      "R_HACD7_SAL9  0.243287\n",
      "R_ACACT7r_SAL9  0.243287\n",
      "R_ACACT6r_SAL9  0.243287\n",
      "R_ECOAH7_SAL9  0.243287\n",
      "R_ACHBS_SAL9  0.254201\n",
      "R_DHAD2_SAL9  0.254201\n",
      "R_KARA2_SAL9  0.254201\n",
      "R_THRD_L_SAL9  0.254201\n",
      "R_ACODA_SAL9  0.258806\n",
      "R_ARGtex_SAL9  0.258806\n",
      "R_ACGK_SAL9   0.258806\n",
      "R_ARGORNt7pp_SAL9  0.258806\n",
      "R_ACGS_SAL9   0.258806\n",
      "R_ADSS_SAL9   0.261685\n",
      "R_ADSL1r_SAL9  0.261685\n",
      "R_CYTBO3_4pp_SAL9  0.288008\n",
      "R_OMPDC_SAL9  0.28943\n",
      "R_DHORD2_SAL9  0.28943\n",
      "R_ASPCT_SAL9  0.28943\n",
      "R_CBMKr_SAL9  0.28943\n",
      "R_DAPDC_SAL9  0.300252\n",
      "R_ECOAH4_SAL9  0.311381\n",
      "R_HACD5_SAL9  0.311381\n",
      "R_ECOAH1_SAL9  0.311381\n",
      "R_ECOAH2_SAL9  0.311381\n",
      "R_ECOAH3_SAL9  0.311381\n",
      "R_HACD4_SAL9  0.311381\n",
      "R_HACD1_SAL9  0.311381\n",
      "R_HACD2_SAL9  0.311381\n",
      "R_ACACT2r_SAL9  0.311381\n",
      "R_ACACT3r_SAL9  0.311381\n",
      "R_ACACT4r_SAL9  0.311381\n",
      "R_ECOAH5_SAL9  0.311381\n",
      "R_ACACT5r_SAL9  0.311381\n",
      "R_HACD3_SAL9  0.311381\n",
      "R_ACACT1r_SAL9  0.311381\n",
      "R_ACOAD1fr_SAL9  0.311381\n",
      "R_SDPDS_SAL9  0.324566\n",
      "R_DAPE_SAL9   0.324566\n",
      "R_DHDPRy_SAL9  0.324566\n",
      "R_DHDPS_SAL9  0.324566\n",
      "R_THDPS_SAL9  0.324566\n",
      "R_UMPK_SAL9   0.330768\n",
      "R_NDPK2_SAL9  0.372105\n",
      "R_ADSL2r_SAL9  0.391655\n",
      "R_AIRC2_SAL9  0.391655\n",
      "R_PRASCSi_SAL9  0.391655\n",
      "R_GLUPRT_SAL9  0.39185\n",
      "R_GARFT_SAL9  0.39185\n",
      "R_PRAGSr_SAL9  0.39185\n",
      "R_PRFGS_SAL9  0.39185\n",
      "R_PRAIS_SAL9  0.39185\n",
      "R_LEUTAi_SAL9  0.394195\n",
      "R_IPMD_SAL9   0.394195\n",
      "R_IPPS_SAL9   0.394195\n",
      "R_OMCDC_SAL9  0.394195\n",
      "R_HCO3E_SAL9  0.459753\n",
      "R_AICART_SAL9  0.474546\n",
      "R_HSK_SAL9    0.476166\n",
      "R_THRS_SAL9   0.476166\n",
      "R_ACLS_SAL9   0.765034\n",
      "R_DHAD1_SAL9  0.765034\n",
      "R_PRPPS_SAL9  0.766165\n",
      "R_PItex_SAL9  0.843498\n",
      "R_PIt2rpp_SAL9  0.843498\n",
      "R_MTHFC_SAL9  0.864443\n",
      "R_MTHFD_SAL9  0.864443\n",
      "R_BIOMASS_Ec_iHK1487_core_SAL9  0.874958\n",
      "R_ASPK_SAL9   0.935397\n",
      "R_GHMT2r_SAL9  0.975801\n",
      "R_GLNS_SAL9   1.32002\n",
      "R_PSERT_SAL9  1.50279\n",
      "R_PSP_L_SAL9  1.50279\n",
      "R_PGCD_SAL9   1.50279\n",
      "R_FADRx_SAL9  1.91257\n",
      "R_NH4tex_SAL9  2.26455\n",
      "R_NH4tpp_SAL9  2.26455\n",
      "R_TPI_SAL9    2.44809\n",
      "R_ADK1_SAL9   2.4668\n",
      "R_PPA_SAL9    2.54414\n",
      "R_FBA_SAL9    2.57173\n",
      "R_PFK_SAL9    2.57173\n",
      "R_TRPAS2_SAL9  3.01696\n",
      "R_INDOLEt2pp_SAL9  3.01696\n",
      "R_TRPt2rpp_SAL9  3.0667\n",
      "R_TRPtex_SAL9  3.0667\n",
      "R_ATPM_SAL9   5.17\n",
      "R_AKGDH_SAL9  6.72488\n",
      "R_F6PA_SAL9   6.81127\n",
      "R_AKGt2rpp_SAL9  6.91246\n",
      "R_AKGtex_SAL9  6.91246\n",
      "R_CS_SAL9     7.66563\n",
      "R_ICDHyr_SAL9  7.66563\n",
      "R_ASPTA_SAL9  7.66563\n",
      "R_ACONTb_SAL9  7.66563\n",
      "R_ACONTa_SAL9  7.66563\n",
      "R_ASPtex_SAL9  9.75729\n",
      "R_ASPtpp_SAL9  9.75729\n",
      "R_PGI_SAL9    10\n",
      "R_GLCptspp_SAL9  10\n",
      "R_GLCtex_copy2_SAL9  10\n",
      "R_ENO_SAL9    10.0588\n",
      "R_PDH_SAL9    10.4363\n",
      "R_GAPD_SAL9   11.5615\n",
      "R_H2Otex_SAL9  61.6712\n",
      "R_H2Otpp_SAL9  61.6712\n",
      "R_PTAr_SAL9   62.8369\n",
      "R_ACALD_SAL9  63.3463\n",
      "R_ACALDtex_SAL9  153.645\n",
      "R_ACALDtpp_SAL9  153.645\n"
     ]
    }
   ],
   "source": [
    "solution.show_values(pattern='SAL9', sort=True)"
   ]
  },
  {
   "cell_type": "code",
   "execution_count": 25,
   "metadata": {},
   "outputs": [
    {
     "name": "stdout",
     "output_type": "stream",
     "text": [
      "R_ALCD2x_CAL2 -10.5204\n",
      "R_ETOHtex_CAL2 -10.5204\n",
      "R_ETOHtrpp_CAL2 -10.5204\n",
      "R_ASPTA_CAL2 -6.91304\n",
      "R_AKGt2rpp_CAL2 -6.91304\n",
      "R_AKGtex_CAL2 -6.91304\n",
      "R_ASPtex_CAL2 -6.70213\n",
      "R_ASPtpp_CAL2 -6.70213\n",
      "R_F6PA_CAL2  -5.17265\n",
      "R_TALA_CAL2  -4.13812\n",
      "R_ACKr_CAL2  -3.60731\n",
      "R_ACtex_CAL2 -3.60731\n",
      "R_ACt2rpp_CAL2 -3.60731\n",
      "R_Htex_CAL2  -3.60731\n",
      "R_PPM_CAL2   -3.10359\n",
      "R_PUNP1_CAL2 -3.10359\n",
      "R_ADNt2pp_copy2_CAL2 -3.10359\n",
      "R_ADNtex_CAL2 -3.10359\n",
      "R_RPI_CAL2   -2.06906\n",
      "R_RPE_CAL2   -2.06906\n",
      "R_TKT2_CAL2  -1.03453\n",
      "R_TKT1_CAL2  -1.03453\n",
      "R_ASNt2rpp_CAL2 -0.210913\n",
      "R_ASNtex_CAL2 -0.210913\n",
      "R_FUMtex_CAL2  0.187666\n",
      "R_FUMt1pp_CAL2  0.187666\n",
      "R_PPA_CAL2    0.210913\n",
      "R_ADK1_CAL2   0.210913\n",
      "R_ASNS2_CAL2  0.210913\n",
      "R_NH4tpp_CAL2  0.210913\n",
      "R_NH4tex_CAL2  0.210913\n",
      "R_H2Otex_CAL2  0.480474\n",
      "R_H2Otpp_CAL2  0.480474\n",
      "R_PFK_3_CAL2  3.10359\n",
      "R_FBA3_CAL2   3.10359\n",
      "R_ADEt2rpp_CAL2  3.10359\n",
      "R_ADEtex_CAL2  3.10359\n",
      "R_TPI_CAL2    3.10359\n",
      "R_O2tpp_CAL2  3.36269\n",
      "R_O2tex_CAL2  3.36269\n",
      "R_ACALD_CAL2  3.60731\n",
      "R_PTAr_CAL2   3.60731\n",
      "R_DHAtpp_CAL2  5.17265\n",
      "R_DHAtex_CAL2  5.17265\n",
      "R_SUCCtex_CAL2  6.72538\n",
      "R_CYTBO3_4pp_CAL2  6.72538\n",
      "R_SUCDi_CAL2  6.72538\n",
      "R_SUCCt1pp_CAL2  6.72538\n",
      "R_ATPS4rpp_CAL2  6.7781\n",
      "R_ATPM_CAL2   6.86\n",
      "R_MDH_CAL2    6.91304\n",
      "R_FUM_CAL2    6.91304\n",
      "R_GLUtex_CAL2  6.91304\n",
      "R_GLUt2rpp_CAL2  6.91304\n",
      "R_ACALDtex_CAL2  14.1277\n",
      "R_ACALDtpp_CAL2  14.1277\n"
     ]
    }
   ],
   "source": [
    "solution.show_values(pattern='CAL2', sort=True)"
   ]
  },
  {
   "cell_type": "code",
   "execution_count": 26,
   "metadata": {},
   "outputs": [
    {
     "name": "stdout",
     "output_type": "stream",
     "text": [
      "['R_BIOMASS_Ec_iML1515_core_75p37M_CAL2', 'R_BIOMASS_Ec_iML1515_WT_75p37M_CAL2', 'R_BIOMASS_Ec_iHK1487_core_SAL9', 'R_BIOMASS_Ec_iML1515_core_75p37M_MAM2', 'R_BIOMASS_Ec_iML1515_WT_75p37M_MAM2']\n"
     ]
    }
   ],
   "source": [
    "biomass_reactions = merged_community.search_reactions(\"BIOMASS\")\n",
    "print(biomass_reactions)"
   ]
  },
  {
   "cell_type": "code",
   "execution_count": 27,
   "metadata": {},
   "outputs": [
    {
     "data": {
      "text/plain": [
       "<AxesSubplot: xlabel='Community growth rate', ylabel='E. coli biomass objective function (iML1515) - core - with 75.37 GAM estimate'>"
      ]
     },
     "execution_count": 27,
     "metadata": {},
     "output_type": "execute_result"
    },
    {
     "data": {
      "image/png": "[encoded data removed]",
      "text/plain": [
       "<Figure size 640x480 with 1 Axes>"
      ]
     },
     "metadata": {},
     "output_type": "display_data"
    }
   ],
   "source": [
    "plot_flux_envelope(merged_community, merged_community.biomass_reaction, 'R_BIOMASS_Ec_iML1515_core_75p37M_CAL2', constraints=medium)"
   ]
  },
  {
   "cell_type": "code",
   "execution_count": 28,
   "metadata": {},
   "outputs": [
    {
     "data": {
      "text/plain": [
       "<AxesSubplot: xlabel='Community growth rate'>"
      ]
     },
     "execution_count": 28,
     "metadata": {},
     "output_type": "execute_result"
    },
    {
     "data": {
      "image/png": "[encoded data removed]",
      "text/plain": [
       "<Figure size 640x480 with 1 Axes>"
      ]
     },
     "metadata": {},
     "output_type": "display_data"
    }
   ],
   "source": [
    "plot_flux_envelope(merged_community, merged_community.biomass_reaction, 'R_BIOMASS_Ec_iHK1487_core_SAL9', constraints=medium)"
   ]
  },
  {
   "cell_type": "code",
   "execution_count": 29,
   "metadata": {},
   "outputs": [
    {
     "data": {
      "text/plain": [
       "<AxesSubplot: xlabel='Community growth rate', ylabel='E. coli biomass objective function (iML1515) - core - with 75.37 GAM estimate'>"
      ]
     },
     "execution_count": 29,
     "metadata": {},
     "output_type": "execute_result"
    },
    {
     "data": {
      "image/png": "[encoded data removed]",
      "text/plain": [
       "<Figure size 640x480 with 1 Axes>"
      ]
     },
     "metadata": {},
     "output_type": "display_data"
    }
   ],
   "source": [
    "plot_flux_envelope(merged_community, merged_community.biomass_reaction, 'R_BIOMASS_Ec_iML1515_core_75p37M_MAM2', constraints=medium)"
   ]
  },
  {
   "cell_type": "markdown",
   "metadata": {},
   "source": [
    "- the FBA solution heavily favours SAL9\n",
    "    - this is because the BL21 model biomass reaction has a lower ATP requirement + lower ATP maintanace requirement"
   ]
  },
  {
   "cell_type": "markdown",
   "metadata": {},
   "source": [
    "### Production envelope for rosmarinic acid"
   ]
  },
  {
   "cell_type": "code",
   "execution_count": 30,
   "metadata": {},
   "outputs": [
    {
     "data": {
      "text/plain": [
       "<AxesSubplot: xlabel='Community growth rate', ylabel='R_EX_rosma_e'>"
      ]
     },
     "execution_count": 30,
     "metadata": {},
     "output_type": "execute_result"
    },
    {
     "data": {
      "image/png": "[encoded data removed]",
      "text/plain": [
       "<Figure size 640x480 with 1 Axes>"
      ]
     },
     "metadata": {},
     "output_type": "display_data"
    }
   ],
   "source": [
    "plot_flux_envelope(merged_community, merged_community.biomass_reaction, 'R_EX_rosma_e', constraints=medium)"
   ]
  },
  {
   "cell_type": "markdown",
   "metadata": {},
   "source": [
    "- the envelope shows that there will be no RA production when optimising for community biomass since there is no growth-coupling"
   ]
  },
  {
   "cell_type": "markdown",
   "metadata": {},
   "source": [
    "# Community simulation with SteadyCom"
   ]
  },
  {
   "cell_type": "code",
   "execution_count": 31,
   "metadata": {},
   "outputs": [],
   "source": [
    "from reframed import SteadyCom"
   ]
  },
  {
   "cell_type": "code",
   "execution_count": 32,
   "metadata": {},
   "outputs": [
    {
     "name": "stdout",
     "output_type": "stream",
     "text": [
      "Community growth: 0.9287109375000001\n",
      "CAL2\t0.0038655698611843713\n",
      "SAL9\t0.9952350072889117\n",
      "MAM2\t0.0008994228499039068\n"
     ]
    }
   ],
   "source": [
    "steadycom_solution = SteadyCom(community, constraints=medium)\n",
    "print(steadycom_solution)"
   ]
  },
  {
   "cell_type": "markdown",
   "metadata": {},
   "source": [
    "- again, there little growth for the other strains than SAL9 in the optimal solution -> look into the solution space using FVA"
   ]
  },
  {
   "cell_type": "code",
   "execution_count": 33,
   "metadata": {},
   "outputs": [
    {
     "data": {
      "text/html": [
       "<div>\n",
       "<style scoped>\n",
       "    .dataframe tbody tr th:only-of-type {\n",
       "        vertical-align: middle;\n",
       "    }\n",
       "\n",
       "    .dataframe tbody tr th {\n",
       "        vertical-align: top;\n",
       "    }\n",
       "\n",
       "    .dataframe thead th {\n",
       "        text-align: right;\n",
       "    }\n",
       "</style>\n",
       "<table border=\"1\" class=\"dataframe\">\n",
       "  <thead>\n",
       "    <tr style=\"text-align: right;\">\n",
       "      <th></th>\n",
       "      <th>donor</th>\n",
       "      <th>receiver</th>\n",
       "      <th>compound</th>\n",
       "      <th>rate</th>\n",
       "    </tr>\n",
       "  </thead>\n",
       "  <tbody>\n",
       "    <tr>\n",
       "      <th>80</th>\n",
       "      <td>CAL2</td>\n",
       "      <td>SAL9</td>\n",
       "      <td>M_fruur_e</td>\n",
       "      <td>3.865570</td>\n",
       "    </tr>\n",
       "    <tr>\n",
       "      <th>113</th>\n",
       "      <td>SAL9</td>\n",
       "      <td>CAL2</td>\n",
       "      <td>M_glcur_e</td>\n",
       "      <td>3.865570</td>\n",
       "    </tr>\n",
       "    <tr>\n",
       "      <th>57</th>\n",
       "      <td>SAL9</td>\n",
       "      <td>CAL2</td>\n",
       "      <td>M_glyc_e</td>\n",
       "      <td>3.865570</td>\n",
       "    </tr>\n",
       "    <tr>\n",
       "      <th>122</th>\n",
       "      <td>SAL9</td>\n",
       "      <td>CAL2</td>\n",
       "      <td>M_acald_e</td>\n",
       "      <td>3.865570</td>\n",
       "    </tr>\n",
       "    <tr>\n",
       "      <th>59</th>\n",
       "      <td>CAL2</td>\n",
       "      <td>SAL9</td>\n",
       "      <td>M_glyald_e</td>\n",
       "      <td>3.865570</td>\n",
       "    </tr>\n",
       "    <tr>\n",
       "      <th>...</th>\n",
       "      <td>...</td>\n",
       "      <td>...</td>\n",
       "      <td>...</td>\n",
       "      <td>...</td>\n",
       "    </tr>\n",
       "    <tr>\n",
       "      <th>74</th>\n",
       "      <td>SAL9</td>\n",
       "      <td>MAM2</td>\n",
       "      <td>M_his__L_e</td>\n",
       "      <td>0.000079</td>\n",
       "    </tr>\n",
       "    <tr>\n",
       "      <th>82</th>\n",
       "      <td>MAM2</td>\n",
       "      <td>CAL2</td>\n",
       "      <td>M_kdo2lipid4_e</td>\n",
       "      <td>0.000070</td>\n",
       "    </tr>\n",
       "    <tr>\n",
       "      <th>34</th>\n",
       "      <td>CAL2</td>\n",
       "      <td>MAM2</td>\n",
       "      <td>M_ala__D_e</td>\n",
       "      <td>0.000050</td>\n",
       "    </tr>\n",
       "    <tr>\n",
       "      <th>128</th>\n",
       "      <td>CAL2</td>\n",
       "      <td>MAM2</td>\n",
       "      <td>M_uri_e</td>\n",
       "      <td>0.000022</td>\n",
       "    </tr>\n",
       "    <tr>\n",
       "      <th>40</th>\n",
       "      <td>MAM2</td>\n",
       "      <td>CAL2</td>\n",
       "      <td>M_4abzglu_e</td>\n",
       "      <td>0.000002</td>\n",
       "    </tr>\n",
       "  </tbody>\n",
       "</table>\n",
       "<p>72 rows × 4 columns</p>\n",
       "</div>"
      ],
      "text/plain": [
       "    donor receiver        compound      rate\n",
       "80   CAL2     SAL9       M_fruur_e  3.865570\n",
       "113  SAL9     CAL2       M_glcur_e  3.865570\n",
       "57   SAL9     CAL2        M_glyc_e  3.865570\n",
       "122  SAL9     CAL2       M_acald_e  3.865570\n",
       "59   CAL2     SAL9      M_glyald_e  3.865570\n",
       "..    ...      ...             ...       ...\n",
       "74   SAL9     MAM2      M_his__L_e  0.000079\n",
       "82   MAM2     CAL2  M_kdo2lipid4_e  0.000070\n",
       "34   CAL2     MAM2      M_ala__D_e  0.000050\n",
       "128  CAL2     MAM2         M_uri_e  0.000022\n",
       "40   MAM2     CAL2     M_4abzglu_e  0.000002\n",
       "\n",
       "[72 rows x 4 columns]"
      ]
     },
     "execution_count": 33,
     "metadata": {},
     "output_type": "execute_result"
    }
   ],
   "source": [
    "steadycom_solution.cross_feeding(as_df=True).dropna().sort_values(\"rate\", ascending = False)"
   ]
  },
  {
   "cell_type": "markdown",
   "metadata": {},
   "source": [
    "solution without Phe in the medium:"
   ]
  },
  {
   "cell_type": "code",
   "execution_count": 35,
   "metadata": {},
   "outputs": [
    {
     "name": "stdout",
     "output_type": "stream",
     "text": [
      "Community growth: 0.900390625\n",
      "CAL2\t0.005090423666559445\n",
      "SAL9\t0.9925872749527435\n",
      "MAM2\t0.002322301380697035\n"
     ]
    }
   ],
   "source": [
    "medium_no_phe = medium.copy()\n",
    "medium_no_phe[\"R_EX_phe__L_e\"] = (0, float(\"inf\"))\n",
    "solution_no_phe = SteadyCom(community, constraints=medium_no_phe)\n",
    "print(solution_no_phe)"
   ]
  },
  {
   "cell_type": "code",
   "execution_count": 36,
   "metadata": {},
   "outputs": [
    {
     "data": {
      "text/html": [
       "<div>\n",
       "<style scoped>\n",
       "    .dataframe tbody tr th:only-of-type {\n",
       "        vertical-align: middle;\n",
       "    }\n",
       "\n",
       "    .dataframe tbody tr th {\n",
       "        vertical-align: top;\n",
       "    }\n",
       "\n",
       "    .dataframe thead th {\n",
       "        text-align: right;\n",
       "    }\n",
       "</style>\n",
       "<table border=\"1\" class=\"dataframe\">\n",
       "  <thead>\n",
       "    <tr style=\"text-align: right;\">\n",
       "      <th></th>\n",
       "      <th>donor</th>\n",
       "      <th>receiver</th>\n",
       "      <th>compound</th>\n",
       "      <th>rate</th>\n",
       "    </tr>\n",
       "  </thead>\n",
       "  <tbody>\n",
       "    <tr>\n",
       "      <th>122</th>\n",
       "      <td>SAL9</td>\n",
       "      <td>CAL2</td>\n",
       "      <td>M_mal__L_e</td>\n",
       "      <td>5.090424</td>\n",
       "    </tr>\n",
       "    <tr>\n",
       "      <th>5</th>\n",
       "      <td>CAL2</td>\n",
       "      <td>SAL9</td>\n",
       "      <td>M_idon__L_e</td>\n",
       "      <td>5.090424</td>\n",
       "    </tr>\n",
       "    <tr>\n",
       "      <th>129</th>\n",
       "      <td>SAL9</td>\n",
       "      <td>CAL2</td>\n",
       "      <td>M_acald_e</td>\n",
       "      <td>5.090424</td>\n",
       "    </tr>\n",
       "    <tr>\n",
       "      <th>118</th>\n",
       "      <td>CAL2</td>\n",
       "      <td>SAL9</td>\n",
       "      <td>M_asp__L_e</td>\n",
       "      <td>5.079430</td>\n",
       "    </tr>\n",
       "    <tr>\n",
       "      <th>33</th>\n",
       "      <td>SAL9</td>\n",
       "      <td>CAL2</td>\n",
       "      <td>M_dha_e</td>\n",
       "      <td>3.623643</td>\n",
       "    </tr>\n",
       "    <tr>\n",
       "      <th>...</th>\n",
       "      <td>...</td>\n",
       "      <td>...</td>\n",
       "      <td>...</td>\n",
       "      <td>...</td>\n",
       "    </tr>\n",
       "    <tr>\n",
       "      <th>92</th>\n",
       "      <td>MAM2</td>\n",
       "      <td>CAL2</td>\n",
       "      <td>M_kdo2lipid4_e</td>\n",
       "      <td>0.000089</td>\n",
       "    </tr>\n",
       "    <tr>\n",
       "      <th>36</th>\n",
       "      <td>CAL2</td>\n",
       "      <td>MAM2</td>\n",
       "      <td>M_ala__D_e</td>\n",
       "      <td>0.000064</td>\n",
       "    </tr>\n",
       "    <tr>\n",
       "      <th>104</th>\n",
       "      <td>CAL2</td>\n",
       "      <td>SAL9</td>\n",
       "      <td>M_succ_e</td>\n",
       "      <td>0.000013</td>\n",
       "    </tr>\n",
       "    <tr>\n",
       "      <th>44</th>\n",
       "      <td>CAL2</td>\n",
       "      <td>MAM2</td>\n",
       "      <td>M_4abzglu_e</td>\n",
       "      <td>0.000001</td>\n",
       "    </tr>\n",
       "    <tr>\n",
       "      <th>105</th>\n",
       "      <td>MAM2</td>\n",
       "      <td>SAL9</td>\n",
       "      <td>M_succ_e</td>\n",
       "      <td>0.000001</td>\n",
       "    </tr>\n",
       "  </tbody>\n",
       "</table>\n",
       "<p>78 rows × 4 columns</p>\n",
       "</div>"
      ],
      "text/plain": [
       "    donor receiver        compound      rate\n",
       "122  SAL9     CAL2      M_mal__L_e  5.090424\n",
       "5    CAL2     SAL9     M_idon__L_e  5.090424\n",
       "129  SAL9     CAL2       M_acald_e  5.090424\n",
       "118  CAL2     SAL9      M_asp__L_e  5.079430\n",
       "33   SAL9     CAL2         M_dha_e  3.623643\n",
       "..    ...      ...             ...       ...\n",
       "92   MAM2     CAL2  M_kdo2lipid4_e  0.000089\n",
       "36   CAL2     MAM2      M_ala__D_e  0.000064\n",
       "104  CAL2     SAL9        M_succ_e  0.000013\n",
       "44   CAL2     MAM2     M_4abzglu_e  0.000001\n",
       "105  MAM2     SAL9        M_succ_e  0.000001\n",
       "\n",
       "[78 rows x 4 columns]"
      ]
     },
     "execution_count": 36,
     "metadata": {},
     "output_type": "execute_result"
    }
   ],
   "source": [
    "solution_no_phe.cross_feeding(as_df=True).dropna().sort_values(\"rate\", ascending = False)"
   ]
  },
  {
   "cell_type": "markdown",
   "metadata": {},
   "source": [
    "- likely there are now artificially many cross-feedings"
   ]
  },
  {
   "cell_type": "markdown",
   "metadata": {},
   "source": [
    "## Community FVA with SteadyCom"
   ]
  },
  {
   "cell_type": "code",
   "execution_count": 37,
   "metadata": {},
   "outputs": [
    {
     "name": "stdout",
     "output_type": "stream",
     "text": [
      "{'CAL2': [0.0, 0.38070107277933785], 'SAL9': [0.6192989272187077, 1.0], 'MAM2': [0.0, 0.3807010727830189]}\n"
     ]
    }
   ],
   "source": [
    "from reframed import SteadyComVA\n",
    "com_fva_solution = SteadyComVA(community, constraints=medium, obj_frac=0.99)\n",
    "print(com_fva_solution)"
   ]
  },
  {
   "cell_type": "code",
   "execution_count": 38,
   "metadata": {},
   "outputs": [
    {
     "data": {
      "application/vnd.jupyter.widget-view+json": {
       "model_id": "03852bfd887c4f7aa2ea3b3a133af7c3",
       "version_major": 2,
       "version_minor": 0
      },
      "text/plain": [
       "  0%|          | 0/11 [00:00<?, ?it/s]"
      ]
     },
     "metadata": {},
     "output_type": "display_data"
    },
    {
     "data": {
      "text/html": [
       "<div>\n",
       "<style scoped>\n",
       "    .dataframe tbody tr th:only-of-type {\n",
       "        vertical-align: middle;\n",
       "    }\n",
       "\n",
       "    .dataframe tbody tr th {\n",
       "        vertical-align: top;\n",
       "    }\n",
       "\n",
       "    .dataframe thead th {\n",
       "        text-align: right;\n",
       "    }\n",
       "</style>\n",
       "<table border=\"1\" class=\"dataframe\">\n",
       "  <thead>\n",
       "    <tr style=\"text-align: right;\">\n",
       "      <th></th>\n",
       "      <th>CAL2</th>\n",
       "      <th>SAL9</th>\n",
       "      <th>MAM2</th>\n",
       "    </tr>\n",
       "    <tr>\n",
       "      <th>frac</th>\n",
       "      <th></th>\n",
       "      <th></th>\n",
       "      <th></th>\n",
       "    </tr>\n",
       "  </thead>\n",
       "  <tbody>\n",
       "    <tr>\n",
       "      <th>0.950</th>\n",
       "      <td>[0.0, 1.0]</td>\n",
       "      <td>[0.0, 1.0]</td>\n",
       "      <td>[0.0, 1.0]</td>\n",
       "    </tr>\n",
       "    <tr>\n",
       "      <th>0.955</th>\n",
       "      <td>[0.0, 1.0]</td>\n",
       "      <td>[0.0, 1.0]</td>\n",
       "      <td>[0.0, 1.0]</td>\n",
       "    </tr>\n",
       "    <tr>\n",
       "      <th>0.960</th>\n",
       "      <td>[0.0, 1.0]</td>\n",
       "      <td>[0.0, 1.0]</td>\n",
       "      <td>[0.0, 1.0]</td>\n",
       "    </tr>\n",
       "    <tr>\n",
       "      <th>0.965</th>\n",
       "      <td>[0.0, 1.0]</td>\n",
       "      <td>[0.0, 1.0]</td>\n",
       "      <td>[0.0, 1.0]</td>\n",
       "    </tr>\n",
       "    <tr>\n",
       "      <th>0.970</th>\n",
       "      <td>[0.0, 1.0]</td>\n",
       "      <td>[0.0, 1.0]</td>\n",
       "      <td>[0.0, 1.0]</td>\n",
       "    </tr>\n",
       "    <tr>\n",
       "      <th>0.975</th>\n",
       "      <td>[0.0, 0.9308913859489412]</td>\n",
       "      <td>[0.06910861405540913, 1.0]</td>\n",
       "      <td>[0.0, 0.9308913859429495]</td>\n",
       "    </tr>\n",
       "    <tr>\n",
       "      <th>0.980</th>\n",
       "      <td>[0.0, 0.7461117666457643]</td>\n",
       "      <td>[0.25388823335333655, 1.0]</td>\n",
       "      <td>[0.0, 0.746111766650067]</td>\n",
       "    </tr>\n",
       "    <tr>\n",
       "      <th>0.985</th>\n",
       "      <td>[0.0, 0.5627201894858447]</td>\n",
       "      <td>[0.43727981051023335, 1.0]</td>\n",
       "      <td>[0.0, 0.5627201894909319]</td>\n",
       "    </tr>\n",
       "    <tr>\n",
       "      <th>0.990</th>\n",
       "      <td>[0.0, 0.38070107277933785]</td>\n",
       "      <td>[0.6192989272187077, 1.0]</td>\n",
       "      <td>[0.0, 0.3807010727830189]</td>\n",
       "    </tr>\n",
       "    <tr>\n",
       "      <th>0.995</th>\n",
       "      <td>[0.0, 0.2000390671899197]</td>\n",
       "      <td>[0.7999609328167405, 1.0]</td>\n",
       "      <td>[0.0, 0.20003906718867626]</td>\n",
       "    </tr>\n",
       "    <tr>\n",
       "      <th>1.000</th>\n",
       "      <td>[0.0, 0.02071905141859549]</td>\n",
       "      <td>[0.9792809485857042, 0.9960403755382362]</td>\n",
       "      <td>[0.0, 0.02071905141918114]</td>\n",
       "    </tr>\n",
       "  </tbody>\n",
       "</table>\n",
       "</div>"
      ],
      "text/plain": [
       "                             CAL2  ...                        MAM2\n",
       "frac                               ...                            \n",
       "0.950                  [0.0, 1.0]  ...                  [0.0, 1.0]\n",
       "0.955                  [0.0, 1.0]  ...                  [0.0, 1.0]\n",
       "0.960                  [0.0, 1.0]  ...                  [0.0, 1.0]\n",
       "0.965                  [0.0, 1.0]  ...                  [0.0, 1.0]\n",
       "0.970                  [0.0, 1.0]  ...                  [0.0, 1.0]\n",
       "0.975   [0.0, 0.9308913859489412]  ...   [0.0, 0.9308913859429495]\n",
       "0.980   [0.0, 0.7461117666457643]  ...    [0.0, 0.746111766650067]\n",
       "0.985   [0.0, 0.5627201894858447]  ...   [0.0, 0.5627201894909319]\n",
       "0.990  [0.0, 0.38070107277933785]  ...   [0.0, 0.3807010727830189]\n",
       "0.995   [0.0, 0.2000390671899197]  ...  [0.0, 0.20003906718867626]\n",
       "1.000  [0.0, 0.02071905141859549]  ...  [0.0, 0.02071905141918114]\n",
       "\n",
       "[11 rows x 3 columns]"
      ]
     },
     "execution_count": 38,
     "metadata": {},
     "output_type": "execute_result"
    }
   ],
   "source": [
    "from reframed import SteadyComVA\n",
    "from tqdm.notebook import tqdm\n",
    "import pandas as pd\n",
    "\n",
    "results_list = []\n",
    "\n",
    "for i in tqdm(range(950, 1005, 5)):\n",
    "    frac = i/1000\n",
    "    com_fva_solution = SteadyComVA(community, constraints=medium, obj_frac=frac)\n",
    "    com_fva_solution[\"frac\"] = frac\n",
    "    results_list.append(com_fva_solution)\n",
    "\n",
    "results_df = pd.DataFrame(results_list)\n",
    "results_df.set_index(\"frac\")"
   ]
  },
  {
   "cell_type": "code",
   "execution_count": 39,
   "metadata": {},
   "outputs": [
    {
     "data": {
      "text/plain": [
       "Text(0.5, 0, 'fraction of optimal solution')"
      ]
     },
     "execution_count": 39,
     "metadata": {},
     "output_type": "execute_result"
    },
    {
     "data": {
      "image/png": "[encoded data removed]",
      "text/plain": [
       "<Figure size 640x480 with 1 Axes>"
      ]
     },
     "metadata": {},
     "output_type": "display_data"
    }
   ],
   "source": [
    "import seaborn as sns\n",
    "import matplotlib.pyplot as plt\n",
    "\n",
    "plot_df = results_df.explode([\"CAL2\", \"SAL9\", \"MAM2\"])\n",
    "df_melt = plot_df.melt('frac', var_name='strain', value_name='growth rate')\n",
    "\n",
    "sns.lineplot(data=df_melt, x=\"frac\", y=\"growth rate\", hue=\"strain\",orient=\"y\")\n",
    "plt.xlabel(\"fraction of optimal solution\")"
   ]
  },
  {
   "cell_type": "code",
   "execution_count": 40,
   "metadata": {},
   "outputs": [
    {
     "data": {
      "application/vnd.plotly.v1+json": {
       "config": {
        "plotlyServerURL": "https://plot.ly"
       },
       "data": [
        {
         "hovertemplate": "strain=CAL2<br>frac=%{x}<br>growth rate=%{y}<extra></extra>",
         "legendgroup": "CAL2",
         "marker": {
          "color": "#636efa",
          "symbol": "circle"
         },
         "mode": "markers",
         "name": "CAL2",
         "orientation": "h",
         "showlegend": true,
         "type": "scatter",
         "x": [
          0.95,
          0.95,
          0.955,
          0.955,
          0.96,
          0.96,
          0.965,
          0.965,
          0.97,
          0.97,
          0.975,
          0.975,
          0.98,
          0.98,
          0.985,
          0.985,
          0.99,
          0.99,
          0.995,
          0.995,
          1,
          1
         ],
         "xaxis": "x",
         "y": [
          0,
          1,
          0,
          1,
          0,
          1,
          0,
          1,
          0,
          1,
          0,
          0.9308913859489412,
          0,
          0.7461117666457643,
          0,
          0.5627201894858447,
          0,
          0.38070107277933785,
          0,
          0.2000390671899197,
          0,
          0.02071905141859549
         ],
         "yaxis": "y"
        },
        {
         "hovertemplate": "strain=SAL9<br>frac=%{x}<br>growth rate=%{y}<extra></extra>",
         "legendgroup": "SAL9",
         "marker": {
          "color": "#EF553B",
          "symbol": "circle"
         },
         "mode": "markers",
         "name": "SAL9",
         "orientation": "h",
         "showlegend": true,
         "type": "scatter",
         "x": [
          0.95,
          0.95,
          0.955,
          0.955,
          0.96,
          0.96,
          0.965,
          0.965,
          0.97,
          0.97,
          0.975,
          0.975,
          0.98,
          0.98,
          0.985,
          0.985,
          0.99,
          0.99,
          0.995,
          0.995,
          1,
          1
         ],
         "xaxis": "x",
         "y": [
          0,
          1,
          0,
          1,
          0,
          1,
          0,
          1,
          0,
          1,
          0.06910861405540913,
          1,
          0.25388823335333655,
          1,
          0.43727981051023335,
          1,
          0.6192989272187077,
          1,
          0.7999609328167405,
          1,
          0.9792809485857042,
          0.9960403755382362
         ],
         "yaxis": "y"
        },
        {
         "hovertemplate": "strain=MAM2<br>frac=%{x}<br>growth rate=%{y}<extra></extra>",
         "legendgroup": "MAM2",
         "marker": {
          "color": "#00cc96",
          "symbol": "circle"
         },
         "mode": "markers",
         "name": "MAM2",
         "orientation": "h",
         "showlegend": true,
         "type": "scatter",
         "x": [
          0.95,
          0.95,
          0.955,
          0.955,
          0.96,
          0.96,
          0.965,
          0.965,
          0.97,
          0.97,
          0.975,
          0.975,
          0.98,
          0.98,
          0.985,
          0.985,
          0.99,
          0.99,
          0.995,
          0.995,
          1,
          1
         ],
         "xaxis": "x",
         "y": [
          0,
          1,
          0,
          1,
          0,
          1,
          0,
          1,
          0,
          1,
          0,
          0.9308913859429495,
          0,
          0.746111766650067,
          0,
          0.5627201894909319,
          0,
          0.3807010727830189,
          0,
          0.20003906718867626,
          0,
          0.02071905141918114
         ],
         "yaxis": "y"
        }
       ],
       "layout": {
        "legend": {
         "title": {
          "text": "strain"
         },
         "tracegroupgap": 0
        },
        "margin": {
         "t": 60
        },
        "template": {
         "data": {
          "bar": [
           {
            "error_x": {
             "color": "#2a3f5f"
            },
            "error_y": {
             "color": "#2a3f5f"
            },
            "marker": {
             "line": {
              "color": "#E5ECF6",
              "width": 0.5
             },
             "pattern": {
              "fillmode": "overlay",
              "size": 10,
              "solidity": 0.2
             }
            },
            "type": "bar"
           }
          ],
          "barpolar": [
           {
            "marker": {
             "line": {
              "color": "#E5ECF6",
              "width": 0.5
             },
             "pattern": {
              "fillmode": "overlay",
              "size": 10,
              "solidity": 0.2
             }
            },
            "type": "barpolar"
           }
          ],
          "carpet": [
           {
            "aaxis": {
             "endlinecolor": "#2a3f5f",
             "gridcolor": "white",
             "linecolor": "white",
             "minorgridcolor": "white",
             "startlinecolor": "#2a3f5f"
            },
            "baxis": {
             "endlinecolor": "#2a3f5f",
             "gridcolor": "white",
             "linecolor": "white",
             "minorgridcolor": "white",
             "startlinecolor": "#2a3f5f"
            },
            "type": "carpet"
           }
          ],
          "choropleth": [
           {
            "colorbar": {
             "outlinewidth": 0,
             "ticks": ""
            },
            "type": "choropleth"
           }
          ],
          "contour": [
           {
            "colorbar": {
             "outlinewidth": 0,
             "ticks": ""
            },
            "colorscale": [
             [
              0,
              "#0d0887"
             ],
             [
              0.1111111111111111,
              "#46039f"
             ],
             [
              0.2222222222222222,
              "#7201a8"
             ],
             [
              0.3333333333333333,
              "#9c179e"
             ],
             [
              0.4444444444444444,
              "#bd3786"
             ],
             [
              0.5555555555555556,
              "#d8576b"
             ],
             [
              0.6666666666666666,
              "#ed7953"
             ],
             [
              0.7777777777777778,
              "#fb9f3a"
             ],
             [
              0.8888888888888888,
              "#fdca26"
             ],
             [
              1,
              "#f0f921"
             ]
            ],
            "type": "contour"
           }
          ],
          "contourcarpet": [
           {
            "colorbar": {
             "outlinewidth": 0,
             "ticks": ""
            },
            "type": "contourcarpet"
           }
          ],
          "heatmap": [
           {
            "colorbar": {
             "outlinewidth": 0,
             "ticks": ""
            },
            "colorscale": [
             [
              0,
              "#0d0887"
             ],
             [
              0.1111111111111111,
              "#46039f"
             ],
             [
              0.2222222222222222,
              "#7201a8"
             ],
             [
              0.3333333333333333,
              "#9c179e"
             ],
             [
              0.4444444444444444,
              "#bd3786"
             ],
             [
              0.5555555555555556,
              "#d8576b"
             ],
             [
              0.6666666666666666,
              "#ed7953"
             ],
             [
              0.7777777777777778,
              "#fb9f3a"
             ],
             [
              0.8888888888888888,
              "#fdca26"
             ],
             [
              1,
              "#f0f921"
             ]
            ],
            "type": "heatmap"
           }
          ],
          "heatmapgl": [
           {
            "colorbar": {
             "outlinewidth": 0,
             "ticks": ""
            },
            "colorscale": [
             [
              0,
              "#0d0887"
             ],
             [
              0.1111111111111111,
              "#46039f"
             ],
             [
              0.2222222222222222,
              "#7201a8"
             ],
             [
              0.3333333333333333,
              "#9c179e"
             ],
             [
              0.4444444444444444,
              "#bd3786"
             ],
             [
              0.5555555555555556,
              "#d8576b"
             ],
             [
              0.6666666666666666,
              "#ed7953"
             ],
             [
              0.7777777777777778,
              "#fb9f3a"
             ],
             [
              0.8888888888888888,
              "#fdca26"
             ],
             [
              1,
              "#f0f921"
             ]
            ],
            "type": "heatmapgl"
           }
          ],
          "histogram": [
           {
            "marker": {
             "pattern": {
              "fillmode": "overlay",
              "size": 10,
              "solidity": 0.2
             }
            },
            "type": "histogram"
           }
          ],
          "histogram2d": [
           {
            "colorbar": {
             "outlinewidth": 0,
             "ticks": ""
            },
            "colorscale": [
             [
              0,
              "#0d0887"
             ],
             [
              0.1111111111111111,
              "#46039f"
             ],
             [
              0.2222222222222222,
              "#7201a8"
             ],
             [
              0.3333333333333333,
              "#9c179e"
             ],
             [
              0.4444444444444444,
              "#bd3786"
             ],
             [
              0.5555555555555556,
              "#d8576b"
             ],
             [
              0.6666666666666666,
              "#ed7953"
             ],
             [
              0.7777777777777778,
              "#fb9f3a"
             ],
             [
              0.8888888888888888,
              "#fdca26"
             ],
             [
              1,
              "#f0f921"
             ]
            ],
            "type": "histogram2d"
           }
          ],
          "histogram2dcontour": [
           {
            "colorbar": {
             "outlinewidth": 0,
             "ticks": ""
            },
            "colorscale": [
             [
              0,
              "#0d0887"
             ],
             [
              0.1111111111111111,
              "#46039f"
             ],
             [
              0.2222222222222222,
              "#7201a8"
             ],
             [
              0.3333333333333333,
              "#9c179e"
             ],
             [
              0.4444444444444444,
              "#bd3786"
             ],
             [
              0.5555555555555556,
              "#d8576b"
             ],
             [
              0.6666666666666666,
              "#ed7953"
             ],
             [
              0.7777777777777778,
              "#fb9f3a"
             ],
             [
              0.8888888888888888,
              "#fdca26"
             ],
             [
              1,
              "#f0f921"
             ]
            ],
            "type": "histogram2dcontour"
           }
          ],
          "mesh3d": [
           {
            "colorbar": {
             "outlinewidth": 0,
             "ticks": ""
            },
            "type": "mesh3d"
           }
          ],
          "parcoords": [
           {
            "line": {
             "colorbar": {
              "outlinewidth": 0,
              "ticks": ""
             }
            },
            "type": "parcoords"
           }
          ],
          "pie": [
           {
            "automargin": true,
            "type": "pie"
           }
          ],
          "scatter": [
           {
            "fillpattern": {
             "fillmode": "overlay",
             "size": 10,
             "solidity": 0.2
            },
            "type": "scatter"
           }
          ],
          "scatter3d": [
           {
            "line": {
             "colorbar": {
              "outlinewidth": 0,
              "ticks": ""
             }
            },
            "marker": {
             "colorbar": {
              "outlinewidth": 0,
              "ticks": ""
             }
            },
            "type": "scatter3d"
           }
          ],
          "scattercarpet": [
           {
            "marker": {
             "colorbar": {
              "outlinewidth": 0,
              "ticks": ""
             }
            },
            "type": "scattercarpet"
           }
          ],
          "scattergeo": [
           {
            "marker": {
             "colorbar": {
              "outlinewidth": 0,
              "ticks": ""
             }
            },
            "type": "scattergeo"
           }
          ],
          "scattergl": [
           {
            "marker": {
             "colorbar": {
              "outlinewidth": 0,
              "ticks": ""
             }
            },
            "type": "scattergl"
           }
          ],
          "scattermapbox": [
           {
            "marker": {
             "colorbar": {
              "outlinewidth": 0,
              "ticks": ""
             }
            },
            "type": "scattermapbox"
           }
          ],
          "scatterpolar": [
           {
            "marker": {
             "colorbar": {
              "outlinewidth": 0,
              "ticks": ""
             }
            },
            "type": "scatterpolar"
           }
          ],
          "scatterpolargl": [
           {
            "marker": {
             "colorbar": {
              "outlinewidth": 0,
              "ticks": ""
             }
            },
            "type": "scatterpolargl"
           }
          ],
          "scatterternary": [
           {
            "marker": {
             "colorbar": {
              "outlinewidth": 0,
              "ticks": ""
             }
            },
            "type": "scatterternary"
           }
          ],
          "surface": [
           {
            "colorbar": {
             "outlinewidth": 0,
             "ticks": ""
            },
            "colorscale": [
             [
              0,
              "#0d0887"
             ],
             [
              0.1111111111111111,
              "#46039f"
             ],
             [
              0.2222222222222222,
              "#7201a8"
             ],
             [
              0.3333333333333333,
              "#9c179e"
             ],
             [
              0.4444444444444444,
              "#bd3786"
             ],
             [
              0.5555555555555556,
              "#d8576b"
             ],
             [
              0.6666666666666666,
              "#ed7953"
             ],
             [
              0.7777777777777778,
              "#fb9f3a"
             ],
             [
              0.8888888888888888,
              "#fdca26"
             ],
             [
              1,
              "#f0f921"
             ]
            ],
            "type": "surface"
           }
          ],
          "table": [
           {
            "cells": {
             "fill": {
              "color": "#EBF0F8"
             },
             "line": {
              "color": "white"
             }
            },
            "header": {
             "fill": {
              "color": "#C8D4E3"
             },
             "line": {
              "color": "white"
             }
            },
            "type": "table"
           }
          ]
         },
         "layout": {
          "annotationdefaults": {
           "arrowcolor": "#2a3f5f",
           "arrowhead": 0,
           "arrowwidth": 1
          },
          "autotypenumbers": "strict",
          "coloraxis": {
           "colorbar": {
            "outlinewidth": 0,
            "ticks": ""
           }
          },
          "colorscale": {
           "diverging": [
            [
             0,
             "#8e0152"
            ],
            [
             0.1,
             "#c51b7d"
            ],
            [
             0.2,
             "#de77ae"
            ],
            [
             0.3,
             "#f1b6da"
            ],
            [
             0.4,
             "#fde0ef"
            ],
            [
             0.5,
             "#f7f7f7"
            ],
            [
             0.6,
             "#e6f5d0"
            ],
            [
             0.7,
             "#b8e186"
            ],
            [
             0.8,
             "#7fbc41"
            ],
            [
             0.9,
             "#4d9221"
            ],
            [
             1,
             "#276419"
            ]
           ],
           "sequential": [
            [
             0,
             "#0d0887"
            ],
            [
             0.1111111111111111,
             "#46039f"
            ],
            [
             0.2222222222222222,
             "#7201a8"
            ],
            [
             0.3333333333333333,
             "#9c179e"
            ],
            [
             0.4444444444444444,
             "#bd3786"
            ],
            [
             0.5555555555555556,
             "#d8576b"
            ],
            [
             0.6666666666666666,
             "#ed7953"
            ],
            [
             0.7777777777777778,
             "#fb9f3a"
            ],
            [
             0.8888888888888888,
             "#fdca26"
            ],
            [
             1,
             "#f0f921"
            ]
           ],
           "sequentialminus": [
            [
             0,
             "#0d0887"
            ],
            [
             0.1111111111111111,
             "#46039f"
            ],
            [
             0.2222222222222222,
             "#7201a8"
            ],
            [
             0.3333333333333333,
             "#9c179e"
            ],
            [
             0.4444444444444444,
             "#bd3786"
            ],
            [
             0.5555555555555556,
             "#d8576b"
            ],
            [
             0.6666666666666666,
             "#ed7953"
            ],
            [
             0.7777777777777778,
             "#fb9f3a"
            ],
            [
             0.8888888888888888,
             "#fdca26"
            ],
            [
             1,
             "#f0f921"
            ]
           ]
          },
          "colorway": [
           "#636efa",
           "#EF553B",
           "#00cc96",
           "#ab63fa",
           "#FFA15A",
           "#19d3f3",
           "#FF6692",
           "#B6E880",
           "#FF97FF",
           "#FECB52"
          ],
          "font": {
           "color": "#2a3f5f"
          },
          "geo": {
           "bgcolor": "white",
           "lakecolor": "white",
           "landcolor": "#E5ECF6",
           "showlakes": true,
           "showland": true,
           "subunitcolor": "white"
          },
          "hoverlabel": {
           "align": "left"
          },
          "hovermode": "closest",
          "mapbox": {
           "style": "light"
          },
          "paper_bgcolor": "white",
          "plot_bgcolor": "#E5ECF6",
          "polar": {
           "angularaxis": {
            "gridcolor": "white",
            "linecolor": "white",
            "ticks": ""
           },
           "bgcolor": "#E5ECF6",
           "radialaxis": {
            "gridcolor": "white",
            "linecolor": "white",
            "ticks": ""
           }
          },
          "scene": {
           "xaxis": {
            "backgroundcolor": "#E5ECF6",
            "gridcolor": "white",
            "gridwidth": 2,
            "linecolor": "white",
            "showbackground": true,
            "ticks": "",
            "zerolinecolor": "white"
           },
           "yaxis": {
            "backgroundcolor": "#E5ECF6",
            "gridcolor": "white",
            "gridwidth": 2,
            "linecolor": "white",
            "showbackground": true,
            "ticks": "",
            "zerolinecolor": "white"
           },
           "zaxis": {
            "backgroundcolor": "#E5ECF6",
            "gridcolor": "white",
            "gridwidth": 2,
            "linecolor": "white",
            "showbackground": true,
            "ticks": "",
            "zerolinecolor": "white"
           }
          },
          "shapedefaults": {
           "line": {
            "color": "#2a3f5f"
           }
          },
          "ternary": {
           "aaxis": {
            "gridcolor": "white",
            "linecolor": "white",
            "ticks": ""
           },
           "baxis": {
            "gridcolor": "white",
            "linecolor": "white",
            "ticks": ""
           },
           "bgcolor": "#E5ECF6",
           "caxis": {
            "gridcolor": "white",
            "linecolor": "white",
            "ticks": ""
           }
          },
          "title": {
           "x": 0.05
          },
          "xaxis": {
           "automargin": true,
           "gridcolor": "white",
           "linecolor": "white",
           "ticks": "",
           "title": {
            "standoff": 15
           },
           "zerolinecolor": "white",
           "zerolinewidth": 2
          },
          "yaxis": {
           "automargin": true,
           "gridcolor": "white",
           "linecolor": "white",
           "ticks": "",
           "title": {
            "standoff": 15
           },
           "zerolinecolor": "white",
           "zerolinewidth": 2
          }
         }
        },
        "xaxis": {
         "anchor": "y",
         "domain": [
          0,
          1
         ],
         "title": {
          "text": "frac"
         }
        },
        "yaxis": {
         "anchor": "x",
         "domain": [
          0,
          1
         ],
         "title": {
          "text": "growth rate"
         }
        }
       }
      }
     },
     "metadata": {},
     "output_type": "display_data"
    }
   ],
   "source": [
    "import plotly.express as px\n",
    "\n",
    "px.scatter(data_frame=df_melt, x=\"frac\", y=\"growth rate\", color=\"strain\")"
   ]
  },
  {
   "cell_type": "markdown",
   "metadata": {},
   "source": [
    "- note: identical curves for CAL2 and MAM2 (K12 derived strains)"
   ]
  },
  {
   "cell_type": "markdown",
   "metadata": {},
   "source": [
    "In the experiment it was SAL9 which was the least abundant, and CAL2 and MAM2 have different end-points (but similar trajectories):"
   ]
  },
  {
   "cell_type": "code",
   "execution_count": 35,
   "metadata": {},
   "outputs": [
    {
     "name": "stdout",
     "output_type": "stream",
     "text": [
      "         time  subpopulation_percentage strain\n",
      "13  47.936726                 50.987433   CAL2\n",
      "27  47.936726                 33.303411   MAM2\n",
      "41  47.936726                 16.247756   SAL9\n"
     ]
    },
    {
     "data": {
      "text/plain": [
       "<AxesSubplot: xlabel='time', ylabel='subpopulation_percentage'>"
      ]
     },
     "execution_count": 35,
     "metadata": {},
     "output_type": "execute_result"
    },
    {
     "data": {
      "image/png": "[encoded data removed]",
      "text/plain": [
       "<Figure size 640x480 with 1 Axes>"
      ]
     },
     "metadata": {},
     "output_type": "display_data"
    }
   ],
   "source": [
    "relative_percentage = pd.read_csv(\"exp_data/subpopulation_percentage/data.csv\")\n",
    "\n",
    "end_time = relative_percentage.time.max().round(0)\n",
    "print(relative_percentage[relative_percentage[\"time\"].round(0) == end_time])\n",
    "\n",
    "sns.lineplot(relative_percentage, x=\"time\", y=\"subpopulation_percentage\", hue=\"strain\", hue_order=[\"CAL2\", \"SAL9\", \"MAM2\"])"
   ]
  },
  {
   "cell_type": "markdown",
   "metadata": {},
   "source": [
    "at fraction of optimum around 0.975 percent - there is possibility for high growth-rate of MAM2 and CAL9, and low growth-rate of SAL9"
   ]
  },
  {
   "cell_type": "markdown",
   "metadata": {},
   "source": [
    "# SteadyCom simulation with RA production as objective"
   ]
  },
  {
   "cell_type": "code",
   "execution_count": 41,
   "metadata": {},
   "outputs": [
    {
     "name": "stdout",
     "output_type": "stream",
     "text": [
      "Objective: 2.4846238938053085\n",
      "Status: Optimal\n",
      "\n",
      "R_H2Otex_CAL2 -51.495\n",
      "R_H2Otpp_CAL2 -51.495\n",
      "R_ACALDtex_CAL2 -40.1609\n",
      "R_ACALDtpp_CAL2 -40.1609\n",
      "R_ALCD2x_MAM2 -24.0125\n",
      "R_ETOHtex_MAM2 -24.0125\n",
      "R_ETOHtrpp_MAM2 -24.0125\n",
      "R_ACALD_CAL2 -18.6167\n",
      "R_PTAr_CAL2  -18.6167\n",
      "R_ACKr_MAM2  -13.4836\n",
      "R_ACtex_MAM2 -13.4836\n",
      "R_ACt2rpp_MAM2 -13.4836\n",
      "R_PGK_CAL2   -12.5707\n",
      "R_PGM_CAL2   -12.5707\n",
      "R_DHAtpp_CAL2 -12.5666\n",
      "R_DHAtex_CAL2 -12.5666\n",
      "R_F6PA_MAM2  -12.5666\n",
      "R_Htex_MAM2  -10.999\n",
      "R_EX_o2_e    -10.3075\n",
      "R_EX_glc__D_e -10\n",
      "R_ADEt2rpp_CAL2 -7.53998\n",
      "R_ADEtex_CAL2 -7.53998\n",
      "R_PPM_MAM2   -7.53998\n",
      "R_PUNP1_MAM2 -7.53998\n",
      "R_ADNt2pp_copy2_MAM2 -7.53998\n",
      "R_ADNtex_MAM2 -7.53998\n",
      "R_CO2tpp_CAL2 -7.38007\n",
      "R_CO2tex_CAL2 -7.38007\n",
      "R_CO2tpp_MAM2 -5.26447\n",
      "R_CO2tex_MAM2 -5.26447\n",
      "R_ACKr_SAL9  -5.1331\n",
      "R_ACtex_SAL9 -5.1331\n",
      "R_ACt2rpp_SAL9 -5.1331\n",
      "R_AKGt2rpp_CAL2 -5.11686\n",
      "R_AKGtex_CAL2 -5.11686\n",
      "R_GLUtex_SAL9 -5.11686\n",
      "R_GLUt2rpp_SAL9 -5.11686\n",
      "R_RPE_MAM2   -5.02665\n",
      "R_RPI_MAM2   -5.02665\n",
      "R_TYRTA_CAL2 -4.96925\n",
      "R_SUCOAS_MAM2 -2.63223\n",
      "R_TRPAS2_CAL2 -2.63223\n",
      "R_TRPt2rpp_CAL2 -2.63223\n",
      "R_TRPtex_CAL2 -2.63223\n",
      "R_MDH_SAL9   -2.63223\n",
      "R_FUM_SAL9   -2.63223\n",
      "R_CO2tpp_SAL9 -2.63223\n",
      "R_INDOLEtex_SAL9 -2.63223\n",
      "R_NH4tex_SAL9 -2.63223\n",
      "R_CO2tex_SAL9 -2.63223\n",
      "R_FUMtex_SAL9 -2.63223\n",
      "R_NH4tpp_SAL9 -2.63223\n",
      "R_FUMt1pp_SAL9 -2.63223\n",
      "R_ASPTA_MAM2 -2.63223\n",
      "R_ASPtex_MAM2 -2.63223\n",
      "R_GLUDy_MAM2 -2.63223\n",
      "R_ASPtpp_MAM2 -2.63223\n",
      "R_TALA_MAM2  -2.51333\n",
      "R_TKT1_MAM2  -2.51333\n",
      "R_TKT2_MAM2  -2.51333\n",
      "R_Htex_SAL9  -2.50086\n",
      "R_TYRt2rpp_CAL2 -2.48462\n",
      "R_TYRtex_CAL2 -2.48462\n",
      "R_CAFFAt_MAM2 -2.48462\n",
      "R_SAAt_MAM2  -2.48462\n",
      "R_TKT2_CAL2   0.00410029\n",
      "R_ACALDtex_SAL9  0.0324779\n",
      "R_ACALDtpp_SAL9  0.0324779\n",
      "R_ATPS4rpp_SAL9  0.0369027\n",
      "R_GLUDy_CAL2  0.147611\n",
      "R_O2tpp_MAM2  1.31612\n",
      "R_O2tex_MAM2  1.31612\n",
      "R_PGL_CAL2    2.41082\n",
      "R_GND_CAL2    2.41082\n",
      "R_G6PDH2r_CAL2  2.41082\n",
      "R_ALCD2x_SAL9  2.46838\n",
      "R_ETOHtex_SAL9  2.46838\n",
      "R_ETOHtrpp_SAL9  2.46838\n",
      "R_TAL_CAL2    2.48462\n",
      "R_COURCA_CAL2  2.48462\n",
      "R_34DHCINMt_CAL2  2.48462\n",
      "R_TYRt2rpp_SAL9  2.48462\n",
      "R_TYRtex_SAL9  2.48462\n",
      "R_TYRTA_SAL9  2.48462\n",
      "R_HPPHD_SAL9  2.48462\n",
      "R_DHPPSA_SAL9  2.48462\n",
      "R_SAAt_SAL9   2.48462\n",
      "R_PPA_MAM2    2.48462\n",
      "R_ADK1_MAM2   2.48462\n",
      "R_CAFFCOA_MAM2  2.48462\n",
      "R_RAS_MAM2    2.48462\n",
      "R_RAt_MAM2    2.48462\n",
      "R_EX_rosma_e  2.48462\n",
      "R_ACALD_SAL9  2.50086\n",
      "R_RPI_CAL2    2.56663\n",
      "R_GLCptspp_CAL2  2.63223\n",
      "R_INDOLEtex_CAL2  2.63223\n",
      "R_INDOLEt2rpp_CAL2  2.63223\n",
      "R_ASPTA_SAL9  2.63223\n",
      "R_TRPAS2_SAL9  2.63223\n",
      "R_TRPt2rpp_SAL9  2.63223\n",
      "R_ASPtex_SAL9  2.63223\n",
      "R_TRPtex_SAL9  2.63223\n",
      "R_INDOLEt2pp_SAL9  2.63223\n",
      "R_PDH_SAL9    2.63223\n",
      "R_ASPtpp_SAL9  2.63223\n",
      "R_CS_MAM2     2.63223\n",
      "R_ICDHyr_MAM2  2.63223\n",
      "R_FUMtex_MAM2  2.63223\n",
      "R_NH4tpp_MAM2  2.63223\n",
      "R_NH4tex_MAM2  2.63223\n",
      "R_ACONTb_MAM2  2.63223\n",
      "R_ACONTa_MAM2  2.63223\n",
      "R_FUMt1pp_MAM2  2.63223\n",
      "R_AKGDH_MAM2  2.63223\n",
      "R_CYTBO3_4pp_MAM2  2.63223\n",
      "R_SUCDi_MAM2  2.63223\n",
      "R_ATPS4rpp_MAM2  3.25339\n",
      "R_SHK3Dr_CAL2  4.96925\n",
      "R_PSCVT_CAL2  4.96925\n",
      "R_CHORM_CAL2  4.96925\n",
      "R_CHORS_CAL2  4.96925\n",
      "R_DHQTi_CAL2  4.96925\n",
      "R_DDPA_CAL2   4.96925\n",
      "R_PPND_CAL2   4.96925\n",
      "R_SHKK_CAL2   4.96925\n",
      "R_DHQS_CAL2   4.96925\n",
      "R_EX_h_e      4.96925\n",
      "R_TALA_CAL2   4.97335\n",
      "R_TKT1_CAL2   4.97335\n",
      "R_RPE_CAL2    4.97745\n",
      "R_GLUtex_CAL2  5.11686\n",
      "R_GLUt2rpp_CAL2  5.11686\n",
      "R_AKGt2rpp_SAL9  5.11686\n",
      "R_AKGtex_SAL9  5.11686\n",
      "R_PTAr_SAL9   5.1331\n",
      "R_H2Otex_SAL9  5.1331\n",
      "R_H2Otpp_SAL9  5.1331\n",
      "R_ATPM_SAL9   5.17\n",
      "R_MDH_MAM2    5.26447\n",
      "R_FUM_MAM2    5.26447\n",
      "R_ATPM_CAL2   6.86\n",
      "R_ATPM_MAM2   6.86\n",
      "R_HEX1_CAL2   7.36777\n",
      "R_GLCt2pp_CAL2  7.36777\n",
      "R_FBA_MAM2    7.53998\n",
      "R_PFK_MAM2    7.53998\n",
      "R_TPI_MAM2    7.53998\n",
      "R_PPM_CAL2    7.53998\n",
      "R_PUNP1_CAL2  7.53998\n",
      "R_ADNt2pp_copy2_CAL2  7.53998\n",
      "R_ADNtex_CAL2  7.53998\n",
      "R_ADEt2rpp_MAM2  7.53998\n",
      "R_ADEtex_MAM2  7.53998\n",
      "R_PGI_CAL2    7.58918\n",
      "R_Htex_CAL2   8.53059\n",
      "R_H2Otex_MAM2  8.72347\n",
      "R_H2Otpp_MAM2  8.72347\n",
      "R_O2tpp_CAL2  8.9914\n",
      "R_O2tex_CAL2  8.9914\n",
      "R_GLCtex_copy2_CAL2  10\n",
      "R_F6PA_CAL2   12.5666\n",
      "R_DHAtpp_MAM2  12.5666\n",
      "R_DHAtex_MAM2  12.5666\n",
      "R_ENO_CAL2    12.5707\n",
      "R_GAPD_CAL2   12.5707\n",
      "R_PTAr_MAM2   13.4836\n",
      "R_EX_co2_e    15.2768\n",
      "R_ACALD_MAM2  16.1158\n",
      "R_CYTBO3_4pp_CAL2  17.9828\n",
      "R_NADH16pp_CAL2  17.9828\n",
      "R_ACKr_CAL2   18.6167\n",
      "R_ACtex_CAL2  18.6167\n",
      "R_ACt2rpp_CAL2  18.6167\n",
      "R_ALCD2x_CAL2  21.5442\n",
      "R_ETOHtex_CAL2  21.5442\n",
      "R_ETOHtrpp_CAL2  21.5442\n",
      "R_ATPS4rpp_CAL2  27.7276\n",
      "R_EX_h2o_e    37.6384\n",
      "R_ACALDtex_MAM2  40.1284\n",
      "R_ACALDtpp_MAM2  40.1284\n"
     ]
    }
   ],
   "source": [
    "solution = FBA(merged_community, constraints=medium, objective=\"R_EX_rosma_e\")\n",
    "\n",
    "print(solution)\n",
    "solution.show_values(sort=True)"
   ]
  },
  {
   "cell_type": "code",
   "execution_count": 42,
   "metadata": {},
   "outputs": [
    {
     "name": "stdout",
     "output_type": "stream",
     "text": [
      "R_HPPHD_SAL9 2.4846238938053093\n",
      "R_DHPPSA_SAL9 2.4846238938053093\n",
      "R_DLDH_SAL9 0.0\n",
      "R_HPLSA_SAL9 0.0\n"
     ]
    }
   ],
   "source": [
    "reactions = [\"R_HPPHD_SAL9\", \"R_DHPPSA_SAL9\", \"R_DLDH_SAL9\", \"R_HPLSA_SAL9\"]\n",
    "\n",
    "for reaction in reactions:\n",
    "    print(reaction, solution.values[reaction])"
   ]
  },
  {
   "cell_type": "code",
   "execution_count": 44,
   "metadata": {},
   "outputs": [
    {
     "name": "stdout",
     "output_type": "stream",
     "text": [
      "Community growth: 0.9287109375\n",
      "CAL2\t0.002935758701021291\n",
      "SAL9\t0.9953710732514114\n",
      "MAM2\t0.0016931680475672241\n"
     ]
    }
   ],
   "source": [
    "import updated_steadycom\n",
    "\n",
    "ra_steadycom_solution = updated_steadycom.SteadyCom(community, constraints=medium, objective=\"R_EX_rosma_e\")\n",
    "print(ra_steadycom_solution)"
   ]
  },
  {
   "cell_type": "code",
   "execution_count": 45,
   "metadata": {},
   "outputs": [],
   "source": [
    "cross_feeding = ra_steadycom_solution.cross_feeding(as_df=True).dropna().sort_values(\"rate\", ascending = False)"
   ]
  },
  {
   "cell_type": "code",
   "execution_count": 46,
   "metadata": {},
   "outputs": [
    {
     "data": {
      "text/html": [
       "<div>\n",
       "<style scoped>\n",
       "    .dataframe tbody tr th:only-of-type {\n",
       "        vertical-align: middle;\n",
       "    }\n",
       "\n",
       "    .dataframe tbody tr th {\n",
       "        vertical-align: top;\n",
       "    }\n",
       "\n",
       "    .dataframe thead th {\n",
       "        text-align: right;\n",
       "    }\n",
       "</style>\n",
       "<table border=\"1\" class=\"dataframe\">\n",
       "  <thead>\n",
       "    <tr style=\"text-align: right;\">\n",
       "      <th></th>\n",
       "      <th>donor</th>\n",
       "      <th>receiver</th>\n",
       "      <th>compound</th>\n",
       "      <th>rate</th>\n",
       "    </tr>\n",
       "  </thead>\n",
       "  <tbody>\n",
       "    <tr>\n",
       "      <th>127</th>\n",
       "      <td>CAL2</td>\n",
       "      <td>MAM2</td>\n",
       "      <td>M_34dhcinm_e</td>\n",
       "      <td>0.001198</td>\n",
       "    </tr>\n",
       "    <tr>\n",
       "      <th>128</th>\n",
       "      <td>SAL9</td>\n",
       "      <td>MAM2</td>\n",
       "      <td>M_saa_e</td>\n",
       "      <td>0.001198</td>\n",
       "    </tr>\n",
       "  </tbody>\n",
       "</table>\n",
       "</div>"
      ],
      "text/plain": [
       "    donor receiver      compound      rate\n",
       "127  CAL2     MAM2  M_34dhcinm_e  0.001198\n",
       "128  SAL9     MAM2       M_saa_e  0.001198"
      ]
     },
     "execution_count": 46,
     "metadata": {},
     "output_type": "execute_result"
    }
   ],
   "source": [
    "cross_feeding[(cross_feeding[\"compound\"] == \"M_saa_e\") | (cross_feeding[\"compound\"] == \"M_34dhcinm_e\")]"
   ]
  },
  {
   "cell_type": "code",
   "execution_count": 47,
   "metadata": {},
   "outputs": [
    {
     "name": "stdout",
     "output_type": "stream",
     "text": [
      "R_HPPHD_SAL9 0.0\n",
      "R_DHPPSA_SAL9 0.0\n",
      "R_DLDH_SAL9 -0.0011980936291818012\n",
      "R_HPLSA_SAL9 0.0011980936291818012\n"
     ]
    }
   ],
   "source": [
    "reactions = [\"R_HPPHD_SAL9\", \"R_DHPPSA_SAL9\", \"R_DLDH_SAL9\", \"R_HPLSA_SAL9\"]\n",
    "\n",
    "for reaction in reactions:\n",
    "    print(reaction, ra_steadycom_solution.values[reaction])"
   ]
  },
  {
   "cell_type": "code",
   "execution_count": 48,
   "metadata": {},
   "outputs": [
    {
     "data": {
      "text/plain": [
       "False"
      ]
     },
     "execution_count": 48,
     "metadata": {},
     "output_type": "execute_result"
    }
   ],
   "source": [
    "from GEM_eval import saa_loop\n",
    "\n",
    "saa_loop(ra_steadycom_solution)"
   ]
  },
  {
   "cell_type": "code",
   "execution_count": 49,
   "metadata": {},
   "outputs": [
    {
     "name": "stdout",
     "output_type": "stream",
     "text": [
      "{'CAL2': [0.0, 0.020719051417318224], 'SAL9': [0.9792809485790119, 0.9960403755383807], 'MAM2': [0.0, 0.020719051422240398]}\n"
     ]
    }
   ],
   "source": [
    "ra_steadycom_fva_solution = updated_steadycom.SteadyComVA(community, constraints=medium, obj_frac=1.0, objective=\"R_EX_rosma_e\")\n",
    "print(ra_steadycom_fva_solution)"
   ]
  },
  {
   "cell_type": "code",
   "execution_count": 50,
   "metadata": {},
   "outputs": [
    {
     "data": {
      "application/vnd.jupyter.widget-view+json": {
       "model_id": "b44d9704b0c14de08e25c9d501dd5c8f",
       "version_major": 2,
       "version_minor": 0
      },
      "text/plain": [
       "  0%|          | 0/11 [00:00<?, ?it/s]"
      ]
     },
     "metadata": {},
     "output_type": "display_data"
    },
    {
     "data": {
      "text/html": [
       "<div>\n",
       "<style scoped>\n",
       "    .dataframe tbody tr th:only-of-type {\n",
       "        vertical-align: middle;\n",
       "    }\n",
       "\n",
       "    .dataframe tbody tr th {\n",
       "        vertical-align: top;\n",
       "    }\n",
       "\n",
       "    .dataframe thead th {\n",
       "        text-align: right;\n",
       "    }\n",
       "</style>\n",
       "<table border=\"1\" class=\"dataframe\">\n",
       "  <thead>\n",
       "    <tr style=\"text-align: right;\">\n",
       "      <th></th>\n",
       "      <th>CAL2</th>\n",
       "      <th>SAL9</th>\n",
       "      <th>MAM2</th>\n",
       "    </tr>\n",
       "    <tr>\n",
       "      <th>frac</th>\n",
       "      <th></th>\n",
       "      <th></th>\n",
       "      <th></th>\n",
       "    </tr>\n",
       "  </thead>\n",
       "  <tbody>\n",
       "    <tr>\n",
       "      <th>0.950</th>\n",
       "      <td>[0.0, 1.0]</td>\n",
       "      <td>[0.0, 1.0]</td>\n",
       "      <td>[0.0, 1.0]</td>\n",
       "    </tr>\n",
       "    <tr>\n",
       "      <th>0.955</th>\n",
       "      <td>[0.0, 1.0]</td>\n",
       "      <td>[0.0, 1.0]</td>\n",
       "      <td>[0.0, 1.0]</td>\n",
       "    </tr>\n",
       "    <tr>\n",
       "      <th>0.960</th>\n",
       "      <td>[0.0, 1.0]</td>\n",
       "      <td>[0.0, 1.0]</td>\n",
       "      <td>[0.0, 1.0]</td>\n",
       "    </tr>\n",
       "    <tr>\n",
       "      <th>0.965</th>\n",
       "      <td>[0.0, 1.0]</td>\n",
       "      <td>[0.0, 1.0]</td>\n",
       "      <td>[0.0, 1.0]</td>\n",
       "    </tr>\n",
       "    <tr>\n",
       "      <th>0.970</th>\n",
       "      <td>[0.0, 1.0]</td>\n",
       "      <td>[0.0, 1.0]</td>\n",
       "      <td>[0.0, 1.0]</td>\n",
       "    </tr>\n",
       "    <tr>\n",
       "      <th>0.975</th>\n",
       "      <td>[0.0, 0.9308913859326634]</td>\n",
       "      <td>[0.0691086140569439, 1.0]</td>\n",
       "      <td>[0.0, 0.9308913859412442]</td>\n",
       "    </tr>\n",
       "    <tr>\n",
       "      <th>0.980</th>\n",
       "      <td>[0.0, 0.7461117666468993]</td>\n",
       "      <td>[0.25388823335570976, 1.0]</td>\n",
       "      <td>[0.0, 0.7461117666511754]</td>\n",
       "    </tr>\n",
       "    <tr>\n",
       "      <th>0.985</th>\n",
       "      <td>[0.0, 0.5627201894861522]</td>\n",
       "      <td>[0.43727981050946596, 1.0]</td>\n",
       "      <td>[0.0, 0.5627201894868392]</td>\n",
       "    </tr>\n",
       "    <tr>\n",
       "      <th>0.990</th>\n",
       "      <td>[0.0, 0.38070107277932397]</td>\n",
       "      <td>[0.6192989272207043, 1.0]</td>\n",
       "      <td>[0.0, 0.38070107278281284]</td>\n",
       "    </tr>\n",
       "    <tr>\n",
       "      <th>0.995</th>\n",
       "      <td>[0.0, 0.20003906718695674]</td>\n",
       "      <td>[0.799960932813223, 1.0]</td>\n",
       "      <td>[0.0, 0.200039067188996]</td>\n",
       "    </tr>\n",
       "    <tr>\n",
       "      <th>1.000</th>\n",
       "      <td>[0.0, 0.020719051417318224]</td>\n",
       "      <td>[0.9792809485790119, 0.9960403755383807]</td>\n",
       "      <td>[0.0, 0.020719051422240398]</td>\n",
       "    </tr>\n",
       "  </tbody>\n",
       "</table>\n",
       "</div>"
      ],
      "text/plain": [
       "                              CAL2  ...                         MAM2\n",
       "frac                                ...                             \n",
       "0.950                   [0.0, 1.0]  ...                   [0.0, 1.0]\n",
       "0.955                   [0.0, 1.0]  ...                   [0.0, 1.0]\n",
       "0.960                   [0.0, 1.0]  ...                   [0.0, 1.0]\n",
       "0.965                   [0.0, 1.0]  ...                   [0.0, 1.0]\n",
       "0.970                   [0.0, 1.0]  ...                   [0.0, 1.0]\n",
       "0.975    [0.0, 0.9308913859326634]  ...    [0.0, 0.9308913859412442]\n",
       "0.980    [0.0, 0.7461117666468993]  ...    [0.0, 0.7461117666511754]\n",
       "0.985    [0.0, 0.5627201894861522]  ...    [0.0, 0.5627201894868392]\n",
       "0.990   [0.0, 0.38070107277932397]  ...   [0.0, 0.38070107278281284]\n",
       "0.995   [0.0, 0.20003906718695674]  ...     [0.0, 0.200039067188996]\n",
       "1.000  [0.0, 0.020719051417318224]  ...  [0.0, 0.020719051422240398]\n",
       "\n",
       "[11 rows x 3 columns]"
      ]
     },
     "execution_count": 50,
     "metadata": {},
     "output_type": "execute_result"
    }
   ],
   "source": [
    "import updated_steadycom\n",
    "from tqdm.notebook import tqdm\n",
    "import pandas as pd\n",
    "\n",
    "results_list = []\n",
    "\n",
    "for i in tqdm(range(950, 1005, 5)):\n",
    "    frac = i/1000\n",
    "    ra_com_fva_solution = updated_steadycom.SteadyComVA(community, constraints=medium, obj_frac=frac, objective=\"R_EX_rosma_e\")\n",
    "    ra_com_fva_solution[\"frac\"] = frac\n",
    "    results_list.append(ra_com_fva_solution)\n",
    "\n",
    "results_df = pd.DataFrame(results_list)\n",
    "results_df.set_index(\"frac\")"
   ]
  },
  {
   "cell_type": "code",
   "execution_count": 51,
   "metadata": {},
   "outputs": [
    {
     "data": {
      "text/plain": [
       "Text(0.5, 0, 'fraction of optimal solution')"
      ]
     },
     "execution_count": 51,
     "metadata": {},
     "output_type": "execute_result"
    },
    {
     "data": {
      "image/png": "[encoded data removed]",
      "text/plain": [
       "<Figure size 640x480 with 1 Axes>"
      ]
     },
     "metadata": {},
     "output_type": "display_data"
    }
   ],
   "source": [
    "import seaborn as sns\n",
    "import matplotlib.pyplot as plt\n",
    "\n",
    "plot_df = results_df.explode([\"CAL2\", \"SAL9\", \"MAM2\"])\n",
    "df_melt = plot_df.melt('frac', var_name='strain', value_name='growth rate')\n",
    "\n",
    "sns.lineplot(data=df_melt, x=\"frac\", y=\"growth rate\", hue=\"strain\",orient=\"y\")\n",
    "plt.xlabel(\"fraction of optimal solution\")"
   ]
  },
  {
   "attachments": {},
   "cell_type": "markdown",
   "metadata": {},
   "source": [
    "# Phenotype phase-plane plots, using cobrapy"
   ]
  },
  {
   "cell_type": "code",
   "execution_count": 45,
   "metadata": {},
   "outputs": [],
   "source": [
    "from cobra.io import read_sbml_model\n",
    "\n",
    "cobrapy_ra_com = read_sbml_model('../GEMs/merged_ra_com.xml')"
   ]
  },
  {
   "cell_type": "code",
   "execution_count": 46,
   "metadata": {},
   "outputs": [
    {
     "data": {
      "image/png": "[encoded data removed]",
      "text/plain": [
       "<Figure size 640x480 with 1 Axes>"
      ]
     },
     "metadata": {},
     "output_type": "display_data"
    }
   ],
   "source": [
    "from phpp import PhPP\n",
    "import numpy as np\n",
    "import sys\n",
    "import warnings\n",
    "\n",
    "#in order to ignore UserWarning: Solver status is 'infeasible' for non-solutions \n",
    "if not sys.warnoptions:\n",
    "    warnings.simplefilter(\"ignore\")\n",
    "\n",
    "#evenly distributed values between 0 and -20 with 50 datapoints\n",
    "flux_range = np.linspace(0.0, -20, num=50)\n",
    "\n",
    "phasePlane = PhPP(cobrapy_ra_com, \"EX_glc__D_e\", \"EX_o2_e\", flux_range, flux_range)\n",
    "\n",
    "#plot the phenotype phase plane for oxygen and glucose\n",
    "phasePlane.plot_PhPP()"
   ]
  },
  {
   "cell_type": "code",
   "execution_count": null,
   "metadata": {},
   "outputs": [],
   "source": []
  }
 ],
 "metadata": {
  "kernelspec": {
   "display_name": "venv",
   "language": "python",
   "name": "python3"
  },
  "language_info": {
   "codemirror_mode": {
    "name": "ipython",
    "version": 3
   },
   "file_extension": ".py",
   "mimetype": "text/x-python",
   "name": "python",
   "nbconvert_exporter": "python",
   "pygments_lexer": "ipython3",
   "version": "3.10.7"
  },
  "orig_nbformat": 4
 },
 "nbformat": 4,
 "nbformat_minor": 2
}
