{
 "cells": [
  {
   "cell_type": "markdown",
   "metadata": {},
   "source": [
    "# results from static simulation using reframed and SteadyCom"
   ]
  },
  {
   "cell_type": "markdown",
   "metadata": {},
   "source": [
    "set-up for simulations:"
   ]
  },
  {
   "cell_type": "code",
   "execution_count": 12,
   "metadata": {},
   "outputs": [],
   "source": [
    "from reframed import Community, Environment\n",
    "from reframed import load_cbmodel, FBA, plot_flux_envelope\n",
    "\n",
    "#load all models\n",
    "CAL2 = load_cbmodel(\"../GEMs/CAL2.xml\", flavor=\"bigg\")\n",
    "SAL9 = load_cbmodel(\"../GEMs/SAL9.xml\", flavor=\"bigg\")\n",
    "MAM2 = load_cbmodel(\"../GEMs/MAM2.xml\", flavor=\"bigg\")\n",
    "MRA = load_cbmodel(\"../GEMs/MRA.xml\", flavor=\"bigg\")"
   ]
  },
  {
   "cell_type": "code",
   "execution_count": 13,
   "metadata": {},
   "outputs": [],
   "source": [
    "# impose constraints on SAL9 reactions so that the model cannot go crazy with the loop\n",
    "\n",
    "SAL9.reactions.R_HPPHD.set_flux_bounds(0, float(\"inf\"))\n",
    "SAL9.reactions.R_DHPPSA.set_flux_bounds(0, float(\"inf\"))\n",
    "SAL9.reactions.R_DLDH.set_flux_bounds(float(\"-inf\"), 0)\n",
    "SAL9.reactions.R_HPLSA.set_flux_bounds(0, float(\"inf\"))\n",
    "\n",
    "# likewise on the MRA model\n",
    "MRA.reactions.R_HPPHD.set_flux_bounds(0, float(\"inf\"))\n",
    "MRA.reactions.R_DHPPSA.set_flux_bounds(0, float(\"inf\"))\n",
    "MRA.reactions.R_DLDH.set_flux_bounds(float(\"-inf\"), 0)\n",
    "MRA.reactions.R_HPLSA.set_flux_bounds(0, float(\"inf\"))"
   ]
  },
  {
   "cell_type": "code",
   "execution_count": 3,
   "metadata": {},
   "outputs": [],
   "source": [
    "# in order to equal the playing field between BL21 and K12 derived models:\n",
    "\n",
    "# adjust the biomass reaction\n",
    "SAL9.reactions.R_BIOMASS_Ec_iHK1487_core.stoichiometry[\"M_atp_c\"] = -75.55223\n",
    "SAL9.reactions.R_BIOMASS_Ec_iHK1487_core.stoichiometry[\"M_h_c\"] = 75.377230\n",
    "SAL9.reactions.R_BIOMASS_Ec_iHK1487_core.stoichiometry[\"M_adp_c\"] = 75.377230\n",
    "SAL9.reactions.R_BIOMASS_Ec_iHK1487_core.stoichiometry[\"M_pi_c\"] = 75.373230\n",
    "SAL9.reactions.R_BIOMASS_Ec_iHK1487_core.stoichiometry[\"M_h2o_c\"] = -70.028756\n",
    "\n",
    "# adjust the ATP maintanance requrenment\n",
    "SAL9.reactions.R_ATPM.lb = 6.86"
   ]
  },
  {
   "cell_type": "code",
   "execution_count": 14,
   "metadata": {},
   "outputs": [],
   "source": [
    "# build community object\n",
    "community = Community('RA_community', [CAL2, SAL9, MAM2])\n",
    "merged_community = community.merge_models()\n",
    "\n",
    "# get medium\n",
    "medium = Environment.from_model(CAL2).apply(merged_community, exclusive=True, inplace=False)"
   ]
  },
  {
   "cell_type": "markdown",
   "metadata": {},
   "source": [
    "## Maximal theoretical RA production"
   ]
  },
  {
   "cell_type": "markdown",
   "metadata": {},
   "source": [
    "### with standard FBA"
   ]
  },
  {
   "cell_type": "code",
   "execution_count": 61,
   "metadata": {},
   "outputs": [
    {
     "name": "stdout",
     "output_type": "stream",
     "text": [
      "Objective: 2.465929203539822\n",
      "Status: Optimal\n",
      "\n"
     ]
    }
   ],
   "source": [
    "# community\n",
    "\n",
    "FBA_com_sol = FBA(merged_community, constraints=medium, objective='R_EX_rosma_e')\n",
    "print(FBA_com_sol)"
   ]
  },
  {
   "cell_type": "code",
   "execution_count": 62,
   "metadata": {},
   "outputs": [],
   "source": [
    "# code to convert the community solution into something plottable in the escher diagram\n",
    "\n",
    "from collections import defaultdict\n",
    "\n",
    "# Create a defaultdict to accumulate values for keys without the suffix\n",
    "result_dict = defaultdict(int)\n",
    "\n",
    "# Iterate through the original dictionary\n",
    "for key, value in FBA_com_sol.values.items():\n",
    "    # Remove the 5-character suffix from the key\n",
    "    new_key = key[:-5]\n",
    "    \n",
    "    # Add the value to the corresponding key (taking the absolute value)\n",
    "    result_dict[new_key] += abs(value)\n",
    "\n",
    "# Convert the defaultdict back to a regular dictionary if needed\n",
    "FBA_com_sol_translated = dict(result_dict)"
   ]
  },
  {
   "cell_type": "code",
   "execution_count": 63,
   "metadata": {},
   "outputs": [
    {
     "data": {
      "application/vnd.jupyter.widget-view+json": {
       "model_id": "e79c36af81144637a67681aee5942fe0",
       "version_major": 2,
       "version_minor": 0
      },
      "text/plain": [
       "Builder(reaction_data={'community_g': 0.0, 'R_CYTDK2': 0.0, 'R_XPPT': 0.0, 'R_HXPRT': 0.0, 'R_NDPK5': 0.0, 'R_…"
      ]
     },
     "metadata": {},
     "output_type": "display_data"
    }
   ],
   "source": [
    "from escher import Builder\n",
    "\n",
    "com_flux_map = Builder(map_json=\"reaction_map.json\")\n",
    "com_flux_map.reaction_data = FBA_com_sol_translated\n",
    "com_flux_map"
   ]
  },
  {
   "cell_type": "markdown",
   "metadata": {},
   "source": [
    "- in the TYRTA reaction: in CAL2 it is moving towards tyrosine production, but in SAL9 it is going the other way "
   ]
  },
  {
   "cell_type": "code",
   "execution_count": 65,
   "metadata": {},
   "outputs": [
    {
     "name": "stdout",
     "output_type": "stream",
     "text": [
      "Objective: 2.63959843837146\n",
      "Status: Optimal\n",
      "\n"
     ]
    }
   ],
   "source": [
    "# monoculture\n",
    "\n",
    "FBA_mono_sol = FBA(MRA, constraints=medium, objective='R_EX_rosma_e')\n",
    "print(FBA_mono_sol)"
   ]
  },
  {
   "cell_type": "code",
   "execution_count": 66,
   "metadata": {},
   "outputs": [
    {
     "data": {
      "application/vnd.jupyter.widget-view+json": {
       "model_id": "12a38a63960e47738a63890cae93350b",
       "version_major": 2,
       "version_minor": 0
      },
      "text/plain": [
       "Builder(reaction_data={'R_CYTDK2': 0.0, 'R_XPPT': 0.0, 'R_HXPRT': 0.0, 'R_NDPK5': 0.0, 'R_SHK3Dr': 5.279196876…"
      ]
     },
     "metadata": {},
     "output_type": "display_data"
    }
   ],
   "source": [
    "from escher import Builder\n",
    "\n",
    "mono_flux_map = Builder(map_json=\"reaction_map.json\")\n",
    "mono_flux_map.reaction_data = FBA_mono_sol.values\n",
    "mono_flux_map"
   ]
  },
  {
   "cell_type": "markdown",
   "metadata": {},
   "source": [
    "- the theoretical max RA production rate is higher for the monoculture than for the community"
   ]
  },
  {
   "cell_type": "markdown",
   "metadata": {},
   "source": [
    "### with SteadyCom"
   ]
  },
  {
   "cell_type": "code",
   "execution_count": 67,
   "metadata": {},
   "outputs": [
    {
     "name": "stdout",
     "output_type": "stream",
     "text": [
      "RA production rate:  0.001301137657264917\n"
     ]
    }
   ],
   "source": [
    "# community\n",
    "\n",
    "import updated_steadycom\n",
    "\n",
    "sc_com_som = updated_steadycom.SteadyCom(community, constraints=medium, objective=\"R_EX_rosma_e\")\n",
    "print(\"RA production rate: \", sc_com_som.values[\"R_EX_rosma_e\"])"
   ]
  },
  {
   "cell_type": "code",
   "execution_count": 68,
   "metadata": {},
   "outputs": [
    {
     "data": {
      "application/vnd.jupyter.widget-view+json": {
       "model_id": "119d132b5a3e4cdaa7d34c82a7e35f22",
       "version_major": 2,
       "version_minor": 0
      },
      "text/plain": [
       "Builder(reaction_data={'x': 1.0, 'community_g': 0.9033203125, 'R_CYTDK2': 0.0, 'R_XPPT': 0.0, 'R_HXPRT': 0.0, …"
      ]
     },
     "metadata": {},
     "output_type": "display_data"
    }
   ],
   "source": [
    "# code to convert the community solution into something plottable in the escher diagram\n",
    "\n",
    "from collections import defaultdict\n",
    "\n",
    "# Create a defaultdict to accumulate values for keys without the suffix\n",
    "result_dict = defaultdict(int)\n",
    "\n",
    "# Iterate through the original dictionary\n",
    "for key, value in sc_com_som.values.items():\n",
    "    # Remove the 5-character suffix from the key\n",
    "    new_key = key[:-5]\n",
    "    \n",
    "    # Add the value to the corresponding key (taking the absolute value)\n",
    "    result_dict[new_key] += abs(value)\n",
    "\n",
    "# Convert the defaultdict back to a regular dictionary if needed\n",
    "sc_com_som_translated = dict(result_dict)\n",
    "\n",
    "from escher import Builder\n",
    "\n",
    "com_flux_map = Builder(map_json=\"reaction_map.json\")\n",
    "com_flux_map.reaction_data = sc_com_som_translated\n",
    "com_flux_map"
   ]
  },
  {
   "cell_type": "code",
   "execution_count": 69,
   "metadata": {},
   "outputs": [
    {
     "name": "stdout",
     "output_type": "stream",
     "text": [
      "RA production rate:  0.0013122903878769188\n"
     ]
    }
   ],
   "source": [
    "# monoculture\n",
    "\n",
    "import updated_steadycom\n",
    "\n",
    "monoculture = Community('monoculture', [MRA])\n",
    "\n",
    "sc_mono_som = updated_steadycom.SteadyCom(monoculture, constraints=medium, objective=\"R_EX_rosma_e\")\n",
    "print(\"RA production rate: \", sc_mono_som.values[\"R_EX_rosma_e\"])"
   ]
  },
  {
   "cell_type": "code",
   "execution_count": 70,
   "metadata": {},
   "outputs": [
    {
     "data": {
      "application/vnd.jupyter.widget-view+json": {
       "model_id": "4a6a8a7febfb41b2b47ff88207790760",
       "version_major": 2,
       "version_minor": 0
      },
      "text/plain": [
       "Builder(reaction_data={'x': 1.0, 'community_gr': 0.9033203125, 'R_CYTDK2': 0.0, 'R_XPPT': 0.0, 'R_HXPRT': 0.0,…"
      ]
     },
     "metadata": {},
     "output_type": "display_data"
    }
   ],
   "source": [
    "from escher import Builder\n",
    "\n",
    "mono_flux_map = Builder(map_json=\"reaction_map.json\")\n",
    "mono_flux_map.reaction_data = {key[:-4]:value for (key,value) in sc_mono_som.values.items()}\n",
    "mono_flux_map"
   ]
  },
  {
   "cell_type": "markdown",
   "metadata": {},
   "source": [
    "## Relative species abundance\n",
    "using steadycom FVA"
   ]
  },
  {
   "cell_type": "markdown",
   "metadata": {},
   "source": [
    "without modification of SAL9 ATP requrements:"
   ]
  },
  {
   "cell_type": "code",
   "execution_count": 7,
   "metadata": {},
   "outputs": [
    {
     "data": {
      "application/vnd.jupyter.widget-view+json": {
       "model_id": "04b60e86c1af46f1a2575e4381385062",
       "version_major": 2,
       "version_minor": 0
      },
      "text/plain": [
       "  0%|          | 0/11 [00:00<?, ?it/s]"
      ]
     },
     "metadata": {},
     "output_type": "display_data"
    },
    {
     "data": {
      "text/plain": [
       "Text(0.5, 0, 'fraction of optimal solution')"
      ]
     },
     "execution_count": 7,
     "metadata": {},
     "output_type": "execute_result"
    },
    {
     "data": {
      "image/png": "[encoded data removed]",
      "text/plain": [
       "<Figure size 640x480 with 1 Axes>"
      ]
     },
     "metadata": {},
     "output_type": "display_data"
    }
   ],
   "source": [
    "from reframed import SteadyComVA\n",
    "from tqdm.notebook import tqdm\n",
    "import pandas as pd\n",
    "import seaborn as sns\n",
    "import matplotlib.pyplot as plt\n",
    "\n",
    "results_list = []\n",
    "\n",
    "#for i in tqdm(range(950, 1001, 1)):\n",
    "for i in tqdm(range(950, 1005, 5)):\n",
    "    frac = i/1000\n",
    "    com_fva_solution = SteadyComVA(community, constraints=medium, obj_frac=frac)\n",
    "    com_fva_solution[\"frac\"] = frac\n",
    "    results_list.append(com_fva_solution)\n",
    "\n",
    "results_df = pd.DataFrame(results_list)\n",
    "results_df.set_index(\"frac\")\n",
    "\n",
    "plot_df = results_df.explode([\"CAL2\", \"SAL9\", \"MAM2\"])\n",
    "df_melt = plot_df.melt('frac', var_name='strain', value_name='species abundance')\n",
    "\n",
    "sns.lineplot(data=df_melt, x=\"frac\", y=\"species abundance\", hue=\"strain\",orient=\"y\")\n",
    "\n",
    "#stipled lines with exp. steady-state species abundance\n",
    "plt.axhline(y=0.51, linestyle='--', color='blue')\n",
    "plt.axhline(y=0.16, linestyle='--', color='orange')\n",
    "plt.axhline(y=0.33, linestyle='--', color='green')\n",
    "\n",
    "plt.xlabel(\"fraction of optimal solution\")"
   ]
  },
  {
   "cell_type": "markdown",
   "metadata": {},
   "source": [
    "with the updated ATP requrenments for SAL9"
   ]
  },
  {
   "cell_type": "code",
   "execution_count": 10,
   "metadata": {},
   "outputs": [
    {
     "name": "stdout",
     "output_type": "stream",
     "text": [
      "{'CAL2': [0.0, 1.0], 'SAL9': [0.0, 0.9967979230542133], 'MAM2': [0.0, 1.0]}\n"
     ]
    }
   ],
   "source": [
    "from reframed import SteadyComVA\n",
    "com_fva_solution = SteadyComVA(community, constraints=medium, obj_frac=1)\n",
    "print(com_fva_solution)"
   ]
  },
  {
   "cell_type": "markdown",
   "metadata": {},
   "source": [
    "- the optimal solution kind of permits any constillation \n",
    " - this is likely because it is not constrained enough -> adding constraints that force RA production will solve this."
   ]
  },
  {
   "cell_type": "markdown",
   "metadata": {},
   "source": [
    "## Relative species abundance for different levels of RA production"
   ]
  },
  {
   "cell_type": "code",
   "execution_count": 15,
   "metadata": {},
   "outputs": [
    {
     "data": {
      "application/vnd.jupyter.widget-view+json": {
       "model_id": "44dd1aa515ba48c3b76b6e28c9ebd143",
       "version_major": 2,
       "version_minor": 0
      },
      "text/plain": [
       "  0%|          | 0/11 [00:00<?, ?it/s]"
      ]
     },
     "metadata": {},
     "output_type": "display_data"
    }
   ],
   "source": [
    "import updated_steadycom\n",
    "from reframed import SteadyComVA\n",
    "from tqdm.notebook import tqdm\n",
    "import pandas as pd\n",
    "import numpy as np\n",
    "\n",
    "num_points = 11\n",
    "\n",
    "sc_com_som = updated_steadycom.SteadyCom(community, constraints=medium, objective=\"R_EX_rosma_e\")\n",
    "max_RA = sc_com_som.values[\"R_EX_rosma_e\"]\n",
    "\n",
    "RA_vals = np.linspace(max_RA, 0.001041, num=num_points) #hard-coded to go to 80%\n",
    "\n",
    "all_constraints = medium\n",
    "results_list = []\n",
    "\n",
    "# go \"down\" from max RA level to zero production in 10 steps and monitor the solution\n",
    "for i in tqdm(range(num_points)):\n",
    "    RA_level = RA_vals[i]\n",
    "    \n",
    "    #update the RA reaction constraint\n",
    "    all_constraints[\"R_EX_rosma_e\"] = (RA_level, float(\"inf\"))\n",
    "    \n",
    "    com_fva_solution = SteadyComVA(community, constraints=all_constraints, obj_frac=1)\n",
    "\n",
    "    com_fva_solution[\"RA_prod_rate\"] = RA_level\n",
    "    #com_fva_solution[\"RA_percentage\"] = 100 - i*(num_points-1)\n",
    "    results_list.append(com_fva_solution)\n",
    "\n",
    "results_df = pd.DataFrame(results_list)\n",
    "results_df[\"RA_percentage\"] = np.linspace(100, 80, num_points)"
   ]
  },
  {
   "cell_type": "code",
   "execution_count": 11,
   "metadata": {},
   "outputs": [
    {
     "data": {
      "image/png": "[encoded data removed]",
      "text/plain": [
       "<Figure size 640x480 with 1 Axes>"
      ]
     },
     "metadata": {},
     "output_type": "display_data"
    }
   ],
   "source": [
    "import matplotlib.pyplot as plt\n",
    "import seaborn as sns\n",
    "\n",
    "plot_df = results_df.explode([\"CAL2\", \"SAL9\", \"MAM2\"])\n",
    "df_melt = plot_df.drop(columns=[\"RA_prod_rate\"]).melt('RA_percentage', var_name='strain', value_name='species abundance')\n",
    "\n",
    "#sns.lineplot(data=df_melt, x=\"RA_prod_rate\", y=\"species abundance\", hue=\"strain\",orient=\"y\")\n",
    "sns.lineplot(data=df_melt, x=\"RA_percentage\", y=\"species abundance\", hue=\"strain\",orient=\"y\")\n",
    "\n",
    "#stipled lines with exp. steady-state species abundance\n",
    "plt.axhline(y=0.51, linestyle='--', color='blue')\n",
    "plt.axhline(y=0.16, linestyle='--', color='orange')\n",
    "plt.axhline(y=0.33, linestyle='--', color='green')\n",
    "\n",
    "plt.xlabel(\"Percentage of maximal RA production\")\n",
    "\n",
    "plt.gca().invert_xaxis()\n",
    "plt.gca().invert_yaxis()"
   ]
  },
  {
   "cell_type": "markdown",
   "metadata": {},
   "source": [
    "- solution space is still very wide... How does the solution look without the adjusted SAL9 ATP reqs?"
   ]
  },
  {
   "cell_type": "code",
   "execution_count": 16,
   "metadata": {},
   "outputs": [
    {
     "data": {
      "image/png": "[encoded data removed]",
      "text/plain": [
       "<Figure size 640x480 with 1 Axes>"
      ]
     },
     "metadata": {},
     "output_type": "display_data"
    }
   ],
   "source": [
    "import matplotlib.pyplot as plt\n",
    "import seaborn as sns\n",
    "\n",
    "plot_df = results_df.explode([\"CAL2\", \"SAL9\", \"MAM2\"])\n",
    "df_melt = plot_df.drop(columns=[\"RA_prod_rate\"]).melt('RA_percentage', var_name='strain', value_name='species abundance')\n",
    "\n",
    "#sns.lineplot(data=df_melt, x=\"RA_prod_rate\", y=\"species abundance\", hue=\"strain\",orient=\"y\")\n",
    "sns.lineplot(data=df_melt, x=\"RA_percentage\", y=\"species abundance\", hue=\"strain\",orient=\"y\")\n",
    "\n",
    "#stipled lines with exp. steady-state species abundance\n",
    "plt.axhline(y=0.51, linestyle='--', color='blue')\n",
    "plt.axhline(y=0.16, linestyle='--', color='orange')\n",
    "plt.axhline(y=0.33, linestyle='--', color='green')\n",
    "\n",
    "plt.xlabel(\"Percentage of maximal RA production\")\n",
    "\n",
    "plt.gca().invert_xaxis()\n",
    "plt.gca().invert_yaxis()"
   ]
  },
  {
   "cell_type": "markdown",
   "metadata": {},
   "source": [
    "- then its a lot of SAL9, and very little CAL2/MAM2 all the time, completeally misses the mark (this is notably for obj_frac = 1)"
   ]
  },
  {
   "cell_type": "markdown",
   "metadata": {},
   "source": [
    "# Monoculture production\n",
    "\n",
    "look at the theoretical maximal product formulation in the monoculture"
   ]
  },
  {
   "cell_type": "code",
   "execution_count": 1,
   "metadata": {},
   "outputs": [],
   "source": [
    "from reframed import Community, Environment\n",
    "from reframed import load_cbmodel, FBA, plot_flux_envelope\n",
    "from config import ROOT_DIR\n",
    "\n",
    "mra_path = ROOT_DIR / \"community_modelling\" / \"GEMs\" / \"MRA.xml\"\n",
    "MRA = load_cbmodel(str(mra_path), flavor=\"bigg\")"
   ]
  },
  {
   "cell_type": "code",
   "execution_count": 5,
   "metadata": {},
   "outputs": [],
   "source": [
    "medium = Environment.from_model(MRA).apply(MRA, exclusive=True, inplace=False)\n",
    "medium[\"R_EX_phe__L_e\"] = (-10, float(\"inf\")) #adding phenylalanine to the media since pheA is knocked out"
   ]
  },
  {
   "cell_type": "code",
   "execution_count": 6,
   "metadata": {},
   "outputs": [
    {
     "data": {
      "text/plain": [
       "Objective: 0.9037654323222015\n",
       "Status: Optimal"
      ]
     },
     "execution_count": 6,
     "metadata": {},
     "output_type": "execute_result"
    }
   ],
   "source": [
    "FBA(MRA, constraints=medium)"
   ]
  },
  {
   "cell_type": "code",
   "execution_count": 7,
   "metadata": {},
   "outputs": [
    {
     "data": {
      "text/plain": [
       "<AxesSubplot: xlabel='E. coli biomass objective function (iML1515) - core - with 75.37 GAM estimate', ylabel='Rosmarinic acid exchange'>"
      ]
     },
     "execution_count": 7,
     "metadata": {},
     "output_type": "execute_result"
    },
    {
     "data": {
      "image/png": "[encoded data removed]",
      "text/plain": [
       "<Figure size 640x480 with 1 Axes>"
      ]
     },
     "metadata": {},
     "output_type": "display_data"
    }
   ],
   "source": [
    "plot_flux_envelope(MRA, MRA.biomass_reaction, 'R_EX_rosma_e', constraints=medium)"
   ]
  },
  {
   "cell_type": "code",
   "execution_count": 10,
   "metadata": {},
   "outputs": [
    {
     "name": "stdout",
     "output_type": "stream",
     "text": [
      "Objective: 2.639598438371436\n",
      "Status: Optimal\n",
      "\n"
     ]
    }
   ],
   "source": [
    "theoretical_RA_opt = FBA(MRA, constraints=medium, objective='R_EX_rosma_e')\n",
    "print(theoretical_RA_opt)"
   ]
  },
  {
   "cell_type": "code",
   "execution_count": 12,
   "metadata": {},
   "outputs": [
    {
     "data": {
      "text/plain": [
       "False"
      ]
     },
     "execution_count": 12,
     "metadata": {},
     "output_type": "execute_result"
    }
   ],
   "source": [
    "from GEM_eval import saa_loop\n",
    "\n",
    "saa_loop(theoretical_RA_opt, community=False)"
   ]
  },
  {
   "cell_type": "code",
   "execution_count": null,
   "metadata": {},
   "outputs": [],
   "source": []
  },
  {
   "cell_type": "markdown",
   "metadata": {},
   "source": [
    "# Testing biomass reactions"
   ]
  },
  {
   "cell_type": "code",
   "execution_count": 1,
   "metadata": {},
   "outputs": [],
   "source": [
    "from reframed import Community, Environment\n",
    "from reframed import load_cbmodel, FBA, plot_flux_envelope\n",
    "\n",
    "#load all models\n",
    "k12 = load_cbmodel(\"../GEMs/iML1515.xml\", flavor=\"bigg\")\n",
    "bl21 = load_cbmodel(\"../GEMs/iHK1487.xml\", flavor=\"bigg\")"
   ]
  },
  {
   "cell_type": "code",
   "execution_count": 13,
   "metadata": {},
   "outputs": [],
   "source": [
    "k12_bm = k12.reactions.R_BIOMASS_Ec_iML1515_core_75p37M.stoichiometry\n",
    "bl21_bm = bl21.reactions.R_BIOMASS_Ec_iHK1487_core.stoichiometry"
   ]
  },
  {
   "cell_type": "code",
   "execution_count": 19,
   "metadata": {},
   "outputs": [
    {
     "name": "stdout",
     "output_type": "stream",
     "text": [
      "0\n"
     ]
    }
   ],
   "source": [
    "difference = set(k12_bm.keys()) - set(bl21_bm.keys())\n",
    "print(len(difference))"
   ]
  },
  {
   "cell_type": "code",
   "execution_count": 45,
   "metadata": {},
   "outputs": [
    {
     "data": {
      "text/html": [
       "<div>\n",
       "<style scoped>\n",
       "    .dataframe tbody tr th:only-of-type {\n",
       "        vertical-align: middle;\n",
       "    }\n",
       "\n",
       "    .dataframe tbody tr th {\n",
       "        vertical-align: top;\n",
       "    }\n",
       "\n",
       "    .dataframe thead th {\n",
       "        text-align: right;\n",
       "    }\n",
       "</style>\n",
       "<table border=\"1\" class=\"dataframe\">\n",
       "  <thead>\n",
       "    <tr style=\"text-align: right;\">\n",
       "      <th></th>\n",
       "      <th>metabolite</th>\n",
       "      <th>k12 biomass</th>\n",
       "      <th>bl21 biomass</th>\n",
       "      <th>diff</th>\n",
       "    </tr>\n",
       "  </thead>\n",
       "  <tbody>\n",
       "    <tr>\n",
       "      <th>5</th>\n",
       "      <td>M_atp_c</td>\n",
       "      <td>-75.552230</td>\n",
       "      <td>-70.294831</td>\n",
       "      <td>5.257399</td>\n",
       "    </tr>\n",
       "    <tr>\n",
       "      <th>51</th>\n",
       "      <td>M_h_c</td>\n",
       "      <td>75.377230</td>\n",
       "      <td>70.120000</td>\n",
       "      <td>5.257230</td>\n",
       "    </tr>\n",
       "    <tr>\n",
       "      <th>50</th>\n",
       "      <td>M_adp_c</td>\n",
       "      <td>75.377230</td>\n",
       "      <td>70.120000</td>\n",
       "      <td>5.257230</td>\n",
       "    </tr>\n",
       "    <tr>\n",
       "      <th>52</th>\n",
       "      <td>M_pi_c</td>\n",
       "      <td>75.373230</td>\n",
       "      <td>70.116052</td>\n",
       "      <td>5.257178</td>\n",
       "    </tr>\n",
       "    <tr>\n",
       "      <th>23</th>\n",
       "      <td>M_h2o_c</td>\n",
       "      <td>-70.028756</td>\n",
       "      <td>-64.946357</td>\n",
       "      <td>5.082399</td>\n",
       "    </tr>\n",
       "  </tbody>\n",
       "</table>\n",
       "</div>"
      ],
      "text/plain": [
       "   metabolite  k12 biomass  bl21 biomass      diff\n",
       "5     M_atp_c   -75.552230    -70.294831  5.257399\n",
       "51      M_h_c    75.377230     70.120000  5.257230\n",
       "50    M_adp_c    75.377230     70.120000  5.257230\n",
       "52     M_pi_c    75.373230     70.116052  5.257178\n",
       "23    M_h2o_c   -70.028756    -64.946357  5.082399"
      ]
     },
     "execution_count": 45,
     "metadata": {},
     "output_type": "execute_result"
    }
   ],
   "source": [
    "import pandas as pd\n",
    "import numpy as np\n",
    "\n",
    "rows = []\n",
    "\n",
    "for metabolite in k12_bm.keys():\n",
    "    if not np.isclose(k12_bm[metabolite], bl21_bm[metabolite], 0.000001):\n",
    "        rows.append([metabolite, k12_bm[metabolite], bl21_bm[metabolite]])\n",
    "\n",
    "df = pd.DataFrame(rows, columns=['metabolite', 'k12 biomass', 'bl21 biomass'])\n",
    "abs_diff = abs(df[\"k12 biomass\"] - df[\"bl21 biomass\"])\n",
    "df[\"diff\"] = abs_diff\n",
    "\n",
    "df.sort_values(\"diff\", ascending=False)[0:5]"
   ]
  },
  {
   "cell_type": "markdown",
   "metadata": {},
   "source": [
    "- the largest differences in biomass are the above 5 species - for everything else the differences are a scale of less than 10^-4\n",
    "- therefore adapt the biomass equation of SAL9 to adhere to the k12 values for ATP, H+, ADP, Pi, and H2O"
   ]
  },
  {
   "cell_type": "code",
   "execution_count": 55,
   "metadata": {},
   "outputs": [
    {
     "name": "stdout",
     "output_type": "stream",
     "text": [
      "ATPM for k12: 6.86\n",
      "ATPM for bl21: 5.17\n"
     ]
    }
   ],
   "source": [
    "print(\"ATPM for k12:\", k12.reactions.R_ATPM.lb)\n",
    "print(\"ATPM for bl21:\", bl21.reactions.R_ATPM.lb)"
   ]
  },
  {
   "cell_type": "markdown",
   "metadata": {},
   "source": [
    "- there is also a higher ATP maintanance value for k12 -> adjust the bl21 value accordingly"
   ]
  },
  {
   "cell_type": "code",
   "execution_count": null,
   "metadata": {},
   "outputs": [],
   "source": []
  }
 ],
 "metadata": {
  "kernelspec": {
   "display_name": "venv",
   "language": "python",
   "name": "python3"
  },
  "language_info": {
   "codemirror_mode": {
    "name": "ipython",
    "version": 3
   },
   "file_extension": ".py",
   "mimetype": "text/x-python",
   "name": "python",
   "nbconvert_exporter": "python",
   "pygments_lexer": "ipython3",
   "version": "3.10.7"
  },
  "orig_nbformat": 4
 },
 "nbformat": 4,
 "nbformat_minor": 2
}
