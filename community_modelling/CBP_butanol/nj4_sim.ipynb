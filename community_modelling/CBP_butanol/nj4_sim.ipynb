{
 "cells": [
  {
   "cell_type": "markdown",
   "metadata": {},
   "source": [
    "# Simulations for NJ4 single-strain model"
   ]
  },
  {
   "cell_type": "code",
   "execution_count": 1,
   "metadata": {},
   "outputs": [],
   "source": [
    "from cobra.io import read_sbml_model\n",
    "\n",
    "nj4 = read_sbml_model(\"GEMs/NJ4_curated.xml\")"
   ]
  },
  {
   "cell_type": "markdown",
   "metadata": {},
   "source": [
    "## static modelling\n",
    "\n",
    "- see if it is possible to replicate the three observed chemostat stages of C. acetobutylicum"
   ]
  },
  {
   "cell_type": "code",
   "execution_count": 2,
   "metadata": {},
   "outputs": [
    {
     "name": "stderr",
     "output_type": "stream",
     "text": [
      "Could not identify an external compartment by name and choosing one with the most boundary reactions. That might be complete nonsense or change suddenly. Consider renaming your compartments using `Model.compartments` to fix this.\n"
     ]
    },
    {
     "name": "stdout",
     "output_type": "stream",
     "text": [
      "essential metabolites: ['ca2_e', 'cl_e', 'cobalt2_e', 'cu2_e', 'fe3_e', 'fol_e', 'k_e', 'mg2_e', 'mn2_e', 'pi_e', 'so4_e', 'ura_e', 'zn2_e']\n"
     ]
    }
   ],
   "source": [
    "medium = list(nj4.medium.keys())\n",
    "essential_rx = []\n",
    "\n",
    "for rx in medium:\n",
    "    with nj4:\n",
    "        nj4.reactions.get_by_id(rx).lower_bound = 0\n",
    "        sol = nj4.slim_optimize()\n",
    "        if sol < 1e-6:\n",
    "            essential_rx.append(rx)\n",
    "\n",
    "print('essential metabolites:' ,[rx[3:] for rx in essential_rx])"
   ]
  },
  {
   "cell_type": "code",
   "execution_count": 3,
   "metadata": {},
   "outputs": [
    {
     "name": "stderr",
     "output_type": "stream",
     "text": [
      "Could not identify an external compartment by name and choosing one with the most boundary reactions. That might be complete nonsense or change suddenly. Consider renaming your compartments using `Model.compartments` to fix this.\n"
     ]
    }
   ],
   "source": [
    "full_media = nj4.medium\n",
    "\n",
    "medium = {rx:0.1 for rx in full_media.keys()}\n",
    "medium['EX_xyl__D_e'] = 10\n",
    "for rx in essential_rx:\n",
    "    medium[rx] = 10"
   ]
  },
  {
   "cell_type": "code",
   "execution_count": 4,
   "metadata": {},
   "outputs": [
    {
     "name": "stderr",
     "output_type": "stream",
     "text": [
      "Could not identify an external compartment by name and choosing one with the most boundary reactions. That might be complete nonsense or change suddenly. Consider renaming your compartments using `Model.compartments` to fix this.\n"
     ]
    }
   ],
   "source": [
    "with nj4:\n",
    "    nj4.medium = medium\n",
    "    summary = nj4.summary()\n",
    "    solution = nj4.optimize()"
   ]
  },
  {
   "cell_type": "code",
   "execution_count": 74,
   "metadata": {},
   "outputs": [
    {
     "data": {
      "text/html": [
       "<h3>Objective</h3><p>1.0 Growth = 0.1972106803106405</p><h4>Uptake</h4><table border=\"1\" class=\"dataframe\">\n",
       "  <thead>\n",
       "    <tr style=\"text-align: right;\">\n",
       "      <th>Metabolite</th>\n",
       "      <th>Reaction</th>\n",
       "      <th>Flux</th>\n",
       "      <th>C-Number</th>\n",
       "      <th>C-Flux</th>\n",
       "    </tr>\n",
       "  </thead>\n",
       "  <tbody>\n",
       "    <tr>\n",
       "      <td>ala__L_e</td>\n",
       "      <td>EX_ala__L_e</td>\n",
       "      <td>0.1</td>\n",
       "      <td>3</td>\n",
       "      <td>0.52%</td>\n",
       "    </tr>\n",
       "    <tr>\n",
       "      <td>arg__L_e</td>\n",
       "      <td>EX_arg__L_e</td>\n",
       "      <td>0.1</td>\n",
       "      <td>6</td>\n",
       "      <td>1.04%</td>\n",
       "    </tr>\n",
       "    <tr>\n",
       "      <td>asp__L_e</td>\n",
       "      <td>EX_asp__L_e</td>\n",
       "      <td>0.1</td>\n",
       "      <td>4</td>\n",
       "      <td>0.69%</td>\n",
       "    </tr>\n",
       "    <tr>\n",
       "      <td>ca2_e</td>\n",
       "      <td>EX_ca2_e</td>\n",
       "      <td>0.001026</td>\n",
       "      <td>0</td>\n",
       "      <td>0.00%</td>\n",
       "    </tr>\n",
       "    <tr>\n",
       "      <td>cl_e</td>\n",
       "      <td>EX_cl_e</td>\n",
       "      <td>0.001026</td>\n",
       "      <td>0</td>\n",
       "      <td>0.00%</td>\n",
       "    </tr>\n",
       "    <tr>\n",
       "      <td>cobalt2_e</td>\n",
       "      <td>EX_cobalt2_e</td>\n",
       "      <td>1.972E-05</td>\n",
       "      <td>0</td>\n",
       "      <td>0.00%</td>\n",
       "    </tr>\n",
       "    <tr>\n",
       "      <td>cu2_e</td>\n",
       "      <td>EX_cu2_e</td>\n",
       "      <td>0.0001398</td>\n",
       "      <td>0</td>\n",
       "      <td>0.00%</td>\n",
       "    </tr>\n",
       "    <tr>\n",
       "      <td>cys__L_e</td>\n",
       "      <td>EX_cys__L_e</td>\n",
       "      <td>0.1</td>\n",
       "      <td>3</td>\n",
       "      <td>0.52%</td>\n",
       "    </tr>\n",
       "    <tr>\n",
       "      <td>fe2_e</td>\n",
       "      <td>EX_fe2_e</td>\n",
       "      <td>0.001324</td>\n",
       "      <td>0</td>\n",
       "      <td>0.00%</td>\n",
       "    </tr>\n",
       "    <tr>\n",
       "      <td>fe3_e</td>\n",
       "      <td>EX_fe3_e</td>\n",
       "      <td>0.00154</td>\n",
       "      <td>0</td>\n",
       "      <td>0.00%</td>\n",
       "    </tr>\n",
       "    <tr>\n",
       "      <td>fol_e</td>\n",
       "      <td>EX_fol_e</td>\n",
       "      <td>0.0001319</td>\n",
       "      <td>19</td>\n",
       "      <td>0.00%</td>\n",
       "    </tr>\n",
       "    <tr>\n",
       "      <td>glu__L_e</td>\n",
       "      <td>EX_glu__L_e</td>\n",
       "      <td>0.1</td>\n",
       "      <td>5</td>\n",
       "      <td>0.87%</td>\n",
       "    </tr>\n",
       "    <tr>\n",
       "      <td>h_e</td>\n",
       "      <td>EX_h_e</td>\n",
       "      <td>0.03606</td>\n",
       "      <td>0</td>\n",
       "      <td>0.00%</td>\n",
       "    </tr>\n",
       "    <tr>\n",
       "      <td>his__L_e</td>\n",
       "      <td>EX_his__L_e</td>\n",
       "      <td>0.01868</td>\n",
       "      <td>6</td>\n",
       "      <td>0.19%</td>\n",
       "    </tr>\n",
       "    <tr>\n",
       "      <td>hxan_e</td>\n",
       "      <td>EX_hxan_e</td>\n",
       "      <td>0.08804</td>\n",
       "      <td>5</td>\n",
       "      <td>0.76%</td>\n",
       "    </tr>\n",
       "    <tr>\n",
       "      <td>ile__L_e</td>\n",
       "      <td>EX_ile__L_e</td>\n",
       "      <td>0.1</td>\n",
       "      <td>6</td>\n",
       "      <td>1.04%</td>\n",
       "    </tr>\n",
       "    <tr>\n",
       "      <td>k_e</td>\n",
       "      <td>EX_k_e</td>\n",
       "      <td>0.03849</td>\n",
       "      <td>0</td>\n",
       "      <td>0.00%</td>\n",
       "    </tr>\n",
       "    <tr>\n",
       "      <td>lys__L_e</td>\n",
       "      <td>EX_lys__L_e</td>\n",
       "      <td>0.1</td>\n",
       "      <td>6</td>\n",
       "      <td>1.04%</td>\n",
       "    </tr>\n",
       "    <tr>\n",
       "      <td>met__L_e</td>\n",
       "      <td>EX_met__L_e</td>\n",
       "      <td>0.1</td>\n",
       "      <td>5</td>\n",
       "      <td>0.87%</td>\n",
       "    </tr>\n",
       "    <tr>\n",
       "      <td>mg2_e</td>\n",
       "      <td>EX_mg2_e</td>\n",
       "      <td>0.001711</td>\n",
       "      <td>0</td>\n",
       "      <td>0.00%</td>\n",
       "    </tr>\n",
       "    <tr>\n",
       "      <td>mn2_e</td>\n",
       "      <td>EX_mn2_e</td>\n",
       "      <td>0.0001363</td>\n",
       "      <td>0</td>\n",
       "      <td>0.00%</td>\n",
       "    </tr>\n",
       "    <tr>\n",
       "      <td>nh4_e</td>\n",
       "      <td>EX_nh4_e</td>\n",
       "      <td>0.1</td>\n",
       "      <td>0</td>\n",
       "      <td>0.00%</td>\n",
       "    </tr>\n",
       "    <tr>\n",
       "      <td>phe__L_e</td>\n",
       "      <td>EX_phe__L_e</td>\n",
       "      <td>0.1</td>\n",
       "      <td>9</td>\n",
       "      <td>1.56%</td>\n",
       "    </tr>\n",
       "    <tr>\n",
       "      <td>pi_e</td>\n",
       "      <td>EX_pi_e</td>\n",
       "      <td>0.3068</td>\n",
       "      <td>0</td>\n",
       "      <td>0.00%</td>\n",
       "    </tr>\n",
       "    <tr>\n",
       "      <td>pro__L_e</td>\n",
       "      <td>EX_pro__L_e</td>\n",
       "      <td>0.001928</td>\n",
       "      <td>5</td>\n",
       "      <td>0.02%</td>\n",
       "    </tr>\n",
       "    <tr>\n",
       "      <td>ribflv_e</td>\n",
       "      <td>EX_ribflv_e</td>\n",
       "      <td>8.796E-05</td>\n",
       "      <td>17</td>\n",
       "      <td>0.00%</td>\n",
       "    </tr>\n",
       "    <tr>\n",
       "      <td>ser__L_e</td>\n",
       "      <td>EX_ser__L_e</td>\n",
       "      <td>0.1</td>\n",
       "      <td>3</td>\n",
       "      <td>0.52%</td>\n",
       "    </tr>\n",
       "    <tr>\n",
       "      <td>so4_e</td>\n",
       "      <td>EX_so4_e</td>\n",
       "      <td>0.0008555</td>\n",
       "      <td>0</td>\n",
       "      <td>0.00%</td>\n",
       "    </tr>\n",
       "    <tr>\n",
       "      <td>thm_e</td>\n",
       "      <td>EX_thm_e</td>\n",
       "      <td>4.536E-06</td>\n",
       "      <td>12</td>\n",
       "      <td>0.00%</td>\n",
       "    </tr>\n",
       "    <tr>\n",
       "      <td>thr__L_e</td>\n",
       "      <td>EX_thr__L_e</td>\n",
       "      <td>0.1</td>\n",
       "      <td>4</td>\n",
       "      <td>0.69%</td>\n",
       "    </tr>\n",
       "    <tr>\n",
       "      <td>trp__L_e</td>\n",
       "      <td>EX_trp__L_e</td>\n",
       "      <td>0.01121</td>\n",
       "      <td>11</td>\n",
       "      <td>0.21%</td>\n",
       "    </tr>\n",
       "    <tr>\n",
       "      <td>tyr__L_e</td>\n",
       "      <td>EX_tyr__L_e</td>\n",
       "      <td>0.02723</td>\n",
       "      <td>9</td>\n",
       "      <td>0.43%</td>\n",
       "    </tr>\n",
       "    <tr>\n",
       "      <td>ura_e</td>\n",
       "      <td>EX_ura_e</td>\n",
       "      <td>0.2003</td>\n",
       "      <td>4</td>\n",
       "      <td>1.39%</td>\n",
       "    </tr>\n",
       "    <tr>\n",
       "      <td>val__L_e</td>\n",
       "      <td>EX_val__L_e</td>\n",
       "      <td>0.1</td>\n",
       "      <td>5</td>\n",
       "      <td>0.87%</td>\n",
       "    </tr>\n",
       "    <tr>\n",
       "      <td>xyl__D_e</td>\n",
       "      <td>EX_xyl__D_e</td>\n",
       "      <td>10</td>\n",
       "      <td>5</td>\n",
       "      <td>86.75%</td>\n",
       "    </tr>\n",
       "    <tr>\n",
       "      <td>zn2_e</td>\n",
       "      <td>EX_zn2_e</td>\n",
       "      <td>6.725E-05</td>\n",
       "      <td>0</td>\n",
       "      <td>0.00%</td>\n",
       "    </tr>\n",
       "  </tbody>\n",
       "</table><h4>Secretion</h4><table border=\"1\" class=\"dataframe\">\n",
       "  <thead>\n",
       "    <tr style=\"text-align: right;\">\n",
       "      <th>Metabolite</th>\n",
       "      <th>Reaction</th>\n",
       "      <th>Flux</th>\n",
       "      <th>C-Number</th>\n",
       "      <th>C-Flux</th>\n",
       "    </tr>\n",
       "  </thead>\n",
       "  <tbody>\n",
       "    <tr>\n",
       "      <td>4hba_e</td>\n",
       "      <td>EX_4hba_e</td>\n",
       "      <td>-3.944E-05</td>\n",
       "      <td>7</td>\n",
       "      <td>0.00%</td>\n",
       "    </tr>\n",
       "    <tr>\n",
       "      <td>acetone_e</td>\n",
       "      <td>EX_acetone_e</td>\n",
       "      <td>-1.818</td>\n",
       "      <td>3</td>\n",
       "      <td>11.08%</td>\n",
       "    </tr>\n",
       "    <tr>\n",
       "      <td>btoh_e</td>\n",
       "      <td>EX_btoh_e</td>\n",
       "      <td>-0.1124</td>\n",
       "      <td>4</td>\n",
       "      <td>0.91%</td>\n",
       "    </tr>\n",
       "    <tr>\n",
       "      <td>co2_e</td>\n",
       "      <td>EX_co2_e</td>\n",
       "      <td>-15.55</td>\n",
       "      <td>1</td>\n",
       "      <td>31.60%</td>\n",
       "    </tr>\n",
       "    <tr>\n",
       "      <td>dhptd_e</td>\n",
       "      <td>EX_dhptd_e</td>\n",
       "      <td>-0.06965</td>\n",
       "      <td>5</td>\n",
       "      <td>0.71%</td>\n",
       "    </tr>\n",
       "    <tr>\n",
       "      <td>etoh_e</td>\n",
       "      <td>EX_etoh_e</td>\n",
       "      <td>-12.93</td>\n",
       "      <td>2</td>\n",
       "      <td>52.53%</td>\n",
       "    </tr>\n",
       "    <tr>\n",
       "      <td>h2o_e</td>\n",
       "      <td>EX_h2o_e</td>\n",
       "      <td>-4.602</td>\n",
       "      <td>0</td>\n",
       "      <td>0.00%</td>\n",
       "    </tr>\n",
       "    <tr>\n",
       "      <td>h2s_e</td>\n",
       "      <td>EX_h2s_e</td>\n",
       "      <td>-0.1514</td>\n",
       "      <td>0</td>\n",
       "      <td>0.00%</td>\n",
       "    </tr>\n",
       "    <tr>\n",
       "      <td>pacald_e</td>\n",
       "      <td>EX_pacald_e</td>\n",
       "      <td>-0.06344</td>\n",
       "      <td>8</td>\n",
       "      <td>1.03%</td>\n",
       "    </tr>\n",
       "    <tr>\n",
       "      <td>ppap_e</td>\n",
       "      <td>EX_ppap_e</td>\n",
       "      <td>-0.1124</td>\n",
       "      <td>3</td>\n",
       "      <td>0.68%</td>\n",
       "    </tr>\n",
       "    <tr>\n",
       "      <td>thym_e</td>\n",
       "      <td>EX_thym_e</td>\n",
       "      <td>-0.1351</td>\n",
       "      <td>5</td>\n",
       "      <td>1.37%</td>\n",
       "    </tr>\n",
       "    <tr>\n",
       "      <td>urea_e</td>\n",
       "      <td>EX_urea_e</td>\n",
       "      <td>-0.04167</td>\n",
       "      <td>1</td>\n",
       "      <td>0.08%</td>\n",
       "    </tr>\n",
       "  </tbody>\n",
       "</table>"
      ],
      "text/plain": [
       "<cobra.summary.model_summary.ModelSummary at 0x12feab520>"
      ]
     },
     "execution_count": 74,
     "metadata": {},
     "output_type": "execute_result"
    }
   ],
   "source": [
    "summary"
   ]
  },
  {
   "cell_type": "markdown",
   "metadata": {},
   "source": [
    "- an amino acid conundrum, there are AAs present in the yeast-extract, but probably in really small amounts...\n",
    "- is consuming xylose, however not as sole carbon-source due to AAs...\n",
    "- is secreting ethanol, acetone, and butanol. which should be co-expressed in solventogenetic phase!"
   ]
  },
  {
   "cell_type": "code",
   "execution_count": 14,
   "metadata": {},
   "outputs": [],
   "source": [
    "import escher\n",
    "from escher import Builder\n",
    "\n",
    "builder = Builder(map_json='new_map.json', model=nj4, height=600)"
   ]
  },
  {
   "cell_type": "code",
   "execution_count": 15,
   "metadata": {},
   "outputs": [],
   "source": [
    "builder.reaction_data = solution.fluxes"
   ]
  },
  {
   "cell_type": "code",
   "execution_count": 16,
   "metadata": {},
   "outputs": [
    {
     "data": {
      "application/vnd.jupyter.widget-view+json": {
       "model_id": "3ff62af7b0584caf95b4889ef8096750",
       "version_major": 2,
       "version_minor": 0
      },
      "text/plain": [
       "Builder(height=600, reaction_data={'12DGR120tipp': 0.0, '12DGR140tipp': 0.0, '12DGR160tipp': 0.052068902030944…"
      ]
     },
     "metadata": {},
     "output_type": "display_data"
    }
   ],
   "source": [
    "builder"
   ]
  },
  {
   "cell_type": "code",
   "execution_count": 18,
   "metadata": {},
   "outputs": [
    {
     "name": "stderr",
     "output_type": "stream",
     "text": [
      "Could not identify an external compartment by name and choosing one with the most boundary reactions. That might be complete nonsense or change suddenly. Consider renaming your compartments using `Model.compartments` to fix this.\n"
     ]
    }
   ],
   "source": [
    "with nj4:\n",
    "    nj4.medium = medium\n",
    "    ac_summary = nj4.metabolites.ac_c.summary()"
   ]
  },
  {
   "cell_type": "code",
   "execution_count": 19,
   "metadata": {},
   "outputs": [
    {
     "data": {
      "text/html": [
       "<h3>ac_c</h3><p>C2H3O2</p><h4>Producing Reactions</h4><table border=\"1\" class=\"dataframe\">\n",
       "  <thead>\n",
       "    <tr style=\"text-align: right;\">\n",
       "      <th>Percent</th>\n",
       "      <th>Flux</th>\n",
       "      <th>Reaction</th>\n",
       "      <th>Definition</th>\n",
       "    </tr>\n",
       "  </thead>\n",
       "  <tbody>\n",
       "    <tr>\n",
       "      <td>100.00%</td>\n",
       "      <td>1.799</td>\n",
       "      <td>ACKr</td>\n",
       "      <td>ac_c + atp_c &lt;=&gt; actp_c + adp_c</td>\n",
       "    </tr>\n",
       "  </tbody>\n",
       "</table><h4>Consuming Reactions</h4><table border=\"1\" class=\"dataframe\">\n",
       "  <thead>\n",
       "    <tr style=\"text-align: right;\">\n",
       "      <th>Percent</th>\n",
       "      <th>Flux</th>\n",
       "      <th>Reaction</th>\n",
       "      <th>Definition</th>\n",
       "    </tr>\n",
       "  </thead>\n",
       "  <tbody>\n",
       "    <tr>\n",
       "      <td>100.00%</td>\n",
       "      <td>-1.799</td>\n",
       "      <td>ACACCT</td>\n",
       "      <td>acac_c + accoa_c &lt;=&gt; aacoa_c + ac_c</td>\n",
       "    </tr>\n",
       "  </tbody>\n",
       "</table>"
      ],
      "text/plain": [
       "<cobra.summary.metabolite_summary.MetaboliteSummary at 0x124babb80>"
      ]
     },
     "execution_count": 19,
     "metadata": {},
     "output_type": "execute_result"
    }
   ],
   "source": [
    "ac_summary"
   ]
  },
  {
   "cell_type": "markdown",
   "metadata": {},
   "source": [
    "## dynamic modelling"
   ]
  },
  {
   "cell_type": "code",
   "execution_count": 35,
   "metadata": {},
   "outputs": [],
   "source": [
    "import pandas as pd\n",
    "\n",
    "media_db = pd.read_csv(\"medium.tsv\", sep=\"\\t\")\n",
    "\n",
    "nj4_med = media_db[media_db[\"medium\"] == \"nj4_med\"]\n",
    "\n",
    "UNLIMITED_METABOLITES = ['ca2_e', 'cl_e', 'cobalt2_e', 'cu2_e', 'fe2_e', 'fe3_e','h_e', 'k_e', 'h2o_e', 'mg2_e', \n",
    "                    'mn2_e', 'mobd_e', 'na1_e', 'nh4_e', 'ni2_e', 'pi_e', 'so4_e', 'zn2_e']\n",
    "\n",
    "medium = [str(m+\"_e\") for m in nj4_med[\"compound\"].tolist()]\n",
    "added_metabilotes = set(medium) - set(UNLIMITED_METABOLITES)\n",
    "added_metabilotes = {k:10 for k in added_metabilotes}\n",
    "added_metabilotes[\"xyl__D_e\"] = 20 # 20 mmol corresponds to 60 g/L xylose"
   ]
  },
  {
   "cell_type": "code",
   "execution_count": 36,
   "metadata": {},
   "outputs": [
    {
     "name": "stdout",
     "output_type": "stream",
     "text": [
      "Warning: The added metabolite (na1_e) is not able to be taken up by any of the current models\n",
      "Warning: The added metabolite (ni2_e) is not able to be taken up by any of the current models\n",
      "Warning: The added metabolite (amp_e) is not able to be taken up by any of the current models\n",
      "Warning: The added metabolite (gmp_e) is not able to be taken up by any of the current models\n",
      "Warning: The added metabolite (ump_e) is not able to be taken up by any of the current models\n",
      "Warning: The added metabolite (gsn_e) is not able to be taken up by any of the current models\n",
      "Warning: The added metabolite (lipoate_e) is not able to be taken up by any of the current models\n",
      "Warning: The added metabolite (dad_2_e) is not able to be taken up by any of the current models\n",
      "Warning: The added metabolite (nac_e) is not able to be taken up by any of the current models\n",
      "Warning: The added metabolite (cro4_e) is not able to be taken up by any of the current models\n",
      "Warning: The added metabolite (thymd_e) is not able to be taken up by any of the current models\n",
      "Warning: The added metabolite (uri_e) is not able to be taken up by any of the current models\n",
      "Warning: The added metabolite (dcyt_e) is not able to be taken up by any of the current models\n",
      "Warning: The added metabolite (cmp_e) is not able to be taken up by any of the current models\n",
      "Warning: The added metabolite (pydx_e) is not able to be taken up by any of the current models\n",
      "Warning: The added metabolite (cd2_e) is not able to be taken up by any of the current models\n",
      "Warning: The added metabolite (adn_e) is not able to be taken up by any of the current models\n",
      "Warning: The added metabolite (cbl1_e) is not able to be taken up by any of the current models\n",
      "Warning: The added metabolite (ins_e) is not able to be taken up by any of the current models\n",
      "Warning: The added metabolite (hg2_e) is not able to be taken up by any of the current models\n",
      "Warning: The added metabolite (pnto__R_e) is not able to be taken up by any of the current models\n",
      "\n",
      "Running COMETS simulation ...\n",
      "Done!\n"
     ]
    }
   ],
   "source": [
    "from utils.comets_functions import single_strain\n",
    "\n",
    "sim = single_strain(model=nj4, medium=added_metabilotes, sim_time=40)"
   ]
  },
  {
   "cell_type": "code",
   "execution_count": 37,
   "metadata": {},
   "outputs": [
    {
     "data": {
      "image/png": "[encoded data removed]",
      "text/plain": [
       "<Figure size 640x480 with 1 Axes>"
      ]
     },
     "metadata": {},
     "output_type": "display_data"
    }
   ],
   "source": [
    "import seaborn as sns\n",
    "from utils.comets_functions import plot_metabolites, plot_biomass\n",
    "\n",
    "metabolites = [\"xyl__D_e\", \"etoh_e\", \"but_e\", \"btoh_e\", \"ac_e\", \"acetone_e\"]\n",
    "\n",
    "plot_metabolites(sim, metabolites)"
   ]
  },
  {
   "cell_type": "code",
   "execution_count": 38,
   "metadata": {},
   "outputs": [
    {
     "data": {
      "image/png": "[encoded data removed]",
      "text/plain": [
       "<Figure size 640x480 with 1 Axes>"
      ]
     },
     "metadata": {},
     "output_type": "display_data"
    }
   ],
   "source": [
    "plot_biomass(sim)"
   ]
  },
  {
   "cell_type": "code",
   "execution_count": null,
   "metadata": {},
   "outputs": [],
   "source": []
  }
 ],
 "metadata": {
  "kernelspec": {
   "display_name": "venv",
   "language": "python",
   "name": "python3"
  },
  "language_info": {
   "codemirror_mode": {
    "name": "ipython",
    "version": 3
   },
   "file_extension": ".py",
   "mimetype": "text/x-python",
   "name": "python",
   "nbconvert_exporter": "python",
   "pygments_lexer": "ipython3",
   "version": "3.10.7"
  }
 },
 "nbformat": 4,
 "nbformat_minor": 2
}
