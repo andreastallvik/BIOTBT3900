{
 "cells": [
  {
   "cell_type": "markdown",
   "metadata": {},
   "source": [
    "playing around with network visualisations ect. leftover code moved here"
   ]
  },
  {
   "cell_type": "code",
   "execution_count": null,
   "metadata": {},
   "outputs": [],
   "source": [
    "# useful tool for seeing the intercondections between metabolites!\n",
    "\n",
    "from utils import model_validation as modval\n",
    "\n",
    "metabolites = [\"xylu__D_c\", \"xu5p__D_c\"]\n",
    "G = modval.create_graph(nj4, metabolites)\n",
    "modval.visualise_graph(G, 'nj4_xylose')"
   ]
  },
  {
   "cell_type": "code",
   "execution_count": null,
   "metadata": {},
   "outputs": [],
   "source": [
    "# checking if production of a metabolite is possible at SS\n",
    "\n",
    "from utils import model_validation as modval\n",
    "\n",
    "modval.production_possible(nj4, \"EX_etoh_e\")"
   ]
  }
 ],
 "metadata": {
  "language_info": {
   "name": "python"
  }
 },
 "nbformat": 4,
 "nbformat_minor": 2
}
