{
 "cells": [
  {
   "cell_type": "markdown",
   "metadata": {},
   "source": [
    "Models were automatically reconstructed from NCBI RefSeq accession codes with carveme.\n",
    "\n",
    "For NJ4:\n",
    "\n",
    "```\n",
    "carve --refseq GCF_003014985.1 -o GEMs/NJ4.xml\n",
    "```\n"
   ]
  },
  {
   "cell_type": "code",
   "execution_count": 1,
   "metadata": {},
   "outputs": [],
   "source": [
    "from cobra.io import read_sbml_model\n",
    "\n",
    "nj4 = read_sbml_model('GEMs/NJ4.xml')"
   ]
  },
  {
   "cell_type": "code",
   "execution_count": 2,
   "metadata": {},
   "outputs": [
    {
     "name": "stdout",
     "output_type": "stream",
     "text": [
      "ATPM flux: 0.0\n"
     ]
    },
    {
     "data": {
      "text/plain": [
       "False"
      ]
     },
     "execution_count": 2,
     "metadata": {},
     "output_type": "execute_result"
    }
   ],
   "source": [
    "from utils import model_validation\n",
    "\n",
    "model_validation.energy_generation_cycle(nj4)"
   ]
  },
  {
   "cell_type": "code",
   "execution_count": 3,
   "metadata": {},
   "outputs": [
    {
     "name": "stderr",
     "output_type": "stream",
     "text": [
      "Could not identify an external compartment by name and choosing one with the most boundary reactions. That might be complete nonsense or change suddenly. Consider renaming your compartments using `Model.compartments` to fix this.\n"
     ]
    }
   ],
   "source": [
    "medium = nj4.medium"
   ]
  },
  {
   "cell_type": "code",
   "execution_count": 5,
   "metadata": {},
   "outputs": [],
   "source": [
    "sol = nj4.optimize()"
   ]
  },
  {
   "cell_type": "code",
   "execution_count": 8,
   "metadata": {},
   "outputs": [
    {
     "ename": "AttributeError",
     "evalue": "DictList has no attribute or entry EX_btoh_e",
     "output_type": "error",
     "traceback": [
      "\u001b[0;31m---------------------------------------------------------------------------\u001b[0m",
      "\u001b[0;31mKeyError\u001b[0m                                  Traceback (most recent call last)",
      "File \u001b[0;32m~/Projects/BIOTBT3900/venv/lib/python3.10/site-packages/cobra/core/dictlist.py:527\u001b[0m, in \u001b[0;36mDictList.__getattr__\u001b[0;34m(self, attr)\u001b[0m\n\u001b[1;32m    526\u001b[0m \u001b[39mtry\u001b[39;00m:\n\u001b[0;32m--> 527\u001b[0m     \u001b[39mreturn\u001b[39;00m DictList\u001b[39m.\u001b[39;49mget_by_id(\u001b[39mself\u001b[39;49m, attr)\n\u001b[1;32m    528\u001b[0m \u001b[39mexcept\u001b[39;00m \u001b[39mKeyError\u001b[39;00m:\n",
      "File \u001b[0;32m~/Projects/BIOTBT3900/venv/lib/python3.10/site-packages/cobra/core/dictlist.py:75\u001b[0m, in \u001b[0;36mDictList.get_by_id\u001b[0;34m(self, id)\u001b[0m\n\u001b[1;32m     74\u001b[0m \u001b[39m\u001b[39m\u001b[39m\"\"\"Return the element with a matching id.\"\"\"\u001b[39;00m\n\u001b[0;32m---> 75\u001b[0m \u001b[39mreturn\u001b[39;00m \u001b[39mlist\u001b[39m\u001b[39m.\u001b[39m\u001b[39m__getitem__\u001b[39m(\u001b[39mself\u001b[39m, \u001b[39mself\u001b[39;49m\u001b[39m.\u001b[39;49m_dict[\u001b[39mid\u001b[39;49m])\n",
      "\u001b[0;31mKeyError\u001b[0m: 'EX_btoh_e'",
      "\nDuring handling of the above exception, another exception occurred:\n",
      "\u001b[0;31mAttributeError\u001b[0m                            Traceback (most recent call last)",
      "\u001b[1;32m/Users/andreastallvik/Projects/BIOTBT3900/community_modelling/CBP_butanol/automatic_model_construction.ipynb Cell 6\u001b[0m line \u001b[0;36m1\n\u001b[0;32m----> <a href='vscode-notebook-cell:/Users/andreastallvik/Projects/BIOTBT3900/community_modelling/CBP_butanol/automatic_model_construction.ipynb#X24sZmlsZQ%3D%3D?line=0'>1</a>\u001b[0m nj4\u001b[39m.\u001b[39;49mreactions\u001b[39m.\u001b[39;49mEX_btoh_e\n",
      "File \u001b[0;32m~/Projects/BIOTBT3900/venv/lib/python3.10/site-packages/cobra/core/dictlist.py:529\u001b[0m, in \u001b[0;36mDictList.__getattr__\u001b[0;34m(self, attr)\u001b[0m\n\u001b[1;32m    527\u001b[0m     \u001b[39mreturn\u001b[39;00m DictList\u001b[39m.\u001b[39mget_by_id(\u001b[39mself\u001b[39m, attr)\n\u001b[1;32m    528\u001b[0m \u001b[39mexcept\u001b[39;00m \u001b[39mKeyError\u001b[39;00m:\n\u001b[0;32m--> 529\u001b[0m     \u001b[39mraise\u001b[39;00m \u001b[39mAttributeError\u001b[39;00m(\u001b[39mf\u001b[39m\u001b[39m\"\u001b[39m\u001b[39mDictList has no attribute or entry \u001b[39m\u001b[39m{\u001b[39;00mattr\u001b[39m}\u001b[39;00m\u001b[39m\"\u001b[39m)\n",
      "\u001b[0;31mAttributeError\u001b[0m: DictList has no attribute or entry EX_btoh_e"
     ]
    }
   ],
   "source": [
    "nj4.reactions.EX_btoh_e"
   ]
  },
  {
   "cell_type": "code",
   "execution_count": null,
   "metadata": {},
   "outputs": [],
   "source": []
  }
 ],
 "metadata": {
  "kernelspec": {
   "display_name": "venv",
   "language": "python",
   "name": "python3"
  },
  "language_info": {
   "codemirror_mode": {
    "name": "ipython",
    "version": 3
   },
   "file_extension": ".py",
   "mimetype": "text/x-python",
   "name": "python",
   "nbconvert_exporter": "python",
   "pygments_lexer": "ipython3",
   "version": "3.10.7"
  }
 },
 "nbformat": 4,
 "nbformat_minor": 2
}
