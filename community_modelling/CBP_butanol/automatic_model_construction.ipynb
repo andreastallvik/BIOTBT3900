{
 "cells": [
  {
   "cell_type": "markdown",
   "metadata": {},
   "source": [
    "Models were automatically reconstructed from NCBI RefSeq accession codes with carveme.\n",
    "\n",
    "For NJ4:\n",
    "\n",
    "```\n",
    "carve --refseq GCF_003014985.1 -o GEMs/NJ4.xml\n",
    "```\n"
   ]
  },
  {
   "cell_type": "code",
   "execution_count": 1,
   "metadata": {},
   "outputs": [],
   "source": [
    "from cobra.io import read_sbml_model\n",
    "\n",
    "nj4 = read_sbml_model('GEMs/NJ4.xml')"
   ]
  },
  {
   "cell_type": "code",
   "execution_count": 7,
   "metadata": {},
   "outputs": [
    {
     "name": "stdout",
     "output_type": "stream",
     "text": [
      "nj4.html\n"
     ]
    }
   ],
   "source": [
    "# useful tool for seeing the intercondections between metabolites!\n",
    "\n",
    "from utils import model_validation as modval\n",
    "\n",
    "metabolites = [\"xylu__D_c\", \"xyl__D_c\", \"xu5p__D_c\"]\n",
    "G = modval.create_graph(nj4, metabolites)\n",
    "modval.visualise_graph(G, 'nj4')"
   ]
  },
  {
   "cell_type": "code",
   "execution_count": 4,
   "metadata": {},
   "outputs": [
    {
     "name": "stderr",
     "output_type": "stream",
     "text": [
      "Could not identify an external compartment by name and choosing one with the most boundary reactions. That might be complete nonsense or change suddenly. Consider renaming your compartments using `Model.compartments` to fix this.\n",
      "Could not identify an external compartment by name and choosing one with the most boundary reactions. That might be complete nonsense or change suddenly. Consider renaming your compartments using `Model.compartments` to fix this.\n"
     ]
    },
    {
     "data": {
      "text/plain": [
       "True"
      ]
     },
     "execution_count": 4,
     "metadata": {},
     "output_type": "execute_result"
    }
   ],
   "source": [
    "# checking if production of a metabolite is possible at SS\n",
    "\n",
    "from utils import model_validation as modval\n",
    "\n",
    "modval.production_possible(nj4, \"EX_etoh_e\")"
   ]
  }
 ],
 "metadata": {
  "kernelspec": {
   "display_name": "venv",
   "language": "python",
   "name": "python3"
  },
  "language_info": {
   "codemirror_mode": {
    "name": "ipython",
    "version": 3
   },
   "file_extension": ".py",
   "mimetype": "text/x-python",
   "name": "python",
   "nbconvert_exporter": "python",
   "pygments_lexer": "ipython3",
   "version": "3.10.7"
  }
 },
 "nbformat": 4,
 "nbformat_minor": 2
}
