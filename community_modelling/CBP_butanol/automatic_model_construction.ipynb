{
 "cells": [
  {
   "cell_type": "markdown",
   "metadata": {},
   "source": [
    "Models were automatically reconstructed from NCBI RefSeq accession codes with carveme.\n",
    "\n",
    "For NJ4:\n",
    "\n",
    "```\n",
    "carve --refseq GCF_003014985.1 --gapfill nj4_med -i nj4_med --mediadb medium.tsv -o GEMs/NJ4.xml \n",
    "```\n",
    "\n",
    "W/o gapfill - no growth was possible on the xylose medium."
   ]
  },
  {
   "cell_type": "code",
   "execution_count": 54,
   "metadata": {},
   "outputs": [],
   "source": [
    "from cobra.io import read_sbml_model\n",
    "from utils import model_validation as mv\n",
    "\n",
    "nj4 = read_sbml_model('GEMs/NJ4.xml')"
   ]
  },
  {
   "cell_type": "code",
   "execution_count": 13,
   "metadata": {},
   "outputs": [],
   "source": [
    "test_model = nj4.copy()"
   ]
  },
  {
   "cell_type": "code",
   "execution_count": 16,
   "metadata": {},
   "outputs": [],
   "source": [
    "sol = nj4.slim_optimize()"
   ]
  },
  {
   "cell_type": "code",
   "execution_count": 18,
   "metadata": {},
   "outputs": [
    {
     "data": {
      "text/plain": [
       "float"
      ]
     },
     "execution_count": 18,
     "metadata": {},
     "output_type": "execute_result"
    }
   ],
   "source": [
    "type(sol)"
   ]
  },
  {
   "cell_type": "markdown",
   "metadata": {},
   "source": [
    "writing a function for A->B testing using sink / demands."
   ]
  },
  {
   "cell_type": "code",
   "execution_count": 19,
   "metadata": {},
   "outputs": [],
   "source": [
    "def validate_pathway(model, A, B) -> bool:\n",
    "    \"\"\"Tests whether the model network supports production of metabolite B from metabolite A.\"\"\"\n",
    "    \n",
    "    test_model = model.copy()\n",
    "\n",
    "    test_model.add_boundary(test_model.metabolites.get_by_id(A), type=\"sink\", reaction_id=\"SK_A\")\n",
    "    test_model.add_boundary(test_model.metabolites.get_by_id(B), type=\"sink\", reaction_id=\"DM_B\")\n",
    "\n",
    "    test_model.objective=\"DM_B\"\n",
    "\n",
    "    sol = test_model.slim_optimize()\n",
    "    return sol > 0 "
   ]
  },
  {
   "cell_type": "code",
   "execution_count": 22,
   "metadata": {},
   "outputs": [
    {
     "data": {
      "text/plain": [
       "True"
      ]
     },
     "execution_count": 22,
     "metadata": {},
     "output_type": "execute_result"
    }
   ],
   "source": [
    "validate_pathway(nj4, \"glc__D_c\", \"pyr_c\")"
   ]
  },
  {
   "cell_type": "markdown",
   "metadata": {},
   "source": [
    "# Testing the model:\n",
    "\n",
    "1. check whether growth is possible on the medium,  \n",
    "use ```growth_possible```.\n",
    "\n",
    "1. check whether the exhange reactions exist in the model,  \n",
    "use ```reactions_exist```.\n",
    "\n",
    "2. check whether the exhange reactions are blocked,  \n",
    "use ```check_blocked_reactions```.\n",
    "\n",
    "2. check whether the exhange reactions can carry flux at optimal solution (FVA),  \n",
    "use ```check_production```."
   ]
  },
  {
   "cell_type": "code",
   "execution_count": 39,
   "metadata": {},
   "outputs": [
    {
     "data": {
      "text/plain": [
       "True"
      ]
     },
     "execution_count": 39,
     "metadata": {},
     "output_type": "execute_result"
    }
   ],
   "source": [
    "mv.growth_possible(nj4)"
   ]
  },
  {
   "cell_type": "code",
   "execution_count": 40,
   "metadata": {},
   "outputs": [],
   "source": [
    "uptake_reactions = [\n",
    "    'EX_xyl__D_e', # xylose exchange\n",
    "]\n",
    "\n",
    "production_reactions = [\n",
    "    'EX_btoh_e', # butanol exhange\n",
    "    'EX_etoh_e', # ethanol exchange\n",
    "    'EX_ac_e', # acetate exchange\n",
    "    'EX_but_e', # butyrate exchange\n",
    "    'EX_acetone_e', # acetone exchange\n",
    "]"
   ]
  },
  {
   "cell_type": "code",
   "execution_count": 42,
   "metadata": {},
   "outputs": [
    {
     "data": {
      "text/plain": [
       "True"
      ]
     },
     "execution_count": 42,
     "metadata": {},
     "output_type": "execute_result"
    }
   ],
   "source": [
    "mv.reactions_exist(nj4, uptake_reactions)"
   ]
  },
  {
   "cell_type": "code",
   "execution_count": 43,
   "metadata": {},
   "outputs": [
    {
     "name": "stdout",
     "output_type": "stream",
     "text": [
      "The following reactions are missing: ['EX_btoh_e', 'EX_acetone_e']\n"
     ]
    },
    {
     "data": {
      "text/plain": [
       "False"
      ]
     },
     "execution_count": 43,
     "metadata": {},
     "output_type": "execute_result"
    }
   ],
   "source": [
    "mv.reactions_exist(nj4, production_reactions)"
   ]
  },
  {
   "cell_type": "code",
   "execution_count": 44,
   "metadata": {},
   "outputs": [],
   "source": [
    "existing_production_reactions = [\n",
    "    'EX_etoh_e', # ethanol exchange\n",
    "    'EX_ac_e', # acetate exchange\n",
    "    'EX_but_e', # butyrate exchange\n",
    "]"
   ]
  },
  {
   "cell_type": "code",
   "execution_count": 45,
   "metadata": {},
   "outputs": [
    {
     "data": {
      "text/plain": [
       "['EX_ac_e', 'EX_but_e']"
      ]
     },
     "execution_count": 45,
     "metadata": {},
     "output_type": "execute_result"
    }
   ],
   "source": [
    "mv.check_blocked_reactions(nj4, existing_production_reactions)"
   ]
  },
  {
   "cell_type": "code",
   "execution_count": 46,
   "metadata": {},
   "outputs": [
    {
     "data": {
      "text/html": [
       "<div>\n",
       "<style scoped>\n",
       "    .dataframe tbody tr th:only-of-type {\n",
       "        vertical-align: middle;\n",
       "    }\n",
       "\n",
       "    .dataframe tbody tr th {\n",
       "        vertical-align: top;\n",
       "    }\n",
       "\n",
       "    .dataframe thead th {\n",
       "        text-align: right;\n",
       "    }\n",
       "</style>\n",
       "<table border=\"1\" class=\"dataframe\">\n",
       "  <thead>\n",
       "    <tr style=\"text-align: right;\">\n",
       "      <th></th>\n",
       "      <th>minimum</th>\n",
       "      <th>maximum</th>\n",
       "    </tr>\n",
       "  </thead>\n",
       "  <tbody>\n",
       "    <tr>\n",
       "      <th>EX_etoh_e</th>\n",
       "      <td>15.445155</td>\n",
       "      <td>15.844752</td>\n",
       "    </tr>\n",
       "    <tr>\n",
       "      <th>EX_ac_e</th>\n",
       "      <td>0.000000</td>\n",
       "      <td>0.000000</td>\n",
       "    </tr>\n",
       "    <tr>\n",
       "      <th>EX_but_e</th>\n",
       "      <td>0.000000</td>\n",
       "      <td>0.000000</td>\n",
       "    </tr>\n",
       "  </tbody>\n",
       "</table>\n",
       "</div>"
      ],
      "text/plain": [
       "             minimum    maximum\n",
       "EX_etoh_e  15.445155  15.844752\n",
       "EX_ac_e     0.000000   0.000000\n",
       "EX_but_e    0.000000   0.000000"
      ]
     },
     "execution_count": 46,
     "metadata": {},
     "output_type": "execute_result"
    }
   ],
   "source": [
    "mv.check_production(nj4, existing_production_reactions)"
   ]
  },
  {
   "cell_type": "markdown",
   "metadata": {},
   "source": [
    "The out-of-the-box carveme model:\n",
    "1. can grow on the medium\n",
    "1. does not contain the exhange reactions for butanol or acetone\n",
    "1. does not contain acetone or butyrate production in its solution space\n",
    "1. does produce ethanol"
   ]
  },
  {
   "cell_type": "markdown",
   "metadata": {},
   "source": [
    "## Troubleshooting the carve-me generated model \n",
    "using ABE pathway overview w/ BiGG identifiers from notespace"
   ]
  },
  {
   "cell_type": "code",
   "execution_count": 54,
   "metadata": {},
   "outputs": [
    {
     "name": "stdout",
     "output_type": "stream",
     "text": [
      "acetone not in model\n"
     ]
    }
   ],
   "source": [
    "metabolites = ['btoh', '1btol', 'btal', 'btcoa', 'butpi', 'but', 'acetone', 'acac', 'aacoa', 'b2coa', '3hbcoa', 'accoa', 'pyr']\n",
    "\n",
    "for metabolite in metabolites:\n",
    "    try:\n",
    "        nj4.metabolites.get_by_id(str(metabolite+\"_c\"))\n",
    "    except KeyError:\n",
    "        print(metabolite, \"not in model\")"
   ]
  },
  {
   "cell_type": "markdown",
   "metadata": {},
   "source": [
    "all the metabolites required for the correct behaviour is present in the model - appart from acetone"
   ]
  },
  {
   "cell_type": "code",
   "execution_count": 72,
   "metadata": {},
   "outputs": [
    {
     "name": "stdout",
     "output_type": "stream",
     "text": [
      "EX_acetone_e not in model\n"
     ]
    }
   ],
   "source": [
    "reactions = ['HBCO_nadp','ACOAD1f', 'BTCOARx', 'ALCD4', 'BTS', 'PBUTT', 'BUTKr', 'BUTCT', 'BUTCT','EX_acetone_e', 'EX_but_e', 'EX_btoh_e']\n",
    "\n",
    "for reaction in reactions:\n",
    "    try:\n",
    "        nj4.reactions.get_by_id(reaction)\n",
    "    except KeyError:\n",
    "        print(reaction, \"not in model\")"
   ]
  },
  {
   "cell_type": "code",
   "execution_count": 120,
   "metadata": {},
   "outputs": [
    {
     "name": "stdout",
     "output_type": "stream",
     "text": [
      "['ADCi']\n"
     ]
    }
   ],
   "source": [
    "r1 = universal_model.metabolites.get_by_id(\"acac_c\").reactions\n",
    "r2 = universal_model.metabolites.get_by_id(\"acetone_c\").reactions\n",
    "\n",
    "# get list of elements in both r1 and r2\n",
    "common = list(set(r1).intersection(r2))\n",
    "print([r.id for r in common])"
   ]
  },
  {
   "cell_type": "code",
   "execution_count": 137,
   "metadata": {},
   "outputs": [
    {
     "data": {
      "text/html": [
       "\n",
       "        <table>\n",
       "            <tr>\n",
       "                <td><strong>Reaction identifier</strong></td><td>BUTCT2</td>\n",
       "            </tr><tr>\n",
       "                <td><strong>Name</strong></td><td></td>\n",
       "            </tr><tr>\n",
       "                <td><strong>Memory address</strong></td>\n",
       "                <td>0x14e603fd0</td>\n",
       "            </tr><tr>\n",
       "                <td><strong>Stoichiometry</strong></td>\n",
       "                <td>\n",
       "                    <p style='text-align:right'>acac_c + btcoa_c <=> aacoa_c + but_c</p>\n",
       "                    <p style='text-align:right'>Acetoacetate + Butanoyl-CoA <=> Acetoacetyl-CoA + Butyrate (n-C4:0)</p>\n",
       "                </td>\n",
       "            </tr><tr>\n",
       "                <td><strong>GPR</strong></td><td>WP_010890847_1 and WP_010890848_1</td>\n",
       "            </tr><tr>\n",
       "                <td><strong>Lower bound</strong></td><td>-1000</td>\n",
       "            </tr><tr>\n",
       "                <td><strong>Upper bound</strong></td><td>1000</td>\n",
       "            </tr>\n",
       "        </table>\n",
       "        "
      ],
      "text/plain": [
       "<Reaction BUTCT2 at 0x14e603fd0>"
      ]
     },
     "execution_count": 137,
     "metadata": {},
     "output_type": "execute_result"
    }
   ],
   "source": [
    "nj4.reactions.get_by_id(\"BUTCT2\")"
   ]
  },
  {
   "cell_type": "code",
   "execution_count": 136,
   "metadata": {},
   "outputs": [
    {
     "data": {
      "text/html": [
       "\n",
       "        <table>\n",
       "            <tr>\n",
       "                <td><strong>Reaction identifier</strong></td><td>BUTCT</td>\n",
       "            </tr><tr>\n",
       "                <td><strong>Name</strong></td><td>Acetyl-CoA:butyrate-CoA transferase</td>\n",
       "            </tr><tr>\n",
       "                <td><strong>Memory address</strong></td>\n",
       "                <td>0x14e603f70</td>\n",
       "            </tr><tr>\n",
       "                <td><strong>Stoichiometry</strong></td>\n",
       "                <td>\n",
       "                    <p style='text-align:right'>accoa_c + but_c --> ac_c + btcoa_c</p>\n",
       "                    <p style='text-align:right'>Acetyl-CoA + Butyrate (n-C4:0) --> Acetate + Butanoyl-CoA</p>\n",
       "                </td>\n",
       "            </tr><tr>\n",
       "                <td><strong>GPR</strong></td><td>WP_010890847_1 or (WP_010890847_1 and WP_010890848_1)</td>\n",
       "            </tr><tr>\n",
       "                <td><strong>Lower bound</strong></td><td>0.0</td>\n",
       "            </tr><tr>\n",
       "                <td><strong>Upper bound</strong></td><td>1000.0</td>\n",
       "            </tr>\n",
       "        </table>\n",
       "        "
      ],
      "text/plain": [
       "<Reaction BUTCT at 0x14e603f70>"
      ]
     },
     "execution_count": 136,
     "metadata": {},
     "output_type": "execute_result"
    }
   ],
   "source": [
    "nj4.reactions.get_by_id(\"BUTCT\")"
   ]
  },
  {
   "cell_type": "code",
   "execution_count": 109,
   "metadata": {},
   "outputs": [
    {
     "data": {
      "text/html": [
       "\n",
       "        <table>\n",
       "            <tr>\n",
       "                <td><strong>Metabolite identifier</strong></td><td>aacoa_c</td>\n",
       "            </tr><tr>\n",
       "                <td><strong>Name</strong></td><td>Acetoacetyl-CoA</td>\n",
       "            </tr><tr>\n",
       "                <td><strong>Memory address</strong></td>\n",
       "                <td>0x12e948370</td>\n",
       "            </tr><tr>\n",
       "                <td><strong>Formula</strong></td><td>C25H36N7O18P3S</td>\n",
       "            </tr><tr>\n",
       "                <td><strong>Compartment</strong></td><td>C_c</td>\n",
       "            </tr><tr>\n",
       "                <td><strong>In 7 reaction(s)</strong></td><td>\n",
       "                    HACD1i, ACACT1r, ACACCT, HBCO_nadp, OCOAT1, BUTCT2, HACD1\n",
       "                    </td>\n",
       "            </tr>\n",
       "        </table>"
      ],
      "text/plain": [
       "<Metabolite aacoa_c at 0x12e948370>"
      ]
     },
     "execution_count": 109,
     "metadata": {},
     "output_type": "execute_result"
    }
   ],
   "source": [
    "nj4.metabolites.get_by_id(\"aacoa_c\")"
   ]
  },
  {
   "cell_type": "code",
   "execution_count": 113,
   "metadata": {},
   "outputs": [
    {
     "data": {
      "text/html": [
       "\n",
       "        <table>\n",
       "            <tr>\n",
       "                <td><strong>Reaction identifier</strong></td><td>ACACCT</td>\n",
       "            </tr><tr>\n",
       "                <td><strong>Name</strong></td><td>Acetyl-CoA:acetoacetyl-CoA transferase</td>\n",
       "            </tr><tr>\n",
       "                <td><strong>Memory address</strong></td>\n",
       "                <td>0x12ed37ee0</td>\n",
       "            </tr><tr>\n",
       "                <td><strong>Stoichiometry</strong></td>\n",
       "                <td>\n",
       "                    <p style='text-align:right'>acac_c + accoa_c --> aacoa_c + ac_c</p>\n",
       "                    <p style='text-align:right'>Acetoacetate + Acetyl-CoA --> Acetoacetyl-CoA + Acetate</p>\n",
       "                </td>\n",
       "            </tr><tr>\n",
       "                <td><strong>GPR</strong></td><td>WP_010890847_1 or (WP_010890847_1 and WP_010890848_1)</td>\n",
       "            </tr><tr>\n",
       "                <td><strong>Lower bound</strong></td><td>0.0</td>\n",
       "            </tr><tr>\n",
       "                <td><strong>Upper bound</strong></td><td>1000.0</td>\n",
       "            </tr>\n",
       "        </table>\n",
       "        "
      ],
      "text/plain": [
       "<Reaction ACACCT at 0x12ed37ee0>"
      ]
     },
     "execution_count": 113,
     "metadata": {},
     "output_type": "execute_result"
    }
   ],
   "source": [
    "nj4.reactions.get_by_id(\"ACACCT\")"
   ]
  },
  {
   "cell_type": "code",
   "execution_count": 75,
   "metadata": {},
   "outputs": [
    {
     "data": {
      "text/plain": [
       "0.0"
      ]
     },
     "execution_count": 75,
     "metadata": {},
     "output_type": "execute_result"
    }
   ],
   "source": [
    "but_model = nj4.copy()\n",
    "but_model.objective = \"EX_btoh_e\"\n",
    "but_model.optimize().objective_value"
   ]
  },
  {
   "cell_type": "markdown",
   "metadata": {},
   "source": [
    "- maybe butanol production will be possible if adding transport and exhange reactions for butanol? try this then re-run the validation check\n",
    "- there are two butanol forms - use the btoh / ALCD4 combo for this (it should really not matter since both are converted from the same butanal)"
   ]
  },
  {
   "cell_type": "markdown",
   "metadata": {},
   "source": [
    "updating the model (now tried to fix up the butanol and acetone pathways)"
   ]
  },
  {
   "cell_type": "code",
   "execution_count": 55,
   "metadata": {},
   "outputs": [
    {
     "name": "stderr",
     "output_type": "stream",
     "text": [
      "No objective coefficients in model. Unclear what should be optimized\n",
      "Could not identify an external compartment by name and choosing one with the most boundary reactions. That might be complete nonsense or change suddenly. Consider renaming your compartments using `Model.compartments` to fix this.\n",
      "Could not identify an external compartment by name and choosing one with the most boundary reactions. That might be complete nonsense or change suddenly. Consider renaming your compartments using `Model.compartments` to fix this.\n"
     ]
    }
   ],
   "source": [
    "from config import ROOT_DIR\n",
    "\n",
    "universal_model = read_sbml_model(str(ROOT_DIR / \"community_modelling\" / \"GEMs\" / \"bigg_universe.xml\"))\n",
    "\n",
    "# butabol transport reaction\n",
    "BTOHt = universal_model.reactions.get_by_id('BTOHt')\n",
    "\n",
    "# butyrate transport reaction\n",
    "BUTt = universal_model.reactions.get_by_id('BUTt')\n",
    "\n",
    "# acetoacetate -> acetone + CO2\n",
    "ADCi = universal_model.reactions.get_by_id(\"ADCi\")\n",
    "\n",
    "# acetone transport reaction #TODO: figure out if this should be a proton symport\n",
    "ACEt = universal_model.reactions.get_by_id(\"ACEt\")\n",
    "\n",
    "\n",
    "# acetoacetyl-CoA + butyrate -> acetoacetate + butanoyl-CoA\n",
    "# BUTCT2 = universal_model.reactions.get_by_id('BUTCT2')\n",
    "nj4.reactions.get_by_id(\"BUTCT2\").bounds = (-1000, 1000) # make the reaction reversible\n",
    "\n",
    "\n",
    "nj4.add_reactions([BTOHt, BUTt, ADCi, ACEt])\n",
    "nj4.add_boundary(nj4.metabolites.get_by_id('btoh_e'), type='exchange', reaction_id='EX_btoh_e');\n",
    "nj4.add_boundary(nj4.metabolites.get_by_id('acetone_e'), type='exchange', reaction_id='EX_acetone_e');"
   ]
  },
  {
   "cell_type": "code",
   "execution_count": 24,
   "metadata": {},
   "outputs": [],
   "source": [
    "from cobra.io import write_sbml_model\n",
    "write_sbml_model(nj4, \"GEMs/NJ4_curated.xml\")"
   ]
  },
  {
   "cell_type": "code",
   "execution_count": 56,
   "metadata": {},
   "outputs": [
    {
     "data": {
      "text/plain": [
       "['EX_ac_e', 'EX_but_e']"
      ]
     },
     "execution_count": 56,
     "metadata": {},
     "output_type": "execute_result"
    }
   ],
   "source": [
    "existing_production_reactions = [\n",
    "    'EX_etoh_e', # ethanol exchange\n",
    "    'EX_acetone_e', # acetone exchange\n",
    "    'EX_ac_e', # acetate exchange\n",
    "    'EX_but_e', # butyrate exchange\n",
    "    'EX_btoh_e', # butanol exhange\n",
    "]\n",
    "\n",
    "mv.check_blocked_reactions(nj4, existing_production_reactions)"
   ]
  },
  {
   "cell_type": "code",
   "execution_count": 52,
   "metadata": {},
   "outputs": [
    {
     "data": {
      "text/html": [
       "\n",
       "        <table>\n",
       "            <tr>\n",
       "                <td><strong>Reaction identifier</strong></td><td>BTOHt</td>\n",
       "            </tr><tr>\n",
       "                <td><strong>Name</strong></td><td>Butanol transport by diffusion</td>\n",
       "            </tr><tr>\n",
       "                <td><strong>Memory address</strong></td>\n",
       "                <td>0x13493fe20</td>\n",
       "            </tr><tr>\n",
       "                <td><strong>Stoichiometry</strong></td>\n",
       "                <td>\n",
       "                    <p style='text-align:right'>btoh_e <=> btoh_c</p>\n",
       "                    <p style='text-align:right'>Butanol <=> Butanol</p>\n",
       "                </td>\n",
       "            </tr><tr>\n",
       "                <td><strong>GPR</strong></td><td></td>\n",
       "            </tr><tr>\n",
       "                <td><strong>Lower bound</strong></td><td>-1000.0</td>\n",
       "            </tr><tr>\n",
       "                <td><strong>Upper bound</strong></td><td>1000.0</td>\n",
       "            </tr>\n",
       "        </table>\n",
       "        "
      ],
      "text/plain": [
       "<Reaction BTOHt at 0x13493fe20>"
      ]
     },
     "execution_count": 52,
     "metadata": {},
     "output_type": "execute_result"
    }
   ],
   "source": [
    "universal_model.reactions.BTOHt"
   ]
  },
  {
   "cell_type": "code",
   "execution_count": 59,
   "metadata": {},
   "outputs": [
    {
     "name": "stdout",
     "output_type": "stream",
     "text": [
      "BUTt\n"
     ]
    }
   ],
   "source": [
    "from cobra.flux_analysis import gapfill\n",
    "\n",
    "with nj4:\n",
    "    nj4.objective = nj4.reactions.EX_but_e\n",
    "    solution = gapfill(nj4, universal_model)\n",
    "    for reaction in solution[0]:\n",
    "        print(reaction.id)"
   ]
  },
  {
   "cell_type": "code",
   "execution_count": 63,
   "metadata": {},
   "outputs": [
    {
     "data": {
      "text/html": [
       "\n",
       "        <table>\n",
       "            <tr>\n",
       "                <td><strong>Reaction identifier</strong></td><td>BUTtex</td>\n",
       "            </tr><tr>\n",
       "                <td><strong>Name</strong></td><td>Butyrate transport via diffusion (extracellular to periplasm)</td>\n",
       "            </tr><tr>\n",
       "                <td><strong>Memory address</strong></td>\n",
       "                <td>0x159a7a350</td>\n",
       "            </tr><tr>\n",
       "                <td><strong>Stoichiometry</strong></td>\n",
       "                <td>\n",
       "                    <p style='text-align:right'>but_e <=> but_p</p>\n",
       "                    <p style='text-align:right'>Butyrate (n-C4:0) <=> Butyrate (n-C4:0)</p>\n",
       "                </td>\n",
       "            </tr><tr>\n",
       "                <td><strong>GPR</strong></td><td>WP_010963628_1</td>\n",
       "            </tr><tr>\n",
       "                <td><strong>Lower bound</strong></td><td>-1000.0</td>\n",
       "            </tr><tr>\n",
       "                <td><strong>Upper bound</strong></td><td>1000.0</td>\n",
       "            </tr>\n",
       "        </table>\n",
       "        "
      ],
      "text/plain": [
       "<Reaction BUTtex at 0x159a7a350>"
      ]
     },
     "execution_count": 63,
     "metadata": {},
     "output_type": "execute_result"
    }
   ],
   "source": [
    "nj4.reactions.BUTtex"
   ]
  },
  {
   "cell_type": "code",
   "execution_count": 62,
   "metadata": {},
   "outputs": [
    {
     "data": {
      "text/html": [
       "\n",
       "        <table>\n",
       "            <tr>\n",
       "                <td><strong>Metabolite identifier</strong></td><td>but_e</td>\n",
       "            </tr><tr>\n",
       "                <td><strong>Name</strong></td><td>Butyrate (n-C4:0)</td>\n",
       "            </tr><tr>\n",
       "                <td><strong>Memory address</strong></td>\n",
       "                <td>0x15988f730</td>\n",
       "            </tr><tr>\n",
       "                <td><strong>Formula</strong></td><td>C4H7O2</td>\n",
       "            </tr><tr>\n",
       "                <td><strong>Compartment</strong></td><td>C_e</td>\n",
       "            </tr><tr>\n",
       "                <td><strong>In 2 reaction(s)</strong></td><td>\n",
       "                    BUTtex, EX_but_e\n",
       "                    </td>\n",
       "            </tr>\n",
       "        </table>"
      ],
      "text/plain": [
       "<Metabolite but_e at 0x15988f730>"
      ]
     },
     "execution_count": 62,
     "metadata": {},
     "output_type": "execute_result"
    }
   ],
   "source": [
    "nj4.metabolites.but_e"
   ]
  },
  {
   "cell_type": "code",
   "execution_count": 57,
   "metadata": {},
   "outputs": [],
   "source": [
    "import cobra\n",
    "\n",
    "fva_sol = cobra.flux_analysis.flux_variability_analysis(nj4, existing_production_reactions, fraction_of_optimum=0)"
   ]
  },
  {
   "cell_type": "code",
   "execution_count": 58,
   "metadata": {},
   "outputs": [
    {
     "data": {
      "text/html": [
       "<div>\n",
       "<style scoped>\n",
       "    .dataframe tbody tr th:only-of-type {\n",
       "        vertical-align: middle;\n",
       "    }\n",
       "\n",
       "    .dataframe tbody tr th {\n",
       "        vertical-align: top;\n",
       "    }\n",
       "\n",
       "    .dataframe thead th {\n",
       "        text-align: right;\n",
       "    }\n",
       "</style>\n",
       "<table border=\"1\" class=\"dataframe\">\n",
       "  <thead>\n",
       "    <tr style=\"text-align: right;\">\n",
       "      <th></th>\n",
       "      <th>minimum</th>\n",
       "      <th>maximum</th>\n",
       "    </tr>\n",
       "  </thead>\n",
       "  <tbody>\n",
       "    <tr>\n",
       "      <th>EX_etoh_e</th>\n",
       "      <td>0.000000</td>\n",
       "      <td>34.147287</td>\n",
       "    </tr>\n",
       "    <tr>\n",
       "      <th>EX_acetone_e</th>\n",
       "      <td>-13.086420</td>\n",
       "      <td>20.000000</td>\n",
       "    </tr>\n",
       "    <tr>\n",
       "      <th>EX_ac_e</th>\n",
       "      <td>0.000000</td>\n",
       "      <td>0.000000</td>\n",
       "    </tr>\n",
       "    <tr>\n",
       "      <th>EX_but_e</th>\n",
       "      <td>0.000000</td>\n",
       "      <td>0.000000</td>\n",
       "    </tr>\n",
       "    <tr>\n",
       "      <th>EX_btoh_e</th>\n",
       "      <td>-1.982759</td>\n",
       "      <td>23.095238</td>\n",
       "    </tr>\n",
       "  </tbody>\n",
       "</table>\n",
       "</div>"
      ],
      "text/plain": [
       "                minimum    maximum\n",
       "EX_etoh_e      0.000000  34.147287\n",
       "EX_acetone_e -13.086420  20.000000\n",
       "EX_ac_e        0.000000   0.000000\n",
       "EX_but_e       0.000000   0.000000\n",
       "EX_btoh_e     -1.982759  23.095238"
      ]
     },
     "execution_count": 58,
     "metadata": {},
     "output_type": "execute_result"
    }
   ],
   "source": [
    "fva_sol"
   ]
  },
  {
   "cell_type": "code",
   "execution_count": 132,
   "metadata": {},
   "outputs": [],
   "source": [
    "# add butyrate to the medium\n",
    "nj4.reactions.EX_but_e.lower_bound = -10"
   ]
  },
  {
   "cell_type": "code",
   "execution_count": 133,
   "metadata": {},
   "outputs": [
    {
     "data": {
      "text/html": [
       "<div>\n",
       "<style scoped>\n",
       "    .dataframe tbody tr th:only-of-type {\n",
       "        vertical-align: middle;\n",
       "    }\n",
       "\n",
       "    .dataframe tbody tr th {\n",
       "        vertical-align: top;\n",
       "    }\n",
       "\n",
       "    .dataframe thead th {\n",
       "        text-align: right;\n",
       "    }\n",
       "</style>\n",
       "<table border=\"1\" class=\"dataframe\">\n",
       "  <thead>\n",
       "    <tr style=\"text-align: right;\">\n",
       "      <th></th>\n",
       "      <th>minimum</th>\n",
       "      <th>maximum</th>\n",
       "    </tr>\n",
       "  </thead>\n",
       "  <tbody>\n",
       "    <tr>\n",
       "      <th>EX_btoh_e</th>\n",
       "      <td>0.000000</td>\n",
       "      <td>0.000000</td>\n",
       "    </tr>\n",
       "    <tr>\n",
       "      <th>EX_etoh_e</th>\n",
       "      <td>19.875820</td>\n",
       "      <td>19.962270</td>\n",
       "    </tr>\n",
       "    <tr>\n",
       "      <th>EX_ac_e</th>\n",
       "      <td>0.000000</td>\n",
       "      <td>0.000000</td>\n",
       "    </tr>\n",
       "    <tr>\n",
       "      <th>EX_but_e</th>\n",
       "      <td>0.000000</td>\n",
       "      <td>0.000000</td>\n",
       "    </tr>\n",
       "    <tr>\n",
       "      <th>EX_acetone_e</th>\n",
       "      <td>2.344472</td>\n",
       "      <td>2.373297</td>\n",
       "    </tr>\n",
       "  </tbody>\n",
       "</table>\n",
       "</div>"
      ],
      "text/plain": [
       "                minimum    maximum\n",
       "EX_btoh_e      0.000000   0.000000\n",
       "EX_etoh_e     19.875820  19.962270\n",
       "EX_ac_e        0.000000   0.000000\n",
       "EX_but_e       0.000000   0.000000\n",
       "EX_acetone_e   2.344472   2.373297"
      ]
     },
     "execution_count": 133,
     "metadata": {},
     "output_type": "execute_result"
    }
   ],
   "source": [
    "mv.check_blocked_reactions(nj4, production_reactions)\n",
    "mv.check_production(nj4, production_reactions)"
   ]
  },
  {
   "cell_type": "markdown",
   "metadata": {},
   "source": [
    "### other stuff - testing. ect:"
   ]
  },
  {
   "cell_type": "code",
   "execution_count": 10,
   "metadata": {},
   "outputs": [
    {
     "name": "stdout",
     "output_type": "stream",
     "text": [
      "nj4_xylose.html\n"
     ]
    }
   ],
   "source": [
    "# useful tool for seeing the intercondections between metabolites!\n",
    "\n",
    "from utils import model_validation as modval\n",
    "\n",
    "metabolites = [\"xylu__D_c\", \"xu5p__D_c\"]\n",
    "G = modval.create_graph(nj4, metabolites)\n",
    "modval.visualise_graph(G, 'nj4_xylose')"
   ]
  },
  {
   "cell_type": "code",
   "execution_count": 11,
   "metadata": {},
   "outputs": [
    {
     "data": {
      "text/html": [
       "\n",
       "        <table>\n",
       "            <tr>\n",
       "                <td><strong>Reaction identifier</strong></td><td>TKT1</td>\n",
       "            </tr><tr>\n",
       "                <td><strong>Name</strong></td><td>Transketolase</td>\n",
       "            </tr><tr>\n",
       "                <td><strong>Memory address</strong></td>\n",
       "                <td>0x1238d8490</td>\n",
       "            </tr><tr>\n",
       "                <td><strong>Stoichiometry</strong></td>\n",
       "                <td>\n",
       "                    <p style='text-align:right'>r5p_c + xu5p__D_c <=> g3p_c + s7p_c</p>\n",
       "                    <p style='text-align:right'>Alpha-D-Ribose 5-phosphate + D-Xylulose 5-phosphate <=> Glyceraldehyde 3-phosphate + Sedoheptulose 7-phosphate</p>\n",
       "                </td>\n",
       "            </tr><tr>\n",
       "                <td><strong>GPR</strong></td><td>WP_010964657_1</td>\n",
       "            </tr><tr>\n",
       "                <td><strong>Lower bound</strong></td><td>-1000.0</td>\n",
       "            </tr><tr>\n",
       "                <td><strong>Upper bound</strong></td><td>1000.0</td>\n",
       "            </tr>\n",
       "        </table>\n",
       "        "
      ],
      "text/plain": [
       "<Reaction TKT1 at 0x1238d8490>"
      ]
     },
     "execution_count": 11,
     "metadata": {},
     "output_type": "execute_result"
    }
   ],
   "source": [
    "nj4.reactions.TKT1"
   ]
  },
  {
   "cell_type": "code",
   "execution_count": 4,
   "metadata": {},
   "outputs": [
    {
     "name": "stderr",
     "output_type": "stream",
     "text": [
      "Could not identify an external compartment by name and choosing one with the most boundary reactions. That might be complete nonsense or change suddenly. Consider renaming your compartments using `Model.compartments` to fix this.\n",
      "Could not identify an external compartment by name and choosing one with the most boundary reactions. That might be complete nonsense or change suddenly. Consider renaming your compartments using `Model.compartments` to fix this.\n"
     ]
    },
    {
     "data": {
      "text/plain": [
       "True"
      ]
     },
     "execution_count": 4,
     "metadata": {},
     "output_type": "execute_result"
    }
   ],
   "source": [
    "# checking if production of a metabolite is possible at SS\n",
    "\n",
    "from utils import model_validation as modval\n",
    "\n",
    "modval.production_possible(nj4, \"EX_etoh_e\")"
   ]
  },
  {
   "cell_type": "code",
   "execution_count": 3,
   "metadata": {},
   "outputs": [],
   "source": [
    "from cobra.io import save_json_model\n",
    "save_json_model(nj4, \"test.json\")"
   ]
  },
  {
   "cell_type": "code",
   "execution_count": null,
   "metadata": {},
   "outputs": [],
   "source": []
  }
 ],
 "metadata": {
  "kernelspec": {
   "display_name": "venv",
   "language": "python",
   "name": "python3"
  },
  "language_info": {
   "codemirror_mode": {
    "name": "ipython",
    "version": 3
   },
   "file_extension": ".py",
   "mimetype": "text/x-python",
   "name": "python",
   "nbconvert_exporter": "python",
   "pygments_lexer": "ipython3",
   "version": "3.10.7"
  }
 },
 "nbformat": 4,
 "nbformat_minor": 2
}
