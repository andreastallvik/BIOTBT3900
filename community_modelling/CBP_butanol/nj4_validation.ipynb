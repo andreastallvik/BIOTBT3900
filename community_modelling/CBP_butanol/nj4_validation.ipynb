{
 "cells": [
  {
   "cell_type": "markdown",
   "metadata": {},
   "source": [
    "The model was automatically reconstructed from sequenced genome (retrieved with NCBI RefSeq accession code) using carveme.\n",
    "The anaerobic xylose medium with yeast-extract is defined in medium.tsv, which is used to gapfill and initialise exchange reaction bounds on the model.\n",
    "\n",
    "To generate the model:\n",
    "\n",
    "```\n",
    "carve --refseq GCF_003014985.1 --gapfill nj4_med -i nj4_med --mediadb medium.tsv -o GEMs/NJ4.xml \n",
    "```"
   ]
  },
  {
   "cell_type": "code",
   "execution_count": 2,
   "metadata": {},
   "outputs": [],
   "source": [
    "from cobra.io import read_sbml_model\n",
    "from utils import model_validation as mv\n",
    "\n",
    "nj4 = read_sbml_model('GEMs/NJ4.xml')"
   ]
  },
  {
   "cell_type": "markdown",
   "metadata": {},
   "source": [
    "# Gapfilling\n",
    "\n",
    "The model was gapfilled to grow on the specified medium. This was done during the construction process so that genomic evidence could be taken into account during the process.\n",
    "Comparison of the non-gapfilled and the gapfilled models will follow."
   ]
  },
  {
   "cell_type": "code",
   "execution_count": 3,
   "metadata": {},
   "outputs": [
    {
     "name": "stdout",
     "output_type": "stream",
     "text": [
      "before gapfilling there were 1647 reactions\n",
      "after before gapfilling there were 1650 reactions\n",
      "the added reactions are:\n",
      "['BZDH', 'NDPK2', 'PHPYROX']\n"
     ]
    }
   ],
   "source": [
    "nj4_original = read_sbml_model(\"GEMs/NJ4_nogapfill.xml\")\n",
    "\n",
    "print('before gapfilling there were', len(nj4_original.reactions), 'reactions')\n",
    "print('after before gapfilling there were', len(nj4.reactions), 'reactions')\n",
    "# get all reactions that are present in the gapfilled but not the original model\n",
    "print('the added reactions are:')\n",
    "print([r.id for r in nj4.reactions if r not in nj4_original.reactions])"
   ]
  },
  {
   "cell_type": "markdown",
   "metadata": {},
   "source": [
    "# Testing the model:\n",
    "\n",
    "A sanity-check on the model and its capabilities should include:\n",
    "\n",
    "1. check whether growth is possible on the medium,  \n",
    "use ```growth_possible```.\n",
    "\n",
    "1. check for energy-gerating cycles,  \n",
    "use ```energy_generation_cycle```\n",
    "\n",
    "1. check whether the exhange reactions exist in the model,  \n",
    "use ```reactions_exist```.\n",
    "\n",
    "2. check whether the exhange reactions are blocked,  \n",
    "use ```check_blocked_reactions```.\n",
    "\n",
    "2. check whether the exhange reactions can carry flux at optimal solution (FVA),  \n",
    "use ```check_production```."
   ]
  },
  {
   "cell_type": "code",
   "execution_count": 2,
   "metadata": {},
   "outputs": [
    {
     "data": {
      "text/plain": [
       "True"
      ]
     },
     "execution_count": 2,
     "metadata": {},
     "output_type": "execute_result"
    }
   ],
   "source": [
    "mv.growth_possible(nj4)"
   ]
  },
  {
   "cell_type": "code",
   "execution_count": 42,
   "metadata": {},
   "outputs": [
    {
     "data": {
      "text/plain": [
       "False"
      ]
     },
     "execution_count": 42,
     "metadata": {},
     "output_type": "execute_result"
    }
   ],
   "source": [
    "mv.energy_generation_cycle(nj4)"
   ]
  },
  {
   "cell_type": "code",
   "execution_count": 15,
   "metadata": {},
   "outputs": [],
   "source": [
    "uptake_reactions = [\n",
    "    'EX_xyl__D_e', # xylose exchange\n",
    "]\n",
    "\n",
    "production_reactions = [\n",
    "    'EX_btoh_e', # butanol exhange\n",
    "    'EX_etoh_e', # ethanol exchange\n",
    "    'EX_ac_e', # acetate exchange\n",
    "    'EX_but_e', # butyrate exchange\n",
    "    'EX_acetone_e', # acetone exchange\n",
    "]"
   ]
  },
  {
   "cell_type": "code",
   "execution_count": 4,
   "metadata": {},
   "outputs": [
    {
     "data": {
      "text/plain": [
       "True"
      ]
     },
     "execution_count": 4,
     "metadata": {},
     "output_type": "execute_result"
    }
   ],
   "source": [
    "mv.reactions_exist(nj4, uptake_reactions)"
   ]
  },
  {
   "cell_type": "code",
   "execution_count": 5,
   "metadata": {},
   "outputs": [
    {
     "name": "stdout",
     "output_type": "stream",
     "text": [
      "The following reactions are missing: ['EX_btoh_e', 'EX_acetone_e']\n"
     ]
    },
    {
     "data": {
      "text/plain": [
       "False"
      ]
     },
     "execution_count": 5,
     "metadata": {},
     "output_type": "execute_result"
    }
   ],
   "source": [
    "mv.reactions_exist(nj4, production_reactions)"
   ]
  },
  {
   "cell_type": "code",
   "execution_count": 6,
   "metadata": {},
   "outputs": [],
   "source": [
    "existing_production_reactions = [\n",
    "    'EX_etoh_e', # ethanol exchange\n",
    "    'EX_ac_e', # acetate exchange\n",
    "    'EX_but_e', # butyrate exchange\n",
    "]"
   ]
  },
  {
   "cell_type": "code",
   "execution_count": 7,
   "metadata": {},
   "outputs": [
    {
     "data": {
      "text/plain": [
       "['EX_ac_e', 'EX_but_e']"
      ]
     },
     "execution_count": 7,
     "metadata": {},
     "output_type": "execute_result"
    }
   ],
   "source": [
    "mv.check_blocked_reactions(nj4, existing_production_reactions)"
   ]
  },
  {
   "cell_type": "code",
   "execution_count": 8,
   "metadata": {},
   "outputs": [
    {
     "data": {
      "text/html": [
       "<div>\n",
       "<style scoped>\n",
       "    .dataframe tbody tr th:only-of-type {\n",
       "        vertical-align: middle;\n",
       "    }\n",
       "\n",
       "    .dataframe tbody tr th {\n",
       "        vertical-align: top;\n",
       "    }\n",
       "\n",
       "    .dataframe thead th {\n",
       "        text-align: right;\n",
       "    }\n",
       "</style>\n",
       "<table border=\"1\" class=\"dataframe\">\n",
       "  <thead>\n",
       "    <tr style=\"text-align: right;\">\n",
       "      <th></th>\n",
       "      <th>minimum</th>\n",
       "      <th>maximum</th>\n",
       "    </tr>\n",
       "  </thead>\n",
       "  <tbody>\n",
       "    <tr>\n",
       "      <th>EX_etoh_e</th>\n",
       "      <td>15.445155</td>\n",
       "      <td>15.844752</td>\n",
       "    </tr>\n",
       "    <tr>\n",
       "      <th>EX_ac_e</th>\n",
       "      <td>0.000000</td>\n",
       "      <td>0.000000</td>\n",
       "    </tr>\n",
       "    <tr>\n",
       "      <th>EX_but_e</th>\n",
       "      <td>0.000000</td>\n",
       "      <td>0.000000</td>\n",
       "    </tr>\n",
       "  </tbody>\n",
       "</table>\n",
       "</div>"
      ],
      "text/plain": [
       "             minimum    maximum\n",
       "EX_etoh_e  15.445155  15.844752\n",
       "EX_ac_e     0.000000   0.000000\n",
       "EX_but_e    0.000000   0.000000"
      ]
     },
     "execution_count": 8,
     "metadata": {},
     "output_type": "execute_result"
    }
   ],
   "source": [
    "mv.check_production(nj4, existing_production_reactions)"
   ]
  },
  {
   "cell_type": "markdown",
   "metadata": {},
   "source": [
    "The out-of-the-box carveme model:\n",
    "- can grow on the medium\n",
    "- does not contain the exhange reactions for butanol or acetone\n",
    "- does not contain acetone or butyrate production in its solution space (blocked reactions)\n",
    "- needs to produce ethanol at optimal growth"
   ]
  },
  {
   "cell_type": "markdown",
   "metadata": {},
   "source": [
    "## Troubleshooting the carveme generated model \n",
    "\n",
    "The metabolites and reactions in the ABE fermentation pathway has been identified (see personal notes) with BiGG identifiers.\n",
    "Will begin by checking which are / are not present in the model:"
   ]
  },
  {
   "cell_type": "code",
   "execution_count": 9,
   "metadata": {},
   "outputs": [
    {
     "name": "stdout",
     "output_type": "stream",
     "text": [
      "acetone not in model\n"
     ]
    }
   ],
   "source": [
    "metabolites = ['btoh', '1btol', 'btal', 'btcoa', 'butpi', 'but', 'acetone', 'acac', 'aacoa', 'b2coa', '3hbcoa', 'accoa', 'pyr']\n",
    "\n",
    "for metabolite in metabolites:\n",
    "    try:\n",
    "        nj4.metabolites.get_by_id(str(metabolite+\"_c\"))\n",
    "    except KeyError:\n",
    "        print(metabolite, \"not in model\")"
   ]
  },
  {
   "cell_type": "code",
   "execution_count": 16,
   "metadata": {},
   "outputs": [
    {
     "name": "stdout",
     "output_type": "stream",
     "text": [
      "EX_btoh_e not in model\n",
      "EX_acetone_e not in model\n"
     ]
    }
   ],
   "source": [
    "for reaction in production_reactions:\n",
    "    try:\n",
    "        nj4.reactions.get_by_id(reaction)\n",
    "    except KeyError:\n",
    "        print(reaction, \"not in model\")"
   ]
  },
  {
   "cell_type": "code",
   "execution_count": 19,
   "metadata": {},
   "outputs": [
    {
     "name": "stdout",
     "output_type": "stream",
     "text": [
      "btoh_e not in model\n"
     ]
    }
   ],
   "source": [
    "metabolite = \"btoh\"\n",
    "\n",
    "try:\n",
    "    nj4.metabolites.get_by_id(str(metabolite+\"_e\"))\n",
    "except KeyError:\n",
    "    print(str(metabolite+\"_e\"), \"not in model\")"
   ]
  },
  {
   "cell_type": "markdown",
   "metadata": {},
   "source": [
    "- all the (intracellular) metabolites required for the correct behaviour is present in the model appart from acetone. will focus on fixing this pathway first\n",
    "- extracellular butanol and butanol exchange is missing, even though intracellular butanol is present. need to add butanol transport and exhange reactions"
   ]
  },
  {
   "cell_type": "markdown",
   "metadata": {},
   "source": [
    "### identifying missing reactions\n",
    "\n",
    "use the universal model to find *candidates* for reactions that connect 2 metabolites"
   ]
  },
  {
   "cell_type": "code",
   "execution_count": 16,
   "metadata": {},
   "outputs": [
    {
     "name": "stderr",
     "output_type": "stream",
     "text": [
      "No objective coefficients in model. Unclear what should be optimized\n"
     ]
    }
   ],
   "source": [
    "from config import ROOT_DIR\n",
    "\n",
    "universal_model = read_sbml_model(str(ROOT_DIR / \"community_modelling\" / \"GEMs\" / \"bigg_universe.xml\"))"
   ]
  },
  {
   "cell_type": "code",
   "execution_count": 91,
   "metadata": {},
   "outputs": [],
   "source": [
    "def find_reaction_connections(universal_model, A, B):\n",
    "    \"\"\"Find the reaction(s) that connect metabolite A and B in the universal model.\"\"\"\n",
    "    rx_A = universal_model.metabolites.get_by_id(A).reactions\n",
    "    rx_B = universal_model.metabolites.get_by_id(B).reactions\n",
    "\n",
    "    # get list of elements in both r1 and r2\n",
    "    common = list(set(rx_A).intersection(rx_B))\n",
    "    return [r.id for r in common]"
   ]
  },
  {
   "cell_type": "code",
   "execution_count": 13,
   "metadata": {},
   "outputs": [
    {
     "data": {
      "text/plain": [
       "['ACEt', 'ACETONEt2']"
      ]
     },
     "execution_count": 13,
     "metadata": {},
     "output_type": "execute_result"
    }
   ],
   "source": [
    "find_reaction_connections(universal_model, \"acetone_e\", \"acetone_c\")"
   ]
  },
  {
   "cell_type": "code",
   "execution_count": 12,
   "metadata": {},
   "outputs": [
    {
     "data": {
      "text/plain": [
       "['ADCi']"
      ]
     },
     "execution_count": 12,
     "metadata": {},
     "output_type": "execute_result"
    }
   ],
   "source": [
    "find_reaction_connections(universal_model, \"acac_c\", \"acetone_c\")"
   ]
  },
  {
   "cell_type": "code",
   "execution_count": 20,
   "metadata": {},
   "outputs": [
    {
     "data": {
      "text/plain": [
       "['BTOHt']"
      ]
     },
     "execution_count": 20,
     "metadata": {},
     "output_type": "execute_result"
    }
   ],
   "source": [
    "find_reaction_connections(universal_model, \"btoh_e\", \"btoh_c\")"
   ]
  },
  {
   "cell_type": "code",
   "execution_count": 17,
   "metadata": {},
   "outputs": [
    {
     "name": "stderr",
     "output_type": "stream",
     "text": [
      "Could not identify an external compartment by name and choosing one with the most boundary reactions. That might be complete nonsense or change suddenly. Consider renaming your compartments using `Model.compartments` to fix this.\n",
      "Could not identify an external compartment by name and choosing one with the most boundary reactions. That might be complete nonsense or change suddenly. Consider renaming your compartments using `Model.compartments` to fix this.\n"
     ]
    }
   ],
   "source": [
    "# butabol transport reaction\n",
    "BTOHt = universal_model.reactions.get_by_id('BTOHt')\n",
    "\n",
    "# acetoacetate -> acetone + CO2\n",
    "ADCi = universal_model.reactions.get_by_id(\"ADCi\")\n",
    "\n",
    "# acetone transport reaction\n",
    "ACEt = universal_model.reactions.get_by_id(\"ACEt\")\n",
    "\n",
    "# acetoacetyl-CoA + butyrate -> acetoacetate + butanoyl-CoA\n",
    "nj4.reactions.get_by_id(\"BUTCT2\").bounds = (-1000, 1000) # make this reaction reversible like god intended\n",
    "\n",
    "nj4.add_reactions([BTOHt, ADCi, ACEt])\n",
    "nj4.add_boundary(nj4.metabolites.get_by_id('btoh_e'), type='exchange', reaction_id='EX_btoh_e', lb=0, ub=1000);\n",
    "nj4.add_boundary(nj4.metabolites.get_by_id('acetone_e'), type='exchange', reaction_id='EX_acetone_e', lb=0, ub=1000);"
   ]
  },
  {
   "cell_type": "code",
   "execution_count": 18,
   "metadata": {},
   "outputs": [
    {
     "data": {
      "text/plain": [
       "['EX_ac_e', 'EX_but_e']"
      ]
     },
     "execution_count": 18,
     "metadata": {},
     "output_type": "execute_result"
    }
   ],
   "source": [
    "mv.check_blocked_reactions(nj4, production_reactions)"
   ]
  },
  {
   "cell_type": "markdown",
   "metadata": {},
   "source": [
    "the production of acetate and butyrate is still blocked - use the cobrapy gapfill function to identify possible solutions:"
   ]
  },
  {
   "cell_type": "code",
   "execution_count": 90,
   "metadata": {},
   "outputs": [],
   "source": [
    "from cobra.flux_analysis import gapfill\n",
    "\n",
    "def find_gapfilling_reactions(model, universal_model, reaction):\n",
    "    \"\"\"Using cobrapy gapfill function, find reactions from the universal model that when added will unblock reaction.\"\"\"\n",
    "    \n",
    "    with model:\n",
    "        model.objective = model.reactions.get_by_id(reaction)\n",
    "        gapfilling_reactions = gapfill(model, universal_model)\n",
    "        \n",
    "    return [r.id for r in gapfilling_reactions[0]]"
   ]
  },
  {
   "cell_type": "code",
   "execution_count": 34,
   "metadata": {},
   "outputs": [
    {
     "data": {
      "text/plain": [
       "['ACt5pp']"
      ]
     },
     "execution_count": 34,
     "metadata": {},
     "output_type": "execute_result"
    }
   ],
   "source": [
    "find_gapfilling_reactions(nj4, universal_model, \"EX_ac_e\")"
   ]
  },
  {
   "cell_type": "code",
   "execution_count": 36,
   "metadata": {},
   "outputs": [
    {
     "name": "stdout",
     "output_type": "stream",
     "text": [
      "['BUTt2rpp']\n"
     ]
    }
   ],
   "source": [
    "find_gapfilling_reactions(nj4, universal_model, \"EX_but_e\")"
   ]
  },
  {
   "cell_type": "markdown",
   "metadata": {},
   "source": [
    "add in transport reactions between extracellular and cytosolic butyrate and acetate"
   ]
  },
  {
   "cell_type": "code",
   "execution_count": 19,
   "metadata": {},
   "outputs": [],
   "source": [
    "# butyrate transport reaction\n",
    "BUTt = universal_model.reactions.get_by_id('BUTt')\n",
    "\n",
    "# acetate transport reaction\n",
    "ACtr = universal_model.reactions.get_by_id(\"ACtr\")\n",
    "\n",
    "nj4.add_reactions([BUTt, ACtr])"
   ]
  },
  {
   "cell_type": "code",
   "execution_count": 20,
   "metadata": {},
   "outputs": [],
   "source": [
    "assert mv.growth_possible(nj4)\n",
    "assert not mv.energy_generation_cycle(nj4)\n",
    "assert not mv.check_blocked_reactions(nj4, production_reactions)"
   ]
  },
  {
   "cell_type": "markdown",
   "metadata": {},
   "source": [
    "Now no reactions are blocked - all tests are passed and the first stage of model testing and troubleshooting is completed. \n",
    "Script to run curation and save model as NJ4_curated is located in utils folder."
   ]
  },
  {
   "cell_type": "code",
   "execution_count": 21,
   "metadata": {},
   "outputs": [],
   "source": [
    "from cobra.io import write_sbml_model\n",
    "\n",
    "write_sbml_model(nj4, \"GEMs/NJ4_curated.xml\")"
   ]
  },
  {
   "cell_type": "markdown",
   "metadata": {},
   "source": [
    "## Further testing of model\n",
    "\n",
    "next up: look into how the model behaves"
   ]
  },
  {
   "cell_type": "code",
   "execution_count": 1,
   "metadata": {},
   "outputs": [],
   "source": [
    "from cobra.io import read_sbml_model\n",
    "from utils import model_validation as mv\n",
    "\n",
    "nj4 = read_sbml_model('GEMs/NJ4_curated.xml')\n",
    "\n",
    "production_reactions = [\n",
    "    'EX_btoh_e', # butanol exhange\n",
    "    'EX_etoh_e', # ethanol exchange\n",
    "    'EX_ac_e', # acetate exchange\n",
    "    'EX_but_e', # butyrate exchange\n",
    "    'EX_acetone_e', # acetone exchange\n",
    "]"
   ]
  },
  {
   "cell_type": "code",
   "execution_count": 2,
   "metadata": {},
   "outputs": [],
   "source": [
    "assert mv.growth_possible(nj4)\n",
    "assert not mv.energy_generation_cycle(nj4)\n",
    "assert not mv.check_blocked_reactions(nj4, production_reactions)"
   ]
  },
  {
   "cell_type": "code",
   "execution_count": 182,
   "metadata": {},
   "outputs": [
    {
     "data": {
      "text/html": [
       "<div>\n",
       "<style scoped>\n",
       "    .dataframe tbody tr th:only-of-type {\n",
       "        vertical-align: middle;\n",
       "    }\n",
       "\n",
       "    .dataframe tbody tr th {\n",
       "        vertical-align: top;\n",
       "    }\n",
       "\n",
       "    .dataframe thead th {\n",
       "        text-align: right;\n",
       "    }\n",
       "</style>\n",
       "<table border=\"1\" class=\"dataframe\">\n",
       "  <thead>\n",
       "    <tr style=\"text-align: right;\">\n",
       "      <th></th>\n",
       "      <th>minimum</th>\n",
       "      <th>maximum</th>\n",
       "    </tr>\n",
       "  </thead>\n",
       "  <tbody>\n",
       "    <tr>\n",
       "      <th>EX_btoh_e</th>\n",
       "      <td>0.0</td>\n",
       "      <td>7.820022</td>\n",
       "    </tr>\n",
       "    <tr>\n",
       "      <th>EX_etoh_e</th>\n",
       "      <td>0.0</td>\n",
       "      <td>15.640044</td>\n",
       "    </tr>\n",
       "    <tr>\n",
       "      <th>EX_ac_e</th>\n",
       "      <td>0.0</td>\n",
       "      <td>11.210729</td>\n",
       "    </tr>\n",
       "    <tr>\n",
       "      <th>EX_but_e</th>\n",
       "      <td>0.0</td>\n",
       "      <td>11.210729</td>\n",
       "    </tr>\n",
       "    <tr>\n",
       "      <th>EX_acetone_e</th>\n",
       "      <td>0.0</td>\n",
       "      <td>0.000000</td>\n",
       "    </tr>\n",
       "  </tbody>\n",
       "</table>\n",
       "</div>"
      ],
      "text/plain": [
       "              minimum    maximum\n",
       "EX_btoh_e         0.0   7.820022\n",
       "EX_etoh_e         0.0  15.640044\n",
       "EX_ac_e           0.0  11.210729\n",
       "EX_but_e          0.0  11.210729\n",
       "EX_acetone_e      0.0   0.000000"
      ]
     },
     "execution_count": 182,
     "metadata": {},
     "output_type": "execute_result"
    }
   ],
   "source": [
    "mv.check_production(nj4, production_reactions, fraction_of_optimum=1)"
   ]
  },
  {
   "cell_type": "markdown",
   "metadata": {},
   "source": [
    "- it is expected that there cannot be consumption of any of these substances since there is none available in the medium"
   ]
  },
  {
   "cell_type": "code",
   "execution_count": 183,
   "metadata": {},
   "outputs": [
    {
     "name": "stdout",
     "output_type": "stream",
     "text": [
      "                minimum       maximum\n",
      "EX_btoh_e      0.000000  1.282002e+01\n",
      "EX_etoh_e      0.000000  2.564004e+01\n",
      "EX_ac_e       -4.496405  2.121073e+01\n",
      "EX_but_e     -10.000000  1.564004e+01\n",
      "EX_acetone_e   0.000000  1.624048e-13\n"
     ]
    }
   ],
   "source": [
    "with nj4:\n",
    "    nj4.reactions.EX_but_e.lower_bound = -10\n",
    "    nj4.reactions.EX_ac_e.lower_bound = -10\n",
    "    print(mv.check_production(nj4, production_reactions, fraction_of_optimum=1))"
   ]
  },
  {
   "cell_type": "markdown",
   "metadata": {},
   "source": [
    "- if we add butyrate and acetate to the medium, they can be used as substrate (like they are during solventogenesis) and max possible butanol and acetone increases"
   ]
  },
  {
   "cell_type": "code",
   "execution_count": 23,
   "metadata": {},
   "outputs": [
    {
     "name": "stdout",
     "output_type": "stream",
     "text": [
      "adhE1 : not in model\n",
      "adhE2 : ['BTS', 'BTCOARx', 'CHOLD3', 'BTS_nadph', 'ACALD', 'ALCD4', 'ALCD19', 'ALCD2x', 'IBHH', 'ALCD19y', 'BNOCA']\n",
      "ctfA : ['BUTCT', 'ACACCT', 'HXCT', 'BUTCT2']\n",
      "ctfB : ['BUTCT', 'ACACCT', 'BUTCT2']\n"
     ]
    }
   ],
   "source": [
    "genes = {'adhE1':'WP_010890846_1', 'adhE2':'WP_010890720_1', 'ctfA': 'WP_010890847_1', 'ctfB': 'WP_010890848_1'}\n",
    "\n",
    "for gene, protein in genes.items():\n",
    "    try:\n",
    "        gpr = nj4.genes.get_by_id(protein)\n",
    "        print(gene, \":\", [r.id for r in gpr.reactions])\n",
    "    except KeyError:\n",
    "        print(gene, \": not in model\")"
   ]
  },
  {
   "cell_type": "markdown",
   "metadata": {},
   "source": [
    "Looking further into the enzyme complex ctfAB 3.8.3.8, it is important in transferring CoA groups between: \n",
    "- acetoacetyl-CoA / acetoacetate and acetyl-CoA / acetate (ACACCT)\n",
    "- acetoacetyl-CoA / acetoacetate and butyryl-CoA / butyrate (BUTCT2)\n",
    "- acetyl-CoA / acetate and butyryl-CoA / butyrate (BUTCT)\n",
    "\n",
    "However, 'BUTCT', 'ACACCT' are one-way in the model, which means that the model will not be capable of uptaking acetate and butyrate to aid in acetone production (which is what happens in solventogenesis).\n",
    "Remidying this by making the reactions reversible."
   ]
  },
  {
   "cell_type": "code",
   "execution_count": null,
   "metadata": {},
   "outputs": [],
   "source": [
    "nj4.reactions.get_by_id(\"BUTCT\").bounds = (-1000, 1000) \n",
    "nj4.reactions.get_by_id(\"ACACCT\").bounds = (-1000, 1000) "
   ]
  },
  {
   "cell_type": "markdown",
   "metadata": {},
   "source": [
    "shadow prices and reduced costs:"
   ]
  },
  {
   "cell_type": "code",
   "execution_count": 16,
   "metadata": {},
   "outputs": [
    {
     "name": "stdout",
     "output_type": "stream",
     "text": [
      "xyl__D_e   -1.515152\n",
      "but_e      -0.363636\n",
      "ac_e        0.000000\n",
      "Name: shadow_prices, dtype: float64\n"
     ]
    }
   ],
   "source": [
    "substrates = [\"xyl__D_e\", \"but_e\", \"ac_e\"]\n",
    "\n",
    "with nj4:\n",
    "    nj4.objective = \"EX_btoh_e\"\n",
    "    sol = nj4.optimize()\n",
    "    print(sol.shadow_prices[substrates])"
   ]
  },
  {
   "cell_type": "markdown",
   "metadata": {},
   "source": [
    "- when butanol is objective, the negative shadow price for butyrate suggests that butyrate presence would increase butanol production"
   ]
  },
  {
   "cell_type": "code",
   "execution_count": 17,
   "metadata": {},
   "outputs": [
    {
     "data": {
      "text/html": [
       "<div>\n",
       "<style scoped>\n",
       "    .dataframe tbody tr th:only-of-type {\n",
       "        vertical-align: middle;\n",
       "    }\n",
       "\n",
       "    .dataframe tbody tr th {\n",
       "        vertical-align: top;\n",
       "    }\n",
       "\n",
       "    .dataframe thead th {\n",
       "        text-align: right;\n",
       "    }\n",
       "</style>\n",
       "<table border=\"1\" class=\"dataframe\">\n",
       "  <thead>\n",
       "    <tr style=\"text-align: right;\">\n",
       "      <th></th>\n",
       "      <th>fluxes</th>\n",
       "      <th>reduced_costs</th>\n",
       "    </tr>\n",
       "  </thead>\n",
       "  <tbody>\n",
       "    <tr>\n",
       "      <th>CPPPGO</th>\n",
       "      <td>0.0</td>\n",
       "      <td>-2.169306</td>\n",
       "    </tr>\n",
       "    <tr>\n",
       "      <th>H2SO</th>\n",
       "      <td>0.0</td>\n",
       "      <td>-2.085435</td>\n",
       "    </tr>\n",
       "    <tr>\n",
       "      <th>EX_bz_e</th>\n",
       "      <td>0.0</td>\n",
       "      <td>-1.103921</td>\n",
       "    </tr>\n",
       "    <tr>\n",
       "      <th>EX_o2_e</th>\n",
       "      <td>0.0</td>\n",
       "      <td>-1.042718</td>\n",
       "    </tr>\n",
       "    <tr>\n",
       "      <th>MMSAD1</th>\n",
       "      <td>0.0</td>\n",
       "      <td>-0.568961</td>\n",
       "    </tr>\n",
       "    <tr>\n",
       "      <th>...</th>\n",
       "      <td>...</td>\n",
       "      <td>...</td>\n",
       "    </tr>\n",
       "    <tr>\n",
       "      <th>ACt2ipp</th>\n",
       "      <td>0.0</td>\n",
       "      <td>0.020401</td>\n",
       "    </tr>\n",
       "    <tr>\n",
       "      <th>CLt3_2pp</th>\n",
       "      <td>0.0</td>\n",
       "      <td>0.020401</td>\n",
       "    </tr>\n",
       "    <tr>\n",
       "      <th>GTHRDt2</th>\n",
       "      <td>0.0</td>\n",
       "      <td>0.027201</td>\n",
       "    </tr>\n",
       "    <tr>\n",
       "      <th>MALt3r</th>\n",
       "      <td>0.0</td>\n",
       "      <td>0.040802</td>\n",
       "    </tr>\n",
       "    <tr>\n",
       "      <th>SPMDt3i</th>\n",
       "      <td>0.0</td>\n",
       "      <td>0.047602</td>\n",
       "    </tr>\n",
       "  </tbody>\n",
       "</table>\n",
       "<p>613 rows × 2 columns</p>\n",
       "</div>"
      ],
      "text/plain": [
       "          fluxes  reduced_costs\n",
       "CPPPGO       0.0      -2.169306\n",
       "H2SO         0.0      -2.085435\n",
       "EX_bz_e      0.0      -1.103921\n",
       "EX_o2_e      0.0      -1.042718\n",
       "MMSAD1       0.0      -0.568961\n",
       "...          ...            ...\n",
       "ACt2ipp      0.0       0.020401\n",
       "CLt3_2pp     0.0       0.020401\n",
       "GTHRDt2      0.0       0.027201\n",
       "MALt3r       0.0       0.040802\n",
       "SPMDt3i      0.0       0.047602\n",
       "\n",
       "[613 rows x 2 columns]"
      ]
     },
     "execution_count": 17,
     "metadata": {},
     "output_type": "execute_result"
    }
   ],
   "source": [
    "sol = nj4.optimize()\n",
    "sol_frame = sol.to_frame()\n",
    "sol_frame[sol_frame[\"reduced_costs\"] != 0].sort_values(by=\"reduced_costs\")"
   ]
  },
  {
   "cell_type": "code",
   "execution_count": 187,
   "metadata": {},
   "outputs": [],
   "source": [
    "# saving model as json so it can be imported to escher to build map\n",
    "from cobra.io import save_json_model\n",
    "save_json_model(nj4, \"GEMs/NJ4_map.json\")"
   ]
  },
  {
   "cell_type": "markdown",
   "metadata": {},
   "source": [
    "## Growth coupling"
   ]
  },
  {
   "cell_type": "code",
   "execution_count": 1,
   "metadata": {},
   "outputs": [],
   "source": [
    "from cobra.io import read_sbml_model\n",
    "\n",
    "nj4 = read_sbml_model(\"GEMs/NJ4_curated.xml\")"
   ]
  },
  {
   "cell_type": "markdown",
   "metadata": {},
   "source": [
    "Initially, there was \"negative growth-coupling\" between acetate and butyrate production, meaning that as growth-rate was maximised, the FVA-max value for acetate and butyrate production approached zero.\n",
    "This does not make sense, since acidogenesis is associated with growth in the exponential growth phase.  \n",
    "\n",
    "Re-running the model reconstruction using soft constraints for butyrate and acetate was attempted, but this resulted in an identical model to the previously generated one.\n",
    "A dive into the redox balance of the patwhays (detailed explenation in notes) revelaed that this might be due to a few missing reactions.\n",
    "I added reactions for pyruvate -> acetyl-CoA formation via ferrodoxin (POR_syn), as well as NADH-mediuated ferrodoxin oxidation/reduction (FNRR), and NADH-mediated crotonyl-CoA -> butyryl-CoA (ACOAD1).\n",
    "(There is evidence for all these reactions happening in *C. acetobutylicum* in the litterature - see notes)\n",
    "Now there is no longer \"negative growth-coupling\"!\n",
    "\n",
    "There is still no direct growth-coupling - but this is likely due to the fact that 0 butyrate and max acetate / 0 acetate and max butyrate both exist in the solution space. This was verified using a simple single-gene optknock implementation, which showed that knocking out gene(s) for butyrate production ensured growth-coupled acetate production, and visa-versa. (oops - this was done for the super-available medium not the smaller medium...)"
   ]
  },
  {
   "cell_type": "code",
   "execution_count": 3,
   "metadata": {},
   "outputs": [
    {
     "name": "stderr",
     "output_type": "stream",
     "text": [
      "Could not identify an external compartment by name and choosing one with the most boundary reactions. That might be complete nonsense or change suddenly. Consider renaming your compartments using `Model.compartments` to fix this.\n",
      "Could not identify an external compartment by name and choosing one with the most boundary reactions. That might be complete nonsense or change suddenly. Consider renaming your compartments using `Model.compartments` to fix this.\n",
      "Could not identify an external compartment by name and choosing one with the most boundary reactions. That might be complete nonsense or change suddenly. Consider renaming your compartments using `Model.compartments` to fix this.\n",
      "Could not identify an external compartment by name and choosing one with the most boundary reactions. That might be complete nonsense or change suddenly. Consider renaming your compartments using `Model.compartments` to fix this.\n",
      "Could not identify an external compartment by name and choosing one with the most boundary reactions. That might be complete nonsense or change suddenly. Consider renaming your compartments using `Model.compartments` to fix this.\n",
      "Could not identify an external compartment by name and choosing one with the most boundary reactions. That might be complete nonsense or change suddenly. Consider renaming your compartments using `Model.compartments` to fix this.\n",
      "Could not identify an external compartment by name and choosing one with the most boundary reactions. That might be complete nonsense or change suddenly. Consider renaming your compartments using `Model.compartments` to fix this.\n"
     ]
    },
    {
     "data": {
      "image/png": "[encoded data removed]",
      "text/plain": [
       "<Figure size 1000x600 with 6 Axes>"
      ]
     },
     "metadata": {},
     "output_type": "display_data"
    }
   ],
   "source": [
    "from utils import static_sim\n",
    "\n",
    "medium = static_sim.get_specific_medium(nj4, {\"EX_xyl__D_e\": 10, \"EX_nh4_e\": 10,}, fill_value=0.1)\n",
    "\n",
    "prod_reactions = [\"EX_but_e\", \"EX_ac_e\", \"EX_etoh_e\", \"EX_btoh_e\", \"EX_acetone_e\"]\n",
    "\n",
    "static_sim.plot_flux_envelopes(nj4, medium=medium, reactions=prod_reactions)"
   ]
  },
  {
   "cell_type": "markdown",
   "metadata": {},
   "source": [
    "## Growth on other substrates?"
   ]
  },
  {
   "cell_type": "code",
   "execution_count": 2,
   "metadata": {},
   "outputs": [
    {
     "name": "stderr",
     "output_type": "stream",
     "text": [
      "Could not identify an external compartment by name and choosing one with the most boundary reactions. That might be complete nonsense or change suddenly. Consider renaming your compartments using `Model.compartments` to fix this.\n",
      "Could not identify an external compartment by name and choosing one with the most boundary reactions. That might be complete nonsense or change suddenly. Consider renaming your compartments using `Model.compartments` to fix this.\n"
     ]
    }
   ],
   "source": [
    "from utils import static_sim\n",
    "\n",
    "xylan_medium = static_sim.get_specific_medium(nj4, {\"EX_xylan8_e\": 1, \"EX_xylan4_e\": 1})\n",
    "\n",
    "prod_reactions = [\"EX_but_e\", \"EX_ac_e\", \"EX_etoh_e\", \"EX_btoh_e\", \"EX_acetone_e\"]\n",
    "\n",
    "with nj4:\n",
    "    nj4.medium = xylan_medium\n",
    "    sol = nj4.optimize()"
   ]
  },
  {
   "cell_type": "code",
   "execution_count": 4,
   "metadata": {},
   "outputs": [],
   "source": [
    "import escher\n",
    "from escher import Builder\n",
    "\n",
    "builder_xylan = Builder(map_json='xylan_uptake_map.json', model=nj4, height=600)\n",
    "builder_xylan.reaction_data = sol.fluxes"
   ]
  },
  {
   "cell_type": "code",
   "execution_count": 6,
   "metadata": {},
   "outputs": [
    {
     "data": {
      "application/vnd.jupyter.widget-view+json": {
       "model_id": "2c85d33f173341bdbdf55605d6998fc3",
       "version_major": 2,
       "version_minor": 0
      },
      "text/plain": [
       "Builder(allow_building_duplicate_reactions=False, and_method_in_gene_reaction_rule='mean', cofactors=['atp', '…"
      ]
     },
     "metadata": {},
     "output_type": "display_data"
    }
   ],
   "source": [
    "builder_xylan"
   ]
  },
  {
   "cell_type": "code",
   "execution_count": 8,
   "metadata": {},
   "outputs": [
    {
     "data": {
      "text/html": [
       "\n",
       "        <table>\n",
       "            <tr>\n",
       "                <td><strong>Reaction identifier</strong></td><td>XYLANabc</td>\n",
       "            </tr><tr>\n",
       "                <td><strong>Name</strong></td><td>Oligo-xylan ABC transport</td>\n",
       "            </tr><tr>\n",
       "                <td><strong>Memory address</strong></td>\n",
       "                <td>0x122ee8d90</td>\n",
       "            </tr><tr>\n",
       "                <td><strong>Stoichiometry</strong></td>\n",
       "                <td>\n",
       "                    <p style='text-align:right'>atp_c + h2o_c + xylan4_e --> adp_c + h_c + pi_c + xylan4_c</p>\n",
       "                    <p style='text-align:right'>ATP C10H12N5O13P3 + H2O H2O + Xylan (4 backbone units, 1 glcur side chain) --> ADP C10H12N5O10P2 + H+ + Phosphate + Xylan (4 backbone units, 1 glcur side chain)</p>\n",
       "                </td>\n",
       "            </tr><tr>\n",
       "                <td><strong>GPR</strong></td><td>WP_010963503_1 and WP_010965671_1 and WP_010966457_1 and WP_010966903_1</td>\n",
       "            </tr><tr>\n",
       "                <td><strong>Lower bound</strong></td><td>0.0</td>\n",
       "            </tr><tr>\n",
       "                <td><strong>Upper bound</strong></td><td>1000.0</td>\n",
       "            </tr>\n",
       "        </table>\n",
       "        "
      ],
      "text/plain": [
       "<Reaction XYLANabc at 0x122ee8d90>"
      ]
     },
     "execution_count": 8,
     "metadata": {},
     "output_type": "execute_result"
    }
   ],
   "source": [
    "nj4.reactions.XYLANabc"
   ]
  },
  {
   "cell_type": "markdown",
   "metadata": {},
   "source": [
    "## More shadow-prices"
   ]
  },
  {
   "cell_type": "code",
   "execution_count": 169,
   "metadata": {},
   "outputs": [],
   "source": [
    "from cobra.io import read_sbml_model\n",
    "from utils import model_validation as mv\n",
    "\n",
    "nj4 = read_sbml_model(\"GEMs/NJ4.xml\")"
   ]
  },
  {
   "cell_type": "code",
   "execution_count": 188,
   "metadata": {},
   "outputs": [
    {
     "name": "stderr",
     "output_type": "stream",
     "text": [
      "Could not identify an external compartment by name and choosing one with the most boundary reactions. That might be complete nonsense or change suddenly. Consider renaming your compartments using `Model.compartments` to fix this.\n",
      "Could not identify an external compartment by name and choosing one with the most boundary reactions. That might be complete nonsense or change suddenly. Consider renaming your compartments using `Model.compartments` to fix this.\n"
     ]
    }
   ],
   "source": [
    "with nj4:\n",
    "    medium = static_sim.get_specific_medium(nj4, {\"EX_xyl__D_e\": 10})\n",
    "    nj4.medium = medium\n",
    "    sol = nj4.optimize()"
   ]
  },
  {
   "cell_type": "code",
   "execution_count": 189,
   "metadata": {},
   "outputs": [],
   "source": [
    "sol_df = sol.shadow_prices.to_frame()"
   ]
  },
  {
   "cell_type": "code",
   "execution_count": 190,
   "metadata": {},
   "outputs": [],
   "source": [
    "import pandas as pd\n",
    "\n",
    "med = pd.read_csv(\"medium.tsv\", sep=\"\\t\")\n",
    "med_mets = [str(met + \"_e\") for met in med[med[\"medium\"] == \"nj4_med\"][\"compound\"]]\n",
    "other_mets = [\"nadh_c\", \"nadph_c\", \"atp_c\", \"h_c\", \"nad_c\", \"nadp_c\"]\n",
    "interesting_mets = med_mets + other_mets"
   ]
  },
  {
   "cell_type": "code",
   "execution_count": 191,
   "metadata": {},
   "outputs": [
    {
     "data": {
      "text/html": [
       "<div>\n",
       "<style scoped>\n",
       "    .dataframe tbody tr th:only-of-type {\n",
       "        vertical-align: middle;\n",
       "    }\n",
       "\n",
       "    .dataframe tbody tr th {\n",
       "        vertical-align: top;\n",
       "    }\n",
       "\n",
       "    .dataframe thead th {\n",
       "        text-align: right;\n",
       "    }\n",
       "</style>\n",
       "<table border=\"1\" class=\"dataframe\">\n",
       "  <thead>\n",
       "    <tr style=\"text-align: right;\">\n",
       "      <th></th>\n",
       "      <th>shadow_prices</th>\n",
       "    </tr>\n",
       "  </thead>\n",
       "  <tbody>\n",
       "    <tr>\n",
       "      <th>mg2_e</th>\n",
       "      <td>-0.000000</td>\n",
       "    </tr>\n",
       "    <tr>\n",
       "      <th>his__L_e</th>\n",
       "      <td>-0.000000</td>\n",
       "    </tr>\n",
       "    <tr>\n",
       "      <th>k_e</th>\n",
       "      <td>-0.000000</td>\n",
       "    </tr>\n",
       "    <tr>\n",
       "      <th>mn2_e</th>\n",
       "      <td>-0.000000</td>\n",
       "    </tr>\n",
       "    <tr>\n",
       "      <th>mobd_e</th>\n",
       "      <td>0.000000</td>\n",
       "    </tr>\n",
       "    <tr>\n",
       "      <th>na1_e</th>\n",
       "      <td>-0.000000</td>\n",
       "    </tr>\n",
       "    <tr>\n",
       "      <th>ni2_e</th>\n",
       "      <td>0.000000</td>\n",
       "    </tr>\n",
       "    <tr>\n",
       "      <th>pheme_e</th>\n",
       "      <td>-0.000000</td>\n",
       "    </tr>\n",
       "    <tr>\n",
       "      <th>pi_e</th>\n",
       "      <td>-0.000000</td>\n",
       "    </tr>\n",
       "    <tr>\n",
       "      <th>pro__L_e</th>\n",
       "      <td>0.000000</td>\n",
       "    </tr>\n",
       "    <tr>\n",
       "      <th>ribflv_e</th>\n",
       "      <td>-0.000000</td>\n",
       "    </tr>\n",
       "    <tr>\n",
       "      <th>so4_e</th>\n",
       "      <td>-0.000000</td>\n",
       "    </tr>\n",
       "    <tr>\n",
       "      <th>thm_e</th>\n",
       "      <td>-0.000000</td>\n",
       "    </tr>\n",
       "    <tr>\n",
       "      <th>trp__L_e</th>\n",
       "      <td>-0.000000</td>\n",
       "    </tr>\n",
       "    <tr>\n",
       "      <th>tyr__L_e</th>\n",
       "      <td>-0.000000</td>\n",
       "    </tr>\n",
       "    <tr>\n",
       "      <th>ura_e</th>\n",
       "      <td>-0.000000</td>\n",
       "    </tr>\n",
       "    <tr>\n",
       "      <th>xyl__D_e</th>\n",
       "      <td>0.000000</td>\n",
       "    </tr>\n",
       "    <tr>\n",
       "      <th>hxan_e</th>\n",
       "      <td>0.000000</td>\n",
       "    </tr>\n",
       "    <tr>\n",
       "      <th>zn2_e</th>\n",
       "      <td>-0.000000</td>\n",
       "    </tr>\n",
       "    <tr>\n",
       "      <th>h_e</th>\n",
       "      <td>0.000000</td>\n",
       "    </tr>\n",
       "    <tr>\n",
       "      <th>h_c</th>\n",
       "      <td>-0.000000</td>\n",
       "    </tr>\n",
       "    <tr>\n",
       "      <th>aso3_e</th>\n",
       "      <td>0.000000</td>\n",
       "    </tr>\n",
       "    <tr>\n",
       "      <th>ca2_e</th>\n",
       "      <td>-0.000000</td>\n",
       "    </tr>\n",
       "    <tr>\n",
       "      <th>cd2_e</th>\n",
       "      <td>-0.000000</td>\n",
       "    </tr>\n",
       "    <tr>\n",
       "      <th>cl_e</th>\n",
       "      <td>-0.000000</td>\n",
       "    </tr>\n",
       "    <tr>\n",
       "      <th>cobalt2_e</th>\n",
       "      <td>-0.000000</td>\n",
       "    </tr>\n",
       "    <tr>\n",
       "      <th>cu2_e</th>\n",
       "      <td>-0.000000</td>\n",
       "    </tr>\n",
       "    <tr>\n",
       "      <th>fe2_e</th>\n",
       "      <td>-0.000000</td>\n",
       "    </tr>\n",
       "    <tr>\n",
       "      <th>fe3_e</th>\n",
       "      <td>-0.000000</td>\n",
       "    </tr>\n",
       "    <tr>\n",
       "      <th>fol_e</th>\n",
       "      <td>-0.000000</td>\n",
       "    </tr>\n",
       "    <tr>\n",
       "      <th>h2s_e</th>\n",
       "      <td>0.000000</td>\n",
       "    </tr>\n",
       "    <tr>\n",
       "      <th>h2o_e</th>\n",
       "      <td>0.000000</td>\n",
       "    </tr>\n",
       "    <tr>\n",
       "      <th>arg__L_e</th>\n",
       "      <td>-0.140865</td>\n",
       "    </tr>\n",
       "    <tr>\n",
       "      <th>ser__L_e</th>\n",
       "      <td>-0.140865</td>\n",
       "    </tr>\n",
       "    <tr>\n",
       "      <th>ile__L_e</th>\n",
       "      <td>-0.140865</td>\n",
       "    </tr>\n",
       "    <tr>\n",
       "      <th>val__L_e</th>\n",
       "      <td>-0.140865</td>\n",
       "    </tr>\n",
       "    <tr>\n",
       "      <th>asp__L_e</th>\n",
       "      <td>-0.140865</td>\n",
       "    </tr>\n",
       "    <tr>\n",
       "      <th>atp_c</th>\n",
       "      <td>-0.140865</td>\n",
       "    </tr>\n",
       "    <tr>\n",
       "      <th>thr__L_e</th>\n",
       "      <td>-0.140865</td>\n",
       "    </tr>\n",
       "    <tr>\n",
       "      <th>ala__L_e</th>\n",
       "      <td>-0.140865</td>\n",
       "    </tr>\n",
       "    <tr>\n",
       "      <th>cys__L_e</th>\n",
       "      <td>-0.140865</td>\n",
       "    </tr>\n",
       "    <tr>\n",
       "      <th>glu__L_e</th>\n",
       "      <td>-0.140865</td>\n",
       "    </tr>\n",
       "    <tr>\n",
       "      <th>phe__L_e</th>\n",
       "      <td>-0.140865</td>\n",
       "    </tr>\n",
       "    <tr>\n",
       "      <th>nh4_e</th>\n",
       "      <td>-0.140865</td>\n",
       "    </tr>\n",
       "    <tr>\n",
       "      <th>met__L_e</th>\n",
       "      <td>-0.140865</td>\n",
       "    </tr>\n",
       "    <tr>\n",
       "      <th>lys__L_e</th>\n",
       "      <td>-0.281730</td>\n",
       "    </tr>\n",
       "    <tr>\n",
       "      <th>nadh_c</th>\n",
       "      <td>-0.422594</td>\n",
       "    </tr>\n",
       "    <tr>\n",
       "      <th>nadph_c</th>\n",
       "      <td>-0.422594</td>\n",
       "    </tr>\n",
       "    <tr>\n",
       "      <th>nadp_c</th>\n",
       "      <td>-0.422594</td>\n",
       "    </tr>\n",
       "    <tr>\n",
       "      <th>nad_c</th>\n",
       "      <td>-0.422594</td>\n",
       "    </tr>\n",
       "  </tbody>\n",
       "</table>\n",
       "</div>"
      ],
      "text/plain": [
       "           shadow_prices\n",
       "mg2_e          -0.000000\n",
       "his__L_e       -0.000000\n",
       "k_e            -0.000000\n",
       "mn2_e          -0.000000\n",
       "mobd_e          0.000000\n",
       "na1_e          -0.000000\n",
       "ni2_e           0.000000\n",
       "pheme_e        -0.000000\n",
       "pi_e           -0.000000\n",
       "pro__L_e        0.000000\n",
       "ribflv_e       -0.000000\n",
       "so4_e          -0.000000\n",
       "thm_e          -0.000000\n",
       "trp__L_e       -0.000000\n",
       "tyr__L_e       -0.000000\n",
       "ura_e          -0.000000\n",
       "xyl__D_e        0.000000\n",
       "hxan_e          0.000000\n",
       "zn2_e          -0.000000\n",
       "h_e             0.000000\n",
       "h_c            -0.000000\n",
       "aso3_e          0.000000\n",
       "ca2_e          -0.000000\n",
       "cd2_e          -0.000000\n",
       "cl_e           -0.000000\n",
       "cobalt2_e      -0.000000\n",
       "cu2_e          -0.000000\n",
       "fe2_e          -0.000000\n",
       "fe3_e          -0.000000\n",
       "fol_e          -0.000000\n",
       "h2s_e           0.000000\n",
       "h2o_e           0.000000\n",
       "arg__L_e       -0.140865\n",
       "ser__L_e       -0.140865\n",
       "ile__L_e       -0.140865\n",
       "val__L_e       -0.140865\n",
       "asp__L_e       -0.140865\n",
       "atp_c          -0.140865\n",
       "thr__L_e       -0.140865\n",
       "ala__L_e       -0.140865\n",
       "cys__L_e       -0.140865\n",
       "glu__L_e       -0.140865\n",
       "phe__L_e       -0.140865\n",
       "nh4_e          -0.140865\n",
       "met__L_e       -0.140865\n",
       "lys__L_e       -0.281730\n",
       "nadh_c         -0.422594\n",
       "nadph_c        -0.422594\n",
       "nadp_c         -0.422594\n",
       "nad_c          -0.422594"
      ]
     },
     "execution_count": 191,
     "metadata": {},
     "output_type": "execute_result"
    }
   ],
   "source": [
    "# filter df to get rows with interesting mets\n",
    "sol_df[sol_df.index.isin(interesting_mets)].sort_values(by=\"shadow_prices\", ascending=False)"
   ]
  }
 ],
 "metadata": {
  "kernelspec": {
   "display_name": "venv",
   "language": "python",
   "name": "python3"
  },
  "language_info": {
   "codemirror_mode": {
    "name": "ipython",
    "version": 3
   },
   "file_extension": ".py",
   "mimetype": "text/x-python",
   "name": "python",
   "nbconvert_exporter": "python",
   "pygments_lexer": "ipython3",
   "version": "3.10.7"
  }
 },
 "nbformat": 4,
 "nbformat_minor": 2
}
