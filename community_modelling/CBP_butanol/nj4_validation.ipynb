{
 "cells": [
  {
   "cell_type": "markdown",
   "metadata": {},
   "source": [
    "The model was automatically reconstructed from sequenced genome (retrieved with NCBI RefSeq accession code) using carveme.\n",
    "The anaerobic xylose medium with yeast-extract is defined in medium.tsv, which is used to gapfill and initialise exchange reaction bounds on the model.\n",
    "\n",
    "To generate the model:\n",
    "\n",
    "```\n",
    "carve --refseq GCF_003014985.1 --gapfill nj4_med -i nj4_med --mediadb medium.tsv -o GEMs/NJ4.xml \n",
    "```"
   ]
  },
  {
   "cell_type": "code",
   "execution_count": 14,
   "metadata": {},
   "outputs": [],
   "source": [
    "from cobra.io import read_sbml_model\n",
    "from utils import model_validation as mv\n",
    "\n",
    "nj4 = read_sbml_model('GEMs/NJ4.xml')"
   ]
  },
  {
   "cell_type": "markdown",
   "metadata": {},
   "source": [
    "# Testing the model:\n",
    "\n",
    "A sanity-check on the model and its capabilities should include:\n",
    "\n",
    "1. check whether growth is possible on the medium,  \n",
    "use ```growth_possible```.\n",
    "\n",
    "1. check for energy-gerating cycles,  \n",
    "use ```energy_generation_cycle```\n",
    "\n",
    "1. check whether the exhange reactions exist in the model,  \n",
    "use ```reactions_exist```.\n",
    "\n",
    "2. check whether the exhange reactions are blocked,  \n",
    "use ```check_blocked_reactions```.\n",
    "\n",
    "2. check whether the exhange reactions can carry flux at optimal solution (FVA),  \n",
    "use ```check_production```."
   ]
  },
  {
   "cell_type": "code",
   "execution_count": 2,
   "metadata": {},
   "outputs": [
    {
     "data": {
      "text/plain": [
       "True"
      ]
     },
     "execution_count": 2,
     "metadata": {},
     "output_type": "execute_result"
    }
   ],
   "source": [
    "mv.growth_possible(nj4)"
   ]
  },
  {
   "cell_type": "code",
   "execution_count": 42,
   "metadata": {},
   "outputs": [
    {
     "data": {
      "text/plain": [
       "False"
      ]
     },
     "execution_count": 42,
     "metadata": {},
     "output_type": "execute_result"
    }
   ],
   "source": [
    "mv.energy_generation_cycle(nj4)"
   ]
  },
  {
   "cell_type": "code",
   "execution_count": 15,
   "metadata": {},
   "outputs": [],
   "source": [
    "uptake_reactions = [\n",
    "    'EX_xyl__D_e', # xylose exchange\n",
    "]\n",
    "\n",
    "production_reactions = [\n",
    "    'EX_btoh_e', # butanol exhange\n",
    "    'EX_etoh_e', # ethanol exchange\n",
    "    'EX_ac_e', # acetate exchange\n",
    "    'EX_but_e', # butyrate exchange\n",
    "    'EX_acetone_e', # acetone exchange\n",
    "]"
   ]
  },
  {
   "cell_type": "code",
   "execution_count": 4,
   "metadata": {},
   "outputs": [
    {
     "data": {
      "text/plain": [
       "True"
      ]
     },
     "execution_count": 4,
     "metadata": {},
     "output_type": "execute_result"
    }
   ],
   "source": [
    "mv.reactions_exist(nj4, uptake_reactions)"
   ]
  },
  {
   "cell_type": "code",
   "execution_count": 5,
   "metadata": {},
   "outputs": [
    {
     "name": "stdout",
     "output_type": "stream",
     "text": [
      "The following reactions are missing: ['EX_btoh_e', 'EX_acetone_e']\n"
     ]
    },
    {
     "data": {
      "text/plain": [
       "False"
      ]
     },
     "execution_count": 5,
     "metadata": {},
     "output_type": "execute_result"
    }
   ],
   "source": [
    "mv.reactions_exist(nj4, production_reactions)"
   ]
  },
  {
   "cell_type": "code",
   "execution_count": 6,
   "metadata": {},
   "outputs": [],
   "source": [
    "existing_production_reactions = [\n",
    "    'EX_etoh_e', # ethanol exchange\n",
    "    'EX_ac_e', # acetate exchange\n",
    "    'EX_but_e', # butyrate exchange\n",
    "]"
   ]
  },
  {
   "cell_type": "code",
   "execution_count": 7,
   "metadata": {},
   "outputs": [
    {
     "data": {
      "text/plain": [
       "['EX_ac_e', 'EX_but_e']"
      ]
     },
     "execution_count": 7,
     "metadata": {},
     "output_type": "execute_result"
    }
   ],
   "source": [
    "mv.check_blocked_reactions(nj4, existing_production_reactions)"
   ]
  },
  {
   "cell_type": "code",
   "execution_count": 8,
   "metadata": {},
   "outputs": [
    {
     "data": {
      "text/html": [
       "<div>\n",
       "<style scoped>\n",
       "    .dataframe tbody tr th:only-of-type {\n",
       "        vertical-align: middle;\n",
       "    }\n",
       "\n",
       "    .dataframe tbody tr th {\n",
       "        vertical-align: top;\n",
       "    }\n",
       "\n",
       "    .dataframe thead th {\n",
       "        text-align: right;\n",
       "    }\n",
       "</style>\n",
       "<table border=\"1\" class=\"dataframe\">\n",
       "  <thead>\n",
       "    <tr style=\"text-align: right;\">\n",
       "      <th></th>\n",
       "      <th>minimum</th>\n",
       "      <th>maximum</th>\n",
       "    </tr>\n",
       "  </thead>\n",
       "  <tbody>\n",
       "    <tr>\n",
       "      <th>EX_etoh_e</th>\n",
       "      <td>15.445155</td>\n",
       "      <td>15.844752</td>\n",
       "    </tr>\n",
       "    <tr>\n",
       "      <th>EX_ac_e</th>\n",
       "      <td>0.000000</td>\n",
       "      <td>0.000000</td>\n",
       "    </tr>\n",
       "    <tr>\n",
       "      <th>EX_but_e</th>\n",
       "      <td>0.000000</td>\n",
       "      <td>0.000000</td>\n",
       "    </tr>\n",
       "  </tbody>\n",
       "</table>\n",
       "</div>"
      ],
      "text/plain": [
       "             minimum    maximum\n",
       "EX_etoh_e  15.445155  15.844752\n",
       "EX_ac_e     0.000000   0.000000\n",
       "EX_but_e    0.000000   0.000000"
      ]
     },
     "execution_count": 8,
     "metadata": {},
     "output_type": "execute_result"
    }
   ],
   "source": [
    "mv.check_production(nj4, existing_production_reactions)"
   ]
  },
  {
   "cell_type": "markdown",
   "metadata": {},
   "source": [
    "The out-of-the-box carveme model:\n",
    "- can grow on the medium\n",
    "- does not contain the exhange reactions for butanol or acetone\n",
    "- does not contain acetone or butyrate production in its solution space (blocked reactions)\n",
    "- needs to produce ethanol at optimal growth"
   ]
  },
  {
   "cell_type": "markdown",
   "metadata": {},
   "source": [
    "## Troubleshooting the carveme generated model \n",
    "\n",
    "The metabolites and reactions in the ABE fermentation pathway has been identified (see personal notes) with BiGG identifiers.\n",
    "Will begin by checking which are / are not present in the model:"
   ]
  },
  {
   "cell_type": "code",
   "execution_count": 9,
   "metadata": {},
   "outputs": [
    {
     "name": "stdout",
     "output_type": "stream",
     "text": [
      "acetone not in model\n"
     ]
    }
   ],
   "source": [
    "metabolites = ['btoh', '1btol', 'btal', 'btcoa', 'butpi', 'but', 'acetone', 'acac', 'aacoa', 'b2coa', '3hbcoa', 'accoa', 'pyr']\n",
    "\n",
    "for metabolite in metabolites:\n",
    "    try:\n",
    "        nj4.metabolites.get_by_id(str(metabolite+\"_c\"))\n",
    "    except KeyError:\n",
    "        print(metabolite, \"not in model\")"
   ]
  },
  {
   "cell_type": "code",
   "execution_count": 16,
   "metadata": {},
   "outputs": [
    {
     "name": "stdout",
     "output_type": "stream",
     "text": [
      "EX_btoh_e not in model\n",
      "EX_acetone_e not in model\n"
     ]
    }
   ],
   "source": [
    "for reaction in production_reactions:\n",
    "    try:\n",
    "        nj4.reactions.get_by_id(reaction)\n",
    "    except KeyError:\n",
    "        print(reaction, \"not in model\")"
   ]
  },
  {
   "cell_type": "code",
   "execution_count": 19,
   "metadata": {},
   "outputs": [
    {
     "name": "stdout",
     "output_type": "stream",
     "text": [
      "btoh_e not in model\n"
     ]
    }
   ],
   "source": [
    "metabolite = \"btoh\"\n",
    "\n",
    "try:\n",
    "    nj4.metabolites.get_by_id(str(metabolite+\"_e\"))\n",
    "except KeyError:\n",
    "    print(str(metabolite+\"_e\"), \"not in model\")"
   ]
  },
  {
   "cell_type": "markdown",
   "metadata": {},
   "source": [
    "- all the (intracellular) metabolites required for the correct behaviour is present in the model appart from acetone. will focus on fixing this pathway first\n",
    "- extracellular butanol and butanol exchange is missing, even though intracellular butanol is present. need to add butanol transport and exhange reactions"
   ]
  },
  {
   "cell_type": "markdown",
   "metadata": {},
   "source": [
    "### identifying missing reactions\n",
    "\n",
    "use the universal model to find *candidates* for reactions that connect 2 metabolites"
   ]
  },
  {
   "cell_type": "code",
   "execution_count": 16,
   "metadata": {},
   "outputs": [
    {
     "name": "stderr",
     "output_type": "stream",
     "text": [
      "No objective coefficients in model. Unclear what should be optimized\n"
     ]
    }
   ],
   "source": [
    "from config import ROOT_DIR\n",
    "\n",
    "universal_model = read_sbml_model(str(ROOT_DIR / \"community_modelling\" / \"GEMs\" / \"bigg_universe.xml\"))"
   ]
  },
  {
   "cell_type": "code",
   "execution_count": 11,
   "metadata": {},
   "outputs": [],
   "source": [
    "def find_reaction_connections(universal_model, A, B):\n",
    "    \"\"\"Find the reaction(s) that connect metabolite A and B in the universal model.\"\"\"\n",
    "    rx_A = universal_model.metabolites.get_by_id(A).reactions\n",
    "    rx_B = universal_model.metabolites.get_by_id(B).reactions\n",
    "\n",
    "    # get list of elements in both r1 and r2\n",
    "    common = list(set(rx_A).intersection(rx_B))\n",
    "    return [r.id for r in common]"
   ]
  },
  {
   "cell_type": "code",
   "execution_count": 13,
   "metadata": {},
   "outputs": [
    {
     "data": {
      "text/plain": [
       "['ACEt', 'ACETONEt2']"
      ]
     },
     "execution_count": 13,
     "metadata": {},
     "output_type": "execute_result"
    }
   ],
   "source": [
    "find_reaction_connections(universal_model, \"acetone_e\", \"acetone_c\")"
   ]
  },
  {
   "cell_type": "code",
   "execution_count": 12,
   "metadata": {},
   "outputs": [
    {
     "data": {
      "text/plain": [
       "['ADCi']"
      ]
     },
     "execution_count": 12,
     "metadata": {},
     "output_type": "execute_result"
    }
   ],
   "source": [
    "find_reaction_connections(universal_model, \"acac_c\", \"acetone_c\")"
   ]
  },
  {
   "cell_type": "code",
   "execution_count": 20,
   "metadata": {},
   "outputs": [
    {
     "data": {
      "text/plain": [
       "['BTOHt']"
      ]
     },
     "execution_count": 20,
     "metadata": {},
     "output_type": "execute_result"
    }
   ],
   "source": [
    "find_reaction_connections(universal_model, \"btoh_e\", \"btoh_c\")"
   ]
  },
  {
   "cell_type": "code",
   "execution_count": 17,
   "metadata": {},
   "outputs": [
    {
     "name": "stderr",
     "output_type": "stream",
     "text": [
      "Could not identify an external compartment by name and choosing one with the most boundary reactions. That might be complete nonsense or change suddenly. Consider renaming your compartments using `Model.compartments` to fix this.\n",
      "Could not identify an external compartment by name and choosing one with the most boundary reactions. That might be complete nonsense or change suddenly. Consider renaming your compartments using `Model.compartments` to fix this.\n"
     ]
    }
   ],
   "source": [
    "# butabol transport reaction\n",
    "BTOHt = universal_model.reactions.get_by_id('BTOHt')\n",
    "\n",
    "# acetoacetate -> acetone + CO2\n",
    "ADCi = universal_model.reactions.get_by_id(\"ADCi\")\n",
    "\n",
    "# acetone transport reaction\n",
    "ACEt = universal_model.reactions.get_by_id(\"ACEt\")\n",
    "\n",
    "# acetoacetyl-CoA + butyrate -> acetoacetate + butanoyl-CoA\n",
    "nj4.reactions.get_by_id(\"BUTCT2\").bounds = (-1000, 1000) # make this reaction reversible like god intended\n",
    "\n",
    "nj4.add_reactions([BTOHt, ADCi, ACEt])\n",
    "nj4.add_boundary(nj4.metabolites.get_by_id('btoh_e'), type='exchange', reaction_id='EX_btoh_e', lb=0, ub=1000);\n",
    "nj4.add_boundary(nj4.metabolites.get_by_id('acetone_e'), type='exchange', reaction_id='EX_acetone_e', lb=0, ub=1000);"
   ]
  },
  {
   "cell_type": "code",
   "execution_count": 18,
   "metadata": {},
   "outputs": [
    {
     "data": {
      "text/plain": [
       "['EX_ac_e', 'EX_but_e']"
      ]
     },
     "execution_count": 18,
     "metadata": {},
     "output_type": "execute_result"
    }
   ],
   "source": [
    "mv.check_blocked_reactions(nj4, production_reactions)"
   ]
  },
  {
   "cell_type": "markdown",
   "metadata": {},
   "source": [
    "the production of acetate and butyrate is still blocked - use the cobrapy gapfill function to identify possible solutions:"
   ]
  },
  {
   "cell_type": "code",
   "execution_count": 28,
   "metadata": {},
   "outputs": [],
   "source": [
    "from cobra.flux_analysis import gapfill\n",
    "\n",
    "def find_gapfilling_reactions(model, universal_model, reaction):\n",
    "    \"\"\"Using cobrapy gapfill function, find reactions from the universal model that when added will unblock reaction.\"\"\"\n",
    "    \n",
    "    with model:\n",
    "        model.objective = model.reactions.get_by_id(reaction)\n",
    "        gapfilling_reactions = gapfill(model, universal_model)\n",
    "        \n",
    "    return [r.id for r in gapfilling_reactions[0]]"
   ]
  },
  {
   "cell_type": "code",
   "execution_count": 34,
   "metadata": {},
   "outputs": [
    {
     "data": {
      "text/plain": [
       "['ACt5pp']"
      ]
     },
     "execution_count": 34,
     "metadata": {},
     "output_type": "execute_result"
    }
   ],
   "source": [
    "find_gapfilling_reactions(nj4, universal_model, \"EX_ac_e\")"
   ]
  },
  {
   "cell_type": "code",
   "execution_count": 36,
   "metadata": {},
   "outputs": [
    {
     "name": "stdout",
     "output_type": "stream",
     "text": [
      "['BUTt2rpp']\n"
     ]
    }
   ],
   "source": [
    "find_gapfilling_reactions(nj4, universal_model, \"EX_but_e\")"
   ]
  },
  {
   "cell_type": "markdown",
   "metadata": {},
   "source": [
    "add in transport reactions between extracellular and cytosolic butyrate and acetate"
   ]
  },
  {
   "cell_type": "code",
   "execution_count": 19,
   "metadata": {},
   "outputs": [],
   "source": [
    "# butyrate transport reaction\n",
    "BUTt = universal_model.reactions.get_by_id('BUTt')\n",
    "\n",
    "# acetate transport reaction\n",
    "ACtr = universal_model.reactions.get_by_id(\"ACtr\")\n",
    "\n",
    "nj4.add_reactions([BUTt, ACtr])"
   ]
  },
  {
   "cell_type": "code",
   "execution_count": 20,
   "metadata": {},
   "outputs": [],
   "source": [
    "assert mv.growth_possible(nj4)\n",
    "assert not mv.energy_generation_cycle(nj4)\n",
    "assert not mv.check_blocked_reactions(nj4, production_reactions)"
   ]
  },
  {
   "cell_type": "markdown",
   "metadata": {},
   "source": [
    "Now no reactions are blocked - all tests are passed and the first stage of model testing and troubleshooting is completed. \n",
    "Script to run curation and save model as NJ4_curated is located in utils folder."
   ]
  },
  {
   "cell_type": "code",
   "execution_count": 21,
   "metadata": {},
   "outputs": [],
   "source": [
    "from cobra.io import write_sbml_model\n",
    "\n",
    "write_sbml_model(nj4, \"GEMs/NJ4_curated.xml\")"
   ]
  },
  {
   "cell_type": "markdown",
   "metadata": {},
   "source": [
    "## Further testing of model\n",
    "\n",
    "next up: look into how the model behaves"
   ]
  },
  {
   "cell_type": "code",
   "execution_count": 22,
   "metadata": {},
   "outputs": [],
   "source": [
    "from cobra.io import read_sbml_model\n",
    "from utils import model_validation as mv\n",
    "\n",
    "nj4 = read_sbml_model('GEMs/NJ4_curated.xml')\n",
    "\n",
    "production_reactions = [\n",
    "    'EX_btoh_e', # butanol exhange\n",
    "    'EX_etoh_e', # ethanol exchange\n",
    "    'EX_ac_e', # acetate exchange\n",
    "    'EX_but_e', # butyrate exchange\n",
    "    'EX_acetone_e', # acetone exchange\n",
    "]"
   ]
  },
  {
   "cell_type": "code",
   "execution_count": 27,
   "metadata": {},
   "outputs": [
    {
     "data": {
      "text/html": [
       "<div>\n",
       "<style scoped>\n",
       "    .dataframe tbody tr th:only-of-type {\n",
       "        vertical-align: middle;\n",
       "    }\n",
       "\n",
       "    .dataframe tbody tr th {\n",
       "        vertical-align: top;\n",
       "    }\n",
       "\n",
       "    .dataframe thead th {\n",
       "        text-align: right;\n",
       "    }\n",
       "</style>\n",
       "<table border=\"1\" class=\"dataframe\">\n",
       "  <thead>\n",
       "    <tr style=\"text-align: right;\">\n",
       "      <th></th>\n",
       "      <th>minimum</th>\n",
       "      <th>maximum</th>\n",
       "    </tr>\n",
       "  </thead>\n",
       "  <tbody>\n",
       "    <tr>\n",
       "      <th>EX_btoh_e</th>\n",
       "      <td>0.0</td>\n",
       "      <td>11.153371</td>\n",
       "    </tr>\n",
       "    <tr>\n",
       "      <th>EX_etoh_e</th>\n",
       "      <td>0.0</td>\n",
       "      <td>22.306742</td>\n",
       "    </tr>\n",
       "    <tr>\n",
       "      <th>EX_ac_e</th>\n",
       "      <td>0.0</td>\n",
       "      <td>4.746594</td>\n",
       "    </tr>\n",
       "    <tr>\n",
       "      <th>EX_but_e</th>\n",
       "      <td>0.0</td>\n",
       "      <td>4.746594</td>\n",
       "    </tr>\n",
       "    <tr>\n",
       "      <th>EX_acetone_e</th>\n",
       "      <td>0.0</td>\n",
       "      <td>2.373297</td>\n",
       "    </tr>\n",
       "  </tbody>\n",
       "</table>\n",
       "</div>"
      ],
      "text/plain": [
       "              minimum    maximum\n",
       "EX_btoh_e         0.0  11.153371\n",
       "EX_etoh_e         0.0  22.306742\n",
       "EX_ac_e           0.0   4.746594\n",
       "EX_but_e          0.0   4.746594\n",
       "EX_acetone_e      0.0   2.373297"
      ]
     },
     "execution_count": 27,
     "metadata": {},
     "output_type": "execute_result"
    }
   ],
   "source": [
    "mv.check_production(nj4, production_reactions, fraction_of_optimum=1)"
   ]
  },
  {
   "cell_type": "markdown",
   "metadata": {},
   "source": [
    "- it is expected that there cannot be consumption of any of these substances since there is none available in the medium"
   ]
  },
  {
   "cell_type": "code",
   "execution_count": 28,
   "metadata": {},
   "outputs": [
    {
     "name": "stdout",
     "output_type": "stream",
     "text": [
      "              minimum    maximum\n",
      "EX_btoh_e         0.0  16.153371\n",
      "EX_etoh_e         0.0  22.306768\n",
      "EX_ac_e         -10.0  14.746594\n",
      "EX_but_e        -10.0  14.746594\n",
      "EX_acetone_e      0.0   2.998985\n"
     ]
    }
   ],
   "source": [
    "with nj4:\n",
    "    nj4.reactions.EX_but_e.lower_bound = -10\n",
    "    nj4.reactions.EX_ac_e.lower_bound = -10\n",
    "    print(mv.check_production(nj4, production_reactions, fraction_of_optimum=1))"
   ]
  },
  {
   "cell_type": "markdown",
   "metadata": {},
   "source": [
    "- if we add butyrate and acetate to the medium, they can be used as substrate (like they are during solventogenesis) and max possible butanol and acetone increases"
   ]
  },
  {
   "cell_type": "code",
   "execution_count": 23,
   "metadata": {},
   "outputs": [
    {
     "name": "stdout",
     "output_type": "stream",
     "text": [
      "adhE1 : not in model\n",
      "adhE2 : ['BTS', 'BTCOARx', 'CHOLD3', 'BTS_nadph', 'ACALD', 'ALCD4', 'ALCD19', 'ALCD2x', 'IBHH', 'ALCD19y', 'BNOCA']\n",
      "ctfA : ['BUTCT', 'ACACCT', 'HXCT', 'BUTCT2']\n",
      "ctfB : ['BUTCT', 'ACACCT', 'BUTCT2']\n"
     ]
    }
   ],
   "source": [
    "genes = {'adhE1':'WP_010890846_1', 'adhE2':'WP_010890720_1', 'ctfA': 'WP_010890847_1', 'ctfB': 'WP_010890848_1'}\n",
    "\n",
    "for gene, protein in genes.items():\n",
    "    try:\n",
    "        gpr = nj4.genes.get_by_id(protein)\n",
    "        print(gene, \":\", [r.id for r in gpr.reactions])\n",
    "    except KeyError:\n",
    "        print(gene, \": not in model\")"
   ]
  },
  {
   "cell_type": "markdown",
   "metadata": {},
   "source": [
    "shadow prices and reduced costs:"
   ]
  },
  {
   "cell_type": "code",
   "execution_count": 46,
   "metadata": {},
   "outputs": [
    {
     "name": "stdout",
     "output_type": "stream",
     "text": [
      "xyl__D_e   -1.515152\n",
      "but_e      -0.363636\n",
      "ac_e        0.000000\n",
      "Name: shadow_prices, dtype: float64\n"
     ]
    }
   ],
   "source": [
    "substrates = [\"xyl__D_e\", \"but_e\", \"ac_e\"]\n",
    "\n",
    "with nj4:\n",
    "    nj4.objective = \"EX_btoh_e\"\n",
    "    sol = nj4.optimize()\n",
    "    print(sol.shadow_prices[substrates])"
   ]
  },
  {
   "cell_type": "markdown",
   "metadata": {},
   "source": [
    "- when butanol is objective, the negative shadow price for butyrate suggests that butyrate presence would increase butanol production"
   ]
  },
  {
   "cell_type": "code",
   "execution_count": 53,
   "metadata": {},
   "outputs": [
    {
     "data": {
      "text/html": [
       "<div>\n",
       "<style scoped>\n",
       "    .dataframe tbody tr th:only-of-type {\n",
       "        vertical-align: middle;\n",
       "    }\n",
       "\n",
       "    .dataframe tbody tr th {\n",
       "        vertical-align: top;\n",
       "    }\n",
       "\n",
       "    .dataframe thead th {\n",
       "        text-align: right;\n",
       "    }\n",
       "</style>\n",
       "<table border=\"1\" class=\"dataframe\">\n",
       "  <thead>\n",
       "    <tr style=\"text-align: right;\">\n",
       "      <th></th>\n",
       "      <th>fluxes</th>\n",
       "      <th>reduced_costs</th>\n",
       "    </tr>\n",
       "  </thead>\n",
       "  <tbody>\n",
       "    <tr>\n",
       "      <th>CPPPGO</th>\n",
       "      <td>0.0</td>\n",
       "      <td>-2.356315</td>\n",
       "    </tr>\n",
       "    <tr>\n",
       "      <th>H2SO</th>\n",
       "      <td>0.0</td>\n",
       "      <td>-2.235043</td>\n",
       "    </tr>\n",
       "    <tr>\n",
       "      <th>EX_bz_e</th>\n",
       "      <td>0.0</td>\n",
       "      <td>-1.178724</td>\n",
       "    </tr>\n",
       "    <tr>\n",
       "      <th>EX_o2_e</th>\n",
       "      <td>0.0</td>\n",
       "      <td>-1.117521</td>\n",
       "    </tr>\n",
       "    <tr>\n",
       "      <th>HIBHr</th>\n",
       "      <td>0.0</td>\n",
       "      <td>-0.606363</td>\n",
       "    </tr>\n",
       "    <tr>\n",
       "      <th>...</th>\n",
       "      <td>...</td>\n",
       "      <td>...</td>\n",
       "    </tr>\n",
       "    <tr>\n",
       "      <th>CLt3_2pp</th>\n",
       "      <td>0.0</td>\n",
       "      <td>0.020401</td>\n",
       "    </tr>\n",
       "    <tr>\n",
       "      <th>ACt2ipp</th>\n",
       "      <td>0.0</td>\n",
       "      <td>0.020401</td>\n",
       "    </tr>\n",
       "    <tr>\n",
       "      <th>GTHRDt2</th>\n",
       "      <td>0.0</td>\n",
       "      <td>0.027201</td>\n",
       "    </tr>\n",
       "    <tr>\n",
       "      <th>MALt3r</th>\n",
       "      <td>0.0</td>\n",
       "      <td>0.040802</td>\n",
       "    </tr>\n",
       "    <tr>\n",
       "      <th>SPMDt3i</th>\n",
       "      <td>0.0</td>\n",
       "      <td>0.047602</td>\n",
       "    </tr>\n",
       "  </tbody>\n",
       "</table>\n",
       "<p>636 rows × 2 columns</p>\n",
       "</div>"
      ],
      "text/plain": [
       "          fluxes  reduced_costs\n",
       "CPPPGO       0.0      -2.356315\n",
       "H2SO         0.0      -2.235043\n",
       "EX_bz_e      0.0      -1.178724\n",
       "EX_o2_e      0.0      -1.117521\n",
       "HIBHr        0.0      -0.606363\n",
       "...          ...            ...\n",
       "CLt3_2pp     0.0       0.020401\n",
       "ACt2ipp      0.0       0.020401\n",
       "GTHRDt2      0.0       0.027201\n",
       "MALt3r       0.0       0.040802\n",
       "SPMDt3i      0.0       0.047602\n",
       "\n",
       "[636 rows x 2 columns]"
      ]
     },
     "execution_count": 53,
     "metadata": {},
     "output_type": "execute_result"
    }
   ],
   "source": [
    "sol = nj4.optimize()\n",
    "sol_frame = sol.to_frame()\n",
    "sol_frame[sol_frame[\"reduced_costs\"] != 0].sort_values(by=\"reduced_costs\")"
   ]
  },
  {
   "cell_type": "code",
   "execution_count": null,
   "metadata": {},
   "outputs": [],
   "source": []
  }
 ],
 "metadata": {
  "kernelspec": {
   "display_name": "venv",
   "language": "python",
   "name": "python3"
  },
  "language_info": {
   "codemirror_mode": {
    "name": "ipython",
    "version": 3
   },
   "file_extension": ".py",
   "mimetype": "text/x-python",
   "name": "python",
   "nbconvert_exporter": "python",
   "pygments_lexer": "ipython3",
   "version": "3.10.7"
  }
 },
 "nbformat": 4,
 "nbformat_minor": 2
}
