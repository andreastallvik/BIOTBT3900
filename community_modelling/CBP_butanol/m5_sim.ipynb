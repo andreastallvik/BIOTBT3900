{
 "cells": [
  {
   "cell_type": "markdown",
   "metadata": {},
   "source": [
    "# Simulations for M5 single-strain model"
   ]
  },
  {
   "cell_type": "code",
   "execution_count": 3,
   "metadata": {},
   "outputs": [],
   "source": [
    "from cobra.io import read_sbml_model\n",
    "\n",
    "m5 = read_sbml_model(\"GEMs/M5_curated.xml\")"
   ]
  },
  {
   "cell_type": "markdown",
   "metadata": {},
   "source": [
    "## Static sim."
   ]
  },
  {
   "cell_type": "code",
   "execution_count": 14,
   "metadata": {},
   "outputs": [],
   "source": [
    "from utils import static_sim"
   ]
  },
  {
   "cell_type": "code",
   "execution_count": 15,
   "metadata": {},
   "outputs": [
    {
     "name": "stderr",
     "output_type": "stream",
     "text": [
      "Could not identify an external compartment by name and choosing one with the most boundary reactions. That might be complete nonsense or change suddenly. Consider renaming your compartments using `Model.compartments` to fix this.\n"
     ]
    }
   ],
   "source": [
    "medium = static_sim.get_specific_medium(m5, {\"EX_xylan4_e\": 10, \"EX_xylan8_e\": 10,})"
   ]
  },
  {
   "cell_type": "code",
   "execution_count": 17,
   "metadata": {},
   "outputs": [
    {
     "name": "stderr",
     "output_type": "stream",
     "text": [
      "Could not identify an external compartment by name and choosing one with the most boundary reactions. That might be complete nonsense or change suddenly. Consider renaming your compartments using `Model.compartments` to fix this.\n"
     ]
    }
   ],
   "source": [
    "sol_df = static_sim.get_productions(m5, medium, reactions = [\"EX_but_e\", \"EX_ac_e\", \"EX_etoh_e\", \"EX_btoh_e\"])"
   ]
  },
  {
   "cell_type": "code",
   "execution_count": 18,
   "metadata": {},
   "outputs": [
    {
     "data": {
      "image/png": "[encoded data removed]",
      "text/plain": [
       "<Figure size 640x480 with 1 Axes>"
      ]
     },
     "metadata": {},
     "output_type": "display_data"
    }
   ],
   "source": [
    "static_sim.plot_production_stats(sol_df)"
   ]
  },
  {
   "cell_type": "code",
   "execution_count": 19,
   "metadata": {},
   "outputs": [
    {
     "name": "stderr",
     "output_type": "stream",
     "text": [
      "Could not identify an external compartment by name and choosing one with the most boundary reactions. That might be complete nonsense or change suddenly. Consider renaming your compartments using `Model.compartments` to fix this.\n"
     ]
    }
   ],
   "source": [
    "from cobra.flux_analysis import pfba\n",
    "\n",
    "with m5:\n",
    "    m5.medium = medium\n",
    "    summary = m5.summary()\n",
    "    pfba_solution = pfba(m5)"
   ]
  },
  {
   "cell_type": "code",
   "execution_count": 7,
   "metadata": {},
   "outputs": [
    {
     "data": {
      "text/html": [
       "<h3>Objective</h3><p>1.0 Growth = 0.18258339991287736</p><h4>Uptake</h4><table border=\"1\" class=\"dataframe\">\n",
       "  <thead>\n",
       "    <tr style=\"text-align: right;\">\n",
       "      <th>Metabolite</th>\n",
       "      <th>Reaction</th>\n",
       "      <th>Flux</th>\n",
       "      <th>C-Number</th>\n",
       "      <th>C-Flux</th>\n",
       "    </tr>\n",
       "  </thead>\n",
       "  <tbody>\n",
       "    <tr>\n",
       "      <td>ala__L_e</td>\n",
       "      <td>EX_ala__L_e</td>\n",
       "      <td>0.1</td>\n",
       "      <td>3</td>\n",
       "      <td>0.61%</td>\n",
       "    </tr>\n",
       "    <tr>\n",
       "      <td>arg__L_e</td>\n",
       "      <td>EX_arg__L_e</td>\n",
       "      <td>0.1</td>\n",
       "      <td>6</td>\n",
       "      <td>1.22%</td>\n",
       "    </tr>\n",
       "    <tr>\n",
       "      <td>asp__L_e</td>\n",
       "      <td>EX_asp__L_e</td>\n",
       "      <td>0.1</td>\n",
       "      <td>4</td>\n",
       "      <td>0.82%</td>\n",
       "    </tr>\n",
       "    <tr>\n",
       "      <td>ca2_e</td>\n",
       "      <td>EX_ca2_e</td>\n",
       "      <td>0.0009503</td>\n",
       "      <td>0</td>\n",
       "      <td>0.00%</td>\n",
       "    </tr>\n",
       "    <tr>\n",
       "      <td>cl_e</td>\n",
       "      <td>EX_cl_e</td>\n",
       "      <td>0.0009503</td>\n",
       "      <td>0</td>\n",
       "      <td>0.00%</td>\n",
       "    </tr>\n",
       "    <tr>\n",
       "      <td>cobalt2_e</td>\n",
       "      <td>EX_cobalt2_e</td>\n",
       "      <td>1.826E-05</td>\n",
       "      <td>0</td>\n",
       "      <td>0.00%</td>\n",
       "    </tr>\n",
       "    <tr>\n",
       "      <td>cu2_e</td>\n",
       "      <td>EX_cu2_e</td>\n",
       "      <td>0.0001295</td>\n",
       "      <td>0</td>\n",
       "      <td>0.00%</td>\n",
       "    </tr>\n",
       "    <tr>\n",
       "      <td>cys__L_e</td>\n",
       "      <td>EX_cys__L_e</td>\n",
       "      <td>0.01683</td>\n",
       "      <td>3</td>\n",
       "      <td>0.10%</td>\n",
       "    </tr>\n",
       "    <tr>\n",
       "      <td>dcyt_e</td>\n",
       "      <td>EX_dcyt_e</td>\n",
       "      <td>0.1</td>\n",
       "      <td>9</td>\n",
       "      <td>1.83%</td>\n",
       "    </tr>\n",
       "    <tr>\n",
       "      <td>fe2_e</td>\n",
       "      <td>EX_fe2_e</td>\n",
       "      <td>0.001226</td>\n",
       "      <td>0</td>\n",
       "      <td>0.00%</td>\n",
       "    </tr>\n",
       "    <tr>\n",
       "      <td>fe3_e</td>\n",
       "      <td>EX_fe3_e</td>\n",
       "      <td>0.001426</td>\n",
       "      <td>0</td>\n",
       "      <td>0.00%</td>\n",
       "    </tr>\n",
       "    <tr>\n",
       "      <td>fol_e</td>\n",
       "      <td>EX_fol_e</td>\n",
       "      <td>0.0001221</td>\n",
       "      <td>19</td>\n",
       "      <td>0.00%</td>\n",
       "    </tr>\n",
       "    <tr>\n",
       "      <td>glu__L_e</td>\n",
       "      <td>EX_glu__L_e</td>\n",
       "      <td>0.1</td>\n",
       "      <td>5</td>\n",
       "      <td>1.02%</td>\n",
       "    </tr>\n",
       "    <tr>\n",
       "      <td>h_e</td>\n",
       "      <td>EX_h_e</td>\n",
       "      <td>0.1</td>\n",
       "      <td>0</td>\n",
       "      <td>0.00%</td>\n",
       "    </tr>\n",
       "    <tr>\n",
       "      <td>his__L_e</td>\n",
       "      <td>EX_his__L_e</td>\n",
       "      <td>0.0173</td>\n",
       "      <td>6</td>\n",
       "      <td>0.21%</td>\n",
       "    </tr>\n",
       "    <tr>\n",
       "      <td>hxan_e</td>\n",
       "      <td>EX_hxan_e</td>\n",
       "      <td>0.08151</td>\n",
       "      <td>5</td>\n",
       "      <td>0.83%</td>\n",
       "    </tr>\n",
       "    <tr>\n",
       "      <td>ile__L_e</td>\n",
       "      <td>EX_ile__L_e</td>\n",
       "      <td>0.1</td>\n",
       "      <td>6</td>\n",
       "      <td>1.22%</td>\n",
       "    </tr>\n",
       "    <tr>\n",
       "      <td>k_e</td>\n",
       "      <td>EX_k_e</td>\n",
       "      <td>0.03564</td>\n",
       "      <td>0</td>\n",
       "      <td>0.00%</td>\n",
       "    </tr>\n",
       "    <tr>\n",
       "      <td>lys__L_e</td>\n",
       "      <td>EX_lys__L_e</td>\n",
       "      <td>0.06266</td>\n",
       "      <td>6</td>\n",
       "      <td>0.77%</td>\n",
       "    </tr>\n",
       "    <tr>\n",
       "      <td>met__L_e</td>\n",
       "      <td>EX_met__L_e</td>\n",
       "      <td>0.0281</td>\n",
       "      <td>5</td>\n",
       "      <td>0.29%</td>\n",
       "    </tr>\n",
       "    <tr>\n",
       "      <td>mg2_e</td>\n",
       "      <td>EX_mg2_e</td>\n",
       "      <td>0.001584</td>\n",
       "      <td>0</td>\n",
       "      <td>0.00%</td>\n",
       "    </tr>\n",
       "    <tr>\n",
       "      <td>mn2_e</td>\n",
       "      <td>EX_mn2_e</td>\n",
       "      <td>0.0001262</td>\n",
       "      <td>0</td>\n",
       "      <td>0.00%</td>\n",
       "    </tr>\n",
       "    <tr>\n",
       "      <td>nh4_e</td>\n",
       "      <td>EX_nh4_e</td>\n",
       "      <td>0.1</td>\n",
       "      <td>0</td>\n",
       "      <td>0.00%</td>\n",
       "    </tr>\n",
       "    <tr>\n",
       "      <td>phe__L_e</td>\n",
       "      <td>EX_phe__L_e</td>\n",
       "      <td>0.03383</td>\n",
       "      <td>9</td>\n",
       "      <td>0.62%</td>\n",
       "    </tr>\n",
       "    <tr>\n",
       "      <td>pi_e</td>\n",
       "      <td>EX_pi_e</td>\n",
       "      <td>0.18</td>\n",
       "      <td>0</td>\n",
       "      <td>0.00%</td>\n",
       "    </tr>\n",
       "    <tr>\n",
       "      <td>ribflv_e</td>\n",
       "      <td>EX_ribflv_e</td>\n",
       "      <td>8.143E-05</td>\n",
       "      <td>17</td>\n",
       "      <td>0.00%</td>\n",
       "    </tr>\n",
       "    <tr>\n",
       "      <td>ser__L_e</td>\n",
       "      <td>EX_ser__L_e</td>\n",
       "      <td>0.1</td>\n",
       "      <td>3</td>\n",
       "      <td>0.61%</td>\n",
       "    </tr>\n",
       "    <tr>\n",
       "      <td>so4_e</td>\n",
       "      <td>EX_so4_e</td>\n",
       "      <td>0.000792</td>\n",
       "      <td>0</td>\n",
       "      <td>0.00%</td>\n",
       "    </tr>\n",
       "    <tr>\n",
       "      <td>thm_e</td>\n",
       "      <td>EX_thm_e</td>\n",
       "      <td>4.072E-05</td>\n",
       "      <td>12</td>\n",
       "      <td>0.00%</td>\n",
       "    </tr>\n",
       "    <tr>\n",
       "      <td>thr__L_e</td>\n",
       "      <td>EX_thr__L_e</td>\n",
       "      <td>0.1</td>\n",
       "      <td>4</td>\n",
       "      <td>0.82%</td>\n",
       "    </tr>\n",
       "    <tr>\n",
       "      <td>trp__L_e</td>\n",
       "      <td>EX_trp__L_e</td>\n",
       "      <td>0.01038</td>\n",
       "      <td>11</td>\n",
       "      <td>0.23%</td>\n",
       "    </tr>\n",
       "    <tr>\n",
       "      <td>tyr__L_e</td>\n",
       "      <td>EX_tyr__L_e</td>\n",
       "      <td>0.02518</td>\n",
       "      <td>9</td>\n",
       "      <td>0.46%</td>\n",
       "    </tr>\n",
       "    <tr>\n",
       "      <td>val__L_e</td>\n",
       "      <td>EX_val__L_e</td>\n",
       "      <td>0.1</td>\n",
       "      <td>5</td>\n",
       "      <td>1.02%</td>\n",
       "    </tr>\n",
       "    <tr>\n",
       "      <td>xylan8_e</td>\n",
       "      <td>EX_xylan8_e</td>\n",
       "      <td>0.8235</td>\n",
       "      <td>52</td>\n",
       "      <td>87.30%</td>\n",
       "    </tr>\n",
       "    <tr>\n",
       "      <td>zn2_e</td>\n",
       "      <td>EX_zn2_e</td>\n",
       "      <td>6.226E-05</td>\n",
       "      <td>0</td>\n",
       "      <td>0.00%</td>\n",
       "    </tr>\n",
       "  </tbody>\n",
       "</table><h4>Secretion</h4><table border=\"1\" class=\"dataframe\">\n",
       "  <thead>\n",
       "    <tr style=\"text-align: right;\">\n",
       "      <th>Metabolite</th>\n",
       "      <th>Reaction</th>\n",
       "      <th>Flux</th>\n",
       "      <th>C-Number</th>\n",
       "      <th>C-Flux</th>\n",
       "    </tr>\n",
       "  </thead>\n",
       "  <tbody>\n",
       "    <tr>\n",
       "      <td>4abutn_e</td>\n",
       "      <td>EX_4abutn_e</td>\n",
       "      <td>-0.005632</td>\n",
       "      <td>4</td>\n",
       "      <td>0.05%</td>\n",
       "    </tr>\n",
       "    <tr>\n",
       "      <td>btoh_e</td>\n",
       "      <td>EX_btoh_e</td>\n",
       "      <td>-4.96</td>\n",
       "      <td>4</td>\n",
       "      <td>48.08%</td>\n",
       "    </tr>\n",
       "    <tr>\n",
       "      <td>but_e</td>\n",
       "      <td>EX_but_e</td>\n",
       "      <td>-1.716</td>\n",
       "      <td>4</td>\n",
       "      <td>16.64%</td>\n",
       "    </tr>\n",
       "    <tr>\n",
       "      <td>co2_e</td>\n",
       "      <td>EX_co2_e</td>\n",
       "      <td>-13.87</td>\n",
       "      <td>1</td>\n",
       "      <td>33.62%</td>\n",
       "    </tr>\n",
       "    <tr>\n",
       "      <td>etoh_e</td>\n",
       "      <td>EX_etoh_e</td>\n",
       "      <td>-0.1072</td>\n",
       "      <td>2</td>\n",
       "      <td>0.52%</td>\n",
       "    </tr>\n",
       "    <tr>\n",
       "      <td>fald_e</td>\n",
       "      <td>EX_fald_e</td>\n",
       "      <td>-0.05319</td>\n",
       "      <td>1</td>\n",
       "      <td>0.13%</td>\n",
       "    </tr>\n",
       "    <tr>\n",
       "      <td>h2o_e</td>\n",
       "      <td>EX_h2o_e</td>\n",
       "      <td>-1.591</td>\n",
       "      <td>0</td>\n",
       "      <td>0.00%</td>\n",
       "    </tr>\n",
       "    <tr>\n",
       "      <td>ibtol_e</td>\n",
       "      <td>EX_ibtol_e</td>\n",
       "      <td>-0.04695</td>\n",
       "      <td>5</td>\n",
       "      <td>0.57%</td>\n",
       "    </tr>\n",
       "    <tr>\n",
       "      <td>ura_e</td>\n",
       "      <td>EX_ura_e</td>\n",
       "      <td>-0.0396</td>\n",
       "      <td>4</td>\n",
       "      <td>0.38%</td>\n",
       "    </tr>\n",
       "  </tbody>\n",
       "</table>"
      ],
      "text/plain": [
       "<cobra.summary.model_summary.ModelSummary at 0x13089cdc0>"
      ]
     },
     "execution_count": 7,
     "metadata": {},
     "output_type": "execute_result"
    }
   ],
   "source": [
    "summary"
   ]
  },
  {
   "cell_type": "code",
   "execution_count": 20,
   "metadata": {},
   "outputs": [],
   "source": [
    "import escher\n",
    "from escher import Builder\n",
    "\n",
    "builder = Builder(map_json='new_map.json', model=m5, height=600)"
   ]
  },
  {
   "cell_type": "code",
   "execution_count": 21,
   "metadata": {},
   "outputs": [],
   "source": [
    "builder.reaction_data = pfba_solution.fluxes"
   ]
  },
  {
   "cell_type": "code",
   "execution_count": 22,
   "metadata": {},
   "outputs": [
    {
     "data": {
      "application/vnd.jupyter.widget-view+json": {
       "model_id": "beddf51c4d9e47ac90e8fff9e42a54a9",
       "version_major": 2,
       "version_minor": 0
      },
      "text/plain": [
       "Builder(height=600, reaction_data={'12DGR120tipp': 0.0, '12DGR140tipp': 0.0, '12DGR141tipp': 0.0, '12DGR160tip…"
      ]
     },
     "metadata": {},
     "output_type": "display_data"
    }
   ],
   "source": [
    "builder"
   ]
  },
  {
   "cell_type": "code",
   "execution_count": 12,
   "metadata": {},
   "outputs": [
    {
     "data": {
      "text/html": [
       "<h3>btcoa_c</h3><p>C25H38N7O17P3S</p><h4>Producing Reactions</h4><table border=\"1\" class=\"dataframe\">\n",
       "  <thead>\n",
       "    <tr style=\"text-align: right;\">\n",
       "      <th>Percent</th>\n",
       "      <th>Flux</th>\n",
       "      <th>Reaction</th>\n",
       "      <th>Definition</th>\n",
       "    </tr>\n",
       "  </thead>\n",
       "  <tbody>\n",
       "    <tr>\n",
       "      <td>100.00%</td>\n",
       "      <td>125.8</td>\n",
       "      <td>IBTMr</td>\n",
       "      <td>btcoa_c &lt;=&gt; ibcoa_c</td>\n",
       "    </tr>\n",
       "  </tbody>\n",
       "</table><h4>Consuming Reactions</h4><table border=\"1\" class=\"dataframe\">\n",
       "  <thead>\n",
       "    <tr style=\"text-align: right;\">\n",
       "      <th>Percent</th>\n",
       "      <th>Flux</th>\n",
       "      <th>Reaction</th>\n",
       "      <th>Definition</th>\n",
       "    </tr>\n",
       "  </thead>\n",
       "  <tbody>\n",
       "    <tr>\n",
       "      <td>62.86%</td>\n",
       "      <td>-79.1</td>\n",
       "      <td>BTCOARx</td>\n",
       "      <td>btcoa_c + h_c + nadh_c --&gt; btal_c + coa_c + nad_c</td>\n",
       "    </tr>\n",
       "    <tr>\n",
       "      <td>37.14%</td>\n",
       "      <td>-46.73</td>\n",
       "      <td>BUTCT</td>\n",
       "      <td>accoa_c + but_c &lt;=&gt; ac_c + btcoa_c</td>\n",
       "    </tr>\n",
       "  </tbody>\n",
       "</table>"
      ],
      "text/plain": [
       "<cobra.summary.metabolite_summary.MetaboliteSummary at 0x1312b34c0>"
      ]
     },
     "execution_count": 12,
     "metadata": {},
     "output_type": "execute_result"
    }
   ],
   "source": [
    "m5.metabolites.btcoa_c.summary()"
   ]
  },
  {
   "cell_type": "markdown",
   "metadata": {},
   "source": [
    "## Dynamic sim."
   ]
  },
  {
   "cell_type": "code",
   "execution_count": 1,
   "metadata": {},
   "outputs": [],
   "source": [
    "import pandas as pd\n",
    "\n",
    "media_db = pd.read_csv(\"medium.tsv\", sep=\"\\t\")\n",
    "\n",
    "m5_med = media_db[media_db[\"medium\"] == \"m5_med\"]\n",
    "\n",
    "UNLIMITED_METABOLITES = ['ca2_e', 'cl_e', 'cobalt2_e', 'cu2_e', 'fe2_e', 'fe3_e','h_e', 'k_e', 'h2o_e', 'mg2_e', \n",
    "                    'mn2_e', 'mobd_e', 'na1_e', 'nh4_e', 'ni2_e', 'pi_e', 'so4_e', 'zn2_e']\n",
    "\n",
    "medium = [str(m+\"_e\") for m in m5_med[\"compound\"].tolist()]\n",
    "added_metabilotes = set(medium) - set(UNLIMITED_METABOLITES)\n",
    "added_metabilotes = {k:0.5 for k in added_metabilotes}\n",
    "\n",
    "# TODO: calculate xylan (60 g/L concentration) to an amount of moles that makes sense\n",
    "added_metabilotes[\"xylan4_e\"] = 10\n",
    "added_metabilotes[\"xylan8_e\"] = 10"
   ]
  },
  {
   "cell_type": "code",
   "execution_count": 4,
   "metadata": {},
   "outputs": [
    {
     "name": "stdout",
     "output_type": "stream",
     "text": [
      "Warning: The added metabolite (na1_e) is not able to be taken up by any of the current models\n",
      "Warning: The added metabolite (ni2_e) is not able to be taken up by any of the current models\n",
      "Warning: The added metabolite (hg2_e) is not able to be taken up by any of the current models\n",
      "Warning: The added metabolite (amp_e) is not able to be taken up by any of the current models\n",
      "Warning: The added metabolite (thymd_e) is not able to be taken up by any of the current models\n",
      "Warning: The added metabolite (nac_e) is not able to be taken up by any of the current models\n",
      "Warning: The added metabolite (pydx_e) is not able to be taken up by any of the current models\n",
      "Warning: The added metabolite (cbl1_e) is not able to be taken up by any of the current models\n",
      "Warning: The added metabolite (dad_2_e) is not able to be taken up by any of the current models\n",
      "Warning: The added metabolite (cmp_e) is not able to be taken up by any of the current models\n",
      "Warning: The added metabolite (ump_e) is not able to be taken up by any of the current models\n",
      "Warning: The added metabolite (cro4_e) is not able to be taken up by any of the current models\n",
      "Warning: The added metabolite (ins_e) is not able to be taken up by any of the current models\n",
      "Warning: The added metabolite (adn_e) is not able to be taken up by any of the current models\n",
      "Warning: The added metabolite (gsn_e) is not able to be taken up by any of the current models\n",
      "Warning: The added metabolite (uri_e) is not able to be taken up by any of the current models\n",
      "Warning: The added metabolite (cd2_e) is not able to be taken up by any of the current models\n",
      "Warning: The added metabolite (xylan12_e) is not able to be taken up by any of the current models\n",
      "Warning: The added metabolite (pnto__R_e) is not able to be taken up by any of the current models\n",
      "Warning: The added metabolite (gmp_e) is not able to be taken up by any of the current models\n",
      "\n",
      "Running COMETS simulation ...\n",
      "Done!\n"
     ]
    }
   ],
   "source": [
    "from utils.comets_functions import single_strain\n",
    "\n",
    "sim = single_strain(model=m5, medium=added_metabilotes, sim_time=40)"
   ]
  },
  {
   "cell_type": "code",
   "execution_count": 6,
   "metadata": {},
   "outputs": [
    {
     "data": {
      "image/png": "[encoded data removed]",
      "text/plain": [
       "<Figure size 640x480 with 1 Axes>"
      ]
     },
     "metadata": {},
     "output_type": "display_data"
    }
   ],
   "source": [
    "import seaborn as sns\n",
    "from utils.comets_functions import plot_metabolites, plot_biomass, plot_reaction_flux\n",
    "\n",
    "metabolites = [\"xyl__D_e\", \"etoh_e\", \"but_e\", \"btoh_e\", \"ac_e\"] #, \"xylan4_e\"]\n",
    "\n",
    "plot_metabolites(sim, metabolites)"
   ]
  },
  {
   "cell_type": "code",
   "execution_count": 7,
   "metadata": {},
   "outputs": [
    {
     "data": {
      "image/png": "[encoded data removed]",
      "text/plain": [
       "<Figure size 640x480 with 1 Axes>"
      ]
     },
     "metadata": {},
     "output_type": "display_data"
    }
   ],
   "source": [
    "production_reactions = [\"EX_etoh_e\", \"EX_but_e\", \"EX_btoh_e\", \"EX_ac_e\"]\n",
    "\n",
    "plot_reaction_flux(sim, production_reactions, \"M5\")"
   ]
  },
  {
   "cell_type": "code",
   "execution_count": 8,
   "metadata": {},
   "outputs": [
    {
     "data": {
      "image/png": "[encoded data removed]",
      "text/plain": [
       "<Figure size 640x480 with 1 Axes>"
      ]
     },
     "metadata": {},
     "output_type": "display_data"
    }
   ],
   "source": [
    "plot_biomass(sim)"
   ]
  },
  {
   "cell_type": "code",
   "execution_count": null,
   "metadata": {},
   "outputs": [],
   "source": []
  }
 ],
 "metadata": {
  "kernelspec": {
   "display_name": "venv",
   "language": "python",
   "name": "python3"
  },
  "language_info": {
   "codemirror_mode": {
    "name": "ipython",
    "version": 3
   },
   "file_extension": ".py",
   "mimetype": "text/x-python",
   "name": "python",
   "nbconvert_exporter": "python",
   "pygments_lexer": "ipython3",
   "version": "3.10.7"
  }
 },
 "nbformat": 4,
 "nbformat_minor": 2
}
