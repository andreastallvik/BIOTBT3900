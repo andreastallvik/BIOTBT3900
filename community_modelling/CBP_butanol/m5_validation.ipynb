{
 "cells": [
  {
   "cell_type": "markdown",
   "metadata": {},
   "source": [
    "Models were automatically reconstructed from NCBI RefSeq accession codes with carveme.\n",
    "\n",
    "For M5:\n",
    "\n",
    "```\n",
    "carve --refseq GCF_002238085.1 --gapfill m5_med -i m5_med --mediadb medium.tsv -o GEMs/M5.xml \n",
    "```"
   ]
  },
  {
   "cell_type": "code",
   "execution_count": 69,
   "metadata": {},
   "outputs": [],
   "source": [
    "from cobra.io import read_sbml_model\n",
    "from utils import model_validation as mv\n",
    "\n",
    "m5 = read_sbml_model('GEMs/M5.xml')"
   ]
  },
  {
   "cell_type": "markdown",
   "metadata": {},
   "source": [
    "# Gapfilling\n",
    "\n",
    "The model was gapfilled to grow on the specified medium. This was done during the construction process so that genomic evidence could be taken into account during the process.\n",
    "Comparison of the non-gapfilled and the gapfilled models will follow."
   ]
  },
  {
   "cell_type": "code",
   "execution_count": 27,
   "metadata": {},
   "outputs": [
    {
     "name": "stdout",
     "output_type": "stream",
     "text": [
      "before gapfilling there were 1812 reactions\n",
      "after before gapfilling there were 1815 reactions\n",
      "the added reactions are:\n",
      "['2S6HCCi', 'SUCBZL_1', 'SUCBZS']\n"
     ]
    }
   ],
   "source": [
    "m5_original = read_sbml_model(\"GEMs/M5_nogapfill.xml\")\n",
    "\n",
    "print('before gapfilling there were', len(m5_original.reactions), 'reactions')\n",
    "print('after before gapfilling there were', len(m5.reactions), 'reactions')\n",
    "# get all reactions that are present in the gapfilled but not the original model\n",
    "print('the added reactions are:')\n",
    "print([r.id for r in m5.reactions if r not in m5_original.reactions])"
   ]
  },
  {
   "cell_type": "markdown",
   "metadata": {},
   "source": [
    "# Testing the model:\n",
    "\n",
    "A sanity-check on the model and its capabilities should include:\n",
    "\n",
    "1. check whether growth is possible on the medium,  \n",
    "use ```growth_possible```.\n",
    "\n",
    "1. check for energy-gerating cycles,  \n",
    "use ```energy_generation_cycle```\n",
    "\n",
    "1. check whether the exhange reactions exist in the model,  \n",
    "use ```reactions_exist```.\n",
    "\n",
    "2. check whether the exhange reactions are blocked,  \n",
    "use ```check_blocked_reactions```.\n",
    "\n",
    "2. check whether the exhange reactions can carry flux at optimal solution (FVA),  \n",
    "use ```check_production```."
   ]
  },
  {
   "cell_type": "code",
   "execution_count": 2,
   "metadata": {},
   "outputs": [
    {
     "data": {
      "text/plain": [
       "True"
      ]
     },
     "execution_count": 2,
     "metadata": {},
     "output_type": "execute_result"
    }
   ],
   "source": [
    "mv.growth_possible(m5)"
   ]
  },
  {
   "cell_type": "code",
   "execution_count": 3,
   "metadata": {},
   "outputs": [
    {
     "data": {
      "text/plain": [
       "False"
      ]
     },
     "execution_count": 3,
     "metadata": {},
     "output_type": "execute_result"
    }
   ],
   "source": [
    "mv.energy_generation_cycle(m5)"
   ]
  },
  {
   "cell_type": "code",
   "execution_count": 6,
   "metadata": {},
   "outputs": [],
   "source": [
    "uptake_reactions = [\n",
    "    'EX_xyl__D_e', # xylose exchange\n",
    "]\n",
    "\n",
    "production_reactions = [\n",
    "    'EX_btoh_e', # butanol exhange\n",
    "    'EX_etoh_e', # ethanol exchange\n",
    "    'EX_ac_e', # acetate exchange\n",
    "    'EX_but_e', # butyrate exchange\n",
    "    #'EX_acetone_e', # acetone exchange\n",
    "]"
   ]
  },
  {
   "cell_type": "code",
   "execution_count": 8,
   "metadata": {},
   "outputs": [
    {
     "name": "stdout",
     "output_type": "stream",
     "text": [
      "True\n",
      "The following reactions are missing: ['EX_btoh_e', 'EX_acetone_e']\n",
      "False\n"
     ]
    }
   ],
   "source": [
    "print(mv.reactions_exist(m5, uptake_reactions))\n",
    "print(mv.reactions_exist(m5, production_reactions))"
   ]
  },
  {
   "cell_type": "code",
   "execution_count": 10,
   "metadata": {},
   "outputs": [
    {
     "data": {
      "text/plain": [
       "['EX_etoh_e', 'EX_ac_e', 'EX_but_e']"
      ]
     },
     "execution_count": 10,
     "metadata": {},
     "output_type": "execute_result"
    }
   ],
   "source": [
    "existing_production_reactions = [\n",
    "    'EX_etoh_e', # ethanol exchange\n",
    "    'EX_ac_e', # acetate exchange\n",
    "    'EX_but_e', # butyrate exchange\n",
    "]\n",
    "\n",
    "mv.check_blocked_reactions(m5, existing_production_reactions)"
   ]
  },
  {
   "cell_type": "code",
   "execution_count": 14,
   "metadata": {},
   "outputs": [
    {
     "data": {
      "text/html": [
       "<h3>xylan8_e</h3><p>C52H80O45</p><h4>Producing Reactions</h4><table border=\"1\" class=\"dataframe\">\n",
       "  <thead>\n",
       "    <tr style=\"text-align: right;\">\n",
       "      <th>Percent</th>\n",
       "      <th>Flux</th>\n",
       "      <th>Reaction</th>\n",
       "      <th>Definition</th>\n",
       "    </tr>\n",
       "  </thead>\n",
       "  <tbody>\n",
       "    <tr>\n",
       "      <td>100.00%</td>\n",
       "      <td>9.128</td>\n",
       "      <td>EX_xylan8_e</td>\n",
       "      <td>xylan8_e &lt;=&gt;</td>\n",
       "    </tr>\n",
       "  </tbody>\n",
       "</table><h4>Consuming Reactions</h4><table border=\"1\" class=\"dataframe\">\n",
       "  <thead>\n",
       "    <tr style=\"text-align: right;\">\n",
       "      <th>Percent</th>\n",
       "      <th>Flux</th>\n",
       "      <th>Reaction</th>\n",
       "      <th>Definition</th>\n",
       "    </tr>\n",
       "  </thead>\n",
       "  <tbody>\n",
       "    <tr>\n",
       "      <td>100.00%</td>\n",
       "      <td>-9.128</td>\n",
       "      <td>XYLe</td>\n",
       "      <td>h2o_e + xylan8_e --&gt; 2.0 xylan4_e</td>\n",
       "    </tr>\n",
       "  </tbody>\n",
       "</table>"
      ],
      "text/plain": [
       "<cobra.summary.metabolite_summary.MetaboliteSummary at 0x12b6f5e10>"
      ]
     },
     "execution_count": 14,
     "metadata": {},
     "output_type": "execute_result"
    }
   ],
   "source": [
    "m5.metabolites.xylan8_e.summary()"
   ]
  },
  {
   "cell_type": "markdown",
   "metadata": {},
   "source": [
    "The out-of-the-box carveme model:\n",
    "1. can grow on the medium\n",
    "1. does use xylan as carbon-source (however it seems like xylan8 -> xylan4 is happening extracellularly, and xylan4 -> xylose conversion is happening intracellularly)\n",
    "1. does not contain the exhange reactions for butanol or acetone\n",
    "1. does not contain acetone, butyrate, or ethanol production in its solution space"
   ]
  },
  {
   "cell_type": "markdown",
   "metadata": {},
   "source": [
    "# Troubleshooting"
   ]
  },
  {
   "cell_type": "code",
   "execution_count": 3,
   "metadata": {},
   "outputs": [
    {
     "name": "stderr",
     "output_type": "stream",
     "text": [
      "No objective coefficients in model. Unclear what should be optimized\n"
     ]
    }
   ],
   "source": [
    "from config import ROOT_DIR\n",
    "\n",
    "universal_model = read_sbml_model(str(ROOT_DIR / \"community_modelling\" / \"GEMs\" / \"bigg_universe.xml\"))"
   ]
  },
  {
   "cell_type": "markdown",
   "metadata": {},
   "source": [
    "xylan degredation"
   ]
  },
  {
   "cell_type": "code",
   "execution_count": 19,
   "metadata": {},
   "outputs": [],
   "source": [
    "def find_rx_from_genes(model, genes):\n",
    "\n",
    "    for gene, protein in genes.items():\n",
    "        try:\n",
    "            gpr = model.genes.get_by_id(protein)\n",
    "            print(gene, \":\", [r.id for r in gpr.reactions])\n",
    "        except KeyError:\n",
    "            print(gene, \": not in model\")"
   ]
  },
  {
   "cell_type": "code",
   "execution_count": 22,
   "metadata": {},
   "outputs": [
    {
     "name": "stdout",
     "output_type": "stream",
     "text": [
      "xylanase 1 : ['XYLe']\n",
      "xylanase 2 : ['XYLe']\n",
      "xylosidase : not in model\n"
     ]
    }
   ],
   "source": [
    "genes = {'xylanase 1':'WP_237268773_1', \n",
    "         'xylanase 2':'WP_094043097_1', \n",
    "         'xylosidase': 'WP_094043089_1'}\n",
    "\n",
    "find_rx_from_genes(m5, genes)"
   ]
  },
  {
   "cell_type": "code",
   "execution_count": 70,
   "metadata": {},
   "outputs": [],
   "source": [
    "import cobra\n",
    "\n",
    "# xyl4_e metabolite\n",
    "xyl4_e = cobra.Metabolite(\n",
    "    'xyl4_e',\n",
    "    formula='C20H34O17',\n",
    "    name='Xylotetraose',\n",
    "    compartment='C_e')\n",
    "\n",
    "# xyl_e <-> xyl_c transport rx\n",
    "xyl4_transport = cobra.Reaction('xyl4_transport')\n",
    "xyl4_transport.add_metabolites({\n",
    "    m5.metabolites.get_by_id(\"xyl4_c\"): -1.0,\n",
    "    xyl4_e: 1.0\n",
    "})\n",
    "\n",
    "# glcur_e <-> glcur_c transport rx\n",
    "glcur_transport = cobra.Reaction('glcur_transport')\n",
    "glcur_transport.add_metabolites({\n",
    "    m5.metabolites.get_by_id(\"glcur_c\"): -1.0,\n",
    "    m5.metabolites.get_by_id(\"glcur_e\"): -1.0,\n",
    "})\n",
    "\n",
    "# GLCURS1 rx, extracellular edition\n",
    "GLCURS1_e = cobra.Reaction('GLCURS1_e')\n",
    "GLCURS1_e.add_metabolites({\n",
    "    m5.metabolites.get_by_id(\"h2o_e\"): -1.0,\n",
    "    m5.metabolites.get_by_id(\"xylan4_e\"): -1.0,\n",
    "    m5.metabolites.get_by_id(\"glcur_e\"): 1.0,\n",
    "    xyl4_e: 1.0,\n",
    "})\n",
    "\n",
    "# XYLOS1 rx, extracellular edition\n",
    "XYLOS1_e = cobra.Reaction('XYLOS1_e')\n",
    "XYLOS1_e.add_metabolites({\n",
    "    m5.metabolites.get_by_id(\"h2o_e\"): -3.0,\n",
    "    xyl4_e: -1.0,\n",
    "    m5.metabolites.get_by_id(\"xyl__D_e\"): 4.0,\n",
    "})\n",
    "\n",
    "m5.add_reactions([xyl4_transport, glcur_transport, GLCURS1_e, XYLOS1_e])"
   ]
  },
  {
   "cell_type": "markdown",
   "metadata": {},
   "source": [
    "- now the model should be capable of producing extracellular xylose (veryfied by setting xylose as objective and solving an FBA problem)"
   ]
  },
  {
   "cell_type": "markdown",
   "metadata": {},
   "source": [
    "ABE pathway:"
   ]
  },
  {
   "cell_type": "code",
   "execution_count": 34,
   "metadata": {},
   "outputs": [
    {
     "name": "stdout",
     "output_type": "stream",
     "text": [
      "butpi not in model\n",
      "acetone not in model\n"
     ]
    }
   ],
   "source": [
    "metabolites = ['btoh', '1btol', 'btal', 'btcoa', 'butpi', 'but', 'acetone', 'acac', 'aacoa', 'b2coa', '3hbcoa', 'accoa', 'pyr']\n",
    "\n",
    "for metabolite in metabolites:\n",
    "    try:\n",
    "        m5.metabolites.get_by_id(str(metabolite+\"_c\"))\n",
    "    except KeyError:\n",
    "        print(metabolite, \"not in model\")"
   ]
  },
  {
   "cell_type": "code",
   "execution_count": 36,
   "metadata": {},
   "outputs": [
    {
     "name": "stdout",
     "output_type": "stream",
     "text": [
      "PBUTT not in model\n",
      "BUTKr not in model\n",
      "EX_acetone_e not in model\n",
      "EX_btoh_e not in model\n"
     ]
    }
   ],
   "source": [
    "reactions = ['HBCO_nadp','ACOAD1f', 'BTCOARx', 'ALCD4', 'BTS', 'PBUTT', 'BUTKr', 'BUTCT', 'BUTCT','EX_acetone_e', 'EX_but_e', 'EX_btoh_e']\n",
    "\n",
    "for reaction in reactions:\n",
    "    try:\n",
    "        m5.reactions.get_by_id(reaction)\n",
    "    except KeyError:\n",
    "        print(reaction, \"not in model\")"
   ]
  },
  {
   "cell_type": "markdown",
   "metadata": {},
   "source": [
    "- modifications are in a sepparate python script in utils/m5_modifications.py"
   ]
  },
  {
   "cell_type": "code",
   "execution_count": 7,
   "metadata": {},
   "outputs": [],
   "source": [
    "from cobra.io import read_sbml_model\n",
    "from utils import model_validation as mv\n",
    "\n",
    "m5 = read_sbml_model('GEMs/M5_curated.xml')"
   ]
  },
  {
   "cell_type": "code",
   "execution_count": 8,
   "metadata": {},
   "outputs": [],
   "source": [
    "assert mv.growth_possible(m5)\n",
    "assert not mv.energy_generation_cycle(m5)\n",
    "assert not mv.check_blocked_reactions(m5, production_reactions)"
   ]
  },
  {
   "cell_type": "code",
   "execution_count": null,
   "metadata": {},
   "outputs": [],
   "source": []
  }
 ],
 "metadata": {
  "kernelspec": {
   "display_name": "venv",
   "language": "python",
   "name": "python3"
  },
  "language_info": {
   "codemirror_mode": {
    "name": "ipython",
    "version": 3
   },
   "file_extension": ".py",
   "mimetype": "text/x-python",
   "name": "python",
   "nbconvert_exporter": "python",
   "pygments_lexer": "ipython3",
   "version": "3.10.7"
  }
 },
 "nbformat": 4,
 "nbformat_minor": 2
}
