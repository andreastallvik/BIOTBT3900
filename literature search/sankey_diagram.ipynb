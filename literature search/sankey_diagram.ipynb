{
 "cells": [
  {
   "cell_type": "code",
   "execution_count": 12,
   "metadata": {},
   "outputs": [],
   "source": [
    "import pandas as pd\n",
    "import plotly.graph_objects as go\n",
    "\n",
    "df = pd.read_csv(\"defined_articles.csv\")"
   ]
  },
  {
   "cell_type": "code",
   "execution_count": 31,
   "metadata": {},
   "outputs": [],
   "source": [
    "import plotly.express as px\n",
    "import random\n",
    "\n",
    "def pick_colour(name):\n",
    "   color_wheel = 'grey'\n",
    "   #color_wheel = random.choice(px.colors.qualitative.Pastel)\n",
    "   color_wheel = px.colors.qualitative.Alphabet[8]\n",
    "   #if name == \"Clostridium\":\n",
    "    #   color_wheel = px.colors.qualitative.Pastel[6]\n",
    "   if name == \"Escherichia\":\n",
    "       color_wheel = px.colors.qualitative.Pastel[1]\n",
    "   #else:\n",
    "   #   color_wheel = random.choice(px.colors.qualitative.Pastel)\n",
    "   return color_wheel"
   ]
  },
  {
   "cell_type": "code",
   "execution_count": 153,
   "metadata": {},
   "outputs": [],
   "source": [
    "#creating a new dataframe to use in building the sankey chart\n",
    "\n",
    "#create an empty dataframe\n",
    "sankey_data = pd.DataFrame({'Source': [],\n",
    "                   'Target': [],\n",
    "                   'Value': [],\n",
    "                   'Color': []})\n",
    "\n",
    "organism_colouring = dict()\n",
    "colour_counter = 0\n",
    "\n",
    "#iterate over the rows of the dataframe\n",
    "for index, row in df.iterrows():\n",
    "\n",
    "    #get lists of substrates, products, and organisms\n",
    "    substrates = row[\"Substrate\"].split(\", \")\n",
    "    organisms = row[\"Organisms\"].split(\", \")\n",
    "    products = row[\"Product\"].split(\", \")\n",
    "\n",
    "    #adds colour to each organism using the pick_colour function\n",
    "    for organism in organisms:\n",
    "        if organism not in organism_colouring:\n",
    "            organism_colouring[organism] = pick_colour(organism)\n",
    "\n",
    "    #add links from each substrate to each organism\n",
    "    for substrate in substrates:\n",
    "        for organism in organisms:\n",
    "            sankey_data.loc[len(sankey_data.index)] = [substrate, organism, 1, organism_colouring[organism]]\n",
    "\n",
    "    #add links from each organism to each substrate\n",
    "    for organism in organisms:\n",
    "        for product in products:\n",
    "            sankey_data.loc[len(sankey_data.index)] = [organism, product, 1, organism_colouring[organism]]"
   ]
  },
  {
   "cell_type": "code",
   "execution_count": 154,
   "metadata": {},
   "outputs": [],
   "source": [
    "#needed modification for building the plot\n",
    "\n",
    "#get each unique source_target and a mapping to their index\n",
    "#unique_source_target = list(pd.unique(sankey_data[['Source', 'Target']].values.ravel('K')))\n",
    "unique_source_target = list(pd.unique(sankey_data[['Source', 'Target', 'Color']].values.ravel('K')))\n",
    "mapping_dict = {k: v for v, k in enumerate(unique_source_target)}\n",
    "sankey_data['Source'] = sankey_data['Source'].map(mapping_dict)\n",
    "sankey_data['Target'] = sankey_data['Target'].map(mapping_dict)\n",
    "sankey_dict = sankey_data.to_dict(orient='list')\n",
    "\n",
    "#setting colours for the nodes\n",
    "node_colours = [organism_colouring.get(i, \"grey\") for i in unique_source_target]"
   ]
  },
  {
   "cell_type": "code",
   "execution_count": 155,
   "metadata": {},
   "outputs": [
    {
     "data": {
      "application/vnd.plotly.v1+json": {
       "config": {
        "plotlyServerURL": "https://plot.ly"
       },
       "data": [
        {
         "link": {
          "color": [
           "#FF6692",
           "#FF6692",
           "#FF6692",
           "#00CC96",
           "#FF6692",
           "#00CC96",
           "#FF6692",
           "#FF6692",
           "#FF97FF",
           "#FF97FF",
           "#FF97FF",
           "#FFA15A",
           "#FF97FF",
           "#FFA15A",
           "#FF97FF",
           "#636EFA",
           "#B6E880",
           "#636EFA",
           "#B6E880",
           "#AB63FA",
           "#FF97FF",
           "#B6E880",
           "#AB63FA",
           "#FF97FF",
           "#B6E880",
           "#FF6692",
           "#FF6692",
           "#FF6692",
           "#FF6692",
           "#636EFA",
           "#B6E880",
           "#B6E880",
           "#636EFA",
           "#636EFA",
           "#B6E880",
           "#B6E880",
           "#B6E880",
           "#B6E880",
           "#FFA15A",
           "#FF6692",
           "#FFA15A",
           "#FF6692",
           "#FFA15A",
           "#FF6692",
           "#636EFA",
           "#00CC96",
           "#636EFA",
           "#00CC96",
           "#FF97FF",
           "#00CC96",
           "#FF97FF",
           "#FF97FF",
           "#00CC96",
           "#00CC96",
           "#AB63FA",
           "#AB63FA",
           "#AB63FA",
           "#AB63FA",
           "#FFA15A",
           "#00CC96",
           "#FFA15A",
           "#FFA15A",
           "#00CC96",
           "#00CC96",
           "#FECB52",
           "#B6E880",
           "#19D3F3",
           "#FECB52",
           "#B6E880",
           "#19D3F3",
           "#FFA15A",
           "#AB63FA",
           "#FFA15A",
           "#AB63FA",
           "#FFA15A",
           "#AB63FA",
           "#EF553B",
           "#636EFA",
           "#636EFA",
           "#19D3F3",
           "#EF553B",
           "#636EFA",
           "#636EFA",
           "#19D3F3",
           "#636EFA",
           "#FFA15A",
           "#636EFA",
           "#FFA15A",
           "#FFA15A",
           "#FF97FF",
           "#FFA15A",
           "#FF97FF",
           "#636EFA",
           "#FF97FF",
           "#636EFA",
           "#FF97FF",
           "#B6E880",
           "#B6E880",
           "#B6E880",
           "#B6E880",
           "#FECB52",
           "#19D3F3",
           "#FF97FF",
           "#FECB52",
           "#FECB52",
           "#19D3F3",
           "#19D3F3",
           "#FF97FF",
           "#FF97FF",
           "#EF553B",
           "#FF6692",
           "#EF553B",
           "#FF6692",
           "#FF6692",
           "#FF97FF",
           "#FF6692",
           "#FF97FF",
           "#FECB52",
           "#FF97FF",
           "#FECB52",
           "#FF97FF",
           "#B6E880",
           "#19D3F3",
           "#B6E880",
           "#19D3F3",
           "#B6E880",
           "#19D3F3",
           "#B6E880",
           "#19D3F3",
           "#FF6692",
           "#FF6692",
           "#FF6692",
           "#FF6692",
           "#FF6692",
           "#FF6692",
           "#FF6692",
           "#FF6692",
           "#EF553B",
           "#FF6692",
           "#636EFA",
           "#FF97FF",
           "#EF553B",
           "#FF6692",
           "#636EFA",
           "#FF97FF",
           "#19D3F3",
           "#00CC96",
           "#19D3F3",
           "#00CC96",
           "#FF6692",
           "#FF6692",
           "#FF6692",
           "#FF6692",
           "#FF6692",
           "#FF6692",
           "#FF6692",
           "#FF6692",
           "#FF6692",
           "#636EFA",
           "#FF6692",
           "#636EFA",
           "#636EFA",
           "#FF6692",
           "#FF6692",
           "#FF6692",
           "#B6E880",
           "#19D3F3",
           "#FFA15A",
           "#FF6692",
           "#FF6692",
           "#B6E880",
           "#B6E880",
           "#19D3F3",
           "#19D3F3",
           "#FFA15A",
           "#FFA15A",
           "#FECB52",
           "#B6E880",
           "#FECB52",
           "#B6E880",
           "#00CC96",
           "#FECB52",
           "#00CC96",
           "#FECB52",
           "#FF97FF",
           "#FF6692",
           "#FF97FF",
           "#FF6692",
           "#FECB52",
           "#00CC96",
           "#B6E880",
           "#FECB52",
           "#00CC96",
           "#B6E880",
           "#FECB52",
           "#00CC96",
           "#B6E880",
           "#AB63FA",
           "#B6E880",
           "#AB63FA",
           "#B6E880",
           "#AB63FA",
           "#B6E880",
           "#B6E880",
           "#FF97FF",
           "#636EFA",
           "#B6E880",
           "#FF97FF",
           "#636EFA",
           "#B6E880",
           "#FF97FF",
           "#636EFA",
           "#FF6692",
           "#19D3F3",
           "#FF6692",
           "#19D3F3",
           "#FF6692",
           "#FF6692",
           "#FF6692",
           "#EF553B",
           "#FF6692",
           "#EF553B",
           "#FF6692",
           "#EF553B",
           "#19D3F3",
           "#FFA15A",
           "#19D3F3",
           "#FFA15A",
           "#FF6692",
           "#EF553B",
           "#636EFA",
           "#FF6692",
           "#EF553B",
           "#636EFA",
           "#19D3F3",
           "#B6E880",
           "#19D3F3",
           "#B6E880",
           "#EF553B",
           "#FF6692",
           "#EF553B",
           "#FF6692",
           "#FF6692",
           "#FF6692",
           "#EF553B",
           "#B6E880",
           "#EF553B",
           "#B6E880",
           "#FFA15A",
           "#636EFA",
           "#FFA15A",
           "#636EFA",
           "#FF6692",
           "#19D3F3",
           "#FF6692",
           "#19D3F3",
           "#19D3F3",
           "#636EFA",
           "#19D3F3",
           "#636EFA",
           "#FF6692",
           "#FF6692",
           "#FF6692",
           "#FF6692",
           "#FF6692",
           "#FF6692",
           "#FF6692",
           "#FF6692",
           "#FF97FF",
           "#FF6692",
           "#FF97FF",
           "#19D3F3",
           "#19D3F3",
           "#19D3F3",
           "#FF6692",
           "#00CC96",
           "#FF6692",
           "#00CC96",
           "#FF6692",
           "#AB63FA",
           "#FF6692",
           "#AB63FA",
           "#FF97FF",
           "#19D3F3",
           "#FF97FF",
           "#19D3F3",
           "#19D3F3",
           "#FF97FF",
           "#19D3F3",
           "#FF97FF",
           "#EF553B",
           "#FFA15A",
           "#EF553B",
           "#EF553B",
           "#FFA15A",
           "#EF553B",
           "#FF97FF",
           "#19D3F3",
           "#FF97FF",
           "#19D3F3",
           "#FF6692",
           "#FF6692"
          ],
          "source": [
           0,
           1,
           2,
           2,
           3,
           4,
           2,
           1,
           5,
           6,
           6,
           7,
           7,
           8,
           6,
           9,
           9,
           10,
           11,
           12,
           12,
           12,
           13,
           14,
           15,
           2,
           2,
           1,
           16,
           0,
           0,
           0,
           17,
           17,
           15,
           15,
           18,
           18,
           19,
           19,
           0,
           0,
           20,
           1,
           21,
           21,
           22,
           23,
           21,
           21,
           24,
           24,
           25,
           25,
           26,
           26,
           27,
           28,
           2,
           2,
           29,
           29,
           30,
           30,
           2,
           2,
           2,
           31,
           32,
           33,
           2,
           2,
           34,
           34,
           35,
           28,
           5,
           5,
           5,
           5,
           36,
           37,
           38,
           39,
           2,
           2,
           40,
           41,
           7,
           7,
           8,
           42,
           43,
           43,
           40,
           6,
           44,
           44,
           45,
           46,
           5,
           5,
           5,
           47,
           47,
           48,
           48,
           49,
           49,
           5,
           5,
           36,
           1,
           50,
           50,
           1,
           6,
           51,
           51,
           52,
           53,
           5,
           5,
           45,
           54,
           5,
           5,
           45,
           54,
           2,
           1,
           2,
           26,
           50,
           1,
           2,
           1,
           5,
           5,
           5,
           5,
           36,
           55,
           56,
           57,
           5,
           5,
           58,
           59,
           2,
           1,
           50,
           2,
           1,
           2,
           1,
           60,
           1,
           12,
           12,
           17,
           17,
           1,
           1,
           5,
           5,
           5,
           5,
           3,
           3,
           61,
           61,
           62,
           62,
           63,
           63,
           64,
           64,
           65,
           66,
           26,
           26,
           67,
           68,
           5,
           5,
           69,
           3,
           21,
           21,
           21,
           26,
           26,
           26,
           70,
           71,
           72,
           12,
           12,
           73,
           73,
           13,
           15,
           12,
           12,
           12,
           73,
           73,
           73,
           74,
           75,
           76,
           44,
           44,
           77,
           48,
           0,
           1,
           9,
           9,
           26,
           26,
           1,
           78,
           73,
           73,
           79,
           80,
           81,
           81,
           81,
           3,
           82,
           83,
           44,
           44,
           84,
           85,
           5,
           5,
           36,
           1,
           7,
           1,
           5,
           5,
           36,
           86,
           87,
           87,
           88,
           89,
           9,
           9,
           90,
           91,
           92,
           92,
           93,
           94,
           0,
           1,
           2,
           1,
           1,
           2,
           1,
           5,
           5,
           1,
           6,
           95,
           96,
           96,
           2,
           2,
           1,
           97,
           7,
           7,
           1,
           98,
           5,
           5,
           99,
           100,
           2,
           2,
           48,
           49,
           5,
           5,
           5,
           101,
           102,
           103,
           2,
           2,
           6,
           48,
           7,
           1
          ],
          "target": [
           1,
           104,
           3,
           4,
           105,
           105,
           1,
           106,
           6,
           107,
           108,
           8,
           6,
           109,
           109,
           10,
           11,
           110,
           110,
           13,
           14,
           15,
           111,
           111,
           111,
           1,
           16,
           112,
           112,
           17,
           15,
           18,
           113,
           114,
           113,
           114,
           113,
           114,
           20,
           1,
           20,
           1,
           115,
           115,
           22,
           23,
           116,
           116,
           24,
           25,
           117,
           118,
           117,
           118,
           27,
           28,
           119,
           119,
           29,
           30,
           120,
           121,
           120,
           121,
           31,
           32,
           33,
           122,
           122,
           122,
           35,
           28,
           35,
           28,
           119,
           119,
           36,
           37,
           38,
           39,
           123,
           123,
           123,
           123,
           40,
           41,
           120,
           120,
           8,
           42,
           124,
           124,
           40,
           6,
           125,
           125,
           45,
           46,
           126,
           126,
           47,
           48,
           49,
           127,
           128,
           127,
           128,
           127,
           128,
           36,
           1,
           128,
           128,
           1,
           6,
           129,
           129,
           52,
           53,
           130,
           130,
           45,
           54,
           128,
           128,
           45,
           54,
           128,
           128,
           1,
           131,
           1,
           1,
           1,
           132,
           1,
           133,
           36,
           55,
           56,
           57,
           134,
           134,
           134,
           134,
           58,
           59,
           135,
           135,
           1,
           136,
           1,
           1,
           137,
           1,
           138,
           1,
           104,
           17,
           1,
           139,
           140,
           139,
           140,
           3,
           61,
           62,
           63,
           111,
           128,
           111,
           128,
           111,
           128,
           111,
           128,
           65,
           66,
           127,
           127,
           67,
           68,
           141,
           141,
           69,
           3,
           128,
           128,
           70,
           71,
           72,
           70,
           71,
           72,
           142,
           142,
           142,
           13,
           15,
           13,
           15,
           143,
           143,
           74,
           75,
           76,
           74,
           75,
           76,
           144,
           144,
           144,
           77,
           48,
           127,
           127,
           1,
           145,
           1,
           78,
           1,
           78,
           146,
           146,
           79,
           80,
           147,
           147,
           3,
           82,
           83,
           127,
           127,
           127,
           84,
           85,
           127,
           127,
           36,
           1,
           128,
           128,
           1,
           148,
           36,
           86,
           149,
           149,
           88,
           89,
           127,
           127,
           90,
           91,
           127,
           127,
           93,
           94,
           135,
           135,
           1,
           150,
           1,
           151,
           152,
           1,
           150,
           1,
           6,
           126,
           126,
           96,
           153,
           154,
           1,
           97,
           127,
           127,
           1,
           98,
           155,
           155,
           99,
           100,
           135,
           135,
           48,
           49,
           128,
           128,
           101,
           102,
           103,
           126,
           126,
           126,
           6,
           48,
           128,
           128,
           1,
           156
          ],
          "value": [
           1,
           1,
           1,
           1,
           1,
           1,
           1,
           1,
           1,
           1,
           1,
           1,
           1,
           1,
           1,
           1,
           1,
           1,
           1,
           1,
           1,
           1,
           1,
           1,
           1,
           1,
           1,
           1,
           1,
           1,
           1,
           1,
           1,
           1,
           1,
           1,
           1,
           1,
           1,
           1,
           1,
           1,
           1,
           1,
           1,
           1,
           1,
           1,
           1,
           1,
           1,
           1,
           1,
           1,
           1,
           1,
           1,
           1,
           1,
           1,
           1,
           1,
           1,
           1,
           1,
           1,
           1,
           1,
           1,
           1,
           1,
           1,
           1,
           1,
           1,
           1,
           1,
           1,
           1,
           1,
           1,
           1,
           1,
           1,
           1,
           1,
           1,
           1,
           1,
           1,
           1,
           1,
           1,
           1,
           1,
           1,
           1,
           1,
           1,
           1,
           1,
           1,
           1,
           1,
           1,
           1,
           1,
           1,
           1,
           1,
           1,
           1,
           1,
           1,
           1,
           1,
           1,
           1,
           1,
           1,
           1,
           1,
           1,
           1,
           1,
           1,
           1,
           1,
           1,
           1,
           1,
           1,
           1,
           1,
           1,
           1,
           1,
           1,
           1,
           1,
           1,
           1,
           1,
           1,
           1,
           1,
           1,
           1,
           1,
           1,
           1,
           1,
           1,
           1,
           1,
           1,
           1,
           1,
           1,
           1,
           1,
           1,
           1,
           1,
           1,
           1,
           1,
           1,
           1,
           1,
           1,
           1,
           1,
           1,
           1,
           1,
           1,
           1,
           1,
           1,
           1,
           1,
           1,
           1,
           1,
           1,
           1,
           1,
           1,
           1,
           1,
           1,
           1,
           1,
           1,
           1,
           1,
           1,
           1,
           1,
           1,
           1,
           1,
           1,
           1,
           1,
           1,
           1,
           1,
           1,
           1,
           1,
           1,
           1,
           1,
           1,
           1,
           1,
           1,
           1,
           1,
           1,
           1,
           1,
           1,
           1,
           1,
           1,
           1,
           1,
           1,
           1,
           1,
           1,
           1,
           1,
           1,
           1,
           1,
           1,
           1,
           1,
           1,
           1,
           1,
           1,
           1,
           1,
           1,
           1,
           1,
           1,
           1,
           1,
           1,
           1,
           1,
           1,
           1,
           1,
           1,
           1,
           1,
           1,
           1,
           1,
           1,
           1,
           1,
           1,
           1,
           1,
           1,
           1,
           1,
           1,
           1,
           1,
           1,
           1,
           1,
           1,
           1,
           1,
           1,
           1,
           1,
           1,
           1,
           1,
           1,
           1,
           1,
           1,
           1,
           1,
           1,
           1,
           1,
           1,
           1,
           1
          ]
         },
         "node": {
          "color": [
           "grey",
           "#FF6692",
           "grey",
           "#FF6692",
           "#00CC96",
           "grey",
           "#FF97FF",
           "grey",
           "#FFA15A",
           "grey",
           "#636EFA",
           "#B6E880",
           "grey",
           "#AB63FA",
           "#FF97FF",
           "#B6E880",
           "#FF6692",
           "#636EFA",
           "#B6E880",
           "grey",
           "#FFA15A",
           "grey",
           "#636EFA",
           "#00CC96",
           "#FF97FF",
           "#00CC96",
           "grey",
           "#AB63FA",
           "#AB63FA",
           "#FFA15A",
           "#00CC96",
           "#FECB52",
           "#B6E880",
           "#19D3F3",
           "grey",
           "#FFA15A",
           "#EF553B",
           "#636EFA",
           "#636EFA",
           "#19D3F3",
           "#636EFA",
           "#FFA15A",
           "#FF97FF",
           "grey",
           "grey",
           "#B6E880",
           "#B6E880",
           "#FECB52",
           "#19D3F3",
           "#FF97FF",
           "grey",
           "grey",
           "#FECB52",
           "#FF97FF",
           "#19D3F3",
           "#FF6692",
           "#636EFA",
           "#FF97FF",
           "#19D3F3",
           "#00CC96",
           "grey",
           "#B6E880",
           "#19D3F3",
           "#FFA15A",
           "grey",
           "#FECB52",
           "#B6E880",
           "#00CC96",
           "#FECB52",
           "#FF97FF",
           "#FECB52",
           "#00CC96",
           "#B6E880",
           "grey",
           "#B6E880",
           "#FF97FF",
           "#636EFA",
           "#FF6692",
           "#EF553B",
           "#19D3F3",
           "#FFA15A",
           "grey",
           "#EF553B",
           "#636EFA",
           "#19D3F3",
           "#B6E880",
           "#B6E880",
           "grey",
           "#FFA15A",
           "#636EFA",
           "#FF6692",
           "#19D3F3",
           "grey",
           "#19D3F3",
           "#636EFA",
           "grey",
           "#19D3F3",
           "#00CC96",
           "#AB63FA",
           "#FF97FF",
           "#19D3F3",
           "#EF553B",
           "#FFA15A",
           "#EF553B",
           "grey",
           "grey",
           "grey",
           "grey",
           "grey",
           "grey",
           "grey",
           "grey",
           "grey",
           "grey",
           "grey",
           "grey",
           "grey",
           "grey",
           "grey",
           "grey",
           "grey",
           "grey",
           "grey",
           "grey",
           "grey",
           "grey",
           "grey",
           "grey",
           "grey",
           "grey",
           "grey",
           "grey",
           "grey",
           "grey",
           "grey",
           "grey",
           "grey",
           "grey",
           "grey",
           "grey",
           "grey",
           "grey",
           "grey",
           "grey",
           "grey",
           "grey",
           "grey",
           "grey",
           "grey",
           "grey",
           "grey",
           "grey",
           "grey",
           "grey",
           "grey",
           "grey",
           "grey",
           "grey",
           "grey",
           "grey",
           "grey",
           "grey",
           "grey",
           "grey",
           "grey",
           "grey",
           "grey"
          ],
          "label": [
           "Glycerol",
           "Escherichia coli",
           "Glucose",
           "Clostridium acetobutylicum",
           "Actinobacillus succinogenes",
           "Lignocellulose",
           "Saccharomyces cerevisiae",
           "Amino acid medium",
           "Lactobacillus plantarum",
           "Starch",
           "Cellulomonas cellulans",
           "Agrobacterium tumefaciens",
           "CO",
           "Clostridium autoethanogenum",
           "Eubacterium rectale",
           "Clostridium kluyveri",
           "Acinetobacter baylyi",
           "Eubacterium limosum",
           "Massilibacterium senegalense",
           "Phenanthrene",
           "Pseudomonas putida",
           "Food waste",
           "Pediococcus pentosaceus",
           "Megasphaera cerevisiae",
           "Bacillus amyloliquefaciens",
           "Yarrowia lipolytica",
           "Sucrose",
           "Ralstonia eutropha",
           "Bacillus subtilis",
           "Gluconacetobacter hansenii",
           "Lactococcus lactis",
           "Cercospora sp",
           "Bacillus velezensis",
           "Lysinibacillus sp",
           "VFA_s",
           "Pseudomonas sp",
           "Trichoderma reesei",
           "Penicillium decumbens",
           "Aspergillus tubingensis",
           "Aspergillus niger",
           "Aureobasidium pullulans",
           "Komagataeibacter hansenii",
           "Weissella cibaria",
           "Saccharides",
           "Cellulose",
           "Clostridium thermocellum",
           "Clostridium thermohydrosulfuricum",
           "Enterococcus sp",
           "Clostridium beijerinckii",
           "Clostridium cellulovorans",
           "Xylose",
           "Light",
           "Synechococcus elongatus",
           "Halomonas boliviensis",
           "Clostridium saccharoperbutylacetonicum",
           "Clostridium tyrobutyricum",
           "Veillonella criceti",
           "Megasphaera elsdenii",
           "Clostridium cellulolyticum",
           "Geobacter sulfurreducens",
           "Tryptophan",
           "Anaeromyces robustus",
           "Neocallimastix californiae",
           "Caecomyces churrovis",
           "Wastewater sludge",
           "Salmonella subterranea",
           "Paenibacillus polymyxa",
           "Aspergillus fumigatus",
           "Sphingomonas sp",
           "Thermoanaerobacterium thermosaccharolyticum",
           "Aeribacillus pallidus",
           "Lysinibacillus fusiformis",
           "Anoxybacillus kamchatkensis",
           "Syngas",
           "Acetobacterium wieringae",
           "Pelobacter propionicus",
           "Anaerotignum neopropionicum",
           "Clostridium termitidis",
           "Corynebacterium glutamicum",
           "Methylosinus sporium",
           "Methylocella tundrae",
           "Industrial waste",
           "Enterobacter cloacae",
           "Kluyveromyces marxianus",
           "Enterococcus gallinarum",
           "Ethanoligenens harbinense",
           "Rhizopus delemar",
           "Meat extract",
           "Clostridium roseum",
           "Clostridium butyricum",
           "Bacillus cereus",
           "Brevundimonas naejangsanensis",
           "CO2",
           "Desulfobacterium corrodens",
           "Acetobacterium woodii",
           "Methanol_s",
           "Pichia pastoris",
           "Rhodopseudomonas palustris",
           "Streptomyces venezuelae",
           "Klebsiella pneumonia",
           "Shewanella oneidensis",
           "Schizophyllum commune",
           "Bjerkandera adusta",
           "Fomitopsis palustris",
           "Indigo",
           "Butyl acetate",
           "Biomass",
           "P-coumaric acid",
           "Caffeic acid",
           "Vitamins",
           "Polysaccharide",
           "Butyrate",
           "Recombinant protein",
           "1,3-Propanediol",
           "Caproate",
           "Biosurfactants",
           "VFA",
           "Lipopeptides",
           "Fatty acid",
           "Polyhydroxyalkanoate",
           "Bacterial cellulose",
           "Hyaluronic acid",
           "Cercosporin",
           "Glucose_p",
           "Antilisterial compounds",
           "Fructo-oligosaccharide",
           "Ethanol",
           "Hydrogen",
           "Butanol",
           "Pharmaceutically active compounds",
           "PHB",
           "Phenol",
           "Rosmarinic acid",
           "Pyranoanthocyanins",
           "SCFA",
           "Electricity",
           "Anthocyanins",
           "Glycosides",
           "Flavonoids",
           "3-hydroxypropionic acid",
           "Itaconic acid",
           "Glionitrin B",
           "Microbial proteases",
           "MCFA",
           "Propionate",
           "3-hydroxybenzoic acid",
           "L-lysine",
           "Methanol_p",
           "Antibodies",
           "Fumaric acid",
           "Resveratrol",
           "caffeyl alcohol",
           "coniferyl alcohol",
           "Monacolin",
           "lovastatin",
           "O-methylated phenylpropanoids",
           "7-methylxanthine",
           "#FF6692",
           "#00CC96",
           "#FF97FF",
           "#FFA15A",
           "#636EFA",
           "#B6E880",
           "#AB63FA",
           "#FECB52",
           "#19D3F3",
           "#EF553B"
          ],
          "line": {
           "color": "black",
           "width": 0.5
          },
          "pad": 15,
          "thickness": 20
         },
         "orientation": "h",
         "type": "sankey"
        }
       ],
       "layout": {
        "font": {
         "size": 8
        },
        "height": 850,
        "template": {
         "data": {
          "bar": [
           {
            "error_x": {
             "color": "#2a3f5f"
            },
            "error_y": {
             "color": "#2a3f5f"
            },
            "marker": {
             "line": {
              "color": "#E5ECF6",
              "width": 0.5
             },
             "pattern": {
              "fillmode": "overlay",
              "size": 10,
              "solidity": 0.2
             }
            },
            "type": "bar"
           }
          ],
          "barpolar": [
           {
            "marker": {
             "line": {
              "color": "#E5ECF6",
              "width": 0.5
             },
             "pattern": {
              "fillmode": "overlay",
              "size": 10,
              "solidity": 0.2
             }
            },
            "type": "barpolar"
           }
          ],
          "carpet": [
           {
            "aaxis": {
             "endlinecolor": "#2a3f5f",
             "gridcolor": "white",
             "linecolor": "white",
             "minorgridcolor": "white",
             "startlinecolor": "#2a3f5f"
            },
            "baxis": {
             "endlinecolor": "#2a3f5f",
             "gridcolor": "white",
             "linecolor": "white",
             "minorgridcolor": "white",
             "startlinecolor": "#2a3f5f"
            },
            "type": "carpet"
           }
          ],
          "choropleth": [
           {
            "colorbar": {
             "outlinewidth": 0,
             "ticks": ""
            },
            "type": "choropleth"
           }
          ],
          "contour": [
           {
            "colorbar": {
             "outlinewidth": 0,
             "ticks": ""
            },
            "colorscale": [
             [
              0,
              "#0d0887"
             ],
             [
              0.1111111111111111,
              "#46039f"
             ],
             [
              0.2222222222222222,
              "#7201a8"
             ],
             [
              0.3333333333333333,
              "#9c179e"
             ],
             [
              0.4444444444444444,
              "#bd3786"
             ],
             [
              0.5555555555555556,
              "#d8576b"
             ],
             [
              0.6666666666666666,
              "#ed7953"
             ],
             [
              0.7777777777777778,
              "#fb9f3a"
             ],
             [
              0.8888888888888888,
              "#fdca26"
             ],
             [
              1,
              "#f0f921"
             ]
            ],
            "type": "contour"
           }
          ],
          "contourcarpet": [
           {
            "colorbar": {
             "outlinewidth": 0,
             "ticks": ""
            },
            "type": "contourcarpet"
           }
          ],
          "heatmap": [
           {
            "colorbar": {
             "outlinewidth": 0,
             "ticks": ""
            },
            "colorscale": [
             [
              0,
              "#0d0887"
             ],
             [
              0.1111111111111111,
              "#46039f"
             ],
             [
              0.2222222222222222,
              "#7201a8"
             ],
             [
              0.3333333333333333,
              "#9c179e"
             ],
             [
              0.4444444444444444,
              "#bd3786"
             ],
             [
              0.5555555555555556,
              "#d8576b"
             ],
             [
              0.6666666666666666,
              "#ed7953"
             ],
             [
              0.7777777777777778,
              "#fb9f3a"
             ],
             [
              0.8888888888888888,
              "#fdca26"
             ],
             [
              1,
              "#f0f921"
             ]
            ],
            "type": "heatmap"
           }
          ],
          "heatmapgl": [
           {
            "colorbar": {
             "outlinewidth": 0,
             "ticks": ""
            },
            "colorscale": [
             [
              0,
              "#0d0887"
             ],
             [
              0.1111111111111111,
              "#46039f"
             ],
             [
              0.2222222222222222,
              "#7201a8"
             ],
             [
              0.3333333333333333,
              "#9c179e"
             ],
             [
              0.4444444444444444,
              "#bd3786"
             ],
             [
              0.5555555555555556,
              "#d8576b"
             ],
             [
              0.6666666666666666,
              "#ed7953"
             ],
             [
              0.7777777777777778,
              "#fb9f3a"
             ],
             [
              0.8888888888888888,
              "#fdca26"
             ],
             [
              1,
              "#f0f921"
             ]
            ],
            "type": "heatmapgl"
           }
          ],
          "histogram": [
           {
            "marker": {
             "pattern": {
              "fillmode": "overlay",
              "size": 10,
              "solidity": 0.2
             }
            },
            "type": "histogram"
           }
          ],
          "histogram2d": [
           {
            "colorbar": {
             "outlinewidth": 0,
             "ticks": ""
            },
            "colorscale": [
             [
              0,
              "#0d0887"
             ],
             [
              0.1111111111111111,
              "#46039f"
             ],
             [
              0.2222222222222222,
              "#7201a8"
             ],
             [
              0.3333333333333333,
              "#9c179e"
             ],
             [
              0.4444444444444444,
              "#bd3786"
             ],
             [
              0.5555555555555556,
              "#d8576b"
             ],
             [
              0.6666666666666666,
              "#ed7953"
             ],
             [
              0.7777777777777778,
              "#fb9f3a"
             ],
             [
              0.8888888888888888,
              "#fdca26"
             ],
             [
              1,
              "#f0f921"
             ]
            ],
            "type": "histogram2d"
           }
          ],
          "histogram2dcontour": [
           {
            "colorbar": {
             "outlinewidth": 0,
             "ticks": ""
            },
            "colorscale": [
             [
              0,
              "#0d0887"
             ],
             [
              0.1111111111111111,
              "#46039f"
             ],
             [
              0.2222222222222222,
              "#7201a8"
             ],
             [
              0.3333333333333333,
              "#9c179e"
             ],
             [
              0.4444444444444444,
              "#bd3786"
             ],
             [
              0.5555555555555556,
              "#d8576b"
             ],
             [
              0.6666666666666666,
              "#ed7953"
             ],
             [
              0.7777777777777778,
              "#fb9f3a"
             ],
             [
              0.8888888888888888,
              "#fdca26"
             ],
             [
              1,
              "#f0f921"
             ]
            ],
            "type": "histogram2dcontour"
           }
          ],
          "mesh3d": [
           {
            "colorbar": {
             "outlinewidth": 0,
             "ticks": ""
            },
            "type": "mesh3d"
           }
          ],
          "parcoords": [
           {
            "line": {
             "colorbar": {
              "outlinewidth": 0,
              "ticks": ""
             }
            },
            "type": "parcoords"
           }
          ],
          "pie": [
           {
            "automargin": true,
            "type": "pie"
           }
          ],
          "scatter": [
           {
            "fillpattern": {
             "fillmode": "overlay",
             "size": 10,
             "solidity": 0.2
            },
            "type": "scatter"
           }
          ],
          "scatter3d": [
           {
            "line": {
             "colorbar": {
              "outlinewidth": 0,
              "ticks": ""
             }
            },
            "marker": {
             "colorbar": {
              "outlinewidth": 0,
              "ticks": ""
             }
            },
            "type": "scatter3d"
           }
          ],
          "scattercarpet": [
           {
            "marker": {
             "colorbar": {
              "outlinewidth": 0,
              "ticks": ""
             }
            },
            "type": "scattercarpet"
           }
          ],
          "scattergeo": [
           {
            "marker": {
             "colorbar": {
              "outlinewidth": 0,
              "ticks": ""
             }
            },
            "type": "scattergeo"
           }
          ],
          "scattergl": [
           {
            "marker": {
             "colorbar": {
              "outlinewidth": 0,
              "ticks": ""
             }
            },
            "type": "scattergl"
           }
          ],
          "scattermapbox": [
           {
            "marker": {
             "colorbar": {
              "outlinewidth": 0,
              "ticks": ""
             }
            },
            "type": "scattermapbox"
           }
          ],
          "scatterpolar": [
           {
            "marker": {
             "colorbar": {
              "outlinewidth": 0,
              "ticks": ""
             }
            },
            "type": "scatterpolar"
           }
          ],
          "scatterpolargl": [
           {
            "marker": {
             "colorbar": {
              "outlinewidth": 0,
              "ticks": ""
             }
            },
            "type": "scatterpolargl"
           }
          ],
          "scatterternary": [
           {
            "marker": {
             "colorbar": {
              "outlinewidth": 0,
              "ticks": ""
             }
            },
            "type": "scatterternary"
           }
          ],
          "surface": [
           {
            "colorbar": {
             "outlinewidth": 0,
             "ticks": ""
            },
            "colorscale": [
             [
              0,
              "#0d0887"
             ],
             [
              0.1111111111111111,
              "#46039f"
             ],
             [
              0.2222222222222222,
              "#7201a8"
             ],
             [
              0.3333333333333333,
              "#9c179e"
             ],
             [
              0.4444444444444444,
              "#bd3786"
             ],
             [
              0.5555555555555556,
              "#d8576b"
             ],
             [
              0.6666666666666666,
              "#ed7953"
             ],
             [
              0.7777777777777778,
              "#fb9f3a"
             ],
             [
              0.8888888888888888,
              "#fdca26"
             ],
             [
              1,
              "#f0f921"
             ]
            ],
            "type": "surface"
           }
          ],
          "table": [
           {
            "cells": {
             "fill": {
              "color": "#EBF0F8"
             },
             "line": {
              "color": "white"
             }
            },
            "header": {
             "fill": {
              "color": "#C8D4E3"
             },
             "line": {
              "color": "white"
             }
            },
            "type": "table"
           }
          ]
         },
         "layout": {
          "annotationdefaults": {
           "arrowcolor": "#2a3f5f",
           "arrowhead": 0,
           "arrowwidth": 1
          },
          "autotypenumbers": "strict",
          "coloraxis": {
           "colorbar": {
            "outlinewidth": 0,
            "ticks": ""
           }
          },
          "colorscale": {
           "diverging": [
            [
             0,
             "#8e0152"
            ],
            [
             0.1,
             "#c51b7d"
            ],
            [
             0.2,
             "#de77ae"
            ],
            [
             0.3,
             "#f1b6da"
            ],
            [
             0.4,
             "#fde0ef"
            ],
            [
             0.5,
             "#f7f7f7"
            ],
            [
             0.6,
             "#e6f5d0"
            ],
            [
             0.7,
             "#b8e186"
            ],
            [
             0.8,
             "#7fbc41"
            ],
            [
             0.9,
             "#4d9221"
            ],
            [
             1,
             "#276419"
            ]
           ],
           "sequential": [
            [
             0,
             "#0d0887"
            ],
            [
             0.1111111111111111,
             "#46039f"
            ],
            [
             0.2222222222222222,
             "#7201a8"
            ],
            [
             0.3333333333333333,
             "#9c179e"
            ],
            [
             0.4444444444444444,
             "#bd3786"
            ],
            [
             0.5555555555555556,
             "#d8576b"
            ],
            [
             0.6666666666666666,
             "#ed7953"
            ],
            [
             0.7777777777777778,
             "#fb9f3a"
            ],
            [
             0.8888888888888888,
             "#fdca26"
            ],
            [
             1,
             "#f0f921"
            ]
           ],
           "sequentialminus": [
            [
             0,
             "#0d0887"
            ],
            [
             0.1111111111111111,
             "#46039f"
            ],
            [
             0.2222222222222222,
             "#7201a8"
            ],
            [
             0.3333333333333333,
             "#9c179e"
            ],
            [
             0.4444444444444444,
             "#bd3786"
            ],
            [
             0.5555555555555556,
             "#d8576b"
            ],
            [
             0.6666666666666666,
             "#ed7953"
            ],
            [
             0.7777777777777778,
             "#fb9f3a"
            ],
            [
             0.8888888888888888,
             "#fdca26"
            ],
            [
             1,
             "#f0f921"
            ]
           ]
          },
          "colorway": [
           "#636efa",
           "#EF553B",
           "#00cc96",
           "#ab63fa",
           "#FFA15A",
           "#19d3f3",
           "#FF6692",
           "#B6E880",
           "#FF97FF",
           "#FECB52"
          ],
          "font": {
           "color": "#2a3f5f"
          },
          "geo": {
           "bgcolor": "white",
           "lakecolor": "white",
           "landcolor": "#E5ECF6",
           "showlakes": true,
           "showland": true,
           "subunitcolor": "white"
          },
          "hoverlabel": {
           "align": "left"
          },
          "hovermode": "closest",
          "mapbox": {
           "style": "light"
          },
          "paper_bgcolor": "white",
          "plot_bgcolor": "#E5ECF6",
          "polar": {
           "angularaxis": {
            "gridcolor": "white",
            "linecolor": "white",
            "ticks": ""
           },
           "bgcolor": "#E5ECF6",
           "radialaxis": {
            "gridcolor": "white",
            "linecolor": "white",
            "ticks": ""
           }
          },
          "scene": {
           "xaxis": {
            "backgroundcolor": "#E5ECF6",
            "gridcolor": "white",
            "gridwidth": 2,
            "linecolor": "white",
            "showbackground": true,
            "ticks": "",
            "zerolinecolor": "white"
           },
           "yaxis": {
            "backgroundcolor": "#E5ECF6",
            "gridcolor": "white",
            "gridwidth": 2,
            "linecolor": "white",
            "showbackground": true,
            "ticks": "",
            "zerolinecolor": "white"
           },
           "zaxis": {
            "backgroundcolor": "#E5ECF6",
            "gridcolor": "white",
            "gridwidth": 2,
            "linecolor": "white",
            "showbackground": true,
            "ticks": "",
            "zerolinecolor": "white"
           }
          },
          "shapedefaults": {
           "line": {
            "color": "#2a3f5f"
           }
          },
          "ternary": {
           "aaxis": {
            "gridcolor": "white",
            "linecolor": "white",
            "ticks": ""
           },
           "baxis": {
            "gridcolor": "white",
            "linecolor": "white",
            "ticks": ""
           },
           "bgcolor": "#E5ECF6",
           "caxis": {
            "gridcolor": "white",
            "linecolor": "white",
            "ticks": ""
           }
          },
          "title": {
           "x": 0.05
          },
          "xaxis": {
           "automargin": true,
           "gridcolor": "white",
           "linecolor": "white",
           "ticks": "",
           "title": {
            "standoff": 15
           },
           "zerolinecolor": "white",
           "zerolinewidth": 2
          },
          "yaxis": {
           "automargin": true,
           "gridcolor": "white",
           "linecolor": "white",
           "ticks": "",
           "title": {
            "standoff": 15
           },
           "zerolinecolor": "white",
           "zerolinewidth": 2
          }
         }
        },
        "title": {
         "text": "Sankey Diagram for consortia uses"
        }
       }
      }
     },
     "metadata": {},
     "output_type": "display_data"
    }
   ],
   "source": [
    "#create diagram\n",
    "import plotly.express as px\n",
    "\n",
    "fig = go.Figure(data=[go.Sankey(\n",
    "    orientation = \"h\",\n",
    "    node = dict(\n",
    "      pad = 15,\n",
    "      thickness = 20,\n",
    "      line = dict(color = \"black\", width = 0.5),\n",
    "      label = unique_source_target,\n",
    "      #color = \"grey\"\n",
    "      color = node_colours\n",
    "    ),\n",
    "    link = dict(\n",
    "      source = sankey_dict[\"Source\"],\n",
    "      target = sankey_dict[\"Target\"],\n",
    "      value = sankey_dict[\"Value\"],\n",
    "      color = sankey_dict[\"Color\"]\n",
    "      #color = [px.colors.qualitative.Plotly[unique_source_target.index(i) % len(px.colors.qualitative.Plotly)] for i in unique_source_target]\n",
    "  ))])\n",
    "\n",
    "layout = dict(\n",
    "        title = \"Sankey Diagram for consortia uses\",\n",
    "    height = 850,\n",
    "    font = dict(\n",
    "      size = 8),)\n",
    "\n",
    "#show figure\n",
    "fig.update_layout(layout)\n",
    "fig.show()"
   ]
  },
  {
   "cell_type": "code",
   "execution_count": 156,
   "metadata": {},
   "outputs": [],
   "source": [
    "#save the figure as a .svg file\n",
    "fig.write_image(\"plots/sankey_diagram.png\")"
   ]
  },
  {
   "cell_type": "code",
   "execution_count": 28,
   "metadata": {},
   "outputs": [
    {
     "data": {
      "application/vnd.plotly.v1+json": {
       "config": {
        "plotlyServerURL": "https://plot.ly"
       },
       "data": [
        {
         "link": {
          "color": [
           "#19D3F3",
           "#19D3F3",
           "#636EFA",
           "#FFA15A",
           "#636EFA",
           "#FFA15A",
           "#19D3F3",
           "#19D3F3",
           "#FFA15A",
           "#FFA15A",
           "#FFA15A",
           "#EF553B",
           "#FFA15A",
           "#EF553B",
           "#FFA15A",
           "#636EFA",
           "#FF97FF",
           "#636EFA",
           "#FF97FF",
           "#636EFA",
           "#AB63FA",
           "#636EFA",
           "#636EFA",
           "#AB63FA",
           "#636EFA",
           "#19D3F3",
           "#FFA15A",
           "#19D3F3",
           "#FFA15A",
           "#AB63FA",
           "#636EFA",
           "#FF6692",
           "#AB63FA",
           "#AB63FA",
           "#636EFA",
           "#636EFA",
           "#FF6692",
           "#FF6692",
           "#19D3F3",
           "#19D3F3",
           "#19D3F3",
           "#19D3F3",
           "#19D3F3",
           "#19D3F3",
           "#AB63FA",
           "#636EFA",
           "#AB63FA",
           "#636EFA",
           "#B6E880",
           "#FECB52",
           "#B6E880",
           "#B6E880",
           "#FECB52",
           "#FECB52",
           "#00CC96",
           "#B6E880",
           "#00CC96",
           "#B6E880",
           "#00CC96",
           "#636EFA",
           "#00CC96",
           "#00CC96",
           "#636EFA",
           "#636EFA",
           "#636EFA",
           "#B6E880",
           "#636EFA",
           "#636EFA",
           "#B6E880",
           "#636EFA",
           "#19D3F3",
           "#B6E880",
           "#19D3F3",
           "#B6E880",
           "#19D3F3",
           "#B6E880",
           "#FFA15A",
           "#636EFA",
           "#19D3F3",
           "#19D3F3",
           "#FFA15A",
           "#636EFA",
           "#19D3F3",
           "#19D3F3",
           "#00CC96",
           "#FFA15A",
           "#00CC96",
           "#FFA15A",
           "#EF553B",
           "#FF97FF",
           "#EF553B",
           "#FF97FF",
           "#00CC96",
           "#FFA15A",
           "#00CC96",
           "#FFA15A",
           "#636EFA",
           "#636EFA",
           "#636EFA",
           "#636EFA",
           "#FFA15A",
           "#636EFA",
           "#636EFA",
           "#FFA15A",
           "#FFA15A",
           "#636EFA",
           "#636EFA",
           "#636EFA",
           "#636EFA",
           "#FFA15A",
           "#19D3F3",
           "#FFA15A",
           "#19D3F3",
           "#19D3F3",
           "#FFA15A",
           "#19D3F3",
           "#FFA15A",
           "#FF6692",
           "#19D3F3",
           "#FF6692",
           "#19D3F3",
           "#636EFA",
           "#636EFA",
           "#636EFA",
           "#636EFA",
           "#636EFA",
           "#636EFA",
           "#636EFA",
           "#636EFA",
           "#19D3F3",
           "#19D3F3",
           "#19D3F3",
           "#19D3F3",
           "#19D3F3",
           "#19D3F3",
           "#19D3F3",
           "#19D3F3",
           "#FFA15A",
           "#636EFA",
           "#636EFA",
           "#636EFA",
           "#FFA15A",
           "#636EFA",
           "#636EFA",
           "#636EFA",
           "#636EFA",
           "#FECB52",
           "#636EFA",
           "#FECB52",
           "#19D3F3",
           "#19D3F3",
           "#19D3F3",
           "#19D3F3",
           "#19D3F3",
           "#19D3F3",
           "#19D3F3",
           "#19D3F3",
           "#19D3F3",
           "#AB63FA",
           "#19D3F3",
           "#AB63FA",
           "#AB63FA",
           "#19D3F3",
           "#19D3F3",
           "#636EFA",
           "#FECB52",
           "#FFA15A",
           "#636EFA",
           "#636EFA",
           "#636EFA",
           "#FECB52",
           "#FECB52",
           "#FFA15A",
           "#FFA15A",
           "#636EFA",
           "#636EFA",
           "#B6E880",
           "#FF97FF",
           "#B6E880",
           "#FF97FF",
           "#19D3F3",
           "#00CC96",
           "#19D3F3",
           "#00CC96",
           "#EF553B",
           "#636EFA",
           "#EF553B",
           "#636EFA",
           "#EF553B",
           "#636EFA",
           "#636EFA",
           "#EF553B",
           "#636EFA",
           "#636EFA",
           "#EF553B",
           "#636EFA",
           "#636EFA",
           "#636EFA",
           "#636EFA",
           "#636EFA",
           "#636EFA",
           "#636EFA",
           "#636EFA",
           "#636EFA",
           "#636EFA",
           "#636EFA",
           "#636EFA",
           "#636EFA",
           "#636EFA",
           "#636EFA",
           "#636EFA",
           "#636EFA",
           "#636EFA",
           "#636EFA",
           "#636EFA",
           "#636EFA",
           "#19D3F3",
           "#19D3F3",
           "#19D3F3",
           "#B6E880",
           "#19D3F3",
           "#B6E880",
           "#19D3F3",
           "#B6E880",
           "#EF553B",
           "#FF97FF",
           "#EF553B",
           "#FF97FF",
           "#636EFA",
           "#FF6692",
           "#B6E880",
           "#636EFA",
           "#FF6692",
           "#B6E880",
           "#FFA15A",
           "#AB63FA",
           "#FFA15A",
           "#AB63FA",
           "#FFA15A",
           "#19D3F3",
           "#FFA15A",
           "#19D3F3",
           "#19D3F3",
           "#19D3F3",
           "#FFA15A",
           "#19D3F3",
           "#FFA15A",
           "#19D3F3",
           "#636EFA",
           "#636EFA",
           "#636EFA",
           "#636EFA",
           "#B6E880",
           "#AB63FA",
           "#B6E880",
           "#AB63FA",
           "#00CC96",
           "#636EFA",
           "#00CC96",
           "#636EFA",
           "#19D3F3",
           "#19D3F3",
           "#19D3F3",
           "#19D3F3",
           "#19D3F3",
           "#19D3F3",
           "#19D3F3",
           "#19D3F3",
           "#FFA15A",
           "#19D3F3",
           "#FFA15A",
           "#636EFA",
           "#636EFA",
           "#636EFA",
           "#19D3F3",
           "#FF6692",
           "#19D3F3",
           "#FF6692",
           "#19D3F3",
           "#636EFA",
           "#19D3F3",
           "#636EFA",
           "#B6E880",
           "#AB63FA",
           "#B6E880",
           "#AB63FA",
           "#636EFA",
           "#636EFA",
           "#636EFA",
           "#636EFA",
           "#00CC96",
           "#FFA15A",
           "#FFA15A",
           "#00CC96",
           "#FFA15A",
           "#FFA15A",
           "#FFA15A",
           "#636EFA",
           "#FFA15A",
           "#636EFA",
           "#19D3F3",
           "#19D3F3"
          ],
          "source": [
           0,
           1,
           2,
           2,
           3,
           4,
           2,
           1,
           5,
           6,
           6,
           7,
           7,
           8,
           6,
           2,
           2,
           9,
           10,
           11,
           11,
           11,
           3,
           12,
           3,
           2,
           2,
           1,
           13,
           0,
           0,
           0,
           12,
           12,
           3,
           3,
           14,
           14,
           15,
           15,
           0,
           0,
           16,
           1,
           17,
           17,
           18,
           19,
           17,
           17,
           20,
           20,
           21,
           21,
           2,
           2,
           22,
           20,
           2,
           2,
           23,
           23,
           24,
           24,
           2,
           2,
           2,
           25,
           20,
           26,
           2,
           2,
           27,
           27,
           16,
           20,
           5,
           5,
           5,
           5,
           28,
           29,
           30,
           30,
           2,
           2,
           31,
           32,
           7,
           7,
           8,
           33,
           2,
           2,
           31,
           6,
           5,
           5,
           3,
           3,
           5,
           5,
           5,
           34,
           34,
           3,
           3,
           3,
           3,
           5,
           5,
           28,
           1,
           2,
           2,
           1,
           6,
           35,
           35,
           36,
           37,
           5,
           5,
           3,
           3,
           5,
           5,
           3,
           3,
           2,
           1,
           2,
           2,
           2,
           1,
           2,
           1,
           5,
           5,
           5,
           5,
           28,
           3,
           38,
           19,
           5,
           5,
           3,
           39,
           2,
           1,
           2,
           2,
           1,
           2,
           1,
           7,
           1,
           11,
           11,
           12,
           12,
           1,
           1,
           5,
           5,
           5,
           5,
           3,
           3,
           40,
           40,
           41,
           41,
           42,
           42,
           17,
           17,
           43,
           44,
           2,
           2,
           30,
           45,
           5,
           5,
           46,
           3,
           17,
           17,
           17,
           2,
           2,
           2,
           47,
           26,
           48,
           11,
           11,
           11,
           11,
           3,
           3,
           11,
           11,
           11,
           11,
           11,
           11,
           49,
           50,
           51,
           5,
           5,
           3,
           3,
           0,
           1,
           2,
           2,
           2,
           2,
           1,
           52,
           11,
           11,
           53,
           54,
           17,
           17,
           17,
           3,
           55,
           56,
           5,
           5,
           34,
           57,
           5,
           5,
           28,
           1,
           7,
           1,
           5,
           5,
           28,
           58,
           17,
           17,
           3,
           3,
           2,
           2,
           20,
           59,
           11,
           11,
           60,
           49,
           0,
           1,
           2,
           1,
           1,
           2,
           1,
           5,
           5,
           1,
           6,
           0,
           61,
           61,
           2,
           2,
           1,
           62,
           7,
           7,
           1,
           63,
           5,
           5,
           64,
           65,
           2,
           2,
           3,
           3,
           5,
           5,
           5,
           66,
           67,
           68,
           2,
           2,
           6,
           3,
           7,
           1
          ],
          "target": [
           1,
           69,
           3,
           4,
           70,
           70,
           1,
           71,
           6,
           70,
           72,
           8,
           6,
           73,
           73,
           9,
           10,
           74,
           74,
           3,
           12,
           3,
           70,
           70,
           70,
           1,
           13,
           75,
           75,
           12,
           3,
           14,
           76,
           70,
           76,
           70,
           76,
           70,
           16,
           1,
           16,
           1,
           77,
           77,
           18,
           19,
           70,
           70,
           20,
           21,
           75,
           70,
           75,
           70,
           22,
           20,
           78,
           78,
           23,
           24,
           79,
           80,
           79,
           80,
           25,
           20,
           26,
           80,
           80,
           80,
           16,
           20,
           16,
           20,
           78,
           78,
           28,
           29,
           30,
           30,
           73,
           73,
           73,
           73,
           31,
           32,
           79,
           79,
           8,
           33,
           81,
           81,
           31,
           6,
           74,
           74,
           3,
           3,
           82,
           82,
           34,
           3,
           3,
           83,
           82,
           83,
           82,
           83,
           82,
           28,
           1,
           82,
           82,
           1,
           6,
           80,
           80,
           36,
           37,
           78,
           78,
           3,
           3,
           82,
           82,
           3,
           3,
           82,
           82,
           1,
           72,
           1,
           1,
           1,
           72,
           1,
           72,
           28,
           3,
           38,
           19,
           70,
           70,
           70,
           70,
           3,
           39,
           84,
           84,
           1,
           69,
           1,
           1,
           77,
           1,
           72,
           1,
           69,
           12,
           1,
           70,
           70,
           70,
           70,
           3,
           40,
           41,
           42,
           70,
           82,
           70,
           82,
           70,
           82,
           70,
           82,
           43,
           44,
           83,
           83,
           30,
           45,
           80,
           80,
           46,
           3,
           82,
           82,
           47,
           26,
           48,
           47,
           26,
           48,
           75,
           75,
           75,
           3,
           3,
           3,
           3,
           70,
           70,
           49,
           50,
           51,
           49,
           50,
           51,
           70,
           70,
           70,
           3,
           3,
           83,
           83,
           1,
           72,
           1,
           52,
           1,
           52,
           85,
           85,
           53,
           54,
           82,
           82,
           3,
           55,
           56,
           83,
           83,
           83,
           34,
           57,
           83,
           83,
           28,
           1,
           82,
           82,
           1,
           75,
           28,
           58,
           70,
           70,
           3,
           3,
           83,
           83,
           20,
           59,
           83,
           83,
           60,
           49,
           84,
           84,
           1,
           72,
           1,
           72,
           72,
           1,
           72,
           1,
           6,
           82,
           82,
           61,
           80,
           80,
           1,
           62,
           83,
           83,
           1,
           63,
           80,
           80,
           64,
           65,
           84,
           84,
           3,
           3,
           82,
           82,
           66,
           67,
           68,
           82,
           82,
           82,
           6,
           3,
           82,
           82,
           1,
           80
          ],
          "value": [
           1,
           1,
           1,
           1,
           1,
           1,
           1,
           1,
           1,
           1,
           1,
           1,
           1,
           1,
           1,
           1,
           1,
           1,
           1,
           1,
           1,
           1,
           1,
           1,
           1,
           1,
           1,
           1,
           1,
           1,
           1,
           1,
           1,
           1,
           1,
           1,
           1,
           1,
           1,
           1,
           1,
           1,
           1,
           1,
           1,
           1,
           1,
           1,
           1,
           1,
           1,
           1,
           1,
           1,
           1,
           1,
           1,
           1,
           1,
           1,
           1,
           1,
           1,
           1,
           1,
           1,
           1,
           1,
           1,
           1,
           1,
           1,
           1,
           1,
           1,
           1,
           1,
           1,
           1,
           1,
           1,
           1,
           1,
           1,
           1,
           1,
           1,
           1,
           1,
           1,
           1,
           1,
           1,
           1,
           1,
           1,
           1,
           1,
           1,
           1,
           1,
           1,
           1,
           1,
           1,
           1,
           1,
           1,
           1,
           1,
           1,
           1,
           1,
           1,
           1,
           1,
           1,
           1,
           1,
           1,
           1,
           1,
           1,
           1,
           1,
           1,
           1,
           1,
           1,
           1,
           1,
           1,
           1,
           1,
           1,
           1,
           1,
           1,
           1,
           1,
           1,
           1,
           1,
           1,
           1,
           1,
           1,
           1,
           1,
           1,
           1,
           1,
           1,
           1,
           1,
           1,
           1,
           1,
           1,
           1,
           1,
           1,
           1,
           1,
           1,
           1,
           1,
           1,
           1,
           1,
           1,
           1,
           1,
           1,
           1,
           1,
           1,
           1,
           1,
           1,
           1,
           1,
           1,
           1,
           1,
           1,
           1,
           1,
           1,
           1,
           1,
           1,
           1,
           1,
           1,
           1,
           1,
           1,
           1,
           1,
           1,
           1,
           1,
           1,
           1,
           1,
           1,
           1,
           1,
           1,
           1,
           1,
           1,
           1,
           1,
           1,
           1,
           1,
           1,
           1,
           1,
           1,
           1,
           1,
           1,
           1,
           1,
           1,
           1,
           1,
           1,
           1,
           1,
           1,
           1,
           1,
           1,
           1,
           1,
           1,
           1,
           1,
           1,
           1,
           1,
           1,
           1,
           1,
           1,
           1,
           1,
           1,
           1,
           1,
           1,
           1,
           1,
           1,
           1,
           1,
           1,
           1,
           1,
           1,
           1,
           1,
           1,
           1,
           1,
           1,
           1,
           1,
           1,
           1,
           1,
           1,
           1,
           1,
           1,
           1,
           1,
           1,
           1,
           1,
           1,
           1,
           1,
           1,
           1,
           1,
           1,
           1,
           1,
           1,
           1,
           1,
           1,
           1,
           1,
           1,
           1,
           1
          ]
         },
         "node": {
          "color": [
           "grey",
           "#19D3F3",
           "grey",
           "#636EFA",
           "#FFA15A",
           "grey",
           "#FFA15A",
           "grey",
           "#EF553B",
           "#636EFA",
           "#FF97FF",
           "grey",
           "#AB63FA",
           "#FFA15A",
           "#FF6692",
           "grey",
           "#19D3F3",
           "grey",
           "#AB63FA",
           "#636EFA",
           "#B6E880",
           "#FECB52",
           "#00CC96",
           "#00CC96",
           "#636EFA",
           "#636EFA",
           "#636EFA",
           "grey",
           "#FFA15A",
           "#636EFA",
           "#19D3F3",
           "#00CC96",
           "#FFA15A",
           "#FF97FF",
           "#FFA15A",
           "grey",
           "#FF6692",
           "#19D3F3",
           "#636EFA",
           "#FECB52",
           "#FECB52",
           "#FFA15A",
           "#636EFA",
           "#B6E880",
           "#FF97FF",
           "#00CC96",
           "#EF553B",
           "#EF553B",
           "#636EFA",
           "#636EFA",
           "#636EFA",
           "#636EFA",
           "#B6E880",
           "#EF553B",
           "#FF97FF",
           "#FF6692",
           "#B6E880",
           "#AB63FA",
           "#19D3F3",
           "#AB63FA",
           "#00CC96",
           "#636EFA",
           "#FF6692",
           "#636EFA",
           "#B6E880",
           "#AB63FA",
           "#00CC96",
           "#FFA15A",
           "#FFA15A",
           "grey",
           "grey",
           "grey",
           "grey",
           "grey",
           "grey",
           "grey",
           "grey",
           "grey",
           "grey",
           "grey",
           "grey",
           "grey",
           "grey",
           "grey",
           "grey",
           "grey",
           "grey",
           "grey",
           "grey",
           "grey",
           "grey",
           "grey",
           "grey",
           "grey",
           "grey",
           "grey"
          ],
          "label": [
           "Alcohols",
           "Escherichia",
           "Sugars",
           "Clostridium",
           "Actinobacillus",
           "Lignocellulose",
           "Saccharomyces",
           "Amino acid medium",
           "Lactobacillus",
           "Cellulomonas",
           "Agrobacterium",
           "Gas",
           "Eubacterium",
           "Acinetobacter",
           "Massilibacterium",
           "Other substrate",
           "Pseudomonas",
           "Waste",
           "Pediococcus",
           "Megasphaera",
           "Bacillus",
           "Yarrowia",
           "Ralstonia",
           "Gluconacetobacter",
           "Lactococcus",
           "Cercospora",
           "Lysinibacillus",
           "Short-chain fatty acids",
           "Trichoderma",
           "Penicillium",
           "Aspergillus",
           "Aureobasidium",
           "Komagataeibacter",
           "Weissella",
           "Enterococcus",
           "Light",
           "Synechococcus",
           "Halomonas",
           "Veillonella",
           "Geobacter",
           "Anaeromyces",
           "Neocallimastix",
           "Caecomyces",
           "Salmonella",
           "Paenibacillus",
           "Sphingomonas",
           "Thermoanaerobacterium",
           "Aeribacillus",
           "Anoxybacillus",
           "Acetobacterium",
           "Pelobacter",
           "Anaerotignum",
           "Corynebacterium",
           "Methylosinus",
           "Methylocella",
           "Enterobacter",
           "Kluyveromyces",
           "Ethanoligenens",
           "Rhizopus",
           "Brevundimonas",
           "Desulfobacterium",
           "Pichia",
           "Rhodopseudomonas",
           "Streptomyces",
           "Klebsiella",
           "Shewanella",
           "Schizophyllum",
           "Bjerkandera",
           "Fomitopsis",
           "Dyes and pigments",
           "Carboxylic acids and esters",
           "Biomass",
           "Phenols",
           "Metabolites to support growth",
           "Polysaccharides",
           "Proteins",
           "Glycols",
           "Other",
           "Polyester polymers",
           "Cellulose",
           "Pharmaceuticals",
           "Antibiotics",
           "Primary alcohols",
           "Hydorgen gas",
           "Electricity",
           "Amino acids",
           "#19D3F3",
           "#636EFA",
           "#FFA15A",
           "#EF553B",
           "#FF97FF",
           "#AB63FA",
           "#FF6692",
           "#B6E880",
           "#FECB52",
           "#00CC96"
          ],
          "line": {
           "color": "black",
           "width": 0.5
          },
          "pad": 15,
          "thickness": 20
         },
         "orientation": "h",
         "type": "sankey"
        }
       ],
       "layout": {
        "font": {
         "size": 8
        },
        "height": 850,
        "template": {
         "data": {
          "bar": [
           {
            "error_x": {
             "color": "#2a3f5f"
            },
            "error_y": {
             "color": "#2a3f5f"
            },
            "marker": {
             "line": {
              "color": "#E5ECF6",
              "width": 0.5
             },
             "pattern": {
              "fillmode": "overlay",
              "size": 10,
              "solidity": 0.2
             }
            },
            "type": "bar"
           }
          ],
          "barpolar": [
           {
            "marker": {
             "line": {
              "color": "#E5ECF6",
              "width": 0.5
             },
             "pattern": {
              "fillmode": "overlay",
              "size": 10,
              "solidity": 0.2
             }
            },
            "type": "barpolar"
           }
          ],
          "carpet": [
           {
            "aaxis": {
             "endlinecolor": "#2a3f5f",
             "gridcolor": "white",
             "linecolor": "white",
             "minorgridcolor": "white",
             "startlinecolor": "#2a3f5f"
            },
            "baxis": {
             "endlinecolor": "#2a3f5f",
             "gridcolor": "white",
             "linecolor": "white",
             "minorgridcolor": "white",
             "startlinecolor": "#2a3f5f"
            },
            "type": "carpet"
           }
          ],
          "choropleth": [
           {
            "colorbar": {
             "outlinewidth": 0,
             "ticks": ""
            },
            "type": "choropleth"
           }
          ],
          "contour": [
           {
            "colorbar": {
             "outlinewidth": 0,
             "ticks": ""
            },
            "colorscale": [
             [
              0,
              "#0d0887"
             ],
             [
              0.1111111111111111,
              "#46039f"
             ],
             [
              0.2222222222222222,
              "#7201a8"
             ],
             [
              0.3333333333333333,
              "#9c179e"
             ],
             [
              0.4444444444444444,
              "#bd3786"
             ],
             [
              0.5555555555555556,
              "#d8576b"
             ],
             [
              0.6666666666666666,
              "#ed7953"
             ],
             [
              0.7777777777777778,
              "#fb9f3a"
             ],
             [
              0.8888888888888888,
              "#fdca26"
             ],
             [
              1,
              "#f0f921"
             ]
            ],
            "type": "contour"
           }
          ],
          "contourcarpet": [
           {
            "colorbar": {
             "outlinewidth": 0,
             "ticks": ""
            },
            "type": "contourcarpet"
           }
          ],
          "heatmap": [
           {
            "colorbar": {
             "outlinewidth": 0,
             "ticks": ""
            },
            "colorscale": [
             [
              0,
              "#0d0887"
             ],
             [
              0.1111111111111111,
              "#46039f"
             ],
             [
              0.2222222222222222,
              "#7201a8"
             ],
             [
              0.3333333333333333,
              "#9c179e"
             ],
             [
              0.4444444444444444,
              "#bd3786"
             ],
             [
              0.5555555555555556,
              "#d8576b"
             ],
             [
              0.6666666666666666,
              "#ed7953"
             ],
             [
              0.7777777777777778,
              "#fb9f3a"
             ],
             [
              0.8888888888888888,
              "#fdca26"
             ],
             [
              1,
              "#f0f921"
             ]
            ],
            "type": "heatmap"
           }
          ],
          "heatmapgl": [
           {
            "colorbar": {
             "outlinewidth": 0,
             "ticks": ""
            },
            "colorscale": [
             [
              0,
              "#0d0887"
             ],
             [
              0.1111111111111111,
              "#46039f"
             ],
             [
              0.2222222222222222,
              "#7201a8"
             ],
             [
              0.3333333333333333,
              "#9c179e"
             ],
             [
              0.4444444444444444,
              "#bd3786"
             ],
             [
              0.5555555555555556,
              "#d8576b"
             ],
             [
              0.6666666666666666,
              "#ed7953"
             ],
             [
              0.7777777777777778,
              "#fb9f3a"
             ],
             [
              0.8888888888888888,
              "#fdca26"
             ],
             [
              1,
              "#f0f921"
             ]
            ],
            "type": "heatmapgl"
           }
          ],
          "histogram": [
           {
            "marker": {
             "pattern": {
              "fillmode": "overlay",
              "size": 10,
              "solidity": 0.2
             }
            },
            "type": "histogram"
           }
          ],
          "histogram2d": [
           {
            "colorbar": {
             "outlinewidth": 0,
             "ticks": ""
            },
            "colorscale": [
             [
              0,
              "#0d0887"
             ],
             [
              0.1111111111111111,
              "#46039f"
             ],
             [
              0.2222222222222222,
              "#7201a8"
             ],
             [
              0.3333333333333333,
              "#9c179e"
             ],
             [
              0.4444444444444444,
              "#bd3786"
             ],
             [
              0.5555555555555556,
              "#d8576b"
             ],
             [
              0.6666666666666666,
              "#ed7953"
             ],
             [
              0.7777777777777778,
              "#fb9f3a"
             ],
             [
              0.8888888888888888,
              "#fdca26"
             ],
             [
              1,
              "#f0f921"
             ]
            ],
            "type": "histogram2d"
           }
          ],
          "histogram2dcontour": [
           {
            "colorbar": {
             "outlinewidth": 0,
             "ticks": ""
            },
            "colorscale": [
             [
              0,
              "#0d0887"
             ],
             [
              0.1111111111111111,
              "#46039f"
             ],
             [
              0.2222222222222222,
              "#7201a8"
             ],
             [
              0.3333333333333333,
              "#9c179e"
             ],
             [
              0.4444444444444444,
              "#bd3786"
             ],
             [
              0.5555555555555556,
              "#d8576b"
             ],
             [
              0.6666666666666666,
              "#ed7953"
             ],
             [
              0.7777777777777778,
              "#fb9f3a"
             ],
             [
              0.8888888888888888,
              "#fdca26"
             ],
             [
              1,
              "#f0f921"
             ]
            ],
            "type": "histogram2dcontour"
           }
          ],
          "mesh3d": [
           {
            "colorbar": {
             "outlinewidth": 0,
             "ticks": ""
            },
            "type": "mesh3d"
           }
          ],
          "parcoords": [
           {
            "line": {
             "colorbar": {
              "outlinewidth": 0,
              "ticks": ""
             }
            },
            "type": "parcoords"
           }
          ],
          "pie": [
           {
            "automargin": true,
            "type": "pie"
           }
          ],
          "scatter": [
           {
            "fillpattern": {
             "fillmode": "overlay",
             "size": 10,
             "solidity": 0.2
            },
            "type": "scatter"
           }
          ],
          "scatter3d": [
           {
            "line": {
             "colorbar": {
              "outlinewidth": 0,
              "ticks": ""
             }
            },
            "marker": {
             "colorbar": {
              "outlinewidth": 0,
              "ticks": ""
             }
            },
            "type": "scatter3d"
           }
          ],
          "scattercarpet": [
           {
            "marker": {
             "colorbar": {
              "outlinewidth": 0,
              "ticks": ""
             }
            },
            "type": "scattercarpet"
           }
          ],
          "scattergeo": [
           {
            "marker": {
             "colorbar": {
              "outlinewidth": 0,
              "ticks": ""
             }
            },
            "type": "scattergeo"
           }
          ],
          "scattergl": [
           {
            "marker": {
             "colorbar": {
              "outlinewidth": 0,
              "ticks": ""
             }
            },
            "type": "scattergl"
           }
          ],
          "scattermapbox": [
           {
            "marker": {
             "colorbar": {
              "outlinewidth": 0,
              "ticks": ""
             }
            },
            "type": "scattermapbox"
           }
          ],
          "scatterpolar": [
           {
            "marker": {
             "colorbar": {
              "outlinewidth": 0,
              "ticks": ""
             }
            },
            "type": "scatterpolar"
           }
          ],
          "scatterpolargl": [
           {
            "marker": {
             "colorbar": {
              "outlinewidth": 0,
              "ticks": ""
             }
            },
            "type": "scatterpolargl"
           }
          ],
          "scatterternary": [
           {
            "marker": {
             "colorbar": {
              "outlinewidth": 0,
              "ticks": ""
             }
            },
            "type": "scatterternary"
           }
          ],
          "surface": [
           {
            "colorbar": {
             "outlinewidth": 0,
             "ticks": ""
            },
            "colorscale": [
             [
              0,
              "#0d0887"
             ],
             [
              0.1111111111111111,
              "#46039f"
             ],
             [
              0.2222222222222222,
              "#7201a8"
             ],
             [
              0.3333333333333333,
              "#9c179e"
             ],
             [
              0.4444444444444444,
              "#bd3786"
             ],
             [
              0.5555555555555556,
              "#d8576b"
             ],
             [
              0.6666666666666666,
              "#ed7953"
             ],
             [
              0.7777777777777778,
              "#fb9f3a"
             ],
             [
              0.8888888888888888,
              "#fdca26"
             ],
             [
              1,
              "#f0f921"
             ]
            ],
            "type": "surface"
           }
          ],
          "table": [
           {
            "cells": {
             "fill": {
              "color": "#EBF0F8"
             },
             "line": {
              "color": "white"
             }
            },
            "header": {
             "fill": {
              "color": "#C8D4E3"
             },
             "line": {
              "color": "white"
             }
            },
            "type": "table"
           }
          ]
         },
         "layout": {
          "annotationdefaults": {
           "arrowcolor": "#2a3f5f",
           "arrowhead": 0,
           "arrowwidth": 1
          },
          "autotypenumbers": "strict",
          "coloraxis": {
           "colorbar": {
            "outlinewidth": 0,
            "ticks": ""
           }
          },
          "colorscale": {
           "diverging": [
            [
             0,
             "#8e0152"
            ],
            [
             0.1,
             "#c51b7d"
            ],
            [
             0.2,
             "#de77ae"
            ],
            [
             0.3,
             "#f1b6da"
            ],
            [
             0.4,
             "#fde0ef"
            ],
            [
             0.5,
             "#f7f7f7"
            ],
            [
             0.6,
             "#e6f5d0"
            ],
            [
             0.7,
             "#b8e186"
            ],
            [
             0.8,
             "#7fbc41"
            ],
            [
             0.9,
             "#4d9221"
            ],
            [
             1,
             "#276419"
            ]
           ],
           "sequential": [
            [
             0,
             "#0d0887"
            ],
            [
             0.1111111111111111,
             "#46039f"
            ],
            [
             0.2222222222222222,
             "#7201a8"
            ],
            [
             0.3333333333333333,
             "#9c179e"
            ],
            [
             0.4444444444444444,
             "#bd3786"
            ],
            [
             0.5555555555555556,
             "#d8576b"
            ],
            [
             0.6666666666666666,
             "#ed7953"
            ],
            [
             0.7777777777777778,
             "#fb9f3a"
            ],
            [
             0.8888888888888888,
             "#fdca26"
            ],
            [
             1,
             "#f0f921"
            ]
           ],
           "sequentialminus": [
            [
             0,
             "#0d0887"
            ],
            [
             0.1111111111111111,
             "#46039f"
            ],
            [
             0.2222222222222222,
             "#7201a8"
            ],
            [
             0.3333333333333333,
             "#9c179e"
            ],
            [
             0.4444444444444444,
             "#bd3786"
            ],
            [
             0.5555555555555556,
             "#d8576b"
            ],
            [
             0.6666666666666666,
             "#ed7953"
            ],
            [
             0.7777777777777778,
             "#fb9f3a"
            ],
            [
             0.8888888888888888,
             "#fdca26"
            ],
            [
             1,
             "#f0f921"
            ]
           ]
          },
          "colorway": [
           "#636efa",
           "#EF553B",
           "#00cc96",
           "#ab63fa",
           "#FFA15A",
           "#19d3f3",
           "#FF6692",
           "#B6E880",
           "#FF97FF",
           "#FECB52"
          ],
          "font": {
           "color": "#2a3f5f"
          },
          "geo": {
           "bgcolor": "white",
           "lakecolor": "white",
           "landcolor": "#E5ECF6",
           "showlakes": true,
           "showland": true,
           "subunitcolor": "white"
          },
          "hoverlabel": {
           "align": "left"
          },
          "hovermode": "closest",
          "mapbox": {
           "style": "light"
          },
          "paper_bgcolor": "white",
          "plot_bgcolor": "#E5ECF6",
          "polar": {
           "angularaxis": {
            "gridcolor": "white",
            "linecolor": "white",
            "ticks": ""
           },
           "bgcolor": "#E5ECF6",
           "radialaxis": {
            "gridcolor": "white",
            "linecolor": "white",
            "ticks": ""
           }
          },
          "scene": {
           "xaxis": {
            "backgroundcolor": "#E5ECF6",
            "gridcolor": "white",
            "gridwidth": 2,
            "linecolor": "white",
            "showbackground": true,
            "ticks": "",
            "zerolinecolor": "white"
           },
           "yaxis": {
            "backgroundcolor": "#E5ECF6",
            "gridcolor": "white",
            "gridwidth": 2,
            "linecolor": "white",
            "showbackground": true,
            "ticks": "",
            "zerolinecolor": "white"
           },
           "zaxis": {
            "backgroundcolor": "#E5ECF6",
            "gridcolor": "white",
            "gridwidth": 2,
            "linecolor": "white",
            "showbackground": true,
            "ticks": "",
            "zerolinecolor": "white"
           }
          },
          "shapedefaults": {
           "line": {
            "color": "#2a3f5f"
           }
          },
          "ternary": {
           "aaxis": {
            "gridcolor": "white",
            "linecolor": "white",
            "ticks": ""
           },
           "baxis": {
            "gridcolor": "white",
            "linecolor": "white",
            "ticks": ""
           },
           "bgcolor": "#E5ECF6",
           "caxis": {
            "gridcolor": "white",
            "linecolor": "white",
            "ticks": ""
           }
          },
          "title": {
           "x": 0.05
          },
          "xaxis": {
           "automargin": true,
           "gridcolor": "white",
           "linecolor": "white",
           "ticks": "",
           "title": {
            "standoff": 15
           },
           "zerolinecolor": "white",
           "zerolinewidth": 2
          },
          "yaxis": {
           "automargin": true,
           "gridcolor": "white",
           "linecolor": "white",
           "ticks": "",
           "title": {
            "standoff": 15
           },
           "zerolinecolor": "white",
           "zerolinewidth": 2
          }
         }
        },
        "title": {
         "text": "Sankey Diagram for consortia uses"
        }
       }
      }
     },
     "metadata": {},
     "output_type": "display_data"
    }
   ],
   "source": [
    "#new sankey chart for genus only\n",
    "\n",
    "#creating a new dataframe to use in building the sankey chart\n",
    "\n",
    "#create an empty dataframe\n",
    "sankey_data = pd.DataFrame({'Source': [],\n",
    "                   'Target': [],\n",
    "                   'Value': [],\n",
    "                   'Color': []})\n",
    "\n",
    "organism_colouring = dict()\n",
    "colour_counter = 0\n",
    "\n",
    "#iterate over the rows of the dataframe\n",
    "for index, row in df.iterrows():\n",
    "\n",
    "    #get lists of substrates, products, and organisms\n",
    "    all_substrates = row[\"Substrate\"].split(\", \")\n",
    "    organisms = row[\"Organisms\"].split(\", \")\n",
    "    all_products = row[\"Product\"].split(\", \")\n",
    "\n",
    "    substrates = [substrate_map[substrate] for substrate in all_substrates]\n",
    "    products = [product_map[product] for product in all_products]\n",
    "\n",
    "\n",
    "    #taking the first word to get the genus instead of the organisms\n",
    "    genuses = [organism.split(' ')[0] for organism in organisms]\n",
    "\n",
    "    #adds colour to each organism using the pick_colour function\n",
    "    for genus in genuses:\n",
    "        if genus not in organism_colouring:\n",
    "            organism_colouring[genus] = pick_colour(genus)\n",
    "\n",
    "    #add links from each substrate to each organism\n",
    "    for substrate in substrates:\n",
    "        for genus in genuses:\n",
    "            sankey_data.loc[len(sankey_data.index)] = [substrate, genus, 1, organism_colouring[genus]]\n",
    "\n",
    "    #add links from each organism to each substrate\n",
    "    for genus in genuses:\n",
    "        for product in products:\n",
    "            sankey_data.loc[len(sankey_data.index)] = [genus, product, 1, organism_colouring[genus]]\n",
    "\n",
    "\n",
    "#needed modification for building the plot\n",
    "\n",
    "#get each unique source_target and a mapping to their index\n",
    "#unique_source_target = list(pd.unique(sankey_data[['Source', 'Target']].values.ravel('K')))\n",
    "unique_source_target = list(pd.unique(sankey_data[['Source', 'Target', 'Color']].values.ravel('K')))\n",
    "mapping_dict = {k: v for v, k in enumerate(unique_source_target)}\n",
    "sankey_data['Source'] = sankey_data['Source'].map(mapping_dict)\n",
    "sankey_data['Target'] = sankey_data['Target'].map(mapping_dict)\n",
    "sankey_dict = sankey_data.to_dict(orient='list')\n",
    "\n",
    "#setting colours for the nodes\n",
    "node_colours = [organism_colouring.get(i, \"grey\") for i in unique_source_target]\n",
    "\n",
    "#create diagram\n",
    "import plotly.express as px\n",
    "\n",
    "fig = go.Figure(data=[go.Sankey(\n",
    "    orientation = \"h\",\n",
    "    node = dict(\n",
    "      pad = 15,\n",
    "      thickness = 20,\n",
    "      line = dict(color = \"black\", width = 0.5),\n",
    "      label = unique_source_target,\n",
    "      #color = \"grey\"\n",
    "      color = node_colours\n",
    "    ),\n",
    "    link = dict(\n",
    "      source = sankey_dict[\"Source\"],\n",
    "      target = sankey_dict[\"Target\"],\n",
    "      value = sankey_dict[\"Value\"],\n",
    "      color = sankey_dict[\"Color\"]\n",
    "      #color = [px.colors.qualitative.Plotly[unique_source_target.index(i) % len(px.colors.qualitative.Plotly)] for i in unique_source_target]\n",
    "  ))])\n",
    "\n",
    "layout = dict(\n",
    "        title = \"Sankey Diagram for consortia uses\",\n",
    "    height = 850,\n",
    "    font = dict(\n",
    "      size = 8),)\n",
    "\n",
    "#show figure\n",
    "fig.update_layout(layout)\n",
    "fig.show()\n",
    "#fig.write_image(\"plots/sankey_diagram_genus.pdf\")"
   ]
  },
  {
   "cell_type": "code",
   "execution_count": 41,
   "metadata": {},
   "outputs": [],
   "source": [
    "all_substrates = []\n",
    "all_products = []\n",
    "\n",
    "for index, row in df.iterrows():\n",
    "    substrates = row[\"Substrate\"].split(\", \")\n",
    "    products = row[\"Product\"].split(\", \")\n",
    "    all_substrates.extend(substrates)\n",
    "    all_products.extend(products)\n",
    "\n",
    "all_unique_substrates = set(all_substrates)\n",
    "all_unique_products = set(all_products)"
   ]
  },
  {
   "cell_type": "code",
   "execution_count": 122,
   "metadata": {},
   "outputs": [
    {
     "name": "stdout",
     "output_type": "stream",
     "text": [
      "{'Light', 'Xylose', 'Tryptophan', 'Cellulose', 'Lignocellulose', 'CO2', 'Syngas', 'Saccharides', 'VFA_s', 'Wastewater sludge', 'CO', 'Glucose', 'Meat extract', 'Industrial waste', 'Amino acid medium', 'Food waste', 'Glycerol', 'Phenanthrene', 'Methanol_s', 'Starch', 'Sucrose'}\n",
      "{'Antilisterial compounds', '7-methylxanthine', 'L-lysine', 'Fructo-oligosaccharide', 'Caproate', 'Glycosides', 'coniferyl alcohol', 'O-methylated phenylpropanoids', 'MCFA', 'Hydrogen', 'caffeyl alcohol', '3-hydroxypropionic acid', 'Polysaccharide', 'Polyhydroxyalkanoate', 'Bacterial cellulose', 'Indigo', 'Anthocyanins', 'SCFA', '3-hydroxybenzoic acid', 'lovastatin', 'Antibodies', 'Rosmarinic acid', 'Butanol', 'Fumaric acid', 'Microbial proteases', 'Recombinant protein', 'Glucose_p', 'VFA', 'Ethanol', 'Pyranoanthocyanins', 'Itaconic acid', 'P-coumaric acid', 'Methanol_p', 'Electricity', 'Lipopeptides', 'Phenol', 'Biosurfactants', 'Resveratrol', 'Biomass', 'Cercosporin', 'Pharmaceutically active compounds', 'Caffeic acid', 'Vitamins', 'Butyrate', 'Flavonoids', 'Monacolin', 'Glionitrin B', 'Hyaluronic acid nanocomposite', '1,3-Propanediol', 'Propionate', 'PHB', 'Butyl acetate', 'Fatty acid'}\n"
     ]
    }
   ],
   "source": [
    "print(all_unique_substrates)\n",
    "print(all_unique_products)"
   ]
  },
  {
   "cell_type": "code",
   "execution_count": 21,
   "metadata": {},
   "outputs": [],
   "source": [
    "all_df = pd.read_csv(\"all_articles.csv\")\n",
    "\n",
    "all_s = []\n",
    "all_p = []\n",
    "\n",
    "for index, row in all_df.iterrows():\n",
    "    substrates = row[\"Substrate\"].split(\", \")\n",
    "    products = row[\"Product\"].split(\", \")\n",
    "    all_s.extend(substrates)\n",
    "    all_p.extend(products)\n",
    "\n",
    "all_u_s = set(all_s)\n",
    "all_u_p = set(all_p)"
   ]
  },
  {
   "cell_type": "code",
   "execution_count": 129,
   "metadata": {},
   "outputs": [
    {
     "name": "stdout",
     "output_type": "stream",
     "text": [
      "{'Organic waste', 'Ethanol', 'Acetate', 'Crude oil', 'Arabinose', 'Antibiotic fermentation residue', 'Activated sludge', 'Galactose', 'Bovine milk', 'Amino acids', 'Glycerin', 'Sludge compost', 'Fructose', 'Lupin flour', 'Manure compost'}\n",
      "{'Lactate', 'Caproic acid', 'Organic acids', 'Siderophores', 'Hyaluronic acid', 'Bioflocculant', 'Fermented food product', 'Lactic acid', 'Glutamic acid', 'SCCA', 'Methane', 'SCOA'}\n"
     ]
    }
   ],
   "source": [
    "print(all_u_s - all_unique_substrates)\n",
    "print(all_u_p - all_unique_products)"
   ]
  },
  {
   "cell_type": "code",
   "execution_count": 3,
   "metadata": {},
   "outputs": [],
   "source": [
    "substrate_map = {\n",
    "    'Light': 'Light', \n",
    "    'Xylose': 'Sugars', \n",
    "    'Tryptophan': 'Amino acid medium', \n",
    "    'Cellulose': 'Lignocellulose', \n",
    "    'Lignocellulose': 'Lignocellulose', \n",
    "    'CO2': 'Gas', \n",
    "    'Syngas': 'Gas', \n",
    "    'Saccharides': 'Sugars', \n",
    "    'VFA_s': 'Short-chain fatty acids', \n",
    "    'Wastewater sludge': 'Waste', \n",
    "    'CO': 'Gas', \n",
    "    'Glucose': 'Sugars', \n",
    "    'Meat extract': 'Waste', \n",
    "    'Industrial waste': 'Waste', \n",
    "    'Amino acid medium': 'Amino acid medium', \n",
    "    'Food waste': 'Waste', \n",
    "    'Glycerol': 'Alcohols', \n",
    "    'Phenanthrene': 'Other substrate', \n",
    "    'Methanol_s': 'Alcohols', \n",
    "    'Starch': 'Sugars', \n",
    "    'Sucrose': 'Sugars',\n",
    "    'Organic waste': 'Waste', \n",
    "    'Ethanol': 'Alcohols', \n",
    "    'Acetate': 'Short-chain fatty acids', \n",
    "    'Crude oil': 'Crude oil', \n",
    "    'Arabinose': 'Sugars', \n",
    "    'Antibiotic fermentation residue': 'Waste', \n",
    "    'Activated sludge': 'Waste', \n",
    "    'Galactose': 'Sugars', \n",
    "    'Bovine milk': 'Complex media', \n",
    "    'Amino acids': 'Amino acid medium', \n",
    "    'Glycerin': 'Alcohols', \n",
    "    'Sludge compost': 'Waste', \n",
    "    'Fructose': 'Sugars', \n",
    "    'Lupin flour': 'Complex media', \n",
    "    'Manure compost': 'Waste'\n",
    "}"
   ]
  },
  {
   "cell_type": "code",
   "execution_count": 182,
   "metadata": {},
   "outputs": [],
   "source": [
    "product_map_old = {\n",
    "    'Antilisterial compounds': 'Antibiotics', \n",
    "    '7-methylxanthine': 'Pharmaceuticals', \n",
    "    'L-lysine': 'Amino acids', \n",
    "    'Fructo-oligosaccharide': 'Polysaccharides', \n",
    "    'Caproate': 'Carboxylic acids', \n",
    "    'Glycosides': 'Glycosides', \n",
    "    'coniferyl alcohol': 'Phenols', \n",
    "    'O-methylated phenylpropanoids': 'Pharmaceuticals', \n",
    "    'MCFA': 'Carboxylic acids', \n",
    "    'Hydrogen': 'Hydorgen gas', \n",
    "    'caffeyl alcohol': 'Phenols', \n",
    "    '3-hydroxypropionic acid': 'Carboxylic acids', \n",
    "    'Polysaccharide': 'Polysaccharides', \n",
    "    'Polyhydroxyalkanoate': 'Polyester polymers', \n",
    "    'Bacterial cellulose': 'Cellulose', \n",
    "    'Indigo': 'Dye', \n",
    "    'Anthocyanins': 'Pigments', \n",
    "    'SCFA': 'Carboxylic acids', \n",
    "    '3-hydroxybenzoic acid': 'Phenols', \n",
    "    'lovastatin': 'Pharmaceuticals', \n",
    "    'Antibodies': 'Proteins', \n",
    "    'Rosmarinic acid': 'Phenols', \n",
    "    'Butanol': 'Primary alcohols', \n",
    "    'Fumaric acid': 'Carboxylic acids', \n",
    "    'Microbial proteases': 'Proteins', \n",
    "    'Recombinant protein': 'Proteins', \n",
    "    'Glucose_p': 'Metabolites to support growth', \n",
    "    'VFA': 'Carboxylic acids', \n",
    "    'Ethanol': 'Primary alcohols', \n",
    "    'Pyranoanthocyanins': 'Phenols', \n",
    "    'Itaconic acid': 'Carboxylic acids', \n",
    "    'P-coumaric acid': 'Carboxylic acids', \n",
    "    'Methanol_p': 'Primary alcohols', \n",
    "    'Electricity': 'Electricity', \n",
    "    'Lipopeptides': 'Proteins', \n",
    "    'Phenol': 'Phenols', \n",
    "    'Biosurfactants': 'Surfactants', \n",
    "    'Resveratrol': 'Phenols', \n",
    "    'Biomass': 'Biomass', \n",
    "    'Cercosporin': 'Pharmaceuticals', \n",
    "    'Pharmaceutically active compounds': 'Pharmaceuticals', \n",
    "    'Caffeic acid': 'Phenols', \n",
    "    'Vitamins': 'Metabolites to support growth', \n",
    "    'Butyrate': 'Carboxylic acids', \n",
    "    'Flavonoids': 'Phenols', \n",
    "    'Monacolin': 'Pharmaceuticals', \n",
    "    'Glionitrin B': 'Pharmaceuticals', \n",
    "    'Hyaluronic acid': 'Pharmaceuticals', \n",
    "    '1,3-Propanediol': 'Glycols', \n",
    "    'Propionate': 'Carboxylic acids', \n",
    "    'PHB': 'Polyester polymers', \n",
    "    'Butyl acetate': 'Carboxylic esters', \n",
    "    'Fatty acid': 'Carboxylic acids',\n",
    "    'Lactate': 'Carboxylic acids', \n",
    "    'Caproic acid': 'Carboxylic acids', \n",
    "    'Organic acids': 'Carboxylic acids', \n",
    "    'Siderophores': 'Bacterial extracellular compounds', \n",
    "    'Bioflocculant': 'Bacterial extracellular compounds', \n",
    "    'Fermented food product': 'Fermented food products', \n",
    "    'Lactic acid': 'Carboxylic acids',  \n",
    "    'Glutamic acid': 'Amino acids', \n",
    "    'SCCA': 'Carboxylic acids', \n",
    "    'Methane': 'Methane', \n",
    "    'SCOA': 'Carboxylic acids'}"
   ]
  },
  {
   "cell_type": "code",
   "execution_count": 4,
   "metadata": {},
   "outputs": [],
   "source": [
    "product_map = {\n",
    "    'Antilisterial compounds': 'Antibiotics', \n",
    "    '7-methylxanthine': 'Pharmaceuticals', \n",
    "    'L-lysine': 'Amino acids', \n",
    "    'Fructo-oligosaccharide': 'Polysaccharides', \n",
    "    'Caproate': 'Carboxylic acids and esters', \n",
    "    'Glycosides': 'Other', \n",
    "    'coniferyl alcohol': 'Phenols', \n",
    "    'O-methylated phenylpropanoids': 'Pharmaceuticals', \n",
    "    'MCFA': 'Carboxylic acids and esters', \n",
    "    'Hydrogen': 'Hydorgen gas', \n",
    "    'caffeyl alcohol': 'Phenols', \n",
    "    '3-hydroxypropionic acid': 'Carboxylic acids and esters', \n",
    "    'Polysaccharide': 'Polysaccharides', \n",
    "    'Polyhydroxyalkanoate': 'Polyester polymers', \n",
    "    'Bacterial cellulose': 'Cellulose', \n",
    "    'Indigo': 'Dyes and pigments', \n",
    "    'Anthocyanins': 'Dyes and pigments', \n",
    "    'SCFA': 'Carboxylic acids and esters', \n",
    "    '3-hydroxybenzoic acid': 'Phenols', \n",
    "    'lovastatin': 'Pharmaceuticals', \n",
    "    'Antibodies': 'Proteins', \n",
    "    'Rosmarinic acid': 'Phenols', \n",
    "    'Butanol': 'Primary alcohols', \n",
    "    'Fumaric acid': 'Carboxylic acids and esters', \n",
    "    'Microbial proteases': 'Proteins', \n",
    "    'Recombinant protein': 'Proteins', \n",
    "    'Glucose_p': 'Metabolites to support growth', \n",
    "    'VFA': 'Carboxylic acids and esters', \n",
    "    'Ethanol': 'Primary alcohols', \n",
    "    'Pyranoanthocyanins': 'Phenols', \n",
    "    'Itaconic acid': 'Carboxylic acids and esters', \n",
    "    'P-coumaric acid': 'Carboxylic acids and esters', \n",
    "    'Methanol_p': 'Primary alcohols', \n",
    "    'Electricity': 'Electricity', \n",
    "    'Lipopeptides': 'Proteins', \n",
    "    'Phenol': 'Phenols', \n",
    "    'Biosurfactants': 'Other', \n",
    "    'Resveratrol': 'Phenols', \n",
    "    'Biomass': 'Biomass', \n",
    "    'Cercosporin': 'Pharmaceuticals', \n",
    "    'Pharmaceutically active compounds': 'Pharmaceuticals', \n",
    "    'Caffeic acid': 'Phenols', \n",
    "    'Vitamins': 'Metabolites to support growth', \n",
    "    'Butyrate': 'Carboxylic acids and esters', \n",
    "    'Flavonoids': 'Phenols', \n",
    "    'Monacolin': 'Pharmaceuticals', \n",
    "    'Glionitrin B': 'Pharmaceuticals', \n",
    "    'Hyaluronic acid': 'Pharmaceuticals', \n",
    "    '1,3-Propanediol': 'Glycols', \n",
    "    'Propionate': 'Carboxylic acids and esters', \n",
    "    'PHB': 'Polyester polymers', \n",
    "    'Butyl acetate': 'Carboxylic acids and esters', \n",
    "    'Fatty acid': 'Carboxylic acids and esters',\n",
    "    'Lactate': 'Carboxylic acids and esters', \n",
    "    'Caproic acid': 'Carboxylic acids and esters', \n",
    "    'Organic acids': 'Carboxylic acids and esters', \n",
    "    'Siderophores': 'Bacterial extracellular compounds', \n",
    "    'Bioflocculant': 'Bacterial extracellular compounds', \n",
    "    'Fermented food product': 'Fermented food products', \n",
    "    'Lactic acid': 'Carboxylic acids and esters',  \n",
    "    'Glutamic acid': 'Amino acids', \n",
    "    'SCCA': 'Carboxylic acids and esters', \n",
    "    'Methane': 'Methane', \n",
    "    'SCOA': 'Carboxylic acids and esters'}"
   ]
  },
  {
   "cell_type": "code",
   "execution_count": 5,
   "metadata": {},
   "outputs": [],
   "source": [
    "#sankey visualisation of mapping to share with Daniel\n",
    "import plotly.graph_objects as go\n",
    "\n",
    "def SankeyVisualisation(d):\n",
    "  # Get unique nodes and their indices\n",
    "  nodes = list(set(list(d.keys()) + list(d.values())))\n",
    "  node_indices = {node: i for i, node in enumerate(nodes)}\n",
    "\n",
    "  # Define link sources and targets\n",
    "  link_sources = [node_indices[key] for key in d.keys()]\n",
    "  link_targets = [node_indices[value] for value in d.values()]\n",
    "\n",
    "  # Define link values\n",
    "  link_values = [1]*len(d)\n",
    "\n",
    "  fig = go.Figure(data=[go.Sankey(\n",
    "      #orientation = \"h\",\n",
    "      node = dict(\n",
    "        pad = 15,\n",
    "        thickness = 40,\n",
    "        line = dict(color = \"black\", width = 0.5),\n",
    "        label = nodes\n",
    "      ),\n",
    "      link = dict(\n",
    "      arrowlen=20,\n",
    "        source = link_sources,\n",
    "        target = link_targets,\n",
    "        value = link_values\n",
    "    ))])\n",
    "\n",
    "  layout = dict(\n",
    "      #title = \"Substrate mapping\",\n",
    "      height = 1000,\n",
    "      font = dict(\n",
    "      size = 15),)\n",
    "\n",
    "  #show figure\n",
    "  fig.update_layout(layout)\n",
    "  fig.show()\n"
   ]
  },
  {
   "cell_type": "code",
   "execution_count": 23,
   "metadata": {},
   "outputs": [
    {
     "data": {
      "application/vnd.plotly.v1+json": {
       "config": {
        "plotlyServerURL": "https://plot.ly"
       },
       "data": [
        {
         "link": {
          "arrowlen": 20,
          "source": [
           34,
           24,
           27,
           39,
           9,
           20,
           26,
           30,
           42,
           14,
           4,
           2,
           16,
           1,
           0,
           32,
           25,
           10,
           8,
           28,
           40,
           35,
           37,
           13,
           15,
           21,
           31,
           41,
           29,
           17,
           3,
           5,
           19,
           38,
           33,
           23
          ],
          "target": [
           34,
           6,
           0,
           9,
           9,
           12,
           12,
           6,
           7,
           11,
           12,
           6,
           11,
           11,
           0,
           11,
           18,
           22,
           18,
           6,
           6,
           11,
           18,
           7,
           15,
           6,
           11,
           11,
           6,
           36,
           0,
           18,
           11,
           6,
           36,
           11
          ],
          "value": [
           1,
           1,
           1,
           1,
           1,
           1,
           1,
           1,
           1,
           1,
           1,
           1,
           1,
           1,
           1,
           1,
           1,
           1,
           1,
           1,
           1,
           1,
           1,
           1,
           1,
           1,
           1,
           1,
           1,
           1,
           1,
           1,
           1,
           1,
           1,
           1
          ]
         },
         "node": {
          "label": [
           "Amino acid medium",
           "Industrial waste",
           "Glucose",
           "Amino acids",
           "CO",
           "Glycerin",
           "Sugars",
           "Short-chain fatty acids",
           "Methanol_s",
           "Lignocellulose",
           "Phenanthrene",
           "Waste",
           "Gas",
           "Acetate",
           "Wastewater sludge",
           "Crude oil",
           "Meat extract",
           "Bovine milk",
           "Alcohols",
           "Sludge compost",
           "CO2",
           "Arabinose",
           "Other substrate",
           "Manure compost",
           "Xylose",
           "Glycerol",
           "Syngas",
           "Tryptophan",
           "Starch",
           "Galactose",
           "Saccharides",
           "Antibiotic fermentation residue",
           "Food waste",
           "Lupin flour",
           "Light",
           "Organic waste",
           "Complex media",
           "Ethanol",
           "Fructose",
           "Cellulose",
           "Sucrose",
           "Activated sludge",
           "VFA_s"
          ],
          "line": {
           "color": "black",
           "width": 0.5
          },
          "pad": 15,
          "thickness": 40
         },
         "type": "sankey"
        }
       ],
       "layout": {
        "font": {
         "size": 15
        },
        "height": 1000,
        "template": {
         "data": {
          "bar": [
           {
            "error_x": {
             "color": "#2a3f5f"
            },
            "error_y": {
             "color": "#2a3f5f"
            },
            "marker": {
             "line": {
              "color": "#E5ECF6",
              "width": 0.5
             },
             "pattern": {
              "fillmode": "overlay",
              "size": 10,
              "solidity": 0.2
             }
            },
            "type": "bar"
           }
          ],
          "barpolar": [
           {
            "marker": {
             "line": {
              "color": "#E5ECF6",
              "width": 0.5
             },
             "pattern": {
              "fillmode": "overlay",
              "size": 10,
              "solidity": 0.2
             }
            },
            "type": "barpolar"
           }
          ],
          "carpet": [
           {
            "aaxis": {
             "endlinecolor": "#2a3f5f",
             "gridcolor": "white",
             "linecolor": "white",
             "minorgridcolor": "white",
             "startlinecolor": "#2a3f5f"
            },
            "baxis": {
             "endlinecolor": "#2a3f5f",
             "gridcolor": "white",
             "linecolor": "white",
             "minorgridcolor": "white",
             "startlinecolor": "#2a3f5f"
            },
            "type": "carpet"
           }
          ],
          "choropleth": [
           {
            "colorbar": {
             "outlinewidth": 0,
             "ticks": ""
            },
            "type": "choropleth"
           }
          ],
          "contour": [
           {
            "colorbar": {
             "outlinewidth": 0,
             "ticks": ""
            },
            "colorscale": [
             [
              0,
              "#0d0887"
             ],
             [
              0.1111111111111111,
              "#46039f"
             ],
             [
              0.2222222222222222,
              "#7201a8"
             ],
             [
              0.3333333333333333,
              "#9c179e"
             ],
             [
              0.4444444444444444,
              "#bd3786"
             ],
             [
              0.5555555555555556,
              "#d8576b"
             ],
             [
              0.6666666666666666,
              "#ed7953"
             ],
             [
              0.7777777777777778,
              "#fb9f3a"
             ],
             [
              0.8888888888888888,
              "#fdca26"
             ],
             [
              1,
              "#f0f921"
             ]
            ],
            "type": "contour"
           }
          ],
          "contourcarpet": [
           {
            "colorbar": {
             "outlinewidth": 0,
             "ticks": ""
            },
            "type": "contourcarpet"
           }
          ],
          "heatmap": [
           {
            "colorbar": {
             "outlinewidth": 0,
             "ticks": ""
            },
            "colorscale": [
             [
              0,
              "#0d0887"
             ],
             [
              0.1111111111111111,
              "#46039f"
             ],
             [
              0.2222222222222222,
              "#7201a8"
             ],
             [
              0.3333333333333333,
              "#9c179e"
             ],
             [
              0.4444444444444444,
              "#bd3786"
             ],
             [
              0.5555555555555556,
              "#d8576b"
             ],
             [
              0.6666666666666666,
              "#ed7953"
             ],
             [
              0.7777777777777778,
              "#fb9f3a"
             ],
             [
              0.8888888888888888,
              "#fdca26"
             ],
             [
              1,
              "#f0f921"
             ]
            ],
            "type": "heatmap"
           }
          ],
          "heatmapgl": [
           {
            "colorbar": {
             "outlinewidth": 0,
             "ticks": ""
            },
            "colorscale": [
             [
              0,
              "#0d0887"
             ],
             [
              0.1111111111111111,
              "#46039f"
             ],
             [
              0.2222222222222222,
              "#7201a8"
             ],
             [
              0.3333333333333333,
              "#9c179e"
             ],
             [
              0.4444444444444444,
              "#bd3786"
             ],
             [
              0.5555555555555556,
              "#d8576b"
             ],
             [
              0.6666666666666666,
              "#ed7953"
             ],
             [
              0.7777777777777778,
              "#fb9f3a"
             ],
             [
              0.8888888888888888,
              "#fdca26"
             ],
             [
              1,
              "#f0f921"
             ]
            ],
            "type": "heatmapgl"
           }
          ],
          "histogram": [
           {
            "marker": {
             "pattern": {
              "fillmode": "overlay",
              "size": 10,
              "solidity": 0.2
             }
            },
            "type": "histogram"
           }
          ],
          "histogram2d": [
           {
            "colorbar": {
             "outlinewidth": 0,
             "ticks": ""
            },
            "colorscale": [
             [
              0,
              "#0d0887"
             ],
             [
              0.1111111111111111,
              "#46039f"
             ],
             [
              0.2222222222222222,
              "#7201a8"
             ],
             [
              0.3333333333333333,
              "#9c179e"
             ],
             [
              0.4444444444444444,
              "#bd3786"
             ],
             [
              0.5555555555555556,
              "#d8576b"
             ],
             [
              0.6666666666666666,
              "#ed7953"
             ],
             [
              0.7777777777777778,
              "#fb9f3a"
             ],
             [
              0.8888888888888888,
              "#fdca26"
             ],
             [
              1,
              "#f0f921"
             ]
            ],
            "type": "histogram2d"
           }
          ],
          "histogram2dcontour": [
           {
            "colorbar": {
             "outlinewidth": 0,
             "ticks": ""
            },
            "colorscale": [
             [
              0,
              "#0d0887"
             ],
             [
              0.1111111111111111,
              "#46039f"
             ],
             [
              0.2222222222222222,
              "#7201a8"
             ],
             [
              0.3333333333333333,
              "#9c179e"
             ],
             [
              0.4444444444444444,
              "#bd3786"
             ],
             [
              0.5555555555555556,
              "#d8576b"
             ],
             [
              0.6666666666666666,
              "#ed7953"
             ],
             [
              0.7777777777777778,
              "#fb9f3a"
             ],
             [
              0.8888888888888888,
              "#fdca26"
             ],
             [
              1,
              "#f0f921"
             ]
            ],
            "type": "histogram2dcontour"
           }
          ],
          "mesh3d": [
           {
            "colorbar": {
             "outlinewidth": 0,
             "ticks": ""
            },
            "type": "mesh3d"
           }
          ],
          "parcoords": [
           {
            "line": {
             "colorbar": {
              "outlinewidth": 0,
              "ticks": ""
             }
            },
            "type": "parcoords"
           }
          ],
          "pie": [
           {
            "automargin": true,
            "type": "pie"
           }
          ],
          "scatter": [
           {
            "fillpattern": {
             "fillmode": "overlay",
             "size": 10,
             "solidity": 0.2
            },
            "type": "scatter"
           }
          ],
          "scatter3d": [
           {
            "line": {
             "colorbar": {
              "outlinewidth": 0,
              "ticks": ""
             }
            },
            "marker": {
             "colorbar": {
              "outlinewidth": 0,
              "ticks": ""
             }
            },
            "type": "scatter3d"
           }
          ],
          "scattercarpet": [
           {
            "marker": {
             "colorbar": {
              "outlinewidth": 0,
              "ticks": ""
             }
            },
            "type": "scattercarpet"
           }
          ],
          "scattergeo": [
           {
            "marker": {
             "colorbar": {
              "outlinewidth": 0,
              "ticks": ""
             }
            },
            "type": "scattergeo"
           }
          ],
          "scattergl": [
           {
            "marker": {
             "colorbar": {
              "outlinewidth": 0,
              "ticks": ""
             }
            },
            "type": "scattergl"
           }
          ],
          "scattermapbox": [
           {
            "marker": {
             "colorbar": {
              "outlinewidth": 0,
              "ticks": ""
             }
            },
            "type": "scattermapbox"
           }
          ],
          "scatterpolar": [
           {
            "marker": {
             "colorbar": {
              "outlinewidth": 0,
              "ticks": ""
             }
            },
            "type": "scatterpolar"
           }
          ],
          "scatterpolargl": [
           {
            "marker": {
             "colorbar": {
              "outlinewidth": 0,
              "ticks": ""
             }
            },
            "type": "scatterpolargl"
           }
          ],
          "scatterternary": [
           {
            "marker": {
             "colorbar": {
              "outlinewidth": 0,
              "ticks": ""
             }
            },
            "type": "scatterternary"
           }
          ],
          "surface": [
           {
            "colorbar": {
             "outlinewidth": 0,
             "ticks": ""
            },
            "colorscale": [
             [
              0,
              "#0d0887"
             ],
             [
              0.1111111111111111,
              "#46039f"
             ],
             [
              0.2222222222222222,
              "#7201a8"
             ],
             [
              0.3333333333333333,
              "#9c179e"
             ],
             [
              0.4444444444444444,
              "#bd3786"
             ],
             [
              0.5555555555555556,
              "#d8576b"
             ],
             [
              0.6666666666666666,
              "#ed7953"
             ],
             [
              0.7777777777777778,
              "#fb9f3a"
             ],
             [
              0.8888888888888888,
              "#fdca26"
             ],
             [
              1,
              "#f0f921"
             ]
            ],
            "type": "surface"
           }
          ],
          "table": [
           {
            "cells": {
             "fill": {
              "color": "#EBF0F8"
             },
             "line": {
              "color": "white"
             }
            },
            "header": {
             "fill": {
              "color": "#C8D4E3"
             },
             "line": {
              "color": "white"
             }
            },
            "type": "table"
           }
          ]
         },
         "layout": {
          "annotationdefaults": {
           "arrowcolor": "#2a3f5f",
           "arrowhead": 0,
           "arrowwidth": 1
          },
          "autotypenumbers": "strict",
          "coloraxis": {
           "colorbar": {
            "outlinewidth": 0,
            "ticks": ""
           }
          },
          "colorscale": {
           "diverging": [
            [
             0,
             "#8e0152"
            ],
            [
             0.1,
             "#c51b7d"
            ],
            [
             0.2,
             "#de77ae"
            ],
            [
             0.3,
             "#f1b6da"
            ],
            [
             0.4,
             "#fde0ef"
            ],
            [
             0.5,
             "#f7f7f7"
            ],
            [
             0.6,
             "#e6f5d0"
            ],
            [
             0.7,
             "#b8e186"
            ],
            [
             0.8,
             "#7fbc41"
            ],
            [
             0.9,
             "#4d9221"
            ],
            [
             1,
             "#276419"
            ]
           ],
           "sequential": [
            [
             0,
             "#0d0887"
            ],
            [
             0.1111111111111111,
             "#46039f"
            ],
            [
             0.2222222222222222,
             "#7201a8"
            ],
            [
             0.3333333333333333,
             "#9c179e"
            ],
            [
             0.4444444444444444,
             "#bd3786"
            ],
            [
             0.5555555555555556,
             "#d8576b"
            ],
            [
             0.6666666666666666,
             "#ed7953"
            ],
            [
             0.7777777777777778,
             "#fb9f3a"
            ],
            [
             0.8888888888888888,
             "#fdca26"
            ],
            [
             1,
             "#f0f921"
            ]
           ],
           "sequentialminus": [
            [
             0,
             "#0d0887"
            ],
            [
             0.1111111111111111,
             "#46039f"
            ],
            [
             0.2222222222222222,
             "#7201a8"
            ],
            [
             0.3333333333333333,
             "#9c179e"
            ],
            [
             0.4444444444444444,
             "#bd3786"
            ],
            [
             0.5555555555555556,
             "#d8576b"
            ],
            [
             0.6666666666666666,
             "#ed7953"
            ],
            [
             0.7777777777777778,
             "#fb9f3a"
            ],
            [
             0.8888888888888888,
             "#fdca26"
            ],
            [
             1,
             "#f0f921"
            ]
           ]
          },
          "colorway": [
           "#636efa",
           "#EF553B",
           "#00cc96",
           "#ab63fa",
           "#FFA15A",
           "#19d3f3",
           "#FF6692",
           "#B6E880",
           "#FF97FF",
           "#FECB52"
          ],
          "font": {
           "color": "#2a3f5f"
          },
          "geo": {
           "bgcolor": "white",
           "lakecolor": "white",
           "landcolor": "#E5ECF6",
           "showlakes": true,
           "showland": true,
           "subunitcolor": "white"
          },
          "hoverlabel": {
           "align": "left"
          },
          "hovermode": "closest",
          "mapbox": {
           "style": "light"
          },
          "paper_bgcolor": "white",
          "plot_bgcolor": "#E5ECF6",
          "polar": {
           "angularaxis": {
            "gridcolor": "white",
            "linecolor": "white",
            "ticks": ""
           },
           "bgcolor": "#E5ECF6",
           "radialaxis": {
            "gridcolor": "white",
            "linecolor": "white",
            "ticks": ""
           }
          },
          "scene": {
           "xaxis": {
            "backgroundcolor": "#E5ECF6",
            "gridcolor": "white",
            "gridwidth": 2,
            "linecolor": "white",
            "showbackground": true,
            "ticks": "",
            "zerolinecolor": "white"
           },
           "yaxis": {
            "backgroundcolor": "#E5ECF6",
            "gridcolor": "white",
            "gridwidth": 2,
            "linecolor": "white",
            "showbackground": true,
            "ticks": "",
            "zerolinecolor": "white"
           },
           "zaxis": {
            "backgroundcolor": "#E5ECF6",
            "gridcolor": "white",
            "gridwidth": 2,
            "linecolor": "white",
            "showbackground": true,
            "ticks": "",
            "zerolinecolor": "white"
           }
          },
          "shapedefaults": {
           "line": {
            "color": "#2a3f5f"
           }
          },
          "ternary": {
           "aaxis": {
            "gridcolor": "white",
            "linecolor": "white",
            "ticks": ""
           },
           "baxis": {
            "gridcolor": "white",
            "linecolor": "white",
            "ticks": ""
           },
           "bgcolor": "#E5ECF6",
           "caxis": {
            "gridcolor": "white",
            "linecolor": "white",
            "ticks": ""
           }
          },
          "title": {
           "x": 0.05
          },
          "xaxis": {
           "automargin": true,
           "gridcolor": "white",
           "linecolor": "white",
           "ticks": "",
           "title": {
            "standoff": 15
           },
           "zerolinecolor": "white",
           "zerolinewidth": 2
          },
          "yaxis": {
           "automargin": true,
           "gridcolor": "white",
           "linecolor": "white",
           "ticks": "",
           "title": {
            "standoff": 15
           },
           "zerolinecolor": "white",
           "zerolinewidth": 2
          }
         }
        }
       }
      }
     },
     "metadata": {},
     "output_type": "display_data"
    },
    {
     "data": {
      "application/vnd.plotly.v1+json": {
       "config": {
        "plotlyServerURL": "https://plot.ly"
       },
       "data": [
        {
         "link": {
          "arrowlen": 20,
          "source": [
           0,
           76,
           26,
           54,
           46,
           35,
           10,
           67,
           36,
           65,
           32,
           69,
           50,
           74,
           52,
           79,
           29,
           41,
           71,
           28,
           78,
           72,
           42,
           51,
           56,
           66,
           2,
           20,
           80,
           8,
           12,
           39,
           5,
           16,
           70,
           45,
           49,
           7,
           43,
           19,
           44,
           62,
           64,
           15,
           11,
           53,
           22,
           24,
           75,
           63,
           59,
           4,
           30,
           68,
           60,
           31,
           77,
           57,
           25,
           55,
           73,
           23,
           37,
           40
          ],
          "target": [
           38,
           6,
           58,
           17,
           1,
           13,
           27,
           6,
           1,
           14,
           27,
           1,
           17,
           48,
           18,
           61,
           61,
           1,
           27,
           6,
           21,
           27,
           9,
           1,
           21,
           21,
           3,
           1,
           9,
           27,
           1,
           1,
           9,
           16,
           21,
           27,
           13,
           27,
           43,
           6,
           6,
           27,
           3,
           1,
           27,
           6,
           6,
           6,
           47,
           1,
           48,
           1,
           1,
           1,
           1,
           1,
           34,
           34,
           33,
           1,
           58,
           1,
           37,
           1
          ],
          "value": [
           1,
           1,
           1,
           1,
           1,
           1,
           1,
           1,
           1,
           1,
           1,
           1,
           1,
           1,
           1,
           1,
           1,
           1,
           1,
           1,
           1,
           1,
           1,
           1,
           1,
           1,
           1,
           1,
           1,
           1,
           1,
           1,
           1,
           1,
           1,
           1,
           1,
           1,
           1,
           1,
           1,
           1,
           1,
           1,
           1,
           1,
           1,
           1,
           1,
           1,
           1,
           1,
           1,
           1,
           1,
           1,
           1,
           1,
           1,
           1,
           1,
           1,
           1,
           1
          ]
         },
         "node": {
          "label": [
           "Antilisterial compounds",
           "Carboxylic acids and esters",
           "Glucose_p",
           "Metabolites to support growth",
           "Butyl acetate",
           "Methanol_p",
           "Pharmaceuticals",
           "Resveratrol",
           "Pyranoanthocyanins",
           "Primary alcohols",
           "coniferyl alcohol",
           "Flavonoids",
           "Itaconic acid",
           "Other",
           "Hydorgen gas",
           "Butyrate",
           "Electricity",
           "Polysaccharides",
           "Cellulose",
           "Cercosporin",
           "VFA",
           "Proteins",
           "Glionitrin B",
           "SCCA",
           "Hyaluronic acid",
           "Fermented food product",
           "L-lysine",
           "Phenols",
           "lovastatin",
           "Anthocyanins",
           "Fatty acid",
           "Organic acids",
           "caffeyl alcohol",
           "Fermented food products",
           "Bacterial extracellular compounds",
           "Glycosides",
           "MCFA",
           "Methane",
           "Antibiotics",
           "P-coumaric acid",
           "SCOA",
           "SCFA",
           "Butanol",
           "Biomass",
           "Pharmaceutically active compounds",
           "Phenol",
           "Caproate",
           "Glycols",
           "Polyester polymers",
           "Biosurfactants",
           "Polysaccharide",
           "Fumaric acid",
           "Bacterial cellulose",
           "Monacolin",
           "Fructo-oligosaccharide",
           "Lactic acid",
           "Microbial proteases",
           "Bioflocculant",
           "Amino acids",
           "PHB",
           "Caproic acid",
           "Dyes and pigments",
           "Caffeic acid",
           "Propionate",
           "Vitamins",
           "Hydrogen",
           "Recombinant protein",
           "O-methylated phenylpropanoids",
           "Lactate",
           "3-hydroxypropionic acid",
           "Lipopeptides",
           "3-hydroxybenzoic acid",
           "Rosmarinic acid",
           "Glutamic acid",
           "Polyhydroxyalkanoate",
           "1,3-Propanediol",
           "7-methylxanthine",
           "Siderophores",
           "Antibodies",
           "Indigo",
           "Ethanol"
          ],
          "line": {
           "color": "black",
           "width": 0.5
          },
          "pad": 15,
          "thickness": 40
         },
         "type": "sankey"
        }
       ],
       "layout": {
        "font": {
         "size": 15
        },
        "height": 1000,
        "template": {
         "data": {
          "bar": [
           {
            "error_x": {
             "color": "#2a3f5f"
            },
            "error_y": {
             "color": "#2a3f5f"
            },
            "marker": {
             "line": {
              "color": "#E5ECF6",
              "width": 0.5
             },
             "pattern": {
              "fillmode": "overlay",
              "size": 10,
              "solidity": 0.2
             }
            },
            "type": "bar"
           }
          ],
          "barpolar": [
           {
            "marker": {
             "line": {
              "color": "#E5ECF6",
              "width": 0.5
             },
             "pattern": {
              "fillmode": "overlay",
              "size": 10,
              "solidity": 0.2
             }
            },
            "type": "barpolar"
           }
          ],
          "carpet": [
           {
            "aaxis": {
             "endlinecolor": "#2a3f5f",
             "gridcolor": "white",
             "linecolor": "white",
             "minorgridcolor": "white",
             "startlinecolor": "#2a3f5f"
            },
            "baxis": {
             "endlinecolor": "#2a3f5f",
             "gridcolor": "white",
             "linecolor": "white",
             "minorgridcolor": "white",
             "startlinecolor": "#2a3f5f"
            },
            "type": "carpet"
           }
          ],
          "choropleth": [
           {
            "colorbar": {
             "outlinewidth": 0,
             "ticks": ""
            },
            "type": "choropleth"
           }
          ],
          "contour": [
           {
            "colorbar": {
             "outlinewidth": 0,
             "ticks": ""
            },
            "colorscale": [
             [
              0,
              "#0d0887"
             ],
             [
              0.1111111111111111,
              "#46039f"
             ],
             [
              0.2222222222222222,
              "#7201a8"
             ],
             [
              0.3333333333333333,
              "#9c179e"
             ],
             [
              0.4444444444444444,
              "#bd3786"
             ],
             [
              0.5555555555555556,
              "#d8576b"
             ],
             [
              0.6666666666666666,
              "#ed7953"
             ],
             [
              0.7777777777777778,
              "#fb9f3a"
             ],
             [
              0.8888888888888888,
              "#fdca26"
             ],
             [
              1,
              "#f0f921"
             ]
            ],
            "type": "contour"
           }
          ],
          "contourcarpet": [
           {
            "colorbar": {
             "outlinewidth": 0,
             "ticks": ""
            },
            "type": "contourcarpet"
           }
          ],
          "heatmap": [
           {
            "colorbar": {
             "outlinewidth": 0,
             "ticks": ""
            },
            "colorscale": [
             [
              0,
              "#0d0887"
             ],
             [
              0.1111111111111111,
              "#46039f"
             ],
             [
              0.2222222222222222,
              "#7201a8"
             ],
             [
              0.3333333333333333,
              "#9c179e"
             ],
             [
              0.4444444444444444,
              "#bd3786"
             ],
             [
              0.5555555555555556,
              "#d8576b"
             ],
             [
              0.6666666666666666,
              "#ed7953"
             ],
             [
              0.7777777777777778,
              "#fb9f3a"
             ],
             [
              0.8888888888888888,
              "#fdca26"
             ],
             [
              1,
              "#f0f921"
             ]
            ],
            "type": "heatmap"
           }
          ],
          "heatmapgl": [
           {
            "colorbar": {
             "outlinewidth": 0,
             "ticks": ""
            },
            "colorscale": [
             [
              0,
              "#0d0887"
             ],
             [
              0.1111111111111111,
              "#46039f"
             ],
             [
              0.2222222222222222,
              "#7201a8"
             ],
             [
              0.3333333333333333,
              "#9c179e"
             ],
             [
              0.4444444444444444,
              "#bd3786"
             ],
             [
              0.5555555555555556,
              "#d8576b"
             ],
             [
              0.6666666666666666,
              "#ed7953"
             ],
             [
              0.7777777777777778,
              "#fb9f3a"
             ],
             [
              0.8888888888888888,
              "#fdca26"
             ],
             [
              1,
              "#f0f921"
             ]
            ],
            "type": "heatmapgl"
           }
          ],
          "histogram": [
           {
            "marker": {
             "pattern": {
              "fillmode": "overlay",
              "size": 10,
              "solidity": 0.2
             }
            },
            "type": "histogram"
           }
          ],
          "histogram2d": [
           {
            "colorbar": {
             "outlinewidth": 0,
             "ticks": ""
            },
            "colorscale": [
             [
              0,
              "#0d0887"
             ],
             [
              0.1111111111111111,
              "#46039f"
             ],
             [
              0.2222222222222222,
              "#7201a8"
             ],
             [
              0.3333333333333333,
              "#9c179e"
             ],
             [
              0.4444444444444444,
              "#bd3786"
             ],
             [
              0.5555555555555556,
              "#d8576b"
             ],
             [
              0.6666666666666666,
              "#ed7953"
             ],
             [
              0.7777777777777778,
              "#fb9f3a"
             ],
             [
              0.8888888888888888,
              "#fdca26"
             ],
             [
              1,
              "#f0f921"
             ]
            ],
            "type": "histogram2d"
           }
          ],
          "histogram2dcontour": [
           {
            "colorbar": {
             "outlinewidth": 0,
             "ticks": ""
            },
            "colorscale": [
             [
              0,
              "#0d0887"
             ],
             [
              0.1111111111111111,
              "#46039f"
             ],
             [
              0.2222222222222222,
              "#7201a8"
             ],
             [
              0.3333333333333333,
              "#9c179e"
             ],
             [
              0.4444444444444444,
              "#bd3786"
             ],
             [
              0.5555555555555556,
              "#d8576b"
             ],
             [
              0.6666666666666666,
              "#ed7953"
             ],
             [
              0.7777777777777778,
              "#fb9f3a"
             ],
             [
              0.8888888888888888,
              "#fdca26"
             ],
             [
              1,
              "#f0f921"
             ]
            ],
            "type": "histogram2dcontour"
           }
          ],
          "mesh3d": [
           {
            "colorbar": {
             "outlinewidth": 0,
             "ticks": ""
            },
            "type": "mesh3d"
           }
          ],
          "parcoords": [
           {
            "line": {
             "colorbar": {
              "outlinewidth": 0,
              "ticks": ""
             }
            },
            "type": "parcoords"
           }
          ],
          "pie": [
           {
            "automargin": true,
            "type": "pie"
           }
          ],
          "scatter": [
           {
            "fillpattern": {
             "fillmode": "overlay",
             "size": 10,
             "solidity": 0.2
            },
            "type": "scatter"
           }
          ],
          "scatter3d": [
           {
            "line": {
             "colorbar": {
              "outlinewidth": 0,
              "ticks": ""
             }
            },
            "marker": {
             "colorbar": {
              "outlinewidth": 0,
              "ticks": ""
             }
            },
            "type": "scatter3d"
           }
          ],
          "scattercarpet": [
           {
            "marker": {
             "colorbar": {
              "outlinewidth": 0,
              "ticks": ""
             }
            },
            "type": "scattercarpet"
           }
          ],
          "scattergeo": [
           {
            "marker": {
             "colorbar": {
              "outlinewidth": 0,
              "ticks": ""
             }
            },
            "type": "scattergeo"
           }
          ],
          "scattergl": [
           {
            "marker": {
             "colorbar": {
              "outlinewidth": 0,
              "ticks": ""
             }
            },
            "type": "scattergl"
           }
          ],
          "scattermapbox": [
           {
            "marker": {
             "colorbar": {
              "outlinewidth": 0,
              "ticks": ""
             }
            },
            "type": "scattermapbox"
           }
          ],
          "scatterpolar": [
           {
            "marker": {
             "colorbar": {
              "outlinewidth": 0,
              "ticks": ""
             }
            },
            "type": "scatterpolar"
           }
          ],
          "scatterpolargl": [
           {
            "marker": {
             "colorbar": {
              "outlinewidth": 0,
              "ticks": ""
             }
            },
            "type": "scatterpolargl"
           }
          ],
          "scatterternary": [
           {
            "marker": {
             "colorbar": {
              "outlinewidth": 0,
              "ticks": ""
             }
            },
            "type": "scatterternary"
           }
          ],
          "surface": [
           {
            "colorbar": {
             "outlinewidth": 0,
             "ticks": ""
            },
            "colorscale": [
             [
              0,
              "#0d0887"
             ],
             [
              0.1111111111111111,
              "#46039f"
             ],
             [
              0.2222222222222222,
              "#7201a8"
             ],
             [
              0.3333333333333333,
              "#9c179e"
             ],
             [
              0.4444444444444444,
              "#bd3786"
             ],
             [
              0.5555555555555556,
              "#d8576b"
             ],
             [
              0.6666666666666666,
              "#ed7953"
             ],
             [
              0.7777777777777778,
              "#fb9f3a"
             ],
             [
              0.8888888888888888,
              "#fdca26"
             ],
             [
              1,
              "#f0f921"
             ]
            ],
            "type": "surface"
           }
          ],
          "table": [
           {
            "cells": {
             "fill": {
              "color": "#EBF0F8"
             },
             "line": {
              "color": "white"
             }
            },
            "header": {
             "fill": {
              "color": "#C8D4E3"
             },
             "line": {
              "color": "white"
             }
            },
            "type": "table"
           }
          ]
         },
         "layout": {
          "annotationdefaults": {
           "arrowcolor": "#2a3f5f",
           "arrowhead": 0,
           "arrowwidth": 1
          },
          "autotypenumbers": "strict",
          "coloraxis": {
           "colorbar": {
            "outlinewidth": 0,
            "ticks": ""
           }
          },
          "colorscale": {
           "diverging": [
            [
             0,
             "#8e0152"
            ],
            [
             0.1,
             "#c51b7d"
            ],
            [
             0.2,
             "#de77ae"
            ],
            [
             0.3,
             "#f1b6da"
            ],
            [
             0.4,
             "#fde0ef"
            ],
            [
             0.5,
             "#f7f7f7"
            ],
            [
             0.6,
             "#e6f5d0"
            ],
            [
             0.7,
             "#b8e186"
            ],
            [
             0.8,
             "#7fbc41"
            ],
            [
             0.9,
             "#4d9221"
            ],
            [
             1,
             "#276419"
            ]
           ],
           "sequential": [
            [
             0,
             "#0d0887"
            ],
            [
             0.1111111111111111,
             "#46039f"
            ],
            [
             0.2222222222222222,
             "#7201a8"
            ],
            [
             0.3333333333333333,
             "#9c179e"
            ],
            [
             0.4444444444444444,
             "#bd3786"
            ],
            [
             0.5555555555555556,
             "#d8576b"
            ],
            [
             0.6666666666666666,
             "#ed7953"
            ],
            [
             0.7777777777777778,
             "#fb9f3a"
            ],
            [
             0.8888888888888888,
             "#fdca26"
            ],
            [
             1,
             "#f0f921"
            ]
           ],
           "sequentialminus": [
            [
             0,
             "#0d0887"
            ],
            [
             0.1111111111111111,
             "#46039f"
            ],
            [
             0.2222222222222222,
             "#7201a8"
            ],
            [
             0.3333333333333333,
             "#9c179e"
            ],
            [
             0.4444444444444444,
             "#bd3786"
            ],
            [
             0.5555555555555556,
             "#d8576b"
            ],
            [
             0.6666666666666666,
             "#ed7953"
            ],
            [
             0.7777777777777778,
             "#fb9f3a"
            ],
            [
             0.8888888888888888,
             "#fdca26"
            ],
            [
             1,
             "#f0f921"
            ]
           ]
          },
          "colorway": [
           "#636efa",
           "#EF553B",
           "#00cc96",
           "#ab63fa",
           "#FFA15A",
           "#19d3f3",
           "#FF6692",
           "#B6E880",
           "#FF97FF",
           "#FECB52"
          ],
          "font": {
           "color": "#2a3f5f"
          },
          "geo": {
           "bgcolor": "white",
           "lakecolor": "white",
           "landcolor": "#E5ECF6",
           "showlakes": true,
           "showland": true,
           "subunitcolor": "white"
          },
          "hoverlabel": {
           "align": "left"
          },
          "hovermode": "closest",
          "mapbox": {
           "style": "light"
          },
          "paper_bgcolor": "white",
          "plot_bgcolor": "#E5ECF6",
          "polar": {
           "angularaxis": {
            "gridcolor": "white",
            "linecolor": "white",
            "ticks": ""
           },
           "bgcolor": "#E5ECF6",
           "radialaxis": {
            "gridcolor": "white",
            "linecolor": "white",
            "ticks": ""
           }
          },
          "scene": {
           "xaxis": {
            "backgroundcolor": "#E5ECF6",
            "gridcolor": "white",
            "gridwidth": 2,
            "linecolor": "white",
            "showbackground": true,
            "ticks": "",
            "zerolinecolor": "white"
           },
           "yaxis": {
            "backgroundcolor": "#E5ECF6",
            "gridcolor": "white",
            "gridwidth": 2,
            "linecolor": "white",
            "showbackground": true,
            "ticks": "",
            "zerolinecolor": "white"
           },
           "zaxis": {
            "backgroundcolor": "#E5ECF6",
            "gridcolor": "white",
            "gridwidth": 2,
            "linecolor": "white",
            "showbackground": true,
            "ticks": "",
            "zerolinecolor": "white"
           }
          },
          "shapedefaults": {
           "line": {
            "color": "#2a3f5f"
           }
          },
          "ternary": {
           "aaxis": {
            "gridcolor": "white",
            "linecolor": "white",
            "ticks": ""
           },
           "baxis": {
            "gridcolor": "white",
            "linecolor": "white",
            "ticks": ""
           },
           "bgcolor": "#E5ECF6",
           "caxis": {
            "gridcolor": "white",
            "linecolor": "white",
            "ticks": ""
           }
          },
          "title": {
           "x": 0.05
          },
          "xaxis": {
           "automargin": true,
           "gridcolor": "white",
           "linecolor": "white",
           "ticks": "",
           "title": {
            "standoff": 15
           },
           "zerolinecolor": "white",
           "zerolinewidth": 2
          },
          "yaxis": {
           "automargin": true,
           "gridcolor": "white",
           "linecolor": "white",
           "ticks": "",
           "title": {
            "standoff": 15
           },
           "zerolinecolor": "white",
           "zerolinewidth": 2
          }
         }
        }
       }
      }
     },
     "metadata": {},
     "output_type": "display_data"
    }
   ],
   "source": [
    "SankeyVisualisation(substrate_map)\n",
    "SankeyVisualisation(product_map)"
   ]
  },
  {
   "cell_type": "code",
   "execution_count": 16,
   "metadata": {},
   "outputs": [
    {
     "data": {
      "application/vnd.plotly.v1+json": {
       "config": {
        "plotlyServerURL": "https://plot.ly"
       },
       "data": [
        {
         "link": {
          "color": [
           "rgb(158, 185, 243)",
           "rgb(158, 185, 243)",
           "rgb(180, 151, 231)",
           "rgb(179, 179, 179)",
           "rgb(180, 151, 231)",
           "rgb(179, 179, 179)",
           "rgb(158, 185, 243)",
           "rgb(158, 185, 243)",
           "rgb(248, 156, 116)",
           "rgb(248, 156, 116)",
           "rgb(248, 156, 116)",
           "rgb(248, 156, 116)",
           "rgb(254, 136, 177)",
           "rgb(248, 156, 116)",
           "rgb(254, 136, 177)",
           "rgb(180, 151, 231)",
           "rgb(158, 185, 243)",
           "rgb(180, 151, 231)",
           "rgb(158, 185, 243)",
           "rgb(180, 151, 231)",
           "rgb(179, 179, 179)",
           "rgb(180, 151, 231)",
           "rgb(179, 179, 179)",
           "rgb(158, 185, 243)",
           "rgb(179, 179, 179)",
           "rgb(158, 185, 243)",
           "rgb(179, 179, 179)",
           "rgb(180, 151, 231)",
           "rgb(179, 179, 179)",
           "rgb(201, 219, 116)",
           "rgb(180, 151, 231)",
           "rgb(180, 151, 231)",
           "rgb(179, 179, 179)",
           "rgb(179, 179, 179)",
           "rgb(201, 219, 116)",
           "rgb(201, 219, 116)",
           "rgb(180, 151, 231)",
           "rgb(158, 185, 243)",
           "rgb(180, 151, 231)",
           "rgb(158, 185, 243)",
           "rgb(180, 151, 231)",
           "rgb(158, 185, 243)",
           "rgb(254, 136, 177)",
           "rgb(158, 185, 243)",
           "rgb(254, 136, 177)",
           "rgb(158, 185, 243)",
           "rgb(201, 219, 116)",
           "rgb(135, 197, 95)",
           "rgb(201, 219, 116)",
           "rgb(201, 219, 116)",
           "rgb(135, 197, 95)",
           "rgb(135, 197, 95)",
           "rgb(139, 224, 164)",
           "rgb(201, 219, 116)",
           "rgb(139, 224, 164)",
           "rgb(201, 219, 116)",
           "rgb(201, 219, 116)",
           "rgb(248, 156, 116)",
           "rgb(201, 219, 116)",
           "rgb(201, 219, 116)",
           "rgb(248, 156, 116)",
           "rgb(248, 156, 116)",
           "rgb(102, 197, 204)",
           "rgb(201, 219, 116)",
           "rgb(102, 197, 204)",
           "rgb(201, 219, 116)",
           "rgb(201, 219, 116)",
           "rgb(135, 197, 95)",
           "rgb(201, 219, 116)",
           "rgb(135, 197, 95)",
           "rgb(201, 219, 116)",
           "rgb(135, 197, 95)",
           "rgb(180, 151, 231)",
           "rgb(180, 151, 231)",
           "rgb(180, 151, 231)",
           "rgb(180, 151, 231)",
           "rgb(135, 197, 95)",
           "rgb(201, 219, 116)",
           "rgb(135, 197, 95)",
           "rgb(201, 219, 116)",
           "rgb(254, 136, 177)",
           "rgb(254, 136, 177)",
           "rgb(135, 197, 95)",
           "rgb(248, 156, 116)",
           "rgb(135, 197, 95)",
           "rgb(248, 156, 116)",
           "rgb(180, 151, 231)",
           "rgb(180, 151, 231)",
           "rgb(180, 151, 231)",
           "rgb(201, 219, 116)",
           "rgb(180, 151, 231)",
           "rgb(180, 151, 231)",
           "rgb(201, 219, 116)",
           "rgb(201, 219, 116)",
           "rgb(158, 185, 243)",
           "rgb(180, 151, 231)",
           "rgb(158, 185, 243)",
           "rgb(180, 151, 231)",
           "rgb(248, 156, 116)",
           "rgb(158, 185, 243)",
           "rgb(248, 156, 116)",
           "rgb(158, 185, 243)",
           "rgb(139, 224, 164)",
           "rgb(246, 207, 113)",
           "rgb(139, 224, 164)",
           "rgb(246, 207, 113)",
           "rgb(180, 151, 231)",
           "rgb(180, 151, 231)",
           "rgb(180, 151, 231)",
           "rgb(180, 151, 231)",
           "rgb(158, 185, 243)",
           "rgb(158, 185, 243)",
           "rgb(158, 185, 243)",
           "rgb(158, 185, 243)",
           "rgb(158, 185, 243)",
           "rgb(158, 185, 243)",
           "rgb(158, 185, 243)",
           "rgb(158, 185, 243)",
           "rgb(180, 151, 231)",
           "rgb(180, 151, 231)",
           "rgb(158, 185, 243)",
           "rgb(180, 151, 231)",
           "rgb(180, 151, 231)",
           "rgb(158, 185, 243)",
           "rgb(180, 151, 231)",
           "rgb(254, 136, 177)",
           "rgb(180, 151, 231)",
           "rgb(254, 136, 177)",
           "rgb(158, 185, 243)",
           "rgb(158, 185, 243)",
           "rgb(158, 185, 243)",
           "rgb(158, 185, 243)",
           "rgb(158, 185, 243)",
           "rgb(158, 185, 243)",
           "rgb(158, 185, 243)",
           "rgb(158, 185, 243)",
           "rgb(158, 185, 243)",
           "rgb(179, 179, 179)",
           "rgb(158, 185, 243)",
           "rgb(179, 179, 179)",
           "rgb(179, 179, 179)",
           "rgb(158, 185, 243)",
           "rgb(158, 185, 243)",
           "rgb(180, 151, 231)",
           "rgb(248, 156, 116)",
           "rgb(180, 151, 231)",
           "rgb(180, 151, 231)",
           "rgb(248, 156, 116)",
           "rgb(248, 156, 116)",
           "rgb(158, 185, 243)",
           "rgb(135, 197, 95)",
           "rgb(158, 185, 243)",
           "rgb(135, 197, 95)",
           "rgb(180, 151, 231)",
           "rgb(220, 176, 242)",
           "rgb(180, 151, 231)",
           "rgb(220, 176, 242)",
           "rgb(248, 156, 116)",
           "rgb(180, 151, 231)",
           "rgb(248, 156, 116)",
           "rgb(180, 151, 231)",
           "rgb(201, 219, 116)",
           "rgb(201, 219, 116)",
           "rgb(201, 219, 116)",
           "rgb(180, 151, 231)",
           "rgb(180, 151, 231)",
           "rgb(180, 151, 231)",
           "rgb(179, 179, 179)",
           "rgb(180, 151, 231)",
           "rgb(246, 207, 113)",
           "rgb(179, 179, 179)",
           "rgb(180, 151, 231)",
           "rgb(246, 207, 113)",
           "rgb(179, 179, 179)",
           "rgb(180, 151, 231)",
           "rgb(246, 207, 113)",
           "rgb(180, 151, 231)",
           "rgb(180, 151, 231)",
           "rgb(158, 185, 243)",
           "rgb(158, 185, 243)",
           "rgb(158, 185, 243)",
           "rgb(220, 176, 242)",
           "rgb(158, 185, 243)",
           "rgb(220, 176, 242)",
           "rgb(158, 185, 243)",
           "rgb(220, 176, 242)",
           "rgb(179, 179, 179)",
           "rgb(201, 219, 116)",
           "rgb(179, 179, 179)",
           "rgb(201, 219, 116)",
           "rgb(180, 151, 231)",
           "rgb(158, 185, 243)",
           "rgb(248, 156, 116)",
           "rgb(180, 151, 231)",
           "rgb(158, 185, 243)",
           "rgb(248, 156, 116)",
           "rgb(201, 219, 116)",
           "rgb(201, 219, 116)",
           "rgb(201, 219, 116)",
           "rgb(201, 219, 116)",
           "rgb(180, 151, 231)",
           "rgb(158, 185, 243)",
           "rgb(180, 151, 231)",
           "rgb(158, 185, 243)",
           "rgb(158, 185, 243)",
           "rgb(158, 185, 243)",
           "rgb(180, 151, 231)",
           "rgb(135, 197, 95)",
           "rgb(180, 151, 231)",
           "rgb(135, 197, 95)",
           "rgb(180, 151, 231)",
           "rgb(180, 151, 231)",
           "rgb(201, 219, 116)",
           "rgb(201, 219, 116)",
           "rgb(201, 219, 116)",
           "rgb(201, 219, 116)",
           "rgb(248, 156, 116)",
           "rgb(179, 179, 179)",
           "rgb(248, 156, 116)",
           "rgb(179, 179, 179)",
           "rgb(158, 185, 243)",
           "rgb(158, 185, 243)",
           "rgb(158, 185, 243)",
           "rgb(158, 185, 243)",
           "rgb(158, 185, 243)",
           "rgb(158, 185, 243)",
           "rgb(158, 185, 243)",
           "rgb(158, 185, 243)",
           "rgb(248, 156, 116)",
           "rgb(158, 185, 243)",
           "rgb(248, 156, 116)",
           "rgb(179, 179, 179)",
           "rgb(179, 179, 179)",
           "rgb(179, 179, 179)",
           "rgb(158, 185, 243)",
           "rgb(201, 219, 116)",
           "rgb(158, 185, 243)",
           "rgb(201, 219, 116)",
           "rgb(158, 185, 243)",
           "rgb(180, 151, 231)",
           "rgb(158, 185, 243)",
           "rgb(180, 151, 231)",
           "rgb(158, 185, 243)",
           "rgb(158, 185, 243)",
           "rgb(158, 185, 243)",
           "rgb(158, 185, 243)",
           "rgb(180, 151, 231)",
           "rgb(180, 151, 231)",
           "rgb(135, 197, 95)",
           "rgb(179, 179, 179)",
           "rgb(220, 176, 242)",
           "rgb(135, 197, 95)",
           "rgb(179, 179, 179)",
           "rgb(220, 176, 242)",
           "rgb(248, 156, 116)",
           "rgb(180, 151, 231)",
           "rgb(248, 156, 116)",
           "rgb(180, 151, 231)",
           "rgb(158, 185, 243)",
           "rgb(158, 185, 243)"
          ],
          "source": [
           0,
           1,
           2,
           2,
           3,
           4,
           2,
           1,
           5,
           6,
           6,
           7,
           7,
           6,
           8,
           2,
           2,
           9,
           10,
           11,
           11,
           3,
           12,
           2,
           2,
           1,
           13,
           0,
           0,
           0,
           3,
           3,
           12,
           12,
           14,
           14,
           15,
           15,
           0,
           0,
           16,
           1,
           17,
           17,
           8,
           18,
           17,
           17,
           14,
           14,
           19,
           19,
           2,
           2,
           20,
           14,
           2,
           2,
           21,
           21,
           22,
           22,
           2,
           2,
           23,
           14,
           2,
           2,
           24,
           24,
           14,
           25,
           5,
           5,
           26,
           27,
           2,
           2,
           28,
           21,
           7,
           8,
           2,
           2,
           28,
           6,
           5,
           3,
           5,
           5,
           3,
           3,
           29,
           29,
           5,
           5,
           1,
           26,
           2,
           2,
           6,
           1,
           30,
           30,
           31,
           32,
           5,
           3,
           5,
           3,
           2,
           1,
           2,
           2,
           2,
           1,
           2,
           1,
           5,
           5,
           5,
           26,
           3,
           18,
           5,
           5,
           3,
           33,
           2,
           1,
           2,
           2,
           1,
           2,
           1,
           7,
           1,
           11,
           11,
           12,
           12,
           1,
           1,
           5,
           5,
           3,
           3,
           34,
           34,
           17,
           17,
           1,
           35,
           2,
           2,
           27,
           36,
           5,
           5,
           37,
           3,
           17,
           2,
           14,
           11,
           11,
           3,
           11,
           11,
           11,
           11,
           11,
           11,
           12,
           38,
           39,
           5,
           3,
           0,
           1,
           2,
           2,
           2,
           2,
           1,
           40,
           11,
           11,
           41,
           42,
           17,
           17,
           17,
           3,
           1,
           6,
           5,
           5,
           29,
           43,
           5,
           5,
           26,
           1,
           7,
           1,
           5,
           5,
           26,
           44,
           17,
           3,
           2,
           2,
           14,
           45,
           11,
           11,
           46,
           12,
           0,
           1,
           2,
           1,
           1,
           2,
           1,
           5,
           5,
           1,
           6,
           0,
           47,
           47,
           2,
           2,
           1,
           48,
           7,
           7,
           1,
           49,
           5,
           5,
           1,
           50,
           2,
           3,
           5,
           5,
           5,
           51,
           52,
           53,
           2,
           2,
           6,
           3,
           7,
           1
          ],
          "target": [
           1,
           54,
           3,
           4,
           55,
           55,
           1,
           56,
           6,
           55,
           57,
           6,
           8,
           58,
           58,
           9,
           10,
           59,
           59,
           3,
           12,
           55,
           55,
           1,
           13,
           60,
           60,
           3,
           12,
           14,
           61,
           55,
           61,
           55,
           61,
           55,
           16,
           1,
           16,
           1,
           62,
           62,
           8,
           18,
           55,
           55,
           14,
           19,
           60,
           55,
           60,
           55,
           20,
           14,
           63,
           63,
           21,
           22,
           64,
           65,
           64,
           65,
           23,
           14,
           65,
           65,
           14,
           25,
           14,
           25,
           63,
           63,
           26,
           27,
           58,
           58,
           28,
           21,
           64,
           64,
           8,
           66,
           28,
           6,
           59,
           59,
           3,
           67,
           3,
           29,
           68,
           67,
           68,
           67,
           1,
           26,
           67,
           67,
           6,
           1,
           65,
           65,
           31,
           32,
           63,
           63,
           3,
           67,
           3,
           67,
           1,
           57,
           1,
           1,
           1,
           57,
           1,
           57,
           26,
           3,
           18,
           55,
           55,
           55,
           3,
           33,
           69,
           69,
           1,
           54,
           1,
           1,
           62,
           1,
           57,
           1,
           54,
           12,
           1,
           55,
           55,
           55,
           55,
           3,
           34,
           55,
           67,
           55,
           67,
           1,
           35,
           68,
           68,
           27,
           36,
           65,
           65,
           37,
           3,
           67,
           67,
           14,
           14,
           60,
           3,
           3,
           55,
           12,
           38,
           39,
           12,
           38,
           39,
           55,
           55,
           55,
           3,
           68,
           1,
           57,
           1,
           40,
           1,
           40,
           70,
           70,
           41,
           42,
           67,
           67,
           3,
           1,
           6,
           68,
           68,
           68,
           29,
           43,
           68,
           68,
           26,
           1,
           67,
           67,
           1,
           60,
           26,
           44,
           55,
           55,
           3,
           68,
           14,
           45,
           68,
           68,
           46,
           12,
           69,
           69,
           1,
           57,
           1,
           57,
           57,
           1,
           57,
           1,
           6,
           67,
           67,
           47,
           65,
           65,
           1,
           48,
           68,
           68,
           1,
           49,
           65,
           65,
           1,
           50,
           69,
           69,
           3,
           67,
           51,
           52,
           53,
           67,
           67,
           67,
           6,
           3,
           67,
           67,
           1,
           65
          ],
          "value": [
           1,
           1,
           1,
           1,
           1,
           1,
           1,
           1,
           1,
           1,
           1,
           1,
           1,
           1,
           1,
           1,
           1,
           1,
           1,
           1,
           1,
           1,
           1,
           1,
           1,
           1,
           1,
           1,
           1,
           1,
           1,
           1,
           1,
           1,
           1,
           1,
           1,
           1,
           1,
           1,
           1,
           1,
           1,
           1,
           1,
           1,
           1,
           1,
           1,
           1,
           1,
           1,
           1,
           1,
           1,
           1,
           1,
           1,
           1,
           1,
           1,
           1,
           1,
           1,
           1,
           1,
           1,
           1,
           1,
           1,
           1,
           1,
           1,
           1,
           1,
           1,
           1,
           1,
           1,
           1,
           1,
           1,
           1,
           1,
           1,
           1,
           1,
           1,
           1,
           1,
           1,
           1,
           1,
           1,
           1,
           1,
           1,
           1,
           1,
           1,
           1,
           1,
           1,
           1,
           1,
           1,
           1,
           1,
           1,
           1,
           1,
           1,
           1,
           1,
           1,
           1,
           1,
           1,
           1,
           1,
           1,
           1,
           1,
           1,
           1,
           1,
           1,
           1,
           1,
           1,
           1,
           1,
           1,
           1,
           1,
           1,
           1,
           1,
           1,
           1,
           1,
           1,
           1,
           1,
           1,
           1,
           1,
           1,
           1,
           1,
           1,
           1,
           1,
           1,
           1,
           1,
           1,
           1,
           1,
           1,
           1,
           1,
           1,
           1,
           1,
           1,
           1,
           1,
           1,
           1,
           1,
           1,
           1,
           1,
           1,
           1,
           1,
           1,
           1,
           1,
           1,
           1,
           1,
           1,
           1,
           1,
           1,
           1,
           1,
           1,
           1,
           1,
           1,
           1,
           1,
           1,
           1,
           1,
           1,
           1,
           1,
           1,
           1,
           1,
           1,
           1,
           1,
           1,
           1,
           1,
           1,
           1,
           1,
           1,
           1,
           1,
           1,
           1,
           1,
           1,
           1,
           1,
           1,
           1,
           1,
           1,
           1,
           1,
           1,
           1,
           1,
           1,
           1,
           1,
           1,
           1,
           1,
           1,
           1,
           1,
           1,
           1,
           1,
           1,
           1,
           1,
           1,
           1,
           1,
           1,
           1,
           1,
           1,
           1,
           1,
           1,
           1,
           1,
           1,
           1
          ]
         },
         "node": {
          "color": [
           "grey",
           "rgb(158, 185, 243)",
           "grey",
           "rgb(180, 151, 231)",
           "rgb(179, 179, 179)",
           "grey",
           "rgb(248, 156, 116)",
           "grey",
           "rgb(254, 136, 177)",
           "rgb(180, 151, 231)",
           "rgb(158, 185, 243)",
           "grey",
           "rgb(179, 179, 179)",
           "rgb(179, 179, 179)",
           "rgb(201, 219, 116)",
           "grey",
           "rgb(180, 151, 231)",
           "grey",
           "rgb(158, 185, 243)",
           "rgb(135, 197, 95)",
           "rgb(139, 224, 164)",
           "rgb(201, 219, 116)",
           "rgb(248, 156, 116)",
           "rgb(102, 197, 204)",
           "grey",
           "rgb(135, 197, 95)",
           "rgb(180, 151, 231)",
           "rgb(180, 151, 231)",
           "rgb(135, 197, 95)",
           "rgb(201, 219, 116)",
           "grey",
           "rgb(139, 224, 164)",
           "rgb(246, 207, 113)",
           "rgb(254, 136, 177)",
           "rgb(248, 156, 116)",
           "rgb(135, 197, 95)",
           "rgb(220, 176, 242)",
           "rgb(248, 156, 116)",
           "rgb(180, 151, 231)",
           "rgb(246, 207, 113)",
           "rgb(220, 176, 242)",
           "rgb(179, 179, 179)",
           "rgb(201, 219, 116)",
           "rgb(201, 219, 116)",
           "rgb(135, 197, 95)",
           "rgb(201, 219, 116)",
           "rgb(248, 156, 116)",
           "rgb(179, 179, 179)",
           "rgb(201, 219, 116)",
           "rgb(180, 151, 231)",
           "rgb(158, 185, 243)",
           "rgb(135, 197, 95)",
           "rgb(179, 179, 179)",
           "rgb(220, 176, 242)",
           "grey",
           "grey",
           "grey",
           "grey",
           "grey",
           "grey",
           "grey",
           "grey",
           "grey",
           "grey",
           "grey",
           "grey",
           "grey",
           "grey",
           "grey",
           "grey",
           "grey",
           "grey",
           "grey",
           "grey",
           "grey",
           "grey",
           "grey",
           "grey",
           "grey",
           "grey",
           "grey",
           "grey"
          ],
          "label": [
           "Alcohols",
           "Enterobacteriaceae",
           "Sugars",
           "Clostridiaceae",
           "Pasteurellaceae",
           "Lignocellulose",
           "Saccharomycetaceae",
           "Amino acid medium",
           "Lactobacillaceae",
           "Promicromonosporaceae",
           "Rhizobiaceae",
           "Gas",
           "Eubacteriaceae",
           "Moraxellaceae",
           "Bacillaceae",
           "Other substrate",
           "Pseudomonadaceae",
           "Waste",
           "Veillonellaceae",
           "Dipodascaceae",
           "Burkholderiaceae",
           "Acetobacteraceae",
           "Streptococcaceae",
           "Mycosphaerellaceae",
           "Short-chain fatty acids",
           "Pseudomonas",
           "Hypocreaceae",
           "Aspergillaceae",
           "Saccotheciaceae",
           "Enterococcaceae",
           "Light",
           "Synechococcaceae",
           "Halomonadaceae",
           "Geobacteraceae",
           "Neocallimastigaceae",
           "Paenibacillaceae",
           "Sphingomonadaceae",
           "Thermoanaerobacterales",
           "Desulfuromonadaceae",
           "Lachnospiraceae",
           "Corynebacteriaceae",
           "Methylocystaceae",
           "Beijerinckiaceae",
           "Oscillospiraceae",
           "Rhizopodaceae",
           "Caulobacteraceae",
           "Desulfobacteriaceae",
           "Phaffomycetaceae",
           "Nitrobacteraceae",
           "Streptomycetaceae",
           "Shewanellaceae",
           "Schizophyllaceae",
           "Phanerochaetaceae",
           "Fomitopsidaceae",
           "Dyes and pigments",
           "Carboxylic acids and esters",
           "Biomass",
           "Phenols",
           "Metabolites to support growth",
           "Polysaccharides",
           "Proteins",
           "Glycols",
           "Other",
           "Polyester polymers",
           "Cellulose",
           "Pharmaceuticals",
           "Antibiotics",
           "Primary alcohols",
           "Hydorgen gas",
           "Electricity",
           "Amino acids",
           "rgb(158, 185, 243)",
           "rgb(180, 151, 231)",
           "rgb(179, 179, 179)",
           "rgb(248, 156, 116)",
           "rgb(254, 136, 177)",
           "rgb(201, 219, 116)",
           "rgb(135, 197, 95)",
           "rgb(139, 224, 164)",
           "rgb(102, 197, 204)",
           "rgb(246, 207, 113)",
           "rgb(220, 176, 242)"
          ],
          "line": {
           "color": "black",
           "width": 0.5
          },
          "pad": 15,
          "thickness": 20
         },
         "orientation": "h",
         "type": "sankey"
        }
       ],
       "layout": {
        "font": {
         "size": 8
        },
        "height": 850,
        "template": {
         "data": {
          "bar": [
           {
            "error_x": {
             "color": "#2a3f5f"
            },
            "error_y": {
             "color": "#2a3f5f"
            },
            "marker": {
             "line": {
              "color": "#E5ECF6",
              "width": 0.5
             },
             "pattern": {
              "fillmode": "overlay",
              "size": 10,
              "solidity": 0.2
             }
            },
            "type": "bar"
           }
          ],
          "barpolar": [
           {
            "marker": {
             "line": {
              "color": "#E5ECF6",
              "width": 0.5
             },
             "pattern": {
              "fillmode": "overlay",
              "size": 10,
              "solidity": 0.2
             }
            },
            "type": "barpolar"
           }
          ],
          "carpet": [
           {
            "aaxis": {
             "endlinecolor": "#2a3f5f",
             "gridcolor": "white",
             "linecolor": "white",
             "minorgridcolor": "white",
             "startlinecolor": "#2a3f5f"
            },
            "baxis": {
             "endlinecolor": "#2a3f5f",
             "gridcolor": "white",
             "linecolor": "white",
             "minorgridcolor": "white",
             "startlinecolor": "#2a3f5f"
            },
            "type": "carpet"
           }
          ],
          "choropleth": [
           {
            "colorbar": {
             "outlinewidth": 0,
             "ticks": ""
            },
            "type": "choropleth"
           }
          ],
          "contour": [
           {
            "colorbar": {
             "outlinewidth": 0,
             "ticks": ""
            },
            "colorscale": [
             [
              0,
              "#0d0887"
             ],
             [
              0.1111111111111111,
              "#46039f"
             ],
             [
              0.2222222222222222,
              "#7201a8"
             ],
             [
              0.3333333333333333,
              "#9c179e"
             ],
             [
              0.4444444444444444,
              "#bd3786"
             ],
             [
              0.5555555555555556,
              "#d8576b"
             ],
             [
              0.6666666666666666,
              "#ed7953"
             ],
             [
              0.7777777777777778,
              "#fb9f3a"
             ],
             [
              0.8888888888888888,
              "#fdca26"
             ],
             [
              1,
              "#f0f921"
             ]
            ],
            "type": "contour"
           }
          ],
          "contourcarpet": [
           {
            "colorbar": {
             "outlinewidth": 0,
             "ticks": ""
            },
            "type": "contourcarpet"
           }
          ],
          "heatmap": [
           {
            "colorbar": {
             "outlinewidth": 0,
             "ticks": ""
            },
            "colorscale": [
             [
              0,
              "#0d0887"
             ],
             [
              0.1111111111111111,
              "#46039f"
             ],
             [
              0.2222222222222222,
              "#7201a8"
             ],
             [
              0.3333333333333333,
              "#9c179e"
             ],
             [
              0.4444444444444444,
              "#bd3786"
             ],
             [
              0.5555555555555556,
              "#d8576b"
             ],
             [
              0.6666666666666666,
              "#ed7953"
             ],
             [
              0.7777777777777778,
              "#fb9f3a"
             ],
             [
              0.8888888888888888,
              "#fdca26"
             ],
             [
              1,
              "#f0f921"
             ]
            ],
            "type": "heatmap"
           }
          ],
          "heatmapgl": [
           {
            "colorbar": {
             "outlinewidth": 0,
             "ticks": ""
            },
            "colorscale": [
             [
              0,
              "#0d0887"
             ],
             [
              0.1111111111111111,
              "#46039f"
             ],
             [
              0.2222222222222222,
              "#7201a8"
             ],
             [
              0.3333333333333333,
              "#9c179e"
             ],
             [
              0.4444444444444444,
              "#bd3786"
             ],
             [
              0.5555555555555556,
              "#d8576b"
             ],
             [
              0.6666666666666666,
              "#ed7953"
             ],
             [
              0.7777777777777778,
              "#fb9f3a"
             ],
             [
              0.8888888888888888,
              "#fdca26"
             ],
             [
              1,
              "#f0f921"
             ]
            ],
            "type": "heatmapgl"
           }
          ],
          "histogram": [
           {
            "marker": {
             "pattern": {
              "fillmode": "overlay",
              "size": 10,
              "solidity": 0.2
             }
            },
            "type": "histogram"
           }
          ],
          "histogram2d": [
           {
            "colorbar": {
             "outlinewidth": 0,
             "ticks": ""
            },
            "colorscale": [
             [
              0,
              "#0d0887"
             ],
             [
              0.1111111111111111,
              "#46039f"
             ],
             [
              0.2222222222222222,
              "#7201a8"
             ],
             [
              0.3333333333333333,
              "#9c179e"
             ],
             [
              0.4444444444444444,
              "#bd3786"
             ],
             [
              0.5555555555555556,
              "#d8576b"
             ],
             [
              0.6666666666666666,
              "#ed7953"
             ],
             [
              0.7777777777777778,
              "#fb9f3a"
             ],
             [
              0.8888888888888888,
              "#fdca26"
             ],
             [
              1,
              "#f0f921"
             ]
            ],
            "type": "histogram2d"
           }
          ],
          "histogram2dcontour": [
           {
            "colorbar": {
             "outlinewidth": 0,
             "ticks": ""
            },
            "colorscale": [
             [
              0,
              "#0d0887"
             ],
             [
              0.1111111111111111,
              "#46039f"
             ],
             [
              0.2222222222222222,
              "#7201a8"
             ],
             [
              0.3333333333333333,
              "#9c179e"
             ],
             [
              0.4444444444444444,
              "#bd3786"
             ],
             [
              0.5555555555555556,
              "#d8576b"
             ],
             [
              0.6666666666666666,
              "#ed7953"
             ],
             [
              0.7777777777777778,
              "#fb9f3a"
             ],
             [
              0.8888888888888888,
              "#fdca26"
             ],
             [
              1,
              "#f0f921"
             ]
            ],
            "type": "histogram2dcontour"
           }
          ],
          "mesh3d": [
           {
            "colorbar": {
             "outlinewidth": 0,
             "ticks": ""
            },
            "type": "mesh3d"
           }
          ],
          "parcoords": [
           {
            "line": {
             "colorbar": {
              "outlinewidth": 0,
              "ticks": ""
             }
            },
            "type": "parcoords"
           }
          ],
          "pie": [
           {
            "automargin": true,
            "type": "pie"
           }
          ],
          "scatter": [
           {
            "fillpattern": {
             "fillmode": "overlay",
             "size": 10,
             "solidity": 0.2
            },
            "type": "scatter"
           }
          ],
          "scatter3d": [
           {
            "line": {
             "colorbar": {
              "outlinewidth": 0,
              "ticks": ""
             }
            },
            "marker": {
             "colorbar": {
              "outlinewidth": 0,
              "ticks": ""
             }
            },
            "type": "scatter3d"
           }
          ],
          "scattercarpet": [
           {
            "marker": {
             "colorbar": {
              "outlinewidth": 0,
              "ticks": ""
             }
            },
            "type": "scattercarpet"
           }
          ],
          "scattergeo": [
           {
            "marker": {
             "colorbar": {
              "outlinewidth": 0,
              "ticks": ""
             }
            },
            "type": "scattergeo"
           }
          ],
          "scattergl": [
           {
            "marker": {
             "colorbar": {
              "outlinewidth": 0,
              "ticks": ""
             }
            },
            "type": "scattergl"
           }
          ],
          "scattermapbox": [
           {
            "marker": {
             "colorbar": {
              "outlinewidth": 0,
              "ticks": ""
             }
            },
            "type": "scattermapbox"
           }
          ],
          "scatterpolar": [
           {
            "marker": {
             "colorbar": {
              "outlinewidth": 0,
              "ticks": ""
             }
            },
            "type": "scatterpolar"
           }
          ],
          "scatterpolargl": [
           {
            "marker": {
             "colorbar": {
              "outlinewidth": 0,
              "ticks": ""
             }
            },
            "type": "scatterpolargl"
           }
          ],
          "scatterternary": [
           {
            "marker": {
             "colorbar": {
              "outlinewidth": 0,
              "ticks": ""
             }
            },
            "type": "scatterternary"
           }
          ],
          "surface": [
           {
            "colorbar": {
             "outlinewidth": 0,
             "ticks": ""
            },
            "colorscale": [
             [
              0,
              "#0d0887"
             ],
             [
              0.1111111111111111,
              "#46039f"
             ],
             [
              0.2222222222222222,
              "#7201a8"
             ],
             [
              0.3333333333333333,
              "#9c179e"
             ],
             [
              0.4444444444444444,
              "#bd3786"
             ],
             [
              0.5555555555555556,
              "#d8576b"
             ],
             [
              0.6666666666666666,
              "#ed7953"
             ],
             [
              0.7777777777777778,
              "#fb9f3a"
             ],
             [
              0.8888888888888888,
              "#fdca26"
             ],
             [
              1,
              "#f0f921"
             ]
            ],
            "type": "surface"
           }
          ],
          "table": [
           {
            "cells": {
             "fill": {
              "color": "#EBF0F8"
             },
             "line": {
              "color": "white"
             }
            },
            "header": {
             "fill": {
              "color": "#C8D4E3"
             },
             "line": {
              "color": "white"
             }
            },
            "type": "table"
           }
          ]
         },
         "layout": {
          "annotationdefaults": {
           "arrowcolor": "#2a3f5f",
           "arrowhead": 0,
           "arrowwidth": 1
          },
          "autotypenumbers": "strict",
          "coloraxis": {
           "colorbar": {
            "outlinewidth": 0,
            "ticks": ""
           }
          },
          "colorscale": {
           "diverging": [
            [
             0,
             "#8e0152"
            ],
            [
             0.1,
             "#c51b7d"
            ],
            [
             0.2,
             "#de77ae"
            ],
            [
             0.3,
             "#f1b6da"
            ],
            [
             0.4,
             "#fde0ef"
            ],
            [
             0.5,
             "#f7f7f7"
            ],
            [
             0.6,
             "#e6f5d0"
            ],
            [
             0.7,
             "#b8e186"
            ],
            [
             0.8,
             "#7fbc41"
            ],
            [
             0.9,
             "#4d9221"
            ],
            [
             1,
             "#276419"
            ]
           ],
           "sequential": [
            [
             0,
             "#0d0887"
            ],
            [
             0.1111111111111111,
             "#46039f"
            ],
            [
             0.2222222222222222,
             "#7201a8"
            ],
            [
             0.3333333333333333,
             "#9c179e"
            ],
            [
             0.4444444444444444,
             "#bd3786"
            ],
            [
             0.5555555555555556,
             "#d8576b"
            ],
            [
             0.6666666666666666,
             "#ed7953"
            ],
            [
             0.7777777777777778,
             "#fb9f3a"
            ],
            [
             0.8888888888888888,
             "#fdca26"
            ],
            [
             1,
             "#f0f921"
            ]
           ],
           "sequentialminus": [
            [
             0,
             "#0d0887"
            ],
            [
             0.1111111111111111,
             "#46039f"
            ],
            [
             0.2222222222222222,
             "#7201a8"
            ],
            [
             0.3333333333333333,
             "#9c179e"
            ],
            [
             0.4444444444444444,
             "#bd3786"
            ],
            [
             0.5555555555555556,
             "#d8576b"
            ],
            [
             0.6666666666666666,
             "#ed7953"
            ],
            [
             0.7777777777777778,
             "#fb9f3a"
            ],
            [
             0.8888888888888888,
             "#fdca26"
            ],
            [
             1,
             "#f0f921"
            ]
           ]
          },
          "colorway": [
           "#636efa",
           "#EF553B",
           "#00cc96",
           "#ab63fa",
           "#FFA15A",
           "#19d3f3",
           "#FF6692",
           "#B6E880",
           "#FF97FF",
           "#FECB52"
          ],
          "font": {
           "color": "#2a3f5f"
          },
          "geo": {
           "bgcolor": "white",
           "lakecolor": "white",
           "landcolor": "#E5ECF6",
           "showlakes": true,
           "showland": true,
           "subunitcolor": "white"
          },
          "hoverlabel": {
           "align": "left"
          },
          "hovermode": "closest",
          "mapbox": {
           "style": "light"
          },
          "paper_bgcolor": "white",
          "plot_bgcolor": "#E5ECF6",
          "polar": {
           "angularaxis": {
            "gridcolor": "white",
            "linecolor": "white",
            "ticks": ""
           },
           "bgcolor": "#E5ECF6",
           "radialaxis": {
            "gridcolor": "white",
            "linecolor": "white",
            "ticks": ""
           }
          },
          "scene": {
           "xaxis": {
            "backgroundcolor": "#E5ECF6",
            "gridcolor": "white",
            "gridwidth": 2,
            "linecolor": "white",
            "showbackground": true,
            "ticks": "",
            "zerolinecolor": "white"
           },
           "yaxis": {
            "backgroundcolor": "#E5ECF6",
            "gridcolor": "white",
            "gridwidth": 2,
            "linecolor": "white",
            "showbackground": true,
            "ticks": "",
            "zerolinecolor": "white"
           },
           "zaxis": {
            "backgroundcolor": "#E5ECF6",
            "gridcolor": "white",
            "gridwidth": 2,
            "linecolor": "white",
            "showbackground": true,
            "ticks": "",
            "zerolinecolor": "white"
           }
          },
          "shapedefaults": {
           "line": {
            "color": "#2a3f5f"
           }
          },
          "ternary": {
           "aaxis": {
            "gridcolor": "white",
            "linecolor": "white",
            "ticks": ""
           },
           "baxis": {
            "gridcolor": "white",
            "linecolor": "white",
            "ticks": ""
           },
           "bgcolor": "#E5ECF6",
           "caxis": {
            "gridcolor": "white",
            "linecolor": "white",
            "ticks": ""
           }
          },
          "title": {
           "x": 0.05
          },
          "xaxis": {
           "automargin": true,
           "gridcolor": "white",
           "linecolor": "white",
           "ticks": "",
           "title": {
            "standoff": 15
           },
           "zerolinecolor": "white",
           "zerolinewidth": 2
          },
          "yaxis": {
           "automargin": true,
           "gridcolor": "white",
           "linecolor": "white",
           "ticks": "",
           "title": {
            "standoff": 15
           },
           "zerolinecolor": "white",
           "zerolinewidth": 2
          }
         }
        },
        "title": {
         "text": "Sankey Diagram for consortia uses"
        }
       }
      }
     },
     "metadata": {},
     "output_type": "display_data"
    }
   ],
   "source": [
    "#new sankey chart for FAMILY of organisms\n",
    "\n",
    "#creating a new dataframe to use in building the sankey chart\n",
    "\n",
    "#create an empty dataframe\n",
    "sankey_data = pd.DataFrame({'Source': [],\n",
    "                   'Target': [],\n",
    "                   'Value': [],\n",
    "                   'Color': []})\n",
    "\n",
    "organism_colouring = dict()\n",
    "colour_counter = 0\n",
    "\n",
    "#iterate over the rows of the dataframe\n",
    "#for index, row in all_df.iterrows():\n",
    "for index, row in df.iterrows():\n",
    "\n",
    "    #get lists of substrates, products, and organisms\n",
    "    substrates = row[\"Substrate\"].split(\", \")\n",
    "    organisms = row[\"Family\"].split(\", \")\n",
    "    products = row[\"Product\"].split(\", \")\n",
    "\n",
    "    #taking the first word to get the genus instead of the organisms\n",
    "    genuses = [organism.split(' ')[0] for organism in organisms]\n",
    "    #cluster the substrates and products using dictionaries\n",
    "    new_substrates = [substrate_map[substrate] for substrate in substrates]\n",
    "    new_products = [product_map[product] for product in products]\n",
    "\n",
    "    #adds colour to each organism using the pick_colour function\n",
    "    for genus in genuses:\n",
    "        if genus not in organism_colouring:\n",
    "            organism_colouring[genus] = pick_colour(genus)\n",
    "\n",
    "    #add links from each substrate to each organism\n",
    "    for substrate in new_substrates:\n",
    "        for genus in genuses:\n",
    "            sankey_data.loc[len(sankey_data.index)] = [substrate, genus, 1, organism_colouring[genus]]\n",
    "\n",
    "    #add links from each organism to each substrate\n",
    "    for genus in genuses:\n",
    "        for product in new_products:\n",
    "            sankey_data.loc[len(sankey_data.index)] = [genus, product, 1, organism_colouring[genus]]\n",
    "\n",
    "\n",
    "#needed modification for building the plot\n",
    "\n",
    "#get each unique source_target and a mapping to their index\n",
    "#unique_source_target = list(pd.unique(sankey_data[['Source', 'Target']].values.ravel('K')))\n",
    "unique_source_target = list(pd.unique(sankey_data[['Source', 'Target', 'Color']].values.ravel('K')))\n",
    "mapping_dict = {k: v for v, k in enumerate(unique_source_target)}\n",
    "sankey_data['Source'] = sankey_data['Source'].map(mapping_dict)\n",
    "sankey_data['Target'] = sankey_data['Target'].map(mapping_dict)\n",
    "sankey_dict = sankey_data.to_dict(orient='list')\n",
    "\n",
    "#setting colours for the nodes\n",
    "node_colours = [organism_colouring.get(i, \"grey\") for i in unique_source_target]\n",
    "\n",
    "#create diagram\n",
    "import plotly.express as px\n",
    "\n",
    "fig = go.Figure(data=[go.Sankey(\n",
    "    orientation = \"h\",\n",
    "    node = dict(\n",
    "      pad = 15,\n",
    "      thickness = 20,\n",
    "      line = dict(color = \"black\", width = 0.5),\n",
    "      label = unique_source_target,\n",
    "      #color = \"grey\"\n",
    "      color = node_colours\n",
    "    ),\n",
    "    link = dict(\n",
    "      source = sankey_dict[\"Source\"],\n",
    "      target = sankey_dict[\"Target\"],\n",
    "      value = sankey_dict[\"Value\"],\n",
    "      color = sankey_dict[\"Color\"]\n",
    "  ))])\n",
    "\n",
    "layout = dict(\n",
    "        title = \"Sankey Diagram for consortia uses\",\n",
    "    height = 850,\n",
    "    font = dict(\n",
    "      size = 8),)\n",
    "\n",
    "#show figure\n",
    "fig.update_layout(layout)\n",
    "fig.show()"
   ]
  },
  {
   "cell_type": "code",
   "execution_count": 32,
   "metadata": {},
   "outputs": [
    {
     "data": {
      "application/vnd.plotly.v1+json": {
       "config": {
        "plotlyServerURL": "https://plot.ly"
       },
       "data": [
        {
         "link": {
          "color": [
           "rgb(246, 207, 113)",
           "rgb(246, 207, 113)",
           "#E2E2E2",
           "#E2E2E2",
           "#E2E2E2",
           "#E2E2E2",
           "rgb(246, 207, 113)",
           "rgb(246, 207, 113)",
           "#E2E2E2",
           "#E2E2E2",
           "#E2E2E2",
           "#E2E2E2",
           "#E2E2E2",
           "#E2E2E2",
           "#E2E2E2",
           "#E2E2E2",
           "#E2E2E2",
           "#E2E2E2",
           "#E2E2E2",
           "#E2E2E2",
           "#E2E2E2",
           "#E2E2E2",
           "#E2E2E2",
           "#E2E2E2",
           "#E2E2E2",
           "rgb(246, 207, 113)",
           "#E2E2E2",
           "rgb(246, 207, 113)",
           "#E2E2E2",
           "#E2E2E2",
           "#E2E2E2",
           "#E2E2E2",
           "#E2E2E2",
           "#E2E2E2",
           "#E2E2E2",
           "#E2E2E2",
           "#E2E2E2",
           "#E2E2E2",
           "#E2E2E2",
           "rgb(246, 207, 113)",
           "#E2E2E2",
           "rgb(246, 207, 113)",
           "#E2E2E2",
           "rgb(246, 207, 113)",
           "#E2E2E2",
           "#E2E2E2",
           "#E2E2E2",
           "#E2E2E2",
           "#E2E2E2",
           "#E2E2E2",
           "#E2E2E2",
           "#E2E2E2",
           "#E2E2E2",
           "#E2E2E2",
           "#E2E2E2",
           "#E2E2E2",
           "#E2E2E2",
           "#E2E2E2",
           "#E2E2E2",
           "#E2E2E2",
           "#E2E2E2",
           "#E2E2E2",
           "#E2E2E2",
           "#E2E2E2",
           "#E2E2E2",
           "#E2E2E2",
           "#E2E2E2",
           "#E2E2E2",
           "#E2E2E2",
           "#E2E2E2",
           "#E2E2E2",
           "#E2E2E2",
           "#E2E2E2",
           "#E2E2E2",
           "#E2E2E2",
           "#E2E2E2",
           "#E2E2E2",
           "#E2E2E2",
           "#E2E2E2",
           "#E2E2E2",
           "#E2E2E2",
           "#E2E2E2",
           "#E2E2E2",
           "#E2E2E2",
           "#E2E2E2",
           "#E2E2E2",
           "#E2E2E2",
           "#E2E2E2",
           "#E2E2E2",
           "#E2E2E2",
           "#E2E2E2",
           "#E2E2E2",
           "#E2E2E2",
           "#E2E2E2",
           "#E2E2E2",
           "#E2E2E2",
           "#E2E2E2",
           "#E2E2E2",
           "#E2E2E2",
           "#E2E2E2",
           "#E2E2E2",
           "#E2E2E2",
           "#E2E2E2",
           "#E2E2E2",
           "#E2E2E2",
           "#E2E2E2",
           "#E2E2E2",
           "#E2E2E2",
           "#E2E2E2",
           "#E2E2E2",
           "rgb(246, 207, 113)",
           "#E2E2E2",
           "rgb(246, 207, 113)",
           "rgb(246, 207, 113)",
           "#E2E2E2",
           "rgb(246, 207, 113)",
           "#E2E2E2",
           "#E2E2E2",
           "#E2E2E2",
           "#E2E2E2",
           "#E2E2E2",
           "#E2E2E2",
           "#E2E2E2",
           "#E2E2E2",
           "#E2E2E2",
           "#E2E2E2",
           "#E2E2E2",
           "#E2E2E2",
           "#E2E2E2",
           "rgb(246, 207, 113)",
           "rgb(246, 207, 113)",
           "rgb(246, 207, 113)",
           "rgb(246, 207, 113)",
           "rgb(246, 207, 113)",
           "rgb(246, 207, 113)",
           "rgb(246, 207, 113)",
           "rgb(246, 207, 113)",
           "#E2E2E2",
           "#E2E2E2",
           "#E2E2E2",
           "#E2E2E2",
           "#E2E2E2",
           "#E2E2E2",
           "#E2E2E2",
           "#E2E2E2",
           "#E2E2E2",
           "#E2E2E2",
           "#E2E2E2",
           "#E2E2E2",
           "rgb(246, 207, 113)",
           "rgb(246, 207, 113)",
           "rgb(246, 207, 113)",
           "rgb(246, 207, 113)",
           "rgb(246, 207, 113)",
           "rgb(246, 207, 113)",
           "rgb(246, 207, 113)",
           "rgb(246, 207, 113)",
           "rgb(246, 207, 113)",
           "#E2E2E2",
           "rgb(246, 207, 113)",
           "#E2E2E2",
           "#E2E2E2",
           "rgb(246, 207, 113)",
           "rgb(246, 207, 113)",
           "#E2E2E2",
           "#E2E2E2",
           "#E2E2E2",
           "#E2E2E2",
           "#E2E2E2",
           "#E2E2E2",
           "#E2E2E2",
           "#E2E2E2",
           "#E2E2E2",
           "#E2E2E2",
           "#E2E2E2",
           "#E2E2E2",
           "#E2E2E2",
           "#E2E2E2",
           "#E2E2E2",
           "#E2E2E2",
           "#E2E2E2",
           "#E2E2E2",
           "#E2E2E2",
           "#E2E2E2",
           "#E2E2E2",
           "#E2E2E2",
           "#E2E2E2",
           "#E2E2E2",
           "#E2E2E2",
           "#E2E2E2",
           "#E2E2E2",
           "#E2E2E2",
           "#E2E2E2",
           "#E2E2E2",
           "#E2E2E2",
           "#E2E2E2",
           "#E2E2E2",
           "#E2E2E2",
           "#E2E2E2",
           "#E2E2E2",
           "#E2E2E2",
           "#E2E2E2",
           "#E2E2E2",
           "#E2E2E2",
           "#E2E2E2",
           "#E2E2E2",
           "#E2E2E2",
           "#E2E2E2",
           "#E2E2E2",
           "#E2E2E2",
           "#E2E2E2",
           "#E2E2E2",
           "#E2E2E2",
           "#E2E2E2",
           "#E2E2E2",
           "#E2E2E2",
           "rgb(246, 207, 113)",
           "rgb(246, 207, 113)",
           "rgb(246, 207, 113)",
           "#E2E2E2",
           "rgb(246, 207, 113)",
           "#E2E2E2",
           "rgb(246, 207, 113)",
           "#E2E2E2",
           "#E2E2E2",
           "#E2E2E2",
           "#E2E2E2",
           "#E2E2E2",
           "#E2E2E2",
           "#E2E2E2",
           "#E2E2E2",
           "#E2E2E2",
           "#E2E2E2",
           "#E2E2E2",
           "#E2E2E2",
           "#E2E2E2",
           "#E2E2E2",
           "#E2E2E2",
           "#E2E2E2",
           "rgb(246, 207, 113)",
           "#E2E2E2",
           "rgb(246, 207, 113)",
           "rgb(246, 207, 113)",
           "rgb(246, 207, 113)",
           "#E2E2E2",
           "#E2E2E2",
           "#E2E2E2",
           "#E2E2E2",
           "#E2E2E2",
           "#E2E2E2",
           "#E2E2E2",
           "#E2E2E2",
           "#E2E2E2",
           "#E2E2E2",
           "#E2E2E2",
           "#E2E2E2",
           "#E2E2E2",
           "#E2E2E2",
           "#E2E2E2",
           "#E2E2E2",
           "rgb(246, 207, 113)",
           "rgb(246, 207, 113)",
           "rgb(246, 207, 113)",
           "rgb(246, 207, 113)",
           "rgb(246, 207, 113)",
           "rgb(246, 207, 113)",
           "rgb(246, 207, 113)",
           "rgb(246, 207, 113)",
           "#E2E2E2",
           "rgb(246, 207, 113)",
           "#E2E2E2",
           "#E2E2E2",
           "#E2E2E2",
           "#E2E2E2",
           "rgb(246, 207, 113)",
           "#E2E2E2",
           "rgb(246, 207, 113)",
           "#E2E2E2",
           "rgb(246, 207, 113)",
           "#E2E2E2",
           "rgb(246, 207, 113)",
           "#E2E2E2",
           "#E2E2E2",
           "#E2E2E2",
           "#E2E2E2",
           "#E2E2E2",
           "#E2E2E2",
           "#E2E2E2",
           "#E2E2E2",
           "#E2E2E2",
           "#E2E2E2",
           "#E2E2E2",
           "#E2E2E2",
           "#E2E2E2",
           "#E2E2E2",
           "#E2E2E2",
           "#E2E2E2",
           "#E2E2E2",
           "#E2E2E2",
           "#E2E2E2",
           "rgb(246, 207, 113)",
           "rgb(246, 207, 113)"
          ],
          "source": [
           0,
           1,
           2,
           2,
           3,
           4,
           2,
           1,
           5,
           6,
           6,
           7,
           7,
           8,
           6,
           2,
           2,
           9,
           10,
           11,
           11,
           11,
           3,
           12,
           3,
           2,
           2,
           1,
           13,
           0,
           0,
           0,
           12,
           12,
           3,
           3,
           14,
           14,
           15,
           15,
           0,
           0,
           16,
           1,
           17,
           17,
           18,
           19,
           17,
           17,
           20,
           20,
           21,
           21,
           2,
           2,
           22,
           20,
           2,
           2,
           23,
           23,
           24,
           24,
           2,
           2,
           2,
           25,
           20,
           26,
           2,
           2,
           27,
           27,
           16,
           20,
           5,
           5,
           5,
           5,
           28,
           29,
           30,
           30,
           2,
           2,
           31,
           32,
           7,
           7,
           8,
           33,
           2,
           2,
           31,
           6,
           5,
           5,
           3,
           3,
           5,
           5,
           5,
           34,
           34,
           3,
           3,
           3,
           3,
           5,
           5,
           28,
           1,
           2,
           2,
           1,
           6,
           35,
           35,
           36,
           37,
           5,
           5,
           3,
           3,
           5,
           5,
           3,
           3,
           2,
           1,
           2,
           2,
           2,
           1,
           2,
           1,
           5,
           5,
           5,
           5,
           28,
           3,
           38,
           19,
           5,
           5,
           3,
           39,
           2,
           1,
           2,
           2,
           1,
           2,
           1,
           7,
           1,
           11,
           11,
           12,
           12,
           1,
           1,
           5,
           5,
           5,
           5,
           3,
           3,
           40,
           40,
           41,
           41,
           42,
           42,
           17,
           17,
           43,
           44,
           2,
           2,
           30,
           45,
           5,
           5,
           46,
           3,
           17,
           17,
           17,
           2,
           2,
           2,
           47,
           26,
           48,
           11,
           11,
           11,
           11,
           3,
           3,
           11,
           11,
           11,
           11,
           11,
           11,
           49,
           50,
           51,
           5,
           5,
           3,
           3,
           0,
           1,
           2,
           2,
           2,
           2,
           1,
           52,
           11,
           11,
           53,
           54,
           17,
           17,
           17,
           3,
           55,
           56,
           5,
           5,
           34,
           57,
           5,
           5,
           28,
           1,
           7,
           1,
           5,
           5,
           28,
           58,
           17,
           17,
           3,
           3,
           2,
           2,
           20,
           59,
           11,
           11,
           60,
           49,
           0,
           1,
           2,
           1,
           1,
           2,
           1,
           5,
           5,
           1,
           6,
           0,
           61,
           61,
           2,
           2,
           1,
           62,
           7,
           7,
           1,
           63,
           5,
           5,
           64,
           65,
           2,
           2,
           3,
           3,
           5,
           5,
           5,
           66,
           67,
           68,
           2,
           2,
           6,
           3,
           7,
           1
          ],
          "target": [
           1,
           69,
           3,
           4,
           70,
           70,
           1,
           71,
           6,
           70,
           72,
           8,
           6,
           73,
           73,
           9,
           10,
           74,
           74,
           3,
           12,
           3,
           70,
           70,
           70,
           1,
           13,
           75,
           75,
           12,
           3,
           14,
           76,
           70,
           76,
           70,
           76,
           70,
           16,
           1,
           16,
           1,
           77,
           77,
           18,
           19,
           70,
           70,
           20,
           21,
           75,
           70,
           75,
           70,
           22,
           20,
           78,
           78,
           23,
           24,
           79,
           80,
           79,
           80,
           25,
           20,
           26,
           80,
           80,
           80,
           16,
           20,
           16,
           20,
           78,
           78,
           28,
           29,
           30,
           30,
           73,
           73,
           73,
           73,
           31,
           32,
           79,
           79,
           8,
           33,
           81,
           81,
           31,
           6,
           74,
           74,
           3,
           3,
           82,
           82,
           34,
           3,
           3,
           83,
           82,
           83,
           82,
           83,
           82,
           28,
           1,
           82,
           82,
           1,
           6,
           80,
           80,
           36,
           37,
           78,
           78,
           3,
           3,
           82,
           82,
           3,
           3,
           82,
           82,
           1,
           72,
           1,
           1,
           1,
           72,
           1,
           72,
           28,
           3,
           38,
           19,
           70,
           70,
           70,
           70,
           3,
           39,
           84,
           84,
           1,
           69,
           1,
           1,
           77,
           1,
           72,
           1,
           69,
           12,
           1,
           70,
           70,
           70,
           70,
           3,
           40,
           41,
           42,
           70,
           82,
           70,
           82,
           70,
           82,
           70,
           82,
           43,
           44,
           83,
           83,
           30,
           45,
           80,
           80,
           46,
           3,
           82,
           82,
           47,
           26,
           48,
           47,
           26,
           48,
           75,
           75,
           75,
           3,
           3,
           3,
           3,
           70,
           70,
           49,
           50,
           51,
           49,
           50,
           51,
           70,
           70,
           70,
           3,
           3,
           83,
           83,
           1,
           72,
           1,
           52,
           1,
           52,
           85,
           85,
           53,
           54,
           82,
           82,
           3,
           55,
           56,
           83,
           83,
           83,
           34,
           57,
           83,
           83,
           28,
           1,
           82,
           82,
           1,
           75,
           28,
           58,
           70,
           70,
           3,
           3,
           83,
           83,
           20,
           59,
           83,
           83,
           60,
           49,
           84,
           84,
           1,
           72,
           1,
           72,
           72,
           1,
           72,
           1,
           6,
           82,
           82,
           61,
           80,
           80,
           1,
           62,
           83,
           83,
           1,
           63,
           80,
           80,
           64,
           65,
           84,
           84,
           3,
           3,
           82,
           82,
           66,
           67,
           68,
           82,
           82,
           82,
           6,
           3,
           82,
           82,
           1,
           80
          ],
          "value": [
           1,
           1,
           1,
           1,
           1,
           1,
           1,
           1,
           1,
           1,
           1,
           1,
           1,
           1,
           1,
           1,
           1,
           1,
           1,
           1,
           1,
           1,
           1,
           1,
           1,
           1,
           1,
           1,
           1,
           1,
           1,
           1,
           1,
           1,
           1,
           1,
           1,
           1,
           1,
           1,
           1,
           1,
           1,
           1,
           1,
           1,
           1,
           1,
           1,
           1,
           1,
           1,
           1,
           1,
           1,
           1,
           1,
           1,
           1,
           1,
           1,
           1,
           1,
           1,
           1,
           1,
           1,
           1,
           1,
           1,
           1,
           1,
           1,
           1,
           1,
           1,
           1,
           1,
           1,
           1,
           1,
           1,
           1,
           1,
           1,
           1,
           1,
           1,
           1,
           1,
           1,
           1,
           1,
           1,
           1,
           1,
           1,
           1,
           1,
           1,
           1,
           1,
           1,
           1,
           1,
           1,
           1,
           1,
           1,
           1,
           1,
           1,
           1,
           1,
           1,
           1,
           1,
           1,
           1,
           1,
           1,
           1,
           1,
           1,
           1,
           1,
           1,
           1,
           1,
           1,
           1,
           1,
           1,
           1,
           1,
           1,
           1,
           1,
           1,
           1,
           1,
           1,
           1,
           1,
           1,
           1,
           1,
           1,
           1,
           1,
           1,
           1,
           1,
           1,
           1,
           1,
           1,
           1,
           1,
           1,
           1,
           1,
           1,
           1,
           1,
           1,
           1,
           1,
           1,
           1,
           1,
           1,
           1,
           1,
           1,
           1,
           1,
           1,
           1,
           1,
           1,
           1,
           1,
           1,
           1,
           1,
           1,
           1,
           1,
           1,
           1,
           1,
           1,
           1,
           1,
           1,
           1,
           1,
           1,
           1,
           1,
           1,
           1,
           1,
           1,
           1,
           1,
           1,
           1,
           1,
           1,
           1,
           1,
           1,
           1,
           1,
           1,
           1,
           1,
           1,
           1,
           1,
           1,
           1,
           1,
           1,
           1,
           1,
           1,
           1,
           1,
           1,
           1,
           1,
           1,
           1,
           1,
           1,
           1,
           1,
           1,
           1,
           1,
           1,
           1,
           1,
           1,
           1,
           1,
           1,
           1,
           1,
           1,
           1,
           1,
           1,
           1,
           1,
           1,
           1,
           1,
           1,
           1,
           1,
           1,
           1,
           1,
           1,
           1,
           1,
           1,
           1,
           1,
           1,
           1,
           1,
           1,
           1,
           1,
           1,
           1,
           1,
           1,
           1,
           1,
           1,
           1,
           1,
           1,
           1,
           1,
           1,
           1,
           1,
           1,
           1,
           1,
           1,
           1,
           1,
           1,
           1
          ]
         },
         "node": {
          "color": [
           "grey",
           "rgb(246, 207, 113)",
           "grey",
           "#E2E2E2",
           "#E2E2E2",
           "grey",
           "#E2E2E2",
           "grey",
           "#E2E2E2",
           "#E2E2E2",
           "#E2E2E2",
           "grey",
           "#E2E2E2",
           "#E2E2E2",
           "#E2E2E2",
           "grey",
           "#E2E2E2",
           "grey",
           "#E2E2E2",
           "#E2E2E2",
           "#E2E2E2",
           "#E2E2E2",
           "#E2E2E2",
           "#E2E2E2",
           "#E2E2E2",
           "#E2E2E2",
           "#E2E2E2",
           "grey",
           "#E2E2E2",
           "#E2E2E2",
           "#E2E2E2",
           "#E2E2E2",
           "#E2E2E2",
           "#E2E2E2",
           "#E2E2E2",
           "grey",
           "#E2E2E2",
           "#E2E2E2",
           "#E2E2E2",
           "#E2E2E2",
           "#E2E2E2",
           "#E2E2E2",
           "#E2E2E2",
           "#E2E2E2",
           "#E2E2E2",
           "#E2E2E2",
           "#E2E2E2",
           "#E2E2E2",
           "#E2E2E2",
           "#E2E2E2",
           "#E2E2E2",
           "#E2E2E2",
           "#E2E2E2",
           "#E2E2E2",
           "#E2E2E2",
           "#E2E2E2",
           "#E2E2E2",
           "#E2E2E2",
           "#E2E2E2",
           "#E2E2E2",
           "#E2E2E2",
           "#E2E2E2",
           "#E2E2E2",
           "#E2E2E2",
           "#E2E2E2",
           "#E2E2E2",
           "#E2E2E2",
           "#E2E2E2",
           "#E2E2E2",
           "grey",
           "grey",
           "grey",
           "grey",
           "grey",
           "grey",
           "grey",
           "grey",
           "grey",
           "grey",
           "grey",
           "grey",
           "grey",
           "grey",
           "grey",
           "grey",
           "grey",
           "grey",
           "grey"
          ],
          "label": [
           "Alcohols",
           "Escherichia",
           "Sugars",
           "Clostridium",
           "Actinobacillus",
           "Lignocellulose",
           "Saccharomyces",
           "Amino acid medium",
           "Lactobacillus",
           "Cellulomonas",
           "Agrobacterium",
           "Gas",
           "Eubacterium",
           "Acinetobacter",
           "Massilibacterium",
           "Other substrate",
           "Pseudomonas",
           "Waste",
           "Pediococcus",
           "Megasphaera",
           "Bacillus",
           "Yarrowia",
           "Ralstonia",
           "Gluconacetobacter",
           "Lactococcus",
           "Cercospora",
           "Lysinibacillus",
           "Short-chain fatty acids",
           "Trichoderma",
           "Penicillium",
           "Aspergillus",
           "Aureobasidium",
           "Komagataeibacter",
           "Weissella",
           "Enterococcus",
           "Light",
           "Synechococcus",
           "Halomonas",
           "Veillonella",
           "Geobacter",
           "Anaeromyces",
           "Neocallimastix",
           "Caecomyces",
           "Salmonella",
           "Paenibacillus",
           "Sphingomonas",
           "Thermoanaerobacterium",
           "Aeribacillus",
           "Anoxybacillus",
           "Acetobacterium",
           "Pelobacter",
           "Anaerotignum",
           "Corynebacterium",
           "Methylosinus",
           "Methylocella",
           "Enterobacter",
           "Kluyveromyces",
           "Ethanoligenens",
           "Rhizopus",
           "Brevundimonas",
           "Desulfobacterium",
           "Pichia",
           "Rhodopseudomonas",
           "Streptomyces",
           "Klebsiella",
           "Shewanella",
           "Schizophyllum",
           "Bjerkandera",
           "Fomitopsis",
           "Dyes and pigments",
           "Carboxylic acids and esters",
           "Biomass",
           "Phenols",
           "Metabolites to support growth",
           "Polysaccharides",
           "Proteins",
           "Glycols",
           "Other",
           "Polyester polymers",
           "Cellulose",
           "Pharmaceuticals",
           "Antibiotics",
           "Primary alcohols",
           "Hydorgen gas",
           "Electricity",
           "Amino acids",
           "rgb(246, 207, 113)",
           "#E2E2E2"
          ],
          "line": {
           "color": "black",
           "width": 0.5
          },
          "pad": 15,
          "thickness": 20
         },
         "orientation": "h",
         "type": "sankey"
        }
       ],
       "layout": {
        "font": {
         "size": 8
        },
        "height": 850,
        "template": {
         "data": {
          "bar": [
           {
            "error_x": {
             "color": "#2a3f5f"
            },
            "error_y": {
             "color": "#2a3f5f"
            },
            "marker": {
             "line": {
              "color": "#E5ECF6",
              "width": 0.5
             },
             "pattern": {
              "fillmode": "overlay",
              "size": 10,
              "solidity": 0.2
             }
            },
            "type": "bar"
           }
          ],
          "barpolar": [
           {
            "marker": {
             "line": {
              "color": "#E5ECF6",
              "width": 0.5
             },
             "pattern": {
              "fillmode": "overlay",
              "size": 10,
              "solidity": 0.2
             }
            },
            "type": "barpolar"
           }
          ],
          "carpet": [
           {
            "aaxis": {
             "endlinecolor": "#2a3f5f",
             "gridcolor": "white",
             "linecolor": "white",
             "minorgridcolor": "white",
             "startlinecolor": "#2a3f5f"
            },
            "baxis": {
             "endlinecolor": "#2a3f5f",
             "gridcolor": "white",
             "linecolor": "white",
             "minorgridcolor": "white",
             "startlinecolor": "#2a3f5f"
            },
            "type": "carpet"
           }
          ],
          "choropleth": [
           {
            "colorbar": {
             "outlinewidth": 0,
             "ticks": ""
            },
            "type": "choropleth"
           }
          ],
          "contour": [
           {
            "colorbar": {
             "outlinewidth": 0,
             "ticks": ""
            },
            "colorscale": [
             [
              0,
              "#0d0887"
             ],
             [
              0.1111111111111111,
              "#46039f"
             ],
             [
              0.2222222222222222,
              "#7201a8"
             ],
             [
              0.3333333333333333,
              "#9c179e"
             ],
             [
              0.4444444444444444,
              "#bd3786"
             ],
             [
              0.5555555555555556,
              "#d8576b"
             ],
             [
              0.6666666666666666,
              "#ed7953"
             ],
             [
              0.7777777777777778,
              "#fb9f3a"
             ],
             [
              0.8888888888888888,
              "#fdca26"
             ],
             [
              1,
              "#f0f921"
             ]
            ],
            "type": "contour"
           }
          ],
          "contourcarpet": [
           {
            "colorbar": {
             "outlinewidth": 0,
             "ticks": ""
            },
            "type": "contourcarpet"
           }
          ],
          "heatmap": [
           {
            "colorbar": {
             "outlinewidth": 0,
             "ticks": ""
            },
            "colorscale": [
             [
              0,
              "#0d0887"
             ],
             [
              0.1111111111111111,
              "#46039f"
             ],
             [
              0.2222222222222222,
              "#7201a8"
             ],
             [
              0.3333333333333333,
              "#9c179e"
             ],
             [
              0.4444444444444444,
              "#bd3786"
             ],
             [
              0.5555555555555556,
              "#d8576b"
             ],
             [
              0.6666666666666666,
              "#ed7953"
             ],
             [
              0.7777777777777778,
              "#fb9f3a"
             ],
             [
              0.8888888888888888,
              "#fdca26"
             ],
             [
              1,
              "#f0f921"
             ]
            ],
            "type": "heatmap"
           }
          ],
          "heatmapgl": [
           {
            "colorbar": {
             "outlinewidth": 0,
             "ticks": ""
            },
            "colorscale": [
             [
              0,
              "#0d0887"
             ],
             [
              0.1111111111111111,
              "#46039f"
             ],
             [
              0.2222222222222222,
              "#7201a8"
             ],
             [
              0.3333333333333333,
              "#9c179e"
             ],
             [
              0.4444444444444444,
              "#bd3786"
             ],
             [
              0.5555555555555556,
              "#d8576b"
             ],
             [
              0.6666666666666666,
              "#ed7953"
             ],
             [
              0.7777777777777778,
              "#fb9f3a"
             ],
             [
              0.8888888888888888,
              "#fdca26"
             ],
             [
              1,
              "#f0f921"
             ]
            ],
            "type": "heatmapgl"
           }
          ],
          "histogram": [
           {
            "marker": {
             "pattern": {
              "fillmode": "overlay",
              "size": 10,
              "solidity": 0.2
             }
            },
            "type": "histogram"
           }
          ],
          "histogram2d": [
           {
            "colorbar": {
             "outlinewidth": 0,
             "ticks": ""
            },
            "colorscale": [
             [
              0,
              "#0d0887"
             ],
             [
              0.1111111111111111,
              "#46039f"
             ],
             [
              0.2222222222222222,
              "#7201a8"
             ],
             [
              0.3333333333333333,
              "#9c179e"
             ],
             [
              0.4444444444444444,
              "#bd3786"
             ],
             [
              0.5555555555555556,
              "#d8576b"
             ],
             [
              0.6666666666666666,
              "#ed7953"
             ],
             [
              0.7777777777777778,
              "#fb9f3a"
             ],
             [
              0.8888888888888888,
              "#fdca26"
             ],
             [
              1,
              "#f0f921"
             ]
            ],
            "type": "histogram2d"
           }
          ],
          "histogram2dcontour": [
           {
            "colorbar": {
             "outlinewidth": 0,
             "ticks": ""
            },
            "colorscale": [
             [
              0,
              "#0d0887"
             ],
             [
              0.1111111111111111,
              "#46039f"
             ],
             [
              0.2222222222222222,
              "#7201a8"
             ],
             [
              0.3333333333333333,
              "#9c179e"
             ],
             [
              0.4444444444444444,
              "#bd3786"
             ],
             [
              0.5555555555555556,
              "#d8576b"
             ],
             [
              0.6666666666666666,
              "#ed7953"
             ],
             [
              0.7777777777777778,
              "#fb9f3a"
             ],
             [
              0.8888888888888888,
              "#fdca26"
             ],
             [
              1,
              "#f0f921"
             ]
            ],
            "type": "histogram2dcontour"
           }
          ],
          "mesh3d": [
           {
            "colorbar": {
             "outlinewidth": 0,
             "ticks": ""
            },
            "type": "mesh3d"
           }
          ],
          "parcoords": [
           {
            "line": {
             "colorbar": {
              "outlinewidth": 0,
              "ticks": ""
             }
            },
            "type": "parcoords"
           }
          ],
          "pie": [
           {
            "automargin": true,
            "type": "pie"
           }
          ],
          "scatter": [
           {
            "fillpattern": {
             "fillmode": "overlay",
             "size": 10,
             "solidity": 0.2
            },
            "type": "scatter"
           }
          ],
          "scatter3d": [
           {
            "line": {
             "colorbar": {
              "outlinewidth": 0,
              "ticks": ""
             }
            },
            "marker": {
             "colorbar": {
              "outlinewidth": 0,
              "ticks": ""
             }
            },
            "type": "scatter3d"
           }
          ],
          "scattercarpet": [
           {
            "marker": {
             "colorbar": {
              "outlinewidth": 0,
              "ticks": ""
             }
            },
            "type": "scattercarpet"
           }
          ],
          "scattergeo": [
           {
            "marker": {
             "colorbar": {
              "outlinewidth": 0,
              "ticks": ""
             }
            },
            "type": "scattergeo"
           }
          ],
          "scattergl": [
           {
            "marker": {
             "colorbar": {
              "outlinewidth": 0,
              "ticks": ""
             }
            },
            "type": "scattergl"
           }
          ],
          "scattermapbox": [
           {
            "marker": {
             "colorbar": {
              "outlinewidth": 0,
              "ticks": ""
             }
            },
            "type": "scattermapbox"
           }
          ],
          "scatterpolar": [
           {
            "marker": {
             "colorbar": {
              "outlinewidth": 0,
              "ticks": ""
             }
            },
            "type": "scatterpolar"
           }
          ],
          "scatterpolargl": [
           {
            "marker": {
             "colorbar": {
              "outlinewidth": 0,
              "ticks": ""
             }
            },
            "type": "scatterpolargl"
           }
          ],
          "scatterternary": [
           {
            "marker": {
             "colorbar": {
              "outlinewidth": 0,
              "ticks": ""
             }
            },
            "type": "scatterternary"
           }
          ],
          "surface": [
           {
            "colorbar": {
             "outlinewidth": 0,
             "ticks": ""
            },
            "colorscale": [
             [
              0,
              "#0d0887"
             ],
             [
              0.1111111111111111,
              "#46039f"
             ],
             [
              0.2222222222222222,
              "#7201a8"
             ],
             [
              0.3333333333333333,
              "#9c179e"
             ],
             [
              0.4444444444444444,
              "#bd3786"
             ],
             [
              0.5555555555555556,
              "#d8576b"
             ],
             [
              0.6666666666666666,
              "#ed7953"
             ],
             [
              0.7777777777777778,
              "#fb9f3a"
             ],
             [
              0.8888888888888888,
              "#fdca26"
             ],
             [
              1,
              "#f0f921"
             ]
            ],
            "type": "surface"
           }
          ],
          "table": [
           {
            "cells": {
             "fill": {
              "color": "#EBF0F8"
             },
             "line": {
              "color": "white"
             }
            },
            "header": {
             "fill": {
              "color": "#C8D4E3"
             },
             "line": {
              "color": "white"
             }
            },
            "type": "table"
           }
          ]
         },
         "layout": {
          "annotationdefaults": {
           "arrowcolor": "#2a3f5f",
           "arrowhead": 0,
           "arrowwidth": 1
          },
          "autotypenumbers": "strict",
          "coloraxis": {
           "colorbar": {
            "outlinewidth": 0,
            "ticks": ""
           }
          },
          "colorscale": {
           "diverging": [
            [
             0,
             "#8e0152"
            ],
            [
             0.1,
             "#c51b7d"
            ],
            [
             0.2,
             "#de77ae"
            ],
            [
             0.3,
             "#f1b6da"
            ],
            [
             0.4,
             "#fde0ef"
            ],
            [
             0.5,
             "#f7f7f7"
            ],
            [
             0.6,
             "#e6f5d0"
            ],
            [
             0.7,
             "#b8e186"
            ],
            [
             0.8,
             "#7fbc41"
            ],
            [
             0.9,
             "#4d9221"
            ],
            [
             1,
             "#276419"
            ]
           ],
           "sequential": [
            [
             0,
             "#0d0887"
            ],
            [
             0.1111111111111111,
             "#46039f"
            ],
            [
             0.2222222222222222,
             "#7201a8"
            ],
            [
             0.3333333333333333,
             "#9c179e"
            ],
            [
             0.4444444444444444,
             "#bd3786"
            ],
            [
             0.5555555555555556,
             "#d8576b"
            ],
            [
             0.6666666666666666,
             "#ed7953"
            ],
            [
             0.7777777777777778,
             "#fb9f3a"
            ],
            [
             0.8888888888888888,
             "#fdca26"
            ],
            [
             1,
             "#f0f921"
            ]
           ],
           "sequentialminus": [
            [
             0,
             "#0d0887"
            ],
            [
             0.1111111111111111,
             "#46039f"
            ],
            [
             0.2222222222222222,
             "#7201a8"
            ],
            [
             0.3333333333333333,
             "#9c179e"
            ],
            [
             0.4444444444444444,
             "#bd3786"
            ],
            [
             0.5555555555555556,
             "#d8576b"
            ],
            [
             0.6666666666666666,
             "#ed7953"
            ],
            [
             0.7777777777777778,
             "#fb9f3a"
            ],
            [
             0.8888888888888888,
             "#fdca26"
            ],
            [
             1,
             "#f0f921"
            ]
           ]
          },
          "colorway": [
           "#636efa",
           "#EF553B",
           "#00cc96",
           "#ab63fa",
           "#FFA15A",
           "#19d3f3",
           "#FF6692",
           "#B6E880",
           "#FF97FF",
           "#FECB52"
          ],
          "font": {
           "color": "#2a3f5f"
          },
          "geo": {
           "bgcolor": "white",
           "lakecolor": "white",
           "landcolor": "#E5ECF6",
           "showlakes": true,
           "showland": true,
           "subunitcolor": "white"
          },
          "hoverlabel": {
           "align": "left"
          },
          "hovermode": "closest",
          "mapbox": {
           "style": "light"
          },
          "paper_bgcolor": "white",
          "plot_bgcolor": "#E5ECF6",
          "polar": {
           "angularaxis": {
            "gridcolor": "white",
            "linecolor": "white",
            "ticks": ""
           },
           "bgcolor": "#E5ECF6",
           "radialaxis": {
            "gridcolor": "white",
            "linecolor": "white",
            "ticks": ""
           }
          },
          "scene": {
           "xaxis": {
            "backgroundcolor": "#E5ECF6",
            "gridcolor": "white",
            "gridwidth": 2,
            "linecolor": "white",
            "showbackground": true,
            "ticks": "",
            "zerolinecolor": "white"
           },
           "yaxis": {
            "backgroundcolor": "#E5ECF6",
            "gridcolor": "white",
            "gridwidth": 2,
            "linecolor": "white",
            "showbackground": true,
            "ticks": "",
            "zerolinecolor": "white"
           },
           "zaxis": {
            "backgroundcolor": "#E5ECF6",
            "gridcolor": "white",
            "gridwidth": 2,
            "linecolor": "white",
            "showbackground": true,
            "ticks": "",
            "zerolinecolor": "white"
           }
          },
          "shapedefaults": {
           "line": {
            "color": "#2a3f5f"
           }
          },
          "ternary": {
           "aaxis": {
            "gridcolor": "white",
            "linecolor": "white",
            "ticks": ""
           },
           "baxis": {
            "gridcolor": "white",
            "linecolor": "white",
            "ticks": ""
           },
           "bgcolor": "#E5ECF6",
           "caxis": {
            "gridcolor": "white",
            "linecolor": "white",
            "ticks": ""
           }
          },
          "title": {
           "x": 0.05
          },
          "xaxis": {
           "automargin": true,
           "gridcolor": "white",
           "linecolor": "white",
           "ticks": "",
           "title": {
            "standoff": 15
           },
           "zerolinecolor": "white",
           "zerolinewidth": 2
          },
          "yaxis": {
           "automargin": true,
           "gridcolor": "white",
           "linecolor": "white",
           "ticks": "",
           "title": {
            "standoff": 15
           },
           "zerolinecolor": "white",
           "zerolinewidth": 2
          }
         }
        },
        "title": {
         "text": "Sankey Diagram for consortia uses"
        },
        "width": 1300
       }
      }
     },
     "metadata": {},
     "output_type": "display_data"
    }
   ],
   "source": [
    "#sankey chart for genus of organisms, with updated groupings\n",
    "\n",
    "#creating a new dataframe to use in building the sankey chart\n",
    "\n",
    "#create an empty dataframe\n",
    "sankey_data = pd.DataFrame({'Source': [],\n",
    "                   'Target': [],\n",
    "                   'Value': [],\n",
    "                   'Color': []})\n",
    "\n",
    "organism_colouring = dict()\n",
    "colour_counter = 0\n",
    "\n",
    "#iterate over the rows of the dataframe\n",
    "#for index, row in all_df.iterrows():\n",
    "for index, row in df.iterrows():\n",
    "\n",
    "    #get lists of substrates, products, and organisms\n",
    "    substrates = row[\"Substrate\"].split(\", \")\n",
    "    organisms = row[\"Organisms\"].split(\", \")\n",
    "    products = row[\"Product\"].split(\", \")\n",
    "\n",
    "    #taking the first word to get the genus instead of the organisms\n",
    "    genuses = [organism.split(' ')[0] for organism in organisms]\n",
    "    #cluster the substrates and products using dictionaries\n",
    "    new_substrates = [substrate_map[substrate] for substrate in substrates]\n",
    "    new_products = [product_map[product] for product in products]\n",
    "\n",
    "    #adds colour to each organism using the pick_colour function\n",
    "    for genus in genuses:\n",
    "        if genus not in organism_colouring:\n",
    "            organism_colouring[genus] = pick_colour(genus)\n",
    "\n",
    "    #add links from each substrate to each organism\n",
    "    for substrate in new_substrates:\n",
    "        for genus in genuses:\n",
    "            sankey_data.loc[len(sankey_data.index)] = [substrate, genus, 1, organism_colouring[genus]]\n",
    "\n",
    "    #add links from each organism to each substrate\n",
    "    for genus in genuses:\n",
    "        for product in new_products:\n",
    "            sankey_data.loc[len(sankey_data.index)] = [genus, product, 1, organism_colouring[genus]]\n",
    "\n",
    "\n",
    "#needed modification for building the plot\n",
    "\n",
    "#get each unique source_target and a mapping to their index\n",
    "#unique_source_target = list(pd.unique(sankey_data[['Source', 'Target']].values.ravel('K')))\n",
    "unique_source_target = list(pd.unique(sankey_data[['Source', 'Target', 'Color']].values.ravel('K')))\n",
    "mapping_dict = {k: v for v, k in enumerate(unique_source_target)}\n",
    "sankey_data['Source'] = sankey_data['Source'].map(mapping_dict)\n",
    "sankey_data['Target'] = sankey_data['Target'].map(mapping_dict)\n",
    "sankey_dict = sankey_data.to_dict(orient='list')\n",
    "\n",
    "#setting colours for the nodes\n",
    "node_colours = [organism_colouring.get(i, \"grey\") for i in unique_source_target]\n",
    "\n",
    "#create diagram\n",
    "import plotly.express as px\n",
    "\n",
    "fig = go.Figure(data=[go.Sankey(\n",
    "    orientation = \"h\",\n",
    "    node = dict(\n",
    "      pad = 15,\n",
    "      thickness = 20,\n",
    "      line = dict(color = \"black\", width = 0.5),\n",
    "      label = unique_source_target,\n",
    "      #color = \"grey\"\n",
    "      color = node_colours\n",
    "    ),\n",
    "    link = dict(\n",
    "      source = sankey_dict[\"Source\"],\n",
    "      target = sankey_dict[\"Target\"],\n",
    "      value = sankey_dict[\"Value\"],\n",
    "      color = sankey_dict[\"Color\"]\n",
    "  ))])\n",
    "\n",
    "layout = dict(\n",
    "        title = \"Sankey Diagram for consortia uses\",\n",
    "    height = 850,\n",
    "    width = 1300,\n",
    "    font = dict(\n",
    "      size = 8),)\n",
    "\n",
    "#show figure\n",
    "fig.update_layout(layout)\n",
    "fig.show()"
   ]
  },
  {
   "cell_type": "code",
   "execution_count": 33,
   "metadata": {},
   "outputs": [],
   "source": [
    "fig.write_image('plots/sankey_genus_grouped_ecoli.pdf')"
   ]
  },
  {
   "cell_type": "code",
   "execution_count": 209,
   "metadata": {},
   "outputs": [
    {
     "data": {
      "text/plain": [
       "Family\n",
       "Enterobacteriaceae        28\n",
       "Clostridiaceae            17\n",
       "Bacillaceae                7\n",
       "Saccharomycetaceae         7\n",
       "Hypocreaceae               5\n",
       "Eubacteriaceae             5\n",
       "Lactobacillaceae           3\n",
       "Acetobacteraceae           2\n",
       "Saccotheciaceae            2\n",
       "Aspergillaceae             2\n",
       "Enterococcaceae            2\n",
       "Veillonellaceae            2\n",
       "Dipodascaceae              1\n",
       "Phanerochaetaceae          1\n",
       "Thermoanaerobacterales     1\n",
       "Synechococcaceae           1\n",
       "Streptomycetaceae          1\n",
       "Streptococcaceae           1\n",
       "Sphingomonadaceae          1\n",
       "Shewanellaceae             1\n",
       "Schizophyllaceae           1\n",
       "Beijerinckiaceae           1\n",
       "Burkholderiaceae           1\n",
       "Rhizopodaceae              1\n",
       "Rhizobiaceae               1\n",
       "Pseudomonas                1\n",
       "Pseudomonadaceae           1\n",
       "Promicromonosporaceae      1\n",
       "Phaffomycetaceae           1\n",
       "Desulfuromonadaceae        1\n",
       "Pasteurellaceae            1\n",
       "Paenibacillaceae           1\n",
       "Oscillospiraceae           1\n",
       "Nitrobacteraceae           1\n",
       "Neocallimastigaceae        1\n",
       "Caulobacteraceae           1\n",
       "Moraxellaceae              1\n",
       "Methylocystaceae           1\n",
       "Corynebacteriaceae         1\n",
       "Lachnospiraceae            1\n",
       "Desulfobacteriaceae        1\n",
       "Halomonadaceae             1\n",
       "Geobacteraceae             1\n",
       "Fomitopsidaceae            1\n",
       "Mycosphaerellaceae         1\n",
       "dtype: int64"
      ]
     },
     "execution_count": 209,
     "metadata": {},
     "output_type": "execute_result"
    }
   ],
   "source": [
    "#Plot showing most common organisms\n",
    "import matplotlib.pyplot as plt\n",
    "\n",
    "o_df = df.copy()\n",
    "\n",
    "o_df[\"Family\"] = o_df[\"Family\"].str.split(\", \")\n",
    "\n",
    "# Use the explode function to create a new row for each animal\n",
    "o_df = o_df.explode(\"Family\")\n",
    "\n",
    "#group\n",
    "organism_per_journal = o_df.groupby(\"Family\").size()\n",
    "\n",
    "#sort by decending order\n",
    "organism_per_journal = organism_per_journal.sort_values(ascending=False)\n",
    "\n",
    "organism_per_journal\n",
    "\n",
    "# #make the plot\n",
    "# organism_per_journal[:14].plot.bar()\n",
    "# plt.style.use('default')\n",
    "\n",
    "# #plt.setp(plt.gca().get_xticklabels(), rotation=60, ha=\"right\", va=\"top\")\n",
    "\n",
    "# plt.ylabel(\"Number of publications\")\n",
    "# plt.show()"
   ]
  },
  {
   "cell_type": "code",
   "execution_count": 201,
   "metadata": {},
   "outputs": [
    {
     "ename": "KeyError",
     "evalue": "'Thermoanaerobacterales'",
     "output_type": "error",
     "traceback": [
      "\u001b[0;31m---------------------------------------------------------------------------\u001b[0m",
      "\u001b[0;31mKeyError\u001b[0m                                  Traceback (most recent call last)",
      "File \u001b[0;32m~/Projects/BIOTBT3900/venv/lib/python3.10/site-packages/pandas/core/indexes/base.py:3803\u001b[0m, in \u001b[0;36mIndex.get_loc\u001b[0;34m(self, key, method, tolerance)\u001b[0m\n\u001b[1;32m   3802\u001b[0m \u001b[39mtry\u001b[39;00m:\n\u001b[0;32m-> 3803\u001b[0m     \u001b[39mreturn\u001b[39;00m \u001b[39mself\u001b[39;49m\u001b[39m.\u001b[39;49m_engine\u001b[39m.\u001b[39;49mget_loc(casted_key)\n\u001b[1;32m   3804\u001b[0m \u001b[39mexcept\u001b[39;00m \u001b[39mKeyError\u001b[39;00m \u001b[39mas\u001b[39;00m err:\n",
      "File \u001b[0;32m~/Projects/BIOTBT3900/venv/lib/python3.10/site-packages/pandas/_libs/index.pyx:138\u001b[0m, in \u001b[0;36mpandas._libs.index.IndexEngine.get_loc\u001b[0;34m()\u001b[0m\n",
      "File \u001b[0;32m~/Projects/BIOTBT3900/venv/lib/python3.10/site-packages/pandas/_libs/index.pyx:165\u001b[0m, in \u001b[0;36mpandas._libs.index.IndexEngine.get_loc\u001b[0;34m()\u001b[0m\n",
      "File \u001b[0;32mpandas/_libs/hashtable_class_helper.pxi:5745\u001b[0m, in \u001b[0;36mpandas._libs.hashtable.PyObjectHashTable.get_item\u001b[0;34m()\u001b[0m\n",
      "File \u001b[0;32mpandas/_libs/hashtable_class_helper.pxi:5753\u001b[0m, in \u001b[0;36mpandas._libs.hashtable.PyObjectHashTable.get_item\u001b[0;34m()\u001b[0m\n",
      "\u001b[0;31mKeyError\u001b[0m: 'Thermoanaerobacterales'",
      "\nThe above exception was the direct cause of the following exception:\n",
      "\u001b[0;31mKeyError\u001b[0m                                  Traceback (most recent call last)",
      "\u001b[1;32m/Users/andreastallvik/Projects/BIOTBT3900/literature search/sankey_diagram.ipynb Cell 18\u001b[0m in \u001b[0;36m1\n\u001b[0;32m----> <a href='vscode-notebook-cell:/Users/andreastallvik/Projects/BIOTBT3900/literature%20search/sankey_diagram.ipynb#X30sZmlsZQ%3D%3D?line=0'>1</a>\u001b[0m organism_per_journal[\u001b[39m'\u001b[39;49m\u001b[39mThermoanaerobacterales\u001b[39;49m\u001b[39m'\u001b[39;49m]\n",
      "File \u001b[0;32m~/Projects/BIOTBT3900/venv/lib/python3.10/site-packages/pandas/core/series.py:981\u001b[0m, in \u001b[0;36mSeries.__getitem__\u001b[0;34m(self, key)\u001b[0m\n\u001b[1;32m    978\u001b[0m     \u001b[39mreturn\u001b[39;00m \u001b[39mself\u001b[39m\u001b[39m.\u001b[39m_values[key]\n\u001b[1;32m    980\u001b[0m \u001b[39melif\u001b[39;00m key_is_scalar:\n\u001b[0;32m--> 981\u001b[0m     \u001b[39mreturn\u001b[39;00m \u001b[39mself\u001b[39;49m\u001b[39m.\u001b[39;49m_get_value(key)\n\u001b[1;32m    983\u001b[0m \u001b[39mif\u001b[39;00m is_hashable(key):\n\u001b[1;32m    984\u001b[0m     \u001b[39m# Otherwise index.get_value will raise InvalidIndexError\u001b[39;00m\n\u001b[1;32m    985\u001b[0m     \u001b[39mtry\u001b[39;00m:\n\u001b[1;32m    986\u001b[0m         \u001b[39m# For labels that don't resolve as scalars like tuples and frozensets\u001b[39;00m\n",
      "File \u001b[0;32m~/Projects/BIOTBT3900/venv/lib/python3.10/site-packages/pandas/core/series.py:1089\u001b[0m, in \u001b[0;36mSeries._get_value\u001b[0;34m(self, label, takeable)\u001b[0m\n\u001b[1;32m   1086\u001b[0m     \u001b[39mreturn\u001b[39;00m \u001b[39mself\u001b[39m\u001b[39m.\u001b[39m_values[label]\n\u001b[1;32m   1088\u001b[0m \u001b[39m# Similar to Index.get_value, but we do not fall back to positional\u001b[39;00m\n\u001b[0;32m-> 1089\u001b[0m loc \u001b[39m=\u001b[39m \u001b[39mself\u001b[39;49m\u001b[39m.\u001b[39;49mindex\u001b[39m.\u001b[39;49mget_loc(label)\n\u001b[1;32m   1090\u001b[0m \u001b[39mreturn\u001b[39;00m \u001b[39mself\u001b[39m\u001b[39m.\u001b[39mindex\u001b[39m.\u001b[39m_get_values_for_loc(\u001b[39mself\u001b[39m, loc, label)\n",
      "File \u001b[0;32m~/Projects/BIOTBT3900/venv/lib/python3.10/site-packages/pandas/core/indexes/base.py:3805\u001b[0m, in \u001b[0;36mIndex.get_loc\u001b[0;34m(self, key, method, tolerance)\u001b[0m\n\u001b[1;32m   3803\u001b[0m     \u001b[39mreturn\u001b[39;00m \u001b[39mself\u001b[39m\u001b[39m.\u001b[39m_engine\u001b[39m.\u001b[39mget_loc(casted_key)\n\u001b[1;32m   3804\u001b[0m \u001b[39mexcept\u001b[39;00m \u001b[39mKeyError\u001b[39;00m \u001b[39mas\u001b[39;00m err:\n\u001b[0;32m-> 3805\u001b[0m     \u001b[39mraise\u001b[39;00m \u001b[39mKeyError\u001b[39;00m(key) \u001b[39mfrom\u001b[39;00m \u001b[39merr\u001b[39;00m\n\u001b[1;32m   3806\u001b[0m \u001b[39mexcept\u001b[39;00m \u001b[39mTypeError\u001b[39;00m:\n\u001b[1;32m   3807\u001b[0m     \u001b[39m# If we have a listlike key, _check_indexing_error will raise\u001b[39;00m\n\u001b[1;32m   3808\u001b[0m     \u001b[39m#  InvalidIndexError. Otherwise we fall through and re-raise\u001b[39;00m\n\u001b[1;32m   3809\u001b[0m     \u001b[39m#  the TypeError.\u001b[39;00m\n\u001b[1;32m   3810\u001b[0m     \u001b[39mself\u001b[39m\u001b[39m.\u001b[39m_check_indexing_error(key)\n",
      "\u001b[0;31mKeyError\u001b[0m: 'Thermoanaerobacterales'"
     ]
    }
   ],
   "source": [
    "organism_per_journal['Thermoanaerobacterales']"
   ]
  },
  {
   "cell_type": "code",
   "execution_count": null,
   "metadata": {},
   "outputs": [],
   "source": []
  }
 ],
 "metadata": {
  "kernelspec": {
   "display_name": "venv",
   "language": "python",
   "name": "python3"
  },
  "language_info": {
   "codemirror_mode": {
    "name": "ipython",
    "version": 3
   },
   "file_extension": ".py",
   "mimetype": "text/x-python",
   "name": "python",
   "nbconvert_exporter": "python",
   "pygments_lexer": "ipython3",
   "version": "3.10.7"
  },
  "orig_nbformat": 4,
  "vscode": {
   "interpreter": {
    "hash": "4f87d8cc7474284f9c8af45145bf3bf74399b799d77169da0898430a19e4b3ea"
   }
  }
 },
 "nbformat": 4,
 "nbformat_minor": 2
}
