{
 "cells": [
  {
   "cell_type": "code",
   "execution_count": 1,
   "metadata": {},
   "outputs": [],
   "source": [
    "import pandas as pd\n",
    "import plotly.graph_objects as go\n",
    "\n",
    "df = pd.read_csv(\"defined_articles.csv\")"
   ]
  },
  {
   "cell_type": "code",
   "execution_count": 2,
   "metadata": {},
   "outputs": [],
   "source": [
    "import plotly.express as px\n",
    "import random\n",
    "\n",
    "def pick_colour(name):\n",
    "    color_wheel = px.colors.qualitative.Plotly\n",
    "    return random.choice(color_wheel)"
   ]
  },
  {
   "cell_type": "code",
   "execution_count": 3,
   "metadata": {},
   "outputs": [],
   "source": [
    "#creating a new dataframe to use in building the sankey chart\n",
    "\n",
    "#create an empty dataframe\n",
    "sankey_data = pd.DataFrame({'Source': [],\n",
    "                   'Target': [],\n",
    "                   'Value': [],\n",
    "                   'Color': []})\n",
    "\n",
    "organism_colouring = dict()\n",
    "colour_counter = 0\n",
    "\n",
    "#iterate over the rows of the dataframe\n",
    "for index, row in df.iterrows():\n",
    "\n",
    "    #get lists of substrates, products, and organisms\n",
    "    substrates = row[\"Substrate\"].split(\", \")\n",
    "    organisms = row[\"Organisms\"].split(\", \")\n",
    "    products = row[\"Product\"].split(\", \")\n",
    "\n",
    "    #adds colour to each organism using the pick_colour function\n",
    "    for organism in organisms:\n",
    "        if organism not in organism_colouring:\n",
    "            organism_colouring[organism] = pick_colour(organism)\n",
    "\n",
    "    #add links from each substrate to each organism\n",
    "    for substrate in substrates:\n",
    "        for organism in organisms:\n",
    "            sankey_data.loc[len(sankey_data.index)] = [substrate, organism, 1, organism_colouring[organism]]\n",
    "\n",
    "    #add links from each organism to each substrate\n",
    "    for organism in organisms:\n",
    "        for product in products:\n",
    "            sankey_data.loc[len(sankey_data.index)] = [organism, product, 1, organism_colouring[organism]]"
   ]
  },
  {
   "cell_type": "code",
   "execution_count": 4,
   "metadata": {},
   "outputs": [],
   "source": [
    "#needed modification for building the plot\n",
    "\n",
    "#get each unique source_target and a mapping to their index\n",
    "#unique_source_target = list(pd.unique(sankey_data[['Source', 'Target']].values.ravel('K')))\n",
    "unique_source_target = list(pd.unique(sankey_data[['Source', 'Target', 'Color']].values.ravel('K')))\n",
    "mapping_dict = {k: v for v, k in enumerate(unique_source_target)}\n",
    "sankey_data['Source'] = sankey_data['Source'].map(mapping_dict)\n",
    "sankey_data['Target'] = sankey_data['Target'].map(mapping_dict)\n",
    "sankey_dict = sankey_data.to_dict(orient='list')\n",
    "\n",
    "#setting colours for the nodes\n",
    "node_colours = [organism_colouring.get(i, \"grey\") for i in unique_source_target]"
   ]
  },
  {
   "cell_type": "code",
   "execution_count": 5,
   "metadata": {},
   "outputs": [
    {
     "data": {
      "application/vnd.plotly.v1+json": {
       "config": {
        "plotlyServerURL": "https://plot.ly"
       },
       "data": [
        {
         "link": {
          "color": [
           "#FF97FF",
           "#FF97FF",
           "#FF97FF",
           "#FECB52",
           "#FF97FF",
           "#FECB52",
           "#FFA15A",
           "#FF6692",
           "#FFA15A",
           "#FF6692",
           "#FF97FF",
           "#FF97FF",
           "#EF553B",
           "#EF553B",
           "#EF553B",
           "#636EFA",
           "#EF553B",
           "#636EFA",
           "#EF553B",
           "#EF553B",
           "#B6E880",
           "#EF553B",
           "#B6E880",
           "#B6E880",
           "#FF97FF",
           "#FF6692",
           "#B6E880",
           "#FF97FF",
           "#FF6692",
           "#FF97FF",
           "#FF97FF",
           "#FF97FF",
           "#FF97FF",
           "#00CC96",
           "#FF6692",
           "#636EFA",
           "#00CC96",
           "#00CC96",
           "#FF6692",
           "#FF6692",
           "#636EFA",
           "#636EFA",
           "#FF97FF",
           "#FF97FF",
           "#FF97FF",
           "#FF97FF",
           "#FF97FF",
           "#FF97FF",
           "#FF6692",
           "#FF6692",
           "#FF6692",
           "#FF6692",
           "#19D3F3",
           "#FFA15A",
           "#19D3F3",
           "#19D3F3",
           "#FFA15A",
           "#FFA15A",
           "#19D3F3",
           "#B6E880",
           "#19D3F3",
           "#B6E880",
           "#FFA15A",
           "#19D3F3",
           "#FFA15A",
           "#FFA15A",
           "#19D3F3",
           "#19D3F3",
           "#B6E880",
           "#FF97FF",
           "#AB63FA",
           "#B6E880",
           "#FF97FF",
           "#AB63FA",
           "#B6E880",
           "#00CC96",
           "#B6E880",
           "#00CC96",
           "#B6E880",
           "#00CC96",
           "#AB63FA",
           "#FF97FF",
           "#EF553B",
           "#B6E880",
           "#AB63FA",
           "#FF97FF",
           "#EF553B",
           "#B6E880",
           "#00CC96",
           "#00CC96",
           "#00CC96",
           "#00CC96",
           "#636EFA",
           "#AB63FA",
           "#636EFA",
           "#AB63FA",
           "#00CC96",
           "#EF553B",
           "#00CC96",
           "#EF553B",
           "#FF6692",
           "#FECB52",
           "#FF6692",
           "#FECB52",
           "#19D3F3",
           "#00CC96",
           "#FF97FF",
           "#19D3F3",
           "#19D3F3",
           "#00CC96",
           "#00CC96",
           "#FF97FF",
           "#FF97FF",
           "#AB63FA",
           "#FF97FF",
           "#AB63FA",
           "#FF97FF",
           "#FF97FF",
           "#EF553B",
           "#FF97FF",
           "#EF553B",
           "#FECB52",
           "#FFA15A",
           "#FECB52",
           "#FFA15A",
           "#FF6692",
           "#FF97FF",
           "#FF6692",
           "#FF97FF",
           "#FF6692",
           "#FF97FF",
           "#FF6692",
           "#FF97FF",
           "#FF97FF",
           "#FF97FF",
           "#FF97FF",
           "#FF97FF",
           "#FF97FF",
           "#FF97FF",
           "#FF97FF",
           "#FF97FF",
           "#AB63FA",
           "#636EFA",
           "#19D3F3",
           "#FFA15A",
           "#AB63FA",
           "#636EFA",
           "#19D3F3",
           "#FFA15A",
           "#FFA15A",
           "#FFA15A",
           "#FFA15A",
           "#FFA15A",
           "#FF97FF",
           "#FF97FF",
           "#FF97FF",
           "#FF97FF",
           "#FF97FF",
           "#FF97FF",
           "#FF97FF",
           "#FF97FF",
           "#FF97FF",
           "#00CC96",
           "#FF97FF",
           "#00CC96",
           "#00CC96",
           "#FF97FF",
           "#FF97FF",
           "#FFA15A",
           "#FF6692",
           "#FECB52",
           "#B6E880",
           "#FFA15A",
           "#FFA15A",
           "#FF6692",
           "#FF6692",
           "#FECB52",
           "#FECB52",
           "#B6E880",
           "#B6E880",
           "#B6E880",
           "#636EFA",
           "#B6E880",
           "#636EFA",
           "#FF6692",
           "#B6E880",
           "#FF6692",
           "#B6E880",
           "#FECB52",
           "#FFA15A",
           "#FECB52",
           "#FFA15A",
           "#AB63FA",
           "#EF553B",
           "#00CC96",
           "#AB63FA",
           "#EF553B",
           "#00CC96",
           "#AB63FA",
           "#EF553B",
           "#00CC96",
           "#B6E880",
           "#FF6692",
           "#B6E880",
           "#FF6692",
           "#B6E880",
           "#FF6692",
           "#FFA15A",
           "#FFA15A",
           "#FECB52",
           "#FFA15A",
           "#FFA15A",
           "#FECB52",
           "#FFA15A",
           "#FFA15A",
           "#FECB52",
           "#AB63FA",
           "#00CC96",
           "#AB63FA",
           "#00CC96",
           "#FF97FF",
           "#FF97FF",
           "#FF97FF",
           "#EF553B",
           "#FF97FF",
           "#EF553B",
           "#FF97FF",
           "#EF553B",
           "#FF6692",
           "#636EFA",
           "#FF6692",
           "#636EFA",
           "#FFA15A",
           "#FECB52",
           "#AB63FA",
           "#FFA15A",
           "#FECB52",
           "#AB63FA",
           "#636EFA",
           "#FF6692",
           "#636EFA",
           "#FF6692",
           "#AB63FA",
           "#FF97FF",
           "#AB63FA",
           "#FF97FF",
           "#FF97FF",
           "#FF97FF",
           "#AB63FA",
           "#EF553B",
           "#AB63FA",
           "#EF553B",
           "#636EFA",
           "#00CC96",
           "#636EFA",
           "#00CC96",
           "#FECB52",
           "#AB63FA",
           "#FECB52",
           "#AB63FA",
           "#FECB52",
           "#FECB52",
           "#FECB52",
           "#FECB52",
           "#FF97FF",
           "#FF97FF",
           "#FF97FF",
           "#FF97FF",
           "#FF97FF",
           "#FF97FF",
           "#FF97FF",
           "#FF97FF",
           "#EF553B",
           "#FF97FF",
           "#EF553B",
           "#EF553B",
           "#EF553B",
           "#EF553B",
           "#FF97FF",
           "#FF6692",
           "#FF97FF",
           "#FF6692",
           "#FF97FF",
           "#FECB52",
           "#FF97FF",
           "#FECB52",
           "#FFA15A",
           "#19D3F3",
           "#FFA15A",
           "#19D3F3",
           "#00CC96",
           "#FF97FF",
           "#00CC96",
           "#FF97FF",
           "#636EFA",
           "#636EFA",
           "#FF6692",
           "#636EFA",
           "#636EFA",
           "#FF6692",
           "#EF553B",
           "#00CC96",
           "#EF553B",
           "#00CC96",
           "#FF97FF",
           "#FF97FF"
          ],
          "source": [
           0,
           1,
           2,
           2,
           3,
           4,
           5,
           5,
           6,
           7,
           5,
           1,
           8,
           9,
           9,
           10,
           10,
           11,
           9,
           12,
           12,
           13,
           14,
           15,
           15,
           15,
           16,
           17,
           18,
           5,
           5,
           1,
           19,
           0,
           0,
           0,
           20,
           20,
           18,
           18,
           21,
           21,
           22,
           22,
           0,
           0,
           23,
           1,
           24,
           24,
           25,
           26,
           24,
           24,
           27,
           27,
           28,
           28,
           29,
           29,
           30,
           31,
           5,
           5,
           32,
           32,
           33,
           33,
           5,
           5,
           5,
           34,
           35,
           36,
           5,
           5,
           37,
           37,
           38,
           39,
           8,
           8,
           8,
           8,
           40,
           41,
           42,
           43,
           5,
           5,
           44,
           45,
           10,
           10,
           11,
           46,
           47,
           47,
           44,
           9,
           48,
           48,
           49,
           50,
           8,
           8,
           8,
           51,
           51,
           52,
           52,
           53,
           53,
           8,
           8,
           40,
           1,
           54,
           54,
           1,
           9,
           55,
           55,
           56,
           57,
           8,
           8,
           49,
           58,
           8,
           8,
           49,
           58,
           5,
           1,
           5,
           29,
           54,
           1,
           5,
           1,
           8,
           8,
           8,
           8,
           40,
           59,
           60,
           61,
           8,
           8,
           62,
           63,
           5,
           1,
           54,
           5,
           1,
           5,
           1,
           64,
           1,
           15,
           15,
           20,
           20,
           1,
           1,
           8,
           8,
           8,
           8,
           6,
           6,
           65,
           65,
           66,
           66,
           67,
           67,
           68,
           68,
           69,
           70,
           29,
           29,
           71,
           72,
           8,
           8,
           73,
           6,
           24,
           24,
           24,
           29,
           29,
           29,
           74,
           75,
           76,
           15,
           15,
           77,
           77,
           16,
           18,
           15,
           15,
           15,
           77,
           77,
           77,
           78,
           79,
           80,
           48,
           48,
           81,
           52,
           0,
           1,
           12,
           12,
           29,
           29,
           1,
           82,
           77,
           77,
           83,
           84,
           85,
           85,
           85,
           6,
           86,
           87,
           48,
           48,
           88,
           89,
           8,
           8,
           40,
           1,
           10,
           1,
           8,
           8,
           40,
           90,
           91,
           91,
           92,
           93,
           12,
           12,
           94,
           95,
           96,
           96,
           97,
           98,
           0,
           1,
           5,
           1,
           1,
           5,
           1,
           8,
           8,
           1,
           9,
           99,
           100,
           100,
           5,
           5,
           1,
           101,
           10,
           10,
           1,
           102,
           8,
           8,
           103,
           104,
           5,
           5,
           52,
           53,
           8,
           8,
           8,
           105,
           106,
           107,
           5,
           5,
           9,
           52,
           10,
           1
          ],
          "target": [
           1,
           108,
           3,
           4,
           109,
           109,
           6,
           7,
           110,
           110,
           1,
           111,
           9,
           112,
           113,
           11,
           9,
           114,
           114,
           13,
           14,
           115,
           115,
           16,
           17,
           18,
           116,
           116,
           116,
           1,
           19,
           117,
           117,
           20,
           18,
           21,
           118,
           119,
           118,
           119,
           118,
           119,
           23,
           1,
           23,
           1,
           120,
           120,
           25,
           26,
           121,
           121,
           27,
           28,
           122,
           123,
           122,
           123,
           30,
           31,
           124,
           124,
           32,
           33,
           125,
           126,
           125,
           126,
           34,
           35,
           36,
           127,
           127,
           127,
           38,
           39,
           38,
           39,
           124,
           124,
           40,
           41,
           42,
           43,
           128,
           128,
           128,
           128,
           44,
           45,
           125,
           125,
           11,
           46,
           129,
           129,
           44,
           9,
           130,
           130,
           49,
           50,
           131,
           131,
           51,
           52,
           53,
           132,
           133,
           132,
           133,
           132,
           133,
           40,
           1,
           133,
           133,
           1,
           9,
           134,
           134,
           56,
           57,
           135,
           135,
           49,
           58,
           133,
           133,
           49,
           58,
           133,
           133,
           1,
           136,
           1,
           1,
           1,
           137,
           1,
           138,
           40,
           59,
           60,
           61,
           139,
           139,
           139,
           139,
           62,
           63,
           140,
           140,
           1,
           141,
           1,
           1,
           142,
           1,
           143,
           1,
           108,
           20,
           1,
           144,
           145,
           144,
           145,
           6,
           65,
           66,
           67,
           116,
           133,
           116,
           133,
           116,
           133,
           116,
           133,
           69,
           70,
           132,
           132,
           71,
           72,
           146,
           146,
           73,
           6,
           133,
           133,
           74,
           75,
           76,
           74,
           75,
           76,
           147,
           147,
           147,
           16,
           18,
           16,
           18,
           148,
           148,
           78,
           79,
           80,
           78,
           79,
           80,
           149,
           149,
           149,
           81,
           52,
           132,
           132,
           1,
           150,
           1,
           82,
           1,
           82,
           151,
           151,
           83,
           84,
           152,
           152,
           6,
           86,
           87,
           132,
           132,
           132,
           88,
           89,
           132,
           132,
           40,
           1,
           133,
           133,
           1,
           153,
           40,
           90,
           154,
           154,
           92,
           93,
           132,
           132,
           94,
           95,
           132,
           132,
           97,
           98,
           140,
           140,
           1,
           155,
           1,
           156,
           157,
           1,
           155,
           1,
           9,
           131,
           131,
           100,
           158,
           159,
           1,
           101,
           132,
           132,
           1,
           102,
           160,
           160,
           103,
           104,
           140,
           140,
           52,
           53,
           133,
           133,
           105,
           106,
           107,
           131,
           131,
           131,
           9,
           52,
           133,
           133,
           1,
           161
          ],
          "value": [
           1,
           1,
           1,
           1,
           1,
           1,
           1,
           1,
           1,
           1,
           1,
           1,
           1,
           1,
           1,
           1,
           1,
           1,
           1,
           1,
           1,
           1,
           1,
           1,
           1,
           1,
           1,
           1,
           1,
           1,
           1,
           1,
           1,
           1,
           1,
           1,
           1,
           1,
           1,
           1,
           1,
           1,
           1,
           1,
           1,
           1,
           1,
           1,
           1,
           1,
           1,
           1,
           1,
           1,
           1,
           1,
           1,
           1,
           1,
           1,
           1,
           1,
           1,
           1,
           1,
           1,
           1,
           1,
           1,
           1,
           1,
           1,
           1,
           1,
           1,
           1,
           1,
           1,
           1,
           1,
           1,
           1,
           1,
           1,
           1,
           1,
           1,
           1,
           1,
           1,
           1,
           1,
           1,
           1,
           1,
           1,
           1,
           1,
           1,
           1,
           1,
           1,
           1,
           1,
           1,
           1,
           1,
           1,
           1,
           1,
           1,
           1,
           1,
           1,
           1,
           1,
           1,
           1,
           1,
           1,
           1,
           1,
           1,
           1,
           1,
           1,
           1,
           1,
           1,
           1,
           1,
           1,
           1,
           1,
           1,
           1,
           1,
           1,
           1,
           1,
           1,
           1,
           1,
           1,
           1,
           1,
           1,
           1,
           1,
           1,
           1,
           1,
           1,
           1,
           1,
           1,
           1,
           1,
           1,
           1,
           1,
           1,
           1,
           1,
           1,
           1,
           1,
           1,
           1,
           1,
           1,
           1,
           1,
           1,
           1,
           1,
           1,
           1,
           1,
           1,
           1,
           1,
           1,
           1,
           1,
           1,
           1,
           1,
           1,
           1,
           1,
           1,
           1,
           1,
           1,
           1,
           1,
           1,
           1,
           1,
           1,
           1,
           1,
           1,
           1,
           1,
           1,
           1,
           1,
           1,
           1,
           1,
           1,
           1,
           1,
           1,
           1,
           1,
           1,
           1,
           1,
           1,
           1,
           1,
           1,
           1,
           1,
           1,
           1,
           1,
           1,
           1,
           1,
           1,
           1,
           1,
           1,
           1,
           1,
           1,
           1,
           1,
           1,
           1,
           1,
           1,
           1,
           1,
           1,
           1,
           1,
           1,
           1,
           1,
           1,
           1,
           1,
           1,
           1,
           1,
           1,
           1,
           1,
           1,
           1,
           1,
           1,
           1,
           1,
           1,
           1,
           1,
           1,
           1,
           1,
           1,
           1,
           1,
           1,
           1,
           1,
           1,
           1,
           1,
           1,
           1,
           1,
           1,
           1,
           1,
           1,
           1,
           1,
           1,
           1,
           1,
           1,
           1,
           1,
           1,
           1,
           1,
           1,
           1,
           1,
           1
          ]
         },
         "node": {
          "color": [
           "grey",
           "#FF97FF",
           "grey",
           "#FF97FF",
           "#FECB52",
           "grey",
           "#FFA15A",
           "#FF6692",
           "grey",
           "#EF553B",
           "grey",
           "#636EFA",
           "grey",
           "#EF553B",
           "#B6E880",
           "grey",
           "#B6E880",
           "#FF97FF",
           "#FF6692",
           "#FF97FF",
           "#00CC96",
           "#636EFA",
           "grey",
           "#FF97FF",
           "grey",
           "#FF6692",
           "#FF6692",
           "#19D3F3",
           "#FFA15A",
           "grey",
           "#19D3F3",
           "#B6E880",
           "#FFA15A",
           "#19D3F3",
           "#B6E880",
           "#FF97FF",
           "#AB63FA",
           "grey",
           "#B6E880",
           "#00CC96",
           "#AB63FA",
           "#FF97FF",
           "#EF553B",
           "#B6E880",
           "#00CC96",
           "#00CC96",
           "#AB63FA",
           "grey",
           "grey",
           "#FF6692",
           "#FECB52",
           "#19D3F3",
           "#00CC96",
           "#FF97FF",
           "grey",
           "grey",
           "#FECB52",
           "#FFA15A",
           "#FF97FF",
           "#636EFA",
           "#19D3F3",
           "#FFA15A",
           "#FFA15A",
           "#FFA15A",
           "grey",
           "#FF6692",
           "#FECB52",
           "#B6E880",
           "grey",
           "#B6E880",
           "#636EFA",
           "#FF6692",
           "#B6E880",
           "#FECB52",
           "#AB63FA",
           "#EF553B",
           "#00CC96",
           "grey",
           "#FFA15A",
           "#FFA15A",
           "#FECB52",
           "#AB63FA",
           "#EF553B",
           "#FF6692",
           "#636EFA",
           "grey",
           "#FECB52",
           "#AB63FA",
           "#636EFA",
           "#FF6692",
           "#EF553B",
           "grey",
           "#636EFA",
           "#00CC96",
           "#FECB52",
           "#AB63FA",
           "grey",
           "#FECB52",
           "#FECB52",
           "grey",
           "#EF553B",
           "#FF6692",
           "#FECB52",
           "#FFA15A",
           "#19D3F3",
           "#636EFA",
           "#636EFA",
           "#FF6692",
           "grey",
           "grey",
           "grey",
           "grey",
           "grey",
           "grey",
           "grey",
           "grey",
           "grey",
           "grey",
           "grey",
           "grey",
           "grey",
           "grey",
           "grey",
           "grey",
           "grey",
           "grey",
           "grey",
           "grey",
           "grey",
           "grey",
           "grey",
           "grey",
           "grey",
           "grey",
           "grey",
           "grey",
           "grey",
           "grey",
           "grey",
           "grey",
           "grey",
           "grey",
           "grey",
           "grey",
           "grey",
           "grey",
           "grey",
           "grey",
           "grey",
           "grey",
           "grey",
           "grey",
           "grey",
           "grey",
           "grey",
           "grey",
           "grey",
           "grey",
           "grey",
           "grey",
           "grey",
           "grey",
           "grey",
           "grey",
           "grey",
           "grey",
           "grey",
           "grey",
           "grey",
           "grey",
           "grey",
           "grey"
          ],
          "label": [
           "Glycerol",
           "Escherichia coli",
           "Casein",
           "Marinirhabdus sp",
           "Marinobacter hydrocarbonoclasticus",
           "Glucose",
           "Clostridium acetobutylicum",
           "Actinobacillus succinogenes",
           "Lignocellulose",
           "Saccharomyces cerevisiae",
           "Amino acid medium",
           "Lactobacillus plantarum",
           "Starch",
           "Cellulomonas cellulans",
           "Agrobacterium tumefaciens",
           "CO",
           "Clostridium autoethanogenum",
           "Eubacterium rectale",
           "Clostridium kluyveri",
           "Acinetobacter baylyi",
           "Eubacterium limosum",
           "Massilibacterium senegalense",
           "Phenanthrene",
           "Pseudomonas putida",
           "Food waste",
           "Pediococcus pentosaceus",
           "Megaphaera cerevisiae",
           "Bacillus amyloliquefaciens",
           "Yarrowia lipolytica",
           "Sucrose",
           "Ralstonia eutropha",
           "Bacillus subtilis",
           "Gluconacetobacter hansenii",
           "Lactococcus lactis",
           "Cercospora sp",
           "Bacillus velezensis",
           "Lysinibacillus sp",
           "VFA_s",
           "Pseudomonas sp",
           "Bacillus sp",
           "Trichoderma reesei",
           "Penicillium decumbens",
           "Aspergillus tubingensis",
           "Aspergillus niger",
           "Aureobasidium pullulans",
           "Komagataeibacter hansenii",
           "Weissella cibaria",
           "Saccharides",
           "Cellulose",
           "Clostridium thermocellum",
           "Clostridium thermohydrosulfuricum",
           "Enterococcus sp",
           "Clostridium beijerinckii",
           "Clostridium cellulovorans",
           "Xylose",
           "Light",
           "Synechococcus elongatus",
           "Halomonas boliviensis",
           "Clostridium saccharoperbutylacetonicum",
           "Clostridium tyrobutyricum",
           "Veillonella criceti",
           "Megasphaera elsdenii",
           "Clostridium cellulolyticum",
           "Geobacter sulfurreducens",
           "Tryptophan",
           "Anaeromyces robustus",
           "Neocallimastix californiae",
           "Caecomyces churrovis",
           "Wastewater sludge",
           "Salmonella subterranea",
           "Paenibacillus polymyxa",
           "Aspergillus fumigatus",
           "Sphingomonas sp",
           "Thermoanaerobacterium thermosaccharolyticum",
           "Aeribacillus pallidus",
           "Lysinibacillus fusiformis",
           "Anoxybacillus kamchatkensis",
           "Syngas",
           "Acetobacterium wieringae",
           "Pelobacter propionicus",
           "Anaerotignum neopropionicum",
           "Clostridium termitidis",
           "Corynebacterium glutamicum",
           "Mithylosinus sporium",
           "Methylocella tundrae",
           "Industrial waste",
           "Enterobacter cloacae",
           "Kluyveromyces marxianus",
           "Enterococcus gallinarum",
           "Ethanoigenens harbinense",
           "Rhizopus delemar",
           "Meat extract",
           "Clostridium roseum",
           "Clostridium butyricum",
           "Bacillus cereus",
           "Brevundimonas naejangsanensis",
           "CO2",
           "Desulfopila corrodens",
           "Acetobacterium woodii",
           "Methanol_s",
           "Pichia pastoris",
           "Rhodopseudomonas palustris",
           "Streptomyces venezuelae",
           "Klebsiella pneumonia",
           "Shewanella oneidensis",
           "Schizophyllum commune",
           "Bjerkandera adusta",
           "Fomitopsis palustris",
           "Indigo",
           "Protease",
           "Butyl acetate",
           "Biomass",
           "P-coumaric acid",
           "Caffeic acid",
           "Vitamins",
           "Polysaccharide",
           "Butyrate",
           "Recombinant protein",
           "1,3-Propanediol",
           "Caproate",
           "Biosurfactants",
           "VFA",
           "Lipopeptides",
           "Fatty acid",
           "Polyhydroxyalkanoate",
           "Bacterial cellulose",
           "Hyaluronic acid nanocomposite",
           "Cercosporin",
           "Glucose_p",
           "Antilisterial compounds",
           "Fructo-oligosaccharide",
           "Ethanol",
           "Hydrogen",
           "Butanol",
           "Pharmaceutically active compounds",
           "PHB",
           "Phenol",
           "Rosmarinic acid",
           "Pyranoanthocyanins",
           "SCFA",
           "Electricity",
           "Anthocyanins",
           "Glycosides",
           "Flavonoids",
           "3-hydroxypropionic acid",
           "Itaconic acid",
           "Glionitrin B",
           "Microbial proteases",
           "MCFA",
           "Propionate",
           "3-hydroxybenzoic acid",
           "L-lysine",
           "Methanol_p",
           "Antibodies",
           "Fumaric acid",
           "Resveratrol",
           "caffeyl alcohol",
           "coniferyl alcohol",
           "Monacolin",
           "lovastatin",
           "O-methylated phenylpropanoids",
           "7-methylxanthine",
           "#FF97FF",
           "#FECB52",
           "#FFA15A",
           "#FF6692",
           "#EF553B",
           "#636EFA",
           "#B6E880",
           "#00CC96",
           "#19D3F3",
           "#AB63FA"
          ],
          "line": {
           "color": "black",
           "width": 0.5
          },
          "pad": 15,
          "thickness": 20
         },
         "orientation": "h",
         "type": "sankey"
        }
       ],
       "layout": {
        "font": {
         "size": 8
        },
        "height": 850,
        "template": {
         "data": {
          "bar": [
           {
            "error_x": {
             "color": "#2a3f5f"
            },
            "error_y": {
             "color": "#2a3f5f"
            },
            "marker": {
             "line": {
              "color": "#E5ECF6",
              "width": 0.5
             },
             "pattern": {
              "fillmode": "overlay",
              "size": 10,
              "solidity": 0.2
             }
            },
            "type": "bar"
           }
          ],
          "barpolar": [
           {
            "marker": {
             "line": {
              "color": "#E5ECF6",
              "width": 0.5
             },
             "pattern": {
              "fillmode": "overlay",
              "size": 10,
              "solidity": 0.2
             }
            },
            "type": "barpolar"
           }
          ],
          "carpet": [
           {
            "aaxis": {
             "endlinecolor": "#2a3f5f",
             "gridcolor": "white",
             "linecolor": "white",
             "minorgridcolor": "white",
             "startlinecolor": "#2a3f5f"
            },
            "baxis": {
             "endlinecolor": "#2a3f5f",
             "gridcolor": "white",
             "linecolor": "white",
             "minorgridcolor": "white",
             "startlinecolor": "#2a3f5f"
            },
            "type": "carpet"
           }
          ],
          "choropleth": [
           {
            "colorbar": {
             "outlinewidth": 0,
             "ticks": ""
            },
            "type": "choropleth"
           }
          ],
          "contour": [
           {
            "colorbar": {
             "outlinewidth": 0,
             "ticks": ""
            },
            "colorscale": [
             [
              0,
              "#0d0887"
             ],
             [
              0.1111111111111111,
              "#46039f"
             ],
             [
              0.2222222222222222,
              "#7201a8"
             ],
             [
              0.3333333333333333,
              "#9c179e"
             ],
             [
              0.4444444444444444,
              "#bd3786"
             ],
             [
              0.5555555555555556,
              "#d8576b"
             ],
             [
              0.6666666666666666,
              "#ed7953"
             ],
             [
              0.7777777777777778,
              "#fb9f3a"
             ],
             [
              0.8888888888888888,
              "#fdca26"
             ],
             [
              1,
              "#f0f921"
             ]
            ],
            "type": "contour"
           }
          ],
          "contourcarpet": [
           {
            "colorbar": {
             "outlinewidth": 0,
             "ticks": ""
            },
            "type": "contourcarpet"
           }
          ],
          "heatmap": [
           {
            "colorbar": {
             "outlinewidth": 0,
             "ticks": ""
            },
            "colorscale": [
             [
              0,
              "#0d0887"
             ],
             [
              0.1111111111111111,
              "#46039f"
             ],
             [
              0.2222222222222222,
              "#7201a8"
             ],
             [
              0.3333333333333333,
              "#9c179e"
             ],
             [
              0.4444444444444444,
              "#bd3786"
             ],
             [
              0.5555555555555556,
              "#d8576b"
             ],
             [
              0.6666666666666666,
              "#ed7953"
             ],
             [
              0.7777777777777778,
              "#fb9f3a"
             ],
             [
              0.8888888888888888,
              "#fdca26"
             ],
             [
              1,
              "#f0f921"
             ]
            ],
            "type": "heatmap"
           }
          ],
          "heatmapgl": [
           {
            "colorbar": {
             "outlinewidth": 0,
             "ticks": ""
            },
            "colorscale": [
             [
              0,
              "#0d0887"
             ],
             [
              0.1111111111111111,
              "#46039f"
             ],
             [
              0.2222222222222222,
              "#7201a8"
             ],
             [
              0.3333333333333333,
              "#9c179e"
             ],
             [
              0.4444444444444444,
              "#bd3786"
             ],
             [
              0.5555555555555556,
              "#d8576b"
             ],
             [
              0.6666666666666666,
              "#ed7953"
             ],
             [
              0.7777777777777778,
              "#fb9f3a"
             ],
             [
              0.8888888888888888,
              "#fdca26"
             ],
             [
              1,
              "#f0f921"
             ]
            ],
            "type": "heatmapgl"
           }
          ],
          "histogram": [
           {
            "marker": {
             "pattern": {
              "fillmode": "overlay",
              "size": 10,
              "solidity": 0.2
             }
            },
            "type": "histogram"
           }
          ],
          "histogram2d": [
           {
            "colorbar": {
             "outlinewidth": 0,
             "ticks": ""
            },
            "colorscale": [
             [
              0,
              "#0d0887"
             ],
             [
              0.1111111111111111,
              "#46039f"
             ],
             [
              0.2222222222222222,
              "#7201a8"
             ],
             [
              0.3333333333333333,
              "#9c179e"
             ],
             [
              0.4444444444444444,
              "#bd3786"
             ],
             [
              0.5555555555555556,
              "#d8576b"
             ],
             [
              0.6666666666666666,
              "#ed7953"
             ],
             [
              0.7777777777777778,
              "#fb9f3a"
             ],
             [
              0.8888888888888888,
              "#fdca26"
             ],
             [
              1,
              "#f0f921"
             ]
            ],
            "type": "histogram2d"
           }
          ],
          "histogram2dcontour": [
           {
            "colorbar": {
             "outlinewidth": 0,
             "ticks": ""
            },
            "colorscale": [
             [
              0,
              "#0d0887"
             ],
             [
              0.1111111111111111,
              "#46039f"
             ],
             [
              0.2222222222222222,
              "#7201a8"
             ],
             [
              0.3333333333333333,
              "#9c179e"
             ],
             [
              0.4444444444444444,
              "#bd3786"
             ],
             [
              0.5555555555555556,
              "#d8576b"
             ],
             [
              0.6666666666666666,
              "#ed7953"
             ],
             [
              0.7777777777777778,
              "#fb9f3a"
             ],
             [
              0.8888888888888888,
              "#fdca26"
             ],
             [
              1,
              "#f0f921"
             ]
            ],
            "type": "histogram2dcontour"
           }
          ],
          "mesh3d": [
           {
            "colorbar": {
             "outlinewidth": 0,
             "ticks": ""
            },
            "type": "mesh3d"
           }
          ],
          "parcoords": [
           {
            "line": {
             "colorbar": {
              "outlinewidth": 0,
              "ticks": ""
             }
            },
            "type": "parcoords"
           }
          ],
          "pie": [
           {
            "automargin": true,
            "type": "pie"
           }
          ],
          "scatter": [
           {
            "fillpattern": {
             "fillmode": "overlay",
             "size": 10,
             "solidity": 0.2
            },
            "type": "scatter"
           }
          ],
          "scatter3d": [
           {
            "line": {
             "colorbar": {
              "outlinewidth": 0,
              "ticks": ""
             }
            },
            "marker": {
             "colorbar": {
              "outlinewidth": 0,
              "ticks": ""
             }
            },
            "type": "scatter3d"
           }
          ],
          "scattercarpet": [
           {
            "marker": {
             "colorbar": {
              "outlinewidth": 0,
              "ticks": ""
             }
            },
            "type": "scattercarpet"
           }
          ],
          "scattergeo": [
           {
            "marker": {
             "colorbar": {
              "outlinewidth": 0,
              "ticks": ""
             }
            },
            "type": "scattergeo"
           }
          ],
          "scattergl": [
           {
            "marker": {
             "colorbar": {
              "outlinewidth": 0,
              "ticks": ""
             }
            },
            "type": "scattergl"
           }
          ],
          "scattermapbox": [
           {
            "marker": {
             "colorbar": {
              "outlinewidth": 0,
              "ticks": ""
             }
            },
            "type": "scattermapbox"
           }
          ],
          "scatterpolar": [
           {
            "marker": {
             "colorbar": {
              "outlinewidth": 0,
              "ticks": ""
             }
            },
            "type": "scatterpolar"
           }
          ],
          "scatterpolargl": [
           {
            "marker": {
             "colorbar": {
              "outlinewidth": 0,
              "ticks": ""
             }
            },
            "type": "scatterpolargl"
           }
          ],
          "scatterternary": [
           {
            "marker": {
             "colorbar": {
              "outlinewidth": 0,
              "ticks": ""
             }
            },
            "type": "scatterternary"
           }
          ],
          "surface": [
           {
            "colorbar": {
             "outlinewidth": 0,
             "ticks": ""
            },
            "colorscale": [
             [
              0,
              "#0d0887"
             ],
             [
              0.1111111111111111,
              "#46039f"
             ],
             [
              0.2222222222222222,
              "#7201a8"
             ],
             [
              0.3333333333333333,
              "#9c179e"
             ],
             [
              0.4444444444444444,
              "#bd3786"
             ],
             [
              0.5555555555555556,
              "#d8576b"
             ],
             [
              0.6666666666666666,
              "#ed7953"
             ],
             [
              0.7777777777777778,
              "#fb9f3a"
             ],
             [
              0.8888888888888888,
              "#fdca26"
             ],
             [
              1,
              "#f0f921"
             ]
            ],
            "type": "surface"
           }
          ],
          "table": [
           {
            "cells": {
             "fill": {
              "color": "#EBF0F8"
             },
             "line": {
              "color": "white"
             }
            },
            "header": {
             "fill": {
              "color": "#C8D4E3"
             },
             "line": {
              "color": "white"
             }
            },
            "type": "table"
           }
          ]
         },
         "layout": {
          "annotationdefaults": {
           "arrowcolor": "#2a3f5f",
           "arrowhead": 0,
           "arrowwidth": 1
          },
          "autotypenumbers": "strict",
          "coloraxis": {
           "colorbar": {
            "outlinewidth": 0,
            "ticks": ""
           }
          },
          "colorscale": {
           "diverging": [
            [
             0,
             "#8e0152"
            ],
            [
             0.1,
             "#c51b7d"
            ],
            [
             0.2,
             "#de77ae"
            ],
            [
             0.3,
             "#f1b6da"
            ],
            [
             0.4,
             "#fde0ef"
            ],
            [
             0.5,
             "#f7f7f7"
            ],
            [
             0.6,
             "#e6f5d0"
            ],
            [
             0.7,
             "#b8e186"
            ],
            [
             0.8,
             "#7fbc41"
            ],
            [
             0.9,
             "#4d9221"
            ],
            [
             1,
             "#276419"
            ]
           ],
           "sequential": [
            [
             0,
             "#0d0887"
            ],
            [
             0.1111111111111111,
             "#46039f"
            ],
            [
             0.2222222222222222,
             "#7201a8"
            ],
            [
             0.3333333333333333,
             "#9c179e"
            ],
            [
             0.4444444444444444,
             "#bd3786"
            ],
            [
             0.5555555555555556,
             "#d8576b"
            ],
            [
             0.6666666666666666,
             "#ed7953"
            ],
            [
             0.7777777777777778,
             "#fb9f3a"
            ],
            [
             0.8888888888888888,
             "#fdca26"
            ],
            [
             1,
             "#f0f921"
            ]
           ],
           "sequentialminus": [
            [
             0,
             "#0d0887"
            ],
            [
             0.1111111111111111,
             "#46039f"
            ],
            [
             0.2222222222222222,
             "#7201a8"
            ],
            [
             0.3333333333333333,
             "#9c179e"
            ],
            [
             0.4444444444444444,
             "#bd3786"
            ],
            [
             0.5555555555555556,
             "#d8576b"
            ],
            [
             0.6666666666666666,
             "#ed7953"
            ],
            [
             0.7777777777777778,
             "#fb9f3a"
            ],
            [
             0.8888888888888888,
             "#fdca26"
            ],
            [
             1,
             "#f0f921"
            ]
           ]
          },
          "colorway": [
           "#636efa",
           "#EF553B",
           "#00cc96",
           "#ab63fa",
           "#FFA15A",
           "#19d3f3",
           "#FF6692",
           "#B6E880",
           "#FF97FF",
           "#FECB52"
          ],
          "font": {
           "color": "#2a3f5f"
          },
          "geo": {
           "bgcolor": "white",
           "lakecolor": "white",
           "landcolor": "#E5ECF6",
           "showlakes": true,
           "showland": true,
           "subunitcolor": "white"
          },
          "hoverlabel": {
           "align": "left"
          },
          "hovermode": "closest",
          "mapbox": {
           "style": "light"
          },
          "paper_bgcolor": "white",
          "plot_bgcolor": "#E5ECF6",
          "polar": {
           "angularaxis": {
            "gridcolor": "white",
            "linecolor": "white",
            "ticks": ""
           },
           "bgcolor": "#E5ECF6",
           "radialaxis": {
            "gridcolor": "white",
            "linecolor": "white",
            "ticks": ""
           }
          },
          "scene": {
           "xaxis": {
            "backgroundcolor": "#E5ECF6",
            "gridcolor": "white",
            "gridwidth": 2,
            "linecolor": "white",
            "showbackground": true,
            "ticks": "",
            "zerolinecolor": "white"
           },
           "yaxis": {
            "backgroundcolor": "#E5ECF6",
            "gridcolor": "white",
            "gridwidth": 2,
            "linecolor": "white",
            "showbackground": true,
            "ticks": "",
            "zerolinecolor": "white"
           },
           "zaxis": {
            "backgroundcolor": "#E5ECF6",
            "gridcolor": "white",
            "gridwidth": 2,
            "linecolor": "white",
            "showbackground": true,
            "ticks": "",
            "zerolinecolor": "white"
           }
          },
          "shapedefaults": {
           "line": {
            "color": "#2a3f5f"
           }
          },
          "ternary": {
           "aaxis": {
            "gridcolor": "white",
            "linecolor": "white",
            "ticks": ""
           },
           "baxis": {
            "gridcolor": "white",
            "linecolor": "white",
            "ticks": ""
           },
           "bgcolor": "#E5ECF6",
           "caxis": {
            "gridcolor": "white",
            "linecolor": "white",
            "ticks": ""
           }
          },
          "title": {
           "x": 0.05
          },
          "xaxis": {
           "automargin": true,
           "gridcolor": "white",
           "linecolor": "white",
           "ticks": "",
           "title": {
            "standoff": 15
           },
           "zerolinecolor": "white",
           "zerolinewidth": 2
          },
          "yaxis": {
           "automargin": true,
           "gridcolor": "white",
           "linecolor": "white",
           "ticks": "",
           "title": {
            "standoff": 15
           },
           "zerolinecolor": "white",
           "zerolinewidth": 2
          }
         }
        },
        "title": {
         "text": "Sankey Diagram for consortia uses"
        }
       }
      }
     },
     "metadata": {},
     "output_type": "display_data"
    }
   ],
   "source": [
    "#create diagram\n",
    "import plotly.express as px\n",
    "\n",
    "fig = go.Figure(data=[go.Sankey(\n",
    "    orientation = \"h\",\n",
    "    node = dict(\n",
    "      pad = 15,\n",
    "      thickness = 20,\n",
    "      line = dict(color = \"black\", width = 0.5),\n",
    "      label = unique_source_target,\n",
    "      #color = \"grey\"\n",
    "      color = node_colours\n",
    "    ),\n",
    "    link = dict(\n",
    "      source = sankey_dict[\"Source\"],\n",
    "      target = sankey_dict[\"Target\"],\n",
    "      value = sankey_dict[\"Value\"],\n",
    "      color = sankey_dict[\"Color\"]\n",
    "      #color = [px.colors.qualitative.Plotly[unique_source_target.index(i) % len(px.colors.qualitative.Plotly)] for i in unique_source_target]\n",
    "  ))])\n",
    "\n",
    "layout = dict(\n",
    "        title = \"Sankey Diagram for consortia uses\",\n",
    "    height = 850,\n",
    "    font = dict(\n",
    "      size = 8),)\n",
    "\n",
    "#show figure\n",
    "fig.update_layout(layout)\n",
    "fig.show()"
   ]
  },
  {
   "cell_type": "code",
   "execution_count": 11,
   "metadata": {},
   "outputs": [],
   "source": [
    "#save the figure as a .svg file\n",
    "fig.write_image(\"plots/sankey_diagram.png\")"
   ]
  },
  {
   "cell_type": "code",
   "execution_count": 10,
   "metadata": {},
   "outputs": [
    {
     "data": {
      "application/vnd.plotly.v1+json": {
       "config": {
        "plotlyServerURL": "https://plot.ly"
       },
       "data": [
        {
         "link": {
          "color": [
           "#FFA15A",
           "#FFA15A",
           "#EF553B",
           "#EF553B",
           "#EF553B",
           "#EF553B",
           "#B6E880",
           "#B6E880",
           "#B6E880",
           "#B6E880",
           "#FFA15A",
           "#FFA15A",
           "#FF97FF",
           "#FF97FF",
           "#FF97FF",
           "#FF97FF",
           "#FF97FF",
           "#FF97FF",
           "#FF97FF",
           "#00CC96",
           "#19D3F3",
           "#19D3F3",
           "#19D3F3",
           "#B6E880",
           "#FECB52",
           "#B6E880",
           "#B6E880",
           "#B6E880",
           "#B6E880",
           "#FFA15A",
           "#636EFA",
           "#636EFA",
           "#636EFA",
           "#FECB52",
           "#B6E880",
           "#EF553B",
           "#EF553B",
           "#EF553B",
           "#EF553B",
           "#EF553B",
           "#EF553B",
           "#EF553B",
           "#FFA15A",
           "#FFA15A",
           "#FFA15A",
           "#FFA15A",
           "#FFA15A",
           "#FFA15A",
           "#FECB52",
           "#00CC96",
           "#00CC96",
           "#00CC96",
           "#FF6692",
           "#00CC96",
           "#00CC96",
           "#00CC96",
           "#00CC96",
           "#00CC96",
           "#19D3F3",
           "#FF6692",
           "#FF6692",
           "#FF6692",
           "#FF6692",
           "#FFA15A",
           "#FFA15A",
           "#FFA15A",
           "#FFA15A",
           "#FFA15A",
           "#EF553B",
           "#FF6692",
           "#FECB52",
           "#FECB52",
           "#FECB52",
           "#FECB52",
           "#FFA15A",
           "#FF6692",
           "#FFA15A",
           "#FF6692",
           "#FF6692",
           "#FF6692",
           "#00CC96",
           "#FF97FF",
           "#FF6692",
           "#FF6692",
           "#FF6692",
           "#FF6692",
           "#FF6692",
           "#FF6692",
           "#19D3F3",
           "#B6E880",
           "#B6E880",
           "#B6E880",
           "#FF97FF",
           "#FF6692",
           "#FF6692",
           "#FF6692",
           "#19D3F3",
           "#FF97FF",
           "#FF97FF",
           "#FF97FF",
           "#B6E880",
           "#B6E880",
           "#B6E880",
           "#B6E880",
           "#FECB52",
           "#B6E880",
           "#B6E880",
           "#B6E880",
           "#B6E880",
           "#B6E880",
           "#B6E880",
           "#B6E880",
           "#B6E880",
           "#00CC96",
           "#FFA15A",
           "#FFA15A",
           "#FFA15A",
           "#FFA15A",
           "#FF97FF",
           "#FF97FF",
           "#FF97FF",
           "#19D3F3",
           "#FF6692",
           "#FF6692",
           "#FF6692",
           "#B6E880",
           "#B6E880",
           "#B6E880",
           "#B6E880",
           "#B6E880",
           "#B6E880",
           "#B6E880",
           "#B6E880",
           "#FFA15A",
           "#FFA15A",
           "#FFA15A",
           "#FFA15A",
           "#FFA15A",
           "#FFA15A",
           "#FFA15A",
           "#FFA15A",
           "#00CC96",
           "#B6E880",
           "#AB63FA",
           "#636EFA",
           "#636EFA",
           "#636EFA",
           "#636EFA",
           "#636EFA",
           "#B6E880",
           "#AB63FA",
           "#AB63FA",
           "#AB63FA",
           "#FFA15A",
           "#FFA15A",
           "#FFA15A",
           "#FFA15A",
           "#FFA15A",
           "#FFA15A",
           "#FFA15A",
           "#FFA15A",
           "#FFA15A",
           "#FECB52",
           "#FFA15A",
           "#FFA15A",
           "#FFA15A",
           "#FFA15A",
           "#FFA15A",
           "#B6E880",
           "#FF97FF",
           "#EF553B",
           "#AB63FA",
           "#AB63FA",
           "#AB63FA",
           "#AB63FA",
           "#AB63FA",
           "#AB63FA",
           "#AB63FA",
           "#AB63FA",
           "#AB63FA",
           "#FF97FF",
           "#AB63FA",
           "#AB63FA",
           "#AB63FA",
           "#FF6692",
           "#AB63FA",
           "#AB63FA",
           "#AB63FA",
           "#B6E880",
           "#B6E880",
           "#B6E880",
           "#B6E880",
           "#FF97FF",
           "#FECB52",
           "#00CC96",
           "#FF97FF",
           "#FECB52",
           "#00CC96",
           "#00CC96",
           "#00CC96",
           "#00CC96",
           "#B6E880",
           "#B6E880",
           "#B6E880",
           "#B6E880",
           "#B6E880",
           "#B6E880",
           "#FFA15A",
           "#EF553B",
           "#EF553B",
           "#FFA15A",
           "#EF553B",
           "#EF553B",
           "#EF553B",
           "#EF553B",
           "#EF553B",
           "#B6E880",
           "#B6E880",
           "#B6E880",
           "#B6E880",
           "#FFA15A",
           "#FFA15A",
           "#FFA15A",
           "#636EFA",
           "#FFA15A",
           "#636EFA",
           "#636EFA",
           "#636EFA",
           "#FECB52",
           "#EF553B",
           "#EF553B",
           "#EF553B",
           "#B6E880",
           "#EF553B",
           "#AB63FA",
           "#AB63FA",
           "#AB63FA",
           "#AB63FA",
           "#FECB52",
           "#AB63FA",
           "#AB63FA",
           "#AB63FA",
           "#00CC96",
           "#FFA15A",
           "#FFA15A",
           "#FFA15A",
           "#FFA15A",
           "#FFA15A",
           "#00CC96",
           "#FF97FF",
           "#FF97FF",
           "#FF97FF",
           "#B6E880",
           "#B6E880",
           "#B6E880",
           "#B6E880",
           "#FF6692",
           "#FF6692",
           "#FF6692",
           "#FF6692",
           "#B6E880",
           "#FFA15A",
           "#FFA15A",
           "#FFA15A",
           "#FFA15A",
           "#FFA15A",
           "#FFA15A",
           "#FFA15A",
           "#FFA15A",
           "#FFA15A",
           "#FFA15A",
           "#FFA15A",
           "#FF97FF",
           "#FF97FF",
           "#FF97FF",
           "#AB63FA",
           "#AB63FA",
           "#AB63FA",
           "#FFA15A",
           "#B6E880",
           "#B6E880",
           "#B6E880",
           "#FFA15A",
           "#00CC96",
           "#00CC96",
           "#00CC96",
           "#EF553B",
           "#EF553B",
           "#EF553B",
           "#EF553B",
           "#B6E880",
           "#B6E880",
           "#B6E880",
           "#B6E880",
           "#B6E880",
           "#FECB52",
           "#19D3F3",
           "#19D3F3",
           "#19D3F3",
           "#19D3F3",
           "#FF97FF",
           "#B6E880",
           "#B6E880",
           "#B6E880",
           "#FFA15A",
           "#FFA15A"
          ],
          "source": [
           0,
           1,
           2,
           2,
           3,
           3,
           4,
           4,
           5,
           5,
           4,
           1,
           6,
           7,
           7,
           8,
           8,
           7,
           7,
           9,
           9,
           10,
           10,
           11,
           11,
           11,
           12,
           12,
           12,
           4,
           4,
           13,
           13,
           0,
           0,
           0,
           14,
           14,
           14,
           14,
           14,
           14,
           15,
           15,
           0,
           0,
           1,
           1,
           16,
           16,
           17,
           17,
           16,
           16,
           18,
           18,
           18,
           18,
           19,
           19,
           20,
           20,
           4,
           4,
           21,
           21,
           21,
           21,
           4,
           4,
           4,
           22,
           22,
           22,
           4,
           4,
           23,
           23,
           20,
           20,
           6,
           6,
           6,
           6,
           24,
           24,
           24,
           24,
           4,
           4,
           25,
           25,
           8,
           8,
           26,
           26,
           27,
           27,
           7,
           7,
           28,
           28,
           12,
           12,
           6,
           6,
           6,
           12,
           12,
           12,
           12,
           12,
           12,
           6,
           6,
           1,
           1,
           29,
           29,
           7,
           7,
           30,
           30,
           31,
           31,
           6,
           6,
           12,
           12,
           6,
           6,
           12,
           12,
           4,
           1,
           4,
           19,
           29,
           1,
           4,
           1,
           6,
           6,
           6,
           6,
           32,
           32,
           32,
           32,
           6,
           6,
           33,
           33,
           4,
           1,
           29,
           4,
           1,
           4,
           1,
           34,
           1,
           11,
           11,
           1,
           1,
           1,
           1,
           6,
           6,
           6,
           6,
           35,
           35,
           35,
           35,
           35,
           35,
           35,
           35,
           36,
           36,
           37,
           37,
           19,
           19,
           38,
           38,
           6,
           6,
           12,
           12,
           16,
           16,
           16,
           19,
           19,
           19,
           39,
           39,
           39,
           11,
           11,
           40,
           40,
           12,
           12,
           11,
           11,
           11,
           40,
           40,
           40,
           41,
           41,
           41,
           28,
           28,
           12,
           12,
           0,
           1,
           9,
           9,
           19,
           19,
           42,
           42,
           40,
           40,
           43,
           43,
           44,
           44,
           44,
           45,
           45,
           45,
           28,
           28,
           46,
           46,
           6,
           6,
           1,
           1,
           8,
           1,
           6,
           6,
           47,
           47,
           48,
           48,
           12,
           12,
           9,
           9,
           49,
           49,
           50,
           50,
           51,
           51,
           0,
           1,
           4,
           1,
           1,
           4,
           1,
           6,
           6,
           7,
           7,
           52,
           53,
           53,
           4,
           4,
           54,
           54,
           8,
           8,
           55,
           55,
           6,
           6,
           56,
           56,
           4,
           4,
           12,
           12,
           6,
           6,
           6,
           57,
           57,
           57,
           4,
           4,
           12,
           12,
           8,
           1
          ],
          "target": [
           1,
           58,
           59,
           3,
           60,
           60,
           12,
           5,
           61,
           61,
           1,
           62,
           7,
           63,
           64,
           65,
           7,
           66,
           66,
           67,
           10,
           68,
           68,
           12,
           69,
           12,
           70,
           70,
           70,
           1,
           13,
           71,
           71,
           69,
           12,
           14,
           72,
           73,
           72,
           73,
           72,
           73,
           74,
           1,
           74,
           1,
           75,
           75,
           76,
           17,
           77,
           77,
           20,
           18,
           78,
           79,
           78,
           79,
           80,
           20,
           81,
           81,
           82,
           21,
           83,
           84,
           83,
           84,
           85,
           20,
           22,
           86,
           86,
           86,
           74,
           20,
           74,
           20,
           81,
           81,
           87,
           88,
           24,
           24,
           89,
           89,
           89,
           89,
           90,
           25,
           83,
           83,
           65,
           26,
           91,
           91,
           90,
           7,
           92,
           92,
           12,
           12,
           93,
           93,
           94,
           12,
           12,
           95,
           96,
           95,
           96,
           95,
           96,
           87,
           1,
           96,
           96,
           1,
           7,
           97,
           97,
           98,
           31,
           99,
           99,
           12,
           12,
           96,
           96,
           12,
           12,
           96,
           96,
           1,
           100,
           1,
           1,
           1,
           101,
           1,
           102,
           87,
           12,
           103,
           32,
           104,
           104,
           104,
           104,
           12,
           33,
           105,
           105,
           1,
           106,
           1,
           1,
           107,
           1,
           108,
           1,
           58,
           69,
           1,
           109,
           110,
           109,
           110,
           12,
           111,
           112,
           35,
           70,
           96,
           70,
           96,
           70,
           96,
           70,
           96,
           113,
           37,
           95,
           95,
           24,
           38,
           114,
           114,
           115,
           12,
           96,
           96,
           116,
           22,
           39,
           116,
           22,
           39,
           117,
           117,
           117,
           12,
           12,
           12,
           12,
           118,
           118,
           51,
           119,
           41,
           51,
           119,
           41,
           120,
           120,
           120,
           12,
           12,
           95,
           95,
           1,
           121,
           1,
           42,
           1,
           42,
           122,
           122,
           123,
           43,
           124,
           124,
           12,
           125,
           45,
           95,
           95,
           95,
           94,
           46,
           95,
           95,
           87,
           1,
           96,
           96,
           1,
           126,
           87,
           47,
           127,
           127,
           12,
           12,
           95,
           95,
           20,
           49,
           95,
           95,
           128,
           51,
           105,
           105,
           1,
           129,
           1,
           130,
           131,
           1,
           129,
           1,
           7,
           93,
           93,
           53,
           132,
           133,
           1,
           54,
           95,
           95,
           1,
           55,
           134,
           134,
           135,
           56,
           105,
           105,
           12,
           12,
           96,
           96,
           136,
           137,
           57,
           93,
           93,
           93,
           7,
           12,
           96,
           96,
           1,
           138
          ],
          "value": [
           1,
           1,
           1,
           1,
           1,
           1,
           1,
           1,
           1,
           1,
           1,
           1,
           1,
           1,
           1,
           1,
           1,
           1,
           1,
           1,
           1,
           1,
           1,
           1,
           1,
           1,
           1,
           1,
           1,
           1,
           1,
           1,
           1,
           1,
           1,
           1,
           1,
           1,
           1,
           1,
           1,
           1,
           1,
           1,
           1,
           1,
           1,
           1,
           1,
           1,
           1,
           1,
           1,
           1,
           1,
           1,
           1,
           1,
           1,
           1,
           1,
           1,
           1,
           1,
           1,
           1,
           1,
           1,
           1,
           1,
           1,
           1,
           1,
           1,
           1,
           1,
           1,
           1,
           1,
           1,
           1,
           1,
           1,
           1,
           1,
           1,
           1,
           1,
           1,
           1,
           1,
           1,
           1,
           1,
           1,
           1,
           1,
           1,
           1,
           1,
           1,
           1,
           1,
           1,
           1,
           1,
           1,
           1,
           1,
           1,
           1,
           1,
           1,
           1,
           1,
           1,
           1,
           1,
           1,
           1,
           1,
           1,
           1,
           1,
           1,
           1,
           1,
           1,
           1,
           1,
           1,
           1,
           1,
           1,
           1,
           1,
           1,
           1,
           1,
           1,
           1,
           1,
           1,
           1,
           1,
           1,
           1,
           1,
           1,
           1,
           1,
           1,
           1,
           1,
           1,
           1,
           1,
           1,
           1,
           1,
           1,
           1,
           1,
           1,
           1,
           1,
           1,
           1,
           1,
           1,
           1,
           1,
           1,
           1,
           1,
           1,
           1,
           1,
           1,
           1,
           1,
           1,
           1,
           1,
           1,
           1,
           1,
           1,
           1,
           1,
           1,
           1,
           1,
           1,
           1,
           1,
           1,
           1,
           1,
           1,
           1,
           1,
           1,
           1,
           1,
           1,
           1,
           1,
           1,
           1,
           1,
           1,
           1,
           1,
           1,
           1,
           1,
           1,
           1,
           1,
           1,
           1,
           1,
           1,
           1,
           1,
           1,
           1,
           1,
           1,
           1,
           1,
           1,
           1,
           1,
           1,
           1,
           1,
           1,
           1,
           1,
           1,
           1,
           1,
           1,
           1,
           1,
           1,
           1,
           1,
           1,
           1,
           1,
           1,
           1,
           1,
           1,
           1,
           1,
           1,
           1,
           1,
           1,
           1,
           1,
           1,
           1,
           1,
           1,
           1,
           1,
           1,
           1,
           1,
           1,
           1,
           1,
           1,
           1,
           1,
           1,
           1,
           1,
           1,
           1,
           1,
           1,
           1,
           1,
           1,
           1,
           1,
           1,
           1,
           1,
           1,
           1,
           1,
           1,
           1,
           1,
           1,
           1,
           1,
           1,
           1
          ]
         },
         "node": {
          "color": [
           "grey",
           "#FFA15A",
           "grey",
           "#EF553B",
           "grey",
           "#B6E880",
           "grey",
           "#FF97FF",
           "grey",
           "grey",
           "#19D3F3",
           "grey",
           "#B6E880",
           "#636EFA",
           "#EF553B",
           "grey",
           "grey",
           "#00CC96",
           "#00CC96",
           "grey",
           "#FF6692",
           "#FFA15A",
           "#FECB52",
           "grey",
           "#FF6692",
           "#B6E880",
           "#FF6692",
           "grey",
           "grey",
           "grey",
           "grey",
           "#FF6692",
           "#636EFA",
           "#AB63FA",
           "grey",
           "#AB63FA",
           "grey",
           "#AB63FA",
           "#AB63FA",
           "#00CC96",
           "grey",
           "#EF553B",
           "#636EFA",
           "#EF553B",
           "grey",
           "#AB63FA",
           "#AB63FA",
           "#FF97FF",
           "grey",
           "#FF6692",
           "grey",
           "#FFA15A",
           "grey",
           "#AB63FA",
           "#B6E880",
           "#00CC96",
           "#EF553B",
           "#19D3F3",
           "grey",
           "#EF553B",
           "grey",
           "grey",
           "grey",
           "grey",
           "grey",
           "#FF97FF",
           "grey",
           "#00CC96",
           "grey",
           "#FECB52",
           "grey",
           "grey",
           "grey",
           "grey",
           "#FFA15A",
           "grey",
           "#FECB52",
           "grey",
           "grey",
           "grey",
           "#19D3F3",
           "grey",
           "#FF6692",
           "grey",
           "grey",
           "#EF553B",
           "grey",
           "#00CC96",
           "#FF97FF",
           "grey",
           "#19D3F3",
           "grey",
           "grey",
           "grey",
           "#FECB52",
           "grey",
           "grey",
           "grey",
           "#19D3F3",
           "grey",
           "grey",
           "grey",
           "grey",
           "#AB63FA",
           "grey",
           "grey",
           "grey",
           "grey",
           "grey",
           "grey",
           "grey",
           "#FF97FF",
           "#EF553B",
           "#FF97FF",
           "grey",
           "#B6E880",
           "#FF97FF",
           "grey",
           "grey",
           "#EF553B",
           "grey",
           "grey",
           "grey",
           "#FECB52",
           "grey",
           "#EF553B",
           "grey",
           "grey",
           "#B6E880",
           "grey",
           "grey",
           "grey",
           "grey",
           "grey",
           "grey",
           "#EF553B",
           "#B6E880",
           "#FECB52",
           "grey",
           "grey",
           "grey",
           "grey",
           "grey",
           "grey",
           "grey",
           "grey",
           "grey",
           "grey",
           "grey"
          ],
          "label": [
           "Glycerol",
           "Escherichia",
           "Casein",
           "Marinobacter",
           "Glucose",
           "Actinobacillus",
           "Lignocellulose",
           "Saccharomyces",
           "Amino acid medium",
           "Starch",
           "Agrobacterium",
           "CO",
           "Clostridium",
           "Acinetobacter",
           "Massilibacterium",
           "Phenanthrene",
           "Food waste",
           "Megaphaera",
           "Yarrowia",
           "Sucrose",
           "Bacillus",
           "Lactococcus",
           "Lysinibacillus",
           "VFA_s",
           "Aspergillus",
           "Komagataeibacter",
           "Weissella",
           "Saccharides",
           "Cellulose",
           "Xylose",
           "Light",
           "Halomonas",
           "Megasphaera",
           "Geobacter",
           "Tryptophan",
           "Caecomyces",
           "Wastewater sludge",
           "Paenibacillus",
           "Sphingomonas",
           "Anoxybacillus",
           "Syngas",
           "Anaerotignum",
           "Corynebacterium",
           "Methylocella",
           "Industrial waste",
           "Kluyveromyces",
           "Ethanoigenens",
           "Rhizopus",
           "Meat extract",
           "Brevundimonas",
           "CO2",
           "Acetobacterium",
           "Methanol_s",
           "Pichia",
           "Rhodopseudomonas",
           "Streptomyces",
           "Shewanella",
           "Fomitopsis",
           "Indigo",
           "Marinirhabdus",
           "Protease",
           "Butyl acetate",
           "Biomass",
           "P-coumaric acid",
           "Caffeic acid",
           "Lactobacillus",
           "Vitamins",
           "Cellulomonas",
           "Polysaccharide",
           "Eubacterium",
           "Butyrate",
           "Recombinant protein",
           "1,3-Propanediol",
           "Caproate",
           "Pseudomonas",
           "Biosurfactants",
           "Pediococcus",
           "VFA",
           "Lipopeptides",
           "Fatty acid",
           "Ralstonia",
           "Polyhydroxyalkanoate",
           "Gluconacetobacter",
           "Bacterial cellulose",
           "Hyaluronic acid nanocomposite",
           "Cercospora",
           "Cercosporin",
           "Trichoderma",
           "Penicillium",
           "Glucose_p",
           "Aureobasidium",
           "Antilisterial compounds",
           "Fructo-oligosaccharide",
           "Ethanol",
           "Enterococcus",
           "Hydrogen",
           "Butanol",
           "Pharmaceutically active compounds",
           "Synechococcus",
           "PHB",
           "Phenol",
           "Rosmarinic acid",
           "Pyranoanthocyanins",
           "Veillonella",
           "SCFA",
           "Electricity",
           "Anthocyanins",
           "Glycosides",
           "Flavonoids",
           "3-hydroxypropionic acid",
           "Itaconic acid",
           "Anaeromyces",
           "Neocallimastix",
           "Salmonella",
           "Glionitrin B",
           "Thermoanaerobacterium",
           "Aeribacillus",
           "Microbial proteases",
           "MCFA",
           "Pelobacter",
           "Propionate",
           "3-hydroxybenzoic acid",
           "L-lysine",
           "Mithylosinus",
           "Methanol_p",
           "Enterobacter",
           "Antibodies",
           "Fumaric acid",
           "Desulfopila",
           "Resveratrol",
           "caffeyl alcohol",
           "coniferyl alcohol",
           "Monacolin",
           "lovastatin",
           "O-methylated phenylpropanoids",
           "Klebsiella",
           "Schizophyllum",
           "Bjerkandera",
           "7-methylxanthine",
           "#FFA15A",
           "#EF553B",
           "#B6E880",
           "#FF97FF",
           "#00CC96",
           "#19D3F3",
           "#FECB52",
           "#636EFA",
           "#FF6692",
           "#AB63FA"
          ],
          "line": {
           "color": "black",
           "width": 0.5
          },
          "pad": 15,
          "thickness": 20
         },
         "orientation": "h",
         "type": "sankey"
        }
       ],
       "layout": {
        "font": {
         "size": 8
        },
        "height": 850,
        "template": {
         "data": {
          "bar": [
           {
            "error_x": {
             "color": "#2a3f5f"
            },
            "error_y": {
             "color": "#2a3f5f"
            },
            "marker": {
             "line": {
              "color": "#E5ECF6",
              "width": 0.5
             },
             "pattern": {
              "fillmode": "overlay",
              "size": 10,
              "solidity": 0.2
             }
            },
            "type": "bar"
           }
          ],
          "barpolar": [
           {
            "marker": {
             "line": {
              "color": "#E5ECF6",
              "width": 0.5
             },
             "pattern": {
              "fillmode": "overlay",
              "size": 10,
              "solidity": 0.2
             }
            },
            "type": "barpolar"
           }
          ],
          "carpet": [
           {
            "aaxis": {
             "endlinecolor": "#2a3f5f",
             "gridcolor": "white",
             "linecolor": "white",
             "minorgridcolor": "white",
             "startlinecolor": "#2a3f5f"
            },
            "baxis": {
             "endlinecolor": "#2a3f5f",
             "gridcolor": "white",
             "linecolor": "white",
             "minorgridcolor": "white",
             "startlinecolor": "#2a3f5f"
            },
            "type": "carpet"
           }
          ],
          "choropleth": [
           {
            "colorbar": {
             "outlinewidth": 0,
             "ticks": ""
            },
            "type": "choropleth"
           }
          ],
          "contour": [
           {
            "colorbar": {
             "outlinewidth": 0,
             "ticks": ""
            },
            "colorscale": [
             [
              0,
              "#0d0887"
             ],
             [
              0.1111111111111111,
              "#46039f"
             ],
             [
              0.2222222222222222,
              "#7201a8"
             ],
             [
              0.3333333333333333,
              "#9c179e"
             ],
             [
              0.4444444444444444,
              "#bd3786"
             ],
             [
              0.5555555555555556,
              "#d8576b"
             ],
             [
              0.6666666666666666,
              "#ed7953"
             ],
             [
              0.7777777777777778,
              "#fb9f3a"
             ],
             [
              0.8888888888888888,
              "#fdca26"
             ],
             [
              1,
              "#f0f921"
             ]
            ],
            "type": "contour"
           }
          ],
          "contourcarpet": [
           {
            "colorbar": {
             "outlinewidth": 0,
             "ticks": ""
            },
            "type": "contourcarpet"
           }
          ],
          "heatmap": [
           {
            "colorbar": {
             "outlinewidth": 0,
             "ticks": ""
            },
            "colorscale": [
             [
              0,
              "#0d0887"
             ],
             [
              0.1111111111111111,
              "#46039f"
             ],
             [
              0.2222222222222222,
              "#7201a8"
             ],
             [
              0.3333333333333333,
              "#9c179e"
             ],
             [
              0.4444444444444444,
              "#bd3786"
             ],
             [
              0.5555555555555556,
              "#d8576b"
             ],
             [
              0.6666666666666666,
              "#ed7953"
             ],
             [
              0.7777777777777778,
              "#fb9f3a"
             ],
             [
              0.8888888888888888,
              "#fdca26"
             ],
             [
              1,
              "#f0f921"
             ]
            ],
            "type": "heatmap"
           }
          ],
          "heatmapgl": [
           {
            "colorbar": {
             "outlinewidth": 0,
             "ticks": ""
            },
            "colorscale": [
             [
              0,
              "#0d0887"
             ],
             [
              0.1111111111111111,
              "#46039f"
             ],
             [
              0.2222222222222222,
              "#7201a8"
             ],
             [
              0.3333333333333333,
              "#9c179e"
             ],
             [
              0.4444444444444444,
              "#bd3786"
             ],
             [
              0.5555555555555556,
              "#d8576b"
             ],
             [
              0.6666666666666666,
              "#ed7953"
             ],
             [
              0.7777777777777778,
              "#fb9f3a"
             ],
             [
              0.8888888888888888,
              "#fdca26"
             ],
             [
              1,
              "#f0f921"
             ]
            ],
            "type": "heatmapgl"
           }
          ],
          "histogram": [
           {
            "marker": {
             "pattern": {
              "fillmode": "overlay",
              "size": 10,
              "solidity": 0.2
             }
            },
            "type": "histogram"
           }
          ],
          "histogram2d": [
           {
            "colorbar": {
             "outlinewidth": 0,
             "ticks": ""
            },
            "colorscale": [
             [
              0,
              "#0d0887"
             ],
             [
              0.1111111111111111,
              "#46039f"
             ],
             [
              0.2222222222222222,
              "#7201a8"
             ],
             [
              0.3333333333333333,
              "#9c179e"
             ],
             [
              0.4444444444444444,
              "#bd3786"
             ],
             [
              0.5555555555555556,
              "#d8576b"
             ],
             [
              0.6666666666666666,
              "#ed7953"
             ],
             [
              0.7777777777777778,
              "#fb9f3a"
             ],
             [
              0.8888888888888888,
              "#fdca26"
             ],
             [
              1,
              "#f0f921"
             ]
            ],
            "type": "histogram2d"
           }
          ],
          "histogram2dcontour": [
           {
            "colorbar": {
             "outlinewidth": 0,
             "ticks": ""
            },
            "colorscale": [
             [
              0,
              "#0d0887"
             ],
             [
              0.1111111111111111,
              "#46039f"
             ],
             [
              0.2222222222222222,
              "#7201a8"
             ],
             [
              0.3333333333333333,
              "#9c179e"
             ],
             [
              0.4444444444444444,
              "#bd3786"
             ],
             [
              0.5555555555555556,
              "#d8576b"
             ],
             [
              0.6666666666666666,
              "#ed7953"
             ],
             [
              0.7777777777777778,
              "#fb9f3a"
             ],
             [
              0.8888888888888888,
              "#fdca26"
             ],
             [
              1,
              "#f0f921"
             ]
            ],
            "type": "histogram2dcontour"
           }
          ],
          "mesh3d": [
           {
            "colorbar": {
             "outlinewidth": 0,
             "ticks": ""
            },
            "type": "mesh3d"
           }
          ],
          "parcoords": [
           {
            "line": {
             "colorbar": {
              "outlinewidth": 0,
              "ticks": ""
             }
            },
            "type": "parcoords"
           }
          ],
          "pie": [
           {
            "automargin": true,
            "type": "pie"
           }
          ],
          "scatter": [
           {
            "fillpattern": {
             "fillmode": "overlay",
             "size": 10,
             "solidity": 0.2
            },
            "type": "scatter"
           }
          ],
          "scatter3d": [
           {
            "line": {
             "colorbar": {
              "outlinewidth": 0,
              "ticks": ""
             }
            },
            "marker": {
             "colorbar": {
              "outlinewidth": 0,
              "ticks": ""
             }
            },
            "type": "scatter3d"
           }
          ],
          "scattercarpet": [
           {
            "marker": {
             "colorbar": {
              "outlinewidth": 0,
              "ticks": ""
             }
            },
            "type": "scattercarpet"
           }
          ],
          "scattergeo": [
           {
            "marker": {
             "colorbar": {
              "outlinewidth": 0,
              "ticks": ""
             }
            },
            "type": "scattergeo"
           }
          ],
          "scattergl": [
           {
            "marker": {
             "colorbar": {
              "outlinewidth": 0,
              "ticks": ""
             }
            },
            "type": "scattergl"
           }
          ],
          "scattermapbox": [
           {
            "marker": {
             "colorbar": {
              "outlinewidth": 0,
              "ticks": ""
             }
            },
            "type": "scattermapbox"
           }
          ],
          "scatterpolar": [
           {
            "marker": {
             "colorbar": {
              "outlinewidth": 0,
              "ticks": ""
             }
            },
            "type": "scatterpolar"
           }
          ],
          "scatterpolargl": [
           {
            "marker": {
             "colorbar": {
              "outlinewidth": 0,
              "ticks": ""
             }
            },
            "type": "scatterpolargl"
           }
          ],
          "scatterternary": [
           {
            "marker": {
             "colorbar": {
              "outlinewidth": 0,
              "ticks": ""
             }
            },
            "type": "scatterternary"
           }
          ],
          "surface": [
           {
            "colorbar": {
             "outlinewidth": 0,
             "ticks": ""
            },
            "colorscale": [
             [
              0,
              "#0d0887"
             ],
             [
              0.1111111111111111,
              "#46039f"
             ],
             [
              0.2222222222222222,
              "#7201a8"
             ],
             [
              0.3333333333333333,
              "#9c179e"
             ],
             [
              0.4444444444444444,
              "#bd3786"
             ],
             [
              0.5555555555555556,
              "#d8576b"
             ],
             [
              0.6666666666666666,
              "#ed7953"
             ],
             [
              0.7777777777777778,
              "#fb9f3a"
             ],
             [
              0.8888888888888888,
              "#fdca26"
             ],
             [
              1,
              "#f0f921"
             ]
            ],
            "type": "surface"
           }
          ],
          "table": [
           {
            "cells": {
             "fill": {
              "color": "#EBF0F8"
             },
             "line": {
              "color": "white"
             }
            },
            "header": {
             "fill": {
              "color": "#C8D4E3"
             },
             "line": {
              "color": "white"
             }
            },
            "type": "table"
           }
          ]
         },
         "layout": {
          "annotationdefaults": {
           "arrowcolor": "#2a3f5f",
           "arrowhead": 0,
           "arrowwidth": 1
          },
          "autotypenumbers": "strict",
          "coloraxis": {
           "colorbar": {
            "outlinewidth": 0,
            "ticks": ""
           }
          },
          "colorscale": {
           "diverging": [
            [
             0,
             "#8e0152"
            ],
            [
             0.1,
             "#c51b7d"
            ],
            [
             0.2,
             "#de77ae"
            ],
            [
             0.3,
             "#f1b6da"
            ],
            [
             0.4,
             "#fde0ef"
            ],
            [
             0.5,
             "#f7f7f7"
            ],
            [
             0.6,
             "#e6f5d0"
            ],
            [
             0.7,
             "#b8e186"
            ],
            [
             0.8,
             "#7fbc41"
            ],
            [
             0.9,
             "#4d9221"
            ],
            [
             1,
             "#276419"
            ]
           ],
           "sequential": [
            [
             0,
             "#0d0887"
            ],
            [
             0.1111111111111111,
             "#46039f"
            ],
            [
             0.2222222222222222,
             "#7201a8"
            ],
            [
             0.3333333333333333,
             "#9c179e"
            ],
            [
             0.4444444444444444,
             "#bd3786"
            ],
            [
             0.5555555555555556,
             "#d8576b"
            ],
            [
             0.6666666666666666,
             "#ed7953"
            ],
            [
             0.7777777777777778,
             "#fb9f3a"
            ],
            [
             0.8888888888888888,
             "#fdca26"
            ],
            [
             1,
             "#f0f921"
            ]
           ],
           "sequentialminus": [
            [
             0,
             "#0d0887"
            ],
            [
             0.1111111111111111,
             "#46039f"
            ],
            [
             0.2222222222222222,
             "#7201a8"
            ],
            [
             0.3333333333333333,
             "#9c179e"
            ],
            [
             0.4444444444444444,
             "#bd3786"
            ],
            [
             0.5555555555555556,
             "#d8576b"
            ],
            [
             0.6666666666666666,
             "#ed7953"
            ],
            [
             0.7777777777777778,
             "#fb9f3a"
            ],
            [
             0.8888888888888888,
             "#fdca26"
            ],
            [
             1,
             "#f0f921"
            ]
           ]
          },
          "colorway": [
           "#636efa",
           "#EF553B",
           "#00cc96",
           "#ab63fa",
           "#FFA15A",
           "#19d3f3",
           "#FF6692",
           "#B6E880",
           "#FF97FF",
           "#FECB52"
          ],
          "font": {
           "color": "#2a3f5f"
          },
          "geo": {
           "bgcolor": "white",
           "lakecolor": "white",
           "landcolor": "#E5ECF6",
           "showlakes": true,
           "showland": true,
           "subunitcolor": "white"
          },
          "hoverlabel": {
           "align": "left"
          },
          "hovermode": "closest",
          "mapbox": {
           "style": "light"
          },
          "paper_bgcolor": "white",
          "plot_bgcolor": "#E5ECF6",
          "polar": {
           "angularaxis": {
            "gridcolor": "white",
            "linecolor": "white",
            "ticks": ""
           },
           "bgcolor": "#E5ECF6",
           "radialaxis": {
            "gridcolor": "white",
            "linecolor": "white",
            "ticks": ""
           }
          },
          "scene": {
           "xaxis": {
            "backgroundcolor": "#E5ECF6",
            "gridcolor": "white",
            "gridwidth": 2,
            "linecolor": "white",
            "showbackground": true,
            "ticks": "",
            "zerolinecolor": "white"
           },
           "yaxis": {
            "backgroundcolor": "#E5ECF6",
            "gridcolor": "white",
            "gridwidth": 2,
            "linecolor": "white",
            "showbackground": true,
            "ticks": "",
            "zerolinecolor": "white"
           },
           "zaxis": {
            "backgroundcolor": "#E5ECF6",
            "gridcolor": "white",
            "gridwidth": 2,
            "linecolor": "white",
            "showbackground": true,
            "ticks": "",
            "zerolinecolor": "white"
           }
          },
          "shapedefaults": {
           "line": {
            "color": "#2a3f5f"
           }
          },
          "ternary": {
           "aaxis": {
            "gridcolor": "white",
            "linecolor": "white",
            "ticks": ""
           },
           "baxis": {
            "gridcolor": "white",
            "linecolor": "white",
            "ticks": ""
           },
           "bgcolor": "#E5ECF6",
           "caxis": {
            "gridcolor": "white",
            "linecolor": "white",
            "ticks": ""
           }
          },
          "title": {
           "x": 0.05
          },
          "xaxis": {
           "automargin": true,
           "gridcolor": "white",
           "linecolor": "white",
           "ticks": "",
           "title": {
            "standoff": 15
           },
           "zerolinecolor": "white",
           "zerolinewidth": 2
          },
          "yaxis": {
           "automargin": true,
           "gridcolor": "white",
           "linecolor": "white",
           "ticks": "",
           "title": {
            "standoff": 15
           },
           "zerolinecolor": "white",
           "zerolinewidth": 2
          }
         }
        },
        "title": {
         "text": "Sankey Diagram for consortia uses"
        }
       }
      }
     },
     "metadata": {},
     "output_type": "display_data"
    }
   ],
   "source": [
    "#new sankey chart for genus only\n",
    "\n",
    "#creating a new dataframe to use in building the sankey chart\n",
    "\n",
    "#create an empty dataframe\n",
    "sankey_data = pd.DataFrame({'Source': [],\n",
    "                   'Target': [],\n",
    "                   'Value': [],\n",
    "                   'Color': []})\n",
    "\n",
    "organism_colouring = dict()\n",
    "colour_counter = 0\n",
    "\n",
    "#iterate over the rows of the dataframe\n",
    "for index, row in df.iterrows():\n",
    "\n",
    "    #get lists of substrates, products, and organisms\n",
    "    substrates = row[\"Substrate\"].split(\", \")\n",
    "    organisms = row[\"Organisms\"].split(\", \")\n",
    "    products = row[\"Product\"].split(\", \")\n",
    "\n",
    "    #taking the first word to get the genus instead of the organisms\n",
    "    genuses = [organism.split(' ')[0] for organism in organisms]\n",
    "\n",
    "    #adds colour to each organism using the pick_colour function\n",
    "    for genus in genuses:\n",
    "        if genus not in organism_colouring:\n",
    "            organism_colouring[genus] = pick_colour(genus)\n",
    "\n",
    "    #add links from each substrate to each organism\n",
    "    for substrate in substrates:\n",
    "        for genus in genuses:\n",
    "            sankey_data.loc[len(sankey_data.index)] = [substrate, genus, 1, organism_colouring[genus]]\n",
    "\n",
    "    #add links from each organism to each substrate\n",
    "    for organism in organisms:\n",
    "        for product in products:\n",
    "            sankey_data.loc[len(sankey_data.index)] = [genus, product, 1, organism_colouring[genus]]\n",
    "\n",
    "\n",
    "#needed modification for building the plot\n",
    "\n",
    "#get each unique source_target and a mapping to their index\n",
    "#unique_source_target = list(pd.unique(sankey_data[['Source', 'Target']].values.ravel('K')))\n",
    "unique_source_target = list(pd.unique(sankey_data[['Source', 'Target', 'Color']].values.ravel('K')))\n",
    "mapping_dict = {k: v for v, k in enumerate(unique_source_target)}\n",
    "sankey_data['Source'] = sankey_data['Source'].map(mapping_dict)\n",
    "sankey_data['Target'] = sankey_data['Target'].map(mapping_dict)\n",
    "sankey_dict = sankey_data.to_dict(orient='list')\n",
    "\n",
    "#setting colours for the nodes\n",
    "node_colours = [organism_colouring.get(i, \"grey\") for i in unique_source_target]\n",
    "\n",
    "#create diagram\n",
    "import plotly.express as px\n",
    "\n",
    "fig = go.Figure(data=[go.Sankey(\n",
    "    orientation = \"h\",\n",
    "    node = dict(\n",
    "      pad = 15,\n",
    "      thickness = 20,\n",
    "      line = dict(color = \"black\", width = 0.5),\n",
    "      label = unique_source_target,\n",
    "      #color = \"grey\"\n",
    "      color = node_colours\n",
    "    ),\n",
    "    link = dict(\n",
    "      source = sankey_dict[\"Source\"],\n",
    "      target = sankey_dict[\"Target\"],\n",
    "      value = sankey_dict[\"Value\"],\n",
    "      color = sankey_dict[\"Color\"]\n",
    "      #color = [px.colors.qualitative.Plotly[unique_source_target.index(i) % len(px.colors.qualitative.Plotly)] for i in unique_source_target]\n",
    "  ))])\n",
    "\n",
    "layout = dict(\n",
    "        title = \"Sankey Diagram for consortia uses\",\n",
    "    height = 850,\n",
    "    font = dict(\n",
    "      size = 8),)\n",
    "\n",
    "#show figure\n",
    "fig.update_layout(layout)\n",
    "fig.show()\n",
    "fig.write_image(\"plots/sankey_diagram_genus.pdf\")"
   ]
  },
  {
   "cell_type": "code",
   "execution_count": null,
   "metadata": {},
   "outputs": [],
   "source": []
  }
 ],
 "metadata": {
  "kernelspec": {
   "display_name": "venv",
   "language": "python",
   "name": "python3"
  },
  "language_info": {
   "codemirror_mode": {
    "name": "ipython",
    "version": 3
   },
   "file_extension": ".py",
   "mimetype": "text/x-python",
   "name": "python",
   "nbconvert_exporter": "python",
   "pygments_lexer": "ipython3",
   "version": "3.10.7"
  },
  "orig_nbformat": 4,
  "vscode": {
   "interpreter": {
    "hash": "4f87d8cc7474284f9c8af45145bf3bf74399b799d77169da0898430a19e4b3ea"
   }
  }
 },
 "nbformat": 4,
 "nbformat_minor": 2
}
