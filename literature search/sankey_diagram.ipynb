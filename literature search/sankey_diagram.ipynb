{
 "cells": [
  {
   "cell_type": "code",
   "execution_count": 207,
   "metadata": {},
   "outputs": [],
   "source": [
    "import pandas as pd\n",
    "import plotly.graph_objects as go\n",
    "\n",
    "df = pd.read_csv(\"defined_articles.csv\")"
   ]
  },
  {
   "cell_type": "code",
   "execution_count": 215,
   "metadata": {},
   "outputs": [],
   "source": [
    "import plotly.express as px\n",
    "import random\n",
    "\n",
    "def pick_colour(name):\n",
    "    color_wheel = 'grey'\n",
    "    #if organism_per_journal[name] > 4:\n",
    "    #   color_wheel = random.choice(px.colors.qualitative.Plotly)\n",
    "    color_wheel = random.choice(px.colors.qualitative.Plotly)\n",
    "    return color_wheel"
   ]
  },
  {
   "cell_type": "code",
   "execution_count": 153,
   "metadata": {},
   "outputs": [],
   "source": [
    "#creating a new dataframe to use in building the sankey chart\n",
    "\n",
    "#create an empty dataframe\n",
    "sankey_data = pd.DataFrame({'Source': [],\n",
    "                   'Target': [],\n",
    "                   'Value': [],\n",
    "                   'Color': []})\n",
    "\n",
    "organism_colouring = dict()\n",
    "colour_counter = 0\n",
    "\n",
    "#iterate over the rows of the dataframe\n",
    "for index, row in df.iterrows():\n",
    "\n",
    "    #get lists of substrates, products, and organisms\n",
    "    substrates = row[\"Substrate\"].split(\", \")\n",
    "    organisms = row[\"Organisms\"].split(\", \")\n",
    "    products = row[\"Product\"].split(\", \")\n",
    "\n",
    "    #adds colour to each organism using the pick_colour function\n",
    "    for organism in organisms:\n",
    "        if organism not in organism_colouring:\n",
    "            organism_colouring[organism] = pick_colour(organism)\n",
    "\n",
    "    #add links from each substrate to each organism\n",
    "    for substrate in substrates:\n",
    "        for organism in organisms:\n",
    "            sankey_data.loc[len(sankey_data.index)] = [substrate, organism, 1, organism_colouring[organism]]\n",
    "\n",
    "    #add links from each organism to each substrate\n",
    "    for organism in organisms:\n",
    "        for product in products:\n",
    "            sankey_data.loc[len(sankey_data.index)] = [organism, product, 1, organism_colouring[organism]]"
   ]
  },
  {
   "cell_type": "code",
   "execution_count": 154,
   "metadata": {},
   "outputs": [],
   "source": [
    "#needed modification for building the plot\n",
    "\n",
    "#get each unique source_target and a mapping to their index\n",
    "#unique_source_target = list(pd.unique(sankey_data[['Source', 'Target']].values.ravel('K')))\n",
    "unique_source_target = list(pd.unique(sankey_data[['Source', 'Target', 'Color']].values.ravel('K')))\n",
    "mapping_dict = {k: v for v, k in enumerate(unique_source_target)}\n",
    "sankey_data['Source'] = sankey_data['Source'].map(mapping_dict)\n",
    "sankey_data['Target'] = sankey_data['Target'].map(mapping_dict)\n",
    "sankey_dict = sankey_data.to_dict(orient='list')\n",
    "\n",
    "#setting colours for the nodes\n",
    "node_colours = [organism_colouring.get(i, \"grey\") for i in unique_source_target]"
   ]
  },
  {
   "cell_type": "code",
   "execution_count": 155,
   "metadata": {},
   "outputs": [
    {
     "data": {
      "application/vnd.plotly.v1+json": {
       "config": {
        "plotlyServerURL": "https://plot.ly"
       },
       "data": [
        {
         "link": {
          "color": [
           "#FF6692",
           "#FF6692",
           "#FF6692",
           "#00CC96",
           "#FF6692",
           "#00CC96",
           "#FF6692",
           "#FF6692",
           "#FF97FF",
           "#FF97FF",
           "#FF97FF",
           "#FFA15A",
           "#FF97FF",
           "#FFA15A",
           "#FF97FF",
           "#636EFA",
           "#B6E880",
           "#636EFA",
           "#B6E880",
           "#AB63FA",
           "#FF97FF",
           "#B6E880",
           "#AB63FA",
           "#FF97FF",
           "#B6E880",
           "#FF6692",
           "#FF6692",
           "#FF6692",
           "#FF6692",
           "#636EFA",
           "#B6E880",
           "#B6E880",
           "#636EFA",
           "#636EFA",
           "#B6E880",
           "#B6E880",
           "#B6E880",
           "#B6E880",
           "#FFA15A",
           "#FF6692",
           "#FFA15A",
           "#FF6692",
           "#FFA15A",
           "#FF6692",
           "#636EFA",
           "#00CC96",
           "#636EFA",
           "#00CC96",
           "#FF97FF",
           "#00CC96",
           "#FF97FF",
           "#FF97FF",
           "#00CC96",
           "#00CC96",
           "#AB63FA",
           "#AB63FA",
           "#AB63FA",
           "#AB63FA",
           "#FFA15A",
           "#00CC96",
           "#FFA15A",
           "#FFA15A",
           "#00CC96",
           "#00CC96",
           "#FECB52",
           "#B6E880",
           "#19D3F3",
           "#FECB52",
           "#B6E880",
           "#19D3F3",
           "#FFA15A",
           "#AB63FA",
           "#FFA15A",
           "#AB63FA",
           "#FFA15A",
           "#AB63FA",
           "#EF553B",
           "#636EFA",
           "#636EFA",
           "#19D3F3",
           "#EF553B",
           "#636EFA",
           "#636EFA",
           "#19D3F3",
           "#636EFA",
           "#FFA15A",
           "#636EFA",
           "#FFA15A",
           "#FFA15A",
           "#FF97FF",
           "#FFA15A",
           "#FF97FF",
           "#636EFA",
           "#FF97FF",
           "#636EFA",
           "#FF97FF",
           "#B6E880",
           "#B6E880",
           "#B6E880",
           "#B6E880",
           "#FECB52",
           "#19D3F3",
           "#FF97FF",
           "#FECB52",
           "#FECB52",
           "#19D3F3",
           "#19D3F3",
           "#FF97FF",
           "#FF97FF",
           "#EF553B",
           "#FF6692",
           "#EF553B",
           "#FF6692",
           "#FF6692",
           "#FF97FF",
           "#FF6692",
           "#FF97FF",
           "#FECB52",
           "#FF97FF",
           "#FECB52",
           "#FF97FF",
           "#B6E880",
           "#19D3F3",
           "#B6E880",
           "#19D3F3",
           "#B6E880",
           "#19D3F3",
           "#B6E880",
           "#19D3F3",
           "#FF6692",
           "#FF6692",
           "#FF6692",
           "#FF6692",
           "#FF6692",
           "#FF6692",
           "#FF6692",
           "#FF6692",
           "#EF553B",
           "#FF6692",
           "#636EFA",
           "#FF97FF",
           "#EF553B",
           "#FF6692",
           "#636EFA",
           "#FF97FF",
           "#19D3F3",
           "#00CC96",
           "#19D3F3",
           "#00CC96",
           "#FF6692",
           "#FF6692",
           "#FF6692",
           "#FF6692",
           "#FF6692",
           "#FF6692",
           "#FF6692",
           "#FF6692",
           "#FF6692",
           "#636EFA",
           "#FF6692",
           "#636EFA",
           "#636EFA",
           "#FF6692",
           "#FF6692",
           "#FF6692",
           "#B6E880",
           "#19D3F3",
           "#FFA15A",
           "#FF6692",
           "#FF6692",
           "#B6E880",
           "#B6E880",
           "#19D3F3",
           "#19D3F3",
           "#FFA15A",
           "#FFA15A",
           "#FECB52",
           "#B6E880",
           "#FECB52",
           "#B6E880",
           "#00CC96",
           "#FECB52",
           "#00CC96",
           "#FECB52",
           "#FF97FF",
           "#FF6692",
           "#FF97FF",
           "#FF6692",
           "#FECB52",
           "#00CC96",
           "#B6E880",
           "#FECB52",
           "#00CC96",
           "#B6E880",
           "#FECB52",
           "#00CC96",
           "#B6E880",
           "#AB63FA",
           "#B6E880",
           "#AB63FA",
           "#B6E880",
           "#AB63FA",
           "#B6E880",
           "#B6E880",
           "#FF97FF",
           "#636EFA",
           "#B6E880",
           "#FF97FF",
           "#636EFA",
           "#B6E880",
           "#FF97FF",
           "#636EFA",
           "#FF6692",
           "#19D3F3",
           "#FF6692",
           "#19D3F3",
           "#FF6692",
           "#FF6692",
           "#FF6692",
           "#EF553B",
           "#FF6692",
           "#EF553B",
           "#FF6692",
           "#EF553B",
           "#19D3F3",
           "#FFA15A",
           "#19D3F3",
           "#FFA15A",
           "#FF6692",
           "#EF553B",
           "#636EFA",
           "#FF6692",
           "#EF553B",
           "#636EFA",
           "#19D3F3",
           "#B6E880",
           "#19D3F3",
           "#B6E880",
           "#EF553B",
           "#FF6692",
           "#EF553B",
           "#FF6692",
           "#FF6692",
           "#FF6692",
           "#EF553B",
           "#B6E880",
           "#EF553B",
           "#B6E880",
           "#FFA15A",
           "#636EFA",
           "#FFA15A",
           "#636EFA",
           "#FF6692",
           "#19D3F3",
           "#FF6692",
           "#19D3F3",
           "#19D3F3",
           "#636EFA",
           "#19D3F3",
           "#636EFA",
           "#FF6692",
           "#FF6692",
           "#FF6692",
           "#FF6692",
           "#FF6692",
           "#FF6692",
           "#FF6692",
           "#FF6692",
           "#FF97FF",
           "#FF6692",
           "#FF97FF",
           "#19D3F3",
           "#19D3F3",
           "#19D3F3",
           "#FF6692",
           "#00CC96",
           "#FF6692",
           "#00CC96",
           "#FF6692",
           "#AB63FA",
           "#FF6692",
           "#AB63FA",
           "#FF97FF",
           "#19D3F3",
           "#FF97FF",
           "#19D3F3",
           "#19D3F3",
           "#FF97FF",
           "#19D3F3",
           "#FF97FF",
           "#EF553B",
           "#FFA15A",
           "#EF553B",
           "#EF553B",
           "#FFA15A",
           "#EF553B",
           "#FF97FF",
           "#19D3F3",
           "#FF97FF",
           "#19D3F3",
           "#FF6692",
           "#FF6692"
          ],
          "source": [
           0,
           1,
           2,
           2,
           3,
           4,
           2,
           1,
           5,
           6,
           6,
           7,
           7,
           8,
           6,
           9,
           9,
           10,
           11,
           12,
           12,
           12,
           13,
           14,
           15,
           2,
           2,
           1,
           16,
           0,
           0,
           0,
           17,
           17,
           15,
           15,
           18,
           18,
           19,
           19,
           0,
           0,
           20,
           1,
           21,
           21,
           22,
           23,
           21,
           21,
           24,
           24,
           25,
           25,
           26,
           26,
           27,
           28,
           2,
           2,
           29,
           29,
           30,
           30,
           2,
           2,
           2,
           31,
           32,
           33,
           2,
           2,
           34,
           34,
           35,
           28,
           5,
           5,
           5,
           5,
           36,
           37,
           38,
           39,
           2,
           2,
           40,
           41,
           7,
           7,
           8,
           42,
           43,
           43,
           40,
           6,
           44,
           44,
           45,
           46,
           5,
           5,
           5,
           47,
           47,
           48,
           48,
           49,
           49,
           5,
           5,
           36,
           1,
           50,
           50,
           1,
           6,
           51,
           51,
           52,
           53,
           5,
           5,
           45,
           54,
           5,
           5,
           45,
           54,
           2,
           1,
           2,
           26,
           50,
           1,
           2,
           1,
           5,
           5,
           5,
           5,
           36,
           55,
           56,
           57,
           5,
           5,
           58,
           59,
           2,
           1,
           50,
           2,
           1,
           2,
           1,
           60,
           1,
           12,
           12,
           17,
           17,
           1,
           1,
           5,
           5,
           5,
           5,
           3,
           3,
           61,
           61,
           62,
           62,
           63,
           63,
           64,
           64,
           65,
           66,
           26,
           26,
           67,
           68,
           5,
           5,
           69,
           3,
           21,
           21,
           21,
           26,
           26,
           26,
           70,
           71,
           72,
           12,
           12,
           73,
           73,
           13,
           15,
           12,
           12,
           12,
           73,
           73,
           73,
           74,
           75,
           76,
           44,
           44,
           77,
           48,
           0,
           1,
           9,
           9,
           26,
           26,
           1,
           78,
           73,
           73,
           79,
           80,
           81,
           81,
           81,
           3,
           82,
           83,
           44,
           44,
           84,
           85,
           5,
           5,
           36,
           1,
           7,
           1,
           5,
           5,
           36,
           86,
           87,
           87,
           88,
           89,
           9,
           9,
           90,
           91,
           92,
           92,
           93,
           94,
           0,
           1,
           2,
           1,
           1,
           2,
           1,
           5,
           5,
           1,
           6,
           95,
           96,
           96,
           2,
           2,
           1,
           97,
           7,
           7,
           1,
           98,
           5,
           5,
           99,
           100,
           2,
           2,
           48,
           49,
           5,
           5,
           5,
           101,
           102,
           103,
           2,
           2,
           6,
           48,
           7,
           1
          ],
          "target": [
           1,
           104,
           3,
           4,
           105,
           105,
           1,
           106,
           6,
           107,
           108,
           8,
           6,
           109,
           109,
           10,
           11,
           110,
           110,
           13,
           14,
           15,
           111,
           111,
           111,
           1,
           16,
           112,
           112,
           17,
           15,
           18,
           113,
           114,
           113,
           114,
           113,
           114,
           20,
           1,
           20,
           1,
           115,
           115,
           22,
           23,
           116,
           116,
           24,
           25,
           117,
           118,
           117,
           118,
           27,
           28,
           119,
           119,
           29,
           30,
           120,
           121,
           120,
           121,
           31,
           32,
           33,
           122,
           122,
           122,
           35,
           28,
           35,
           28,
           119,
           119,
           36,
           37,
           38,
           39,
           123,
           123,
           123,
           123,
           40,
           41,
           120,
           120,
           8,
           42,
           124,
           124,
           40,
           6,
           125,
           125,
           45,
           46,
           126,
           126,
           47,
           48,
           49,
           127,
           128,
           127,
           128,
           127,
           128,
           36,
           1,
           128,
           128,
           1,
           6,
           129,
           129,
           52,
           53,
           130,
           130,
           45,
           54,
           128,
           128,
           45,
           54,
           128,
           128,
           1,
           131,
           1,
           1,
           1,
           132,
           1,
           133,
           36,
           55,
           56,
           57,
           134,
           134,
           134,
           134,
           58,
           59,
           135,
           135,
           1,
           136,
           1,
           1,
           137,
           1,
           138,
           1,
           104,
           17,
           1,
           139,
           140,
           139,
           140,
           3,
           61,
           62,
           63,
           111,
           128,
           111,
           128,
           111,
           128,
           111,
           128,
           65,
           66,
           127,
           127,
           67,
           68,
           141,
           141,
           69,
           3,
           128,
           128,
           70,
           71,
           72,
           70,
           71,
           72,
           142,
           142,
           142,
           13,
           15,
           13,
           15,
           143,
           143,
           74,
           75,
           76,
           74,
           75,
           76,
           144,
           144,
           144,
           77,
           48,
           127,
           127,
           1,
           145,
           1,
           78,
           1,
           78,
           146,
           146,
           79,
           80,
           147,
           147,
           3,
           82,
           83,
           127,
           127,
           127,
           84,
           85,
           127,
           127,
           36,
           1,
           128,
           128,
           1,
           148,
           36,
           86,
           149,
           149,
           88,
           89,
           127,
           127,
           90,
           91,
           127,
           127,
           93,
           94,
           135,
           135,
           1,
           150,
           1,
           151,
           152,
           1,
           150,
           1,
           6,
           126,
           126,
           96,
           153,
           154,
           1,
           97,
           127,
           127,
           1,
           98,
           155,
           155,
           99,
           100,
           135,
           135,
           48,
           49,
           128,
           128,
           101,
           102,
           103,
           126,
           126,
           126,
           6,
           48,
           128,
           128,
           1,
           156
          ],
          "value": [
           1,
           1,
           1,
           1,
           1,
           1,
           1,
           1,
           1,
           1,
           1,
           1,
           1,
           1,
           1,
           1,
           1,
           1,
           1,
           1,
           1,
           1,
           1,
           1,
           1,
           1,
           1,
           1,
           1,
           1,
           1,
           1,
           1,
           1,
           1,
           1,
           1,
           1,
           1,
           1,
           1,
           1,
           1,
           1,
           1,
           1,
           1,
           1,
           1,
           1,
           1,
           1,
           1,
           1,
           1,
           1,
           1,
           1,
           1,
           1,
           1,
           1,
           1,
           1,
           1,
           1,
           1,
           1,
           1,
           1,
           1,
           1,
           1,
           1,
           1,
           1,
           1,
           1,
           1,
           1,
           1,
           1,
           1,
           1,
           1,
           1,
           1,
           1,
           1,
           1,
           1,
           1,
           1,
           1,
           1,
           1,
           1,
           1,
           1,
           1,
           1,
           1,
           1,
           1,
           1,
           1,
           1,
           1,
           1,
           1,
           1,
           1,
           1,
           1,
           1,
           1,
           1,
           1,
           1,
           1,
           1,
           1,
           1,
           1,
           1,
           1,
           1,
           1,
           1,
           1,
           1,
           1,
           1,
           1,
           1,
           1,
           1,
           1,
           1,
           1,
           1,
           1,
           1,
           1,
           1,
           1,
           1,
           1,
           1,
           1,
           1,
           1,
           1,
           1,
           1,
           1,
           1,
           1,
           1,
           1,
           1,
           1,
           1,
           1,
           1,
           1,
           1,
           1,
           1,
           1,
           1,
           1,
           1,
           1,
           1,
           1,
           1,
           1,
           1,
           1,
           1,
           1,
           1,
           1,
           1,
           1,
           1,
           1,
           1,
           1,
           1,
           1,
           1,
           1,
           1,
           1,
           1,
           1,
           1,
           1,
           1,
           1,
           1,
           1,
           1,
           1,
           1,
           1,
           1,
           1,
           1,
           1,
           1,
           1,
           1,
           1,
           1,
           1,
           1,
           1,
           1,
           1,
           1,
           1,
           1,
           1,
           1,
           1,
           1,
           1,
           1,
           1,
           1,
           1,
           1,
           1,
           1,
           1,
           1,
           1,
           1,
           1,
           1,
           1,
           1,
           1,
           1,
           1,
           1,
           1,
           1,
           1,
           1,
           1,
           1,
           1,
           1,
           1,
           1,
           1,
           1,
           1,
           1,
           1,
           1,
           1,
           1,
           1,
           1,
           1,
           1,
           1,
           1,
           1,
           1,
           1,
           1,
           1,
           1,
           1,
           1,
           1,
           1,
           1,
           1,
           1,
           1,
           1,
           1,
           1,
           1,
           1,
           1,
           1,
           1,
           1,
           1,
           1,
           1,
           1,
           1,
           1
          ]
         },
         "node": {
          "color": [
           "grey",
           "#FF6692",
           "grey",
           "#FF6692",
           "#00CC96",
           "grey",
           "#FF97FF",
           "grey",
           "#FFA15A",
           "grey",
           "#636EFA",
           "#B6E880",
           "grey",
           "#AB63FA",
           "#FF97FF",
           "#B6E880",
           "#FF6692",
           "#636EFA",
           "#B6E880",
           "grey",
           "#FFA15A",
           "grey",
           "#636EFA",
           "#00CC96",
           "#FF97FF",
           "#00CC96",
           "grey",
           "#AB63FA",
           "#AB63FA",
           "#FFA15A",
           "#00CC96",
           "#FECB52",
           "#B6E880",
           "#19D3F3",
           "grey",
           "#FFA15A",
           "#EF553B",
           "#636EFA",
           "#636EFA",
           "#19D3F3",
           "#636EFA",
           "#FFA15A",
           "#FF97FF",
           "grey",
           "grey",
           "#B6E880",
           "#B6E880",
           "#FECB52",
           "#19D3F3",
           "#FF97FF",
           "grey",
           "grey",
           "#FECB52",
           "#FF97FF",
           "#19D3F3",
           "#FF6692",
           "#636EFA",
           "#FF97FF",
           "#19D3F3",
           "#00CC96",
           "grey",
           "#B6E880",
           "#19D3F3",
           "#FFA15A",
           "grey",
           "#FECB52",
           "#B6E880",
           "#00CC96",
           "#FECB52",
           "#FF97FF",
           "#FECB52",
           "#00CC96",
           "#B6E880",
           "grey",
           "#B6E880",
           "#FF97FF",
           "#636EFA",
           "#FF6692",
           "#EF553B",
           "#19D3F3",
           "#FFA15A",
           "grey",
           "#EF553B",
           "#636EFA",
           "#19D3F3",
           "#B6E880",
           "#B6E880",
           "grey",
           "#FFA15A",
           "#636EFA",
           "#FF6692",
           "#19D3F3",
           "grey",
           "#19D3F3",
           "#636EFA",
           "grey",
           "#19D3F3",
           "#00CC96",
           "#AB63FA",
           "#FF97FF",
           "#19D3F3",
           "#EF553B",
           "#FFA15A",
           "#EF553B",
           "grey",
           "grey",
           "grey",
           "grey",
           "grey",
           "grey",
           "grey",
           "grey",
           "grey",
           "grey",
           "grey",
           "grey",
           "grey",
           "grey",
           "grey",
           "grey",
           "grey",
           "grey",
           "grey",
           "grey",
           "grey",
           "grey",
           "grey",
           "grey",
           "grey",
           "grey",
           "grey",
           "grey",
           "grey",
           "grey",
           "grey",
           "grey",
           "grey",
           "grey",
           "grey",
           "grey",
           "grey",
           "grey",
           "grey",
           "grey",
           "grey",
           "grey",
           "grey",
           "grey",
           "grey",
           "grey",
           "grey",
           "grey",
           "grey",
           "grey",
           "grey",
           "grey",
           "grey",
           "grey",
           "grey",
           "grey",
           "grey",
           "grey",
           "grey",
           "grey",
           "grey",
           "grey",
           "grey"
          ],
          "label": [
           "Glycerol",
           "Escherichia coli",
           "Glucose",
           "Clostridium acetobutylicum",
           "Actinobacillus succinogenes",
           "Lignocellulose",
           "Saccharomyces cerevisiae",
           "Amino acid medium",
           "Lactobacillus plantarum",
           "Starch",
           "Cellulomonas cellulans",
           "Agrobacterium tumefaciens",
           "CO",
           "Clostridium autoethanogenum",
           "Eubacterium rectale",
           "Clostridium kluyveri",
           "Acinetobacter baylyi",
           "Eubacterium limosum",
           "Massilibacterium senegalense",
           "Phenanthrene",
           "Pseudomonas putida",
           "Food waste",
           "Pediococcus pentosaceus",
           "Megasphaera cerevisiae",
           "Bacillus amyloliquefaciens",
           "Yarrowia lipolytica",
           "Sucrose",
           "Ralstonia eutropha",
           "Bacillus subtilis",
           "Gluconacetobacter hansenii",
           "Lactococcus lactis",
           "Cercospora sp",
           "Bacillus velezensis",
           "Lysinibacillus sp",
           "VFA_s",
           "Pseudomonas sp",
           "Trichoderma reesei",
           "Penicillium decumbens",
           "Aspergillus tubingensis",
           "Aspergillus niger",
           "Aureobasidium pullulans",
           "Komagataeibacter hansenii",
           "Weissella cibaria",
           "Saccharides",
           "Cellulose",
           "Clostridium thermocellum",
           "Clostridium thermohydrosulfuricum",
           "Enterococcus sp",
           "Clostridium beijerinckii",
           "Clostridium cellulovorans",
           "Xylose",
           "Light",
           "Synechococcus elongatus",
           "Halomonas boliviensis",
           "Clostridium saccharoperbutylacetonicum",
           "Clostridium tyrobutyricum",
           "Veillonella criceti",
           "Megasphaera elsdenii",
           "Clostridium cellulolyticum",
           "Geobacter sulfurreducens",
           "Tryptophan",
           "Anaeromyces robustus",
           "Neocallimastix californiae",
           "Caecomyces churrovis",
           "Wastewater sludge",
           "Salmonella subterranea",
           "Paenibacillus polymyxa",
           "Aspergillus fumigatus",
           "Sphingomonas sp",
           "Thermoanaerobacterium thermosaccharolyticum",
           "Aeribacillus pallidus",
           "Lysinibacillus fusiformis",
           "Anoxybacillus kamchatkensis",
           "Syngas",
           "Acetobacterium wieringae",
           "Pelobacter propionicus",
           "Anaerotignum neopropionicum",
           "Clostridium termitidis",
           "Corynebacterium glutamicum",
           "Methylosinus sporium",
           "Methylocella tundrae",
           "Industrial waste",
           "Enterobacter cloacae",
           "Kluyveromyces marxianus",
           "Enterococcus gallinarum",
           "Ethanoligenens harbinense",
           "Rhizopus delemar",
           "Meat extract",
           "Clostridium roseum",
           "Clostridium butyricum",
           "Bacillus cereus",
           "Brevundimonas naejangsanensis",
           "CO2",
           "Desulfobacterium corrodens",
           "Acetobacterium woodii",
           "Methanol_s",
           "Pichia pastoris",
           "Rhodopseudomonas palustris",
           "Streptomyces venezuelae",
           "Klebsiella pneumonia",
           "Shewanella oneidensis",
           "Schizophyllum commune",
           "Bjerkandera adusta",
           "Fomitopsis palustris",
           "Indigo",
           "Butyl acetate",
           "Biomass",
           "P-coumaric acid",
           "Caffeic acid",
           "Vitamins",
           "Polysaccharide",
           "Butyrate",
           "Recombinant protein",
           "1,3-Propanediol",
           "Caproate",
           "Biosurfactants",
           "VFA",
           "Lipopeptides",
           "Fatty acid",
           "Polyhydroxyalkanoate",
           "Bacterial cellulose",
           "Hyaluronic acid",
           "Cercosporin",
           "Glucose_p",
           "Antilisterial compounds",
           "Fructo-oligosaccharide",
           "Ethanol",
           "Hydrogen",
           "Butanol",
           "Pharmaceutically active compounds",
           "PHB",
           "Phenol",
           "Rosmarinic acid",
           "Pyranoanthocyanins",
           "SCFA",
           "Electricity",
           "Anthocyanins",
           "Glycosides",
           "Flavonoids",
           "3-hydroxypropionic acid",
           "Itaconic acid",
           "Glionitrin B",
           "Microbial proteases",
           "MCFA",
           "Propionate",
           "3-hydroxybenzoic acid",
           "L-lysine",
           "Methanol_p",
           "Antibodies",
           "Fumaric acid",
           "Resveratrol",
           "caffeyl alcohol",
           "coniferyl alcohol",
           "Monacolin",
           "lovastatin",
           "O-methylated phenylpropanoids",
           "7-methylxanthine",
           "#FF6692",
           "#00CC96",
           "#FF97FF",
           "#FFA15A",
           "#636EFA",
           "#B6E880",
           "#AB63FA",
           "#FECB52",
           "#19D3F3",
           "#EF553B"
          ],
          "line": {
           "color": "black",
           "width": 0.5
          },
          "pad": 15,
          "thickness": 20
         },
         "orientation": "h",
         "type": "sankey"
        }
       ],
       "layout": {
        "font": {
         "size": 8
        },
        "height": 850,
        "template": {
         "data": {
          "bar": [
           {
            "error_x": {
             "color": "#2a3f5f"
            },
            "error_y": {
             "color": "#2a3f5f"
            },
            "marker": {
             "line": {
              "color": "#E5ECF6",
              "width": 0.5
             },
             "pattern": {
              "fillmode": "overlay",
              "size": 10,
              "solidity": 0.2
             }
            },
            "type": "bar"
           }
          ],
          "barpolar": [
           {
            "marker": {
             "line": {
              "color": "#E5ECF6",
              "width": 0.5
             },
             "pattern": {
              "fillmode": "overlay",
              "size": 10,
              "solidity": 0.2
             }
            },
            "type": "barpolar"
           }
          ],
          "carpet": [
           {
            "aaxis": {
             "endlinecolor": "#2a3f5f",
             "gridcolor": "white",
             "linecolor": "white",
             "minorgridcolor": "white",
             "startlinecolor": "#2a3f5f"
            },
            "baxis": {
             "endlinecolor": "#2a3f5f",
             "gridcolor": "white",
             "linecolor": "white",
             "minorgridcolor": "white",
             "startlinecolor": "#2a3f5f"
            },
            "type": "carpet"
           }
          ],
          "choropleth": [
           {
            "colorbar": {
             "outlinewidth": 0,
             "ticks": ""
            },
            "type": "choropleth"
           }
          ],
          "contour": [
           {
            "colorbar": {
             "outlinewidth": 0,
             "ticks": ""
            },
            "colorscale": [
             [
              0,
              "#0d0887"
             ],
             [
              0.1111111111111111,
              "#46039f"
             ],
             [
              0.2222222222222222,
              "#7201a8"
             ],
             [
              0.3333333333333333,
              "#9c179e"
             ],
             [
              0.4444444444444444,
              "#bd3786"
             ],
             [
              0.5555555555555556,
              "#d8576b"
             ],
             [
              0.6666666666666666,
              "#ed7953"
             ],
             [
              0.7777777777777778,
              "#fb9f3a"
             ],
             [
              0.8888888888888888,
              "#fdca26"
             ],
             [
              1,
              "#f0f921"
             ]
            ],
            "type": "contour"
           }
          ],
          "contourcarpet": [
           {
            "colorbar": {
             "outlinewidth": 0,
             "ticks": ""
            },
            "type": "contourcarpet"
           }
          ],
          "heatmap": [
           {
            "colorbar": {
             "outlinewidth": 0,
             "ticks": ""
            },
            "colorscale": [
             [
              0,
              "#0d0887"
             ],
             [
              0.1111111111111111,
              "#46039f"
             ],
             [
              0.2222222222222222,
              "#7201a8"
             ],
             [
              0.3333333333333333,
              "#9c179e"
             ],
             [
              0.4444444444444444,
              "#bd3786"
             ],
             [
              0.5555555555555556,
              "#d8576b"
             ],
             [
              0.6666666666666666,
              "#ed7953"
             ],
             [
              0.7777777777777778,
              "#fb9f3a"
             ],
             [
              0.8888888888888888,
              "#fdca26"
             ],
             [
              1,
              "#f0f921"
             ]
            ],
            "type": "heatmap"
           }
          ],
          "heatmapgl": [
           {
            "colorbar": {
             "outlinewidth": 0,
             "ticks": ""
            },
            "colorscale": [
             [
              0,
              "#0d0887"
             ],
             [
              0.1111111111111111,
              "#46039f"
             ],
             [
              0.2222222222222222,
              "#7201a8"
             ],
             [
              0.3333333333333333,
              "#9c179e"
             ],
             [
              0.4444444444444444,
              "#bd3786"
             ],
             [
              0.5555555555555556,
              "#d8576b"
             ],
             [
              0.6666666666666666,
              "#ed7953"
             ],
             [
              0.7777777777777778,
              "#fb9f3a"
             ],
             [
              0.8888888888888888,
              "#fdca26"
             ],
             [
              1,
              "#f0f921"
             ]
            ],
            "type": "heatmapgl"
           }
          ],
          "histogram": [
           {
            "marker": {
             "pattern": {
              "fillmode": "overlay",
              "size": 10,
              "solidity": 0.2
             }
            },
            "type": "histogram"
           }
          ],
          "histogram2d": [
           {
            "colorbar": {
             "outlinewidth": 0,
             "ticks": ""
            },
            "colorscale": [
             [
              0,
              "#0d0887"
             ],
             [
              0.1111111111111111,
              "#46039f"
             ],
             [
              0.2222222222222222,
              "#7201a8"
             ],
             [
              0.3333333333333333,
              "#9c179e"
             ],
             [
              0.4444444444444444,
              "#bd3786"
             ],
             [
              0.5555555555555556,
              "#d8576b"
             ],
             [
              0.6666666666666666,
              "#ed7953"
             ],
             [
              0.7777777777777778,
              "#fb9f3a"
             ],
             [
              0.8888888888888888,
              "#fdca26"
             ],
             [
              1,
              "#f0f921"
             ]
            ],
            "type": "histogram2d"
           }
          ],
          "histogram2dcontour": [
           {
            "colorbar": {
             "outlinewidth": 0,
             "ticks": ""
            },
            "colorscale": [
             [
              0,
              "#0d0887"
             ],
             [
              0.1111111111111111,
              "#46039f"
             ],
             [
              0.2222222222222222,
              "#7201a8"
             ],
             [
              0.3333333333333333,
              "#9c179e"
             ],
             [
              0.4444444444444444,
              "#bd3786"
             ],
             [
              0.5555555555555556,
              "#d8576b"
             ],
             [
              0.6666666666666666,
              "#ed7953"
             ],
             [
              0.7777777777777778,
              "#fb9f3a"
             ],
             [
              0.8888888888888888,
              "#fdca26"
             ],
             [
              1,
              "#f0f921"
             ]
            ],
            "type": "histogram2dcontour"
           }
          ],
          "mesh3d": [
           {
            "colorbar": {
             "outlinewidth": 0,
             "ticks": ""
            },
            "type": "mesh3d"
           }
          ],
          "parcoords": [
           {
            "line": {
             "colorbar": {
              "outlinewidth": 0,
              "ticks": ""
             }
            },
            "type": "parcoords"
           }
          ],
          "pie": [
           {
            "automargin": true,
            "type": "pie"
           }
          ],
          "scatter": [
           {
            "fillpattern": {
             "fillmode": "overlay",
             "size": 10,
             "solidity": 0.2
            },
            "type": "scatter"
           }
          ],
          "scatter3d": [
           {
            "line": {
             "colorbar": {
              "outlinewidth": 0,
              "ticks": ""
             }
            },
            "marker": {
             "colorbar": {
              "outlinewidth": 0,
              "ticks": ""
             }
            },
            "type": "scatter3d"
           }
          ],
          "scattercarpet": [
           {
            "marker": {
             "colorbar": {
              "outlinewidth": 0,
              "ticks": ""
             }
            },
            "type": "scattercarpet"
           }
          ],
          "scattergeo": [
           {
            "marker": {
             "colorbar": {
              "outlinewidth": 0,
              "ticks": ""
             }
            },
            "type": "scattergeo"
           }
          ],
          "scattergl": [
           {
            "marker": {
             "colorbar": {
              "outlinewidth": 0,
              "ticks": ""
             }
            },
            "type": "scattergl"
           }
          ],
          "scattermapbox": [
           {
            "marker": {
             "colorbar": {
              "outlinewidth": 0,
              "ticks": ""
             }
            },
            "type": "scattermapbox"
           }
          ],
          "scatterpolar": [
           {
            "marker": {
             "colorbar": {
              "outlinewidth": 0,
              "ticks": ""
             }
            },
            "type": "scatterpolar"
           }
          ],
          "scatterpolargl": [
           {
            "marker": {
             "colorbar": {
              "outlinewidth": 0,
              "ticks": ""
             }
            },
            "type": "scatterpolargl"
           }
          ],
          "scatterternary": [
           {
            "marker": {
             "colorbar": {
              "outlinewidth": 0,
              "ticks": ""
             }
            },
            "type": "scatterternary"
           }
          ],
          "surface": [
           {
            "colorbar": {
             "outlinewidth": 0,
             "ticks": ""
            },
            "colorscale": [
             [
              0,
              "#0d0887"
             ],
             [
              0.1111111111111111,
              "#46039f"
             ],
             [
              0.2222222222222222,
              "#7201a8"
             ],
             [
              0.3333333333333333,
              "#9c179e"
             ],
             [
              0.4444444444444444,
              "#bd3786"
             ],
             [
              0.5555555555555556,
              "#d8576b"
             ],
             [
              0.6666666666666666,
              "#ed7953"
             ],
             [
              0.7777777777777778,
              "#fb9f3a"
             ],
             [
              0.8888888888888888,
              "#fdca26"
             ],
             [
              1,
              "#f0f921"
             ]
            ],
            "type": "surface"
           }
          ],
          "table": [
           {
            "cells": {
             "fill": {
              "color": "#EBF0F8"
             },
             "line": {
              "color": "white"
             }
            },
            "header": {
             "fill": {
              "color": "#C8D4E3"
             },
             "line": {
              "color": "white"
             }
            },
            "type": "table"
           }
          ]
         },
         "layout": {
          "annotationdefaults": {
           "arrowcolor": "#2a3f5f",
           "arrowhead": 0,
           "arrowwidth": 1
          },
          "autotypenumbers": "strict",
          "coloraxis": {
           "colorbar": {
            "outlinewidth": 0,
            "ticks": ""
           }
          },
          "colorscale": {
           "diverging": [
            [
             0,
             "#8e0152"
            ],
            [
             0.1,
             "#c51b7d"
            ],
            [
             0.2,
             "#de77ae"
            ],
            [
             0.3,
             "#f1b6da"
            ],
            [
             0.4,
             "#fde0ef"
            ],
            [
             0.5,
             "#f7f7f7"
            ],
            [
             0.6,
             "#e6f5d0"
            ],
            [
             0.7,
             "#b8e186"
            ],
            [
             0.8,
             "#7fbc41"
            ],
            [
             0.9,
             "#4d9221"
            ],
            [
             1,
             "#276419"
            ]
           ],
           "sequential": [
            [
             0,
             "#0d0887"
            ],
            [
             0.1111111111111111,
             "#46039f"
            ],
            [
             0.2222222222222222,
             "#7201a8"
            ],
            [
             0.3333333333333333,
             "#9c179e"
            ],
            [
             0.4444444444444444,
             "#bd3786"
            ],
            [
             0.5555555555555556,
             "#d8576b"
            ],
            [
             0.6666666666666666,
             "#ed7953"
            ],
            [
             0.7777777777777778,
             "#fb9f3a"
            ],
            [
             0.8888888888888888,
             "#fdca26"
            ],
            [
             1,
             "#f0f921"
            ]
           ],
           "sequentialminus": [
            [
             0,
             "#0d0887"
            ],
            [
             0.1111111111111111,
             "#46039f"
            ],
            [
             0.2222222222222222,
             "#7201a8"
            ],
            [
             0.3333333333333333,
             "#9c179e"
            ],
            [
             0.4444444444444444,
             "#bd3786"
            ],
            [
             0.5555555555555556,
             "#d8576b"
            ],
            [
             0.6666666666666666,
             "#ed7953"
            ],
            [
             0.7777777777777778,
             "#fb9f3a"
            ],
            [
             0.8888888888888888,
             "#fdca26"
            ],
            [
             1,
             "#f0f921"
            ]
           ]
          },
          "colorway": [
           "#636efa",
           "#EF553B",
           "#00cc96",
           "#ab63fa",
           "#FFA15A",
           "#19d3f3",
           "#FF6692",
           "#B6E880",
           "#FF97FF",
           "#FECB52"
          ],
          "font": {
           "color": "#2a3f5f"
          },
          "geo": {
           "bgcolor": "white",
           "lakecolor": "white",
           "landcolor": "#E5ECF6",
           "showlakes": true,
           "showland": true,
           "subunitcolor": "white"
          },
          "hoverlabel": {
           "align": "left"
          },
          "hovermode": "closest",
          "mapbox": {
           "style": "light"
          },
          "paper_bgcolor": "white",
          "plot_bgcolor": "#E5ECF6",
          "polar": {
           "angularaxis": {
            "gridcolor": "white",
            "linecolor": "white",
            "ticks": ""
           },
           "bgcolor": "#E5ECF6",
           "radialaxis": {
            "gridcolor": "white",
            "linecolor": "white",
            "ticks": ""
           }
          },
          "scene": {
           "xaxis": {
            "backgroundcolor": "#E5ECF6",
            "gridcolor": "white",
            "gridwidth": 2,
            "linecolor": "white",
            "showbackground": true,
            "ticks": "",
            "zerolinecolor": "white"
           },
           "yaxis": {
            "backgroundcolor": "#E5ECF6",
            "gridcolor": "white",
            "gridwidth": 2,
            "linecolor": "white",
            "showbackground": true,
            "ticks": "",
            "zerolinecolor": "white"
           },
           "zaxis": {
            "backgroundcolor": "#E5ECF6",
            "gridcolor": "white",
            "gridwidth": 2,
            "linecolor": "white",
            "showbackground": true,
            "ticks": "",
            "zerolinecolor": "white"
           }
          },
          "shapedefaults": {
           "line": {
            "color": "#2a3f5f"
           }
          },
          "ternary": {
           "aaxis": {
            "gridcolor": "white",
            "linecolor": "white",
            "ticks": ""
           },
           "baxis": {
            "gridcolor": "white",
            "linecolor": "white",
            "ticks": ""
           },
           "bgcolor": "#E5ECF6",
           "caxis": {
            "gridcolor": "white",
            "linecolor": "white",
            "ticks": ""
           }
          },
          "title": {
           "x": 0.05
          },
          "xaxis": {
           "automargin": true,
           "gridcolor": "white",
           "linecolor": "white",
           "ticks": "",
           "title": {
            "standoff": 15
           },
           "zerolinecolor": "white",
           "zerolinewidth": 2
          },
          "yaxis": {
           "automargin": true,
           "gridcolor": "white",
           "linecolor": "white",
           "ticks": "",
           "title": {
            "standoff": 15
           },
           "zerolinecolor": "white",
           "zerolinewidth": 2
          }
         }
        },
        "title": {
         "text": "Sankey Diagram for consortia uses"
        }
       }
      }
     },
     "metadata": {},
     "output_type": "display_data"
    }
   ],
   "source": [
    "#create diagram\n",
    "import plotly.express as px\n",
    "\n",
    "fig = go.Figure(data=[go.Sankey(\n",
    "    orientation = \"h\",\n",
    "    node = dict(\n",
    "      pad = 15,\n",
    "      thickness = 20,\n",
    "      line = dict(color = \"black\", width = 0.5),\n",
    "      label = unique_source_target,\n",
    "      #color = \"grey\"\n",
    "      color = node_colours\n",
    "    ),\n",
    "    link = dict(\n",
    "      source = sankey_dict[\"Source\"],\n",
    "      target = sankey_dict[\"Target\"],\n",
    "      value = sankey_dict[\"Value\"],\n",
    "      color = sankey_dict[\"Color\"]\n",
    "      #color = [px.colors.qualitative.Plotly[unique_source_target.index(i) % len(px.colors.qualitative.Plotly)] for i in unique_source_target]\n",
    "  ))])\n",
    "\n",
    "layout = dict(\n",
    "        title = \"Sankey Diagram for consortia uses\",\n",
    "    height = 850,\n",
    "    font = dict(\n",
    "      size = 8),)\n",
    "\n",
    "#show figure\n",
    "fig.update_layout(layout)\n",
    "fig.show()"
   ]
  },
  {
   "cell_type": "code",
   "execution_count": 156,
   "metadata": {},
   "outputs": [],
   "source": [
    "#save the figure as a .svg file\n",
    "fig.write_image(\"plots/sankey_diagram.png\")"
   ]
  },
  {
   "cell_type": "code",
   "execution_count": 157,
   "metadata": {},
   "outputs": [
    {
     "data": {
      "application/vnd.plotly.v1+json": {
       "config": {
        "plotlyServerURL": "https://plot.ly"
       },
       "data": [
        {
         "link": {
          "color": [
           "#EF553B",
           "#EF553B",
           "#AB63FA",
           "#AB63FA",
           "#AB63FA",
           "#AB63FA",
           "#EF553B",
           "#EF553B",
           "#EF553B",
           "#EF553B",
           "#EF553B",
           "#00CC96",
           "#EF553B",
           "#00CC96",
           "#EF553B",
           "#FF97FF",
           "#AB63FA",
           "#FF97FF",
           "#AB63FA",
           "#AB63FA",
           "#FF97FF",
           "#AB63FA",
           "#AB63FA",
           "#FF97FF",
           "#AB63FA",
           "#EF553B",
           "#FF97FF",
           "#EF553B",
           "#FF97FF",
           "#FF97FF",
           "#AB63FA",
           "#FFA15A",
           "#FF97FF",
           "#FF97FF",
           "#AB63FA",
           "#AB63FA",
           "#FFA15A",
           "#FFA15A",
           "#FECB52",
           "#EF553B",
           "#FECB52",
           "#EF553B",
           "#FECB52",
           "#EF553B",
           "#00CC96",
           "#FF6692",
           "#00CC96",
           "#FF6692",
           "#FECB52",
           "#00CC96",
           "#FECB52",
           "#FECB52",
           "#00CC96",
           "#00CC96",
           "#B6E880",
           "#FECB52",
           "#B6E880",
           "#FECB52",
           "#FF6692",
           "#FF6692",
           "#FF6692",
           "#FF6692",
           "#FF6692",
           "#FF6692",
           "#636EFA",
           "#FECB52",
           "#B6E880",
           "#636EFA",
           "#FECB52",
           "#B6E880",
           "#FECB52",
           "#FECB52",
           "#FECB52",
           "#FECB52",
           "#FECB52",
           "#FECB52",
           "#AB63FA",
           "#FF6692",
           "#EF553B",
           "#EF553B",
           "#AB63FA",
           "#FF6692",
           "#EF553B",
           "#EF553B",
           "#AB63FA",
           "#B6E880",
           "#AB63FA",
           "#B6E880",
           "#00CC96",
           "#19D3F3",
           "#00CC96",
           "#19D3F3",
           "#AB63FA",
           "#EF553B",
           "#AB63FA",
           "#EF553B",
           "#AB63FA",
           "#AB63FA",
           "#AB63FA",
           "#AB63FA",
           "#FFA15A",
           "#AB63FA",
           "#AB63FA",
           "#FFA15A",
           "#FFA15A",
           "#AB63FA",
           "#AB63FA",
           "#AB63FA",
           "#AB63FA",
           "#AB63FA",
           "#EF553B",
           "#AB63FA",
           "#EF553B",
           "#EF553B",
           "#EF553B",
           "#EF553B",
           "#EF553B",
           "#00CC96",
           "#00CC96",
           "#00CC96",
           "#00CC96",
           "#AB63FA",
           "#AB63FA",
           "#AB63FA",
           "#AB63FA",
           "#AB63FA",
           "#AB63FA",
           "#AB63FA",
           "#AB63FA",
           "#EF553B",
           "#EF553B",
           "#EF553B",
           "#EF553B",
           "#EF553B",
           "#EF553B",
           "#EF553B",
           "#EF553B",
           "#AB63FA",
           "#AB63FA",
           "#B6E880",
           "#FF6692",
           "#AB63FA",
           "#AB63FA",
           "#B6E880",
           "#FF6692",
           "#AB63FA",
           "#B6E880",
           "#AB63FA",
           "#B6E880",
           "#EF553B",
           "#EF553B",
           "#EF553B",
           "#EF553B",
           "#EF553B",
           "#EF553B",
           "#EF553B",
           "#EF553B",
           "#EF553B",
           "#FF97FF",
           "#EF553B",
           "#FF97FF",
           "#FF97FF",
           "#EF553B",
           "#EF553B",
           "#AB63FA",
           "#00CC96",
           "#B6E880",
           "#636EFA",
           "#AB63FA",
           "#AB63FA",
           "#00CC96",
           "#00CC96",
           "#B6E880",
           "#B6E880",
           "#636EFA",
           "#636EFA",
           "#B6E880",
           "#19D3F3",
           "#B6E880",
           "#19D3F3",
           "#EF553B",
           "#636EFA",
           "#EF553B",
           "#636EFA",
           "#636EFA",
           "#AB63FA",
           "#636EFA",
           "#AB63FA",
           "#19D3F3",
           "#B6E880",
           "#FF97FF",
           "#19D3F3",
           "#B6E880",
           "#FF97FF",
           "#19D3F3",
           "#B6E880",
           "#FF97FF",
           "#AB63FA",
           "#AB63FA",
           "#AB63FA",
           "#AB63FA",
           "#AB63FA",
           "#AB63FA",
           "#00CC96",
           "#636EFA",
           "#B6E880",
           "#00CC96",
           "#636EFA",
           "#B6E880",
           "#00CC96",
           "#636EFA",
           "#B6E880",
           "#AB63FA",
           "#AB63FA",
           "#AB63FA",
           "#AB63FA",
           "#EF553B",
           "#EF553B",
           "#EF553B",
           "#AB63FA",
           "#EF553B",
           "#AB63FA",
           "#EF553B",
           "#AB63FA",
           "#AB63FA",
           "#636EFA",
           "#AB63FA",
           "#636EFA",
           "#AB63FA",
           "#00CC96",
           "#EF553B",
           "#AB63FA",
           "#00CC96",
           "#EF553B",
           "#FFA15A",
           "#B6E880",
           "#FFA15A",
           "#B6E880",
           "#AB63FA",
           "#EF553B",
           "#AB63FA",
           "#EF553B",
           "#EF553B",
           "#EF553B",
           "#AB63FA",
           "#19D3F3",
           "#AB63FA",
           "#19D3F3",
           "#AB63FA",
           "#AB63FA",
           "#AB63FA",
           "#AB63FA",
           "#FECB52",
           "#EF553B",
           "#FECB52",
           "#EF553B",
           "#00CC96",
           "#00CC96",
           "#00CC96",
           "#00CC96",
           "#EF553B",
           "#EF553B",
           "#EF553B",
           "#EF553B",
           "#EF553B",
           "#EF553B",
           "#EF553B",
           "#EF553B",
           "#EF553B",
           "#EF553B",
           "#EF553B",
           "#636EFA",
           "#636EFA",
           "#636EFA",
           "#EF553B",
           "#FF97FF",
           "#EF553B",
           "#FF97FF",
           "#EF553B",
           "#19D3F3",
           "#EF553B",
           "#19D3F3",
           "#FF97FF",
           "#FF97FF",
           "#FF97FF",
           "#FF97FF",
           "#AB63FA",
           "#AB63FA",
           "#AB63FA",
           "#AB63FA",
           "#FF6692",
           "#FECB52",
           "#B6E880",
           "#FF6692",
           "#FECB52",
           "#B6E880",
           "#EF553B",
           "#AB63FA",
           "#EF553B",
           "#AB63FA",
           "#EF553B",
           "#EF553B"
          ],
          "source": [
           0,
           1,
           2,
           2,
           3,
           4,
           2,
           1,
           5,
           6,
           6,
           7,
           7,
           8,
           6,
           9,
           9,
           10,
           11,
           12,
           12,
           12,
           3,
           13,
           3,
           2,
           2,
           1,
           14,
           0,
           0,
           0,
           13,
           13,
           3,
           3,
           15,
           15,
           16,
           16,
           0,
           0,
           17,
           1,
           18,
           18,
           19,
           20,
           18,
           18,
           21,
           21,
           22,
           22,
           23,
           23,
           24,
           21,
           2,
           2,
           25,
           25,
           26,
           26,
           2,
           2,
           2,
           27,
           21,
           28,
           2,
           2,
           29,
           29,
           17,
           21,
           5,
           5,
           5,
           5,
           30,
           31,
           32,
           32,
           2,
           2,
           33,
           34,
           7,
           7,
           8,
           35,
           36,
           36,
           33,
           6,
           37,
           37,
           3,
           3,
           5,
           5,
           5,
           38,
           38,
           3,
           3,
           3,
           3,
           5,
           5,
           30,
           1,
           39,
           39,
           1,
           6,
           40,
           40,
           41,
           42,
           5,
           5,
           3,
           3,
           5,
           5,
           3,
           3,
           2,
           1,
           2,
           23,
           39,
           1,
           2,
           1,
           5,
           5,
           5,
           5,
           30,
           3,
           43,
           20,
           5,
           5,
           3,
           44,
           2,
           1,
           39,
           2,
           1,
           2,
           1,
           45,
           1,
           12,
           12,
           13,
           13,
           1,
           1,
           5,
           5,
           5,
           5,
           3,
           3,
           46,
           46,
           47,
           47,
           48,
           48,
           49,
           49,
           50,
           51,
           23,
           23,
           32,
           52,
           5,
           5,
           53,
           3,
           18,
           18,
           18,
           23,
           23,
           23,
           54,
           28,
           55,
           12,
           12,
           56,
           56,
           3,
           3,
           12,
           12,
           12,
           56,
           56,
           56,
           57,
           58,
           59,
           37,
           37,
           3,
           3,
           0,
           1,
           9,
           9,
           23,
           23,
           1,
           60,
           56,
           56,
           61,
           62,
           63,
           63,
           63,
           3,
           64,
           65,
           37,
           37,
           38,
           66,
           5,
           5,
           30,
           1,
           7,
           1,
           5,
           5,
           30,
           67,
           68,
           68,
           3,
           3,
           9,
           9,
           21,
           69,
           70,
           70,
           71,
           57,
           0,
           1,
           2,
           1,
           1,
           2,
           1,
           5,
           5,
           1,
           6,
           72,
           73,
           73,
           2,
           2,
           1,
           74,
           7,
           7,
           1,
           75,
           5,
           5,
           76,
           77,
           2,
           2,
           3,
           3,
           5,
           5,
           5,
           78,
           79,
           80,
           2,
           2,
           6,
           3,
           7,
           1
          ],
          "target": [
           1,
           81,
           3,
           4,
           82,
           82,
           1,
           83,
           6,
           84,
           85,
           8,
           6,
           86,
           86,
           10,
           11,
           87,
           87,
           3,
           13,
           3,
           88,
           88,
           88,
           1,
           14,
           89,
           89,
           13,
           3,
           15,
           90,
           91,
           90,
           91,
           90,
           91,
           17,
           1,
           17,
           1,
           92,
           92,
           19,
           20,
           93,
           93,
           21,
           22,
           94,
           95,
           94,
           95,
           24,
           21,
           96,
           96,
           25,
           26,
           97,
           98,
           97,
           98,
           27,
           21,
           28,
           99,
           99,
           99,
           17,
           21,
           17,
           21,
           96,
           96,
           30,
           31,
           32,
           32,
           100,
           100,
           100,
           100,
           33,
           34,
           97,
           97,
           8,
           35,
           101,
           101,
           33,
           6,
           102,
           102,
           3,
           3,
           103,
           103,
           38,
           3,
           3,
           104,
           105,
           104,
           105,
           104,
           105,
           30,
           1,
           105,
           105,
           1,
           6,
           106,
           106,
           41,
           42,
           107,
           107,
           3,
           3,
           105,
           105,
           3,
           3,
           105,
           105,
           1,
           108,
           1,
           1,
           1,
           109,
           1,
           110,
           30,
           3,
           43,
           20,
           111,
           111,
           111,
           111,
           3,
           44,
           112,
           112,
           1,
           113,
           1,
           1,
           114,
           1,
           115,
           1,
           81,
           13,
           1,
           116,
           117,
           116,
           117,
           3,
           46,
           47,
           48,
           88,
           105,
           88,
           105,
           88,
           105,
           88,
           105,
           50,
           51,
           104,
           104,
           32,
           52,
           118,
           118,
           53,
           3,
           105,
           105,
           54,
           28,
           55,
           54,
           28,
           55,
           119,
           119,
           119,
           3,
           3,
           3,
           3,
           120,
           120,
           57,
           58,
           59,
           57,
           58,
           59,
           121,
           121,
           121,
           3,
           3,
           104,
           104,
           1,
           122,
           1,
           60,
           1,
           60,
           123,
           123,
           61,
           62,
           124,
           124,
           3,
           64,
           65,
           104,
           104,
           104,
           38,
           66,
           104,
           104,
           30,
           1,
           105,
           105,
           1,
           125,
           30,
           67,
           126,
           126,
           3,
           3,
           104,
           104,
           21,
           69,
           104,
           104,
           71,
           57,
           112,
           112,
           1,
           127,
           1,
           128,
           129,
           1,
           127,
           1,
           6,
           103,
           103,
           73,
           130,
           131,
           1,
           74,
           104,
           104,
           1,
           75,
           132,
           132,
           76,
           77,
           112,
           112,
           3,
           3,
           105,
           105,
           78,
           79,
           80,
           103,
           103,
           103,
           6,
           3,
           105,
           105,
           1,
           133
          ],
          "value": [
           1,
           1,
           1,
           1,
           1,
           1,
           1,
           1,
           1,
           1,
           1,
           1,
           1,
           1,
           1,
           1,
           1,
           1,
           1,
           1,
           1,
           1,
           1,
           1,
           1,
           1,
           1,
           1,
           1,
           1,
           1,
           1,
           1,
           1,
           1,
           1,
           1,
           1,
           1,
           1,
           1,
           1,
           1,
           1,
           1,
           1,
           1,
           1,
           1,
           1,
           1,
           1,
           1,
           1,
           1,
           1,
           1,
           1,
           1,
           1,
           1,
           1,
           1,
           1,
           1,
           1,
           1,
           1,
           1,
           1,
           1,
           1,
           1,
           1,
           1,
           1,
           1,
           1,
           1,
           1,
           1,
           1,
           1,
           1,
           1,
           1,
           1,
           1,
           1,
           1,
           1,
           1,
           1,
           1,
           1,
           1,
           1,
           1,
           1,
           1,
           1,
           1,
           1,
           1,
           1,
           1,
           1,
           1,
           1,
           1,
           1,
           1,
           1,
           1,
           1,
           1,
           1,
           1,
           1,
           1,
           1,
           1,
           1,
           1,
           1,
           1,
           1,
           1,
           1,
           1,
           1,
           1,
           1,
           1,
           1,
           1,
           1,
           1,
           1,
           1,
           1,
           1,
           1,
           1,
           1,
           1,
           1,
           1,
           1,
           1,
           1,
           1,
           1,
           1,
           1,
           1,
           1,
           1,
           1,
           1,
           1,
           1,
           1,
           1,
           1,
           1,
           1,
           1,
           1,
           1,
           1,
           1,
           1,
           1,
           1,
           1,
           1,
           1,
           1,
           1,
           1,
           1,
           1,
           1,
           1,
           1,
           1,
           1,
           1,
           1,
           1,
           1,
           1,
           1,
           1,
           1,
           1,
           1,
           1,
           1,
           1,
           1,
           1,
           1,
           1,
           1,
           1,
           1,
           1,
           1,
           1,
           1,
           1,
           1,
           1,
           1,
           1,
           1,
           1,
           1,
           1,
           1,
           1,
           1,
           1,
           1,
           1,
           1,
           1,
           1,
           1,
           1,
           1,
           1,
           1,
           1,
           1,
           1,
           1,
           1,
           1,
           1,
           1,
           1,
           1,
           1,
           1,
           1,
           1,
           1,
           1,
           1,
           1,
           1,
           1,
           1,
           1,
           1,
           1,
           1,
           1,
           1,
           1,
           1,
           1,
           1,
           1,
           1,
           1,
           1,
           1,
           1,
           1,
           1,
           1,
           1,
           1,
           1,
           1,
           1,
           1,
           1,
           1,
           1,
           1,
           1,
           1,
           1,
           1,
           1,
           1,
           1,
           1,
           1,
           1,
           1,
           1,
           1,
           1,
           1,
           1,
           1
          ]
         },
         "node": {
          "color": [
           "grey",
           "#EF553B",
           "grey",
           "#AB63FA",
           "#AB63FA",
           "grey",
           "#EF553B",
           "grey",
           "#00CC96",
           "grey",
           "#FF97FF",
           "#AB63FA",
           "grey",
           "#FF97FF",
           "#FF97FF",
           "#FFA15A",
           "grey",
           "#FECB52",
           "grey",
           "#00CC96",
           "#FF6692",
           "#FECB52",
           "#00CC96",
           "grey",
           "#B6E880",
           "#FF6692",
           "#FF6692",
           "#636EFA",
           "#B6E880",
           "grey",
           "#AB63FA",
           "#FF6692",
           "#EF553B",
           "#AB63FA",
           "#B6E880",
           "#19D3F3",
           "grey",
           "grey",
           "#FFA15A",
           "grey",
           "grey",
           "#00CC96",
           "#00CC96",
           "#B6E880",
           "#B6E880",
           "grey",
           "#00CC96",
           "#B6E880",
           "#636EFA",
           "grey",
           "#B6E880",
           "#19D3F3",
           "#636EFA",
           "#636EFA",
           "#19D3F3",
           "#FF97FF",
           "grey",
           "#00CC96",
           "#636EFA",
           "#B6E880",
           "#AB63FA",
           "#AB63FA",
           "#636EFA",
           "grey",
           "#00CC96",
           "#EF553B",
           "#B6E880",
           "#19D3F3",
           "grey",
           "#EF553B",
           "grey",
           "#00CC96",
           "grey",
           "#636EFA",
           "#FF97FF",
           "#19D3F3",
           "#FF97FF",
           "#FF97FF",
           "#FF6692",
           "#FECB52",
           "#B6E880",
           "grey",
           "grey",
           "grey",
           "grey",
           "grey",
           "grey",
           "grey",
           "grey",
           "grey",
           "grey",
           "grey",
           "grey",
           "grey",
           "grey",
           "grey",
           "grey",
           "grey",
           "grey",
           "grey",
           "grey",
           "grey",
           "grey",
           "grey",
           "grey",
           "grey",
           "grey",
           "grey",
           "grey",
           "grey",
           "grey",
           "grey",
           "grey",
           "grey",
           "grey",
           "grey",
           "grey",
           "grey",
           "grey",
           "grey",
           "grey",
           "grey",
           "grey",
           "grey",
           "grey",
           "grey",
           "grey",
           "grey",
           "grey",
           "grey",
           "grey",
           "grey",
           "grey",
           "grey",
           "grey",
           "grey",
           "grey",
           "grey",
           "grey",
           "grey",
           "grey",
           "grey",
           "grey",
           "grey"
          ],
          "label": [
           "Glycerol",
           "Escherichia",
           "Glucose",
           "Clostridium",
           "Actinobacillus",
           "Lignocellulose",
           "Saccharomyces",
           "Amino acid medium",
           "Lactobacillus",
           "Starch",
           "Cellulomonas",
           "Agrobacterium",
           "CO",
           "Eubacterium",
           "Acinetobacter",
           "Massilibacterium",
           "Phenanthrene",
           "Pseudomonas",
           "Food waste",
           "Pediococcus",
           "Megasphaera",
           "Bacillus",
           "Yarrowia",
           "Sucrose",
           "Ralstonia",
           "Gluconacetobacter",
           "Lactococcus",
           "Cercospora",
           "Lysinibacillus",
           "VFA_s",
           "Trichoderma",
           "Penicillium",
           "Aspergillus",
           "Aureobasidium",
           "Komagataeibacter",
           "Weissella",
           "Saccharides",
           "Cellulose",
           "Enterococcus",
           "Xylose",
           "Light",
           "Synechococcus",
           "Halomonas",
           "Veillonella",
           "Geobacter",
           "Tryptophan",
           "Anaeromyces",
           "Neocallimastix",
           "Caecomyces",
           "Wastewater sludge",
           "Salmonella",
           "Paenibacillus",
           "Sphingomonas",
           "Thermoanaerobacterium",
           "Aeribacillus",
           "Anoxybacillus",
           "Syngas",
           "Acetobacterium",
           "Pelobacter",
           "Anaerotignum",
           "Corynebacterium",
           "Methylosinus",
           "Methylocella",
           "Industrial waste",
           "Enterobacter",
           "Kluyveromyces",
           "Ethanoligenens",
           "Rhizopus",
           "Meat extract",
           "Brevundimonas",
           "CO2",
           "Desulfobacterium",
           "Methanol_s",
           "Pichia",
           "Rhodopseudomonas",
           "Streptomyces",
           "Klebsiella",
           "Shewanella",
           "Schizophyllum",
           "Bjerkandera",
           "Fomitopsis",
           "Indigo",
           "Butyl acetate",
           "Biomass",
           "P-coumaric acid",
           "Caffeic acid",
           "Vitamins",
           "Polysaccharide",
           "Butyrate",
           "Recombinant protein",
           "1,3-Propanediol",
           "Caproate",
           "Biosurfactants",
           "VFA",
           "Lipopeptides",
           "Fatty acid",
           "Polyhydroxyalkanoate",
           "Bacterial cellulose",
           "Hyaluronic acid",
           "Cercosporin",
           "Glucose_p",
           "Antilisterial compounds",
           "Fructo-oligosaccharide",
           "Ethanol",
           "Hydrogen",
           "Butanol",
           "Pharmaceutically active compounds",
           "PHB",
           "Phenol",
           "Rosmarinic acid",
           "Pyranoanthocyanins",
           "SCFA",
           "Electricity",
           "Anthocyanins",
           "Glycosides",
           "Flavonoids",
           "3-hydroxypropionic acid",
           "Itaconic acid",
           "Glionitrin B",
           "Microbial proteases",
           "MCFA",
           "Propionate",
           "3-hydroxybenzoic acid",
           "L-lysine",
           "Methanol_p",
           "Antibodies",
           "Fumaric acid",
           "Resveratrol",
           "caffeyl alcohol",
           "coniferyl alcohol",
           "Monacolin",
           "lovastatin",
           "O-methylated phenylpropanoids",
           "7-methylxanthine",
           "#EF553B",
           "#AB63FA",
           "#00CC96",
           "#FF97FF",
           "#FFA15A",
           "#FECB52",
           "#FF6692",
           "#B6E880",
           "#636EFA",
           "#19D3F3"
          ],
          "line": {
           "color": "black",
           "width": 0.5
          },
          "pad": 15,
          "thickness": 20
         },
         "orientation": "h",
         "type": "sankey"
        }
       ],
       "layout": {
        "font": {
         "size": 8
        },
        "height": 850,
        "template": {
         "data": {
          "bar": [
           {
            "error_x": {
             "color": "#2a3f5f"
            },
            "error_y": {
             "color": "#2a3f5f"
            },
            "marker": {
             "line": {
              "color": "#E5ECF6",
              "width": 0.5
             },
             "pattern": {
              "fillmode": "overlay",
              "size": 10,
              "solidity": 0.2
             }
            },
            "type": "bar"
           }
          ],
          "barpolar": [
           {
            "marker": {
             "line": {
              "color": "#E5ECF6",
              "width": 0.5
             },
             "pattern": {
              "fillmode": "overlay",
              "size": 10,
              "solidity": 0.2
             }
            },
            "type": "barpolar"
           }
          ],
          "carpet": [
           {
            "aaxis": {
             "endlinecolor": "#2a3f5f",
             "gridcolor": "white",
             "linecolor": "white",
             "minorgridcolor": "white",
             "startlinecolor": "#2a3f5f"
            },
            "baxis": {
             "endlinecolor": "#2a3f5f",
             "gridcolor": "white",
             "linecolor": "white",
             "minorgridcolor": "white",
             "startlinecolor": "#2a3f5f"
            },
            "type": "carpet"
           }
          ],
          "choropleth": [
           {
            "colorbar": {
             "outlinewidth": 0,
             "ticks": ""
            },
            "type": "choropleth"
           }
          ],
          "contour": [
           {
            "colorbar": {
             "outlinewidth": 0,
             "ticks": ""
            },
            "colorscale": [
             [
              0,
              "#0d0887"
             ],
             [
              0.1111111111111111,
              "#46039f"
             ],
             [
              0.2222222222222222,
              "#7201a8"
             ],
             [
              0.3333333333333333,
              "#9c179e"
             ],
             [
              0.4444444444444444,
              "#bd3786"
             ],
             [
              0.5555555555555556,
              "#d8576b"
             ],
             [
              0.6666666666666666,
              "#ed7953"
             ],
             [
              0.7777777777777778,
              "#fb9f3a"
             ],
             [
              0.8888888888888888,
              "#fdca26"
             ],
             [
              1,
              "#f0f921"
             ]
            ],
            "type": "contour"
           }
          ],
          "contourcarpet": [
           {
            "colorbar": {
             "outlinewidth": 0,
             "ticks": ""
            },
            "type": "contourcarpet"
           }
          ],
          "heatmap": [
           {
            "colorbar": {
             "outlinewidth": 0,
             "ticks": ""
            },
            "colorscale": [
             [
              0,
              "#0d0887"
             ],
             [
              0.1111111111111111,
              "#46039f"
             ],
             [
              0.2222222222222222,
              "#7201a8"
             ],
             [
              0.3333333333333333,
              "#9c179e"
             ],
             [
              0.4444444444444444,
              "#bd3786"
             ],
             [
              0.5555555555555556,
              "#d8576b"
             ],
             [
              0.6666666666666666,
              "#ed7953"
             ],
             [
              0.7777777777777778,
              "#fb9f3a"
             ],
             [
              0.8888888888888888,
              "#fdca26"
             ],
             [
              1,
              "#f0f921"
             ]
            ],
            "type": "heatmap"
           }
          ],
          "heatmapgl": [
           {
            "colorbar": {
             "outlinewidth": 0,
             "ticks": ""
            },
            "colorscale": [
             [
              0,
              "#0d0887"
             ],
             [
              0.1111111111111111,
              "#46039f"
             ],
             [
              0.2222222222222222,
              "#7201a8"
             ],
             [
              0.3333333333333333,
              "#9c179e"
             ],
             [
              0.4444444444444444,
              "#bd3786"
             ],
             [
              0.5555555555555556,
              "#d8576b"
             ],
             [
              0.6666666666666666,
              "#ed7953"
             ],
             [
              0.7777777777777778,
              "#fb9f3a"
             ],
             [
              0.8888888888888888,
              "#fdca26"
             ],
             [
              1,
              "#f0f921"
             ]
            ],
            "type": "heatmapgl"
           }
          ],
          "histogram": [
           {
            "marker": {
             "pattern": {
              "fillmode": "overlay",
              "size": 10,
              "solidity": 0.2
             }
            },
            "type": "histogram"
           }
          ],
          "histogram2d": [
           {
            "colorbar": {
             "outlinewidth": 0,
             "ticks": ""
            },
            "colorscale": [
             [
              0,
              "#0d0887"
             ],
             [
              0.1111111111111111,
              "#46039f"
             ],
             [
              0.2222222222222222,
              "#7201a8"
             ],
             [
              0.3333333333333333,
              "#9c179e"
             ],
             [
              0.4444444444444444,
              "#bd3786"
             ],
             [
              0.5555555555555556,
              "#d8576b"
             ],
             [
              0.6666666666666666,
              "#ed7953"
             ],
             [
              0.7777777777777778,
              "#fb9f3a"
             ],
             [
              0.8888888888888888,
              "#fdca26"
             ],
             [
              1,
              "#f0f921"
             ]
            ],
            "type": "histogram2d"
           }
          ],
          "histogram2dcontour": [
           {
            "colorbar": {
             "outlinewidth": 0,
             "ticks": ""
            },
            "colorscale": [
             [
              0,
              "#0d0887"
             ],
             [
              0.1111111111111111,
              "#46039f"
             ],
             [
              0.2222222222222222,
              "#7201a8"
             ],
             [
              0.3333333333333333,
              "#9c179e"
             ],
             [
              0.4444444444444444,
              "#bd3786"
             ],
             [
              0.5555555555555556,
              "#d8576b"
             ],
             [
              0.6666666666666666,
              "#ed7953"
             ],
             [
              0.7777777777777778,
              "#fb9f3a"
             ],
             [
              0.8888888888888888,
              "#fdca26"
             ],
             [
              1,
              "#f0f921"
             ]
            ],
            "type": "histogram2dcontour"
           }
          ],
          "mesh3d": [
           {
            "colorbar": {
             "outlinewidth": 0,
             "ticks": ""
            },
            "type": "mesh3d"
           }
          ],
          "parcoords": [
           {
            "line": {
             "colorbar": {
              "outlinewidth": 0,
              "ticks": ""
             }
            },
            "type": "parcoords"
           }
          ],
          "pie": [
           {
            "automargin": true,
            "type": "pie"
           }
          ],
          "scatter": [
           {
            "fillpattern": {
             "fillmode": "overlay",
             "size": 10,
             "solidity": 0.2
            },
            "type": "scatter"
           }
          ],
          "scatter3d": [
           {
            "line": {
             "colorbar": {
              "outlinewidth": 0,
              "ticks": ""
             }
            },
            "marker": {
             "colorbar": {
              "outlinewidth": 0,
              "ticks": ""
             }
            },
            "type": "scatter3d"
           }
          ],
          "scattercarpet": [
           {
            "marker": {
             "colorbar": {
              "outlinewidth": 0,
              "ticks": ""
             }
            },
            "type": "scattercarpet"
           }
          ],
          "scattergeo": [
           {
            "marker": {
             "colorbar": {
              "outlinewidth": 0,
              "ticks": ""
             }
            },
            "type": "scattergeo"
           }
          ],
          "scattergl": [
           {
            "marker": {
             "colorbar": {
              "outlinewidth": 0,
              "ticks": ""
             }
            },
            "type": "scattergl"
           }
          ],
          "scattermapbox": [
           {
            "marker": {
             "colorbar": {
              "outlinewidth": 0,
              "ticks": ""
             }
            },
            "type": "scattermapbox"
           }
          ],
          "scatterpolar": [
           {
            "marker": {
             "colorbar": {
              "outlinewidth": 0,
              "ticks": ""
             }
            },
            "type": "scatterpolar"
           }
          ],
          "scatterpolargl": [
           {
            "marker": {
             "colorbar": {
              "outlinewidth": 0,
              "ticks": ""
             }
            },
            "type": "scatterpolargl"
           }
          ],
          "scatterternary": [
           {
            "marker": {
             "colorbar": {
              "outlinewidth": 0,
              "ticks": ""
             }
            },
            "type": "scatterternary"
           }
          ],
          "surface": [
           {
            "colorbar": {
             "outlinewidth": 0,
             "ticks": ""
            },
            "colorscale": [
             [
              0,
              "#0d0887"
             ],
             [
              0.1111111111111111,
              "#46039f"
             ],
             [
              0.2222222222222222,
              "#7201a8"
             ],
             [
              0.3333333333333333,
              "#9c179e"
             ],
             [
              0.4444444444444444,
              "#bd3786"
             ],
             [
              0.5555555555555556,
              "#d8576b"
             ],
             [
              0.6666666666666666,
              "#ed7953"
             ],
             [
              0.7777777777777778,
              "#fb9f3a"
             ],
             [
              0.8888888888888888,
              "#fdca26"
             ],
             [
              1,
              "#f0f921"
             ]
            ],
            "type": "surface"
           }
          ],
          "table": [
           {
            "cells": {
             "fill": {
              "color": "#EBF0F8"
             },
             "line": {
              "color": "white"
             }
            },
            "header": {
             "fill": {
              "color": "#C8D4E3"
             },
             "line": {
              "color": "white"
             }
            },
            "type": "table"
           }
          ]
         },
         "layout": {
          "annotationdefaults": {
           "arrowcolor": "#2a3f5f",
           "arrowhead": 0,
           "arrowwidth": 1
          },
          "autotypenumbers": "strict",
          "coloraxis": {
           "colorbar": {
            "outlinewidth": 0,
            "ticks": ""
           }
          },
          "colorscale": {
           "diverging": [
            [
             0,
             "#8e0152"
            ],
            [
             0.1,
             "#c51b7d"
            ],
            [
             0.2,
             "#de77ae"
            ],
            [
             0.3,
             "#f1b6da"
            ],
            [
             0.4,
             "#fde0ef"
            ],
            [
             0.5,
             "#f7f7f7"
            ],
            [
             0.6,
             "#e6f5d0"
            ],
            [
             0.7,
             "#b8e186"
            ],
            [
             0.8,
             "#7fbc41"
            ],
            [
             0.9,
             "#4d9221"
            ],
            [
             1,
             "#276419"
            ]
           ],
           "sequential": [
            [
             0,
             "#0d0887"
            ],
            [
             0.1111111111111111,
             "#46039f"
            ],
            [
             0.2222222222222222,
             "#7201a8"
            ],
            [
             0.3333333333333333,
             "#9c179e"
            ],
            [
             0.4444444444444444,
             "#bd3786"
            ],
            [
             0.5555555555555556,
             "#d8576b"
            ],
            [
             0.6666666666666666,
             "#ed7953"
            ],
            [
             0.7777777777777778,
             "#fb9f3a"
            ],
            [
             0.8888888888888888,
             "#fdca26"
            ],
            [
             1,
             "#f0f921"
            ]
           ],
           "sequentialminus": [
            [
             0,
             "#0d0887"
            ],
            [
             0.1111111111111111,
             "#46039f"
            ],
            [
             0.2222222222222222,
             "#7201a8"
            ],
            [
             0.3333333333333333,
             "#9c179e"
            ],
            [
             0.4444444444444444,
             "#bd3786"
            ],
            [
             0.5555555555555556,
             "#d8576b"
            ],
            [
             0.6666666666666666,
             "#ed7953"
            ],
            [
             0.7777777777777778,
             "#fb9f3a"
            ],
            [
             0.8888888888888888,
             "#fdca26"
            ],
            [
             1,
             "#f0f921"
            ]
           ]
          },
          "colorway": [
           "#636efa",
           "#EF553B",
           "#00cc96",
           "#ab63fa",
           "#FFA15A",
           "#19d3f3",
           "#FF6692",
           "#B6E880",
           "#FF97FF",
           "#FECB52"
          ],
          "font": {
           "color": "#2a3f5f"
          },
          "geo": {
           "bgcolor": "white",
           "lakecolor": "white",
           "landcolor": "#E5ECF6",
           "showlakes": true,
           "showland": true,
           "subunitcolor": "white"
          },
          "hoverlabel": {
           "align": "left"
          },
          "hovermode": "closest",
          "mapbox": {
           "style": "light"
          },
          "paper_bgcolor": "white",
          "plot_bgcolor": "#E5ECF6",
          "polar": {
           "angularaxis": {
            "gridcolor": "white",
            "linecolor": "white",
            "ticks": ""
           },
           "bgcolor": "#E5ECF6",
           "radialaxis": {
            "gridcolor": "white",
            "linecolor": "white",
            "ticks": ""
           }
          },
          "scene": {
           "xaxis": {
            "backgroundcolor": "#E5ECF6",
            "gridcolor": "white",
            "gridwidth": 2,
            "linecolor": "white",
            "showbackground": true,
            "ticks": "",
            "zerolinecolor": "white"
           },
           "yaxis": {
            "backgroundcolor": "#E5ECF6",
            "gridcolor": "white",
            "gridwidth": 2,
            "linecolor": "white",
            "showbackground": true,
            "ticks": "",
            "zerolinecolor": "white"
           },
           "zaxis": {
            "backgroundcolor": "#E5ECF6",
            "gridcolor": "white",
            "gridwidth": 2,
            "linecolor": "white",
            "showbackground": true,
            "ticks": "",
            "zerolinecolor": "white"
           }
          },
          "shapedefaults": {
           "line": {
            "color": "#2a3f5f"
           }
          },
          "ternary": {
           "aaxis": {
            "gridcolor": "white",
            "linecolor": "white",
            "ticks": ""
           },
           "baxis": {
            "gridcolor": "white",
            "linecolor": "white",
            "ticks": ""
           },
           "bgcolor": "#E5ECF6",
           "caxis": {
            "gridcolor": "white",
            "linecolor": "white",
            "ticks": ""
           }
          },
          "title": {
           "x": 0.05
          },
          "xaxis": {
           "automargin": true,
           "gridcolor": "white",
           "linecolor": "white",
           "ticks": "",
           "title": {
            "standoff": 15
           },
           "zerolinecolor": "white",
           "zerolinewidth": 2
          },
          "yaxis": {
           "automargin": true,
           "gridcolor": "white",
           "linecolor": "white",
           "ticks": "",
           "title": {
            "standoff": 15
           },
           "zerolinecolor": "white",
           "zerolinewidth": 2
          }
         }
        },
        "title": {
         "text": "Sankey Diagram for consortia uses"
        }
       }
      }
     },
     "metadata": {},
     "output_type": "display_data"
    }
   ],
   "source": [
    "#new sankey chart for genus only\n",
    "\n",
    "#creating a new dataframe to use in building the sankey chart\n",
    "\n",
    "#create an empty dataframe\n",
    "sankey_data = pd.DataFrame({'Source': [],\n",
    "                   'Target': [],\n",
    "                   'Value': [],\n",
    "                   'Color': []})\n",
    "\n",
    "organism_colouring = dict()\n",
    "colour_counter = 0\n",
    "\n",
    "#iterate over the rows of the dataframe\n",
    "for index, row in df.iterrows():\n",
    "\n",
    "    #get lists of substrates, products, and organisms\n",
    "    substrates = row[\"Substrate\"].split(\", \")\n",
    "    organisms = row[\"Organisms\"].split(\", \")\n",
    "    products = row[\"Product\"].split(\", \")\n",
    "\n",
    "    #taking the first word to get the genus instead of the organisms\n",
    "    genuses = [organism.split(' ')[0] for organism in organisms]\n",
    "\n",
    "    #adds colour to each organism using the pick_colour function\n",
    "    for genus in genuses:\n",
    "        if genus not in organism_colouring:\n",
    "            organism_colouring[genus] = pick_colour(genus)\n",
    "\n",
    "    #add links from each substrate to each organism\n",
    "    for substrate in substrates:\n",
    "        for genus in genuses:\n",
    "            sankey_data.loc[len(sankey_data.index)] = [substrate, genus, 1, organism_colouring[genus]]\n",
    "\n",
    "    #add links from each organism to each substrate\n",
    "    for genus in genuses:\n",
    "        for product in products:\n",
    "            sankey_data.loc[len(sankey_data.index)] = [genus, product, 1, organism_colouring[genus]]\n",
    "\n",
    "\n",
    "#needed modification for building the plot\n",
    "\n",
    "#get each unique source_target and a mapping to their index\n",
    "#unique_source_target = list(pd.unique(sankey_data[['Source', 'Target']].values.ravel('K')))\n",
    "unique_source_target = list(pd.unique(sankey_data[['Source', 'Target', 'Color']].values.ravel('K')))\n",
    "mapping_dict = {k: v for v, k in enumerate(unique_source_target)}\n",
    "sankey_data['Source'] = sankey_data['Source'].map(mapping_dict)\n",
    "sankey_data['Target'] = sankey_data['Target'].map(mapping_dict)\n",
    "sankey_dict = sankey_data.to_dict(orient='list')\n",
    "\n",
    "#setting colours for the nodes\n",
    "node_colours = [organism_colouring.get(i, \"grey\") for i in unique_source_target]\n",
    "\n",
    "#create diagram\n",
    "import plotly.express as px\n",
    "\n",
    "fig = go.Figure(data=[go.Sankey(\n",
    "    orientation = \"h\",\n",
    "    node = dict(\n",
    "      pad = 15,\n",
    "      thickness = 20,\n",
    "      line = dict(color = \"black\", width = 0.5),\n",
    "      label = unique_source_target,\n",
    "      #color = \"grey\"\n",
    "      color = node_colours\n",
    "    ),\n",
    "    link = dict(\n",
    "      source = sankey_dict[\"Source\"],\n",
    "      target = sankey_dict[\"Target\"],\n",
    "      value = sankey_dict[\"Value\"],\n",
    "      color = sankey_dict[\"Color\"]\n",
    "      #color = [px.colors.qualitative.Plotly[unique_source_target.index(i) % len(px.colors.qualitative.Plotly)] for i in unique_source_target]\n",
    "  ))])\n",
    "\n",
    "layout = dict(\n",
    "        title = \"Sankey Diagram for consortia uses\",\n",
    "    height = 850,\n",
    "    font = dict(\n",
    "      size = 8),)\n",
    "\n",
    "#show figure\n",
    "fig.update_layout(layout)\n",
    "fig.show()\n",
    "#fig.write_image(\"plots/sankey_diagram_genus.pdf\")"
   ]
  },
  {
   "cell_type": "code",
   "execution_count": 41,
   "metadata": {},
   "outputs": [],
   "source": [
    "all_substrates = []\n",
    "all_products = []\n",
    "\n",
    "for index, row in df.iterrows():\n",
    "    substrates = row[\"Substrate\"].split(\", \")\n",
    "    products = row[\"Product\"].split(\", \")\n",
    "    all_substrates.extend(substrates)\n",
    "    all_products.extend(products)\n",
    "\n",
    "all_unique_substrates = set(all_substrates)\n",
    "all_unique_products = set(all_products)"
   ]
  },
  {
   "cell_type": "code",
   "execution_count": 122,
   "metadata": {},
   "outputs": [
    {
     "name": "stdout",
     "output_type": "stream",
     "text": [
      "{'Light', 'Xylose', 'Tryptophan', 'Cellulose', 'Lignocellulose', 'CO2', 'Syngas', 'Saccharides', 'VFA_s', 'Wastewater sludge', 'CO', 'Glucose', 'Meat extract', 'Industrial waste', 'Amino acid medium', 'Food waste', 'Glycerol', 'Phenanthrene', 'Methanol_s', 'Starch', 'Sucrose'}\n",
      "{'Antilisterial compounds', '7-methylxanthine', 'L-lysine', 'Fructo-oligosaccharide', 'Caproate', 'Glycosides', 'coniferyl alcohol', 'O-methylated phenylpropanoids', 'MCFA', 'Hydrogen', 'caffeyl alcohol', '3-hydroxypropionic acid', 'Polysaccharide', 'Polyhydroxyalkanoate', 'Bacterial cellulose', 'Indigo', 'Anthocyanins', 'SCFA', '3-hydroxybenzoic acid', 'lovastatin', 'Antibodies', 'Rosmarinic acid', 'Butanol', 'Fumaric acid', 'Microbial proteases', 'Recombinant protein', 'Glucose_p', 'VFA', 'Ethanol', 'Pyranoanthocyanins', 'Itaconic acid', 'P-coumaric acid', 'Methanol_p', 'Electricity', 'Lipopeptides', 'Phenol', 'Biosurfactants', 'Resveratrol', 'Biomass', 'Cercosporin', 'Pharmaceutically active compounds', 'Caffeic acid', 'Vitamins', 'Butyrate', 'Flavonoids', 'Monacolin', 'Glionitrin B', 'Hyaluronic acid nanocomposite', '1,3-Propanediol', 'Propionate', 'PHB', 'Butyl acetate', 'Fatty acid'}\n"
     ]
    }
   ],
   "source": [
    "print(all_unique_substrates)\n",
    "print(all_unique_products)"
   ]
  },
  {
   "cell_type": "code",
   "execution_count": 128,
   "metadata": {},
   "outputs": [],
   "source": [
    "all_df = pd.read_csv(\"all_articles.csv\")\n",
    "\n",
    "all_s = []\n",
    "all_p = []\n",
    "\n",
    "for index, row in all_df.iterrows():\n",
    "    substrates = row[\"Substrate\"].split(\", \")\n",
    "    products = row[\"Product\"].split(\", \")\n",
    "    all_s.extend(substrates)\n",
    "    all_p.extend(products)\n",
    "\n",
    "all_u_s = set(all_s)\n",
    "all_u_p = set(all_p)"
   ]
  },
  {
   "cell_type": "code",
   "execution_count": 129,
   "metadata": {},
   "outputs": [
    {
     "name": "stdout",
     "output_type": "stream",
     "text": [
      "{'Organic waste', 'Ethanol', 'Acetate', 'Crude oil', 'Arabinose', 'Antibiotic fermentation residue', 'Activated sludge', 'Galactose', 'Bovine milk', 'Amino acids', 'Glycerin', 'Sludge compost', 'Fructose', 'Lupin flour', 'Manure compost'}\n",
      "{'Lactate', 'Caproic acid', 'Organic acids', 'Siderophores', 'Hyaluronic acid', 'Bioflocculant', 'Fermented food product', 'Lactic acid', 'Glutamic acid', 'SCCA', 'Methane', 'SCOA'}\n"
     ]
    }
   ],
   "source": [
    "print(all_u_s - all_unique_substrates)\n",
    "print(all_u_p - all_unique_products)"
   ]
  },
  {
   "cell_type": "code",
   "execution_count": 163,
   "metadata": {},
   "outputs": [],
   "source": [
    "substrate_map = {\n",
    "    'Light': 'Light', \n",
    "    'Xylose': 'Sugars', \n",
    "    'Tryptophan': 'Amino acid medium', \n",
    "    'Cellulose': 'Lignocellulose', \n",
    "    'Lignocellulose': 'Lignocellulose', \n",
    "    'CO2': 'Gas', \n",
    "    'Syngas': 'Gas', \n",
    "    'Saccharides': 'Sugars', \n",
    "    'VFA_s': 'Short-chain fatty acids', \n",
    "    'Wastewater sludge': 'Waste', \n",
    "    'CO': 'Gas', \n",
    "    'Glucose': 'Sugars', \n",
    "    'Meat extract': 'Waste', \n",
    "    'Industrial waste': 'Waste', \n",
    "    'Amino acid medium': 'Amino acid medium', \n",
    "    'Food waste': 'Waste', \n",
    "    'Glycerol': 'Alcohols', \n",
    "    'Phenanthrene': 'Phenanthrene', \n",
    "    'Methanol_s': 'Alcohols', \n",
    "    'Starch': 'Sugars', \n",
    "    'Sucrose': 'Sugars',\n",
    "    'Organic waste': 'Waste', \n",
    "    'Ethanol': 'Alcohols', \n",
    "    'Acetate': 'Short-chain fatty acids', \n",
    "    'Crude oil': 'Crude oil', \n",
    "    'Arabinose': 'Sugars', \n",
    "    'Antibiotic fermentation residue': 'Waste', \n",
    "    'Activated sludge': 'Waste', \n",
    "    'Galactose': 'Sugars', \n",
    "    'Bovine milk': 'Complex media', \n",
    "    'Amino acids': 'Amino acid medium', \n",
    "    'Glycerin': 'Alcohols', \n",
    "    'Sludge compost': 'Waste', \n",
    "    'Fructose': 'Sugars', \n",
    "    'Lupin flour': 'Complex media', \n",
    "    'Manure compost': 'Waste'\n",
    "}"
   ]
  },
  {
   "cell_type": "code",
   "execution_count": 182,
   "metadata": {},
   "outputs": [],
   "source": [
    "product_map = {\n",
    "    'Antilisterial compounds': 'Antibiotics', \n",
    "    '7-methylxanthine': 'Pharmaceuticals', \n",
    "    'L-lysine': 'Amino acids', \n",
    "    'Fructo-oligosaccharide': 'Polysaccharides', \n",
    "    'Caproate': 'Carboxylic acids', \n",
    "    'Glycosides': 'Glycosides', \n",
    "    'coniferyl alcohol': 'Phenols', \n",
    "    'O-methylated phenylpropanoids': 'Pharmaceuticals', \n",
    "    'MCFA': 'Carboxylic acids', \n",
    "    'Hydrogen': 'Hydorgen gas', \n",
    "    'caffeyl alcohol': 'Phenols', \n",
    "    '3-hydroxypropionic acid': 'Carboxylic acids', \n",
    "    'Polysaccharide': 'Polysaccharides', \n",
    "    'Polyhydroxyalkanoate': 'Polyester polymers', \n",
    "    'Bacterial cellulose': 'Cellulose', \n",
    "    'Indigo': 'Dye', \n",
    "    'Anthocyanins': 'Pigments', \n",
    "    'SCFA': 'Carboxylic acids', \n",
    "    '3-hydroxybenzoic acid': 'Phenols', \n",
    "    'lovastatin': 'Pharmaceuticals', \n",
    "    'Antibodies': 'Proteins', \n",
    "    'Rosmarinic acid': 'Phenols', \n",
    "    'Butanol': 'Primary alcohols', \n",
    "    'Fumaric acid': 'Carboxylic acids', \n",
    "    'Microbial proteases': 'Proteins', \n",
    "    'Recombinant protein': 'Proteins', \n",
    "    'Glucose_p': 'Metabolites to support growth', \n",
    "    'VFA': 'Carboxylic acids', \n",
    "    'Ethanol': 'Primary alcohols', \n",
    "    'Pyranoanthocyanins': 'Phenols', \n",
    "    'Itaconic acid': 'Carboxylic acids', \n",
    "    'P-coumaric acid': 'Carboxylic acids', \n",
    "    'Methanol_p': 'Primary alcohols', \n",
    "    'Electricity': 'Electricity', \n",
    "    'Lipopeptides': 'Proteins', \n",
    "    'Phenol': 'Phenols', \n",
    "    'Biosurfactants': 'Surfactants', \n",
    "    'Resveratrol': 'Phenols', \n",
    "    'Biomass': 'Biomass', \n",
    "    'Cercosporin': 'Pharmaceuticals', \n",
    "    'Pharmaceutically active compounds': 'Pharmaceuticals', \n",
    "    'Caffeic acid': 'Phenols', \n",
    "    'Vitamins': 'Metabolites to support growth', \n",
    "    'Butyrate': 'Carboxylic acids', \n",
    "    'Flavonoids': 'Phenols', \n",
    "    'Monacolin': 'Pharmaceuticals', \n",
    "    'Glionitrin B': 'Pharmaceuticals', \n",
    "    'Hyaluronic acid': 'Pharmaceuticals', \n",
    "    '1,3-Propanediol': 'Glycols', \n",
    "    'Propionate': 'Carboxylic acids', \n",
    "    'PHB': 'Polyester polymers', \n",
    "    'Butyl acetate': 'Carboxylic esters', \n",
    "    'Fatty acid': 'Carboxylic acids',\n",
    "    'Lactate': 'Carboxylic acids', \n",
    "    'Caproic acid': 'Carboxylic acids', \n",
    "    'Organic acids': 'Carboxylic acids', \n",
    "    'Siderophores': 'Bacterial extracellular compounds', \n",
    "    'Bioflocculant': 'Bacterial extracellular compounds', \n",
    "    'Fermented food product': 'Fermented food products', \n",
    "    'Lactic acid': 'Carboxylic acids',  \n",
    "    'Glutamic acid': 'Amino acids', \n",
    "    'SCCA': 'Carboxylic acids', \n",
    "    'Methane': 'Methane', \n",
    "    'SCOA': 'Carboxylic acids'}"
   ]
  },
  {
   "cell_type": "code",
   "execution_count": 126,
   "metadata": {},
   "outputs": [],
   "source": [
    "#sankey visualisation of mapping to share with Daniel\n",
    "import plotly.graph_objects as go\n",
    "\n",
    "def SankeyVisualisation(d):\n",
    "  # Get unique nodes and their indices\n",
    "  nodes = list(set(list(d.keys()) + list(d.values())))\n",
    "  node_indices = {node: i for i, node in enumerate(nodes)}\n",
    "\n",
    "  # Define link sources and targets\n",
    "  link_sources = [node_indices[key] for key in d.keys()]\n",
    "  link_targets = [node_indices[value] for value in d.values()]\n",
    "\n",
    "  # Define link values\n",
    "  link_values = [1]*len(d)\n",
    "\n",
    "  fig = go.Figure(data=[go.Sankey(\n",
    "      #orientation = \"h\",\n",
    "      node = dict(\n",
    "        pad = 15,\n",
    "        thickness = 40,\n",
    "        line = dict(color = \"black\", width = 0.5),\n",
    "        label = nodes\n",
    "      ),\n",
    "      link = dict(\n",
    "      arrowlen=20,\n",
    "        source = link_sources,\n",
    "        target = link_targets,\n",
    "        value = link_values\n",
    "    ))])\n",
    "\n",
    "  layout = dict(\n",
    "      #title = \"Substrate mapping\",\n",
    "      height = 1000,\n",
    "      font = dict(\n",
    "      size = 15),)\n",
    "\n",
    "  #show figure\n",
    "  fig.update_layout(layout)\n",
    "  fig.show()\n"
   ]
  },
  {
   "cell_type": "code",
   "execution_count": 212,
   "metadata": {},
   "outputs": [
    {
     "data": {
      "application/vnd.plotly.v1+json": {
       "config": {
        "plotlyServerURL": "https://plot.ly"
       },
       "data": [
        {
         "link": {
          "arrowlen": 20,
          "source": [
           1,
           3,
           4,
           5,
           7,
           8,
           10,
           13,
           15,
           16,
           17,
           20,
           23,
           24,
           28,
           30,
           32,
           33,
           34,
           36,
           37,
           12,
           22,
           2,
           35,
           9,
           25,
           26,
           27,
           38,
           39,
           18,
           41,
           11,
           29,
           19
          ],
          "target": [
           1,
           14,
           28,
           7,
           7,
           6,
           6,
           14,
           31,
           0,
           6,
           14,
           0,
           0,
           28,
           0,
           21,
           33,
           21,
           14,
           14,
           0,
           21,
           31,
           35,
           14,
           0,
           0,
           14,
           40,
           28,
           21,
           0,
           14,
           40,
           0
          ],
          "value": [
           1,
           1,
           1,
           1,
           1,
           1,
           1,
           1,
           1,
           1,
           1,
           1,
           1,
           1,
           1,
           1,
           1,
           1,
           1,
           1,
           1,
           1,
           1,
           1,
           1,
           1,
           1,
           1,
           1,
           1,
           1,
           1,
           1,
           1,
           1,
           1
          ]
         },
         "node": {
          "label": [
           "Waste",
           "Light",
           "Acetate",
           "Xylose",
           "Tryptophan",
           "Cellulose",
           "Gas",
           "Lignocellulose",
           "CO2",
           "Arabinose",
           "Syngas",
           "Fructose",
           "Organic waste",
           "Saccharides",
           "Sugars",
           "VFA_s",
           "Wastewater sludge",
           "CO",
           "Glycerin",
           "Manure compost",
           "Glucose",
           "Alcohols",
           "Ethanol",
           "Meat extract",
           "Industrial waste",
           "Antibiotic fermentation residue",
           "Activated sludge",
           "Galactose",
           "Amino acid medium",
           "Lupin flour",
           "Food waste",
           "Short-chain fatty acids",
           "Glycerol",
           "Phenanthrene",
           "Methanol_s",
           "Crude oil",
           "Starch",
           "Sucrose",
           "Bovine milk",
           "Amino acids",
           "Complex media",
           "Sludge compost"
          ],
          "line": {
           "color": "black",
           "width": 0.5
          },
          "pad": 15,
          "thickness": 40
         },
         "type": "sankey"
        }
       ],
       "layout": {
        "font": {
         "size": 15
        },
        "height": 1000,
        "template": {
         "data": {
          "bar": [
           {
            "error_x": {
             "color": "#2a3f5f"
            },
            "error_y": {
             "color": "#2a3f5f"
            },
            "marker": {
             "line": {
              "color": "#E5ECF6",
              "width": 0.5
             },
             "pattern": {
              "fillmode": "overlay",
              "size": 10,
              "solidity": 0.2
             }
            },
            "type": "bar"
           }
          ],
          "barpolar": [
           {
            "marker": {
             "line": {
              "color": "#E5ECF6",
              "width": 0.5
             },
             "pattern": {
              "fillmode": "overlay",
              "size": 10,
              "solidity": 0.2
             }
            },
            "type": "barpolar"
           }
          ],
          "carpet": [
           {
            "aaxis": {
             "endlinecolor": "#2a3f5f",
             "gridcolor": "white",
             "linecolor": "white",
             "minorgridcolor": "white",
             "startlinecolor": "#2a3f5f"
            },
            "baxis": {
             "endlinecolor": "#2a3f5f",
             "gridcolor": "white",
             "linecolor": "white",
             "minorgridcolor": "white",
             "startlinecolor": "#2a3f5f"
            },
            "type": "carpet"
           }
          ],
          "choropleth": [
           {
            "colorbar": {
             "outlinewidth": 0,
             "ticks": ""
            },
            "type": "choropleth"
           }
          ],
          "contour": [
           {
            "colorbar": {
             "outlinewidth": 0,
             "ticks": ""
            },
            "colorscale": [
             [
              0,
              "#0d0887"
             ],
             [
              0.1111111111111111,
              "#46039f"
             ],
             [
              0.2222222222222222,
              "#7201a8"
             ],
             [
              0.3333333333333333,
              "#9c179e"
             ],
             [
              0.4444444444444444,
              "#bd3786"
             ],
             [
              0.5555555555555556,
              "#d8576b"
             ],
             [
              0.6666666666666666,
              "#ed7953"
             ],
             [
              0.7777777777777778,
              "#fb9f3a"
             ],
             [
              0.8888888888888888,
              "#fdca26"
             ],
             [
              1,
              "#f0f921"
             ]
            ],
            "type": "contour"
           }
          ],
          "contourcarpet": [
           {
            "colorbar": {
             "outlinewidth": 0,
             "ticks": ""
            },
            "type": "contourcarpet"
           }
          ],
          "heatmap": [
           {
            "colorbar": {
             "outlinewidth": 0,
             "ticks": ""
            },
            "colorscale": [
             [
              0,
              "#0d0887"
             ],
             [
              0.1111111111111111,
              "#46039f"
             ],
             [
              0.2222222222222222,
              "#7201a8"
             ],
             [
              0.3333333333333333,
              "#9c179e"
             ],
             [
              0.4444444444444444,
              "#bd3786"
             ],
             [
              0.5555555555555556,
              "#d8576b"
             ],
             [
              0.6666666666666666,
              "#ed7953"
             ],
             [
              0.7777777777777778,
              "#fb9f3a"
             ],
             [
              0.8888888888888888,
              "#fdca26"
             ],
             [
              1,
              "#f0f921"
             ]
            ],
            "type": "heatmap"
           }
          ],
          "heatmapgl": [
           {
            "colorbar": {
             "outlinewidth": 0,
             "ticks": ""
            },
            "colorscale": [
             [
              0,
              "#0d0887"
             ],
             [
              0.1111111111111111,
              "#46039f"
             ],
             [
              0.2222222222222222,
              "#7201a8"
             ],
             [
              0.3333333333333333,
              "#9c179e"
             ],
             [
              0.4444444444444444,
              "#bd3786"
             ],
             [
              0.5555555555555556,
              "#d8576b"
             ],
             [
              0.6666666666666666,
              "#ed7953"
             ],
             [
              0.7777777777777778,
              "#fb9f3a"
             ],
             [
              0.8888888888888888,
              "#fdca26"
             ],
             [
              1,
              "#f0f921"
             ]
            ],
            "type": "heatmapgl"
           }
          ],
          "histogram": [
           {
            "marker": {
             "pattern": {
              "fillmode": "overlay",
              "size": 10,
              "solidity": 0.2
             }
            },
            "type": "histogram"
           }
          ],
          "histogram2d": [
           {
            "colorbar": {
             "outlinewidth": 0,
             "ticks": ""
            },
            "colorscale": [
             [
              0,
              "#0d0887"
             ],
             [
              0.1111111111111111,
              "#46039f"
             ],
             [
              0.2222222222222222,
              "#7201a8"
             ],
             [
              0.3333333333333333,
              "#9c179e"
             ],
             [
              0.4444444444444444,
              "#bd3786"
             ],
             [
              0.5555555555555556,
              "#d8576b"
             ],
             [
              0.6666666666666666,
              "#ed7953"
             ],
             [
              0.7777777777777778,
              "#fb9f3a"
             ],
             [
              0.8888888888888888,
              "#fdca26"
             ],
             [
              1,
              "#f0f921"
             ]
            ],
            "type": "histogram2d"
           }
          ],
          "histogram2dcontour": [
           {
            "colorbar": {
             "outlinewidth": 0,
             "ticks": ""
            },
            "colorscale": [
             [
              0,
              "#0d0887"
             ],
             [
              0.1111111111111111,
              "#46039f"
             ],
             [
              0.2222222222222222,
              "#7201a8"
             ],
             [
              0.3333333333333333,
              "#9c179e"
             ],
             [
              0.4444444444444444,
              "#bd3786"
             ],
             [
              0.5555555555555556,
              "#d8576b"
             ],
             [
              0.6666666666666666,
              "#ed7953"
             ],
             [
              0.7777777777777778,
              "#fb9f3a"
             ],
             [
              0.8888888888888888,
              "#fdca26"
             ],
             [
              1,
              "#f0f921"
             ]
            ],
            "type": "histogram2dcontour"
           }
          ],
          "mesh3d": [
           {
            "colorbar": {
             "outlinewidth": 0,
             "ticks": ""
            },
            "type": "mesh3d"
           }
          ],
          "parcoords": [
           {
            "line": {
             "colorbar": {
              "outlinewidth": 0,
              "ticks": ""
             }
            },
            "type": "parcoords"
           }
          ],
          "pie": [
           {
            "automargin": true,
            "type": "pie"
           }
          ],
          "scatter": [
           {
            "fillpattern": {
             "fillmode": "overlay",
             "size": 10,
             "solidity": 0.2
            },
            "type": "scatter"
           }
          ],
          "scatter3d": [
           {
            "line": {
             "colorbar": {
              "outlinewidth": 0,
              "ticks": ""
             }
            },
            "marker": {
             "colorbar": {
              "outlinewidth": 0,
              "ticks": ""
             }
            },
            "type": "scatter3d"
           }
          ],
          "scattercarpet": [
           {
            "marker": {
             "colorbar": {
              "outlinewidth": 0,
              "ticks": ""
             }
            },
            "type": "scattercarpet"
           }
          ],
          "scattergeo": [
           {
            "marker": {
             "colorbar": {
              "outlinewidth": 0,
              "ticks": ""
             }
            },
            "type": "scattergeo"
           }
          ],
          "scattergl": [
           {
            "marker": {
             "colorbar": {
              "outlinewidth": 0,
              "ticks": ""
             }
            },
            "type": "scattergl"
           }
          ],
          "scattermapbox": [
           {
            "marker": {
             "colorbar": {
              "outlinewidth": 0,
              "ticks": ""
             }
            },
            "type": "scattermapbox"
           }
          ],
          "scatterpolar": [
           {
            "marker": {
             "colorbar": {
              "outlinewidth": 0,
              "ticks": ""
             }
            },
            "type": "scatterpolar"
           }
          ],
          "scatterpolargl": [
           {
            "marker": {
             "colorbar": {
              "outlinewidth": 0,
              "ticks": ""
             }
            },
            "type": "scatterpolargl"
           }
          ],
          "scatterternary": [
           {
            "marker": {
             "colorbar": {
              "outlinewidth": 0,
              "ticks": ""
             }
            },
            "type": "scatterternary"
           }
          ],
          "surface": [
           {
            "colorbar": {
             "outlinewidth": 0,
             "ticks": ""
            },
            "colorscale": [
             [
              0,
              "#0d0887"
             ],
             [
              0.1111111111111111,
              "#46039f"
             ],
             [
              0.2222222222222222,
              "#7201a8"
             ],
             [
              0.3333333333333333,
              "#9c179e"
             ],
             [
              0.4444444444444444,
              "#bd3786"
             ],
             [
              0.5555555555555556,
              "#d8576b"
             ],
             [
              0.6666666666666666,
              "#ed7953"
             ],
             [
              0.7777777777777778,
              "#fb9f3a"
             ],
             [
              0.8888888888888888,
              "#fdca26"
             ],
             [
              1,
              "#f0f921"
             ]
            ],
            "type": "surface"
           }
          ],
          "table": [
           {
            "cells": {
             "fill": {
              "color": "#EBF0F8"
             },
             "line": {
              "color": "white"
             }
            },
            "header": {
             "fill": {
              "color": "#C8D4E3"
             },
             "line": {
              "color": "white"
             }
            },
            "type": "table"
           }
          ]
         },
         "layout": {
          "annotationdefaults": {
           "arrowcolor": "#2a3f5f",
           "arrowhead": 0,
           "arrowwidth": 1
          },
          "autotypenumbers": "strict",
          "coloraxis": {
           "colorbar": {
            "outlinewidth": 0,
            "ticks": ""
           }
          },
          "colorscale": {
           "diverging": [
            [
             0,
             "#8e0152"
            ],
            [
             0.1,
             "#c51b7d"
            ],
            [
             0.2,
             "#de77ae"
            ],
            [
             0.3,
             "#f1b6da"
            ],
            [
             0.4,
             "#fde0ef"
            ],
            [
             0.5,
             "#f7f7f7"
            ],
            [
             0.6,
             "#e6f5d0"
            ],
            [
             0.7,
             "#b8e186"
            ],
            [
             0.8,
             "#7fbc41"
            ],
            [
             0.9,
             "#4d9221"
            ],
            [
             1,
             "#276419"
            ]
           ],
           "sequential": [
            [
             0,
             "#0d0887"
            ],
            [
             0.1111111111111111,
             "#46039f"
            ],
            [
             0.2222222222222222,
             "#7201a8"
            ],
            [
             0.3333333333333333,
             "#9c179e"
            ],
            [
             0.4444444444444444,
             "#bd3786"
            ],
            [
             0.5555555555555556,
             "#d8576b"
            ],
            [
             0.6666666666666666,
             "#ed7953"
            ],
            [
             0.7777777777777778,
             "#fb9f3a"
            ],
            [
             0.8888888888888888,
             "#fdca26"
            ],
            [
             1,
             "#f0f921"
            ]
           ],
           "sequentialminus": [
            [
             0,
             "#0d0887"
            ],
            [
             0.1111111111111111,
             "#46039f"
            ],
            [
             0.2222222222222222,
             "#7201a8"
            ],
            [
             0.3333333333333333,
             "#9c179e"
            ],
            [
             0.4444444444444444,
             "#bd3786"
            ],
            [
             0.5555555555555556,
             "#d8576b"
            ],
            [
             0.6666666666666666,
             "#ed7953"
            ],
            [
             0.7777777777777778,
             "#fb9f3a"
            ],
            [
             0.8888888888888888,
             "#fdca26"
            ],
            [
             1,
             "#f0f921"
            ]
           ]
          },
          "colorway": [
           "#636efa",
           "#EF553B",
           "#00cc96",
           "#ab63fa",
           "#FFA15A",
           "#19d3f3",
           "#FF6692",
           "#B6E880",
           "#FF97FF",
           "#FECB52"
          ],
          "font": {
           "color": "#2a3f5f"
          },
          "geo": {
           "bgcolor": "white",
           "lakecolor": "white",
           "landcolor": "#E5ECF6",
           "showlakes": true,
           "showland": true,
           "subunitcolor": "white"
          },
          "hoverlabel": {
           "align": "left"
          },
          "hovermode": "closest",
          "mapbox": {
           "style": "light"
          },
          "paper_bgcolor": "white",
          "plot_bgcolor": "#E5ECF6",
          "polar": {
           "angularaxis": {
            "gridcolor": "white",
            "linecolor": "white",
            "ticks": ""
           },
           "bgcolor": "#E5ECF6",
           "radialaxis": {
            "gridcolor": "white",
            "linecolor": "white",
            "ticks": ""
           }
          },
          "scene": {
           "xaxis": {
            "backgroundcolor": "#E5ECF6",
            "gridcolor": "white",
            "gridwidth": 2,
            "linecolor": "white",
            "showbackground": true,
            "ticks": "",
            "zerolinecolor": "white"
           },
           "yaxis": {
            "backgroundcolor": "#E5ECF6",
            "gridcolor": "white",
            "gridwidth": 2,
            "linecolor": "white",
            "showbackground": true,
            "ticks": "",
            "zerolinecolor": "white"
           },
           "zaxis": {
            "backgroundcolor": "#E5ECF6",
            "gridcolor": "white",
            "gridwidth": 2,
            "linecolor": "white",
            "showbackground": true,
            "ticks": "",
            "zerolinecolor": "white"
           }
          },
          "shapedefaults": {
           "line": {
            "color": "#2a3f5f"
           }
          },
          "ternary": {
           "aaxis": {
            "gridcolor": "white",
            "linecolor": "white",
            "ticks": ""
           },
           "baxis": {
            "gridcolor": "white",
            "linecolor": "white",
            "ticks": ""
           },
           "bgcolor": "#E5ECF6",
           "caxis": {
            "gridcolor": "white",
            "linecolor": "white",
            "ticks": ""
           }
          },
          "title": {
           "x": 0.05
          },
          "xaxis": {
           "automargin": true,
           "gridcolor": "white",
           "linecolor": "white",
           "ticks": "",
           "title": {
            "standoff": 15
           },
           "zerolinecolor": "white",
           "zerolinewidth": 2
          },
          "yaxis": {
           "automargin": true,
           "gridcolor": "white",
           "linecolor": "white",
           "ticks": "",
           "title": {
            "standoff": 15
           },
           "zerolinecolor": "white",
           "zerolinewidth": 2
          }
         }
        }
       }
      }
     },
     "metadata": {},
     "output_type": "display_data"
    },
    {
     "data": {
      "application/vnd.plotly.v1+json": {
       "config": {
        "plotlyServerURL": "https://plot.ly"
       },
       "data": [
        {
         "link": {
          "arrowlen": 20,
          "source": [
           0,
           1,
           50,
           66,
           3,
           52,
           4,
           54,
           30,
           55,
           68,
           5,
           69,
           32,
           70,
           7,
           8,
           56,
           35,
           57,
           10,
           58,
           11,
           72,
           73,
           37,
           60,
           74,
           39,
           61,
           75,
           62,
           40,
           15,
           41,
           78,
           18,
           43,
           20,
           44,
           63,
           45,
           21,
           80,
           23,
           81,
           65,
           71,
           24,
           47,
           26,
           27,
           49,
           28,
           46,
           64,
           33,
           14,
           42,
           16,
           77,
           9,
           19,
           59
          ],
          "target": [
           17,
           76,
           48,
           36,
           2,
           52,
           22,
           76,
           2,
           29,
           22,
           2,
           36,
           13,
           53,
           12,
           34,
           2,
           22,
           76,
           51,
           22,
           38,
           2,
           51,
           51,
           31,
           2,
           38,
           22,
           2,
           2,
           38,
           15,
           51,
           22,
           25,
           22,
           20,
           76,
           76,
           22,
           31,
           2,
           22,
           76,
           76,
           76,
           6,
           2,
           13,
           82,
           2,
           2,
           2,
           2,
           79,
           79,
           67,
           2,
           48,
           2,
           19,
           2
          ],
          "value": [
           1,
           1,
           1,
           1,
           1,
           1,
           1,
           1,
           1,
           1,
           1,
           1,
           1,
           1,
           1,
           1,
           1,
           1,
           1,
           1,
           1,
           1,
           1,
           1,
           1,
           1,
           1,
           1,
           1,
           1,
           1,
           1,
           1,
           1,
           1,
           1,
           1,
           1,
           1,
           1,
           1,
           1,
           1,
           1,
           1,
           1,
           1,
           1,
           1,
           1,
           1,
           1,
           1,
           1,
           1,
           1,
           1,
           1,
           1,
           1,
           1,
           1,
           1,
           1
          ]
         },
         "node": {
          "label": [
           "Antilisterial compounds",
           "7-methylxanthine",
           "Carboxylic acids",
           "Caproate",
           "coniferyl alcohol",
           "3-hydroxypropionic acid",
           "Glycols",
           "Indigo",
           "Anthocyanins",
           "SCCA",
           "Antibodies",
           "Butanol",
           "Dye",
           "Polyester polymers",
           "Bioflocculant",
           "Electricity",
           "Lactic acid",
           "Antibiotics",
           "Biosurfactants",
           "Methane",
           "Biomass",
           "Vitamins",
           "Phenols",
           "Flavonoids",
           "1,3-Propanediol",
           "Surfactants",
           "PHB",
           "Butyl acetate",
           "Lactate",
           "Hydorgen gas",
           "MCFA",
           "Metabolites to support growth",
           "Polyhydroxyalkanoate",
           "Siderophores",
           "Pigments",
           "3-hydroxybenzoic acid",
           "Polysaccharides",
           "Recombinant protein",
           "Primary alcohols",
           "Ethanol",
           "Methanol_p",
           "Lipopeptides",
           "Fermented food product",
           "Resveratrol",
           "Cercosporin",
           "Caffeic acid",
           "Caproic acid",
           "Propionate",
           "Amino acids",
           "Fatty acid",
           "L-lysine",
           "Proteins",
           "Glycosides",
           "Cellulose",
           "O-methylated phenylpropanoids",
           "Hydrogen",
           "SCFA",
           "lovastatin",
           "Rosmarinic acid",
           "SCOA",
           "Glucose_p",
           "Pyranoanthocyanins",
           "P-coumaric acid",
           "Pharmaceutically active compounds",
           "Organic acids",
           "Glionitrin B",
           "Fructo-oligosaccharide",
           "Fermented food products",
           "caffeyl alcohol",
           "Polysaccharide",
           "Bacterial cellulose",
           "Hyaluronic acid",
           "Fumaric acid",
           "Microbial proteases",
           "VFA",
           "Itaconic acid",
           "Pharmaceuticals",
           "Glutamic acid",
           "Phenol",
           "Bacterial extracellular compounds",
           "Butyrate",
           "Monacolin",
           "Carboxylic esters"
          ],
          "line": {
           "color": "black",
           "width": 0.5
          },
          "pad": 15,
          "thickness": 40
         },
         "type": "sankey"
        }
       ],
       "layout": {
        "font": {
         "size": 15
        },
        "height": 1000,
        "template": {
         "data": {
          "bar": [
           {
            "error_x": {
             "color": "#2a3f5f"
            },
            "error_y": {
             "color": "#2a3f5f"
            },
            "marker": {
             "line": {
              "color": "#E5ECF6",
              "width": 0.5
             },
             "pattern": {
              "fillmode": "overlay",
              "size": 10,
              "solidity": 0.2
             }
            },
            "type": "bar"
           }
          ],
          "barpolar": [
           {
            "marker": {
             "line": {
              "color": "#E5ECF6",
              "width": 0.5
             },
             "pattern": {
              "fillmode": "overlay",
              "size": 10,
              "solidity": 0.2
             }
            },
            "type": "barpolar"
           }
          ],
          "carpet": [
           {
            "aaxis": {
             "endlinecolor": "#2a3f5f",
             "gridcolor": "white",
             "linecolor": "white",
             "minorgridcolor": "white",
             "startlinecolor": "#2a3f5f"
            },
            "baxis": {
             "endlinecolor": "#2a3f5f",
             "gridcolor": "white",
             "linecolor": "white",
             "minorgridcolor": "white",
             "startlinecolor": "#2a3f5f"
            },
            "type": "carpet"
           }
          ],
          "choropleth": [
           {
            "colorbar": {
             "outlinewidth": 0,
             "ticks": ""
            },
            "type": "choropleth"
           }
          ],
          "contour": [
           {
            "colorbar": {
             "outlinewidth": 0,
             "ticks": ""
            },
            "colorscale": [
             [
              0,
              "#0d0887"
             ],
             [
              0.1111111111111111,
              "#46039f"
             ],
             [
              0.2222222222222222,
              "#7201a8"
             ],
             [
              0.3333333333333333,
              "#9c179e"
             ],
             [
              0.4444444444444444,
              "#bd3786"
             ],
             [
              0.5555555555555556,
              "#d8576b"
             ],
             [
              0.6666666666666666,
              "#ed7953"
             ],
             [
              0.7777777777777778,
              "#fb9f3a"
             ],
             [
              0.8888888888888888,
              "#fdca26"
             ],
             [
              1,
              "#f0f921"
             ]
            ],
            "type": "contour"
           }
          ],
          "contourcarpet": [
           {
            "colorbar": {
             "outlinewidth": 0,
             "ticks": ""
            },
            "type": "contourcarpet"
           }
          ],
          "heatmap": [
           {
            "colorbar": {
             "outlinewidth": 0,
             "ticks": ""
            },
            "colorscale": [
             [
              0,
              "#0d0887"
             ],
             [
              0.1111111111111111,
              "#46039f"
             ],
             [
              0.2222222222222222,
              "#7201a8"
             ],
             [
              0.3333333333333333,
              "#9c179e"
             ],
             [
              0.4444444444444444,
              "#bd3786"
             ],
             [
              0.5555555555555556,
              "#d8576b"
             ],
             [
              0.6666666666666666,
              "#ed7953"
             ],
             [
              0.7777777777777778,
              "#fb9f3a"
             ],
             [
              0.8888888888888888,
              "#fdca26"
             ],
             [
              1,
              "#f0f921"
             ]
            ],
            "type": "heatmap"
           }
          ],
          "heatmapgl": [
           {
            "colorbar": {
             "outlinewidth": 0,
             "ticks": ""
            },
            "colorscale": [
             [
              0,
              "#0d0887"
             ],
             [
              0.1111111111111111,
              "#46039f"
             ],
             [
              0.2222222222222222,
              "#7201a8"
             ],
             [
              0.3333333333333333,
              "#9c179e"
             ],
             [
              0.4444444444444444,
              "#bd3786"
             ],
             [
              0.5555555555555556,
              "#d8576b"
             ],
             [
              0.6666666666666666,
              "#ed7953"
             ],
             [
              0.7777777777777778,
              "#fb9f3a"
             ],
             [
              0.8888888888888888,
              "#fdca26"
             ],
             [
              1,
              "#f0f921"
             ]
            ],
            "type": "heatmapgl"
           }
          ],
          "histogram": [
           {
            "marker": {
             "pattern": {
              "fillmode": "overlay",
              "size": 10,
              "solidity": 0.2
             }
            },
            "type": "histogram"
           }
          ],
          "histogram2d": [
           {
            "colorbar": {
             "outlinewidth": 0,
             "ticks": ""
            },
            "colorscale": [
             [
              0,
              "#0d0887"
             ],
             [
              0.1111111111111111,
              "#46039f"
             ],
             [
              0.2222222222222222,
              "#7201a8"
             ],
             [
              0.3333333333333333,
              "#9c179e"
             ],
             [
              0.4444444444444444,
              "#bd3786"
             ],
             [
              0.5555555555555556,
              "#d8576b"
             ],
             [
              0.6666666666666666,
              "#ed7953"
             ],
             [
              0.7777777777777778,
              "#fb9f3a"
             ],
             [
              0.8888888888888888,
              "#fdca26"
             ],
             [
              1,
              "#f0f921"
             ]
            ],
            "type": "histogram2d"
           }
          ],
          "histogram2dcontour": [
           {
            "colorbar": {
             "outlinewidth": 0,
             "ticks": ""
            },
            "colorscale": [
             [
              0,
              "#0d0887"
             ],
             [
              0.1111111111111111,
              "#46039f"
             ],
             [
              0.2222222222222222,
              "#7201a8"
             ],
             [
              0.3333333333333333,
              "#9c179e"
             ],
             [
              0.4444444444444444,
              "#bd3786"
             ],
             [
              0.5555555555555556,
              "#d8576b"
             ],
             [
              0.6666666666666666,
              "#ed7953"
             ],
             [
              0.7777777777777778,
              "#fb9f3a"
             ],
             [
              0.8888888888888888,
              "#fdca26"
             ],
             [
              1,
              "#f0f921"
             ]
            ],
            "type": "histogram2dcontour"
           }
          ],
          "mesh3d": [
           {
            "colorbar": {
             "outlinewidth": 0,
             "ticks": ""
            },
            "type": "mesh3d"
           }
          ],
          "parcoords": [
           {
            "line": {
             "colorbar": {
              "outlinewidth": 0,
              "ticks": ""
             }
            },
            "type": "parcoords"
           }
          ],
          "pie": [
           {
            "automargin": true,
            "type": "pie"
           }
          ],
          "scatter": [
           {
            "fillpattern": {
             "fillmode": "overlay",
             "size": 10,
             "solidity": 0.2
            },
            "type": "scatter"
           }
          ],
          "scatter3d": [
           {
            "line": {
             "colorbar": {
              "outlinewidth": 0,
              "ticks": ""
             }
            },
            "marker": {
             "colorbar": {
              "outlinewidth": 0,
              "ticks": ""
             }
            },
            "type": "scatter3d"
           }
          ],
          "scattercarpet": [
           {
            "marker": {
             "colorbar": {
              "outlinewidth": 0,
              "ticks": ""
             }
            },
            "type": "scattercarpet"
           }
          ],
          "scattergeo": [
           {
            "marker": {
             "colorbar": {
              "outlinewidth": 0,
              "ticks": ""
             }
            },
            "type": "scattergeo"
           }
          ],
          "scattergl": [
           {
            "marker": {
             "colorbar": {
              "outlinewidth": 0,
              "ticks": ""
             }
            },
            "type": "scattergl"
           }
          ],
          "scattermapbox": [
           {
            "marker": {
             "colorbar": {
              "outlinewidth": 0,
              "ticks": ""
             }
            },
            "type": "scattermapbox"
           }
          ],
          "scatterpolar": [
           {
            "marker": {
             "colorbar": {
              "outlinewidth": 0,
              "ticks": ""
             }
            },
            "type": "scatterpolar"
           }
          ],
          "scatterpolargl": [
           {
            "marker": {
             "colorbar": {
              "outlinewidth": 0,
              "ticks": ""
             }
            },
            "type": "scatterpolargl"
           }
          ],
          "scatterternary": [
           {
            "marker": {
             "colorbar": {
              "outlinewidth": 0,
              "ticks": ""
             }
            },
            "type": "scatterternary"
           }
          ],
          "surface": [
           {
            "colorbar": {
             "outlinewidth": 0,
             "ticks": ""
            },
            "colorscale": [
             [
              0,
              "#0d0887"
             ],
             [
              0.1111111111111111,
              "#46039f"
             ],
             [
              0.2222222222222222,
              "#7201a8"
             ],
             [
              0.3333333333333333,
              "#9c179e"
             ],
             [
              0.4444444444444444,
              "#bd3786"
             ],
             [
              0.5555555555555556,
              "#d8576b"
             ],
             [
              0.6666666666666666,
              "#ed7953"
             ],
             [
              0.7777777777777778,
              "#fb9f3a"
             ],
             [
              0.8888888888888888,
              "#fdca26"
             ],
             [
              1,
              "#f0f921"
             ]
            ],
            "type": "surface"
           }
          ],
          "table": [
           {
            "cells": {
             "fill": {
              "color": "#EBF0F8"
             },
             "line": {
              "color": "white"
             }
            },
            "header": {
             "fill": {
              "color": "#C8D4E3"
             },
             "line": {
              "color": "white"
             }
            },
            "type": "table"
           }
          ]
         },
         "layout": {
          "annotationdefaults": {
           "arrowcolor": "#2a3f5f",
           "arrowhead": 0,
           "arrowwidth": 1
          },
          "autotypenumbers": "strict",
          "coloraxis": {
           "colorbar": {
            "outlinewidth": 0,
            "ticks": ""
           }
          },
          "colorscale": {
           "diverging": [
            [
             0,
             "#8e0152"
            ],
            [
             0.1,
             "#c51b7d"
            ],
            [
             0.2,
             "#de77ae"
            ],
            [
             0.3,
             "#f1b6da"
            ],
            [
             0.4,
             "#fde0ef"
            ],
            [
             0.5,
             "#f7f7f7"
            ],
            [
             0.6,
             "#e6f5d0"
            ],
            [
             0.7,
             "#b8e186"
            ],
            [
             0.8,
             "#7fbc41"
            ],
            [
             0.9,
             "#4d9221"
            ],
            [
             1,
             "#276419"
            ]
           ],
           "sequential": [
            [
             0,
             "#0d0887"
            ],
            [
             0.1111111111111111,
             "#46039f"
            ],
            [
             0.2222222222222222,
             "#7201a8"
            ],
            [
             0.3333333333333333,
             "#9c179e"
            ],
            [
             0.4444444444444444,
             "#bd3786"
            ],
            [
             0.5555555555555556,
             "#d8576b"
            ],
            [
             0.6666666666666666,
             "#ed7953"
            ],
            [
             0.7777777777777778,
             "#fb9f3a"
            ],
            [
             0.8888888888888888,
             "#fdca26"
            ],
            [
             1,
             "#f0f921"
            ]
           ],
           "sequentialminus": [
            [
             0,
             "#0d0887"
            ],
            [
             0.1111111111111111,
             "#46039f"
            ],
            [
             0.2222222222222222,
             "#7201a8"
            ],
            [
             0.3333333333333333,
             "#9c179e"
            ],
            [
             0.4444444444444444,
             "#bd3786"
            ],
            [
             0.5555555555555556,
             "#d8576b"
            ],
            [
             0.6666666666666666,
             "#ed7953"
            ],
            [
             0.7777777777777778,
             "#fb9f3a"
            ],
            [
             0.8888888888888888,
             "#fdca26"
            ],
            [
             1,
             "#f0f921"
            ]
           ]
          },
          "colorway": [
           "#636efa",
           "#EF553B",
           "#00cc96",
           "#ab63fa",
           "#FFA15A",
           "#19d3f3",
           "#FF6692",
           "#B6E880",
           "#FF97FF",
           "#FECB52"
          ],
          "font": {
           "color": "#2a3f5f"
          },
          "geo": {
           "bgcolor": "white",
           "lakecolor": "white",
           "landcolor": "#E5ECF6",
           "showlakes": true,
           "showland": true,
           "subunitcolor": "white"
          },
          "hoverlabel": {
           "align": "left"
          },
          "hovermode": "closest",
          "mapbox": {
           "style": "light"
          },
          "paper_bgcolor": "white",
          "plot_bgcolor": "#E5ECF6",
          "polar": {
           "angularaxis": {
            "gridcolor": "white",
            "linecolor": "white",
            "ticks": ""
           },
           "bgcolor": "#E5ECF6",
           "radialaxis": {
            "gridcolor": "white",
            "linecolor": "white",
            "ticks": ""
           }
          },
          "scene": {
           "xaxis": {
            "backgroundcolor": "#E5ECF6",
            "gridcolor": "white",
            "gridwidth": 2,
            "linecolor": "white",
            "showbackground": true,
            "ticks": "",
            "zerolinecolor": "white"
           },
           "yaxis": {
            "backgroundcolor": "#E5ECF6",
            "gridcolor": "white",
            "gridwidth": 2,
            "linecolor": "white",
            "showbackground": true,
            "ticks": "",
            "zerolinecolor": "white"
           },
           "zaxis": {
            "backgroundcolor": "#E5ECF6",
            "gridcolor": "white",
            "gridwidth": 2,
            "linecolor": "white",
            "showbackground": true,
            "ticks": "",
            "zerolinecolor": "white"
           }
          },
          "shapedefaults": {
           "line": {
            "color": "#2a3f5f"
           }
          },
          "ternary": {
           "aaxis": {
            "gridcolor": "white",
            "linecolor": "white",
            "ticks": ""
           },
           "baxis": {
            "gridcolor": "white",
            "linecolor": "white",
            "ticks": ""
           },
           "bgcolor": "#E5ECF6",
           "caxis": {
            "gridcolor": "white",
            "linecolor": "white",
            "ticks": ""
           }
          },
          "title": {
           "x": 0.05
          },
          "xaxis": {
           "automargin": true,
           "gridcolor": "white",
           "linecolor": "white",
           "ticks": "",
           "title": {
            "standoff": 15
           },
           "zerolinecolor": "white",
           "zerolinewidth": 2
          },
          "yaxis": {
           "automargin": true,
           "gridcolor": "white",
           "linecolor": "white",
           "ticks": "",
           "title": {
            "standoff": 15
           },
           "zerolinecolor": "white",
           "zerolinewidth": 2
          }
         }
        }
       }
      }
     },
     "metadata": {},
     "output_type": "display_data"
    }
   ],
   "source": [
    "SankeyVisualisation(substrate_map)\n",
    "SankeyVisualisation(product_map)"
   ]
  },
  {
   "cell_type": "code",
   "execution_count": 218,
   "metadata": {},
   "outputs": [
    {
     "data": {
      "application/vnd.plotly.v1+json": {
       "config": {
        "plotlyServerURL": "https://plot.ly"
       },
       "data": [
        {
         "link": {
          "color": [
           "#FF97FF",
           "#FF97FF",
           "#00CC96",
           "#00CC96",
           "#00CC96",
           "#00CC96",
           "#FF97FF",
           "#FF97FF",
           "#FF97FF",
           "#FF97FF",
           "#FF97FF",
           "#FF97FF",
           "#FFA15A",
           "#FF97FF",
           "#FFA15A",
           "#636EFA",
           "#636EFA",
           "#636EFA",
           "#636EFA",
           "#00CC96",
           "#FF6692",
           "#00CC96",
           "#FF6692",
           "#FF97FF",
           "#636EFA",
           "#FF97FF",
           "#636EFA",
           "#00CC96",
           "#FF6692",
           "#636EFA",
           "#00CC96",
           "#00CC96",
           "#FF6692",
           "#FF6692",
           "#636EFA",
           "#636EFA",
           "#AB63FA",
           "#FF97FF",
           "#AB63FA",
           "#FF97FF",
           "#AB63FA",
           "#FF97FF",
           "#FFA15A",
           "#19D3F3",
           "#FFA15A",
           "#19D3F3",
           "#636EFA",
           "#FECB52",
           "#636EFA",
           "#636EFA",
           "#FECB52",
           "#FECB52",
           "#FFA15A",
           "#636EFA",
           "#FFA15A",
           "#636EFA",
           "#EF553B",
           "#AB63FA",
           "#EF553B",
           "#EF553B",
           "#AB63FA",
           "#AB63FA",
           "#FF6692",
           "#636EFA",
           "#FF6692",
           "#636EFA",
           "#636EFA",
           "#FFA15A",
           "#636EFA",
           "#FFA15A",
           "#636EFA",
           "#FFA15A",
           "#FF97FF",
           "#B6E880",
           "#FF97FF",
           "#B6E880",
           "#B6E880",
           "#EF553B",
           "#B6E880",
           "#EF553B",
           "#FFA15A",
           "#FFA15A",
           "#B6E880",
           "#FF97FF",
           "#B6E880",
           "#FF97FF",
           "#00CC96",
           "#00CC96",
           "#00CC96",
           "#AB63FA",
           "#00CC96",
           "#00CC96",
           "#AB63FA",
           "#AB63FA",
           "#FF97FF",
           "#FF97FF",
           "#FF97FF",
           "#FF97FF",
           "#FF97FF",
           "#FF97FF",
           "#FF97FF",
           "#FF97FF",
           "#636EFA",
           "#FF97FF",
           "#636EFA",
           "#FF97FF",
           "#00CC96",
           "#00CC96",
           "#00CC96",
           "#00CC96",
           "#FF97FF",
           "#FF97FF",
           "#FF97FF",
           "#FF97FF",
           "#FF97FF",
           "#FF97FF",
           "#FF97FF",
           "#FF97FF",
           "#FF97FF",
           "#00CC96",
           "#19D3F3",
           "#FF97FF",
           "#00CC96",
           "#19D3F3",
           "#00CC96",
           "#FFA15A",
           "#00CC96",
           "#FFA15A",
           "#FF97FF",
           "#FF97FF",
           "#FF97FF",
           "#FF97FF",
           "#FF97FF",
           "#FF97FF",
           "#FF97FF",
           "#FF97FF",
           "#FF97FF",
           "#FF6692",
           "#FF97FF",
           "#FF6692",
           "#FF6692",
           "#FF97FF",
           "#FF97FF",
           "#00CC96",
           "#AB63FA",
           "#00CC96",
           "#00CC96",
           "#AB63FA",
           "#AB63FA",
           "#FF97FF",
           "#FF97FF",
           "#FF97FF",
           "#FF97FF",
           "#B6E880",
           "#EF553B",
           "#B6E880",
           "#EF553B",
           "#19D3F3",
           "#00CC96",
           "#19D3F3",
           "#00CC96",
           "#636EFA",
           "#636EFA",
           "#636EFA",
           "#00CC96",
           "#00CC96",
           "#00CC96",
           "#FF6692",
           "#EF553B",
           "#EF553B",
           "#FF6692",
           "#EF553B",
           "#EF553B",
           "#FF6692",
           "#EF553B",
           "#EF553B",
           "#00CC96",
           "#00CC96",
           "#FF97FF",
           "#FF97FF",
           "#FF97FF",
           "#B6E880",
           "#FF97FF",
           "#B6E880",
           "#FF97FF",
           "#B6E880",
           "#EF553B",
           "#EF553B",
           "#EF553B",
           "#EF553B",
           "#00CC96",
           "#FF97FF",
           "#FF97FF",
           "#00CC96",
           "#FF97FF",
           "#FF97FF",
           "#AB63FA",
           "#FFA15A",
           "#AB63FA",
           "#FFA15A",
           "#FF97FF",
           "#FF97FF",
           "#FF97FF",
           "#FF97FF",
           "#FF97FF",
           "#FF97FF",
           "#FF97FF",
           "#AB63FA",
           "#FF97FF",
           "#AB63FA",
           "#00CC96",
           "#00CC96",
           "#636EFA",
           "#FF97FF",
           "#636EFA",
           "#FF97FF",
           "#AB63FA",
           "#FF6692",
           "#AB63FA",
           "#FF6692",
           "#FF97FF",
           "#FF97FF",
           "#FF97FF",
           "#FF97FF",
           "#FF97FF",
           "#FF97FF",
           "#FF97FF",
           "#FF97FF",
           "#FF97FF",
           "#FF97FF",
           "#FF97FF",
           "#FF6692",
           "#FF6692",
           "#FF6692",
           "#FF97FF",
           "#AB63FA",
           "#FF97FF",
           "#AB63FA",
           "#FF97FF",
           "#FF6692",
           "#FF97FF",
           "#FF6692",
           "#FF97FF",
           "#636EFA",
           "#FF97FF",
           "#636EFA",
           "#00CC96",
           "#00CC96",
           "#636EFA",
           "#00CC96",
           "#FECB52",
           "#636EFA",
           "#00CC96",
           "#FECB52",
           "#FF97FF",
           "#00CC96",
           "#FF97FF",
           "#00CC96",
           "#FF97FF",
           "#FF97FF",
           "#AB63FA",
           "#AB63FA",
           "#AB63FA",
           "#AB63FA",
           "#AB63FA",
           "#AB63FA",
           "#AB63FA",
           "#AB63FA",
           "#AB63FA",
           "#AB63FA",
           "#AB63FA",
           "#AB63FA",
           "#AB63FA",
           "#AB63FA",
           "#AB63FA",
           "#AB63FA",
           "#AB63FA",
           "#AB63FA",
           "#AB63FA",
           "#AB63FA",
           "#AB63FA",
           "#AB63FA",
           "#AB63FA",
           "#AB63FA",
           "#AB63FA",
           "#AB63FA",
           "#AB63FA",
           "#AB63FA",
           "#AB63FA",
           "#AB63FA",
           "#AB63FA",
           "#AB63FA",
           "#AB63FA",
           "#AB63FA",
           "#AB63FA",
           "#AB63FA",
           "#AB63FA",
           "#AB63FA",
           "#AB63FA",
           "#AB63FA",
           "#AB63FA",
           "#AB63FA",
           "#AB63FA",
           "#AB63FA",
           "#AB63FA",
           "#AB63FA",
           "#AB63FA",
           "#AB63FA",
           "#AB63FA",
           "#AB63FA",
           "#AB63FA",
           "#AB63FA",
           "#AB63FA",
           "#00CC96",
           "#AB63FA",
           "#00CC96",
           "#AB63FA",
           "#AB63FA",
           "#AB63FA",
           "#AB63FA",
           "#AB63FA",
           "#AB63FA",
           "#AB63FA",
           "#AB63FA",
           "#AB63FA",
           "#AB63FA",
           "#AB63FA",
           "#AB63FA",
           "#AB63FA",
           "#AB63FA",
           "#AB63FA",
           "#AB63FA",
           "#AB63FA",
           "#AB63FA",
           "#AB63FA",
           "#AB63FA",
           "#AB63FA",
           "#AB63FA",
           "#AB63FA",
           "#AB63FA",
           "#AB63FA",
           "#AB63FA",
           "#AB63FA",
           "#AB63FA",
           "#AB63FA",
           "#AB63FA",
           "#AB63FA",
           "#AB63FA",
           "#AB63FA",
           "#AB63FA",
           "#AB63FA",
           "#AB63FA",
           "#AB63FA",
           "#AB63FA",
           "#AB63FA",
           "#AB63FA",
           "#AB63FA",
           "#AB63FA",
           "#00CC96",
           "#AB63FA",
           "#00CC96",
           "#AB63FA",
           "#00CC96",
           "#AB63FA",
           "#AB63FA",
           "#AB63FA"
          ],
          "source": [
           0,
           1,
           2,
           2,
           3,
           4,
           2,
           1,
           5,
           6,
           6,
           7,
           7,
           6,
           8,
           2,
           2,
           9,
           10,
           11,
           11,
           3,
           12,
           2,
           2,
           1,
           13,
           0,
           0,
           0,
           3,
           3,
           12,
           12,
           14,
           14,
           15,
           15,
           0,
           0,
           16,
           1,
           17,
           17,
           8,
           18,
           17,
           17,
           14,
           14,
           19,
           19,
           2,
           2,
           20,
           14,
           2,
           2,
           21,
           21,
           22,
           22,
           2,
           2,
           23,
           14,
           2,
           2,
           24,
           24,
           14,
           25,
           5,
           5,
           26,
           27,
           2,
           2,
           28,
           21,
           7,
           8,
           2,
           2,
           28,
           6,
           5,
           3,
           5,
           5,
           3,
           3,
           29,
           29,
           5,
           5,
           1,
           26,
           2,
           2,
           6,
           1,
           30,
           30,
           31,
           32,
           5,
           3,
           5,
           3,
           2,
           1,
           2,
           2,
           2,
           1,
           2,
           1,
           5,
           5,
           5,
           26,
           3,
           18,
           5,
           5,
           3,
           33,
           2,
           1,
           2,
           2,
           1,
           2,
           1,
           7,
           1,
           11,
           11,
           12,
           12,
           1,
           1,
           5,
           5,
           3,
           3,
           34,
           34,
           17,
           17,
           1,
           35,
           2,
           2,
           27,
           36,
           5,
           5,
           37,
           3,
           17,
           2,
           14,
           11,
           11,
           3,
           11,
           11,
           11,
           11,
           11,
           11,
           12,
           38,
           39,
           5,
           3,
           0,
           1,
           2,
           2,
           2,
           2,
           1,
           40,
           11,
           11,
           41,
           42,
           17,
           17,
           17,
           3,
           1,
           6,
           5,
           5,
           29,
           43,
           5,
           5,
           26,
           1,
           7,
           1,
           5,
           5,
           26,
           44,
           17,
           3,
           2,
           2,
           14,
           45,
           11,
           11,
           46,
           12,
           0,
           1,
           2,
           1,
           1,
           2,
           1,
           5,
           5,
           1,
           6,
           0,
           47,
           47,
           2,
           2,
           1,
           48,
           7,
           7,
           1,
           49,
           5,
           5,
           1,
           50,
           2,
           3,
           5,
           5,
           5,
           51,
           52,
           53,
           2,
           2,
           6,
           3,
           7,
           1,
           17,
           5,
           54,
           17,
           54,
           17,
           54,
           0,
           54,
           0,
           54,
           17,
           54,
           55,
           54,
           17,
           54,
           55,
           54,
           2,
           54,
           24,
           54,
           17,
           54,
           17,
           54,
           17,
           17,
           54,
           2,
           7,
           54,
           17,
           54,
           0,
           54,
           54,
           17,
           54,
           5,
           54,
           5,
           54,
           5,
           54,
           2,
           54,
           0,
           54,
           54,
           17,
           54,
           5,
           5,
           56,
           54,
           2,
           54,
           17,
           30,
           54,
           17,
           54,
           5,
           54,
           54,
           17,
           54,
           17,
           54,
           17,
           54,
           17,
           54,
           57,
           57,
           54,
           17,
           54,
           5,
           54,
           54,
           17,
           54,
           0,
           54,
           17,
           54,
           2,
           2,
           2,
           2,
           54,
           17,
           17,
           54,
           54,
           5,
           5,
           0,
           0,
           3,
           54,
           5,
           54
          ],
          "target": [
           1,
           58,
           3,
           4,
           59,
           59,
           1,
           60,
           6,
           61,
           62,
           6,
           8,
           63,
           63,
           9,
           10,
           64,
           64,
           3,
           12,
           61,
           61,
           1,
           13,
           65,
           65,
           3,
           12,
           14,
           66,
           61,
           66,
           61,
           66,
           61,
           16,
           1,
           16,
           1,
           67,
           67,
           8,
           18,
           61,
           61,
           14,
           19,
           65,
           61,
           65,
           61,
           20,
           14,
           68,
           68,
           21,
           22,
           69,
           70,
           69,
           70,
           23,
           14,
           70,
           70,
           14,
           25,
           14,
           25,
           68,
           68,
           26,
           27,
           63,
           63,
           28,
           21,
           69,
           69,
           8,
           71,
           28,
           6,
           64,
           64,
           3,
           72,
           3,
           29,
           73,
           72,
           73,
           72,
           1,
           26,
           72,
           72,
           6,
           1,
           70,
           70,
           31,
           32,
           68,
           68,
           3,
           72,
           3,
           72,
           1,
           62,
           1,
           1,
           1,
           62,
           1,
           62,
           26,
           3,
           18,
           61,
           61,
           61,
           3,
           33,
           74,
           74,
           1,
           75,
           1,
           1,
           76,
           1,
           62,
           1,
           58,
           12,
           1,
           61,
           61,
           61,
           61,
           3,
           34,
           61,
           72,
           61,
           72,
           1,
           35,
           73,
           73,
           27,
           36,
           70,
           70,
           37,
           3,
           72,
           72,
           14,
           14,
           65,
           3,
           3,
           61,
           12,
           38,
           39,
           12,
           38,
           39,
           61,
           61,
           61,
           3,
           73,
           1,
           62,
           1,
           40,
           1,
           40,
           77,
           77,
           41,
           42,
           72,
           72,
           3,
           1,
           6,
           73,
           73,
           73,
           29,
           43,
           73,
           73,
           26,
           1,
           72,
           72,
           1,
           65,
           26,
           44,
           61,
           61,
           3,
           73,
           14,
           45,
           73,
           73,
           46,
           12,
           74,
           74,
           1,
           62,
           1,
           62,
           62,
           1,
           62,
           1,
           6,
           72,
           72,
           47,
           70,
           70,
           1,
           48,
           73,
           73,
           1,
           49,
           70,
           70,
           1,
           50,
           74,
           74,
           3,
           72,
           51,
           52,
           53,
           72,
           72,
           72,
           6,
           3,
           72,
           72,
           1,
           70,
           54,
           54,
           61,
           54,
           68,
           54,
           74,
           54,
           71,
           54,
           73,
           54,
           77,
           54,
           67,
           54,
           73,
           54,
           78,
           54,
           74,
           54,
           74,
           54,
           73,
           54,
           61,
           54,
           54,
           61,
           54,
           54,
           79,
           54,
           73,
           54,
           66,
           61,
           54,
           61,
           54,
           61,
           54,
           78,
           54,
           78,
           54,
           74,
           54,
           66,
           61,
           54,
           79,
           56,
           54,
           72,
           72,
           54,
           73,
           54,
           54,
           73,
           54,
           73,
           54,
           72,
           61,
           54,
           73,
           54,
           78,
           54,
           73,
           54,
           73,
           54,
           54,
           80,
           54,
           74,
           54,
           73,
           78,
           54,
           73,
           54,
           66,
           54,
           78,
           54,
           54,
           54,
           54,
           73,
           54,
           54,
           73,
           61,
           3,
           54,
           3,
           54,
           61,
           61,
           54,
           72
          ],
          "value": [
           1,
           1,
           1,
           1,
           1,
           1,
           1,
           1,
           1,
           1,
           1,
           1,
           1,
           1,
           1,
           1,
           1,
           1,
           1,
           1,
           1,
           1,
           1,
           1,
           1,
           1,
           1,
           1,
           1,
           1,
           1,
           1,
           1,
           1,
           1,
           1,
           1,
           1,
           1,
           1,
           1,
           1,
           1,
           1,
           1,
           1,
           1,
           1,
           1,
           1,
           1,
           1,
           1,
           1,
           1,
           1,
           1,
           1,
           1,
           1,
           1,
           1,
           1,
           1,
           1,
           1,
           1,
           1,
           1,
           1,
           1,
           1,
           1,
           1,
           1,
           1,
           1,
           1,
           1,
           1,
           1,
           1,
           1,
           1,
           1,
           1,
           1,
           1,
           1,
           1,
           1,
           1,
           1,
           1,
           1,
           1,
           1,
           1,
           1,
           1,
           1,
           1,
           1,
           1,
           1,
           1,
           1,
           1,
           1,
           1,
           1,
           1,
           1,
           1,
           1,
           1,
           1,
           1,
           1,
           1,
           1,
           1,
           1,
           1,
           1,
           1,
           1,
           1,
           1,
           1,
           1,
           1,
           1,
           1,
           1,
           1,
           1,
           1,
           1,
           1,
           1,
           1,
           1,
           1,
           1,
           1,
           1,
           1,
           1,
           1,
           1,
           1,
           1,
           1,
           1,
           1,
           1,
           1,
           1,
           1,
           1,
           1,
           1,
           1,
           1,
           1,
           1,
           1,
           1,
           1,
           1,
           1,
           1,
           1,
           1,
           1,
           1,
           1,
           1,
           1,
           1,
           1,
           1,
           1,
           1,
           1,
           1,
           1,
           1,
           1,
           1,
           1,
           1,
           1,
           1,
           1,
           1,
           1,
           1,
           1,
           1,
           1,
           1,
           1,
           1,
           1,
           1,
           1,
           1,
           1,
           1,
           1,
           1,
           1,
           1,
           1,
           1,
           1,
           1,
           1,
           1,
           1,
           1,
           1,
           1,
           1,
           1,
           1,
           1,
           1,
           1,
           1,
           1,
           1,
           1,
           1,
           1,
           1,
           1,
           1,
           1,
           1,
           1,
           1,
           1,
           1,
           1,
           1,
           1,
           1,
           1,
           1,
           1,
           1,
           1,
           1,
           1,
           1,
           1,
           1,
           1,
           1,
           1,
           1,
           1,
           1,
           1,
           1,
           1,
           1,
           1,
           1,
           1,
           1,
           1,
           1,
           1,
           1,
           1,
           1,
           1,
           1,
           1,
           1,
           1,
           1,
           1,
           1,
           1,
           1,
           1,
           1,
           1,
           1,
           1,
           1,
           1,
           1,
           1,
           1,
           1,
           1,
           1,
           1,
           1,
           1,
           1,
           1,
           1,
           1,
           1,
           1,
           1,
           1,
           1,
           1,
           1,
           1,
           1,
           1,
           1,
           1,
           1,
           1,
           1,
           1,
           1,
           1,
           1,
           1,
           1,
           1,
           1,
           1,
           1,
           1,
           1,
           1,
           1,
           1,
           1,
           1,
           1,
           1,
           1,
           1,
           1,
           1,
           1,
           1,
           1,
           1,
           1,
           1,
           1,
           1,
           1,
           1,
           1,
           1,
           1,
           1,
           1,
           1,
           1,
           1
          ]
         },
         "node": {
          "color": [
           "grey",
           "#FF97FF",
           "grey",
           "#00CC96",
           "#00CC96",
           "grey",
           "#FF97FF",
           "grey",
           "#FFA15A",
           "#636EFA",
           "#636EFA",
           "grey",
           "#FF6692",
           "#636EFA",
           "#636EFA",
           "grey",
           "#AB63FA",
           "grey",
           "#19D3F3",
           "#FECB52",
           "#FFA15A",
           "#EF553B",
           "#AB63FA",
           "#FF6692",
           "grey",
           "#FFA15A",
           "#FF97FF",
           "#B6E880",
           "#B6E880",
           "#AB63FA",
           "grey",
           "#636EFA",
           "#FF97FF",
           "#FFA15A",
           "#AB63FA",
           "#FF97FF",
           "#EF553B",
           "#19D3F3",
           "#EF553B",
           "#EF553B",
           "#B6E880",
           "#EF553B",
           "#EF553B",
           "#FFA15A",
           "#AB63FA",
           "#FF97FF",
           "#AB63FA",
           "#FF6692",
           "#AB63FA",
           "#FF6692",
           "#636EFA",
           "#636EFA",
           "#00CC96",
           "#FECB52",
           "#AB63FA",
           "grey",
           "#00CC96",
           "grey",
           "grey",
           "grey",
           "grey",
           "grey",
           "grey",
           "grey",
           "grey",
           "grey",
           "grey",
           "grey",
           "grey",
           "grey",
           "grey",
           "grey",
           "grey",
           "grey",
           "grey",
           "grey",
           "grey",
           "grey",
           "grey",
           "grey",
           "grey",
           "grey",
           "grey",
           "grey",
           "grey",
           "grey",
           "grey",
           "grey",
           "grey",
           "grey",
           "grey"
          ],
          "label": [
           "Alcohols",
           "Enterobacteriaceae",
           "Sugars",
           "Clostridiaceae",
           "Pasteurellaceae",
           "Lignocellulose",
           "Saccharomycetaceae",
           "Amino acid medium",
           "Lactobacillaceae",
           "Promicromonosporaceae",
           "Rhizobiaceae",
           "Gas",
           "Eubacteriaceae",
           "Moraxellaceae",
           "Bacillaceae",
           "Phenanthrene",
           "Pseudomonadaceae",
           "Waste",
           "Veillonellaceae",
           "Dipodascaceae",
           "Burkholderiaceae",
           "Acetobacteraceae",
           "Streptococcaceae",
           "Mycosphaerellaceae",
           "Short-chain fatty acids",
           "Pseudomonas",
           "Hypocreaceae",
           "Aspergillaceae",
           "Saccotheciaceae",
           "Enterococcaceae",
           "Light",
           "Synechococcaceae",
           "Halomonadaceae",
           "Geobacteraceae",
           "Neocallimastigaceae",
           "Paenibacillaceae",
           "Sphingomonadaceae",
           "Thermoanaerobacterales",
           "Desulfuromonadaceae",
           "Lachnospiraceae",
           "Corynebacteriaceae",
           "Methylocystaceae",
           "Beijerinckiaceae",
           "Oscillospiraceae",
           "Rhizopodaceae",
           "Caulobacteraceae",
           "Desulfobacteriaceae",
           "Phaffomycetaceae",
           "Nitrobacteraceae",
           "Streptomycetaceae",
           "Shewanellaceae",
           "Schizophyllaceae",
           "Phanerochaetaceae",
           "Fomitopsidaceae",
           "Undefined",
           "Crude oil",
           "Xanthomonadaceae",
           "Complex media",
           "Dye",
           "Carboxylic esters",
           "Biomass",
           "Carboxylic acids",
           "Phenols",
           "Metabolites to support growth",
           "Polysaccharides",
           "Proteins",
           "Glycols",
           "Surfactants",
           "Polyester polymers",
           "Cellulose",
           "Pharmaceuticals",
           "Antibiotics",
           "Primary alcohols",
           "Hydorgen gas",
           "Electricity",
           "Pigments",
           "Glycosides",
           "Amino acids",
           "Methane",
           "Bacterial extracellular compounds",
           "Fermented food products",
           "#FF97FF",
           "#00CC96",
           "#FFA15A",
           "#636EFA",
           "#FF6692",
           "#AB63FA",
           "#19D3F3",
           "#FECB52",
           "#EF553B",
           "#B6E880"
          ],
          "line": {
           "color": "black",
           "width": 0.5
          },
          "pad": 15,
          "thickness": 20
         },
         "orientation": "h",
         "type": "sankey"
        }
       ],
       "layout": {
        "font": {
         "size": 8
        },
        "height": 850,
        "template": {
         "data": {
          "bar": [
           {
            "error_x": {
             "color": "#2a3f5f"
            },
            "error_y": {
             "color": "#2a3f5f"
            },
            "marker": {
             "line": {
              "color": "#E5ECF6",
              "width": 0.5
             },
             "pattern": {
              "fillmode": "overlay",
              "size": 10,
              "solidity": 0.2
             }
            },
            "type": "bar"
           }
          ],
          "barpolar": [
           {
            "marker": {
             "line": {
              "color": "#E5ECF6",
              "width": 0.5
             },
             "pattern": {
              "fillmode": "overlay",
              "size": 10,
              "solidity": 0.2
             }
            },
            "type": "barpolar"
           }
          ],
          "carpet": [
           {
            "aaxis": {
             "endlinecolor": "#2a3f5f",
             "gridcolor": "white",
             "linecolor": "white",
             "minorgridcolor": "white",
             "startlinecolor": "#2a3f5f"
            },
            "baxis": {
             "endlinecolor": "#2a3f5f",
             "gridcolor": "white",
             "linecolor": "white",
             "minorgridcolor": "white",
             "startlinecolor": "#2a3f5f"
            },
            "type": "carpet"
           }
          ],
          "choropleth": [
           {
            "colorbar": {
             "outlinewidth": 0,
             "ticks": ""
            },
            "type": "choropleth"
           }
          ],
          "contour": [
           {
            "colorbar": {
             "outlinewidth": 0,
             "ticks": ""
            },
            "colorscale": [
             [
              0,
              "#0d0887"
             ],
             [
              0.1111111111111111,
              "#46039f"
             ],
             [
              0.2222222222222222,
              "#7201a8"
             ],
             [
              0.3333333333333333,
              "#9c179e"
             ],
             [
              0.4444444444444444,
              "#bd3786"
             ],
             [
              0.5555555555555556,
              "#d8576b"
             ],
             [
              0.6666666666666666,
              "#ed7953"
             ],
             [
              0.7777777777777778,
              "#fb9f3a"
             ],
             [
              0.8888888888888888,
              "#fdca26"
             ],
             [
              1,
              "#f0f921"
             ]
            ],
            "type": "contour"
           }
          ],
          "contourcarpet": [
           {
            "colorbar": {
             "outlinewidth": 0,
             "ticks": ""
            },
            "type": "contourcarpet"
           }
          ],
          "heatmap": [
           {
            "colorbar": {
             "outlinewidth": 0,
             "ticks": ""
            },
            "colorscale": [
             [
              0,
              "#0d0887"
             ],
             [
              0.1111111111111111,
              "#46039f"
             ],
             [
              0.2222222222222222,
              "#7201a8"
             ],
             [
              0.3333333333333333,
              "#9c179e"
             ],
             [
              0.4444444444444444,
              "#bd3786"
             ],
             [
              0.5555555555555556,
              "#d8576b"
             ],
             [
              0.6666666666666666,
              "#ed7953"
             ],
             [
              0.7777777777777778,
              "#fb9f3a"
             ],
             [
              0.8888888888888888,
              "#fdca26"
             ],
             [
              1,
              "#f0f921"
             ]
            ],
            "type": "heatmap"
           }
          ],
          "heatmapgl": [
           {
            "colorbar": {
             "outlinewidth": 0,
             "ticks": ""
            },
            "colorscale": [
             [
              0,
              "#0d0887"
             ],
             [
              0.1111111111111111,
              "#46039f"
             ],
             [
              0.2222222222222222,
              "#7201a8"
             ],
             [
              0.3333333333333333,
              "#9c179e"
             ],
             [
              0.4444444444444444,
              "#bd3786"
             ],
             [
              0.5555555555555556,
              "#d8576b"
             ],
             [
              0.6666666666666666,
              "#ed7953"
             ],
             [
              0.7777777777777778,
              "#fb9f3a"
             ],
             [
              0.8888888888888888,
              "#fdca26"
             ],
             [
              1,
              "#f0f921"
             ]
            ],
            "type": "heatmapgl"
           }
          ],
          "histogram": [
           {
            "marker": {
             "pattern": {
              "fillmode": "overlay",
              "size": 10,
              "solidity": 0.2
             }
            },
            "type": "histogram"
           }
          ],
          "histogram2d": [
           {
            "colorbar": {
             "outlinewidth": 0,
             "ticks": ""
            },
            "colorscale": [
             [
              0,
              "#0d0887"
             ],
             [
              0.1111111111111111,
              "#46039f"
             ],
             [
              0.2222222222222222,
              "#7201a8"
             ],
             [
              0.3333333333333333,
              "#9c179e"
             ],
             [
              0.4444444444444444,
              "#bd3786"
             ],
             [
              0.5555555555555556,
              "#d8576b"
             ],
             [
              0.6666666666666666,
              "#ed7953"
             ],
             [
              0.7777777777777778,
              "#fb9f3a"
             ],
             [
              0.8888888888888888,
              "#fdca26"
             ],
             [
              1,
              "#f0f921"
             ]
            ],
            "type": "histogram2d"
           }
          ],
          "histogram2dcontour": [
           {
            "colorbar": {
             "outlinewidth": 0,
             "ticks": ""
            },
            "colorscale": [
             [
              0,
              "#0d0887"
             ],
             [
              0.1111111111111111,
              "#46039f"
             ],
             [
              0.2222222222222222,
              "#7201a8"
             ],
             [
              0.3333333333333333,
              "#9c179e"
             ],
             [
              0.4444444444444444,
              "#bd3786"
             ],
             [
              0.5555555555555556,
              "#d8576b"
             ],
             [
              0.6666666666666666,
              "#ed7953"
             ],
             [
              0.7777777777777778,
              "#fb9f3a"
             ],
             [
              0.8888888888888888,
              "#fdca26"
             ],
             [
              1,
              "#f0f921"
             ]
            ],
            "type": "histogram2dcontour"
           }
          ],
          "mesh3d": [
           {
            "colorbar": {
             "outlinewidth": 0,
             "ticks": ""
            },
            "type": "mesh3d"
           }
          ],
          "parcoords": [
           {
            "line": {
             "colorbar": {
              "outlinewidth": 0,
              "ticks": ""
             }
            },
            "type": "parcoords"
           }
          ],
          "pie": [
           {
            "automargin": true,
            "type": "pie"
           }
          ],
          "scatter": [
           {
            "fillpattern": {
             "fillmode": "overlay",
             "size": 10,
             "solidity": 0.2
            },
            "type": "scatter"
           }
          ],
          "scatter3d": [
           {
            "line": {
             "colorbar": {
              "outlinewidth": 0,
              "ticks": ""
             }
            },
            "marker": {
             "colorbar": {
              "outlinewidth": 0,
              "ticks": ""
             }
            },
            "type": "scatter3d"
           }
          ],
          "scattercarpet": [
           {
            "marker": {
             "colorbar": {
              "outlinewidth": 0,
              "ticks": ""
             }
            },
            "type": "scattercarpet"
           }
          ],
          "scattergeo": [
           {
            "marker": {
             "colorbar": {
              "outlinewidth": 0,
              "ticks": ""
             }
            },
            "type": "scattergeo"
           }
          ],
          "scattergl": [
           {
            "marker": {
             "colorbar": {
              "outlinewidth": 0,
              "ticks": ""
             }
            },
            "type": "scattergl"
           }
          ],
          "scattermapbox": [
           {
            "marker": {
             "colorbar": {
              "outlinewidth": 0,
              "ticks": ""
             }
            },
            "type": "scattermapbox"
           }
          ],
          "scatterpolar": [
           {
            "marker": {
             "colorbar": {
              "outlinewidth": 0,
              "ticks": ""
             }
            },
            "type": "scatterpolar"
           }
          ],
          "scatterpolargl": [
           {
            "marker": {
             "colorbar": {
              "outlinewidth": 0,
              "ticks": ""
             }
            },
            "type": "scatterpolargl"
           }
          ],
          "scatterternary": [
           {
            "marker": {
             "colorbar": {
              "outlinewidth": 0,
              "ticks": ""
             }
            },
            "type": "scatterternary"
           }
          ],
          "surface": [
           {
            "colorbar": {
             "outlinewidth": 0,
             "ticks": ""
            },
            "colorscale": [
             [
              0,
              "#0d0887"
             ],
             [
              0.1111111111111111,
              "#46039f"
             ],
             [
              0.2222222222222222,
              "#7201a8"
             ],
             [
              0.3333333333333333,
              "#9c179e"
             ],
             [
              0.4444444444444444,
              "#bd3786"
             ],
             [
              0.5555555555555556,
              "#d8576b"
             ],
             [
              0.6666666666666666,
              "#ed7953"
             ],
             [
              0.7777777777777778,
              "#fb9f3a"
             ],
             [
              0.8888888888888888,
              "#fdca26"
             ],
             [
              1,
              "#f0f921"
             ]
            ],
            "type": "surface"
           }
          ],
          "table": [
           {
            "cells": {
             "fill": {
              "color": "#EBF0F8"
             },
             "line": {
              "color": "white"
             }
            },
            "header": {
             "fill": {
              "color": "#C8D4E3"
             },
             "line": {
              "color": "white"
             }
            },
            "type": "table"
           }
          ]
         },
         "layout": {
          "annotationdefaults": {
           "arrowcolor": "#2a3f5f",
           "arrowhead": 0,
           "arrowwidth": 1
          },
          "autotypenumbers": "strict",
          "coloraxis": {
           "colorbar": {
            "outlinewidth": 0,
            "ticks": ""
           }
          },
          "colorscale": {
           "diverging": [
            [
             0,
             "#8e0152"
            ],
            [
             0.1,
             "#c51b7d"
            ],
            [
             0.2,
             "#de77ae"
            ],
            [
             0.3,
             "#f1b6da"
            ],
            [
             0.4,
             "#fde0ef"
            ],
            [
             0.5,
             "#f7f7f7"
            ],
            [
             0.6,
             "#e6f5d0"
            ],
            [
             0.7,
             "#b8e186"
            ],
            [
             0.8,
             "#7fbc41"
            ],
            [
             0.9,
             "#4d9221"
            ],
            [
             1,
             "#276419"
            ]
           ],
           "sequential": [
            [
             0,
             "#0d0887"
            ],
            [
             0.1111111111111111,
             "#46039f"
            ],
            [
             0.2222222222222222,
             "#7201a8"
            ],
            [
             0.3333333333333333,
             "#9c179e"
            ],
            [
             0.4444444444444444,
             "#bd3786"
            ],
            [
             0.5555555555555556,
             "#d8576b"
            ],
            [
             0.6666666666666666,
             "#ed7953"
            ],
            [
             0.7777777777777778,
             "#fb9f3a"
            ],
            [
             0.8888888888888888,
             "#fdca26"
            ],
            [
             1,
             "#f0f921"
            ]
           ],
           "sequentialminus": [
            [
             0,
             "#0d0887"
            ],
            [
             0.1111111111111111,
             "#46039f"
            ],
            [
             0.2222222222222222,
             "#7201a8"
            ],
            [
             0.3333333333333333,
             "#9c179e"
            ],
            [
             0.4444444444444444,
             "#bd3786"
            ],
            [
             0.5555555555555556,
             "#d8576b"
            ],
            [
             0.6666666666666666,
             "#ed7953"
            ],
            [
             0.7777777777777778,
             "#fb9f3a"
            ],
            [
             0.8888888888888888,
             "#fdca26"
            ],
            [
             1,
             "#f0f921"
            ]
           ]
          },
          "colorway": [
           "#636efa",
           "#EF553B",
           "#00cc96",
           "#ab63fa",
           "#FFA15A",
           "#19d3f3",
           "#FF6692",
           "#B6E880",
           "#FF97FF",
           "#FECB52"
          ],
          "font": {
           "color": "#2a3f5f"
          },
          "geo": {
           "bgcolor": "white",
           "lakecolor": "white",
           "landcolor": "#E5ECF6",
           "showlakes": true,
           "showland": true,
           "subunitcolor": "white"
          },
          "hoverlabel": {
           "align": "left"
          },
          "hovermode": "closest",
          "mapbox": {
           "style": "light"
          },
          "paper_bgcolor": "white",
          "plot_bgcolor": "#E5ECF6",
          "polar": {
           "angularaxis": {
            "gridcolor": "white",
            "linecolor": "white",
            "ticks": ""
           },
           "bgcolor": "#E5ECF6",
           "radialaxis": {
            "gridcolor": "white",
            "linecolor": "white",
            "ticks": ""
           }
          },
          "scene": {
           "xaxis": {
            "backgroundcolor": "#E5ECF6",
            "gridcolor": "white",
            "gridwidth": 2,
            "linecolor": "white",
            "showbackground": true,
            "ticks": "",
            "zerolinecolor": "white"
           },
           "yaxis": {
            "backgroundcolor": "#E5ECF6",
            "gridcolor": "white",
            "gridwidth": 2,
            "linecolor": "white",
            "showbackground": true,
            "ticks": "",
            "zerolinecolor": "white"
           },
           "zaxis": {
            "backgroundcolor": "#E5ECF6",
            "gridcolor": "white",
            "gridwidth": 2,
            "linecolor": "white",
            "showbackground": true,
            "ticks": "",
            "zerolinecolor": "white"
           }
          },
          "shapedefaults": {
           "line": {
            "color": "#2a3f5f"
           }
          },
          "ternary": {
           "aaxis": {
            "gridcolor": "white",
            "linecolor": "white",
            "ticks": ""
           },
           "baxis": {
            "gridcolor": "white",
            "linecolor": "white",
            "ticks": ""
           },
           "bgcolor": "#E5ECF6",
           "caxis": {
            "gridcolor": "white",
            "linecolor": "white",
            "ticks": ""
           }
          },
          "title": {
           "x": 0.05
          },
          "xaxis": {
           "automargin": true,
           "gridcolor": "white",
           "linecolor": "white",
           "ticks": "",
           "title": {
            "standoff": 15
           },
           "zerolinecolor": "white",
           "zerolinewidth": 2
          },
          "yaxis": {
           "automargin": true,
           "gridcolor": "white",
           "linecolor": "white",
           "ticks": "",
           "title": {
            "standoff": 15
           },
           "zerolinecolor": "white",
           "zerolinewidth": 2
          }
         }
        },
        "title": {
         "text": "Sankey Diagram for consortia uses"
        }
       }
      }
     },
     "metadata": {},
     "output_type": "display_data"
    }
   ],
   "source": [
    "#new sankey chart for FAMILY of organisms\n",
    "\n",
    "#creating a new dataframe to use in building the sankey chart\n",
    "\n",
    "#create an empty dataframe\n",
    "sankey_data = pd.DataFrame({'Source': [],\n",
    "                   'Target': [],\n",
    "                   'Value': [],\n",
    "                   'Color': []})\n",
    "\n",
    "organism_colouring = dict()\n",
    "colour_counter = 0\n",
    "\n",
    "#iterate over the rows of the dataframe\n",
    "for index, row in all_df.iterrows():\n",
    "#for index, row in df.iterrows():\n",
    "\n",
    "    #get lists of substrates, products, and organisms\n",
    "    substrates = row[\"Substrate\"].split(\", \")\n",
    "    organisms = row[\"Family\"].split(\", \")\n",
    "    products = row[\"Product\"].split(\", \")\n",
    "\n",
    "    #taking the first word to get the genus instead of the organisms\n",
    "    genuses = [organism.split(' ')[0] for organism in organisms]\n",
    "    #cluster the substrates and products using dictionaries\n",
    "    new_substrates = [substrate_map[substrate] for substrate in substrates]\n",
    "    new_products = [product_map[product] for product in products]\n",
    "\n",
    "    #adds colour to each organism using the pick_colour function\n",
    "    for genus in genuses:\n",
    "        if genus not in organism_colouring:\n",
    "            organism_colouring[genus] = pick_colour(genus)\n",
    "\n",
    "    #add links from each substrate to each organism\n",
    "    for substrate in new_substrates:\n",
    "        for genus in genuses:\n",
    "            sankey_data.loc[len(sankey_data.index)] = [substrate, genus, 1, organism_colouring[genus]]\n",
    "\n",
    "    #add links from each organism to each substrate\n",
    "    for genus in genuses:\n",
    "        for product in new_products:\n",
    "            sankey_data.loc[len(sankey_data.index)] = [genus, product, 1, organism_colouring[genus]]\n",
    "\n",
    "\n",
    "#needed modification for building the plot\n",
    "\n",
    "#get each unique source_target and a mapping to their index\n",
    "#unique_source_target = list(pd.unique(sankey_data[['Source', 'Target']].values.ravel('K')))\n",
    "unique_source_target = list(pd.unique(sankey_data[['Source', 'Target', 'Color']].values.ravel('K')))\n",
    "mapping_dict = {k: v for v, k in enumerate(unique_source_target)}\n",
    "sankey_data['Source'] = sankey_data['Source'].map(mapping_dict)\n",
    "sankey_data['Target'] = sankey_data['Target'].map(mapping_dict)\n",
    "sankey_dict = sankey_data.to_dict(orient='list')\n",
    "\n",
    "#setting colours for the nodes\n",
    "node_colours = [organism_colouring.get(i, \"grey\") for i in unique_source_target]\n",
    "\n",
    "#create diagram\n",
    "import plotly.express as px\n",
    "\n",
    "fig = go.Figure(data=[go.Sankey(\n",
    "    orientation = \"h\",\n",
    "    node = dict(\n",
    "      pad = 15,\n",
    "      thickness = 20,\n",
    "      line = dict(color = \"black\", width = 0.5),\n",
    "      label = unique_source_target,\n",
    "      #color = \"grey\"\n",
    "      color = node_colours\n",
    "    ),\n",
    "    link = dict(\n",
    "      source = sankey_dict[\"Source\"],\n",
    "      target = sankey_dict[\"Target\"],\n",
    "      value = sankey_dict[\"Value\"],\n",
    "      color = sankey_dict[\"Color\"]\n",
    "  ))])\n",
    "\n",
    "layout = dict(\n",
    "        title = \"Sankey Diagram for consortia uses\",\n",
    "    height = 850,\n",
    "    font = dict(\n",
    "      size = 8),)\n",
    "\n",
    "#show figure\n",
    "fig.update_layout(layout)\n",
    "fig.show()"
   ]
  },
  {
   "cell_type": "code",
   "execution_count": 209,
   "metadata": {},
   "outputs": [
    {
     "data": {
      "text/plain": [
       "Family\n",
       "Enterobacteriaceae        28\n",
       "Clostridiaceae            17\n",
       "Bacillaceae                7\n",
       "Saccharomycetaceae         7\n",
       "Hypocreaceae               5\n",
       "Eubacteriaceae             5\n",
       "Lactobacillaceae           3\n",
       "Acetobacteraceae           2\n",
       "Saccotheciaceae            2\n",
       "Aspergillaceae             2\n",
       "Enterococcaceae            2\n",
       "Veillonellaceae            2\n",
       "Dipodascaceae              1\n",
       "Phanerochaetaceae          1\n",
       "Thermoanaerobacterales     1\n",
       "Synechococcaceae           1\n",
       "Streptomycetaceae          1\n",
       "Streptococcaceae           1\n",
       "Sphingomonadaceae          1\n",
       "Shewanellaceae             1\n",
       "Schizophyllaceae           1\n",
       "Beijerinckiaceae           1\n",
       "Burkholderiaceae           1\n",
       "Rhizopodaceae              1\n",
       "Rhizobiaceae               1\n",
       "Pseudomonas                1\n",
       "Pseudomonadaceae           1\n",
       "Promicromonosporaceae      1\n",
       "Phaffomycetaceae           1\n",
       "Desulfuromonadaceae        1\n",
       "Pasteurellaceae            1\n",
       "Paenibacillaceae           1\n",
       "Oscillospiraceae           1\n",
       "Nitrobacteraceae           1\n",
       "Neocallimastigaceae        1\n",
       "Caulobacteraceae           1\n",
       "Moraxellaceae              1\n",
       "Methylocystaceae           1\n",
       "Corynebacteriaceae         1\n",
       "Lachnospiraceae            1\n",
       "Desulfobacteriaceae        1\n",
       "Halomonadaceae             1\n",
       "Geobacteraceae             1\n",
       "Fomitopsidaceae            1\n",
       "Mycosphaerellaceae         1\n",
       "dtype: int64"
      ]
     },
     "execution_count": 209,
     "metadata": {},
     "output_type": "execute_result"
    }
   ],
   "source": [
    "#Plot showing most common organisms\n",
    "import matplotlib.pyplot as plt\n",
    "\n",
    "o_df = df.copy()\n",
    "\n",
    "o_df[\"Family\"] = o_df[\"Family\"].str.split(\", \")\n",
    "\n",
    "# Use the explode function to create a new row for each animal\n",
    "o_df = o_df.explode(\"Family\")\n",
    "\n",
    "#group\n",
    "organism_per_journal = o_df.groupby(\"Family\").size()\n",
    "\n",
    "#sort by decending order\n",
    "organism_per_journal = organism_per_journal.sort_values(ascending=False)\n",
    "\n",
    "organism_per_journal\n",
    "\n",
    "# #make the plot\n",
    "# organism_per_journal[:14].plot.bar()\n",
    "# plt.style.use('default')\n",
    "\n",
    "# #plt.setp(plt.gca().get_xticklabels(), rotation=60, ha=\"right\", va=\"top\")\n",
    "\n",
    "# plt.ylabel(\"Number of publications\")\n",
    "# plt.show()"
   ]
  },
  {
   "cell_type": "code",
   "execution_count": 201,
   "metadata": {},
   "outputs": [
    {
     "ename": "KeyError",
     "evalue": "'Thermoanaerobacterales'",
     "output_type": "error",
     "traceback": [
      "\u001b[0;31m---------------------------------------------------------------------------\u001b[0m",
      "\u001b[0;31mKeyError\u001b[0m                                  Traceback (most recent call last)",
      "File \u001b[0;32m~/Projects/BIOTBT3900/venv/lib/python3.10/site-packages/pandas/core/indexes/base.py:3803\u001b[0m, in \u001b[0;36mIndex.get_loc\u001b[0;34m(self, key, method, tolerance)\u001b[0m\n\u001b[1;32m   3802\u001b[0m \u001b[39mtry\u001b[39;00m:\n\u001b[0;32m-> 3803\u001b[0m     \u001b[39mreturn\u001b[39;00m \u001b[39mself\u001b[39;49m\u001b[39m.\u001b[39;49m_engine\u001b[39m.\u001b[39;49mget_loc(casted_key)\n\u001b[1;32m   3804\u001b[0m \u001b[39mexcept\u001b[39;00m \u001b[39mKeyError\u001b[39;00m \u001b[39mas\u001b[39;00m err:\n",
      "File \u001b[0;32m~/Projects/BIOTBT3900/venv/lib/python3.10/site-packages/pandas/_libs/index.pyx:138\u001b[0m, in \u001b[0;36mpandas._libs.index.IndexEngine.get_loc\u001b[0;34m()\u001b[0m\n",
      "File \u001b[0;32m~/Projects/BIOTBT3900/venv/lib/python3.10/site-packages/pandas/_libs/index.pyx:165\u001b[0m, in \u001b[0;36mpandas._libs.index.IndexEngine.get_loc\u001b[0;34m()\u001b[0m\n",
      "File \u001b[0;32mpandas/_libs/hashtable_class_helper.pxi:5745\u001b[0m, in \u001b[0;36mpandas._libs.hashtable.PyObjectHashTable.get_item\u001b[0;34m()\u001b[0m\n",
      "File \u001b[0;32mpandas/_libs/hashtable_class_helper.pxi:5753\u001b[0m, in \u001b[0;36mpandas._libs.hashtable.PyObjectHashTable.get_item\u001b[0;34m()\u001b[0m\n",
      "\u001b[0;31mKeyError\u001b[0m: 'Thermoanaerobacterales'",
      "\nThe above exception was the direct cause of the following exception:\n",
      "\u001b[0;31mKeyError\u001b[0m                                  Traceback (most recent call last)",
      "\u001b[1;32m/Users/andreastallvik/Projects/BIOTBT3900/literature search/sankey_diagram.ipynb Cell 18\u001b[0m in \u001b[0;36m1\n\u001b[0;32m----> <a href='vscode-notebook-cell:/Users/andreastallvik/Projects/BIOTBT3900/literature%20search/sankey_diagram.ipynb#X30sZmlsZQ%3D%3D?line=0'>1</a>\u001b[0m organism_per_journal[\u001b[39m'\u001b[39;49m\u001b[39mThermoanaerobacterales\u001b[39;49m\u001b[39m'\u001b[39;49m]\n",
      "File \u001b[0;32m~/Projects/BIOTBT3900/venv/lib/python3.10/site-packages/pandas/core/series.py:981\u001b[0m, in \u001b[0;36mSeries.__getitem__\u001b[0;34m(self, key)\u001b[0m\n\u001b[1;32m    978\u001b[0m     \u001b[39mreturn\u001b[39;00m \u001b[39mself\u001b[39m\u001b[39m.\u001b[39m_values[key]\n\u001b[1;32m    980\u001b[0m \u001b[39melif\u001b[39;00m key_is_scalar:\n\u001b[0;32m--> 981\u001b[0m     \u001b[39mreturn\u001b[39;00m \u001b[39mself\u001b[39;49m\u001b[39m.\u001b[39;49m_get_value(key)\n\u001b[1;32m    983\u001b[0m \u001b[39mif\u001b[39;00m is_hashable(key):\n\u001b[1;32m    984\u001b[0m     \u001b[39m# Otherwise index.get_value will raise InvalidIndexError\u001b[39;00m\n\u001b[1;32m    985\u001b[0m     \u001b[39mtry\u001b[39;00m:\n\u001b[1;32m    986\u001b[0m         \u001b[39m# For labels that don't resolve as scalars like tuples and frozensets\u001b[39;00m\n",
      "File \u001b[0;32m~/Projects/BIOTBT3900/venv/lib/python3.10/site-packages/pandas/core/series.py:1089\u001b[0m, in \u001b[0;36mSeries._get_value\u001b[0;34m(self, label, takeable)\u001b[0m\n\u001b[1;32m   1086\u001b[0m     \u001b[39mreturn\u001b[39;00m \u001b[39mself\u001b[39m\u001b[39m.\u001b[39m_values[label]\n\u001b[1;32m   1088\u001b[0m \u001b[39m# Similar to Index.get_value, but we do not fall back to positional\u001b[39;00m\n\u001b[0;32m-> 1089\u001b[0m loc \u001b[39m=\u001b[39m \u001b[39mself\u001b[39;49m\u001b[39m.\u001b[39;49mindex\u001b[39m.\u001b[39;49mget_loc(label)\n\u001b[1;32m   1090\u001b[0m \u001b[39mreturn\u001b[39;00m \u001b[39mself\u001b[39m\u001b[39m.\u001b[39mindex\u001b[39m.\u001b[39m_get_values_for_loc(\u001b[39mself\u001b[39m, loc, label)\n",
      "File \u001b[0;32m~/Projects/BIOTBT3900/venv/lib/python3.10/site-packages/pandas/core/indexes/base.py:3805\u001b[0m, in \u001b[0;36mIndex.get_loc\u001b[0;34m(self, key, method, tolerance)\u001b[0m\n\u001b[1;32m   3803\u001b[0m     \u001b[39mreturn\u001b[39;00m \u001b[39mself\u001b[39m\u001b[39m.\u001b[39m_engine\u001b[39m.\u001b[39mget_loc(casted_key)\n\u001b[1;32m   3804\u001b[0m \u001b[39mexcept\u001b[39;00m \u001b[39mKeyError\u001b[39;00m \u001b[39mas\u001b[39;00m err:\n\u001b[0;32m-> 3805\u001b[0m     \u001b[39mraise\u001b[39;00m \u001b[39mKeyError\u001b[39;00m(key) \u001b[39mfrom\u001b[39;00m \u001b[39merr\u001b[39;00m\n\u001b[1;32m   3806\u001b[0m \u001b[39mexcept\u001b[39;00m \u001b[39mTypeError\u001b[39;00m:\n\u001b[1;32m   3807\u001b[0m     \u001b[39m# If we have a listlike key, _check_indexing_error will raise\u001b[39;00m\n\u001b[1;32m   3808\u001b[0m     \u001b[39m#  InvalidIndexError. Otherwise we fall through and re-raise\u001b[39;00m\n\u001b[1;32m   3809\u001b[0m     \u001b[39m#  the TypeError.\u001b[39;00m\n\u001b[1;32m   3810\u001b[0m     \u001b[39mself\u001b[39m\u001b[39m.\u001b[39m_check_indexing_error(key)\n",
      "\u001b[0;31mKeyError\u001b[0m: 'Thermoanaerobacterales'"
     ]
    }
   ],
   "source": [
    "organism_per_journal['Thermoanaerobacterales']"
   ]
  },
  {
   "cell_type": "code",
   "execution_count": null,
   "metadata": {},
   "outputs": [],
   "source": []
  }
 ],
 "metadata": {
  "kernelspec": {
   "display_name": "venv",
   "language": "python",
   "name": "python3"
  },
  "language_info": {
   "codemirror_mode": {
    "name": "ipython",
    "version": 3
   },
   "file_extension": ".py",
   "mimetype": "text/x-python",
   "name": "python",
   "nbconvert_exporter": "python",
   "pygments_lexer": "ipython3",
   "version": "3.10.7"
  },
  "orig_nbformat": 4,
  "vscode": {
   "interpreter": {
    "hash": "4f87d8cc7474284f9c8af45145bf3bf74399b799d77169da0898430a19e4b3ea"
   }
  }
 },
 "nbformat": 4,
 "nbformat_minor": 2
}
