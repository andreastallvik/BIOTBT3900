{
 "cells": [
  {
   "cell_type": "code",
   "execution_count": 1,
   "metadata": {},
   "outputs": [],
   "source": [
    "import matplotlib.pyplot as plt\n",
    "import pandas as pd\n",
    "import networkx as nx\n",
    "\n",
    "df = pd.read_csv(\"extra_articles.csv\")"
   ]
  },
  {
   "cell_type": "code",
   "execution_count": 17,
   "metadata": {},
   "outputs": [],
   "source": [
    "G = nx.Graph()\n",
    "\n",
    "edges = [(1,3), (3,4), (4,2)]\n",
    "\n",
    "G.add_edges_from(edges)"
   ]
  },
  {
   "cell_type": "code",
   "execution_count": 18,
   "metadata": {},
   "outputs": [
    {
     "data": {
      "text/plain": [
       "NodeView((1, 3, 4, 2))"
      ]
     },
     "execution_count": 18,
     "metadata": {},
     "output_type": "execute_result"
    }
   ],
   "source": [
    "G.nodes"
   ]
  },
  {
   "cell_type": "code",
   "execution_count": 2,
   "metadata": {},
   "outputs": [],
   "source": [
    "#extract info from dataframe\n",
    "\n",
    "nodes = []\n",
    "edges = []\n",
    "\n",
    "for index, row in df.iterrows():\n",
    "\n",
    "    substrates = row[\"Substrate\"].split(\", \")\n",
    "    products = row[\"Product\"].split(\", \")\n",
    "\n",
    "    for substrate in substrates:\n",
    "        nodes.append(substrate)\n",
    "\n",
    "        for product in products:\n",
    "            nodes.append(product)\n",
    "            \n",
    "            edge = (substrate , product)\n",
    "            edges.append(edge)\n",
    "\n",
    "set_of_nodes = set(nodes)\n",
    "\n",
    "#build network\n",
    "\n",
    "reactionNetwork = nx.DiGraph()\n",
    "\n",
    "for n in set_of_nodes:\n",
    "    s = 5+nodes.count(n)\n",
    "    reactionNetwork.add_node(n, size=s)\n",
    "\n",
    "reactionNetwork.add_edges_from(edges)"
   ]
  },
  {
   "cell_type": "code",
   "execution_count": 3,
   "metadata": {},
   "outputs": [],
   "source": [
    "#visualise network\n",
    "\n",
    "from pyvis.network import Network\n",
    "\n",
    "nt = Network('1000px', '1800px', directed=True)\n",
    "nt.from_nx(reactionNetwork)\n",
    "nt.show('testing-reaction-network.html')"
   ]
  },
  {
   "cell_type": "code",
   "execution_count": null,
   "metadata": {},
   "outputs": [],
   "source": []
  }
 ],
 "metadata": {
  "kernelspec": {
   "display_name": "venv",
   "language": "python",
   "name": "python3"
  },
  "language_info": {
   "codemirror_mode": {
    "name": "ipython",
    "version": 3
   },
   "file_extension": ".py",
   "mimetype": "text/x-python",
   "name": "python",
   "nbconvert_exporter": "python",
   "pygments_lexer": "ipython3",
   "version": "3.10.7"
  },
  "orig_nbformat": 4,
  "vscode": {
   "interpreter": {
    "hash": "4f87d8cc7474284f9c8af45145bf3bf74399b799d77169da0898430a19e4b3ea"
   }
  }
 },
 "nbformat": 4,
 "nbformat_minor": 2
}
