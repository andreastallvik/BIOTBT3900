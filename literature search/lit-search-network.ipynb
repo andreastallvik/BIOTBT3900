{
 "cells": [
  {
   "cell_type": "code",
   "execution_count": 1,
   "metadata": {},
   "outputs": [],
   "source": [
    "import matplotlib.pyplot as plt\n",
    "import pandas as pd\n",
    "import networkx as nx\n",
    "\n",
    "df = pd.read_csv(\"all_articles.csv\")"
   ]
  },
  {
   "cell_type": "code",
   "execution_count": 2,
   "metadata": {},
   "outputs": [],
   "source": [
    "#read data from file and crate datastructures in dictionaries\n",
    "\n",
    "nodes = {}\n",
    "edges = {}\n",
    "\n",
    "for index, row in df.iterrows():\n",
    "\n",
    "    #get substrates and products\n",
    "    substrates = row[\"Substrate\"].split(\", \")\n",
    "    products = row[\"Product\"].split(\", \")\n",
    "\n",
    "    #get type of community\n",
    "    c_type = row[\"Community type\"]\n",
    "    if c_type == \"Undefined\":\n",
    "        c_type = 'red'\n",
    "    elif c_type == \"Defined\":\n",
    "        c_type = 'blue'\n",
    "\n",
    "    for substrate in substrates:\n",
    "        #add to dict with substrate as key and c_type as value\n",
    "        if substrate in nodes:\n",
    "            c = nodes[substrate][0]\n",
    "            s = nodes[substrate][1]\n",
    "            #check colour\n",
    "            new_c = c_type\n",
    "            if c != c_type:\n",
    "                new_c = \"yellow\"\n",
    "\n",
    "            nodes[substrate] = (new_c, s+1)\n",
    "        else:\n",
    "            nodes[substrate] = (c_type, 1)\n",
    "\n",
    "        for product in products:\n",
    "            #add to dict with prucuct as key and c_type as value\n",
    "            #if edge already exists, check the colour\n",
    "\n",
    "            if product in nodes:\n",
    "                c = nodes[product][0]\n",
    "                s = nodes[product][1]\n",
    "                #check colour\n",
    "                new_c = c_type\n",
    "                if c != c_type:\n",
    "                    new_c = \"yellow\"\n",
    "\n",
    "                nodes[product] = (new_c, s+1)\n",
    "            else:\n",
    "                nodes[product] = (c_type, 1)\n",
    "\n",
    "            #add the edges!\n",
    "            edge = (substrate , product)\n",
    "            edges[edge] = c_type\n"
   ]
  },
  {
   "cell_type": "code",
   "execution_count": 3,
   "metadata": {},
   "outputs": [],
   "source": [
    "#build network\n",
    "reactionNetwork = nx.DiGraph()\n",
    "\n",
    "#add nodes with apropriate size and colour\n",
    "for n in nodes.keys():\n",
    "    c = nodes[n][0] \n",
    "    s = 5 + nodes[n][1] \n",
    "    reactionNetwork.add_node(n, size=s, color = c)\n",
    "\n",
    "#add the edges with appropriate colour\n",
    "for e in edges:\n",
    "    u = e[0]\n",
    "    v = e[1]\n",
    "    c_type = edges[e]\n",
    "    reactionNetwork.add_edge(u, v, color = c_type)"
   ]
  },
  {
   "cell_type": "code",
   "execution_count": 4,
   "metadata": {},
   "outputs": [],
   "source": [
    "#visualise network\n",
    "\n",
    "from pyvis.network import Network\n",
    "\n",
    "nt = Network('1000px', '1800px', directed=True)\n",
    "nt.from_nx(reactionNetwork)\n",
    "nt.show('plots/undefined_defined_compounds_network.html')"
   ]
  },
  {
   "cell_type": "code",
   "execution_count": null,
   "metadata": {},
   "outputs": [],
   "source": []
  }
 ],
 "metadata": {
  "kernelspec": {
   "display_name": "venv",
   "language": "python",
   "name": "python3"
  },
  "language_info": {
   "codemirror_mode": {
    "name": "ipython",
    "version": 3
   },
   "file_extension": ".py",
   "mimetype": "text/x-python",
   "name": "python",
   "nbconvert_exporter": "python",
   "pygments_lexer": "ipython3",
   "version": "3.10.7"
  },
  "orig_nbformat": 4,
  "vscode": {
   "interpreter": {
    "hash": "4f87d8cc7474284f9c8af45145bf3bf74399b799d77169da0898430a19e4b3ea"
   }
  }
 },
 "nbformat": 4,
 "nbformat_minor": 2
}
